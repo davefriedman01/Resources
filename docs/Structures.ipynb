{
 "cells": [
  {
   "cell_type": "markdown",
   "id": "1700db0d-b3e3-4e78-af03-6c26760eecb2",
   "metadata": {},
   "source": [
    "# Structures"
   ]
  },
  {
   "cell_type": "markdown",
   "id": "5f1c0eaa-fbc9-4873-ad8a-24600966eb54",
   "metadata": {},
   "source": [
    "---"
   ]
  },
  {
   "cell_type": "markdown",
   "id": "665a9d1a-ba6a-4619-b5c9-7fb294e316b6",
   "metadata": {},
   "source": [
    "<span style=\"color: blue; font-size: 20px;\">**Operation**</span>"
   ]
  },
  {
   "cell_type": "markdown",
   "id": "8f3368f8-6999-4971-b0ae-14d575493386",
   "metadata": {},
   "source": [
    "An operation may also be called a function or a computation."
   ]
  },
  {
   "cell_type": "markdown",
   "id": "9ebb2583-0a8d-4ed9-855a-435e10ebd82c",
   "metadata": {},
   "source": [
    "Let $A$ be a nonempty set.<br>\n",
    "For example, a __unary operation__ on $A$ is a function from $A$ to $A$.<br>\n",
    "A __binary operation__ on $A$ is a function from $A \\times A$ to $A$.<br>\n",
    "A __ternary operation__ on $A$ is a function from $A \\times A \\times A$ to $A$.<br>\n",
    "In general, an __$n$-ary operation__ on $A$ is a function from $\\underbrace{A \\times A \\times ... \\times A}_{n \\,\\text{times}}$ to $A$.<br>"
   ]
  },
  {
   "cell_type": "markdown",
   "id": "e718ce3e-6e64-4d82-8182-7e2e020cbf28",
   "metadata": {},
   "source": [
    "A note on notation:\n",
    "\n",
    "__Infix notation__ is standard in integer arithmetic $2 + 2 = 4$\n",
    "\n",
    "__Prefix notation__ places the operation before its operands like this $+ \\, 2 \\, 2 = 4$\n",
    "\n",
    "__Function notation__ is a special form of prefix notation $+(2, 2)$; or more commonly, $\\text{add}(2, 2)$"
   ]
  },
  {
   "cell_type": "markdown",
   "id": "2b12f898-70d5-427a-86fc-5ade0947ddc2",
   "metadata": {},
   "source": [
    "---"
   ]
  },
  {
   "cell_type": "markdown",
   "id": "f0fa64a4-f9f3-47d4-bcd4-755ce9ab955a",
   "metadata": {},
   "source": [
    "<span style=\"color: blue; font-size: 20px;\">**Structure**</span>"
   ]
  },
  {
   "cell_type": "markdown",
   "id": "9561cdd6-a374-4132-ac87-7eb87dccd224",
   "metadata": {},
   "source": [
    "A structure is a nonempty set $A$ with a collection of one or more operations on $A$ and a possibly empty collection of relations on $A$.<br>\n",
    "A structure may also be called an algebraic structure or an algebraic system.<br>"
   ]
  },
  {
   "cell_type": "markdown",
   "id": "2893aba7-075b-415a-92b6-e17fcacf4459",
   "metadata": {},
   "source": [
    "The __order__ of a structure is the order of its set.<br>"
   ]
  },
  {
   "cell_type": "markdown",
   "id": "d415c282-a089-436d-891d-83ea65c05319",
   "metadata": {},
   "source": [
    "Examples of structures:\n",
    "\n",
    "$(\\mathbb{R}, +, \\cdot, \\lt)$\n",
    "* order infinite\n",
    "\n",
    "$(\\mathbb{R}, \\cdot)$\n",
    "* order infinite\n",
    "\n",
    "$(\\mathbb{R}, +)$\n",
    "* order infinite\n",
    "\n",
    "$(\\mathbb{Q}, \\cdot)$\n",
    "* order infinite\n",
    "* closed under $\\cdot$\n",
    "\n",
    "$(\\mathbb{Q}, +)$\n",
    "* order infinite\n",
    "* closed under $+$\n",
    "\n",
    "$(\\mathbb{N}, +, \\lt)$\n",
    "* order infinite\n",
    "\n",
    "$(\\mathbb{E}, \\cdot)$ the set of even integers\n",
    "* order infinite\n",
    "* closed under $\\cdot$\n",
    "\n",
    "$(\\mathbb{E}, +)$ the set of even integers\n",
    "* order infinite\n",
    "* closed under $+$\n",
    "\n",
    "$((0, 1), \\cdot)$ the open interval $(0, 1)$\n",
    "* order infinite\n",
    "* closed under $\\cdot$\n",
    "\n",
    "$((0, 1), +)$ the open interval $(0, 1)$\n",
    "* order infinite\n",
    "* not closed under $+$\n",
    "\n",
    "$(\\{0, 1\\}, \\cdot)$\n",
    "* order 2\n",
    "* closed under $\\cdot$\n",
    "\n",
    "$(\\{0, 1\\}, +)$\n",
    "* order 2\n",
    "* not closed under $+$\n",
    "\n",
    "$(\\{0\\}, \\cdot)$\n",
    "* order 1\n",
    "* closed under $\\cdot$\n",
    "\n",
    "$(\\{0\\}, +)$\n",
    "* order 1\n",
    "* closed under $+$"
   ]
  },
  {
   "cell_type": "markdown",
   "id": "9a924b9d-8e4e-4fbc-bc62-abe513049997",
   "metadata": {},
   "source": [
    "<span style=\"color: blue; font-size: 20px;\">**Properties of Structures**</span>"
   ]
  },
  {
   "cell_type": "markdown",
   "id": "3172c211-fd66-4b32-98a6-243d25835616",
   "metadata": {},
   "source": [
    "### Closure"
   ]
  },
  {
   "cell_type": "markdown",
   "id": "b39597cf-8de9-4956-917e-0da7796c6d1b",
   "metadata": {},
   "source": [
    "Let $(A, *)$ be a structure and let $B$ be a subset of $A$.<br>\n",
    "$B$ is _closed under $*$_ iff for all $x, y \\in B, x * y \\in B$.<br>"
   ]
  },
  {
   "cell_type": "markdown",
   "id": "6d3c78db-6a8b-4301-9dd6-52c9e7fa5f55",
   "metadata": {},
   "source": [
    "$A$ is closed under $*$ since $*$ is a function that maps to $A$.<br>\n",
    "For any proper subset $B$ of $A$ that is closed under $*$, the same operation $*$ is used to denote the restriction of the operation to $B \\times B$.<br>"
   ]
  },
  {
   "cell_type": "markdown",
   "id": "223553f9-4bfa-47d7-afab-902f7f9d02f8",
   "metadata": {},
   "source": [
    "The following statements are equivalent:\n",
    "\n",
    "$B$ is closed under $*$<br>\n",
    "$*$ is an operation on $B$<br>\n",
    "$(B, *)$ is a structure<br>"
   ]
  },
  {
   "cell_type": "markdown",
   "id": "f1dcf3ad-dc73-4560-af44-59539b2e017d",
   "metadata": {},
   "source": [
    "---"
   ]
  }
 ],
 "metadata": {
  "kernelspec": {
   "display_name": "Python 3",
   "language": "python",
   "name": "python3"
  },
  "language_info": {
   "codemirror_mode": {
    "name": "ipython",
    "version": 3
   },
   "file_extension": ".py",
   "mimetype": "text/x-python",
   "name": "python",
   "nbconvert_exporter": "python",
   "pygments_lexer": "ipython3",
   "version": "3.8.2"
  }
 },
 "nbformat": 4,
 "nbformat_minor": 5
}
