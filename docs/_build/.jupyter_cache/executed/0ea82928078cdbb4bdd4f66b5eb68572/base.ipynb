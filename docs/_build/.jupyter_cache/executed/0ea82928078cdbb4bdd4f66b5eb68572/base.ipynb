{
 "cells": [
  {
   "cell_type": "code",
   "execution_count": 1,
   "metadata": {},
   "outputs": [],
   "source": [
    "from itertools import product\n",
    "import numpy as np"
   ]
  },
  {
   "cell_type": "code",
   "execution_count": 2,
   "metadata": {},
   "outputs": [],
   "source": [
    "def v (n, q):\n",
    "    \"\"\"construct a linear space of dimension n over a finite field of order q\"\"\"\n",
    "    return [''.join(str(pos) for pos in comb) for comb in list(product(range(q), repeat=n))]"
   ]
  },
  {
   "cell_type": "code",
   "execution_count": 3,
   "metadata": {},
   "outputs": [
    {
     "name": "stdout",
     "output_type": "stream",
     "text": [
      "Messages\n",
      "[[0 0]\n",
      " [0 1]\n",
      " [0 2]\n",
      " [1 0]\n",
      " [1 1]\n",
      " [1 2]\n",
      " [2 0]\n",
      " [2 1]\n",
      " [2 2]]\n",
      "\n",
      "Standard-Form Generator\n",
      "[[1 0 2 2]\n",
      " [0 1 2 1]]\n",
      "\n",
      "Code\n",
      "[[0 0 0 0]\n",
      " [0 1 2 1]\n",
      " [0 2 1 2]\n",
      " [1 0 2 2]\n",
      " [1 1 1 0]\n",
      " [1 2 0 1]\n",
      " [2 0 1 1]\n",
      " [2 1 0 2]\n",
      " [2 2 2 0]]\n"
     ]
    }
   ],
   "source": [
    "n = 2\n",
    "q = 3\n",
    "messages = np.array([list(i) for i in v(n, q)], dtype=int)\n",
    "generator = np.array([['1', '0', '2', '2'], ['0', '1', '2', '1']], dtype=int)\n",
    "code = np.mod(np.dot(messages, generator), q)\n",
    "\n",
    "print('Messages')\n",
    "print(messages)\n",
    "print()\n",
    "print('Standard-Form Generator')\n",
    "print(generator)\n",
    "print()\n",
    "print('Code')\n",
    "print(code)"
   ]
  },
  {
   "cell_type": "code",
   "execution_count": null,
   "metadata": {},
   "outputs": [],
   "source": []
  }
 ],
 "metadata": {
  "kernelspec": {
   "display_name": "Python 3",
   "language": "python",
   "name": "python3"
  },
  "language_info": {
   "codemirror_mode": {
    "name": "ipython",
    "version": 3
   },
   "file_extension": ".py",
   "mimetype": "text/x-python",
   "name": "python",
   "nbconvert_exporter": "python",
   "pygments_lexer": "ipython3",
   "version": "3.8.2"
  }
 },
 "nbformat": 4,
 "nbformat_minor": 4
}