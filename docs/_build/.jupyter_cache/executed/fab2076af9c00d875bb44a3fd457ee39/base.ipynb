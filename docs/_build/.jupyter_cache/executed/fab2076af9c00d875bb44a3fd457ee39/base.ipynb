{
 "cells": [
  {
   "cell_type": "code",
   "execution_count": 1,
   "id": "fc34d4ec-7ab7-4f81-9caf-1e08cf572d12",
   "metadata": {},
   "outputs": [
    {
     "data": {
      "text/plain": [
       "20"
      ]
     },
     "metadata": {},
     "output_type": "display_data"
    },
    {
     "data": {
      "text/plain": [
       "20"
      ]
     },
     "metadata": {},
     "output_type": "display_data"
    },
    {
     "data": {
      "text/plain": [
       "37"
      ]
     },
     "metadata": {},
     "output_type": "display_data"
    },
    {
     "data": {
      "text/plain": [
       "37"
      ]
     },
     "metadata": {},
     "output_type": "display_data"
    },
    {
     "data": {
      "text/plain": [
       "37"
      ]
     },
     "metadata": {},
     "output_type": "display_data"
    },
    {
     "data": {
      "text/plain": [
       "51"
      ]
     },
     "metadata": {},
     "output_type": "display_data"
    },
    {
     "data": {
      "text/plain": [
       "51"
      ]
     },
     "metadata": {},
     "output_type": "display_data"
    },
    {
     "data": {
      "text/plain": [
       "41"
      ]
     },
     "metadata": {},
     "output_type": "display_data"
    },
    {
     "data": {
      "text/plain": [
       "41"
      ]
     },
     "metadata": {},
     "output_type": "display_data"
    }
   ],
   "source": [
    "display(\n",
    "    (44 + 33) % 57,\n",
    "    (44 % 57 + 33 % 57) % 57,\n",
    "    \n",
    "    (9 - 29) % 57,\n",
    "    (9 + (-29)) % 57,\n",
    "    (9 % 57 + (-29) % 57) % 57,\n",
    "    \n",
    "    (17 + 42 + 49) % 57,\n",
    "    (17 % 57 + 42 % 57 + 49 % 57) % 57,\n",
    "    \n",
    "    (52 - 30 - 38) % 57,\n",
    "    (52 % 57 - 30 % 57 - 38 % 57) % 57,\n",
    ")"
   ]
  },
  {
   "cell_type": "code",
   "execution_count": 2,
   "id": "16801db8-4bbb-48bf-86ac-fe48e3993c15",
   "metadata": {},
   "outputs": [
    {
     "data": {
      "text/plain": [
       "132525"
      ]
     },
     "metadata": {},
     "output_type": "display_data"
    },
    {
     "data": {
      "text/plain": [
       "3"
      ]
     },
     "metadata": {},
     "output_type": "display_data"
    },
    {
     "data": {
      "text/plain": [
       "3"
      ]
     },
     "metadata": {},
     "output_type": "display_data"
    },
    {
     "data": {
      "text/plain": [
       "184756"
      ]
     },
     "metadata": {},
     "output_type": "display_data"
    },
    {
     "data": {
      "text/plain": [
       "0"
      ]
     },
     "metadata": {},
     "output_type": "display_data"
    },
    {
     "data": {
      "text/plain": [
       "0"
      ]
     },
     "metadata": {},
     "output_type": "display_data"
    },
    {
     "data": {
      "text/plain": [
       "9824585935875405405873621046934295249373163345274197996543779245714472948044575493508622853379178496"
      ]
     },
     "metadata": {},
     "output_type": "display_data"
    },
    {
     "data": {
      "text/plain": [
       "1"
      ]
     },
     "metadata": {},
     "output_type": "display_data"
    },
    {
     "data": {
      "text/plain": [
       "1"
      ]
     },
     "metadata": {},
     "output_type": "display_data"
    },
    {
     "data": {
      "text/plain": [
       "1"
      ]
     },
     "metadata": {},
     "output_type": "display_data"
    }
   ],
   "source": [
    "display(\n",
    "    (95 * 45 * 31),\n",
    "    (95 * 45 * 31) % 13,\n",
    "    (95 % 13 * 45 % 13 * 31 % 13) % 13,\n",
    "    \n",
    "    (17 * 13 * 19 * 44),\n",
    "    (17 * 13 * 19 * 44) % 13,\n",
    "    (17 % 13 * 13 % 13 * 19 % 13 * 44 % 13) % 13,\n",
    "    \n",
    "    (12**7 * 77**49),\n",
    "    (12**7 * 77**49) % 13,\n",
    "    (12**7 % 13 * 77**49 % 13) % 13,\n",
    "    (12 * 77) % 13,\n",
    ")"
   ]
  },
  {
   "cell_type": "code",
   "execution_count": 3,
   "id": "388eacfc-e8e0-438c-8356-dc15db0031c1",
   "metadata": {},
   "outputs": [
    {
     "data": {
      "text/plain": [
       "4"
      ]
     },
     "metadata": {},
     "output_type": "display_data"
    },
    {
     "data": {
      "text/plain": [
       "29"
      ]
     },
     "metadata": {},
     "output_type": "display_data"
    },
    {
     "data": {
      "text/plain": [
       "13"
      ]
     },
     "metadata": {},
     "output_type": "display_data"
    }
   ],
   "source": [
    "p = 31\n",
    "display(\n",
    "    # 3/24\n",
    "    pow(24, p-2, p) * 3 % p,\n",
    "    # 17^-3\n",
    "    pow(17, p-4, p),\n",
    "    # 4^-4 * 11\n",
    "    pow(4, p-5, p) * 11 % p\n",
    ")"
   ]
  }
 ],
 "metadata": {
  "kernelspec": {
   "display_name": "Python 3",
   "language": "python",
   "name": "python3"
  },
  "language_info": {
   "codemirror_mode": {
    "name": "ipython",
    "version": 3
   },
   "file_extension": ".py",
   "mimetype": "text/x-python",
   "name": "python",
   "nbconvert_exporter": "python",
   "pygments_lexer": "ipython3",
   "version": "3.8.2"
  }
 },
 "nbformat": 4,
 "nbformat_minor": 5
}