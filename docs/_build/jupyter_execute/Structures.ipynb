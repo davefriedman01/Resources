{
 "cells": [
  {
   "cell_type": "markdown",
   "id": "1700db0d-b3e3-4e78-af03-6c26760eecb2",
   "metadata": {},
   "source": [
    "# Structures"
   ]
  },
  {
   "cell_type": "markdown",
   "id": "5f1c0eaa-fbc9-4873-ad8a-24600966eb54",
   "metadata": {},
   "source": [
    "---"
   ]
  },
  {
   "cell_type": "markdown",
   "id": "665a9d1a-ba6a-4619-b5c9-7fb294e316b6",
   "metadata": {},
   "source": [
    "## What is an operation?"
   ]
  },
  {
   "cell_type": "markdown",
   "id": "8f3368f8-6999-4971-b0ae-14d575493386",
   "metadata": {},
   "source": [
    "<span style=\"color: blue\">Note:</span><br>\n",
    "An operation may also be called a function or a computation."
   ]
  },
  {
   "cell_type": "markdown",
   "id": "9ebb2583-0a8d-4ed9-855a-435e10ebd82c",
   "metadata": {},
   "source": [
    "<span style=\"color: blue\">**DEFINITION**</span><br>\n",
    "Let $A$ be a nonempty set.<br>\n",
    "A __unary operation__ on $A$ is a function from $A$ to $A$.<br>\n",
    "A __binary operation__ on $A$ is a function from $A \\times A$ to $A$.<br>\n",
    "A __ternary operation__ on $A$ is a function from $A \\times A \\times A$ to $A$.<br>\n",
    "In general, an __$n$-ary operation__ on $A$ is a function from $\\underbrace{A \\times A \\times ... \\times A}_{n \\,\\text{times}}$ to $A$.<br>"
   ]
  },
  {
   "cell_type": "markdown",
   "id": "e718ce3e-6e64-4d82-8182-7e2e020cbf28",
   "metadata": {},
   "source": [
    "<span style=\"color: blue\">Notation</span><br>\n",
    "__Infix notation__ is standard in integer arithmetic $2 + 2 = 4$<br>\n",
    "__Prefix notation__ places the operation before its operands like this $+ \\, 2 \\, 2 = 4$<br>\n",
    "__Function notation__ is a special form of prefix notation $+(2, 2)$; or more commonly, $\\text{add}(2, 2)$<br>"
   ]
  },
  {
   "cell_type": "markdown",
   "id": "2b12f898-70d5-427a-86fc-5ade0947ddc2",
   "metadata": {},
   "source": [
    "---"
   ]
  },
  {
   "cell_type": "markdown",
   "id": "f0fa64a4-f9f3-47d4-bcd4-755ce9ab955a",
   "metadata": {},
   "source": [
    "## What is a structure?"
   ]
  },
  {
   "cell_type": "markdown",
   "id": "009169ad-a41e-4a6e-85cd-e522cfce3987",
   "metadata": {},
   "source": [
    "<span style=\"color: blue\">**DEFINITION**</span><br>\n",
    "A structure is a nonempty set $A$ with a collection of one or more operations on $A$ and a possibly empty collection of relations on $A$.<br>"
   ]
  },
  {
   "cell_type": "markdown",
   "id": "39f65dfe-ca7b-4a2f-9998-3c4f7df16dcd",
   "metadata": {},
   "source": [
    "<span style=\"color: blue\">Note:</span><br>\n",
    "A structure may also be called an algebraic structure or an algebraic system.<br>"
   ]
  },
  {
   "cell_type": "markdown",
   "id": "2893aba7-075b-415a-92b6-e17fcacf4459",
   "metadata": {},
   "source": [
    "<span style=\"color: blue\">**DEFINITION**</span><br>\n",
    "The __order__ of a structure is the order of its set.<br>"
   ]
  },
  {
   "cell_type": "markdown",
   "id": "d415c282-a089-436d-891d-83ea65c05319",
   "metadata": {},
   "source": [
    "<span style=\"color: green\">Example</span><br>\n",
    "Examples of structures:\n",
    "\n",
    "$(\\mathbb{R}, +, \\cdot, \\lt)$\n",
    "* order infinite\n",
    "\n",
    "$(\\mathbb{R}, \\cdot)$\n",
    "* order infinite\n",
    "\n",
    "$(\\mathbb{R}, +)$\n",
    "* order infinite\n",
    "* closed under $+$\n",
    "* associative\n",
    "* commutative\n",
    "* identity element 0\n",
    "* every element has an inverse: its negative\n",
    "\n",
    "$(\\mathbb{Q}, \\cdot)$\n",
    "* order infinite\n",
    "* closed under $\\cdot$\n",
    "\n",
    "$(\\mathbb{Q}, +)$\n",
    "* order infinite\n",
    "* closed under $+$\n",
    "\n",
    "$(\\mathbb{Z}, \\cdot)$\n",
    "* order infinite\n",
    "* closed under $\\cdot$\n",
    "* associative\n",
    "* commutative\n",
    "* identity element $1$\n",
    "* only $\\{1, -1\\}$ have inverses\n",
    "\n",
    "$(\\mathbb{N}, +, \\lt)$\n",
    "* order infinite\n",
    "\n",
    "$(\\mathbb{E}, \\cdot)$ the set of even integers\n",
    "* order infinite\n",
    "* closed under $\\cdot$\n",
    "\n",
    "$(\\mathbb{E}, +)$ the set of even integers\n",
    "* order infinite\n",
    "* closed under $+$\n",
    "\n",
    "$((0, 1), \\cdot)$ the open interval $(0, 1)$\n",
    "* order infinite\n",
    "* closed under $\\cdot$\n",
    "\n",
    "$((0, 1), +)$ the open interval $(0, 1)$\n",
    "* order infinite\n",
    "* not closed under $+$\n",
    "\n",
    "$(\\{0, 1\\}, \\cdot)$\n",
    "* order 2\n",
    "* closed under $\\cdot$\n",
    "\n",
    "$(\\{0, 1\\}, +)$\n",
    "* order 2\n",
    "* not closed under $+$\n",
    "\n",
    "$(\\{0\\}, \\cdot)$\n",
    "* order 1\n",
    "* closed under $\\cdot$\n",
    "\n",
    "$(\\{0\\}, +)$\n",
    "* order 1\n",
    "* closed under $+$"
   ]
  },
  {
   "cell_type": "markdown",
   "id": "abdad637-8891-489c-8dc4-48b1c57acb6e",
   "metadata": {},
   "source": [
    "---"
   ]
  },
  {
   "cell_type": "markdown",
   "id": "9a924b9d-8e4e-4fbc-bc62-abe513049997",
   "metadata": {},
   "source": [
    "## Properties of Structures"
   ]
  },
  {
   "cell_type": "markdown",
   "id": "3172c211-fd66-4b32-98a6-243d25835616",
   "metadata": {},
   "source": [
    "### Closure"
   ]
  },
  {
   "cell_type": "markdown",
   "id": "b39597cf-8de9-4956-917e-0da7796c6d1b",
   "metadata": {},
   "source": [
    "<span style=\"color: blue\">**DEFINITION**</span><br>\n",
    "Let $(A, *)$ be a structure and let $B$ be a subset of $A$.<br>\n",
    "$B$ is _closed under $*$_ iff for all $x, y \\in B, x * y \\in B$.<br>"
   ]
  },
  {
   "cell_type": "markdown",
   "id": "6d3c78db-6a8b-4301-9dd6-52c9e7fa5f55",
   "metadata": {},
   "source": [
    "$A$ is closed under $*$ since $*$ is a function that maps to $A$.<br>\n",
    "For any proper subset $B$ of $A$ that is closed under $*$, the same operation $*$ is used to denote the restriction of the operation to $B \\times B$.<br>"
   ]
  },
  {
   "cell_type": "markdown",
   "id": "223553f9-4bfa-47d7-afab-902f7f9d02f8",
   "metadata": {},
   "source": [
    "The following statements are equivalent:\n",
    "\n",
    "$B$ is closed under $*$<br>\n",
    "$*$ is an operation on $B$<br>\n",
    "$(B, *)$ is a structure<br>"
   ]
  },
  {
   "cell_type": "markdown",
   "id": "7d208eb6-7534-4f50-bb8a-29d34cb94690",
   "metadata": {},
   "source": [
    "### Associativity\n",
    "\n",
    "<span style=\"color: blue\">**DEFINITION**</span><br>\n",
    "Let $(A, *)$ be a structure.<br>\n",
    "$*$ is associative on $A$ iff for all $x, y, z \\in A, (x * y) * z = x * (y * z)$.<br>"
   ]
  },
  {
   "cell_type": "markdown",
   "id": "5517980f-0a1f-4051-8e59-d5571821a25f",
   "metadata": {},
   "source": [
    "### Commutativity\n",
    "\n",
    "<span style=\"color: blue\">**DEFINITION**</span><br>\n",
    "Let $(A, *)$ be a structure.<br>\n",
    "$*$ is commutative on $A$ iff for all $x, y \\in A, x * y = y * x$.<br>"
   ]
  },
  {
   "cell_type": "markdown",
   "id": "514828aa-e230-4419-9490-3cde00cb09cc",
   "metadata": {},
   "source": [
    "### Existence of an Identity Element\n",
    "\n",
    "<span style=\"color: blue\">**DEFINITION**</span><br>\n",
    "Let $(A, *)$ be a structure.<br>\n",
    "An element $e$ of $A$ is an identity element for $*$ iff for all $x \\in A, x * e = e = e * x$.<br>"
   ]
  },
  {
   "cell_type": "markdown",
   "id": "8c3510bf-455c-4efa-bc5c-05bc2020c8f3",
   "metadata": {},
   "source": [
    "### Existence of Inverse Elements\n",
    "\n",
    "<span style=\"color: blue\">**DEFINITION**</span><br>\n",
    "Let $(A, *)$ be a structure.<br>\n",
    "If $A$ has an identity element $e$, and $a$ and $b$ are in $A$, then $b$ is an inverse of $a$ iff $a * b = b * a = e$. In this case, $a$ would also be an inverse of $b$.<br>"
   ]
  },
  {
   "cell_type": "markdown",
   "id": "34d3effa-5bcd-4b92-a98d-7c017e465a62",
   "metadata": {},
   "source": [
    "---"
   ]
  },
  {
   "cell_type": "markdown",
   "id": "52129e82-6e65-475a-b1f2-39ba7f488e47",
   "metadata": {},
   "source": [
    "## Operation Tables\n",
    "\n",
    "<span style=\"color: blue\">**DEFINITION**</span><br>\n",
    "An operation table for a structure $(A, *)$ of order $n$ is an $n \\times n$ array of products such that the product $x * y$ appears in row $x$ and column $y$.<br>"
   ]
  },
  {
   "cell_type": "markdown",
   "id": "b4276b26-ded9-4d97-8514-536d1ff16dc4",
   "metadata": {},
   "source": [
    "$*$ is commutative on $A$ if the operation table for $(A, *)$ is symmetric about its main diagonal.<br>"
   ]
  },
  {
   "cell_type": "markdown",
   "id": "1b6cf2df-eeb9-4704-a229-a5eee2fcb6af",
   "metadata": {},
   "source": [
    "There is no easy way to check that $*$ is associative on $A$ just by visually inspecting the operation table for $(A, *)$.<br>\n",
    "For a structure of order $n$, associativity requires the equivalence all $n^3$ products of three elements  $x * y * z$ grouped two ways  $(x * y) * z$ and  $x * (y * z)$.<br>"
   ]
  },
  {
   "cell_type": "markdown",
   "id": "7e07185d-fc03-4e91-bb2e-aebac6638d87",
   "metadata": {},
   "source": [
    "<span style=\"color: green\">Example</span><br>\n",
    "$(\\{1, 2, 3\\}, *)$\n",
    "\n",
    "$\n",
    "\\begin{array}{c | c c c}\n",
    "* & 1 & 2 & 3 \\\\\n",
    "\\hline \n",
    "1 & 3 & 2 & 1 \\\\ \n",
    "2 & 3 & 1 & 3 \\\\ \n",
    "3 & 2 & 3 & 3 \\\\ \n",
    "\\end{array}\n",
    "$"
   ]
  },
  {
   "cell_type": "markdown",
   "id": "1c127168-3903-43e8-8cc3-5f9c660f3e6a",
   "metadata": {},
   "source": [
    "Properties<br>\n",
    "* closed under $*$\n",
    "* not commutative\n",
    "  * $1 * 1 = 3$\n",
    "  * <span style=\"color: red;\">$1 * 2 = 2$ but $2 * 1 = 3$</span>\n",
    "  * <span style=\"color: red;\">$1 * 3 = 1$ but $3 * 1 = 2$</span>\n",
    "  * $2 * 2 = 1$\n",
    "  * $2 * 3 = 3$ and $3 * 2 = 3$\n",
    "  * $3 * 3 = 3$\n",
    "* not associative\n",
    "  * <span style=\"color: red;\">$(1 * 1) * 1 = 2$ but $1 * (1 * 1) = 1$</span>\n",
    "  * <span style=\"color: red;\">$(1 * 1) * 2 = 3$ but $1 * (1 * 2) = 2$</span>\n",
    "  * $(1 * 1) * 3 = 3$ and $1 * (1 * 3) = 3$\n",
    "  * <span style=\"color: red;\">$(1 * 2) * 1 = 3$ but $1 * (2 * 1) = 1$</span>\n",
    "  * <span style=\"color: red;\">$(1 * 2) * 2 = 1$ but $1 * (2 * 2) = 3$</span>\n",
    "  * <span style=\"color: red;\">$(1 * 2) * 3 = 3$ but $1 * (2 * 3) = 1$</span>\n",
    "  * <span style=\"color: red;\">$(1 * 3) * 1 = 3$ but $1 * (3 * 1) = 2$</span>\n",
    "  * <span style=\"color: red;\">$(1 * 3) * 2 = 2$ but $1 * (3 * 2) = 1$</span>\n",
    "  * $(1 * 3) * 3 = 1$ and $1 * (3 * 3) = 1$\n",
    "  * ...\n",
    "* no identity element"
   ]
  },
  {
   "cell_type": "markdown",
   "id": "030cdd69-3e83-4f95-9301-f40bdd438c7a",
   "metadata": {},
   "source": [
    "<span style=\"color: green\">Example</span><br>\n",
    "$(\\{1, 2, 3\\}, \\circ)$\n",
    "\n",
    "$\n",
    "\\begin{array}{c | c c c}\n",
    "\\circ & 1 & 2 & 3 \\\\\n",
    "\\hline \n",
    "1 & 1 & 2 & 3 \\\\ \n",
    "2 & 1 & 2 & 3 \\\\ \n",
    "3 & 1 & 2 & 3 \\\\ \n",
    "\\end{array}\n",
    "$"
   ]
  },
  {
   "cell_type": "markdown",
   "id": "f5938c77-c628-4063-970e-46841ed82fbc",
   "metadata": {},
   "source": [
    "Properties<br>\n",
    "* closed under $\\circ$\n",
    "* not commutative\n",
    "  * $1 \\circ 1 = 1$\n",
    "  * <span style=\"color: red;\">$1 \\circ 2 = 2$ but $2 \\circ 1 = 1$</span>\n",
    "  * ...\n",
    "* associative\n",
    "  * $(1 \\circ 1) \\circ 1 = 1$ and $1 \\circ (1 \\circ 1) = 1$\n",
    "  * $(1 \\circ 1) \\circ 2 = 2$ and $1 \\circ (1 \\circ 2) = 2$\n",
    "  * $(1 \\circ 1) \\circ 3 = 3$ and $1 \\circ (1 \\circ 3) = 3$\n",
    "  * $(1 \\circ 2) \\circ 1 = 1$ and $1 \\circ (2 \\circ 1) = 1$\n",
    "  * $(1 \\circ 2) \\circ 2 = 2$ and $1 \\circ (2 \\circ 2) = 2$\n",
    "  * $(1 \\circ 2) \\circ 3 = 3$ and $1 \\circ (2 \\circ 3) = 3$\n",
    "  * $(1 \\circ 3) \\circ 1 = 1$ and $1 \\circ (3 \\circ 1) = 1$\n",
    "  * $(1 \\circ 3) \\circ 2 = 2$ and $1 \\circ (3 \\circ 2) = 2$\n",
    "  * $(1 \\circ 3) \\circ 3$ and $1 \\circ (3 \\circ 3)$\n",
    "  * $(2 \\circ 1) \\circ 1$ and $2 \\circ (1 \\circ 1)$\n",
    "  * $(2 \\circ 1) \\circ 2$ and $2 \\circ (1 \\circ 2)$\n",
    "  * $(2 \\circ 1) \\circ 3$ and $2 \\circ (1 \\circ 3)$\n",
    "  * $(2 \\circ 2) \\circ 1$ and $2 \\circ (2 \\circ 1)$\n",
    "  * $(2 \\circ 2) \\circ 2$ and $2 \\circ (2 \\circ 2)$\n",
    "  * $(2 \\circ 2) \\circ 3$ and $2 \\circ (2 \\circ 3)$\n",
    "  * $(2 \\circ 3) \\circ 1$ and $2 \\circ (3 \\circ 1)$\n",
    "  * $(2 \\circ 3) \\circ 2$ and $2 \\circ (3 \\circ 2)$\n",
    "  * $(2 \\circ 3) \\circ 3$ and $2 \\circ (3 \\circ 3)$\n",
    "  * $(3 \\circ 1) \\circ 1$ and $3 \\circ (1 \\circ 1)$\n",
    "  * $(3 \\circ 1) \\circ 2$ and $3 \\circ (1 \\circ 2)$\n",
    "  * $(3 \\circ 1) \\circ 3$ and $3 \\circ (1 \\circ 3)$\n",
    "  * $(3 \\circ 2) \\circ 1$ and $3 \\circ (2 \\circ 1)$\n",
    "  * $(3 \\circ 2) \\circ 2$ and $3 \\circ (2 \\circ 2)$\n",
    "  * $(3 \\circ 2) \\circ 3$ and $3 \\circ (2 \\circ 3)$\n",
    "  * $(3 \\circ 3) \\circ 1$ and $3 \\circ (3 \\circ 1)$\n",
    "  * $(3 \\circ 3) \\circ 2$ and $3 \\circ (3 \\circ 2)$\n",
    "  * $(3 \\circ 3) \\circ 3$ and $3 \\circ (3 \\circ 3)$\n",
    "* no identity element"
   ]
  },
  {
   "cell_type": "markdown",
   "id": "9b3f07a0-9fd9-4472-9a1b-b387bcc7a4bd",
   "metadata": {},
   "source": [
    "<span style=\"color: green\">Example</span><br>\n",
    "$(\\{1, 2, 3\\}, \\cdot)$\n",
    "\n",
    "$\n",
    "\\begin{array}{c | c c c}\n",
    "\\cdot & 1 & 2 & 3 \\\\\n",
    "\\hline \n",
    "1 & 3 & 1 & 2 \\\\ \n",
    "2 & 1 & 2 & 3 \\\\ \n",
    "3 & 2 & 3 & 1 \\\\ \n",
    "\\end{array}\n",
    "$"
   ]
  },
  {
   "cell_type": "markdown",
   "id": "d416b15f-5da6-49a7-8041-47a182decb10",
   "metadata": {},
   "source": [
    "Properties<br>\n",
    "* closed under $\\cdot$\n",
    "* commutative\n",
    "  * $1 \\cdot 1 = 3$\n",
    "  * $1 \\cdot 2 = 1$ and $2 \\cdot 1 = 1$\n",
    "  * $1 \\cdot 3 = 2$ and $3 \\cdot 1 = 2$\n",
    "  * $2 \\cdot 2 = 2$\n",
    "  * $2 \\cdot 3 = 3$ and $3 \\cdot 2 = 3$\n",
    "  * $3 \\cdot 3 = 1$\n",
    "* associative\n",
    "  * $(1 \\cdot 1) \\cdot 1$ and $1 \\cdot (1 \\cdot 1)$\n",
    "  * $(1 \\cdot 1) \\cdot 2$ and $1 \\cdot (1 \\cdot 2)$\n",
    "  * $(1 \\cdot 1) \\cdot 3$ and $1 \\cdot (1 \\cdot 3)$\n",
    "  * $(1 \\cdot 2) \\cdot 1$ and $1 \\cdot (2 \\cdot 1)$\n",
    "  * $(1 \\cdot 2) \\cdot 2$ and $1 \\cdot (2 \\cdot 2)$\n",
    "  * $(1 \\cdot 2) \\cdot 3$ and $1 \\cdot (2 \\cdot 3)$\n",
    "  * $(1 \\cdot 3) \\cdot 1$ and $1 \\cdot (3 \\cdot 1)$\n",
    "  * $(1 \\cdot 3) \\cdot 2$ and $1 \\cdot (3 \\cdot 2)$\n",
    "  * $(1 \\cdot 3) \\cdot 3$ and $1 \\cdot (3 \\cdot 3)$\n",
    "  * $(2 \\cdot 1) \\cdot 1$ and $2 \\cdot (1 \\cdot 1)$\n",
    "  * $(2 \\cdot 1) \\cdot 2$ and $2 \\cdot (1 \\cdot 2)$\n",
    "  * $(2 \\cdot 1) \\cdot 3$ and $2 \\cdot (1 \\cdot 3)$\n",
    "  * $(2 \\cdot 2) \\cdot 1$ and $2 \\cdot (2 \\cdot 1)$\n",
    "  * $(2 \\cdot 2) \\cdot 2$ and $2 \\cdot (2 \\cdot 2)$\n",
    "  * $(2 \\cdot 2) \\cdot 3$ and $2 \\cdot (2 \\cdot 3)$\n",
    "  * $(2 \\cdot 3) \\cdot 1$ and $2 \\cdot (3 \\cdot 1)$\n",
    "  * $(2 \\cdot 3) \\cdot 2$ and $2 \\cdot (3 \\cdot 2)$\n",
    "  * $(2 \\cdot 3) \\cdot 3$ and $2 \\cdot (3 \\cdot 3)$\n",
    "  * $(3 \\cdot 1) \\cdot 1$ and $3 \\cdot (1 \\cdot 1)$\n",
    "  * $(3 \\cdot 1) \\cdot 2$ and $3 \\cdot (1 \\cdot 2)$\n",
    "  * $(3 \\cdot 1) \\cdot 3$ and $3 \\cdot (1 \\cdot 3)$\n",
    "  * $(3 \\cdot 2) \\cdot 1$ and $3 \\cdot (2 \\cdot 1)$\n",
    "  * $(3 \\cdot 2) \\cdot 2$ and $3 \\cdot (2 \\cdot 2)$\n",
    "  * $(3 \\cdot 2) \\cdot 3$ and $3 \\cdot (2 \\cdot 3)$\n",
    "  * $(3 \\cdot 3) \\cdot 1$ and $3 \\cdot (3 \\cdot 1)$\n",
    "  * $(3 \\cdot 3) \\cdot 2$ and $3 \\cdot (3 \\cdot 2)$\n",
    "  * $(3 \\cdot 3) \\cdot 3$ and $3 \\cdot (3 \\cdot 3)$\n",
    "* identity element 2\n",
    "  * $1 \\cdot 2 = 1 = 2 \\cdot 1$\n",
    "  * $2 \\cdot 2 = 2$\n",
    "  * $3 \\cdot 2 = 3 = 2 \\cdot 3$\n",
    "* inverse elements\n",
    "  * $1$ and $3$ are inverses\n",
    "  * $2$ is its own inverse"
   ]
  },
  {
   "cell_type": "markdown",
   "id": "faf516e6-5ac6-4dd7-92b5-f15130a72795",
   "metadata": {},
   "source": [
    "<span style=\"color: green\">Example</span><br>\n",
    "$(\\{1, 2, 3\\}, +)$\n",
    "\n",
    "$\n",
    "\\begin{array}{c | c c c}\n",
    "+ & 1 & 2 & 3 \\\\\n",
    "\\hline \n",
    "1 & 3 & 3 & 1 \\\\ \n",
    "2 & 1 & 1 & 2 \\\\ \n",
    "3 & 1 & 2 & 3 \\\\ \n",
    "\\end{array}\n",
    "$"
   ]
  },
  {
   "cell_type": "markdown",
   "id": "034bbc05-bc06-4cdb-a44d-c058d825879a",
   "metadata": {},
   "source": [
    "Properties<br>\n",
    "* closed under $+$\n",
    "* not commutative\n",
    "  * $1 + 1 = 3$\n",
    "  * <span style=\"color: red;\">$1 + 2 = 3$ but $2 + 1 = 1$</span>\n",
    "  * $1 + 3 = 1$ and $3 + 1 = 1$\n",
    "  * $2 + 2 = 1$\n",
    "  * $2 + 3 = 2$ and $3 + 2 = 2$\n",
    "  * $3 + 3 = 3$\n",
    "* not associative\n",
    "  * $(1 + 1) + 1 = 1$ and $1 + (1 + 1) = 1$\n",
    "  * <span style=\"color: red;\">$(1 + 1) + 2 = 2$ but $1 + (1 + 2) = 1$</span>\n",
    "  * ...\n",
    "* identity element 3\n",
    "  * $1 + 3 = 1 = 3 + 1$\n",
    "  * $2 + 3 = 2 = 3 + 2$\n",
    "  * $3 + 3 = 3$\n",
    "* inverse elements\n",
    "  * $3$ is its own inverse\n",
    "  * $1$ and $2$ do not have inverses"
   ]
  },
  {
   "cell_type": "markdown",
   "id": "f1dcf3ad-dc73-4560-af44-59539b2e017d",
   "metadata": {},
   "source": [
    "---"
   ]
  }
 ],
 "metadata": {
  "kernelspec": {
   "display_name": "Python 3",
   "language": "python",
   "name": "python3"
  },
  "language_info": {
   "codemirror_mode": {
    "name": "ipython",
    "version": 3
   },
   "file_extension": ".py",
   "mimetype": "text/x-python",
   "name": "python",
   "nbconvert_exporter": "python",
   "pygments_lexer": "ipython3",
   "version": "3.8.2"
  }
 },
 "nbformat": 4,
 "nbformat_minor": 5
}