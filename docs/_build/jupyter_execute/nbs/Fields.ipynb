{
 "cells": [
  {
   "cell_type": "markdown",
   "id": "f6706211-d48c-48c6-a79a-4ea4653d952e",
   "metadata": {},
   "source": [
    "# Fields"
   ]
  },
  {
   "cell_type": "markdown",
   "id": "fdfe3bab",
   "metadata": {},
   "source": [
    "---"
   ]
  },
  {
   "cell_type": "markdown",
   "id": "76390106-61e5-4820-acb8-378461b8adc2",
   "metadata": {},
   "source": [
    "### Abelian Ring with Identity\n",
    "An abelian ring with identity that is not also a field satisfies all the properties of a field except for the existence of multiplicative inverse elements.<br>\n",
    "\n",
    "Infinite Rings\n",
    "* $\\mathbb{Z}$ the set of integers (is not a field because, for example, 2 does not have a multiplicative inverse in Z)\n",
    "* $F[x]$ the set of polynomials in x with coefficients belonging to a field F"
   ]
  },
  {
   "cell_type": "markdown",
   "id": "ba63ebf5-dff5-4fe8-9cc6-75c509c74e1a",
   "metadata": {},
   "source": [
    "---"
   ]
  },
  {
   "cell_type": "markdown",
   "id": "27fbe4ef-653a-44e5-8431-ebbd67411e0f",
   "metadata": {},
   "source": [
    "### Field\n",
    "A field is a tuple $(F, +, \\cdot)$ that consists of a set and two operations called _addition_ and _multiplication_ satisfying the following properties:<br>\n",
    "\n",
    "* Additive Closure\n",
    "$a, b \\in F \\rightarrow a + b \\in F$\n",
    "* Additive Commutativity\n",
    "$a + b = b + a$\n",
    "* Additive Associativity\n",
    "$a + (b + c) = (a + b) + c$\n",
    "* Existence of the Additive Identity Element\n",
    "$\\exists 0 \\in F, \\forall a \\in F, a + 0 = a$\n",
    "* Existence of Additive Inverse Elements\n",
    "$\\forall a \\in F, \\exists -a \\in F, a + (-a) = 0$\n",
    "* Multiplicative Closure\n",
    "$a, b \\in F \\rightarrow a \\cdot b \\in F$\n",
    "* Multiplicative Commutativity\n",
    "$a \\cdot b = b \\cdot a$\n",
    "* Multiplicative Associativity\n",
    "$a \\cdot (b \\cdot c) = (a \\cdot b) \\cdot c$\n",
    "* Existence of the Multiplicative Identity Element\n",
    "$\\exists 1 \\in F, \\forall a \\in F, a \\cdot 1 = a$\n",
    "* Existence of Multiplicative Inverse Elements\n",
    "$\\forall a \\ne 0 \\in F, \\exists a^{-1} \\in F, a \\cdot a^{-1} = 1$\n",
    "* Distributivity\n",
    "$a \\cdot (b + c) = a \\cdot b + a \\cdot c$\n",
    "\n",
    "In other words, a field\n",
    "* is an abelian group under addition\n",
    "* the nonzero elements are an abelian group under multiplication\n",
    "* the distributive law holds\n",
    "\n",
    "Subtraction<br>\n",
    "$a - b \\equiv a + (-b)$<br>\n",
    "\n",
    "Division<br>\n",
    "$a \\div b \\equiv a \\cdot b^{-1}$<br>\n",
    "\n",
    "Additional properties of fields:\n",
    "* $a0 = 0 \\,\\,\\,\\forall a \\in F$\n",
    "* $(ab = 0) \\rightarrow (a = 0 \\lor b = 0)$ (if the product ab is zero, then at least one of a or b is zero)\n",
    "* $(a \\ne 0 \\land b \\ne 0) \\rightarrow (ab \\ne 0)$ (the product of two nonzero elements is nonzero)\n",
    "\n",
    "Infinite Fields\n",
    "* $\\mathbb{R}$ the set of real numbers\n",
    "* $\\mathbb{C}$ the set of complex numbers"
   ]
  },
  {
   "cell_type": "markdown",
   "id": "292b79c7-34b2-4916-8608-98a16dcef93c",
   "metadata": {},
   "source": [
    "---"
   ]
  },
  {
   "cell_type": "markdown",
   "id": "d01db1ee-bf04-4c51-b39f-888545eef6ed",
   "metadata": {},
   "source": [
    "### Theorem\n",
    "\n",
    "$\\mathbb{Z}_m$ is a field iff $m$ is prime.<br>"
   ]
  },
  {
   "cell_type": "markdown",
   "id": "c1b9c2b9-9290-40d0-9150-4cc47ad56a3f",
   "metadata": {},
   "source": [
    "---"
   ]
  },
  {
   "cell_type": "markdown",
   "id": "4033ec8e",
   "metadata": {},
   "source": [
    "### Finite Field $F_q$ or Galois Field $\\text{GF}(q)$\n",
    "A finite field $F_q$ is a field with a finite number of elements $q$, called the order of the field.<br>\n",
    "\n",
    "Galois' Theorem<br>\n",
    "There exists a field of order $q$ iff $q$ is a prime power $q = p^h$ where $p$ is prime and $h$ is a positive integer. Further, if $q$ is a prime power then there is, up to relabelling, only one field of that order.<br>\n",
    "\n",
    "__Prime Field__ $\\text{GF}(p) = \\{0, 1, ..., p - 1\\}$ is a Galois field of order $q = p$ (i.e., where $h = 1$) that consists of the set $\\{0, 1, ..., p - 1\\}$ with arithmetic carried out modulo $p$.<br>"
   ]
  },
  {
   "cell_type": "markdown",
   "id": "901de470",
   "metadata": {},
   "source": [
    "### $\\text{GF}(2) = \\mathbb{Z}_2 = \\{0, 1\\}$\n",
    "\n",
    "$$\n",
    "\\begin{align}\n",
    "& f_0x^0 & \\\\\n",
    "& 0x^0 & 0 \\\\\n",
    "& 1x^0 & 1 \\\\\n",
    "\\end{align}\n",
    "$$\n",
    "\n",
    "<table>\n",
    "    <tr>\n",
    "        <td>+</td><td>0</td><td>1</td>\n",
    "    </tr>\n",
    "    <tr>\n",
    "        <td>0</td><td>0</td><td>1</td>\n",
    "    </tr>\n",
    "    <tr>\n",
    "        <td>1</td><td>1</td><td>0</td>\n",
    "    </tr>\n",
    "</table>\n",
    "\n",
    "<table>\n",
    "    <tr>\n",
    "        <td>$\\cdot$</td><td>0</td><td>1</td>\n",
    "    </tr>\n",
    "    <tr>\n",
    "        <td>0</td><td>0</td><td>0</td>\n",
    "    </tr>\n",
    "    <tr>\n",
    "        <td>1</td><td>0</td><td>1</td>\n",
    "    </tr>\n",
    "</table>"
   ]
  },
  {
   "cell_type": "code",
   "execution_count": 22,
   "id": "e4b83249",
   "metadata": {},
   "outputs": [
    {
     "data": {
      "text/plain": [
       "FieldElement_2(0)"
      ]
     },
     "metadata": {},
     "output_type": "display_data"
    },
    {
     "data": {
      "text/plain": [
       "FieldElement_2(1)"
      ]
     },
     "metadata": {},
     "output_type": "display_data"
    },
    {
     "data": {
      "text/plain": [
       "FieldElement_2(1)"
      ]
     },
     "metadata": {},
     "output_type": "display_data"
    },
    {
     "data": {
      "text/plain": [
       "FieldElement_2(0)"
      ]
     },
     "metadata": {},
     "output_type": "display_data"
    },
    {
     "data": {
      "text/plain": [
       "FieldElement_2(0)"
      ]
     },
     "metadata": {},
     "output_type": "display_data"
    },
    {
     "data": {
      "text/plain": [
       "FieldElement_2(0)"
      ]
     },
     "metadata": {},
     "output_type": "display_data"
    },
    {
     "data": {
      "text/plain": [
       "FieldElement_2(0)"
      ]
     },
     "metadata": {},
     "output_type": "display_data"
    },
    {
     "data": {
      "text/plain": [
       "FieldElement_2(1)"
      ]
     },
     "metadata": {},
     "output_type": "display_data"
    }
   ],
   "source": [
    "zer = FieldElement(0, 2)\n",
    "one = FieldElement(1, 2)\n",
    "\n",
    "display(\n",
    "    zer + zer,\n",
    "    zer + one,\n",
    "    one + zer,\n",
    "    one + one,\n",
    "    zer * zer,\n",
    "    zer * one,\n",
    "    one * zer,\n",
    "    one * one,\n",
    ")"
   ]
  },
  {
   "cell_type": "markdown",
   "id": "39ce2a96",
   "metadata": {},
   "source": [
    "### $\\text{GF}(3) = \\mathbb{Z}_3 = \\{0, 1, 2\\}$\n",
    "\n",
    "$$\n",
    "\\begin{align}\n",
    "& f_0x^0 & \\\\\n",
    "& 0x^0 & 0 \\\\\n",
    "& 1x^0 & 1 \\\\\n",
    "& 2x^0 & 2 \\\\\n",
    "\\end{align}\n",
    "$$\n",
    "\n",
    "<table>\n",
    "    <tr>\n",
    "        <td>+</td><td>0</td><td>1</td><td>2</td>\n",
    "    </tr>\n",
    "    <tr>\n",
    "        <td>0</td><td>0</td><td>1</td><td>2</td>\n",
    "    </tr>\n",
    "    <tr>\n",
    "        <td>1</td><td>1</td><td>2</td><td>0</td>\n",
    "    </tr>\n",
    "    <tr>\n",
    "        <td>2</td><td>2</td><td>0</td><td>1</td>\n",
    "    </tr>\n",
    "</table>\n",
    "\n",
    "<table>\n",
    "    <tr>\n",
    "        <td>$\\cdot$</td><td>0</td><td>1</td><td>2</td>\n",
    "    </tr>\n",
    "    <tr>\n",
    "        <td>0</td><td>0</td><td>0</td><td>0</td>\n",
    "    </tr>\n",
    "    <tr>\n",
    "        <td>1</td><td>0</td><td>1</td><td>2</td>\n",
    "    </tr>\n",
    "    <tr>\n",
    "        <td>2</td><td>0</td><td>2</td><td>1</td>\n",
    "    </tr>\n",
    "</table>"
   ]
  },
  {
   "cell_type": "code",
   "execution_count": 24,
   "id": "bf0ac067",
   "metadata": {},
   "outputs": [
    {
     "data": {
      "text/plain": [
       "FieldElement_3(0)"
      ]
     },
     "metadata": {},
     "output_type": "display_data"
    },
    {
     "data": {
      "text/plain": [
       "FieldElement_3(1)"
      ]
     },
     "metadata": {},
     "output_type": "display_data"
    },
    {
     "data": {
      "text/plain": [
       "FieldElement_3(2)"
      ]
     },
     "metadata": {},
     "output_type": "display_data"
    },
    {
     "data": {
      "text/plain": [
       "FieldElement_3(1)"
      ]
     },
     "metadata": {},
     "output_type": "display_data"
    },
    {
     "data": {
      "text/plain": [
       "FieldElement_3(2)"
      ]
     },
     "metadata": {},
     "output_type": "display_data"
    },
    {
     "data": {
      "text/plain": [
       "FieldElement_3(0)"
      ]
     },
     "metadata": {},
     "output_type": "display_data"
    },
    {
     "data": {
      "text/plain": [
       "FieldElement_3(2)"
      ]
     },
     "metadata": {},
     "output_type": "display_data"
    },
    {
     "data": {
      "text/plain": [
       "FieldElement_3(0)"
      ]
     },
     "metadata": {},
     "output_type": "display_data"
    },
    {
     "data": {
      "text/plain": [
       "FieldElement_3(1)"
      ]
     },
     "metadata": {},
     "output_type": "display_data"
    },
    {
     "data": {
      "text/plain": [
       "FieldElement_3(0)"
      ]
     },
     "metadata": {},
     "output_type": "display_data"
    },
    {
     "data": {
      "text/plain": [
       "FieldElement_3(0)"
      ]
     },
     "metadata": {},
     "output_type": "display_data"
    },
    {
     "data": {
      "text/plain": [
       "FieldElement_3(0)"
      ]
     },
     "metadata": {},
     "output_type": "display_data"
    },
    {
     "data": {
      "text/plain": [
       "FieldElement_3(0)"
      ]
     },
     "metadata": {},
     "output_type": "display_data"
    },
    {
     "data": {
      "text/plain": [
       "FieldElement_3(1)"
      ]
     },
     "metadata": {},
     "output_type": "display_data"
    },
    {
     "data": {
      "text/plain": [
       "FieldElement_3(2)"
      ]
     },
     "metadata": {},
     "output_type": "display_data"
    },
    {
     "data": {
      "text/plain": [
       "FieldElement_3(0)"
      ]
     },
     "metadata": {},
     "output_type": "display_data"
    },
    {
     "data": {
      "text/plain": [
       "FieldElement_3(2)"
      ]
     },
     "metadata": {},
     "output_type": "display_data"
    },
    {
     "data": {
      "text/plain": [
       "FieldElement_3(1)"
      ]
     },
     "metadata": {},
     "output_type": "display_data"
    }
   ],
   "source": [
    "zer = FieldElement(0, 3)\n",
    "one = FieldElement(1, 3)\n",
    "two = FieldElement(2, 3)\n",
    "\n",
    "display(\n",
    "    zer + zer,\n",
    "    zer + one,\n",
    "    zer + two,\n",
    "    one + zer,\n",
    "    one + one,\n",
    "    one + two,\n",
    "    two + zer,\n",
    "    two + one,\n",
    "    two + two,\n",
    "    zer * zer,\n",
    "    zer * one,\n",
    "    zer * two,\n",
    "    one * zer,\n",
    "    one * one,\n",
    "    one * two,\n",
    "    two * zer,\n",
    "    two * one,\n",
    "    two * two,\n",
    ")"
   ]
  },
  {
   "cell_type": "markdown",
   "id": "501537b0",
   "metadata": {},
   "source": [
    "### $\\mathbb{Z}_4 = \\{0, 1, 2, 3\\}$ not a field\n",
    "\n",
    "<table>\n",
    "    <tr>\n",
    "        <td>+</td><td>0</td><td>1</td><td>2</td><td>3</td>\n",
    "    </tr>\n",
    "    <tr>\n",
    "        <td>0</td><td>0</td><td>1</td><td>2</td><td>3</td>\n",
    "    </tr>\n",
    "    <tr>\n",
    "        <td>1</td><td>1</td><td>2</td><td>3</td><td>0</td>\n",
    "    </tr>\n",
    "    <tr>\n",
    "        <td>2</td><td>2</td><td>3</td><td>0</td><td>1</td>\n",
    "    </tr>\n",
    "    <tr>\n",
    "        <td>3</td><td>3</td><td>0</td><td>1</td><td>2</td>\n",
    "    </tr>\n",
    "</table>\n",
    "\n",
    "<table>\n",
    "    <tr>\n",
    "        <td>$\\cdot$</td><td>0</td><td>1</td><td>2</td><td>3</td>\n",
    "    </tr>\n",
    "    <tr>\n",
    "        <td>0</td><td>0</td><td>0</td><td>0</td><td>0</td>\n",
    "    </tr>\n",
    "    <tr>\n",
    "        <td>1</td><td>0</td><td>1</td><td>2</td><td>3</td>\n",
    "    </tr>\n",
    "    <tr>\n",
    "        <td>2</td><td>0</td><td>2</td><td>0</td><td>2</td>\n",
    "    </tr>\n",
    "    <tr>\n",
    "        <td>3</td><td>0</td><td>3</td><td>2</td><td>1</td>\n",
    "    </tr>\n",
    "</table>"
   ]
  },
  {
   "cell_type": "markdown",
   "id": "17daa8a5",
   "metadata": {},
   "source": [
    "### $\\text{GF}(4 = 2^2) = \\{0, 1, x, x + 1\\}$\n",
    "\n",
    "$$\n",
    "\\begin{align}\n",
    "f_0x^0 + f_1x^1 & \\\\\n",
    "0x^0 + 0x^1     && 0      && 0 \\\\\n",
    "0x^0 + 1x^1     && x      && a \\\\\n",
    "1x^0 + 0x^1     && 1      && 1 \\\\\n",
    "1x^0 + 1x^1     && 1 + x  && b \\\\\n",
    "\\end{align}\n",
    "$$\n",
    "\n",
    "<table>\n",
    "    <tr>\n",
    "        <td>+</td><td>0</td><td>1</td><td>a</td><td>b</td>\n",
    "    </tr>\n",
    "    <tr>\n",
    "        <td>0</td><td>0</td><td>1</td><td>a</td><td>b</td>\n",
    "    </tr>\n",
    "    <tr>\n",
    "        <td>1</td><td>1</td><td>0</td><td>b</td><td>a</td>\n",
    "    </tr>\n",
    "    <tr>\n",
    "        <td>a</td><td>a</td><td>b</td><td>0</td><td>1</td>\n",
    "    </tr>\n",
    "    <tr>\n",
    "        <td>b</td><td>b</td><td>a</td><td>1</td><td>0</td>\n",
    "    </tr>\n",
    "</table>\n",
    "\n",
    "<table>\n",
    "    <tr>\n",
    "        <td>$\\cdot$</td><td>0</td><td>1</td><td>a</td><td>b</td>\n",
    "    </tr>\n",
    "    <tr>\n",
    "        <td>0</td><td></td><td></td><td></td><td></td>\n",
    "    </tr>\n",
    "    <tr>\n",
    "        <td>1</td><td></td><td></td><td></td><td></td>\n",
    "    </tr>\n",
    "    <tr>\n",
    "        <td>a</td><td></td><td></td><td></td><td></td>\n",
    "    </tr>\n",
    "    <tr>\n",
    "        <td>b</td><td></td><td></td><td></td><td></td>\n",
    "    </tr>\n",
    "</table>"
   ]
  },
  {
   "cell_type": "markdown",
   "id": "41c9512a",
   "metadata": {},
   "source": [
    "### $\\text{GF}(5) = \\mathbb{Z}_5 = \\{0, 1, 2, 3, 4\\}$\n",
    "\n",
    "$$\n",
    "\\begin{align}\n",
    "& f_0x^0 & \\\\\n",
    "& 0x^0 & 0 \\\\\n",
    "& 1x^0 & 1 \\\\\n",
    "& 2x^0 & 2 \\\\\n",
    "& 3x^0 & 3 \\\\\n",
    "& 4x^0 & 4 \\\\\n",
    "\\end{align}\n",
    "$$\n",
    "\n",
    "<table>\n",
    "    <tr>\n",
    "        <td>+</td><td>0</td><td>1</td><td>2</td><td>3</td><td>4</td>\n",
    "    </tr>\n",
    "    <tr>\n",
    "        <td>0</td><td></td><td></td><td></td><td></td><td></td>\n",
    "    </tr>\n",
    "    <tr>\n",
    "        <td>1</td><td></td><td></td><td></td><td></td><td></td>\n",
    "    </tr>\n",
    "    <tr>\n",
    "        <td>2</td><td></td><td></td><td></td><td></td><td></td>\n",
    "    </tr>\n",
    "    <tr>\n",
    "        <td>3</td><td></td><td></td><td></td><td></td><td></td>\n",
    "    </tr>\n",
    "    <tr>\n",
    "        <td>4</td><td></td><td></td><td></td><td></td><td></td>\n",
    "    </tr>\n",
    "</table>\n",
    "\n",
    "<table>\n",
    "    <tr>\n",
    "        <td>$\\cdot$</td><td>0</td><td>1</td><td>2</td><td>3</td><td>4</td>\n",
    "    </tr>\n",
    "    <tr>\n",
    "        <td>0</td><td></td><td></td><td></td><td></td><td></td>\n",
    "    </tr>\n",
    "    <tr>\n",
    "        <td>1</td><td></td><td></td><td></td><td></td><td></td>\n",
    "    </tr>\n",
    "    <tr>\n",
    "        <td>2</td><td></td><td></td><td></td><td></td><td></td>\n",
    "    </tr>\n",
    "    <tr>\n",
    "        <td>3</td><td></td><td></td><td></td><td></td><td></td>\n",
    "    </tr>\n",
    "    <tr>\n",
    "        <td>4</td><td></td><td></td><td></td><td></td><td></td>\n",
    "    </tr>\n",
    "</table>"
   ]
  },
  {
   "cell_type": "markdown",
   "id": "ddf69b1d",
   "metadata": {},
   "source": [
    "### $\\text{GF}(7) = \\mathbb{Z}_7 = \\{0, 1, 2, 3, 4, 5, 6\\}$\n",
    "\n",
    "$$\n",
    "\\begin{align}\n",
    "& f_0x^0 & \\\\\n",
    "& 0x^0 & 0 \\\\\n",
    "& 1x^0 & 1 \\\\\n",
    "& 2x^0 & 2 \\\\\n",
    "& 3x^0 & 3 \\\\\n",
    "& 4x^0 & 4 \\\\\n",
    "& 5x^0 & 5 \\\\\n",
    "& 6x^0 & 6 \\\\\n",
    "\\end{align}\n",
    "$$\n",
    "\n",
    "<table>\n",
    "    <tr>\n",
    "        <td>+</td><td>0</td><td>1</td><td>2</td><td>3</td><td>4</td><td>5</td><td>6</td>\n",
    "    </tr>\n",
    "    <tr>\n",
    "        <td>0</td><td></td><td></td><td></td><td></td><td></td><td></td><td></td>\n",
    "    </tr>\n",
    "    <tr>\n",
    "        <td>1</td><td></td><td></td><td></td><td></td><td></td><td></td><td></td>\n",
    "    </tr>\n",
    "    <tr>\n",
    "        <td>2</td><td></td><td></td><td></td><td></td><td></td><td></td><td></td>\n",
    "    </tr>\n",
    "    <tr>\n",
    "        <td>3</td><td></td><td></td><td></td><td></td><td></td><td></td><td></td>\n",
    "    </tr>\n",
    "    <tr>\n",
    "        <td>4</td><td></td><td></td><td></td><td></td><td></td><td></td><td></td>\n",
    "    </tr>\n",
    "    <tr>\n",
    "        <td>5</td><td></td><td></td><td></td><td></td><td></td><td></td><td></td>\n",
    "    </tr>\n",
    "    <tr>\n",
    "        <td>6</td><td></td><td></td><td></td><td></td><td></td><td></td><td></td>\n",
    "    </tr>\n",
    "</table>\n",
    "\n",
    "<table>\n",
    "    <tr>\n",
    "        <td>$\\cdot$</td><td>0</td><td>1</td><td>2</td><td>3</td><td>4</td><td>5</td><td>6</td>\n",
    "    </tr>\n",
    "    <tr>\n",
    "        <td>0</td><td></td><td></td><td></td><td></td><td></td><td></td><td></td>\n",
    "    </tr>\n",
    "    <tr>\n",
    "        <td>1</td><td></td><td></td><td></td><td></td><td></td><td></td><td></td>\n",
    "    </tr>\n",
    "    <tr>\n",
    "        <td>2</td><td></td><td></td><td></td><td></td><td></td><td></td><td></td>\n",
    "    </tr>\n",
    "    <tr>\n",
    "        <td>3</td><td></td><td></td><td></td><td></td><td></td><td></td><td></td>\n",
    "    </tr>\n",
    "    <tr>\n",
    "        <td>4</td><td></td><td></td><td></td><td></td><td></td><td></td><td></td>\n",
    "    </tr>\n",
    "    <tr>\n",
    "        <td>5</td><td></td><td></td><td></td><td></td><td></td><td></td><td></td>\n",
    "    </tr>\n",
    "    <tr>\n",
    "        <td>6</td><td></td><td></td><td></td><td></td><td></td><td></td><td></td>\n",
    "    </tr>\n",
    "</table>"
   ]
  },
  {
   "cell_type": "markdown",
   "id": "00168ca2",
   "metadata": {},
   "source": [
    "### $\\mathbb{Z}_8$ not a field\n",
    "### $\\text{GF}(8 = 2^3) = \\{0, 1, x, x + 1, x^2, x^2 + 1, x^2 + x, x^2 + x + 1\\}$\n",
    "\n",
    "$$\n",
    "\\begin{align}\n",
    "& f_0x^0 + f_1x^1 + f_2x^2 & \\\\\n",
    "& 0x^0 + 0x^1 + 0x^2       & 0 \\\\\n",
    "& 0x^0 + 0x^1 + 1x^2       & x^2 \\\\\n",
    "& 0x^0 + 1x^1 + 0x^2       & x \\\\\n",
    "& 0x^0 + 1x^1 + 1x^2       & x + x^2 \\\\\n",
    "& 1x^0 + 0x^1 + 0x^2       & 1 \\\\\n",
    "& 1x^0 + 0x^1 + 1x^2       & 1 + x^2 \\\\\n",
    "& 1x^0 + 1x^1 + 0x^2       & 1 + x \\\\\n",
    "& 1x^0 + 1x^1 + 1x^2       & 1 + x + x^2 \\\\\n",
    "\\end{align}\n",
    "$$"
   ]
  },
  {
   "cell_type": "markdown",
   "id": "f103be50",
   "metadata": {},
   "source": [
    "### $\\mathbb{Z}_9$ not a field\n",
    "### $\\text{GF}(9 = 3^2) = \\{0, 1, 2, x, x + 1, x + 2, 2x, 2x + 1, 2x + 2\\}$\n",
    "\n",
    "$$\n",
    "\\begin{align}\n",
    "& f_0x^0 + f_1x^1 & \\\\\n",
    "& 0x^0 + 0x^1     & 0 \\\\\n",
    "& 0x^0 + 1x^1     & x \\\\\n",
    "& 0x^0 + 2x^1     & 2x \\\\\n",
    "& 1x^0 + 0x^1     & 1 \\\\\n",
    "& 1x^0 + 1x^1     & 1 + x \\\\\n",
    "& 1x^0 + 2x^1     & 1 + 2x \\\\\n",
    "& 2x^0 + 0x^1     & 2 \\\\\n",
    "& 2x^0 + 1x^1     & 2 + x \\\\\n",
    "& 2x^0 + 2x^1     & 2 + 2x \\\\\n",
    "\\end{align}\n",
    "$$"
   ]
  },
  {
   "cell_type": "markdown",
   "id": "e254de4a",
   "metadata": {},
   "source": [
    "### $\\text{GF}(11) = \\{0, 1, 2, 3, 4, 5, 6, 7, 8, 9, 10\\}$"
   ]
  },
  {
   "cell_type": "markdown",
   "id": "405f3631",
   "metadata": {},
   "source": [
    "### $\\text{GF}(13)= \\{0, 1, 2, 3, 4, 5, 6, 7, 8, 9, 10, 11, 12\\}$"
   ]
  },
  {
   "cell_type": "markdown",
   "id": "13404f56",
   "metadata": {},
   "source": [
    "### $\\text{GF}(16 = 2^4)$"
   ]
  },
  {
   "cell_type": "markdown",
   "id": "ddc99f4b",
   "metadata": {},
   "source": [
    "---"
   ]
  }
 ],
 "metadata": {
  "kernelspec": {
   "display_name": "Python 3",
   "language": "python",
   "name": "python3"
  },
  "language_info": {
   "codemirror_mode": {
    "name": "ipython",
    "version": 3
   },
   "file_extension": ".py",
   "mimetype": "text/x-python",
   "name": "python",
   "nbconvert_exporter": "python",
   "pygments_lexer": "ipython3",
   "version": "3.8.2"
  }
 },
 "nbformat": 4,
 "nbformat_minor": 5
}