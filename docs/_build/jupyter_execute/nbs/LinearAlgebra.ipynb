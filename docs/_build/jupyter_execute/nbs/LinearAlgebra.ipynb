{
 "cells": [
  {
   "cell_type": "markdown",
   "metadata": {},
   "source": [
    "# Linear Algebra"
   ]
  },
  {
   "cell_type": "markdown",
   "metadata": {},
   "source": [
    "---"
   ]
  },
  {
   "cell_type": "markdown",
   "metadata": {},
   "source": [
    "Linear algebra is the study of linear maps on finite-dimensional vector spaces."
   ]
  },
  {
   "cell_type": "markdown",
   "metadata": {},
   "source": [
    "---"
   ]
  },
  {
   "cell_type": "code",
   "execution_count": 1,
   "metadata": {},
   "outputs": [],
   "source": [
    "import numpy as np\n",
    "import scipy\n",
    "from sympy import *\n",
    "init_printing()"
   ]
  },
  {
   "cell_type": "markdown",
   "metadata": {},
   "source": [
    "---"
   ]
  },
  {
   "cell_type": "markdown",
   "metadata": {},
   "source": [
    "Solve the linear system\n",
    "$$\n",
    "\\begin{align}\n",
    "3x_1-2x_2+18x_3-19x_4&=5\\\\\n",
    "2x_1+3x_2-x_3-4x_4&=-1\\\\\n",
    "4x_1+5x_2+x_3-10x_4&=-1\\\\\n",
    "\\end{align}\n",
    "\\text{.}\n",
    "$$"
   ]
  },
  {
   "cell_type": "markdown",
   "metadata": {},
   "source": [
    "---"
   ]
  },
  {
   "cell_type": "markdown",
   "metadata": {},
   "source": [
    "$$\n",
    "\\begin{bmatrix}\n",
    "3 & -2 & 18 & -19 & 5\\\\\n",
    "2 & 3 & -1 & -4 & -1\\\\\n",
    "4 & 5 & 1 & -10 & -1\\\\\n",
    "\\end{bmatrix}\n",
    "\\rightarrow\n",
    "\\begin{bmatrix}\n",
    "1 & -\\frac{2}{3} & 6 & -\\frac{19}{3} & \\frac{5}{3}\\\\\n",
    "2 & 3 & -1 & -4 & -1\\\\\n",
    "4 & 5 & 1 & -10 & -1\\\\\n",
    "\\end{bmatrix}\n",
    "\\rightarrow\n",
    "\\begin{bmatrix}\n",
    "1 & -\\frac{2}{3} & 6 & -\\frac{19}{3} & \\frac{5}{3}\\\\\n",
    "0 & \\frac{13}{3} & -13 & \\frac{26}{3} & -\\frac{13}{3}\\\\\n",
    "4 & 5 & 1 & -10 & -1\\\\\n",
    "\\end{bmatrix}\n",
    "\\rightarrow\n",
    "\\begin{bmatrix}\n",
    "1 & -\\frac{2}{3} & 6 & -\\frac{19}{3} & \\frac{5}{3}\\\\\n",
    "0 & 1 & -3 & 2 & -1\\\\\n",
    "4 & 5 & 1 & -10 & -1\\\\\n",
    "\\end{bmatrix}\n",
    "\\rightarrow\n",
    "\\begin{bmatrix}\n",
    "1 & -\\frac{2}{3} & 6 & -\\frac{19}{3} & \\frac{5}{3}\\\\\n",
    "0 & 1 & -3 & 2 & -1\\\\\n",
    "0 & \\frac{23}{3} & -23 & \\frac{46}{3} & -\\frac{23}{3}\\\\\n",
    "\\end{bmatrix}\n",
    "\\rightarrow\n",
    "\\begin{bmatrix}\n",
    "1 & -\\frac{2}{3} & 6 & -\\frac{19}{3} & \\frac{5}{3}\\\\\n",
    "0 & 1 & -3 & 2 & -1\\\\\n",
    "0 & 1 & -3 & 2 & -1\\\\\n",
    "\\end{bmatrix}\n",
    "\\rightarrow\n",
    "\\begin{bmatrix}\n",
    "1 & -\\frac{2}{3} & 6 & -\\frac{19}{3} & \\frac{5}{3}\\\\\n",
    "0 & 1 & -3 & 2 & -1\\\\\n",
    "0 & 0 & 0 & 0 & 0\\\\\n",
    "\\end{bmatrix}\n",
    "\\rightarrow\n",
    "\\begin{bmatrix}\n",
    "1 & 0 & 4 & -5 & 1\\\\\n",
    "0 & 1 & -3 & 2 & -1\\\\\n",
    "0 & 0 & 0 & 0 & 0\\\\\n",
    "\\end{bmatrix}\n",
    "$$"
   ]
  },
  {
   "cell_type": "markdown",
   "metadata": {},
   "source": [
    "$$\n",
    "\\begin{split}\n",
    "x_1&=-4s+5t+1\\\\\n",
    "x_2&=3s-2t-1\\\\\n",
    "x_3&=s\\\\\n",
    "x_4&=t\\\\\n",
    "\\end{split}\n",
    "\\rightarrow\n",
    "\\begin{bmatrix}\n",
    "x_1\\\\\n",
    "x_2\\\\\n",
    "x_3\\\\\n",
    "x_4\\\\\n",
    "\\end{bmatrix}\n",
    "=\n",
    "s\n",
    "\\begin{bmatrix}\n",
    "-4\\\\\n",
    "3\\\\\n",
    "1\\\\\n",
    "0\\\\\n",
    "\\end{bmatrix}\n",
    "+\n",
    "t\n",
    "\\begin{bmatrix}\n",
    "5\\\\\n",
    "-2\\\\\n",
    "0\\\\\n",
    "1\\\\\n",
    "\\end{bmatrix}\n",
    "+\n",
    "\\begin{bmatrix}\n",
    "1\\\\\n",
    "-1\\\\\n",
    "0\\\\\n",
    "0\\\\\n",
    "\\end{bmatrix}\n",
    "$$"
   ]
  },
  {
   "cell_type": "code",
   "execution_count": 2,
   "metadata": {},
   "outputs": [
    {
     "data": {
      "image/png": "[encoded data removed]",
      "text/latex": [
       "$\\displaystyle \\left( \\left[\\begin{matrix}1 & 0 & 4 & -5 & 1\\\\0 & 1 & -3 & 2 & -1\\\\0 & 0 & 0 & 0 & 0\\end{matrix}\\right], \\  \\left( 0, \\  1\\right)\\right)$"
      ],
      "text/plain": [
       "⎛⎡1  0  4   -5  1 ⎤        ⎞\n",
       "⎜⎢                ⎥        ⎟\n",
       "⎜⎢0  1  -3  2   -1⎥, (0, 1)⎟\n",
       "⎜⎢                ⎥        ⎟\n",
       "⎝⎣0  0  0   0   0 ⎦        ⎠"
      ]
     },
     "execution_count": 2,
     "metadata": {
      "filenames": {
       "image/png": "/Users/davefriedman/Documents/repo/myGitHub/resources_public/docs/_build/jupyter_execute/nbs/LinearAlgebra_10_0.png"
      }
     },
     "output_type": "execute_result"
    }
   ],
   "source": [
    "M = Matrix(3, 5, [3, -2, 18, -19, 5, 2, 3, -1, -4, -1, 4, 5, 1, -10, -1])\n",
    "M.rref()"
   ]
  },
  {
   "cell_type": "markdown",
   "metadata": {},
   "source": [
    "---"
   ]
  },
  {
   "cell_type": "markdown",
   "metadata": {},
   "source": [
    "Find a $3\\times 3$ matrix $T$ satisfying the following properties:\n",
    "* $\\begin{bmatrix}1\\\\0\\\\0\\\\\\end{bmatrix}$ is an eigenvector of $T$ associated with the eigenvalue $1$;\n",
    "* $\\begin{bmatrix}1\\\\1\\\\0\\\\\\end{bmatrix}$ is an eigenvector of $T$ associated with the eigenvalue $2$;\n",
    "* $\\begin{bmatrix}1\\\\1\\\\1\\\\\\end{bmatrix}$ is an eigenvector of $T$ associated with the eigenvalue $3$."
   ]
  },
  {
   "cell_type": "markdown",
   "metadata": {},
   "source": [
    "---"
   ]
  },
  {
   "cell_type": "markdown",
   "metadata": {},
   "source": [
    "$$\n",
    "T\n",
    "=\n",
    "\\begin{bmatrix}\n",
    "1 & 1 & 1\\\\\n",
    "0 & 2 & 1\\\\\n",
    "0 & 0 & 3\\\\\n",
    "\\end{bmatrix}\n",
    "$$\n",
    "\n",
    "$$\n",
    "T\\mathbf{v_1}=\n",
    "\\begin{bmatrix}\n",
    "1 & 1 & 1\\\\\n",
    "0 & 2 & 1\\\\\n",
    "0 & 0 & 3\\\\\n",
    "\\end{bmatrix}\n",
    "\\begin{bmatrix}1\\\\0\\\\0\\\\\\end{bmatrix}\n",
    "=\n",
    "\\begin{bmatrix}1\\\\0\\\\0\\\\\\end{bmatrix}\n",
    "=\n",
    "1\\begin{bmatrix}1\\\\0\\\\0\\\\\\end{bmatrix}\n",
    "=\n",
    "\\lambda_1\\mathbf{v_1}\n",
    "$$\n",
    "\n",
    "$$\n",
    "T\\mathbf{v_2}=\n",
    "\\begin{bmatrix}\n",
    "1 & 1 & 1\\\\\n",
    "0 & 2 & 1\\\\\n",
    "0 & 0 & 3\\\\\n",
    "\\end{bmatrix}\n",
    "\\begin{bmatrix}1\\\\1\\\\0\\\\\\end{bmatrix}\n",
    "=\n",
    "\\begin{bmatrix}2\\\\2\\\\0\\\\\\end{bmatrix}\n",
    "=\n",
    "2\\begin{bmatrix}1\\\\1\\\\0\\\\\\end{bmatrix}\n",
    "=\n",
    "\\lambda_2\\mathbf{v_2}\n",
    "$$\n",
    "\n",
    "$$\n",
    "T\\mathbf{v_3}=\n",
    "\\begin{bmatrix}\n",
    "1 & 1 & 1\\\\\n",
    "0 & 2 & 1\\\\\n",
    "0 & 0 & 3\\\\\n",
    "\\end{bmatrix}\n",
    "\\begin{bmatrix}1\\\\1\\\\1\\\\\\end{bmatrix}\n",
    "=\n",
    "\\begin{bmatrix}3\\\\3\\\\3\\\\\\end{bmatrix}\n",
    "=\n",
    "3\\begin{bmatrix}1\\\\1\\\\1\\\\\\end{bmatrix}\n",
    "=\n",
    "\\lambda_3\\mathbf{v_3}\n",
    "$$"
   ]
  },
  {
   "cell_type": "code",
   "execution_count": 3,
   "metadata": {},
   "outputs": [
    {
     "name": "stdout",
     "output_type": "stream",
     "text": [
      "[1 0 0]\n",
      "[2 2 0]\n",
      "[3 3 3]\n"
     ]
    }
   ],
   "source": [
    "T = np.array([1, 1, 1, 0, 2, 1, 0, 0, 3]).reshape(3, 3)\n",
    "v1 = np.array([1, 0, 0])\n",
    "v2 = np.array([1, 1, 0])\n",
    "v3 = np.array([1, 1, 1])\n",
    "print(np.dot(T, v1))\n",
    "print(np.dot(T, v2))\n",
    "print(np.dot(T, v3))"
   ]
  },
  {
   "cell_type": "markdown",
   "metadata": {},
   "source": [
    "---"
   ]
  },
  {
   "cell_type": "markdown",
   "metadata": {},
   "source": [
    "The volume of the parallelotope built on the columns of a matrix $M$ is $\\sqrt{det(M^TM)}$. Compute $\\sqrt{det(M^TM)}$ for\n",
    "$$\n",
    "M=\n",
    "\\begin{bmatrix}\n",
    "3 & 5 & -1\\\\\n",
    "-1 & -2 & 1\\\\\n",
    "2 & 4 & -2\\\\\n",
    "-4 & 1 & 5\\\\\n",
    "\\end{bmatrix}\n",
    "\\text{.}\n",
    "$$"
   ]
  },
  {
   "cell_type": "markdown",
   "metadata": {},
   "source": [
    "---"
   ]
  },
  {
   "cell_type": "markdown",
   "metadata": {},
   "source": [
    "$$\n",
    "M^TM\n",
    "=\n",
    "\\begin{bmatrix}\n",
    "3 & -1 & 2 & -4\\\\\n",
    "5 & -2 & 4 & 1\\\\\n",
    "-1 & 1 & -2 & 5\\\\\n",
    "\\end{bmatrix}\n",
    "\\begin{bmatrix}\n",
    "3 & 5 & -1\\\\\n",
    "-1 & -2 & 1\\\\\n",
    "2 & 4 & -2\\\\\n",
    "-4 & 1 & 5\\\\\n",
    "\\end{bmatrix}\n",
    "$$"
   ]
  },
  {
   "cell_type": "markdown",
   "metadata": {},
   "source": [
    "$$\n",
    "\\begin{align}\n",
    "(3)(3)+(-1)(-1)+(2)(2)+(-4)(-4) &= 30\\\\\n",
    "(3)(5)+(-1)(-2)+(2)(4)+(-4)(1) &= 21\\\\\n",
    "(3)(-1)+(-1)(1)+(2)(-2)+(-4)(5) &= -28\\\\\n",
    "(5)(3)+(-2)(-1)+(4)(2)+(1)(-4) &= 21\\\\\n",
    "(5)(5)+(-2)(-2)+(4)(4)+(1)(1) &= 46\\\\\n",
    "(5)(-1)+(-2)(1)+(4)(-2)+(1)(5) &= -10\\\\\n",
    "(-1)(3)+(1)(-1)+(-2)(2)+(5)(-4) &= -28\\\\\n",
    "(-1)(5)+(1)(-2)+(-2)(4)+(5)(1) &= -10\\\\\n",
    "(-1)(-1)+(1)(1)+(-2)(-2)+(5)(5) &= 31\\\\\n",
    "\\end{align}\n",
    "$$"
   ]
  },
  {
   "cell_type": "markdown",
   "metadata": {},
   "source": [
    "$$\n",
    "=\n",
    "\\begin{bmatrix}\n",
    "30 & 21 & -28\\\\\n",
    "21 & 46 & -10\\\\\n",
    "-28 & -10 & 31\\\\\n",
    "\\end{bmatrix}\n",
    "$$"
   ]
  },
  {
   "cell_type": "markdown",
   "metadata": {},
   "source": [
    "$$\n",
    "\\begin{vmatrix}\n",
    "30 & 21 & -28\\\\\n",
    "21 & 46 & -10\\\\\n",
    "-28 & -10 & 31\\\\\n",
    "\\end{vmatrix}\n",
    "=\n",
    "30\n",
    "\\begin{vmatrix}\n",
    "46 & -10\\\\\n",
    "-10 & 31\\\\\n",
    "\\end{vmatrix}\n",
    "-\n",
    "21\n",
    "\\begin{vmatrix}\n",
    "21 & -10\\\\\n",
    "-28 & 31\\\\\n",
    "\\end{vmatrix}\n",
    "+\n",
    "-28\n",
    "\\begin{vmatrix}\n",
    "21 & 46\\\\\n",
    "-28 & -10\\\\\n",
    "\\end{vmatrix}\\\\\n",
    "=\n",
    "30((46)(31)-(-10)(-10))-21((21)(31)-(-10)(-28))-28((21)(-10)-(46)(-28))\\\\\n",
    "=\n",
    "30(1426-100)-21(651-280)-28(-210+1288)\\\\\n",
    "=\n",
    "30(1326)-21(371)-28(1078)\\\\\n",
    "=\n",
    "1805\\\\\n",
    "$$\n",
    "\n",
    "$$\n",
    "\\sqrt{1805}\\approx 42.5\n",
    "$$"
   ]
  },
  {
   "cell_type": "code",
   "execution_count": 4,
   "metadata": {},
   "outputs": [
    {
     "data": {
      "text/plain": [
       "array([[ 30,  21, -28],\n",
       "       [ 21,  46, -10],\n",
       "       [-28, -10,  31]])"
      ]
     },
     "execution_count": 4,
     "metadata": {},
     "output_type": "execute_result"
    }
   ],
   "source": [
    "M3 = np.array([3, 5, -1, -1, -2, 1, 2, 4, -2, -4, 1, 5]).reshape(4, 3)\n",
    "M3TM3 = np.dot(M3.T, M3)\n",
    "M3TM3"
   ]
  },
  {
   "cell_type": "code",
   "execution_count": 5,
   "metadata": {},
   "outputs": [
    {
     "data": {
      "image/png": "[encoded data removed]",
      "text/latex": [
       "$\\displaystyle 42.485291572496$"
      ],
      "text/plain": [
       "42.48529157249602"
      ]
     },
     "execution_count": 5,
     "metadata": {
      "filenames": {
       "image/png": "/Users/davefriedman/Documents/repo/myGitHub/resources_public/docs/_build/jupyter_execute/nbs/LinearAlgebra_24_0.png"
      }
     },
     "output_type": "execute_result"
    }
   ],
   "source": [
    "np.sqrt(np.linalg.det(M3TM3))"
   ]
  },
  {
   "cell_type": "markdown",
   "metadata": {},
   "source": [
    "---"
   ]
  },
  {
   "cell_type": "markdown",
   "metadata": {},
   "source": [
    "Compute the orthogonal projection of the vector $\\begin{bmatrix}17\\\\3\\\\-14\\\\6\\\\\\end{bmatrix}$ onto the linear subspace $\\mathbb{R}^4$ spanned by the vectors $\\begin{bmatrix}2\\\\3\\\\-1\\\\-4\\\\\\end{bmatrix}$ and $\\begin{bmatrix}4\\\\5\\\\-2\\\\1\\\\\\end{bmatrix}$."
   ]
  },
  {
   "cell_type": "markdown",
   "metadata": {},
   "source": [
    "---"
   ]
  },
  {
   "cell_type": "markdown",
   "metadata": {},
   "source": [
    "See attached"
   ]
  },
  {
   "cell_type": "markdown",
   "metadata": {},
   "source": [
    "---"
   ]
  },
  {
   "cell_type": "markdown",
   "metadata": {},
   "source": [
    "Find the matrix representing the linear transformation $L : \\mathbb{R}^3\\rightarrow\\mathbb{R}^3$ which reflects the points of $\\mathbb{R}^3$ through the plane $2x-y+3z=0$."
   ]
  },
  {
   "cell_type": "markdown",
   "metadata": {},
   "source": [
    "---"
   ]
  },
  {
   "cell_type": "markdown",
   "metadata": {},
   "source": [
    "$$\n",
    "2x-y+3z=0\n",
    "\\rightarrow\n",
    "\\left\\{\n",
    "\\begin{bmatrix}\n",
    "x_1\\\\\n",
    "x_2\\\\\n",
    "x_3\\\\\n",
    "\\end{bmatrix}\n",
    "\\text{s.t.}\n",
    "\\begin{bmatrix}\n",
    "2\\\\\n",
    "-1\\\\\n",
    "3\\\\\n",
    "\\end{bmatrix}\n",
    "\\perp\n",
    "\\begin{bmatrix}\n",
    "x_1\\\\\n",
    "x_2\\\\\n",
    "x_3\\\\\n",
    "\\end{bmatrix}\n",
    "\\right\\}\n",
    "$$"
   ]
  },
  {
   "cell_type": "markdown",
   "metadata": {},
   "source": [
    "Norm of the vector normal to the plane of reflection."
   ]
  },
  {
   "cell_type": "markdown",
   "metadata": {},
   "source": [
    "$$\n",
    "\\left\\Vert\n",
    "\\begin{bmatrix}\n",
    "2\\\\\n",
    "-1\\\\\n",
    "3\\\\\n",
    "\\end{bmatrix}\n",
    "\\right\\Vert\n",
    "=\\sqrt{2^2+(-1)^2+3^2}\n",
    "=\\sqrt{4+1+9}\n",
    "=\\sqrt{14}\n",
    "$$"
   ]
  },
  {
   "cell_type": "markdown",
   "metadata": {},
   "source": [
    "Unit vector of the vector normal to the plane of reflection."
   ]
  },
  {
   "cell_type": "markdown",
   "metadata": {},
   "source": [
    "$$\n",
    "\\frac{\n",
    "\\begin{bmatrix}\n",
    "2\\\\\n",
    "-1\\\\\n",
    "3\\\\\n",
    "\\end{bmatrix}\n",
    "}\n",
    "{\n",
    "\\left\\Vert\n",
    "\\begin{bmatrix}\n",
    "2\\\\\n",
    "-1\\\\\n",
    "3\\\\\n",
    "\\end{bmatrix}\n",
    "\\right\\Vert\n",
    "}\n",
    "=\n",
    "\\frac{1}{\\sqrt{14}}\n",
    "\\begin{bmatrix}\n",
    "2\\\\\n",
    "-1\\\\\n",
    "3\\\\\n",
    "\\end{bmatrix}\n",
    "=\n",
    "\\begin{bmatrix}\n",
    "\\frac{2}{\\sqrt{14}}\\\\\n",
    "-\\frac{1}{\\sqrt{14}}\\\\\n",
    "\\frac{3}{\\sqrt{14}}\\\\\n",
    "\\end{bmatrix}\n",
    "$$"
   ]
  },
  {
   "cell_type": "markdown",
   "metadata": {},
   "source": [
    "__Orthogonal Decomposition Theorem__ Given a two-dimensional linear subspace $W$ in $\\mathbb{R}^3$ (i.e., a plane), a point $\\mathbf{y}\\in\\mathbb{R}^3$ consists of the sum of a unique orthogonal projection $\\mathbf{y_{||}}$ of $\\mathbf{y}$ onto $W$ and the unique component $\\mathbf{y_{\\perp}}$ of $\\mathbf{y}$ orthogonal to $W$. In other words, $\\mathbf{y}=\\mathbf{y_{||}}+\\mathbf{y_{\\perp}}$\n",
    "\n",
    "$L$ reverses the orthogonal component of a point $\\mathbf{y}\\in\\mathbb{R}^3$.\n",
    "\n",
    "$$\n",
    "M\\mathbf{y}\n",
    "$$\n",
    "$$\n",
    "=I(\\mathbf{y_{||}}-\\mathbf{y_{\\perp}})\n",
    "$$\n",
    "$$\n",
    "=I\\mathbf{y_{||}}-I\\mathbf{y_{\\perp}}\n",
    "$$\n",
    "$$\n",
    "=I(\\mathbf{y}-\\mathbf{y_{\\perp}})-I\\mathbf{y_{\\perp}}\n",
    "$$\n",
    "$$\n",
    "=I\\mathbf{y}-I\\mathbf{y_{\\perp}}-I\\mathbf{y_{\\perp}}\n",
    "$$\n",
    "$$\n",
    "=I\\mathbf{y}-2I\\mathbf{y_{\\perp}}\n",
    "$$"
   ]
  },
  {
   "cell_type": "markdown",
   "metadata": {},
   "source": [
    "$$\n",
    "\\mathbf{y_{\\perp}}\n",
    "=r\\mathbf{n}\\,\\text{where}\\,\\mathbf{n}\\,\\text{is the unit vector normal to the plane of reflection and}\\,r\\,\\text{is some scalar}\n",
    "$$\n",
    "$$\n",
    "(\\mathbf{y}-r\\mathbf{n})\\cdot\\mathbf{n}=0\n",
    "$$\n",
    "$$\n",
    "\\mathbf{y}\\cdot\\mathbf{n}-(r\\mathbf{n})\\cdot\\mathbf{n}=0\n",
    "$$\n",
    "$$\n",
    "\\mathbf{y}\\cdot\\mathbf{n}=r(\\mathbf{n}\\cdot\\mathbf{n})\n",
    "$$\n",
    "$$\n",
    "r=\\frac{\\mathbf{y}\\cdot\\mathbf{n}}{\\mathbf{n}\\cdot\\mathbf{n}}\n",
    "$$"
   ]
  },
  {
   "cell_type": "markdown",
   "metadata": {},
   "source": [
    "$$\n",
    "=I\\mathbf{y}-2I\\mathbf{y_{\\perp}}\n",
    "$$\n",
    "$$\n",
    "=I\\mathbf{y}-2I(r\\mathbf{n})\n",
    "$$\n",
    "$$\n",
    "=I\\mathbf{y}-2I\\left(\\frac{\\mathbf{y}\\cdot\\mathbf{n}}{\\mathbf{n}\\cdot\\mathbf{n}}\\mathbf{n}\\right)\n",
    "$$\n",
    "$$\n",
    "=I\\mathbf{y}-2I(\\mathbf{y}\\cdot\\mathbf{n})\\mathbf{n}\n",
    "$$\n",
    "$$\n",
    "=I\\mathbf{y}-2I\\mathbf{y}\\mathbf{n^T}\\mathbf{n}\n",
    "$$\n",
    "$$\n",
    "=(I-2I\\mathbf{n^T}\\mathbf{n})\\mathbf{y}\n",
    "$$"
   ]
  },
  {
   "cell_type": "markdown",
   "metadata": {},
   "source": [
    "$$\n",
    "I-2\n",
    "\\begin{bmatrix}\n",
    "\\frac{2}{\\sqrt{14}}\\\\\n",
    "-\\frac{1}{\\sqrt{14}}\\\\\n",
    "\\frac{3}{\\sqrt{14}}\\\\\n",
    "\\end{bmatrix}\n",
    "\\begin{bmatrix}\n",
    "\\frac{2}{\\sqrt{14}} & -\\frac{1}{\\sqrt{14}} & \\frac{3}{\\sqrt{14}}\\\\\n",
    "\\end{bmatrix}\n",
    "$$\n",
    "$$\n",
    "=\n",
    "I-2\n",
    "\\begin{bmatrix}\n",
    "\\frac{2}{\\sqrt{14}}\\frac{2}{\\sqrt{14}} & \\frac{2}{\\sqrt{14}}\\left(-\\frac{1}{\\sqrt{14}}\\right) & \\frac{2}{\\sqrt{14}}\\frac{3}{\\sqrt{14}}\\\\\n",
    "\\left(-\\frac{1}{\\sqrt{14}}\\right)\\frac{2}{\\sqrt{14}} & \\left(-\\frac{1}{\\sqrt{14}}\\right)\\left(-\\frac{1}{\\sqrt{14}}\\right) & \\left(-\\frac{1}{\\sqrt{14}}\\right)\\frac{3}{\\sqrt{14}}\\\\\n",
    "\\frac{3}{\\sqrt{14}}\\frac{2}{\\sqrt{14}} & \\frac{3}{\\sqrt{14}}\\left(-\\frac{1}{\\sqrt{14}}\\right) & \\frac{3}{\\sqrt{14}}\\frac{3}{\\sqrt{14}}\\\\\n",
    "\\end{bmatrix}\n",
    "$$\n",
    "$$\n",
    "=\n",
    "I-2\n",
    "\\begin{bmatrix}\n",
    "\\frac{4}{14} & -\\frac{2}{14} & \\frac{6}{14}\\\\\n",
    "-\\frac{2}{14} & \\frac{1}{14} & -\\frac{3}{14}\\\\\n",
    "\\frac{6}{14} & -\\frac{3}{14} & \\frac{9}{14}\\\\\n",
    "\\end{bmatrix}\n",
    "$$\n",
    "$$\n",
    "=\n",
    "I-\n",
    "\\begin{bmatrix}\n",
    "\\frac{8}{14} & -\\frac{4}{14} & \\frac{12}{14}\\\\\n",
    "-\\frac{4}{14} & \\frac{2}{14} & -\\frac{6}{14}\\\\\n",
    "\\frac{12}{14} & -\\frac{6}{14} & \\frac{18}{14}\\\\\n",
    "\\end{bmatrix}\n",
    "$$\n",
    "$$\n",
    "=\n",
    "\\begin{bmatrix}\n",
    "1 & 0 & 0\\\\\n",
    "0 & 1 & 0\\\\\n",
    "0 & 0 & 1\\\\\n",
    "\\end{bmatrix}\n",
    "-\n",
    "\\begin{bmatrix}\n",
    "\\frac{8}{14} & -\\frac{4}{14} & \\frac{12}{14}\\\\\n",
    "-\\frac{4}{14} & \\frac{2}{14} & -\\frac{6}{14}\\\\\n",
    "\\frac{12}{14} & -\\frac{6}{14} & \\frac{18}{14}\\\\\n",
    "\\end{bmatrix}\n",
    "$$\n",
    "$$\n",
    "=\n",
    "\\begin{bmatrix}\n",
    "1-\\frac{8}{14} & \\frac{4}{14} & -\\frac{12}{14}\\\\\n",
    "\\frac{4}{14} & 1-\\frac{2}{14} & \\frac{6}{14}\\\\\n",
    "-\\frac{12}{14} & \\frac{6}{14} & 1-\\frac{18}{14}\\\\\n",
    "\\end{bmatrix}\n",
    "$$\n",
    "$$\n",
    "=\n",
    "\\begin{bmatrix}\n",
    "\\frac{6}{14} & \\frac{4}{14} & -\\frac{12}{14}\\\\\n",
    "\\frac{4}{14} & \\frac{12}{14} & \\frac{6}{14}\\\\\n",
    "-\\frac{12}{14} & \\frac{6}{14} & -\\frac{4}{14}\\\\\n",
    "\\end{bmatrix}\n",
    "$$\n",
    "$$\n",
    "=\n",
    "\\begin{bmatrix}\n",
    "\\frac{3}{7} & \\frac{2}{7} & -\\frac{6}{7}\\\\\n",
    "\\frac{2}{7} & \\frac{6}{7} & \\frac{3}{7}\\\\\n",
    "-\\frac{6}{7} & \\frac{3}{7} & -\\frac{2}{7}\\\\\n",
    "\\end{bmatrix}\n",
    "$$"
   ]
  },
  {
   "cell_type": "code",
   "execution_count": 6,
   "metadata": {},
   "outputs": [
    {
     "data": {
      "text/plain": [
       "array([[ 0.53452248],\n",
       "       [-0.26726124],\n",
       "       [ 0.80178373]])"
      ]
     },
     "execution_count": 6,
     "metadata": {},
     "output_type": "execute_result"
    }
   ],
   "source": [
    "N = np.array([[2], [-1], [3]])\n",
    "n = np.multiply(np.divide(1, np.sqrt(np.square(N).sum())), N)\n",
    "assert np.divide(1, np.sqrt((n**2).sum())) == 1\n",
    "assert np.dot(n.T, n)\n",
    "n"
   ]
  },
  {
   "cell_type": "code",
   "execution_count": 7,
   "metadata": {},
   "outputs": [
    {
     "data": {
      "text/plain": [
       "array([[ 0.42857143,  0.28571429, -0.85714286],\n",
       "       [ 0.28571429,  0.85714286,  0.42857143],\n",
       "       [-0.85714286,  0.42857143, -0.28571429]])"
      ]
     },
     "execution_count": 7,
     "metadata": {},
     "output_type": "execute_result"
    }
   ],
   "source": [
    "M = np.array([[3/7, 2/7, -6/7], [2/7, 6/7, 3/7], [-6/7, 3/7, -2/7]])\n",
    "M"
   ]
  },
  {
   "cell_type": "code",
   "execution_count": 8,
   "metadata": {},
   "outputs": [
    {
     "data": {
      "text/plain": [
       "array([[-1.57142857],\n",
       "       [ 3.28571429],\n",
       "       [-0.85714286]])"
      ]
     },
     "execution_count": 8,
     "metadata": {},
     "output_type": "execute_result"
    }
   ],
   "source": [
    "y = np.array([[1], [2], [3]])\n",
    "ref = np.dot(M, y)\n",
    "ref"
   ]
  },
  {
   "cell_type": "code",
   "execution_count": 9,
   "metadata": {},
   "outputs": [
    {
     "data": {
      "text/plain": [
       "array([[ 1.28571429],\n",
       "       [-0.64285714],\n",
       "       [ 1.92857143]])"
      ]
     },
     "execution_count": 9,
     "metadata": {},
     "output_type": "execute_result"
    }
   ],
   "source": [
    "y_orth = np.multiply(np.dot(y.T, n), n)\n",
    "y_orth"
   ]
  },
  {
   "cell_type": "code",
   "execution_count": 10,
   "metadata": {},
   "outputs": [
    {
     "data": {
      "text/plain": [
       "array([[-1.57142857],\n",
       "       [ 3.28571429],\n",
       "       [-0.85714286]])"
      ]
     },
     "execution_count": 10,
     "metadata": {},
     "output_type": "execute_result"
    }
   ],
   "source": [
    "y-2*y_orth"
   ]
  },
  {
   "cell_type": "markdown",
   "metadata": {},
   "source": [
    "---"
   ]
  },
  {
   "cell_type": "markdown",
   "metadata": {},
   "source": [
    "Consider the matrix\n",
    "$$\n",
    "H=\n",
    "\\begin{bmatrix}\n",
    "2 & -1 & 1 & -3 & -3\\\\\n",
    "-3 & 1 & -2 & 2 & 1\\\\\n",
    "0 & 2 & 2 & 2 & 6\\\\\n",
    "\\end{bmatrix}\n",
    "\\text{.}\n",
    "$$\n",
    "(a) Find the reduced row echelon matrix which is row equivalent to $H$.<br>\n",
    "(b) Obtain a basis for the nullspace of $H$.<br>\n",
    "(c) Compute the rank of $H$.<br>"
   ]
  },
  {
   "cell_type": "markdown",
   "metadata": {},
   "source": [
    "---"
   ]
  },
  {
   "cell_type": "markdown",
   "metadata": {},
   "source": [
    "$$\n",
    "\\begin{bmatrix}\n",
    "2 & -1 & 1 & -3 & -3\\\\\n",
    "-3 & 1 & -2 & 2 & 1\\\\\n",
    "0 & 2 & 2 & 2 & 6\\\\\n",
    "\\end{bmatrix}\n",
    "$$\n",
    "$$\n",
    "=\n",
    "\\begin{bmatrix}\n",
    "1 & -\\frac{1}{2} & \\frac{1}{2} & -\\frac{3}{2} & -\\frac{3}{2}\\\\\n",
    "-3 & 1 & -2 & 2 & 1\\\\\n",
    "0 & 2 & 2 & 2 & 6\\\\\n",
    "\\end{bmatrix}\n",
    "$$\n",
    "$$\n",
    "=\n",
    "\\begin{bmatrix}\n",
    "1 & -\\frac{1}{2} & \\frac{1}{2} & -\\frac{3}{2} & -\\frac{3}{2}\\\\\n",
    "0 & -\\frac{1}{2} & -\\frac{1}{2} & -\\frac{5}{2} & -\\frac{7}{2}\\\\\n",
    "0 & 2 & 2 & 2 & 6\\\\\n",
    "\\end{bmatrix}\n",
    "$$\n",
    "$$\n",
    "=\n",
    "\\begin{bmatrix}\n",
    "1 & -\\frac{1}{2} & \\frac{1}{2} & -\\frac{3}{2} & -\\frac{3}{2}\\\\\n",
    "0 & 1 & 1 & 5 & 7\\\\\n",
    "0 & 2 & 2 & 2 & 6\\\\\n",
    "\\end{bmatrix}\n",
    "$$\n",
    "$$\n",
    "=\n",
    "\\begin{bmatrix}\n",
    "1 & -\\frac{1}{2} & \\frac{1}{2} & -\\frac{3}{2} & -\\frac{3}{2}\\\\\n",
    "0 & 1 & 1 & 5 & 7\\\\\n",
    "0 & 0 & 0 & -8 & -8\\\\\n",
    "\\end{bmatrix}\n",
    "$$\n",
    "$$\n",
    "=\n",
    "\\begin{bmatrix}\n",
    "1 & -\\frac{1}{2} & \\frac{1}{2} & -\\frac{3}{2} & -\\frac{3}{2}\\\\\n",
    "0 & 1 & 1 & 5 & 7\\\\\n",
    "0 & 0 & 0 & 1 & 1\\\\\n",
    "\\end{bmatrix}\n",
    "$$\n",
    "$$\n",
    "=\n",
    "\\begin{bmatrix}\n",
    "1 & -\\frac{1}{2} & \\frac{1}{2} & 0 & 0\\\\\n",
    "0 & 1 & 1 & 0 & 2\\\\\n",
    "0 & 0 & 0 & 1 & 1\\\\\n",
    "\\end{bmatrix}\n",
    "$$\n",
    "$$\n",
    "=\n",
    "\\begin{bmatrix}\n",
    "1 & 0 & 1 & 0 & 1\\\\\n",
    "0 & 1 & 1 & 0 & 2\\\\\n",
    "0 & 0 & 0 & 1 & 1\\\\\n",
    "\\end{bmatrix}\n",
    "$$"
   ]
  },
  {
   "cell_type": "markdown",
   "metadata": {},
   "source": [
    "$Nul(H)$ is found by solving the homogeneous system $H\\mathbf{x}=\\mathbf{0}$ which is done by row reduction of the augmented matrix."
   ]
  },
  {
   "cell_type": "markdown",
   "metadata": {},
   "source": [
    "$$\n",
    "x_1+x_3+x_5=0\\rightarrow x_1=-x_3-x_5\\\\\n",
    "x_2+x_3+2x_5=0\\rightarrow x_2=-x_3-2x_5\\\\\n",
    "x_4+x_5=0\\rightarrow x_4=-x_5\n",
    "$$"
   ]
  },
  {
   "cell_type": "markdown",
   "metadata": {},
   "source": [
    "$$\n",
    "\\begin{split}\n",
    "x_1&=-s-t\\\\\n",
    "x_2&=-s-2t\\\\\n",
    "x_4&=-t\\\\\n",
    "x_3&=s\\\\\n",
    "x_5&=t\\\\\n",
    "\\end{split}\n",
    "\\rightarrow\n",
    "\\begin{bmatrix}\n",
    "x_1\\\\\n",
    "x_2\\\\\n",
    "x_3\\\\\n",
    "x_4\\\\\n",
    "x_5\\\\\n",
    "\\end{bmatrix}\n",
    "=\n",
    "s\n",
    "\\begin{bmatrix}\n",
    "-1\\\\\n",
    "-1\\\\\n",
    "0\\\\\n",
    "1\\\\\n",
    "0\\\\\n",
    "\\end{bmatrix}\n",
    "+\n",
    "t\n",
    "\\begin{bmatrix}\n",
    "-1\\\\\n",
    "-2\\\\\n",
    "-1\\\\\n",
    "0\\\\\n",
    "1\\\\\n",
    "\\end{bmatrix}\n",
    "$$"
   ]
  },
  {
   "cell_type": "markdown",
   "metadata": {},
   "source": [
    "$$\n",
    "Nul(H)=span\n",
    "\\left\\{\n",
    "\\begin{bmatrix}\n",
    "-1\\\\\n",
    "-1\\\\\n",
    "0\\\\\n",
    "1\\\\\n",
    "0\\\\\n",
    "\\end{bmatrix}\n",
    ",\n",
    "\\begin{bmatrix}\n",
    "-1\\\\\n",
    "-2\\\\\n",
    "-1\\\\\n",
    "0\\\\\n",
    "1\\\\\n",
    "\\end{bmatrix}\n",
    "\\right\\}\n",
    "\\rightarrow\n",
    "basis(H)=\n",
    "\\left\\{\n",
    "\\begin{bmatrix}\n",
    "-1\\\\\n",
    "-1\\\\\n",
    "0\\\\\n",
    "1\\\\\n",
    "0\\\\\n",
    "\\end{bmatrix}\n",
    ",\n",
    "\\begin{bmatrix}\n",
    "-1\\\\\n",
    "-2\\\\\n",
    "-1\\\\\n",
    "0\\\\\n",
    "1\\\\\n",
    "\\end{bmatrix}\n",
    "\\right\\}\n",
    "$$"
   ]
  },
  {
   "cell_type": "markdown",
   "metadata": {},
   "source": [
    "By the rank theorem,\n",
    "$\n",
    "rk(H)+dim(Nul(H))=num\\_cols(H)\n",
    "\\rightarrow rk(H)=num\\_cols(H)-dim(Nul(H))\n",
    "=5-2\n",
    "=3\n",
    "$"
   ]
  },
  {
   "cell_type": "code",
   "execution_count": 11,
   "metadata": {},
   "outputs": [
    {
     "data": {
      "image/png": "[encoded data removed]",
      "text/latex": [
       "$\\displaystyle \\left[\\begin{matrix}2 & -1 & 1 & -3 & -3\\\\-3 & 1 & -2 & 2 & 1\\\\0 & 2 & 2 & 2 & 6\\end{matrix}\\right]$"
      ],
      "text/plain": [
       "⎡2   -1  1   -3  -3⎤\n",
       "⎢                  ⎥\n",
       "⎢-3  1   -2  2   1 ⎥\n",
       "⎢                  ⎥\n",
       "⎣0   2   2   2   6 ⎦"
      ]
     },
     "execution_count": 11,
     "metadata": {
      "filenames": {
       "image/png": "/Users/davefriedman/Documents/repo/myGitHub/resources_public/docs/_build/jupyter_execute/nbs/LinearAlgebra_55_0.png"
      }
     },
     "output_type": "execute_result"
    }
   ],
   "source": [
    "M6 = Matrix(3, 5, [2, -1, 1, -3, -3, -3, 1, -2, 2, 1, 0, 2, 2, 2, 6])\n",
    "M6"
   ]
  },
  {
   "cell_type": "code",
   "execution_count": 12,
   "metadata": {},
   "outputs": [
    {
     "data": {
      "image/png": "[encoded data removed]",
      "text/latex": [
       "$\\displaystyle \\left( \\left[\\begin{matrix}1 & 0 & 1 & 0 & 1\\\\0 & 1 & 1 & 0 & 2\\\\0 & 0 & 0 & 1 & 1\\end{matrix}\\right], \\  \\left( 0, \\  1, \\  3\\right)\\right)$"
      ],
      "text/plain": [
       "⎛⎡1  0  1  0  1⎤           ⎞\n",
       "⎜⎢             ⎥           ⎟\n",
       "⎜⎢0  1  1  0  2⎥, (0, 1, 3)⎟\n",
       "⎜⎢             ⎥           ⎟\n",
       "⎝⎣0  0  0  1  1⎦           ⎠"
      ]
     },
     "execution_count": 12,
     "metadata": {
      "filenames": {
       "image/png": "/Users/davefriedman/Documents/repo/myGitHub/resources_public/docs/_build/jupyter_execute/nbs/LinearAlgebra_56_0.png"
      }
     },
     "output_type": "execute_result"
    }
   ],
   "source": [
    "M6.rref()"
   ]
  },
  {
   "cell_type": "markdown",
   "metadata": {},
   "source": [
    "---"
   ]
  },
  {
   "cell_type": "markdown",
   "metadata": {},
   "source": [
    "Consider the matrix\n",
    "$$\n",
    "F=\n",
    "\\begin{bmatrix}\n",
    "-6 & 3 & -2 & 2\\\\\n",
    "-1 & 2 & 0 & 1\\\\\n",
    "-3 & 0 & -1 & 1\\\\\n",
    "5 & 8 & 3 & -3\\\\\n",
    "\\end{bmatrix}\n",
    "$$\n",
    "(a) Compute $F^{-1}$, the inverse of $F$.<br>\n",
    "(b) Compute $det(F)$.<br>"
   ]
  },
  {
   "cell_type": "markdown",
   "metadata": {},
   "source": [
    "---"
   ]
  },
  {
   "cell_type": "markdown",
   "metadata": {},
   "source": [
    "$F\\rightarrow I$ and $I\\rightarrow F^{-1}$\n",
    "1. $r_1,r_2\\leftarrow r_2,r_1$\n",
    "2. $r_1\\leftarrow -r_1$\n",
    "3. $r_2\\leftarrow r_2+6r_1$\n",
    "4. $r_3\\leftarrow r_3+3r_1$\n",
    "5. $r_4\\leftarrow r_4-5r_1$\n",
    "6. $r_2\\leftarrow -\\frac{1}{9}r_2$\n",
    "7. $r_3\\leftarrow r_3+6r_2$\n",
    "8. $r_4\\leftarrow r_4-18r_2$\n",
    "9. $r_3\\leftarrow 3r_3$\n",
    "10. $r_4\\leftarrow r_4+r_3$\n",
    "11. $r_4\\leftarrow -\\frac{1}{4}r_4$\n",
    "12. $r_3\\leftarrow r_3-2r_4$\n",
    "13. $r_2\\leftarrow r_2-\\frac{4}{9}r_4$\n",
    "14. $r_1\\leftarrow r_1+r_4$\n",
    "15. $r_2\\leftarrow r_2-\\frac{2}{9}r_3$\n",
    "16. $r_1\\leftarrow r_1+2r_2$"
   ]
  },
  {
   "cell_type": "markdown",
   "metadata": {},
   "source": [
    "$$\n",
    "\\begin{bmatrix}\n",
    "-6 & 3 & -2 & 2\\\\\n",
    "-1 & 2 & 0 & 1\\\\\n",
    "-3 & 0 & -1 & 1\\\\\n",
    "5 & 8 & 3 & -3\\\\\n",
    "\\end{bmatrix}\n",
    "=\n",
    "\\begin{bmatrix}\n",
    "-1 & 2 & 0 & 1\\\\\n",
    "-6 & 3 & -2 & 2\\\\\n",
    "-3 & 0 & -1 & 1\\\\\n",
    "5 & 8 & 3 & -3\\\\\n",
    "\\end{bmatrix}\n",
    "=\n",
    "\\begin{bmatrix}\n",
    "1 & -2 & 0 & -1\\\\\n",
    "-6 & 3 & -2 & 2\\\\\n",
    "-3 & 0 & -1 & 1\\\\\n",
    "5 & 8 & 3 & -3\\\\\n",
    "\\end{bmatrix}\n",
    "=\n",
    "\\begin{bmatrix}\n",
    "1 & -2 & 0 & -1\\\\\n",
    "0 & -9 & -2 & -4\\\\\n",
    "-3 & 0 & -1 & 1\\\\\n",
    "5 & 8 & 3 & -3\\\\\n",
    "\\end{bmatrix}\n",
    "=\n",
    "\\begin{bmatrix}\n",
    "1 & -2 & 0 & -1\\\\\n",
    "0 & -9 & -2 & -4\\\\\n",
    "0 & -6 & -1 & -2\\\\\n",
    "5 & 8 & 3 & -3\\\\\n",
    "\\end{bmatrix}\n",
    "=\n",
    "\\begin{bmatrix}\n",
    "1 & -2 & 0 & -1\\\\\n",
    "0 & -9 & -2 & -4\\\\\n",
    "0 & -6 & -1 & -2\\\\\n",
    "0 & 18 & 3 & 2\\\\\n",
    "\\end{bmatrix}\n",
    "=\n",
    "\\begin{bmatrix}\n",
    "1 & -2 & 0 & -1\\\\\n",
    "0 & 1 & \\frac{2}{9} & \\frac{4}{9}\\\\\n",
    "0 & -6 & -1 & -2\\\\\n",
    "0 & 18 & 3 & 2\\\\\n",
    "\\end{bmatrix}\n",
    "=\n",
    "\\begin{bmatrix}\n",
    "1 & -2 & 0 & -1\\\\\n",
    "0 & 1 & \\frac{2}{9} & \\frac{4}{9}\\\\\n",
    "0 & 0 & \\frac{1}{3} & \\frac{2}{3}\\\\\n",
    "0 & 18 & 3 & 2\\\\\n",
    "\\end{bmatrix}\n",
    "=\n",
    "\\begin{bmatrix}\n",
    "1 & -2 & 0 & -1\\\\\n",
    "0 & 1 & \\frac{2}{9} & \\frac{4}{9}\\\\\n",
    "0 & 0 & \\frac{1}{3} & \\frac{2}{3}\\\\\n",
    "0 & 0 & -1 & -6\\\\\n",
    "\\end{bmatrix}\n",
    "=\n",
    "\\begin{bmatrix}\n",
    "1 & -2 & 0 & -1\\\\\n",
    "0 & 1 & \\frac{2}{9} & \\frac{4}{9}\\\\\n",
    "0 & 0 & 1 & 2\\\\\n",
    "0 & 0 & -1 & -6\\\\\n",
    "\\end{bmatrix}\n",
    "=\n",
    "\\begin{bmatrix}\n",
    "1 & -2 & 0 & -1\\\\\n",
    "0 & 1 & \\frac{2}{9} & \\frac{4}{9}\\\\\n",
    "0 & 0 & 1 & 2\\\\\n",
    "0 & 0 & 0 & -4\\\\\n",
    "\\end{bmatrix}\n",
    "=\n",
    "\\begin{bmatrix}\n",
    "1 & -2 & 0 & -1\\\\\n",
    "0 & 1 & \\frac{2}{9} & \\frac{4}{9}\\\\\n",
    "0 & 0 & 1 & 2\\\\\n",
    "0 & 0 & 0 & 1\\\\\n",
    "\\end{bmatrix}\n",
    "=\n",
    "\\begin{bmatrix}\n",
    "1 & -2 & 0 & -1\\\\\n",
    "0 & 1 & \\frac{2}{9} & \\frac{4}{9}\\\\\n",
    "0 & 0 & 1 & 0\\\\\n",
    "0 & 0 & 0 & 1\\\\\n",
    "\\end{bmatrix}\n",
    "=\n",
    "\\begin{bmatrix}\n",
    "1 & -2 & 0 & -1\\\\\n",
    "0 & 1 & \\frac{2}{9} & 0\\\\\n",
    "0 & 0 & 1 & 0\\\\\n",
    "0 & 0 & 0 & 1\\\\\n",
    "\\end{bmatrix}\n",
    "=\n",
    "\\begin{bmatrix}\n",
    "1 & -2 & 0 & 0\\\\\n",
    "0 & 1 & \\frac{2}{9} & 0\\\\\n",
    "0 & 0 & 1 & 0\\\\\n",
    "0 & 0 & 0 & 1\\\\\n",
    "\\end{bmatrix}\n",
    "=\n",
    "\\begin{bmatrix}\n",
    "1 & -2 & 0 & 0\\\\\n",
    "0 & 1 & 0 & 0\\\\\n",
    "0 & 0 & 1 & 0\\\\\n",
    "0 & 0 & 0 & 1\\\\\n",
    "\\end{bmatrix}\n",
    "=\n",
    "\\begin{bmatrix}\n",
    "1 & 0 & 0 & 0\\\\\n",
    "0 & 1 & 0 & 0\\\\\n",
    "0 & 0 & 1 & 0\\\\\n",
    "0 & 0 & 0 & 1\\\\\n",
    "\\end{bmatrix}\n",
    "$$"
   ]
  },
  {
   "cell_type": "markdown",
   "metadata": {},
   "source": [
    "$$\n",
    "\\begin{bmatrix}\n",
    "1 & 0 & 0 & 0\\\\\n",
    "0 & 1 & 0 & 0\\\\\n",
    "0 & 0 & 1 & 0\\\\\n",
    "0 & 0 & 0 & 1\\\\\n",
    "\\end{bmatrix}\n",
    "=\n",
    "\\begin{bmatrix}\n",
    "0 & 1 & 0 & 0\\\\\n",
    "1 & 0 & 0 & 0\\\\\n",
    "0 & 0 & 1 & 0\\\\\n",
    "0 & 0 & 0 & 1\\\\\n",
    "\\end{bmatrix}\n",
    "=\n",
    "\\begin{bmatrix}\n",
    "0 & -1 & 0 & 0\\\\\n",
    "1 & 0 & 0 & 0\\\\\n",
    "0 & 0 & 1 & 0\\\\\n",
    "0 & 0 & 0 & 1\\\\\n",
    "\\end{bmatrix}\n",
    "=\n",
    "\\begin{bmatrix}\n",
    "0 & -1 & 0 & 0\\\\\n",
    "1 & -6 & 0 & 0\\\\\n",
    "0 & 0 & 1 & 0\\\\\n",
    "0 & 0 & 0 & 1\\\\\n",
    "\\end{bmatrix}\n",
    "=\n",
    "\\begin{bmatrix}\n",
    "0 & -1 & 0 & 0\\\\\n",
    "1 & -6 & 0 & 0\\\\\n",
    "0 & -3 & 1 & 0\\\\\n",
    "0 & 0 & 0 & 1\\\\\n",
    "\\end{bmatrix}\n",
    "=\n",
    "\\begin{bmatrix}\n",
    "0 & -1 & 0 & 0\\\\\n",
    "1 & -6 & 0 & 0\\\\\n",
    "0 & -3 & 1 & 0\\\\\n",
    "0 & 5 & 0 & 1\\\\\n",
    "\\end{bmatrix}\n",
    "=\n",
    "\\begin{bmatrix}\n",
    "0 & -1 & 0 & 0\\\\\n",
    "-\\frac{1}{9} & \\frac{2}{3} & 0 & 0\\\\\n",
    "0 & -3 & 1 & 0\\\\\n",
    "0 & 5 & 0 & 1\\\\\n",
    "\\end{bmatrix}\n",
    "=\n",
    "\\begin{bmatrix}\n",
    "0 & -1 & 0 & 0\\\\\n",
    "-\\frac{1}{9} & \\frac{2}{3} & 0 & 0\\\\\n",
    "-\\frac{2}{3} & 1 & 1 & 0\\\\\n",
    "0 & 5 & 0 & 1\\\\\n",
    "\\end{bmatrix}\n",
    "=\n",
    "\\begin{bmatrix}\n",
    "0 & -1 & 0 & 0\\\\\n",
    "-\\frac{1}{9} & \\frac{2}{3} & 0 & 0\\\\\n",
    "-\\frac{2}{3} & 1 & 1 & 0\\\\\n",
    "2 & -7 & 0 & 1\\\\\n",
    "\\end{bmatrix}\n",
    "=\n",
    "\\begin{bmatrix}\n",
    "0 & -1 & 0 & 0\\\\\n",
    "-\\frac{1}{9} & \\frac{2}{3} & 0 & 0\\\\\n",
    "-2 & 3 & 3 & 0\\\\\n",
    "2 & -7 & 0 & 1\\\\\n",
    "\\end{bmatrix}\n",
    "=\n",
    "\\begin{bmatrix}\n",
    "0 & -1 & 0 & 0\\\\\n",
    "-\\frac{1}{9} & \\frac{2}{3} & 0 & 0\\\\\n",
    "-2 & 3 & 3 & 0\\\\\n",
    "0 & 1 & -\\frac{3}{4} & -\\frac{1}{4}\\\\\n",
    "\\end{bmatrix}\n",
    "=\n",
    "\\begin{bmatrix}\n",
    "0 & -1 & 0 & 0\\\\\n",
    "-\\frac{1}{9} & \\frac{2}{3} & 0 & 0\\\\\n",
    "-2 & 1 & \\frac{9}{2} & \\frac{1}{2}\\\\\n",
    "0 & 1 & -\\frac{3}{4} & -\\frac{1}{4}\\\\\n",
    "\\end{bmatrix}\n",
    "=\n",
    "\\begin{bmatrix}\n",
    "0 & -1 & 0 & 0\\\\\n",
    "-\\frac{1}{9} & \\frac{2}{9} & \\frac{1}{3} & \\frac{1}{9}\\\\\n",
    "-2 & 1 & \\frac{9}{2} & \\frac{1}{2}\\\\\n",
    "0 & 1 & -\\frac{3}{4} & -\\frac{1}{4}\\\\\n",
    "\\end{bmatrix}\n",
    "=\n",
    "\\begin{bmatrix}\n",
    "0 & 0 & -\\frac{3}{4} & -\\frac{1}{4}\\\\\n",
    "-\\frac{1}{9} & \\frac{2}{9} & \\frac{1}{3} & \\frac{1}{9}\\\\\n",
    "-2 & 1 & \\frac{9}{2} & \\frac{1}{2}\\\\\n",
    "0 & 1 & -\\frac{3}{4} & -\\frac{1}{4}\\\\\n",
    "\\end{bmatrix}\n",
    "=\n",
    "\\begin{bmatrix}\n",
    "0 & 0 & -\\frac{3}{4} & -\\frac{1}{4}\\\\\n",
    "\\frac{1}{3} & 0 & -\\frac{2}{3} & 0\\\\\n",
    "-2 & 1 & \\frac{9}{2} & \\frac{1}{2}\\\\\n",
    "0 & 1 & -\\frac{3}{4} & -\\frac{1}{4}\\\\\n",
    "\\end{bmatrix}\n",
    "=\n",
    "\\begin{bmatrix}\n",
    "\\frac{2}{3} & 0 & -\\frac{25}{12} & -\\frac{1}{4}\\\\\n",
    "\\frac{1}{3} & 0 & -\\frac{2}{3} & 0\\\\\n",
    "-2 & 1 & \\frac{9}{2} & \\frac{1}{2}\\\\\n",
    "0 & 1 & -\\frac{3}{4} & -\\frac{1}{4}\\\\\n",
    "\\end{bmatrix}\n",
    "$$"
   ]
  },
  {
   "cell_type": "markdown",
   "metadata": {},
   "source": [
    "$$\n",
    "\\begin{vmatrix}\n",
    "-6 & 3 & -2 & 2\\\\\n",
    "-1 & 2 & 0 & 1\\\\\n",
    "-3 & 0 & -1 & 1\\\\\n",
    "5 & 8 & 3 & -3\\\\\n",
    "\\end{vmatrix}\n",
    "=\n",
    "-6\n",
    "\\begin{vmatrix}\n",
    "2 & 0 & 1\\\\\n",
    "0 & -1 & 1\\\\\n",
    "8 & 3 & -3\\\\\n",
    "\\end{vmatrix}\n",
    "-\n",
    "3\n",
    "\\begin{vmatrix}\n",
    "-1 & 0 & 1\\\\\n",
    "-3 & -1 & 1\\\\\n",
    "5 & 3 & -3\\\\\n",
    "\\end{vmatrix}\n",
    "+\n",
    "-2\n",
    "\\begin{vmatrix}\n",
    "-1 & 2 & 1\\\\\n",
    "-3 & 0 & 1\\\\\n",
    "5 & 8 & -3\\\\\n",
    "\\end{vmatrix}\n",
    "-\n",
    "2\n",
    "\\begin{vmatrix}\n",
    "-1 & 2 & 0\\\\\n",
    "-3 & 0 & -1\\\\\n",
    "5 & 8 & 3\\\\\n",
    "\\end{vmatrix}\n",
    "$$"
   ]
  },
  {
   "cell_type": "markdown",
   "metadata": {},
   "source": [
    "$$\n",
    "=-6[(2)(-1)(-3)+(0)(1)(8)+(1)(0)(-3)-(1)(-1)(8)-(2)(1)(3)-(0)(0)(-3)]\n",
    "-3[(-1)(-1)(-3)+(0)(1)(5)+(1)(-3)(3)-(1)(-1)(5)-(-1)(1)(3)-(0)(-3)(-3)]\n",
    "-2[(-1)(0)(-3)+(2)(1)(5)+(1)(-3)(8)-(1)(0)(5)-(-1)(1)(8)-(2)(-3)(-3)]\n",
    "-2[(-1)(0)(3)+(2)(-1)(5)+(0)(-3)(8)-(0)(0)(5)-(-1)(-1)(8)-(2)(-3)(3)]\n",
    "$$\n",
    "$$\n",
    "=-6[6+0+0+8-6+0]\n",
    "-3[-3+0-9+5+3+0]\n",
    "-2[0+10-24+0+8-18]\n",
    "-2[0-10+0+0-8+18]\n",
    "$$\n",
    "$$\n",
    "=-6[8]\n",
    "-3[-4]\n",
    "-2[-24]\n",
    "-2[0]\n",
    "$$\n",
    "$$\n",
    "=-48+12+48\n",
    "$$\n",
    "$$\n",
    "=12\n",
    "$$"
   ]
  },
  {
   "cell_type": "code",
   "execution_count": 13,
   "metadata": {},
   "outputs": [
    {
     "data": {
      "image/png": "[encoded data removed]",
      "text/latex": [
       "$\\displaystyle \\left[\\begin{matrix}-6 & 3 & -2 & 2\\\\-1 & 2 & 0 & 1\\\\-3 & 0 & -1 & 1\\\\5 & 8 & 3 & -3\\end{matrix}\\right]$"
      ],
      "text/plain": [
       "⎡-6  3  -2  2 ⎤\n",
       "⎢             ⎥\n",
       "⎢-1  2  0   1 ⎥\n",
       "⎢             ⎥\n",
       "⎢-3  0  -1  1 ⎥\n",
       "⎢             ⎥\n",
       "⎣5   8  3   -3⎦"
      ]
     },
     "execution_count": 13,
     "metadata": {
      "filenames": {
       "image/png": "/Users/davefriedman/Documents/repo/myGitHub/resources_public/docs/_build/jupyter_execute/nbs/LinearAlgebra_65_0.png"
      }
     },
     "output_type": "execute_result"
    }
   ],
   "source": [
    "M7 = Matrix(4, 4, [-6, 3, -2, 2, -1, 2, 0, 1, -3, 0, -1, 1, 5, 8, 3, -3])\n",
    "M7"
   ]
  },
  {
   "cell_type": "code",
   "execution_count": 14,
   "metadata": {},
   "outputs": [
    {
     "data": {
      "image/png": "[encoded data removed]",
      "text/latex": [
       "$\\displaystyle \\left( \\left[\\begin{matrix}1 & 0 & 0 & 0\\\\0 & 1 & 0 & 0\\\\0 & 0 & 1 & 0\\\\0 & 0 & 0 & 1\\end{matrix}\\right], \\  \\left( 0, \\  1, \\  2, \\  3\\right)\\right)$"
      ],
      "text/plain": [
       "⎛⎡1  0  0  0⎤              ⎞\n",
       "⎜⎢          ⎥              ⎟\n",
       "⎜⎢0  1  0  0⎥              ⎟\n",
       "⎜⎢          ⎥, (0, 1, 2, 3)⎟\n",
       "⎜⎢0  0  1  0⎥              ⎟\n",
       "⎜⎢          ⎥              ⎟\n",
       "⎝⎣0  0  0  1⎦              ⎠"
      ]
     },
     "execution_count": 14,
     "metadata": {
      "filenames": {
       "image/png": "/Users/davefriedman/Documents/repo/myGitHub/resources_public/docs/_build/jupyter_execute/nbs/LinearAlgebra_66_0.png"
      }
     },
     "output_type": "execute_result"
    }
   ],
   "source": [
    "M7.rref()"
   ]
  },
  {
   "cell_type": "code",
   "execution_count": 15,
   "metadata": {},
   "outputs": [
    {
     "data": {
      "image/png": "[encoded data removed]",
      "text/latex": [
       "$\\displaystyle \\left[\\begin{matrix}\\frac{2}{3} & 0 & - \\frac{25}{12} & - \\frac{1}{4}\\\\\\frac{1}{3} & 0 & - \\frac{2}{3} & 0\\\\-2 & 1 & \\frac{9}{2} & \\frac{1}{2}\\\\0 & 1 & - \\frac{3}{4} & - \\frac{1}{4}\\end{matrix}\\right]$"
      ],
      "text/plain": [
       "⎡        -25       ⎤\n",
       "⎢2/3  0  ────  -1/4⎥\n",
       "⎢         12       ⎥\n",
       "⎢                  ⎥\n",
       "⎢1/3  0  -2/3   0  ⎥\n",
       "⎢                  ⎥\n",
       "⎢-2   1  9/2   1/2 ⎥\n",
       "⎢                  ⎥\n",
       "⎣ 0   1  -3/4  -1/4⎦"
      ]
     },
     "execution_count": 15,
     "metadata": {
      "filenames": {
       "image/png": "/Users/davefriedman/Documents/repo/myGitHub/resources_public/docs/_build/jupyter_execute/nbs/LinearAlgebra_67_0.png"
      }
     },
     "output_type": "execute_result"
    }
   ],
   "source": [
    "M7.inv()"
   ]
  },
  {
   "cell_type": "code",
   "execution_count": 16,
   "metadata": {},
   "outputs": [
    {
     "data": {
      "image/png": "[encoded data removed]",
      "text/latex": [
       "$\\displaystyle 12$"
      ],
      "text/plain": [
       "12"
      ]
     },
     "execution_count": 16,
     "metadata": {
      "filenames": {
       "image/png": "/Users/davefriedman/Documents/repo/myGitHub/resources_public/docs/_build/jupyter_execute/nbs/LinearAlgebra_68_0.png"
      }
     },
     "output_type": "execute_result"
    }
   ],
   "source": [
    "M7.det()"
   ]
  },
  {
   "cell_type": "markdown",
   "metadata": {},
   "source": [
    "---"
   ]
  },
  {
   "cell_type": "markdown",
   "metadata": {},
   "source": [
    "Consider the symmetric matrix\n",
    "$$\n",
    "S=\n",
    "\\begin{bmatrix}\n",
    "-3 & 6 & -2 & 0\\\\\n",
    "6 & 3 & 0 & 2\\\\\n",
    "-2 & 0 & 3 & 6\\\\\n",
    "0 & 2 & 6 & -3\\\\\n",
    "\\end{bmatrix}\n",
    "$$\n",
    "(a) Compute the characteristic polynomial of $S$.<br>\n",
    "(b) Find the eigenvalues of $S$ and their algebraic multiplicities.<br>\n",
    "(c) Obtain an orthonormal basis for each eigenspace of $S$.<br>\n",
    "(d) Find an orthogonal matrix $Q$ such that $Q^TSQ$ is diagonal.<br>\n",
    "(e) Write the vector $\\begin{bmatrix}-8\\\\10\\\\0\\\\9\\\\\\end{bmatrix}$ as a sum of eigenvectors of S.<br>"
   ]
  },
  {
   "cell_type": "code",
   "execution_count": 17,
   "metadata": {},
   "outputs": [
    {
     "data": {
      "image/png": "[encoded data removed]",
      "text/latex": [
       "$\\displaystyle \\left[\\begin{matrix}-3 & 6 & -2 & 0\\\\6 & 3 & 0 & 2\\\\-2 & 0 & 3 & 6\\\\0 & 2 & 6 & -3\\end{matrix}\\right]$"
      ],
      "text/plain": [
       "⎡-3  6  -2  0 ⎤\n",
       "⎢             ⎥\n",
       "⎢6   3  0   2 ⎥\n",
       "⎢             ⎥\n",
       "⎢-2  0  3   6 ⎥\n",
       "⎢             ⎥\n",
       "⎣0   2  6   -3⎦"
      ]
     },
     "execution_count": 17,
     "metadata": {
      "filenames": {
       "image/png": "/Users/davefriedman/Documents/repo/myGitHub/resources_public/docs/_build/jupyter_execute/nbs/LinearAlgebra_71_0.png"
      }
     },
     "output_type": "execute_result"
    }
   ],
   "source": [
    "S = Matrix(4, 4, [-3, 6, -2, 0, 6, 3, 0, 2, -2, 0, 3, 6, 0, 2, 6, -3])\n",
    "S"
   ]
  },
  {
   "cell_type": "markdown",
   "metadata": {},
   "source": [
    "---"
   ]
  },
  {
   "cell_type": "markdown",
   "metadata": {},
   "source": [
    "$$\n",
    "det(S-\\lambda I)\n",
    "=\n",
    "\\begin{vmatrix}\n",
    "-3-\\lambda & 6 & -2 & 0\\\\\n",
    "6 & 3-\\lambda & 0 & 2\\\\\n",
    "-2 & 0 & 3-\\lambda & 6\\\\\n",
    "0 & 2 & 6 & -3-\\lambda\\\\\n",
    "\\end{vmatrix}\n",
    "$$"
   ]
  },
  {
   "cell_type": "markdown",
   "metadata": {},
   "source": [
    "$$\n",
    "=\n",
    "(-3-\\lambda)\n",
    "\\begin{vmatrix}\n",
    "3-\\lambda & 0 & 2\\\\\n",
    "0 & 3-\\lambda & 6\\\\\n",
    "2 & 6 & -3-\\lambda\\\\\n",
    "\\end{vmatrix}\n",
    "-\n",
    "6\n",
    "\\begin{vmatrix}\n",
    "6 & 0 & 2\\\\\n",
    "-2 & 3-\\lambda & 6\\\\\n",
    "0 & 6 & -3-\\lambda\\\\\n",
    "\\end{vmatrix}\n",
    "+\n",
    "-2\n",
    "\\begin{vmatrix}\n",
    "6 & 3-\\lambda & 2\\\\\n",
    "-2 & 0 & 6\\\\\n",
    "0 & 2 & -3-\\lambda\\\\\n",
    "\\end{vmatrix}\n",
    "-\n",
    "0\n",
    "\\begin{vmatrix}\n",
    "6 & 3-\\lambda & 0\\\\\n",
    "-2 & 0 & 3-\\lambda\\\\\n",
    "0 & 2 & 6\\\\\n",
    "\\end{vmatrix}\n",
    "$$"
   ]
  },
  {
   "cell_type": "markdown",
   "metadata": {},
   "source": [
    "$$\n",
    "=\n",
    "(-3-\\lambda)\n",
    "\\begin{vmatrix}\n",
    "3-\\lambda & 0 & 2\\\\\n",
    "0 & 3-\\lambda & 6\\\\\n",
    "2 & 6 & -3-\\lambda\\\\\n",
    "\\end{vmatrix}\n",
    "-\n",
    "6\n",
    "\\begin{vmatrix}\n",
    "6 & 0 & 2\\\\\n",
    "-2 & 3-\\lambda & 6\\\\\n",
    "0 & 6 & -3-\\lambda\\\\\n",
    "\\end{vmatrix}\n",
    "+\n",
    "-2\n",
    "\\begin{vmatrix}\n",
    "6 & 3-\\lambda & 2\\\\\n",
    "-2 & 0 & 6\\\\\n",
    "0 & 2 & -3-\\lambda\\\\\n",
    "\\end{vmatrix}\n",
    "$$"
   ]
  },
  {
   "cell_type": "markdown",
   "metadata": {},
   "source": [
    "$$\n",
    "=\n",
    "(-3-\\lambda)[(3-\\lambda)^2(-3-\\lambda)-4(3-\\lambda)-36(3-\\lambda)]\n",
    "$$\n",
    "$$\n",
    "-6[6(3-\\lambda)(-3-\\lambda)-24-216]\n",
    "$$\n",
    "$$\n",
    "-2[-8-72+2(3-\\lambda)(-3-\\lambda)]\n",
    "$$"
   ]
  },
  {
   "cell_type": "markdown",
   "metadata": {},
   "source": [
    "$$\n",
    "=\n",
    "(-3-\\lambda)[(9-6\\lambda+\\lambda^2)(-3-\\lambda)-4(3-\\lambda)-36(3-\\lambda)]\n",
    "$$\n",
    "$$\n",
    "-6[6(-9+\\lambda^2)-240]\n",
    "$$\n",
    "$$\n",
    "-2[-80+2(-9+\\lambda^2)]\n",
    "$$"
   ]
  },
  {
   "cell_type": "markdown",
   "metadata": {},
   "source": [
    "$$\n",
    "=\n",
    "(-3-\\lambda)[-27-9\\lambda+18\\lambda+6\\lambda^2-3\\lambda^2-\\lambda^3-12+4\\lambda-108+36\\lambda]\n",
    "$$\n",
    "$$\n",
    "-6[-54+6\\lambda^2-240]\n",
    "$$\n",
    "$$\n",
    "-2[-80-18+2\\lambda^2]\n",
    "$$"
   ]
  },
  {
   "cell_type": "markdown",
   "metadata": {},
   "source": [
    "$$\n",
    "=\n",
    "(-3-\\lambda)[-\\lambda^3+3\\lambda^2+49\\lambda-147]\n",
    "$$\n",
    "$$\n",
    "-6[6\\lambda^2-298]\n",
    "$$\n",
    "$$\n",
    "-2[2\\lambda^2-98]\n",
    "$$"
   ]
  },
  {
   "cell_type": "markdown",
   "metadata": {},
   "source": [
    "$$\n",
    "=\n",
    "\\lambda^4-3\\lambda^3-49\\lambda^2+147\\lambda+3\\lambda^3-9\\lambda^2-147\\lambda+441\n",
    "$$\n",
    "$$\n",
    "-36\\lambda^2+1788\n",
    "$$\n",
    "$$\n",
    "-4\\lambda^2+196\n",
    "$$"
   ]
  },
  {
   "cell_type": "markdown",
   "metadata": {},
   "source": [
    "$$\n",
    "=\n",
    "\\lambda^4-58\\lambda^2+441\n",
    "$$\n",
    "$$\n",
    "-36\\lambda^2+1788\n",
    "$$\n",
    "$$\n",
    "-4\\lambda^2+196\n",
    "$$"
   ]
  },
  {
   "cell_type": "markdown",
   "metadata": {},
   "source": [
    "$$\n",
    "=\n",
    "\\lambda^4-98\\lambda^2+2425\n",
    "$$"
   ]
  },
  {
   "cell_type": "markdown",
   "metadata": {},
   "source": [
    "$$\n",
    "0\n",
    "=\n",
    "(\\lambda^2-49)^2\n",
    "$$\n",
    "\n",
    "$$\n",
    "0\n",
    "=\n",
    "(\\lambda^2-49)(\\lambda^2-49)\n",
    "$$\n",
    "\n",
    "$$\n",
    "\\lambda^2\n",
    "=\n",
    "49\n",
    "$$\n",
    "\n",
    "$$\n",
    "\\lambda\n",
    "=\n",
    "\\sqrt{49}\n",
    "$$\n",
    "\n",
    "$$\n",
    "\\lambda\n",
    "=\n",
    "\\pm 7\n",
    "$$\n",
    "$7$ has multiplicity $2$ and $-7$ has multiplicity $2$."
   ]
  },
  {
   "cell_type": "code",
   "execution_count": 18,
   "metadata": {},
   "outputs": [
    {
     "data": {
      "image/png": "[encoded data removed]",
      "text/latex": [
       "$\\displaystyle \\left(\\lambda - 7\\right)^{2} \\left(\\lambda + 7\\right)^{2}$"
      ],
      "text/plain": [
       "       2        2\n",
       "(λ - 7) ⋅(λ + 7) "
      ]
     },
     "execution_count": 18,
     "metadata": {
      "filenames": {
       "image/png": "/Users/davefriedman/Documents/repo/myGitHub/resources_public/docs/_build/jupyter_execute/nbs/LinearAlgebra_84_0.png"
      }
     },
     "output_type": "execute_result"
    }
   ],
   "source": [
    "p = S.charpoly().as_expr()\n",
    "factor(p)"
   ]
  },
  {
   "cell_type": "code",
   "execution_count": 19,
   "metadata": {},
   "outputs": [
    {
     "data": {
      "image/png": "[encoded data removed]",
      "text/latex": [
       "$\\displaystyle \\left\\{ -7 : 2, \\  7 : 2\\right\\}$"
      ],
      "text/plain": [
       "{-7: 2, 7: 2}"
      ]
     },
     "execution_count": 19,
     "metadata": {
      "filenames": {
       "image/png": "/Users/davefriedman/Documents/repo/myGitHub/resources_public/docs/_build/jupyter_execute/nbs/LinearAlgebra_85_0.png"
      }
     },
     "output_type": "execute_result"
    }
   ],
   "source": [
    "S.eigenvals()"
   ]
  },
  {
   "cell_type": "markdown",
   "metadata": {},
   "source": [
    "$\\lambda=7$\n",
    "\n",
    "$$\n",
    "\\begin{bmatrix}\n",
    "-3-7 & 6 & -2 & 0 & 0\\\\\n",
    "6 & 3-7 & 0 & 2 & 0\\\\\n",
    "-2 & 0 & 3-7 & 6 & 0\\\\\n",
    "0 & 2 & 6 & -3-7 & 0\\\\\n",
    "\\end{bmatrix}\n",
    "=\n",
    "\\begin{bmatrix}\n",
    "-10 & 6 & -2 & 0 & 0\\\\\n",
    "6 & -4 & 0 & 2 & 0\\\\\n",
    "-2 & 0 & -4 & 6 & 0\\\\\n",
    "0 & 2 & 6 & -10 & 0\\\\\n",
    "\\end{bmatrix}\n",
    "=\n",
    "...\n",
    "=\n",
    "\\begin{bmatrix}\n",
    "1 & 0 & 2 & -3 & 0\\\\\n",
    "0 & 1 & 3 & -5 & 0\\\\\n",
    "0 & 0 & 0 & 0 & 0\\\\\n",
    "0 & 0 & 0 & 0 & 0\\\\\n",
    "\\end{bmatrix}\n",
    "$$\n",
    "\n",
    "$$\n",
    "x_1+2x_3-3x_4=0\\rightarrow x_1=-2x_3+3x_4\\\\\n",
    "x_2+3x_3-5x_4=0\\rightarrow x_2=-3x_3+5x_4\\\\\n",
    "$$\n",
    "\n",
    "$$\n",
    "\\begin{split}\n",
    "x_1&=-2s+3t\\\\\n",
    "x_2&=-3s+5t\\\\\n",
    "x_3&=s\\\\\n",
    "x_4&=t\\\\\n",
    "\\end{split}\n",
    "\\rightarrow\n",
    "\\begin{bmatrix}\n",
    "x_1\\\\\n",
    "x_2\\\\\n",
    "x_3\\\\\n",
    "x_4\\\\\n",
    "\\end{bmatrix}\n",
    "=\n",
    "s\n",
    "\\begin{bmatrix}\n",
    "-2\\\\\n",
    "-3\\\\\n",
    "1\\\\\n",
    "0\\\\\n",
    "\\end{bmatrix}\n",
    "+\n",
    "t\n",
    "\\begin{bmatrix}\n",
    "3\\\\\n",
    "5\\\\\n",
    "0\\\\\n",
    "1\\\\\n",
    "\\end{bmatrix}\n",
    "$$\n",
    "\n",
    "$$\n",
    "Nul(S-\\lambda I)=span\n",
    "\\left\\{\n",
    "\\begin{bmatrix}\n",
    "-2\\\\\n",
    "-3\\\\\n",
    "1\\\\\n",
    "0\\\\\n",
    "\\end{bmatrix}\n",
    ",\n",
    "\\begin{bmatrix}\n",
    "3\\\\\n",
    "5\\\\\n",
    "0\\\\\n",
    "1\\\\\n",
    "\\end{bmatrix}\n",
    "\\right\\}\n",
    "\\rightarrow\n",
    "basis(S-\\lambda I)=\n",
    "\\left\\{\n",
    "\\begin{bmatrix}\n",
    "-2\\\\\n",
    "-3\\\\\n",
    "1\\\\\n",
    "0\\\\\n",
    "\\end{bmatrix}\n",
    ",\n",
    "\\begin{bmatrix}\n",
    "3\\\\\n",
    "5\\\\\n",
    "0\\\\\n",
    "1\\\\\n",
    "\\end{bmatrix}\n",
    "\\right\\}\n",
    "$$"
   ]
  },
  {
   "cell_type": "code",
   "execution_count": 20,
   "metadata": {},
   "outputs": [
    {
     "data": {
      "image/png": "[encoded data removed]",
      "text/latex": [
       "$\\displaystyle \\left[ \\left[\\begin{matrix}-2\\\\-3\\\\1\\\\0\\end{matrix}\\right], \\  \\left[\\begin{matrix}3\\\\5\\\\0\\\\1\\end{matrix}\\right]\\right]$"
      ],
      "text/plain": [
       "⎡⎡-2⎤  ⎡3⎤⎤\n",
       "⎢⎢  ⎥  ⎢ ⎥⎥\n",
       "⎢⎢-3⎥  ⎢5⎥⎥\n",
       "⎢⎢  ⎥, ⎢ ⎥⎥\n",
       "⎢⎢1 ⎥  ⎢0⎥⎥\n",
       "⎢⎢  ⎥  ⎢ ⎥⎥\n",
       "⎣⎣0 ⎦  ⎣1⎦⎦"
      ]
     },
     "execution_count": 20,
     "metadata": {
      "filenames": {
       "image/png": "/Users/davefriedman/Documents/repo/myGitHub/resources_public/docs/_build/jupyter_execute/nbs/LinearAlgebra_87_0.png"
      }
     },
     "output_type": "execute_result"
    }
   ],
   "source": [
    "(S-7*eye(4)).nullspace()"
   ]
  },
  {
   "cell_type": "markdown",
   "metadata": {},
   "source": [
    "$$\n",
    "\\mathbf{v_1}\n",
    "=\n",
    "\\mathbf{x_1}\n",
    "=\n",
    "\\begin{bmatrix}\n",
    "-2\\\\\n",
    "-3\\\\\n",
    "1\\\\\n",
    "0\n",
    "\\end{bmatrix}\n",
    "$$\n",
    "\n",
    "$$\n",
    "\\mathbf{v_2}\n",
    "=\n",
    "\\mathbf{x_2}-\\frac{\\mathbf{x_2}\\cdot\\mathbf{v_1}}{\\mathbf{v_1}\\cdot\\mathbf{v_1}}\\mathbf{v_1}\n",
    "=\n",
    "\\begin{bmatrix}\n",
    "3\\\\\n",
    "5\\\\\n",
    "0\\\\\n",
    "1\\\\\n",
    "\\end{bmatrix}\n",
    "-\n",
    "\\frac{\\begin{bmatrix}\n",
    "3\\\\\n",
    "5\\\\\n",
    "0\\\\\n",
    "1\\\\\n",
    "\\end{bmatrix}\n",
    "\\cdot\n",
    "\\begin{bmatrix}\n",
    "-2\\\\\n",
    "-3\\\\\n",
    "1\\\\\n",
    "0\n",
    "\\end{bmatrix}}\n",
    "{\\begin{bmatrix}\n",
    "-2\\\\\n",
    "-3\\\\\n",
    "1\\\\\n",
    "0\n",
    "\\end{bmatrix}\n",
    "\\cdot\n",
    "\\begin{bmatrix}\n",
    "-2\\\\\n",
    "-3\\\\\n",
    "1\\\\\n",
    "0\n",
    "\\end{bmatrix}}\n",
    "\\begin{bmatrix}\n",
    "-2\\\\\n",
    "-3\\\\\n",
    "1\\\\\n",
    "0\n",
    "\\end{bmatrix}\n",
    "=\n",
    "\\begin{bmatrix}\n",
    "3\\\\\n",
    "5\\\\\n",
    "0\\\\\n",
    "1\\\\\n",
    "\\end{bmatrix}\n",
    "+\n",
    "\\frac{3}{2}\n",
    "\\begin{bmatrix}\n",
    "-2\\\\\n",
    "-3\\\\\n",
    "1\\\\\n",
    "0\n",
    "\\end{bmatrix}\n",
    "=\n",
    "\\begin{bmatrix}\n",
    "3\\\\\n",
    "5\\\\\n",
    "0\\\\\n",
    "1\\\\\n",
    "\\end{bmatrix}\n",
    "+\n",
    "\\begin{bmatrix}\n",
    "-3\\\\\n",
    "-\\frac{9}{2}\\\\\n",
    "\\frac{3}{2}\\\\\n",
    "0\n",
    "\\end{bmatrix}\n",
    "=\n",
    "\\begin{bmatrix}\n",
    "0\\\\\n",
    "\\frac{1}{2}\\\\\n",
    "\\frac{3}{2}\\\\\n",
    "1\\\\\n",
    "\\end{bmatrix}\n",
    "=\n",
    "\\begin{bmatrix}\n",
    "0\\\\\n",
    "1\\\\\n",
    "3\\\\\n",
    "2\\\\\n",
    "\\end{bmatrix}\n",
    "$$"
   ]
  },
  {
   "cell_type": "code",
   "execution_count": 21,
   "metadata": {},
   "outputs": [
    {
     "data": {
      "image/png": "[encoded data removed]",
      "text/latex": [
       "$\\displaystyle \\left[ \\left[\\begin{matrix}-2\\\\-3\\\\1\\\\0\\end{matrix}\\right], \\  \\left[\\begin{matrix}0\\\\\\frac{1}{2}\\\\\\frac{3}{2}\\\\1\\end{matrix}\\right]\\right]$"
      ],
      "text/plain": [
       "⎡⎡-2⎤  ⎡ 0 ⎤⎤\n",
       "⎢⎢  ⎥  ⎢   ⎥⎥\n",
       "⎢⎢-3⎥  ⎢1/2⎥⎥\n",
       "⎢⎢  ⎥, ⎢   ⎥⎥\n",
       "⎢⎢1 ⎥  ⎢3/2⎥⎥\n",
       "⎢⎢  ⎥  ⎢   ⎥⎥\n",
       "⎣⎣0 ⎦  ⎣ 1 ⎦⎦"
      ]
     },
     "execution_count": 21,
     "metadata": {
      "filenames": {
       "image/png": "/Users/davefriedman/Documents/repo/myGitHub/resources_public/docs/_build/jupyter_execute/nbs/LinearAlgebra_89_0.png"
      }
     },
     "output_type": "execute_result"
    }
   ],
   "source": [
    "GramSchmidt((S-7*eye(4)).nullspace())"
   ]
  },
  {
   "cell_type": "markdown",
   "metadata": {},
   "source": [
    "$$\n",
    "\\left\\Vert\n",
    "\\begin{bmatrix}\n",
    "-2\\\\\n",
    "-3\\\\\n",
    "1\\\\\n",
    "0\n",
    "\\end{bmatrix}\n",
    "\\right\\Vert\n",
    "=\n",
    "\\sqrt{(-2)^2+(-3)^2+1^2+0^2}\n",
    "=\n",
    "\\sqrt{4+9+1}\n",
    "=\n",
    "\\sqrt{14}\n",
    "$$\n",
    "\n",
    "$$\n",
    "\\frac{\n",
    "\\begin{bmatrix}\n",
    "-2\\\\\n",
    "-3\\\\\n",
    "1\\\\\n",
    "0\n",
    "\\end{bmatrix}}{\n",
    "\\left\\Vert\n",
    "\\begin{bmatrix}\n",
    "-2\\\\\n",
    "-3\\\\\n",
    "1\\\\\n",
    "0\n",
    "\\end{bmatrix}\n",
    "\\right\\Vert}\n",
    "=\n",
    "\\frac{1}{\\sqrt{14}}\n",
    "\\begin{bmatrix}\n",
    "-2\\\\\n",
    "-3\\\\\n",
    "1\\\\\n",
    "0\n",
    "\\end{bmatrix}\n",
    "=\n",
    "\\begin{bmatrix}\n",
    "-\\frac{2}{\\sqrt{14}}\\\\\n",
    "-\\frac{3}{\\sqrt{14}}\\\\\n",
    "\\frac{1}{\\sqrt{14}}\\\\\n",
    "0\n",
    "\\end{bmatrix}\n",
    "$$\n",
    "\n",
    "$$\n",
    "\\left\\Vert\n",
    "\\begin{bmatrix}\n",
    "0\\\\\n",
    "\\frac{1}{2}\\\\\n",
    "\\frac{3}{2}\\\\\n",
    "1\\\\\n",
    "\\end{bmatrix}\n",
    "\\right\\Vert\n",
    "=\n",
    "\\sqrt{0^2+\\left(\\frac{1}{2}\\right)^2+\\left(\\frac{3}{2}\\right)^2+1^2}\n",
    "=\n",
    "\\sqrt{\\frac{1}{4}+\\frac{9}{4}+1}\n",
    "=\n",
    "\\sqrt{\\frac{14}{4}}\n",
    "=\n",
    "\\sqrt{\\frac{7}{2}}\n",
    "$$\n",
    "\n",
    "$$\n",
    "\\frac{\n",
    "\\begin{bmatrix}\n",
    "0\\\\\n",
    "\\frac{1}{2}\\\\\n",
    "\\frac{3}{2}\\\\\n",
    "1\\\\\n",
    "\\end{bmatrix}}{\n",
    "\\left\\Vert\n",
    "\\begin{bmatrix}\n",
    "0\\\\\n",
    "\\frac{1}{2}\\\\\n",
    "\\frac{3}{2}\\\\\n",
    "1\\\\\n",
    "\\end{bmatrix}\n",
    "\\right\\Vert}\n",
    "=\n",
    "\\frac{1}{\\sqrt{\\frac{7}{2}}}\n",
    "\\begin{bmatrix}\n",
    "0\\\\\n",
    "\\frac{1}{2}\\\\\n",
    "\\frac{3}{2}\\\\\n",
    "1\\\\\n",
    "\\end{bmatrix}\n",
    "=\n",
    "\\begin{bmatrix}\n",
    "0\\\\\n",
    "\\frac{1}{2\\sqrt{\\frac{7}{2}}}\\\\\n",
    "\\frac{3}{2\\sqrt{\\frac{7}{2}}}\\\\\n",
    "\\frac{1}{\\sqrt{\\frac{7}{2}}}\\\\\n",
    "\\end{bmatrix}\n",
    "$$"
   ]
  },
  {
   "cell_type": "markdown",
   "metadata": {},
   "source": [
    "Therefore, an orthonormal basis for the eigenspace of $S$ associatd with the eigenvalue $\\lambda=7$ is\n",
    "\n",
    "$$\n",
    "\\left\\{\n",
    "\\begin{bmatrix}\n",
    "-\\frac{2}{\\sqrt{14}}\\\\\n",
    "-\\frac{3}{\\sqrt{14}}\\\\\n",
    "\\frac{1}{\\sqrt{14}}\\\\\n",
    "0\n",
    "\\end{bmatrix}\n",
    ",\n",
    "\\begin{bmatrix}\n",
    "0\\\\\n",
    "\\frac{1}{2\\sqrt{\\frac{7}{2}}}\\\\\n",
    "\\frac{3}{2\\sqrt{\\frac{7}{2}}}\\\\\n",
    "\\frac{1}{\\sqrt{\\frac{7}{2}}}\\\\\n",
    "\\end{bmatrix}\n",
    "\\right\\}\n",
    "$$"
   ]
  },
  {
   "cell_type": "code",
   "execution_count": 22,
   "metadata": {},
   "outputs": [
    {
     "name": "stdout",
     "output_type": "stream",
     "text": [
      "[-2 -3  1  0]\n",
      "[-0.53452248 -0.80178373  0.26726124  0.        ]\n",
      "[0.  0.5 1.5 1. ]\n",
      "[0.         0.26726124 0.80178373 0.53452248]\n",
      "1.0\n",
      "1.0\n",
      "0.0\n"
     ]
    }
   ],
   "source": [
    "v1 = np.array([-2, -3, 1, 0])\n",
    "x2 = np.array([3, 5, 0, 1])\n",
    "v2 = x2 - np.dot((np.dot(x2, v1)/np.dot(v1, v1)), v1)\n",
    "\n",
    "v1u = v1/np.linalg.norm(v1)\n",
    "v2u = v2/np.linalg.norm(v2)\n",
    "\n",
    "print(v1)\n",
    "print(v1u)\n",
    "print(v2)\n",
    "print(v2u)\n",
    "print(np.dot(v1u, v1u))\n",
    "print(np.dot(v2u, v2u))\n",
    "print(np.dot(v1u, v2u))"
   ]
  },
  {
   "cell_type": "markdown",
   "metadata": {},
   "source": [
    "$\\lambda=-7$\n",
    "\n",
    "$$\n",
    "\\begin{bmatrix}\n",
    "-3+7 & 6 & -2 & 0 & 0\\\\\n",
    "6 & 3+7 & 0 & 2 & 0\\\\\n",
    "-2 & 0 & 3+7 & 6 & 0\\\\\n",
    "0 & 2 & 6 & -3+7 & 0\\\\\n",
    "\\end{bmatrix}\n",
    "=\n",
    "\\begin{bmatrix}\n",
    "4 & 6 & -2 & 0 & 0\\\\\n",
    "6 & 10 & 0 & 2 & 0\\\\\n",
    "-2 & 0 & 10 & 6 & 0\\\\\n",
    "0 & 2 & 6 & 4 & 0\\\\\n",
    "\\end{bmatrix}\n",
    "=\n",
    "...\n",
    "=\n",
    "\\begin{bmatrix}\n",
    "1 & 0 & -5 & -3 & 0\\\\\n",
    "0 & 1 & 3 & 2 & 0\\\\\n",
    "0 & 0 & 0 & 0 & 0\\\\\n",
    "0 & 0 & 0 & 0 & 0\\\\\n",
    "\\end{bmatrix}\n",
    "$$\n",
    "\n",
    "$$\n",
    "x_1-5x_3-3x_4=0\\rightarrow x_1=5x_3+3x_4\\\\\n",
    "x_2+3x_3+2x_4=0\\rightarrow x_2=-3x_3-2x_4\\\\\n",
    "$$\n",
    "\n",
    "$$\n",
    "\\begin{split}\n",
    "x_1&=5s+3t\\\\\n",
    "x_2&=-3s-2t\\\\\n",
    "x_3&=s\\\\\n",
    "x_4&=t\\\\\n",
    "\\end{split}\n",
    "\\rightarrow\n",
    "\\begin{bmatrix}\n",
    "x_1\\\\\n",
    "x_2\\\\\n",
    "x_3\\\\\n",
    "x_4\\\\\n",
    "\\end{bmatrix}\n",
    "=\n",
    "s\n",
    "\\begin{bmatrix}\n",
    "5\\\\\n",
    "-3\\\\\n",
    "1\\\\\n",
    "0\\\\\n",
    "\\end{bmatrix}\n",
    "+\n",
    "t\n",
    "\\begin{bmatrix}\n",
    "3\\\\\n",
    "-2\\\\\n",
    "0\\\\\n",
    "1\\\\\n",
    "\\end{bmatrix}\n",
    "$$\n",
    "\n",
    "$$\n",
    "Nul(S-\\lambda I)=span\n",
    "\\left\\{\n",
    "\\begin{bmatrix}\n",
    "5\\\\\n",
    "-3\\\\\n",
    "1\\\\\n",
    "0\\\\\n",
    "\\end{bmatrix}\n",
    ",\n",
    "\\begin{bmatrix}\n",
    "3\\\\\n",
    "-2\\\\\n",
    "0\\\\\n",
    "1\\\\\n",
    "\\end{bmatrix}\n",
    "\\right\\}\n",
    "\\rightarrow\n",
    "basis(S-\\lambda I)=\n",
    "\\left\\{\n",
    "\\begin{bmatrix}\n",
    "5\\\\\n",
    "-3\\\\\n",
    "1\\\\\n",
    "0\\\\\n",
    "\\end{bmatrix}\n",
    ",\n",
    "\\begin{bmatrix}\n",
    "3\\\\\n",
    "-2\\\\\n",
    "0\\\\\n",
    "1\\\\\n",
    "\\end{bmatrix}\n",
    "\\right\\}\n",
    "$$"
   ]
  },
  {
   "cell_type": "code",
   "execution_count": 23,
   "metadata": {},
   "outputs": [
    {
     "data": {
      "image/png": "[encoded data removed]",
      "text/latex": [
       "$\\displaystyle \\left[ \\left[\\begin{matrix}5\\\\-3\\\\1\\\\0\\end{matrix}\\right], \\  \\left[\\begin{matrix}3\\\\-2\\\\0\\\\1\\end{matrix}\\right]\\right]$"
      ],
      "text/plain": [
       "⎡⎡5 ⎤  ⎡3 ⎤⎤\n",
       "⎢⎢  ⎥  ⎢  ⎥⎥\n",
       "⎢⎢-3⎥  ⎢-2⎥⎥\n",
       "⎢⎢  ⎥, ⎢  ⎥⎥\n",
       "⎢⎢1 ⎥  ⎢0 ⎥⎥\n",
       "⎢⎢  ⎥  ⎢  ⎥⎥\n",
       "⎣⎣0 ⎦  ⎣1 ⎦⎦"
      ]
     },
     "execution_count": 23,
     "metadata": {
      "filenames": {
       "image/png": "/Users/davefriedman/Documents/repo/myGitHub/resources_public/docs/_build/jupyter_execute/nbs/LinearAlgebra_94_0.png"
      }
     },
     "output_type": "execute_result"
    }
   ],
   "source": [
    "(S+7*eye(4)).nullspace()"
   ]
  },
  {
   "cell_type": "markdown",
   "metadata": {},
   "source": [
    "$$\n",
    "\\mathbf{v_1}\n",
    "=\n",
    "\\mathbf{x_1}\n",
    "=\n",
    "\\begin{bmatrix}\n",
    "5\\\\\n",
    "-3\\\\\n",
    "1\\\\\n",
    "0\n",
    "\\end{bmatrix}\n",
    "$$\n",
    "\n",
    "$$\n",
    "\\mathbf{v_2}\n",
    "=\n",
    "\\mathbf{x_2}-\\frac{\\mathbf{x_2}\\cdot\\mathbf{v_1}}{\\mathbf{v_1}\\cdot\\mathbf{v_1}}\\mathbf{v_1}\n",
    "=\n",
    "\\begin{bmatrix}\n",
    "3\\\\\n",
    "-2\\\\\n",
    "0\\\\\n",
    "1\\\\\n",
    "\\end{bmatrix}\n",
    "-\n",
    "\\frac{\\begin{bmatrix}\n",
    "3\\\\\n",
    "-2\\\\\n",
    "0\\\\\n",
    "1\\\\\n",
    "\\end{bmatrix}\n",
    "\\cdot\n",
    "\\begin{bmatrix}\n",
    "5\\\\\n",
    "-3\\\\\n",
    "1\\\\\n",
    "0\n",
    "\\end{bmatrix}}\n",
    "{\\begin{bmatrix}\n",
    "5\\\\\n",
    "-3\\\\\n",
    "1\\\\\n",
    "0\n",
    "\\end{bmatrix}\n",
    "\\cdot\n",
    "\\begin{bmatrix}\n",
    "5\\\\\n",
    "-3\\\\\n",
    "1\\\\\n",
    "0\n",
    "\\end{bmatrix}}\n",
    "\\begin{bmatrix}\n",
    "5\\\\\n",
    "-3\\\\\n",
    "1\\\\\n",
    "0\n",
    "\\end{bmatrix}\n",
    "=\n",
    "\\begin{bmatrix}\n",
    "3\\\\\n",
    "-2\\\\\n",
    "0\\\\\n",
    "1\\\\\n",
    "\\end{bmatrix}\n",
    "-\n",
    "\\frac{3}{5}\n",
    "\\begin{bmatrix}\n",
    "5\\\\\n",
    "-3\\\\\n",
    "1\\\\\n",
    "0\n",
    "\\end{bmatrix}\n",
    "=\n",
    "\\begin{bmatrix}\n",
    "3\\\\\n",
    "-2\\\\\n",
    "0\\\\\n",
    "1\\\\\n",
    "\\end{bmatrix}\n",
    "-\n",
    "\\begin{bmatrix}\n",
    "3\\\\\n",
    "-\\frac{9}{5}\\\\\n",
    "\\frac{3}{5}\\\\\n",
    "0\n",
    "\\end{bmatrix}\n",
    "=\n",
    "\\begin{bmatrix}\n",
    "0\\\\\n",
    "-\\frac{1}{5}\\\\\n",
    "-\\frac{3}{5}\\\\\n",
    "1\n",
    "\\end{bmatrix}\n",
    "$$"
   ]
  },
  {
   "cell_type": "code",
   "execution_count": 24,
   "metadata": {},
   "outputs": [
    {
     "data": {
      "image/png": "[encoded data removed]",
      "text/latex": [
       "$\\displaystyle \\left[ \\left[\\begin{matrix}5\\\\-3\\\\1\\\\0\\end{matrix}\\right], \\  \\left[\\begin{matrix}0\\\\- \\frac{1}{5}\\\\- \\frac{3}{5}\\\\1\\end{matrix}\\right]\\right]$"
      ],
      "text/plain": [
       "⎡⎡5 ⎤  ⎡ 0  ⎤⎤\n",
       "⎢⎢  ⎥  ⎢    ⎥⎥\n",
       "⎢⎢-3⎥  ⎢-1/5⎥⎥\n",
       "⎢⎢  ⎥, ⎢    ⎥⎥\n",
       "⎢⎢1 ⎥  ⎢-3/5⎥⎥\n",
       "⎢⎢  ⎥  ⎢    ⎥⎥\n",
       "⎣⎣0 ⎦  ⎣ 1  ⎦⎦"
      ]
     },
     "execution_count": 24,
     "metadata": {
      "filenames": {
       "image/png": "/Users/davefriedman/Documents/repo/myGitHub/resources_public/docs/_build/jupyter_execute/nbs/LinearAlgebra_96_0.png"
      }
     },
     "output_type": "execute_result"
    }
   ],
   "source": [
    "GramSchmidt((S+7*eye(4)).nullspace())"
   ]
  },
  {
   "cell_type": "markdown",
   "metadata": {},
   "source": [
    "$$\n",
    "\\left\\Vert\n",
    "\\begin{bmatrix}\n",
    "5\\\\\n",
    "-3\\\\\n",
    "1\\\\\n",
    "0\n",
    "\\end{bmatrix}\n",
    "\\right\\Vert\n",
    "=\n",
    "\\sqrt{(5)^2+(-3)^2+1^2+0^2}\n",
    "=\n",
    "\\sqrt{25+9+1}\n",
    "=\n",
    "\\sqrt{35}\n",
    "$$\n",
    "\n",
    "$$\n",
    "\\frac{\n",
    "\\begin{bmatrix}\n",
    "5\\\\\n",
    "-3\\\\\n",
    "1\\\\\n",
    "0\n",
    "\\end{bmatrix}}{\n",
    "\\left\\Vert\n",
    "\\begin{bmatrix}\n",
    "5\\\\\n",
    "-3\\\\\n",
    "1\\\\\n",
    "0\n",
    "\\end{bmatrix}\n",
    "\\right\\Vert}\n",
    "=\n",
    "\\frac{1}{\\sqrt{35}}\n",
    "\\begin{bmatrix}\n",
    "5\\\\\n",
    "-3\\\\\n",
    "1\\\\\n",
    "0\n",
    "\\end{bmatrix}\n",
    "=\n",
    "\\begin{bmatrix}\n",
    "\\frac{5}{\\sqrt{35}}\\\\\n",
    "-\\frac{3}{\\sqrt{35}}\\\\\n",
    "\\frac{1}{\\sqrt{35}}\\\\\n",
    "0\n",
    "\\end{bmatrix}\n",
    "$$\n",
    "\n",
    "$$\n",
    "\\left\\Vert\n",
    "\\begin{bmatrix}\n",
    "0\\\\\n",
    "-\\frac{1}{5}\\\\\n",
    "-\\frac{3}{5}\\\\\n",
    "1\n",
    "\\end{bmatrix}\n",
    "\\right\\Vert\n",
    "=\n",
    "\\sqrt{0^2+\\left(-\\frac{1}{5}\\right)^2+\\left(-\\frac{3}{5}\\right)^2+1^2}\n",
    "=\n",
    "\\sqrt{0+\\frac{1}{25}+\\frac{9}{25}+1}\n",
    "=\n",
    "\\sqrt{\\frac{7}{5}}\n",
    "$$\n",
    "\n",
    "$$\n",
    "\\frac{\n",
    "\\begin{bmatrix}\n",
    "0\\\\\n",
    "-\\frac{1}{5}\\\\\n",
    "-\\frac{3}{5}\\\\\n",
    "1\n",
    "\\end{bmatrix}}{\n",
    "\\left\\Vert\n",
    "\\begin{bmatrix}\n",
    "0\\\\\n",
    "-\\frac{1}{5}\\\\\n",
    "-\\frac{3}{5}\\\\\n",
    "1\n",
    "\\end{bmatrix}\n",
    "\\right\\Vert}\n",
    "=\n",
    "\\frac{1}{\\sqrt{\\frac{7}{5}}}\n",
    "\\begin{bmatrix}\n",
    "0\\\\\n",
    "-\\frac{1}{5}\\\\\n",
    "-\\frac{3}{5}\\\\\n",
    "1\n",
    "\\end{bmatrix}\n",
    "=\n",
    "\\begin{bmatrix}\n",
    "0\\\\\n",
    "-\\frac{1}{5\\sqrt{\\frac{7}{5}}}\\\\\n",
    "-\\frac{3}{5\\sqrt{\\frac{7}{5}}}\\\\\n",
    "\\frac{1}{\\sqrt{\\frac{7}{5}}}\n",
    "\\end{bmatrix}\n",
    "$$"
   ]
  },
  {
   "cell_type": "markdown",
   "metadata": {},
   "source": [
    "Therefore, an orthonormal basis for the eigenspace of $S$ associated with the eigenvalue $\\lambda=-7$ is\n",
    "\n",
    "$$\n",
    "\\left\\{\n",
    "\\begin{bmatrix}\n",
    "\\frac{5}{\\sqrt{35}}\\\\\n",
    "-\\frac{3}{\\sqrt{35}}\\\\\n",
    "\\frac{1}{\\sqrt{35}}\\\\\n",
    "0\n",
    "\\end{bmatrix}\n",
    ",\n",
    "\\begin{bmatrix}\n",
    "0\\\\\n",
    "-\\frac{1}{5\\sqrt{\\frac{7}{5}}}\\\\\n",
    "-\\frac{3}{5\\sqrt{\\frac{7}{5}}}\\\\\n",
    "\\frac{1}{\\sqrt{\\frac{7}{5}}}\n",
    "\\end{bmatrix}\n",
    "\\right\\}\n",
    "$$"
   ]
  },
  {
   "cell_type": "code",
   "execution_count": 25,
   "metadata": {},
   "outputs": [
    {
     "name": "stdout",
     "output_type": "stream",
     "text": [
      "[ 5 -3  1  0]\n",
      "[ 0.84515425 -0.50709255  0.16903085  0.        ]\n",
      "[ 0.  -0.2 -0.6  1. ]\n",
      "[ 0.         -0.16903085 -0.50709255  0.84515425]\n",
      "1.0\n",
      "1.0000000000000002\n",
      "True\n"
     ]
    }
   ],
   "source": [
    "v1 = np.array([5, -3, 1, 0])\n",
    "x2 = np.array([3, -2, 0, 1])\n",
    "v2 = x2 - np.dot((np.dot(x2, v1)/np.dot(v1, v1)), v1)\n",
    "\n",
    "v1u = v1/np.linalg.norm(v1)\n",
    "v2u = v2/np.linalg.norm(v2)\n",
    "\n",
    "print(v1)\n",
    "print(v1u)\n",
    "print(v2)\n",
    "print(v2u)\n",
    "print(np.dot(v1u, v1u))\n",
    "print(np.dot(v2u, v2u))\n",
    "print(np.isclose(np.dot(v1u, v2u), 0))"
   ]
  },
  {
   "cell_type": "markdown",
   "metadata": {},
   "source": [
    "$$\n",
    "Q^TQ\n",
    "=\n",
    "\\begin{bmatrix}\n",
    "-\\frac{2}{\\sqrt{14}} & -\\frac{3}{\\sqrt{14}} & \\frac{1}{\\sqrt{14}} & 0\\\\\n",
    "0 & \\frac{1}{2\\sqrt{\\frac{7}{2}}} & \\frac{3}{2\\sqrt{\\frac{7}{2}}} & \\frac{1}{\\sqrt{\\frac{7}{2}}}\\\\\n",
    "\\frac{5}{\\sqrt{35}} & -\\frac{3}{\\sqrt{35}} & \\frac{1}{\\sqrt{35}} & 0\\\\\n",
    "0 & -\\frac{1}{5\\sqrt{\\frac{7}{5}}} & -\\frac{3}{5\\sqrt{\\frac{7}{5}}} & \\frac{1}{\\sqrt{\\frac{7}{5}}}\\\\\n",
    "\\end{bmatrix}\n",
    "\\begin{bmatrix}\n",
    "-\\frac{2}{\\sqrt{14}} & 0 & \\frac{5}{\\sqrt{35}} & 0\\\\\n",
    "-\\frac{3}{\\sqrt{14}} & \\frac{1}{2\\sqrt{\\frac{7}{2}}} & -\\frac{3}{\\sqrt{35}} & -\\frac{1}{5\\sqrt{\\frac{7}{5}}}\\\\\n",
    "\\frac{1}{\\sqrt{14}} & \\frac{3}{2\\sqrt{\\frac{7}{2}}} & \\frac{1}{\\sqrt{35}} & -\\frac{3}{5\\sqrt{\\frac{7}{5}}}\\\\\n",
    "0 & \\frac{1}{\\sqrt{\\frac{7}{2}}} & 0 & \\frac{1}{\\sqrt{\\frac{7}{5}}}\\\\\n",
    "\\end{bmatrix}\n",
    "$$"
   ]
  },
  {
   "cell_type": "markdown",
   "metadata": {},
   "source": [
    "$$\n",
    "\\begin{align}\n",
    "\\left(-\\frac{2}{\\sqrt{14}}\\right)\\left(-\\frac{2}{\\sqrt{14}}\\right)+\\left(-\\frac{3}{\\sqrt{14}}\\right)\\left(-\\frac{3}{\\sqrt{14}}\\right)+\\frac{1}{\\sqrt{14}}\\frac{1}{\\sqrt{14}}+0 &= 1\\\\\n",
    "0+\\left(-\\frac{3}{\\sqrt{14}}\\right)\\frac{1}{2\\sqrt{\\frac{7}{2}}}+\\frac{1}{\\sqrt{14}}\\frac{3}{2\\sqrt{\\frac{7}{2}}}+0 &= 0\\\\\n",
    "\\left(-\\frac{2}{\\sqrt{14}}\\right)\\frac{5}{\\sqrt{35}}+\\left(-\\frac{3}{\\sqrt{14}}\\right)\\left(-\\frac{3}{\\sqrt{35}}\\right)+\\frac{1}{\\sqrt{14}}\\frac{1}{\\sqrt{35}}+0 &= 0\\\\\n",
    "0+\\left(-\\frac{3}{\\sqrt{14}}\\right)\\left(-\\frac{1}{5\\sqrt{\\frac{7}{5}}}\\right)+\\frac{1}{\\sqrt{14}}\\left(-\\frac{3}{5\\sqrt{\\frac{7}{5}}}\\right)+0 &= 0\\\\\n",
    "0+\\frac{1}{2\\sqrt{\\frac{7}{2}}}\\left(-\\frac{3}{\\sqrt{14}}\\right)+\\frac{3}{2\\sqrt{\\frac{7}{2}}}\\frac{1}{\\sqrt{14}}+0 &= 0\\\\\n",
    "0+\\frac{1}{2\\sqrt{\\frac{7}{2}}}\\frac{1}{2\\sqrt{\\frac{7}{2}}}+\\frac{3}{2\\sqrt{\\frac{7}{2}}}\\frac{3}{2\\sqrt{\\frac{7}{2}}}+\\frac{1}{\\sqrt{\\frac{7}{2}}}\\frac{1}{\\sqrt{\\frac{7}{2}}} &= 1\\\\\n",
    "0+\\frac{1}{2\\sqrt{\\frac{7}{2}}}\\left(-\\frac{3}{\\sqrt{35}}\\right)+\\frac{3}{2\\sqrt{\\frac{7}{2}}}\\frac{1}{\\sqrt{35}}+0 &= 0\\\\\n",
    "0+\\frac{1}{2\\sqrt{\\frac{7}{2}}}\\left(-\\frac{1}{5\\sqrt{\\frac{7}{5}}}\\right)+\\frac{3}{2\\sqrt{\\frac{7}{2}}}\\left(-\\frac{3}{5\\sqrt{\\frac{7}{5}}}\\right)+\\frac{1}{\\sqrt{\\frac{7}{2}}}\\frac{1}{\\sqrt{\\frac{7}{5}}} &= 0\\\\\n",
    "\\end{align}\n",
    "$$"
   ]
  },
  {
   "cell_type": "markdown",
   "metadata": {},
   "source": [
    "$$\n",
    "\\begin{align}\n",
    "\\frac{5}{\\sqrt{35}}\\left(-\\frac{2}{\\sqrt{14}}\\right)+\\left(-\\frac{3}{\\sqrt{35}}\\right)\\left(-\\frac{3}{\\sqrt{14}}\\right)+\\frac{1}{\\sqrt{35}}\\frac{1}{\\sqrt{14}}+0 &= 0\\\\\n",
    "0+\\left(-\\frac{3}{\\sqrt{35}}\\right)\\frac{1}{2\\sqrt{\\frac{7}{2}}}+\\frac{1}{\\sqrt{35}}\\frac{3}{2\\sqrt{\\frac{7}{2}}}+0 &= 0\\\\\n",
    "\\frac{5}{\\sqrt{35}}\\frac{5}{\\sqrt{35}}+\\left(-\\frac{3}{\\sqrt{35}}\\right)\\left(-\\frac{3}{\\sqrt{35}}\\right)+\\frac{1}{\\sqrt{35}}\\frac{1}{\\sqrt{35}}+0 &= 1\\\\\n",
    "0+\\left(-\\frac{3}{\\sqrt{35}}\\right)\\left(-\\frac{1}{5\\sqrt{\\frac{7}{5}}}\\right)+\\frac{1}{\\sqrt{35}}\\left(-\\frac{3}{5\\sqrt{\\frac{7}{5}}}\\right)+0 &= 0\\\\\n",
    "0+\\left(-\\frac{1}{5\\sqrt{\\frac{7}{5}}}\\right)\\left(-\\frac{3}{\\sqrt{14}}\\right)+\\left(-\\frac{3}{5\\sqrt{\\frac{7}{5}}}\\right)\\frac{1}{\\sqrt{14}}+0 &= 0\\\\\n",
    "0+\\left(-\\frac{1}{5\\sqrt{\\frac{7}{5}}}\\right)\\frac{1}{2\\sqrt{\\frac{7}{2}}}+\\left(-\\frac{3}{5\\sqrt{\\frac{7}{5}}}\\right)\\frac{3}{2\\sqrt{\\frac{7}{2}}}+\\frac{1}{\\sqrt{\\frac{7}{5}}}\\frac{1}{\\sqrt{\\frac{7}{2}}} &= 0\\\\\n",
    "0+\\left(-\\frac{1}{5\\sqrt{\\frac{7}{5}}}\\right)\\left(-\\frac{3}{\\sqrt{35}}\\right)+\\left(-\\frac{1}{5\\sqrt{\\frac{7}{5}}}\\right)\\frac{1}{\\sqrt{35}}+0 &= 0\\\\\n",
    "0+\\left(-\\frac{1}{5\\sqrt{\\frac{7}{5}}}\\right)\\left(-\\frac{1}{5\\sqrt{\\frac{7}{5}}}\\right)+\\left(-\\frac{1}{5\\sqrt{\\frac{7}{5}}}\\right)\\left(-\\frac{3}{5\\sqrt{\\frac{7}{5}}}\\right)+\\frac{1}{\\sqrt{\\frac{7}52}}\\frac{1}{\\sqrt{\\frac{7}{5}}} &= 1\\\\\n",
    "\\end{align}\n",
    "$$"
   ]
  },
  {
   "cell_type": "markdown",
   "metadata": {},
   "source": [
    "$$\n",
    "=\n",
    "\\begin{bmatrix}\n",
    "1 & 0 & 0 & 0\\\\\n",
    "0 & 1 & 0 & 0\\\\\n",
    "0 & 0 & 1 & 0\\\\\n",
    "0 & 0 & 0 & 1\\\\\n",
    "\\end{bmatrix}\n",
    "$$"
   ]
  },
  {
   "cell_type": "markdown",
   "metadata": {},
   "source": [
    "$$\n",
    "Q^TSQ\n",
    "=\n",
    "\\begin{bmatrix}\n",
    "-\\frac{2}{\\sqrt{14}} & -\\frac{3}{\\sqrt{14}} & \\frac{1}{\\sqrt{14}} & 0\\\\\n",
    "0 & \\frac{1}{2\\sqrt{\\frac{7}{2}}} & \\frac{3}{2\\sqrt{\\frac{7}{2}}} & \\frac{1}{\\sqrt{\\frac{7}{2}}}\\\\\n",
    "\\frac{5}{\\sqrt{35}} & -\\frac{3}{\\sqrt{35}} & \\frac{1}{\\sqrt{35}} & 0\\\\\n",
    "0 & -\\frac{1}{5\\sqrt{\\frac{7}{5}}} & -\\frac{3}{5\\sqrt{\\frac{7}{5}}} & \\frac{1}{\\sqrt{\\frac{7}{5}}}\\\\\n",
    "\\end{bmatrix}\n",
    "\\begin{bmatrix}\n",
    "-3 & 6 & -2 & 0\\\\\n",
    "6 & 3 & 0 & 2\\\\\n",
    "-2 & 0 & 3 & 6\\\\\n",
    "0 & 2 & 6 & -3\\\\\n",
    "\\end{bmatrix}\n",
    "\\begin{bmatrix}\n",
    "-\\frac{2}{\\sqrt{14}} & 0 & \\frac{5}{\\sqrt{35}} & 0\\\\\n",
    "-\\frac{3}{\\sqrt{14}} & \\frac{1}{2\\sqrt{\\frac{7}{2}}} & -\\frac{3}{\\sqrt{35}} & -\\frac{1}{5\\sqrt{\\frac{7}{5}}}\\\\\n",
    "\\frac{1}{\\sqrt{14}} & \\frac{3}{2\\sqrt{\\frac{7}{2}}} & \\frac{1}{\\sqrt{35}} & -\\frac{3}{5\\sqrt{\\frac{7}{5}}}\\\\\n",
    "0 & \\frac{1}{\\sqrt{\\frac{7}{2}}} & 0 & \\frac{1}{\\sqrt{\\frac{7}{5}}}\\\\\n",
    "\\end{bmatrix}\n",
    "$$"
   ]
  },
  {
   "cell_type": "markdown",
   "metadata": {},
   "source": [
    "$$\n",
    "\\begin{align}\n",
    "(-3)\\left(- \\frac{2}{\\sqrt{14}}\\right)+6\\left(-\\frac{3}{\\sqrt{14}}\\right)+(-2)\\frac{1}{\\sqrt{14}}+0 &= \\left(-\\frac{14}{\\sqrt{14}}\\right)\\\\\n",
    "6\\left(-\\frac{2}{\\sqrt{14}}\\right)+3\\left(-\\frac{3}{\\sqrt{14}}\\right)+0+0 &= \\left(-\\frac{21}{\\sqrt{14}}\\right)\\\\\n",
    "(-2)\\left(-\\frac{2}{\\sqrt{14}}\\right)+0+3\\frac{1}{\\sqrt{14}}+0 &= \\frac{7}{\\sqrt{14}}\\\\\n",
    "0+2\\left(-\\frac{3}{\\sqrt{14}}\\right)+6\\frac{1}{\\sqrt{14}}+0 &= 0\\\\\n",
    "0+6\\frac{1}{2\\sqrt{\\frac{7}{2}}}+(-2)\\frac{3}{2\\sqrt{\\frac{7}{2}}}+0 &= 0\\\\\n",
    "0+3\\frac{1}{2\\sqrt{\\frac{7}{2}}}+0+2\\frac{1}{\\sqrt{\\frac{7}{2}}} &= \\frac{7}{2\\sqrt{\\frac{7}{2}}}\\\\\n",
    "0+0+3\\frac{3}{2\\sqrt{\\frac{7}{2}}}+6\\frac{1}{\\sqrt{\\frac{7}{2}}} &= \\frac{21}{2\\sqrt{\\frac{7}{2}}}\\\\\n",
    "0+2\\frac{1}{2\\sqrt{\\frac{7}{2}}}+6\\frac{3}{2\\sqrt{\\frac{7}{2}}}+(-3)\\frac{1}{\\sqrt{\\frac{7}{2}}} &= \\frac{7}{\\sqrt{\\frac{7}{2}}}\\\\\n",
    "(-3)\\frac{5}{\\sqrt{35}}+6\\left(-\\frac{3}{\\sqrt{35}}\\right)+(-2)\\frac{1}{\\sqrt{35}}+0 &= \\left(-\\frac{35}{\\sqrt{35}}\\right)\\\\\n",
    "6\\frac{5}{\\sqrt{35}}+3\\left(-\\frac{3}{\\sqrt{35}}\\right)+0+0 &= \\frac{21}{\\sqrt{35}}\\\\\n",
    "(-2)\\frac{5}{\\sqrt{35}}+0+3\\frac{1}{\\sqrt{35}}+0 &= \\left(-\\frac{7}{\\sqrt{35}}\\right)\\\\\n",
    "0+2\\left(-\\frac{3}{\\sqrt{35}}\\right)+6\\frac{1}{\\sqrt{35}}+0 &= 0\\\\\n",
    "0+6\\left(-\\frac{1}{5\\sqrt{\\frac{7}{5}}}\\right)+(-2)\\left(-\\frac{3}{5\\sqrt{\\frac{7}{5}}}\\right)+0 &= 0\\\\\n",
    "0+3\\left(-\\frac{1}{5\\sqrt{\\frac{7}{5}}}\\right)+0+2\\frac{1}{\\sqrt{\\frac{7}{5}}} &= \\frac{7}{5\\sqrt{\\frac{7}{5}}}\\\\\n",
    "0+0+3\\left(-\\frac{3}{5\\sqrt{\\frac{7}{5}}}\\right)+6\\frac{1}{\\sqrt{\\frac{7}{5}}} &= \\frac{21}{5\\sqrt{\\frac{7}{5}}}\\\\\n",
    "0+2\\left(-\\frac{1}{5\\sqrt{\\frac{7}{5}}}\\right)+6\\left(-\\frac{3}{5\\sqrt{\\frac{7}{5}}}\\right)+(-3)\\frac{1}{\\sqrt{\\frac{7}{5}}} &= \\left(-\\frac{7}{\\sqrt{\\frac{7}{5}}}\\right)\\\\\n",
    "\\end{align}\n",
    "$$"
   ]
  },
  {
   "cell_type": "markdown",
   "metadata": {},
   "source": [
    "$$\n",
    "=\n",
    "\\begin{bmatrix}\n",
    "-\\frac{14}{\\sqrt{14}} & -\\frac{21}{\\sqrt{14}} & \\frac{7}{\\sqrt{14}} & 0\\\\\n",
    "0 & \\frac{7}{2\\sqrt{\\frac{7}{2}}} & \\frac{21}{2\\sqrt{\\frac{7}{2}}} & \\frac{7}{\\sqrt{\\frac{7}{2}}}\\\\\n",
    "-\\frac{35}{\\sqrt{35}} & \\frac{21}{\\sqrt{35}} & -\\frac{7}{\\sqrt{35}} & 0\\\\\n",
    "0 & \\frac{7}{5\\sqrt{\\frac{7}{5}}} & \\frac{21}{5\\sqrt{\\frac{7}{5}}} & -\\frac{7}{\\sqrt{\\frac{7}{5}}}\\\\\n",
    "\\end{bmatrix}\n",
    "\\begin{bmatrix}\n",
    "-\\frac{2}{\\sqrt{14}} & 0 & \\frac{5}{\\sqrt{35}} & 0\\\\\n",
    "-\\frac{3}{\\sqrt{14}} & \\frac{1}{2\\sqrt{\\frac{7}{2}}} & -\\frac{3}{\\sqrt{35}} & -\\frac{1}{5\\sqrt{\\frac{7}{5}}}\\\\\n",
    "\\frac{1}{\\sqrt{14}} & \\frac{3}{2\\sqrt{\\frac{7}{2}}} & \\frac{1}{\\sqrt{35}} & -\\frac{3}{5\\sqrt{\\frac{7}{5}}}\\\\\n",
    "0 & \\frac{1}{\\sqrt{\\frac{7}{2}}} & 0 & \\frac{1}{\\sqrt{\\frac{7}{5}}}\\\\\n",
    "\\end{bmatrix}\n",
    "$$"
   ]
  },
  {
   "cell_type": "markdown",
   "metadata": {},
   "source": [
    "$$\n",
    "\\begin{align}\n",
    "\\left(-\\frac{14}{\\sqrt{14}}\\right)\\left(-\\frac{2}{\\sqrt{14}}\\right)+\\left(-\\frac{21}{\\sqrt{14}}\\right)\\left(-\\frac{3}{\\sqrt{14}}\\right)+\\frac{7}{\\sqrt{14}}\\frac{1}{\\sqrt{14}}+0 &= 7\\\\\n",
    "0+\\left(-\\frac{21}{\\sqrt{14}}\\right)\\frac{1}{2\\sqrt{\\frac{7}{2}}}+\\frac{7}{\\sqrt{14}}\\frac{3}{2\\sqrt{\\frac{7}{2}}}+0 &= 0\\\\\n",
    "\\left(-\\frac{14}{\\sqrt{14}}\\right)\\frac{5}{\\sqrt{35}}+\\left(-\\frac{21}{\\sqrt{14}}\\right)\\left(-\\frac{3}{\\sqrt{35}}\\right)+\\frac{7}{\\sqrt{14}}\\frac{1}{\\sqrt{35}}+0 &= 0\\\\\n",
    "0+\\left(-\\frac{21}{\\sqrt{14}}\\right)\\left(-\\frac{1}{5\\sqrt{\\frac{7}{5}}}\\right)+\\frac{7}{\\sqrt{14}}\\left(-\\frac{3}{5\\sqrt{\\frac{7}{5}}}\\right)+0 &= 0\\\\\n",
    "0+\\frac{7}{2\\sqrt{\\frac{7}{2}}}+\\frac{21}{2\\sqrt{\\frac{7}{2}}}+0 &= 0\\\\\n",
    "0+\\frac{7}{2\\sqrt{\\frac{7}{2}}}+\\frac{21}{2\\sqrt{\\frac{7}{2}}}+\\frac{7}{\\sqrt{\\frac{7}{2}}} &= 7\\\\\n",
    "0+\\frac{7}{2\\sqrt{\\frac{7}{2}}}+\\frac{21}{2\\sqrt{\\frac{7}{2}}}+0 &= 0\\\\\n",
    "0+\\frac{7}{2\\sqrt{\\frac{7}{2}}}+\\frac{21}{2\\sqrt{\\frac{7}{2}}}+\\frac{7}{\\sqrt{\\frac{7}{2}}} &= 0\\\\\n",
    "... &= 0\\\\\n",
    "... &= 0\\\\\n",
    "... &= -7\\\\\n",
    "... &= 0\\\\\n",
    "... &= 0\\\\\n",
    "... &= 0\\\\\n",
    "... &= 0\\\\\n",
    "... &= -7\\\\\n",
    "\\end{align}\n",
    "$$"
   ]
  },
  {
   "cell_type": "markdown",
   "metadata": {},
   "source": [
    "$$\n",
    "=\n",
    "\\begin{bmatrix}\n",
    "7 & 0 & 0 & 0\\\\\n",
    "0 & 7 & 0 & 0\\\\\n",
    "0 & 0 & -7 & 0\\\\\n",
    "0 & 0 & 0 & -7\\\\\n",
    "\\end{bmatrix}\n",
    "$$"
   ]
  },
  {
   "cell_type": "code",
   "execution_count": 26,
   "metadata": {},
   "outputs": [
    {
     "data": {
      "image/png": "[encoded data removed]",
      "text/latex": [
       "$\\displaystyle \\left[\\begin{matrix}1.0 & 0 & -2.77555756156289 \\cdot 10^{-17} & 0\\\\0 & 1.0 & 0 & 2.77555756156289 \\cdot 10^{-17}\\\\-2.77555756156289 \\cdot 10^{-17} & 0 & 1.0 & 0\\\\0 & 2.77555756156289 \\cdot 10^{-17} & 0 & 1.0\\end{matrix}\\right]$"
      ],
      "text/plain": [
       "⎡         1.0                    0            -2.77555756156289e-17           \n",
       "⎢                                                                             \n",
       "⎢          0                    1.0                     0            2.7755575\n",
       "⎢                                                                             \n",
       "⎢-2.77555756156289e-17           0                     1.0                    \n",
       "⎢                                                                             \n",
       "⎣          0            2.77555756156289e-17            0                    1\n",
       "\n",
       "0          ⎤\n",
       "           ⎥\n",
       "6156289e-17⎥\n",
       "           ⎥\n",
       "0          ⎥\n",
       "           ⎥\n",
       ".0         ⎦"
      ]
     },
     "execution_count": 26,
     "metadata": {
      "filenames": {
       "image/png": "/Users/davefriedman/Documents/repo/myGitHub/resources_public/docs/_build/jupyter_execute/nbs/LinearAlgebra_109_0.png"
      }
     },
     "output_type": "execute_result"
    }
   ],
   "source": [
    "Q = Matrix(4, 4, [\n",
    "    -2/np.sqrt(14), 0, 5/np.sqrt(35), 0,\n",
    "    -3/np.sqrt(14), 1/(2*np.sqrt(7/2)), -3/np.sqrt(35), -1/(5*np.sqrt(7/5)),\n",
    "    1/np.sqrt(14), 3/(2*np.sqrt(7/2)), 1/np.sqrt(35), -3/(5*np.sqrt(7/5)),\n",
    "    0, 1/np.sqrt(7/2), 0, 1/np.sqrt(7/5)\n",
    "])\n",
    "Q*Q.transpose()"
   ]
  },
  {
   "cell_type": "code",
   "execution_count": 27,
   "metadata": {},
   "outputs": [
    {
     "data": {
      "text/plain": [
       "array([[ 1.,  0., -0.,  0.],\n",
       "       [ 0.,  1.,  0.,  0.],\n",
       "       [-0.,  0.,  1.,  0.],\n",
       "       [ 0.,  0.,  0.,  1.]])"
      ]
     },
     "execution_count": 27,
     "metadata": {},
     "output_type": "execute_result"
    }
   ],
   "source": [
    "Sn = np.array([-3, 6, -2, 0, 6, 3, 0, 2, -2, 0, 3, 6, 0, 2, 6, -3]).reshape(4, 4)\n",
    "Qn = np.array([-2/np.sqrt(14), 0, 5/np.sqrt(35), 0,\n",
    "              -3/np.sqrt(14), 1/(2*np.sqrt(7/2)), -3/np.sqrt(35), -1/(5*np.sqrt(7/5)),\n",
    "              1/np.sqrt(14), 3/(2*np.sqrt(7/2)), 1/np.sqrt(35), -3/(5*np.sqrt(7/5)),\n",
    "              0, 1/np.sqrt(7/2), 0, 1/np.sqrt(7/5),\n",
    "             ]).reshape(4, 4)\n",
    "np.round(np.dot(Qn, Qn.transpose()))"
   ]
  },
  {
   "cell_type": "code",
   "execution_count": 28,
   "metadata": {},
   "outputs": [
    {
     "data": {
      "text/plain": [
       "array([[-3.74165739, -5.61248608,  1.87082869,  0.        ],\n",
       "       [ 0.        ,  1.87082869,  5.61248608,  3.74165739],\n",
       "       [-5.91607978,  3.54964787, -1.18321596,  0.        ],\n",
       "       [ 0.        ,  1.18321596,  3.54964787, -5.91607978]])"
      ]
     },
     "execution_count": 28,
     "metadata": {},
     "output_type": "execute_result"
    }
   ],
   "source": [
    "np.dot(Qn.T, Sn)"
   ]
  },
  {
   "cell_type": "code",
   "execution_count": 29,
   "metadata": {},
   "outputs": [
    {
     "data": {
      "text/plain": [
       "array([[ 7.,  0.,  0., -0.],\n",
       "       [-0.,  7., -0.,  0.],\n",
       "       [ 0.,  0., -7.,  0.],\n",
       "       [ 0.,  0.,  0., -7.]])"
      ]
     },
     "execution_count": 29,
     "metadata": {},
     "output_type": "execute_result"
    }
   ],
   "source": [
    "np.round(np.dot(np.dot(Qn.T, Sn), Qn), 0)"
   ]
  },
  {
   "cell_type": "markdown",
   "metadata": {},
   "source": [
    "---"
   ]
  },
  {
   "cell_type": "code",
   "execution_count": 30,
   "metadata": {},
   "outputs": [
    {
     "data": {
      "image/png": "[encoded data removed]",
      "text/latex": [
       "$\\displaystyle \\left[ \\left( -7, \\  2, \\  \\left[ \\left[\\begin{matrix}5\\\\-3\\\\1\\\\0\\end{matrix}\\right], \\  \\left[\\begin{matrix}3\\\\-2\\\\0\\\\1\\end{matrix}\\right]\\right]\\right), \\  \\left( 7, \\  2, \\  \\left[ \\left[\\begin{matrix}-2\\\\-3\\\\1\\\\0\\end{matrix}\\right], \\  \\left[\\begin{matrix}3\\\\5\\\\0\\\\1\\end{matrix}\\right]\\right]\\right)\\right]$"
      ],
      "text/plain": [
       "⎡⎛       ⎡⎡5 ⎤  ⎡3 ⎤⎤⎞  ⎛      ⎡⎡-2⎤  ⎡3⎤⎤⎞⎤\n",
       "⎢⎜       ⎢⎢  ⎥  ⎢  ⎥⎥⎟  ⎜      ⎢⎢  ⎥  ⎢ ⎥⎥⎟⎥\n",
       "⎢⎜       ⎢⎢-3⎥  ⎢-2⎥⎥⎟  ⎜      ⎢⎢-3⎥  ⎢5⎥⎥⎟⎥\n",
       "⎢⎜-7, 2, ⎢⎢  ⎥, ⎢  ⎥⎥⎟, ⎜7, 2, ⎢⎢  ⎥, ⎢ ⎥⎥⎟⎥\n",
       "⎢⎜       ⎢⎢1 ⎥  ⎢0 ⎥⎥⎟  ⎜      ⎢⎢1 ⎥  ⎢0⎥⎥⎟⎥\n",
       "⎢⎜       ⎢⎢  ⎥  ⎢  ⎥⎥⎟  ⎜      ⎢⎢  ⎥  ⎢ ⎥⎥⎟⎥\n",
       "⎣⎝       ⎣⎣0 ⎦  ⎣1 ⎦⎦⎠  ⎝      ⎣⎣0 ⎦  ⎣1⎦⎦⎠⎦"
      ]
     },
     "execution_count": 30,
     "metadata": {
      "filenames": {
       "image/png": "/Users/davefriedman/Documents/repo/myGitHub/resources_public/docs/_build/jupyter_execute/nbs/LinearAlgebra_114_0.png"
      }
     },
     "output_type": "execute_result"
    }
   ],
   "source": [
    "S.eigenvects()"
   ]
  },
  {
   "cell_type": "code",
   "execution_count": 31,
   "metadata": {},
   "outputs": [],
   "source": [
    "P, D = S.diagonalize()"
   ]
  },
  {
   "cell_type": "code",
   "execution_count": 32,
   "metadata": {},
   "outputs": [
    {
     "data": {
      "image/png": "[encoded data removed]",
      "text/latex": [
       "$\\displaystyle \\left[\\begin{matrix}5 & 3 & -2 & 3\\\\-3 & -2 & -3 & 5\\\\1 & 0 & 1 & 0\\\\0 & 1 & 0 & 1\\end{matrix}\\right]$"
      ],
      "text/plain": [
       "⎡5   3   -2  3⎤\n",
       "⎢             ⎥\n",
       "⎢-3  -2  -3  5⎥\n",
       "⎢             ⎥\n",
       "⎢1   0   1   0⎥\n",
       "⎢             ⎥\n",
       "⎣0   1   0   1⎦"
      ]
     },
     "execution_count": 32,
     "metadata": {
      "filenames": {
       "image/png": "/Users/davefriedman/Documents/repo/myGitHub/resources_public/docs/_build/jupyter_execute/nbs/LinearAlgebra_116_0.png"
      }
     },
     "output_type": "execute_result"
    }
   ],
   "source": [
    "P"
   ]
  },
  {
   "cell_type": "code",
   "execution_count": 33,
   "metadata": {},
   "outputs": [
    {
     "data": {
      "image/png": "[encoded data removed]",
      "text/latex": [
       "$\\displaystyle \\left[\\begin{matrix}-7 & 0 & 0 & 0\\\\0 & -7 & 0 & 0\\\\0 & 0 & 7 & 0\\\\0 & 0 & 0 & 7\\end{matrix}\\right]$"
      ],
      "text/plain": [
       "⎡-7  0   0  0⎤\n",
       "⎢            ⎥\n",
       "⎢0   -7  0  0⎥\n",
       "⎢            ⎥\n",
       "⎢0   0   7  0⎥\n",
       "⎢            ⎥\n",
       "⎣0   0   0  7⎦"
      ]
     },
     "execution_count": 33,
     "metadata": {
      "filenames": {
       "image/png": "/Users/davefriedman/Documents/repo/myGitHub/resources_public/docs/_build/jupyter_execute/nbs/LinearAlgebra_117_0.png"
      }
     },
     "output_type": "execute_result"
    }
   ],
   "source": [
    "D"
   ]
  },
  {
   "cell_type": "markdown",
   "metadata": {},
   "source": [
    "---"
   ]
  },
  {
   "cell_type": "code",
   "execution_count": 34,
   "metadata": {},
   "outputs": [
    {
     "data": {
      "image/png": "[encoded data removed]",
      "text/latex": [
       "$\\displaystyle \\left[\\begin{matrix}- l - 3 & 6 & -2 & 0\\\\6 & 3 - l & 0 & 2\\\\-2 & 0 & 3 - l & 6\\\\0 & 2 & 6 & - l - 3\\end{matrix}\\right]$"
      ],
      "text/plain": [
       "⎡-l - 3    6     -2      0   ⎤\n",
       "⎢                            ⎥\n",
       "⎢  6     3 - l    0      2   ⎥\n",
       "⎢                            ⎥\n",
       "⎢  -2      0    3 - l    6   ⎥\n",
       "⎢                            ⎥\n",
       "⎣  0       2      6    -l - 3⎦"
      ]
     },
     "execution_count": 34,
     "metadata": {
      "filenames": {
       "image/png": "/Users/davefriedman/Documents/repo/myGitHub/resources_public/docs/_build/jupyter_execute/nbs/LinearAlgebra_119_0.png"
      }
     },
     "output_type": "execute_result"
    }
   ],
   "source": [
    "l = symbols('l')\n",
    "M = Matrix(4, 4, [-3-l, 6, -2, 0, 6, 3-l, 0, 2, -2, 0, 3-l, 6, 0, 2, 6, -3-l])\n",
    "M"
   ]
  },
  {
   "cell_type": "code",
   "execution_count": 35,
   "metadata": {},
   "outputs": [
    {
     "data": {
      "image/png": "[encoded data removed]",
      "text/latex": [
       "$\\displaystyle l^{4} - 98 l^{2} + 2401$"
      ],
      "text/plain": [
       " 4       2       \n",
       "l  - 98⋅l  + 2401"
      ]
     },
     "execution_count": 35,
     "metadata": {
      "filenames": {
       "image/png": "/Users/davefriedman/Documents/repo/myGitHub/resources_public/docs/_build/jupyter_execute/nbs/LinearAlgebra_120_0.png"
      }
     },
     "output_type": "execute_result"
    }
   ],
   "source": [
    "M.det()"
   ]
  },
  {
   "cell_type": "code",
   "execution_count": 36,
   "metadata": {},
   "outputs": [
    {
     "data": {
      "text/plain": [
       "array([-7.00000007+0.00000000e+00j, -6.99999993+0.00000000e+00j,\n",
       "        7.        +9.13956908e-08j,  7.        -9.13956908e-08j])"
      ]
     },
     "execution_count": 36,
     "metadata": {},
     "output_type": "execute_result"
    }
   ],
   "source": [
    "np.roots(np.array([1, 0, -98, 0, 2401]))"
   ]
  },
  {
   "cell_type": "code",
   "execution_count": 37,
   "metadata": {},
   "outputs": [
    {
     "data": {
      "image/png": "[encoded data removed]",
      "text/latex": [
       "$\\displaystyle \\left[\\begin{matrix}-10 & 6 & -2 & 0 & 0\\\\6 & -4 & 0 & 2 & 0\\\\-2 & 0 & -4 & 6 & 0\\\\0 & 2 & 6 & -10 & 0\\end{matrix}\\right]$"
      ],
      "text/plain": [
       "⎡-10  6   -2   0   0⎤\n",
       "⎢                   ⎥\n",
       "⎢ 6   -4  0    2   0⎥\n",
       "⎢                   ⎥\n",
       "⎢-2   0   -4   6   0⎥\n",
       "⎢                   ⎥\n",
       "⎣ 0   2   6   -10  0⎦"
      ]
     },
     "execution_count": 37,
     "metadata": {
      "filenames": {
       "image/png": "/Users/davefriedman/Documents/repo/myGitHub/resources_public/docs/_build/jupyter_execute/nbs/LinearAlgebra_122_0.png"
      }
     },
     "output_type": "execute_result"
    }
   ],
   "source": [
    "M8_p7 = Matrix(4, 5, [-3-7, 6, -2, 0, 0, 6, 3-7, 0, 2, 0, -2, 0, 3-7, 6, 0, 0, 2, 6, -3-7, 0])\n",
    "M8_p7"
   ]
  },
  {
   "cell_type": "code",
   "execution_count": 38,
   "metadata": {},
   "outputs": [
    {
     "data": {
      "image/png": "[encoded data removed]",
      "text/latex": [
       "$\\displaystyle \\left( \\left[\\begin{matrix}1 & 0 & 2 & -3 & 0\\\\0 & 1 & 3 & -5 & 0\\\\0 & 0 & 0 & 0 & 0\\\\0 & 0 & 0 & 0 & 0\\end{matrix}\\right], \\  \\left( 0, \\  1\\right)\\right)$"
      ],
      "text/plain": [
       "⎛⎡1  0  2  -3  0⎤        ⎞\n",
       "⎜⎢              ⎥        ⎟\n",
       "⎜⎢0  1  3  -5  0⎥        ⎟\n",
       "⎜⎢              ⎥, (0, 1)⎟\n",
       "⎜⎢0  0  0  0   0⎥        ⎟\n",
       "⎜⎢              ⎥        ⎟\n",
       "⎝⎣0  0  0  0   0⎦        ⎠"
      ]
     },
     "execution_count": 38,
     "metadata": {
      "filenames": {
       "image/png": "/Users/davefriedman/Documents/repo/myGitHub/resources_public/docs/_build/jupyter_execute/nbs/LinearAlgebra_123_0.png"
      }
     },
     "output_type": "execute_result"
    }
   ],
   "source": [
    "M8_p7.rref()"
   ]
  },
  {
   "cell_type": "code",
   "execution_count": 39,
   "metadata": {},
   "outputs": [
    {
     "data": {
      "image/png": "[encoded data removed]",
      "text/latex": [
       "$\\displaystyle \\left[\\begin{matrix}4 & 6 & -2 & 0 & 0\\\\6 & 10 & 0 & 2 & 0\\\\-2 & 0 & 10 & 6 & 0\\\\0 & 2 & 6 & 4 & 0\\end{matrix}\\right]$"
      ],
      "text/plain": [
       "⎡4   6   -2  0  0⎤\n",
       "⎢                ⎥\n",
       "⎢6   10  0   2  0⎥\n",
       "⎢                ⎥\n",
       "⎢-2  0   10  6  0⎥\n",
       "⎢                ⎥\n",
       "⎣0   2   6   4  0⎦"
      ]
     },
     "execution_count": 39,
     "metadata": {
      "filenames": {
       "image/png": "/Users/davefriedman/Documents/repo/myGitHub/resources_public/docs/_build/jupyter_execute/nbs/LinearAlgebra_124_0.png"
      }
     },
     "output_type": "execute_result"
    }
   ],
   "source": [
    "M8_n7 = Matrix(4, 5, [-3+7, 6, -2, 0, 0, 6, 3+7, 0, 2, 0, -2, 0, 3+7, 6, 0, 0, 2, 6, -3+7, 0])\n",
    "M8_n7"
   ]
  },
  {
   "cell_type": "code",
   "execution_count": 40,
   "metadata": {},
   "outputs": [
    {
     "data": {
      "image/png": "[encoded data removed]",
      "text/latex": [
       "$\\displaystyle \\left( \\left[\\begin{matrix}1 & 0 & -5 & -3 & 0\\\\0 & 1 & 3 & 2 & 0\\\\0 & 0 & 0 & 0 & 0\\\\0 & 0 & 0 & 0 & 0\\end{matrix}\\right], \\  \\left( 0, \\  1\\right)\\right)$"
      ],
      "text/plain": [
       "⎛⎡1  0  -5  -3  0⎤        ⎞\n",
       "⎜⎢               ⎥        ⎟\n",
       "⎜⎢0  1  3   2   0⎥        ⎟\n",
       "⎜⎢               ⎥, (0, 1)⎟\n",
       "⎜⎢0  0  0   0   0⎥        ⎟\n",
       "⎜⎢               ⎥        ⎟\n",
       "⎝⎣0  0  0   0   0⎦        ⎠"
      ]
     },
     "execution_count": 40,
     "metadata": {
      "filenames": {
       "image/png": "/Users/davefriedman/Documents/repo/myGitHub/resources_public/docs/_build/jupyter_execute/nbs/LinearAlgebra_125_0.png"
      }
     },
     "output_type": "execute_result"
    }
   ],
   "source": [
    "M8_n7.rref()"
   ]
  },
  {
   "cell_type": "markdown",
   "metadata": {},
   "source": [
    "---"
   ]
  }
 ],
 "metadata": {
  "kernelspec": {
   "display_name": "Python 3",
   "language": "python",
   "name": "python3"
  },
  "language_info": {
   "codemirror_mode": {
    "name": "ipython",
    "version": 3
   },
   "file_extension": ".py",
   "mimetype": "text/x-python",
   "name": "python",
   "nbconvert_exporter": "python",
   "pygments_lexer": "ipython3",
   "version": "3.8.2"
  }
 },
 "nbformat": 4,
 "nbformat_minor": 4
}