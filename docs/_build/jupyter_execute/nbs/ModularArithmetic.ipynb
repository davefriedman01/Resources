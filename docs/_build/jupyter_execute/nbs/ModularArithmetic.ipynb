{
 "cells": [
  {
   "cell_type": "markdown",
   "id": "2b2fceba-dcb5-4009-8e9e-6aab07ede81f",
   "metadata": {},
   "source": [
    "# Modular Arithmetic"
   ]
  },
  {
   "cell_type": "markdown",
   "id": "1c3111cc-2454-4e1c-8938-de9a3eed8c4d",
   "metadata": {},
   "source": [
    "---"
   ]
  },
  {
   "cell_type": "markdown",
   "id": "c9800e36-06cf-4f16-9b85-58eecdebef68",
   "metadata": {},
   "source": [
    "### Equivalence Class\n",
    "\n",
    "<span style=\"color: blue\">**DEFINITION**</span><br>\n",
    "Let $R$ be an equivalence relation on $A$.<br>\n",
    "The equivalence class of $x \\in A$ determined by $R$ is the set $x/R = \\{y \\in A : x R y\\}$ which is read \"x mod R\".<br>\n",
    "The set of all equivalence classes determined by $R$ is $A/R = \\{x/R : x \\in A\\}$ which is read \"A mod R\".<br>"
   ]
  },
  {
   "cell_type": "markdown",
   "id": "422a4444-28cb-4bfd-b701-08fdc7e271b3",
   "metadata": {},
   "source": [
    "---"
   ]
  },
  {
   "cell_type": "markdown",
   "id": "2451c51b-c563-48e3-a460-0c6afbaf4bed",
   "metadata": {},
   "source": [
    "### Congruence modulo $m$\n",
    "\n",
    "<span style=\"color: blue\">**DEFINITION**</span><br>\n",
    "Let $\\equiv_m$ (for a fixed integer $m \\ne 0$) be the relation (not necessarily the _equivalence_ relation, which will be proved later) on $\\mathbb{Z}$ given by\n",
    "\n",
    "$$\n",
    "x \\equiv_m y\\,\\,\\text{iff}\\,\\, m \\,\\,\\text{divides}\\,\\, (x - y)\n",
    "$$"
   ]
  },
  {
   "cell_type": "markdown",
   "id": "64c6c3af-0355-42e8-80e6-4d7c74b741ac",
   "metadata": {},
   "source": [
    "The equivalence class of $x \\in \\mathbb{Z}$ determined by $\\equiv_m$ is the set $\\bar{x} = \\{y \\in \\mathbb{Z} : x \\equiv_m y\\}$.<br>\n",
    "The set of equivalence classes determined by $\\equiv_m$ is $\\mathbb{Z}_m = \\{\\bar{0}, \\bar{1}, \\bar{2}, ..., \\overline{(m - 1)}\\}$.<br>"
   ]
  },
  {
   "cell_type": "markdown",
   "id": "950175be-7549-4208-bb98-b99fae6eedc1",
   "metadata": {},
   "source": [
    "<span style=\"color: blue\">Notation</span><br>\n",
    "$x \\equiv_m y$ may be written $x \\equiv y \\,(\\text{mod}\\, m)$ or $x = y \\,(\\text{mod}\\, m)$<br>\n",
    "In this context, we write $\\bar{x}$ for the equivalence class of $x$ instead of $x/\\equiv_m$.<br>\n",
    "An equivalence class may be called a congruence class or a residue, since $0, 1, 2, ..., (m - 1)$ are exactly all the possible remainders when integers are divided by $m$.<br>"
   ]
  },
  {
   "cell_type": "markdown",
   "id": "7315234b-dbba-4896-bba9-3a60056cc363",
   "metadata": {},
   "source": [
    "---"
   ]
  },
  {
   "cell_type": "markdown",
   "id": "d0ead667-6b94-48fa-803c-bcccc809ad00",
   "metadata": {},
   "source": [
    "### Theorem\n",
    "\n",
    "$\\equiv_m$ is an equivalence relation on $\\mathbb{Z}$.<br>"
   ]
  },
  {
   "cell_type": "markdown",
   "id": "500727fd-2b65-422a-a54b-a1fcb53fd3fc",
   "metadata": {},
   "source": [
    "__Proof__<br>\n",
    "$\\equiv_m$ is a set of ordered pairs of integers and is thus a relation on $\\mathbb{Z}$.<br>\n",
    "\n",
    "Let $x$be an integer.<br>\n",
    "$m \\cdot 0 = 0 = x - x$.<br>\n",
    "Thus $m$ divides $x - x$.<br>\n",
    "Thus $x \\equiv x \\,(\\text{mod}\\, m)$ (by the definition of congruence modulo $m$).<br>\n",
    "Therefore, $\\equiv_m$ is reflexive on $\\mathbb{Z}$ (by the definition of reflexivity).<br>\n",
    "\n",
    "Let $x \\equiv y \\,(\\text{mod}\\, m)$.<br>\n",
    "Thus $m$ divides $x - y$ (by the definition of congruence modulo $m$).<br>\n",
    "Thus there is an integer $k$ such that $x - y = km \\leftrightarrow -(x - y) = -(km) \\leftrightarrow y - x = (-k)m$<br>\n",
    "Thus $m$ divides $y - x$.<br>\n",
    "Thus $y \\equiv x \\,(\\text{mod}\\, m)$ (by the definition of congruence modulo $m$).<br>\n",
    "Therefore, $\\equiv_m$ is symmetric on $\\mathbb{Z}$ (by the definition of symmetry).<br>\n",
    "\n",
    "Let $x \\equiv y \\,(\\text{mod}\\, m)$ and $y \\equiv z \\,(\\text{mod}\\, m)$.<br>\n",
    "Thus $m$ divides both $x - y$ and $y - z$ (by the definition of congruence modulo $m$).<br>\n",
    "Thus there exist integers $h$ and $k$ such that $x - y = hm$ and $y - z = km$.<br>\n",
    "$x - z = x - y + y - z = hm + km = (h + k)m$ where $(h + k)$ is an integer.<br>\n",
    "Thus $m$ divides $x - z$.<br>\n",
    "Thus $x \\equiv z \\,(\\text{mod}\\, m)$ (by the definition of congruence modulo $m$).<br>\n",
    "Therefore, $\\equiv_m$ is transitive on $\\mathbb{Z}$ (by the definition of transitivity).<br>\n",
    "\n",
    "Therefore, $\\equiv_m$ is an equivalence relation on $\\mathbb{Z}$.<br>\n",
    "$\\blacksquare$<br>"
   ]
  },
  {
   "cell_type": "markdown",
   "id": "a39362e4-8945-41f0-af03-def87017c9b9",
   "metadata": {},
   "source": [
    "### Theorem\n",
    "\n",
    "For all $x, y \\in \\mathbb{Z}$, $x \\equiv_m y$ iff $\\bar{x} = \\bar{y}$.<br>\n",
    "\n",
    "__Proof in the first direction__<br>\n",
    "First direction: If $x \\equiv_m y$, then $\\bar{x} = \\bar{y}$.<br>\n",
    "Assumption: Let $x \\equiv_m y$.<br>\n",
    "\n",
    "Part I: It must be shown that $\\bar{x} \\subseteq \\bar{y}$.<br>\n",
    "Let $z \\in \\bar{x}$.<br>\n",
    "Then $x \\equiv_m z$.<br>\n",
    "$y \\equiv_m x$ (by symmetry).<br>\n",
    "Then $y \\equiv_m z$ (by transitivity).<br>\n",
    "Therefore, $z \\in \\bar{y}$.<br>\n",
    "\n",
    "Part II: It must be shown that $\\bar{y} \\subseteq \\bar{x}$.<br>\n",
    "\n",
    "Therefore, $\\bar{x} = \\bar{y}$.<br>\n",
    "\n",
    "__Proof in the second direction__<br>\n",
    "Second Direction: If $\\bar{x} = \\bar{y}$, then $x \\equiv_m y$.<br>\n",
    "Assumption: Let $\\bar{x} = \\bar{y}$.<br>\n",
    "\n",
    "Therefore, $x \\equiv_m y$.<br>\n",
    "\n",
    "Therefore, $x \\equiv_m y$ iff $\\bar{x} = \\bar{y}$.<br>\n",
    "$\\blacksquare$<br>"
   ]
  },
  {
   "cell_type": "markdown",
   "id": "2c205ef8-34c6-42fc-a7bc-d751862ac0f7",
   "metadata": {},
   "source": [
    "### Theorem\n",
    "\n",
    "The set $\\mathbb{Z}_m$ has $m$ distinct elements $\\{\\bar{0}, \\bar{1}, \\bar{2}, ..., \\overline{(m - 1)}\\}$.<br>"
   ]
  },
  {
   "cell_type": "markdown",
   "id": "a8bffb1c-4a64-4780-ad0d-9f0704989e9b",
   "metadata": {},
   "source": [
    "__Proof__<br>\n",
    "Each $\\bar{k}$ for $k = 0, 1, 2, ..., (m - 1)$ is an equivalence class and thus in $\\mathbb{Z}_m$.<br>\n",
    "Let $\\bar{x} \\in \\mathbb{Z}_m$.<br>\n",
    "There exist integers $q$ and $r$ such that $x = mq + r$ where $0 \\le r \\le m - 1$ (by the division algorithm).<br>\n",
    "Thus $mq = x - r$.<br>\n",
    "Thus $m$ divides $x - r$.<br>\n",
    "Thus $x \\equiv r \\,(\\text{mod}\\, m)$ (by the definition of congruence modulo $m$).<br>\n",
    "Thus $\\bar{x} = \\bar{r}$.<br>\n",
    "Thus $\\bar{x} \\in \\{\\bar{0}, \\bar{1}, \\bar{2}, ..., \\overline{(m - 1)}\\}$.<br>\n",
    "We will know that $\\mathbb{Z}_m$ has exactly $m$ elements when we show that $\\bar{0}, \\bar{1}, \\bar{2}, ..., \\overline{(m - 1)}$ are all distinct.<br>\n",
    "Let $\\bar{k} = \\bar{r}$ where $0 \\le r \\le k \\le (m - 1)$.<br>\n",
    "Then $k \\equiv r \\,(\\text{mod}\\, m)$.<br>\n",
    "Thus $m$ divides $k - r$ (by the definition of congruence modulo $m$).<br>\n",
    "But $0 \\le k - r \\le m - 1$, so $k - r = 0$.<br>\n",
    "Therefore, $k = r$ and the $m$ equivalence classes are distinct.<br>\n",
    "$\\blacksquare$<br>"
   ]
  },
  {
   "cell_type": "markdown",
   "id": "f659d748-64aa-4e26-a333-f388beaef400",
   "metadata": {},
   "source": [
    "---"
   ]
  },
  {
   "cell_type": "markdown",
   "id": "798e2a63-9a7e-4759-8992-ad5d4d1481fb",
   "metadata": {},
   "source": [
    "#### Modular Additive Identity\n",
    "The sum of an integer $a$ mod $m$ and the additive identity element is congruent to the integer $a$ mod $m$.<br>\n",
    "\n",
    "$$\n",
    "\\exists 0 \\in Z_m, \\forall a \\in Z_m, a + 0 \\equiv a \\,(\\text{mod}\\, m)\n",
    "$$\n",
    "\n",
    "#### Modular Addition\n",
    "Modular addition is defined as the principal remainder when $a + b$ is divided by $m$.<br>\n",
    "\n",
    "$$\n",
    "\\begin{align}\n",
    "a \\oplus b &\\overset{\\text{def}}{=} (a + b) \\,\\text{mod}\\, m \\\\\n",
    "&= (a' + km + b' + lm) \\,\\text{mod}\\, m \\\\\n",
    "&= ((k + l)m + (a' + b')) \\,\\text{mod}\\, m \\\\\n",
    "&= (a' + b') \\,\\text{mod}\\, m \\\\\n",
    "&= (a \\,\\text{mod}\\, m + b \\,\\text{mod}\\, m) \\,\\text{mod}\\, m \\\\\n",
    "\\end{align}\n",
    "$$\n",
    "\n",
    "#### Modular Additive Inverse\n",
    "The sum of an integer $a$ mod $m$ and its additive inverse is congruent to the additive identity element.<br>\n",
    "\n",
    "$$\n",
    "\\forall a \\in Z_m, \\exists (-a) \\in Z_m, a + (-a) \\equiv 0 \\,(\\text{mod}\\, m)\n",
    "$$\n",
    "\n",
    "#### Modular Subtraction\n",
    "The difference of two integers $a, b$ mod $m$ is the sum of the first integer $a$ mod $m$ and the additive inverse of the second integer $b$ mod $m$.<br>\n",
    "\n",
    "$$\n",
    "\\begin{align}\n",
    "a \\ominus b &\\overset{\\text{def}}{=} (a - b) \\,\\text{mod}\\, m \\\\\n",
    "&= (a' + km - (b' + lm)) \\,\\text{mod}\\, m \\\\\n",
    "&= ((k - l)m + (a' - b')) \\,\\text{mod}\\, m \\\\\n",
    "&= (a' - b') \\,\\text{mod}\\, m \\\\\n",
    "&= (a \\,\\text{mod}\\, m - b \\,\\text{mod}\\, m) \\,\\text{mod}\\, m \\\\\n",
    "\\end{align}\n",
    "$$\n",
    "\n",
    "#### Modular Multiplicative Identity\n",
    "The product of an integer $a$ mod $m$ and the multiplicative identity element is congruent to the integer $a$ mod $m$.<br>\n",
    "\n",
    "$$\n",
    "\\exists 1 \\in Z_m, \\forall a \\in Z_m, a \\cdot 1 \\equiv a \\,(\\text{mod}\\, m)\n",
    "$$\n",
    "\n",
    "#### Modular Multiplication\n",
    "Modular multiplication is defined as the principal remainder when $ab$ is divided by $m$.<br>\n",
    "\n",
    "$$\n",
    "\\begin{align}\n",
    "a \\otimes b &\\overset{\\text{def}}{=} ab \\,\\text{mod}\\, m \\\\\n",
    "\\end{align}\n",
    "$$\n",
    "\n",
    "#### Modular Multiplicative Inverse\n",
    "The product of an integer $a$ mod $m$ and its multiplicative inverse is congruent to the multiplicative identity element.<br>\n",
    "The additive identity element does not have a multiplicative inverse.<br>\n",
    "The remaining elements may or may not have multiplicative inverses.<br>\n",
    "\n",
    "$$\n",
    "a \\cdot a^{-1} \\equiv 1 \\,(\\text{mod}\\, m)\n",
    "$$\n",
    "\n",
    "#### Determine whether an integer mod $m$ has a multiplicative inverse\n",
    "Any nonzero integer $a$ has a multiplicative inverse $a^{-1}$ iff it is relatively prime to $n$.<br>\n",
    "\n",
    "Let an integer $a = cb$ and the modulus $m = cn$ share a common factor $c$.<br>\n",
    "$aa^{-1} \\equiv 1 \\,(\\text{mod}\\, m)$<br>\n",
    "$(cb)a^{-1} \\equiv 1 \\,(\\text{mod}\\, m)$<br>\n",
    "$(ncb)a^{-1} \\equiv n \\,(\\text{mod}\\, m)$<br>\n",
    "$(mb)a^{-1} \\equiv n \\,(\\text{mod}\\, m)$<br>\n",
    "Since $mb$ is a multiple of the modulus, the lefthand side is congruent to 0.<br>\n",
    "If $n$ is not congruent to 0, the relation and original expression are false: there is no value for $a^{-1}$ which can serve as the multiplicative inverse for $a$.<br>\n",
    "The relation and original expression are true when $n$ is congruent to 0.<br>\n",
    "$n$ can't be 0 since that would mean $m$ is 0.<br>\n",
    "$n$ can't be larger than $m$ since $c$ must be an integer and that would make $m$ greater than $m$.<br>\n",
    "$n$ must be equal to $m$ which means that $c$ must be equal to 1.<br>\n",
    "Since $c = 1$ is the common factor of $a$ and $m$, $a$ and $m$ are relatively prime.<br>\n",
    "\n",
    "#### Modular Division\n",
    "The division of two integers $a, b$ mod $m$ is the product of the first integer $a$ mod $m$ and the multiplicative inverse of the second integer $b \\ne 0$ mod $m$.<br>\n",
    "\n",
    "$$\n",
    "\\begin{align}\n",
    "a \\oslash b &\\overset{\\text{def}}{=} (ab^{-1}) \\,\\text{mod}\\, m \\\\\n",
    "\\end{align}\n",
    "$$\n",
    "\n",
    "#### Modular Exponentiation\n",
    "\n",
    "$$a^b a^c \\equiv a^{b + c} \\,(\\text{mod}\\, m)$$\n",
    "\n",
    "$$(a^b)^c \\equiv a^{bc} \\,(\\text{mod}\\, m)$$\n",
    "\n",
    "$$\n",
    "\\begin{align}\n",
    "a^2 \\,\\text{mod}\\, m &= (aa) \\,\\text{mod}\\, m \\\\\n",
    "&= ((a \\,\\text{mod}\\, m)(a \\,\\text{mod}\\, m)) \\,\\text{mod}\\, m \\\\\n",
    "&= (a \\,\\text{mod}\\, m)^2 \\,\\text{mod}\\, m \\\\\n",
    "\\end{align}\n",
    "$$\n",
    "\n",
    "We can reduce the exponent mod $n$ where $n$ is the number of positive integers less than $m$ that are relatively prime to $m$.<br>\n",
    "\n",
    "$$\n",
    "a^e \\equiv a^{e \\,\\text{mod}\\, n} \\,(\\text{mod}\\, m)\n",
    "$$\n",
    "\n",
    "#### Examples\n",
    "\n",
    "Evaluate integer arithmetic first, modulo operator last.\n",
    "$$\n",
    "\\begin{align}\n",
    "& (((4^2 + 20) - 45) \\times 6 + 50) \\,\\text{mod}\\, 7 \\\\\n",
    "&= (((16 + 20) - 45) \\times 6 + 50) \\,\\text{mod}\\, 7 \\\\\n",
    "&= ((36 - 45) \\times 6 + 50) \\,\\text{mod}\\, 7 \\\\\n",
    "&= (-9 \\times 6 + 50) \\,\\text{mod}\\, 7 \\\\\n",
    "&= (-54 + 50) \\,\\text{mod}\\, 7 \\\\\n",
    "&= (-4) \\,\\text{mod}\\, 7 \\\\\n",
    "&= 3\n",
    "\\end{align}\n",
    "$$\n",
    "\n",
    "\"Distribute\" modulo operator, then evaluate all modular expressions.\n",
    "$$\n",
    "\\begin{align}\n",
    "& (((4^2 + 20) - 45) \\times 6 + 50) \\,\\text{mod}\\, 7 \\\\\n",
    "&= (((((16 + 20) - 45) \\times 6) \\,\\text{mod}\\, 7) + ((50) \\,\\text{mod}\\, 7)) \\,\\text{mod}\\, 7 \\\\\n",
    "&= ((((((16 + 20) - 45) \\,\\text{mod}\\, 7) \\times ((6) \\,\\text{mod}\\, 7) \\,\\text{mod}\\, 7) + ((50) \\,\\text{mod}\\, 7)) \\,\\text{mod}\\, 7 \\\\\n",
    "&= (((((((16 + 20) \\,\\text{mod}\\, 7) - ((45) \\,\\text{mod}\\, 7)) \\,\\text{mod}\\, 7) \\times ((6) \\,\\text{mod}\\, 7) \\,\\text{mod}\\, 7) + ((50) \\,\\text{mod}\\, 7)) \\,\\text{mod}\\, 7 \\\\\n",
    "&= (((((((((16) \\,\\text{mod}\\, 7) + ((20) \\,\\text{mod}\\, 7)) \\,\\text{mod}\\, 7) - ((45) \\,\\text{mod}\\, 7)) \\,\\text{mod}\\, 7) \\times ((6) \\,\\text{mod}\\, 7) \\,\\text{mod}\\, 7) + ((50) \\,\\text{mod}\\, 7)) \\,\\text{mod}\\, 7 \\\\\n",
    "&= (((((((2 + 6) \\,\\text{mod}\\, 7) - ((45) \\,\\text{mod}\\, 7)) \\,\\text{mod}\\, 7) \\times ((6) \\,\\text{mod}\\, 7) \\,\\text{mod}\\, 7) + ((50) \\,\\text{mod}\\, 7)) \\,\\text{mod}\\, 7 \\\\\n",
    "&= (((((1 - ((45) \\,\\text{mod}\\, 7)) \\,\\text{mod}\\, 7) \\times ((6) \\,\\text{mod}\\, 7) \\,\\text{mod}\\, 7) + ((50) \\,\\text{mod}\\, 7)) \\,\\text{mod}\\, 7 \\\\\n",
    "&= (((((1 - 3) \\,\\text{mod}\\, 7) \\times ((6) \\,\\text{mod}\\, 7) \\,\\text{mod}\\, 7) + ((50) \\,\\text{mod}\\, 7)) \\,\\text{mod}\\, 7 \\\\\n",
    "&= (((5 \\times ((6) \\,\\text{mod}\\, 7) \\,\\text{mod}\\, 7) + ((50) \\,\\text{mod}\\, 7)) \\,\\text{mod}\\, 7 \\\\\n",
    "&= (((5 \\times 6) \\,\\text{mod}\\, 7) + ((50) \\,\\text{mod}\\, 7)) \\,\\text{mod}\\, 7 \\\\\n",
    "&= (2 + ((50) \\,\\text{mod}\\, 7)) \\,\\text{mod}\\, 7 \\\\\n",
    "&= (2 + 1) \\,\\text{mod}\\, 7 \\\\\n",
    "&= 3 \\\\\n",
    "\\end{align}\n",
    "$$\n",
    "\n",
    "$$\n",
    "\\begin{align}\n",
    "& 9^{11} \\,\\text{mod}\\, m \\\\\n",
    "&= 31381059609 \\,\\text{mod}\\, m \\\\\n",
    "\\end{align}\n",
    "$$"
   ]
  },
  {
   "cell_type": "markdown",
   "id": "350c187c-162b-4877-8294-20ca240596e8",
   "metadata": {},
   "source": [
    "---"
   ]
  },
  {
   "cell_type": "code",
   "execution_count": 1,
   "id": "fc34d4ec-7ab7-4f81-9caf-1e08cf572d12",
   "metadata": {},
   "outputs": [
    {
     "data": {
      "text/plain": [
       "20"
      ]
     },
     "metadata": {},
     "output_type": "display_data"
    },
    {
     "data": {
      "text/plain": [
       "20"
      ]
     },
     "metadata": {},
     "output_type": "display_data"
    },
    {
     "data": {
      "text/plain": [
       "37"
      ]
     },
     "metadata": {},
     "output_type": "display_data"
    },
    {
     "data": {
      "text/plain": [
       "37"
      ]
     },
     "metadata": {},
     "output_type": "display_data"
    },
    {
     "data": {
      "text/plain": [
       "37"
      ]
     },
     "metadata": {},
     "output_type": "display_data"
    },
    {
     "data": {
      "text/plain": [
       "51"
      ]
     },
     "metadata": {},
     "output_type": "display_data"
    },
    {
     "data": {
      "text/plain": [
       "51"
      ]
     },
     "metadata": {},
     "output_type": "display_data"
    },
    {
     "data": {
      "text/plain": [
       "41"
      ]
     },
     "metadata": {},
     "output_type": "display_data"
    },
    {
     "data": {
      "text/plain": [
       "41"
      ]
     },
     "metadata": {},
     "output_type": "display_data"
    }
   ],
   "source": [
    "display(\n",
    "    (44 + 33) % 57,\n",
    "    (44 % 57 + 33 % 57) % 57,\n",
    "    \n",
    "    (9 - 29) % 57,\n",
    "    (9 + (-29)) % 57,\n",
    "    (9 % 57 + (-29) % 57) % 57,\n",
    "    \n",
    "    (17 + 42 + 49) % 57,\n",
    "    (17 % 57 + 42 % 57 + 49 % 57) % 57,\n",
    "    \n",
    "    (52 - 30 - 38) % 57,\n",
    "    (52 % 57 - 30 % 57 - 38 % 57) % 57,\n",
    ")"
   ]
  },
  {
   "cell_type": "code",
   "execution_count": 2,
   "id": "16801db8-4bbb-48bf-86ac-fe48e3993c15",
   "metadata": {},
   "outputs": [
    {
     "data": {
      "text/plain": [
       "132525"
      ]
     },
     "metadata": {},
     "output_type": "display_data"
    },
    {
     "data": {
      "text/plain": [
       "3"
      ]
     },
     "metadata": {},
     "output_type": "display_data"
    },
    {
     "data": {
      "text/plain": [
       "3"
      ]
     },
     "metadata": {},
     "output_type": "display_data"
    },
    {
     "data": {
      "text/plain": [
       "184756"
      ]
     },
     "metadata": {},
     "output_type": "display_data"
    },
    {
     "data": {
      "text/plain": [
       "0"
      ]
     },
     "metadata": {},
     "output_type": "display_data"
    },
    {
     "data": {
      "text/plain": [
       "0"
      ]
     },
     "metadata": {},
     "output_type": "display_data"
    },
    {
     "data": {
      "text/plain": [
       "9824585935875405405873621046934295249373163345274197996543779245714472948044575493508622853379178496"
      ]
     },
     "metadata": {},
     "output_type": "display_data"
    },
    {
     "data": {
      "text/plain": [
       "1"
      ]
     },
     "metadata": {},
     "output_type": "display_data"
    },
    {
     "data": {
      "text/plain": [
       "1"
      ]
     },
     "metadata": {},
     "output_type": "display_data"
    },
    {
     "data": {
      "text/plain": [
       "1"
      ]
     },
     "metadata": {},
     "output_type": "display_data"
    }
   ],
   "source": [
    "display(\n",
    "    (95 * 45 * 31),\n",
    "    (95 * 45 * 31) % 13,\n",
    "    (95 % 13 * 45 % 13 * 31 % 13) % 13,\n",
    "    \n",
    "    (17 * 13 * 19 * 44),\n",
    "    (17 * 13 * 19 * 44) % 13,\n",
    "    (17 % 13 * 13 % 13 * 19 % 13 * 44 % 13) % 13,\n",
    "    \n",
    "    (12**7 * 77**49),\n",
    "    (12**7 * 77**49) % 13,\n",
    "    (12**7 % 13 * 77**49 % 13) % 13,\n",
    "    (12 * 77) % 13,\n",
    ")"
   ]
  },
  {
   "cell_type": "code",
   "execution_count": 3,
   "id": "388eacfc-e8e0-438c-8356-dc15db0031c1",
   "metadata": {},
   "outputs": [
    {
     "data": {
      "text/plain": [
       "4"
      ]
     },
     "metadata": {},
     "output_type": "display_data"
    },
    {
     "data": {
      "text/plain": [
       "29"
      ]
     },
     "metadata": {},
     "output_type": "display_data"
    },
    {
     "data": {
      "text/plain": [
       "13"
      ]
     },
     "metadata": {},
     "output_type": "display_data"
    }
   ],
   "source": [
    "p = 31\n",
    "display(\n",
    "    # 3/24\n",
    "    pow(24, p-2, p) * 3 % p,\n",
    "    # 17^-3\n",
    "    pow(17, p-4, p),\n",
    "    # 4^-4 * 11\n",
    "    pow(4, p-5, p) * 11 % p\n",
    ")"
   ]
  },
  {
   "cell_type": "markdown",
   "id": "7e18b175-f970-48be-8cff-8bd9567bff31",
   "metadata": {},
   "source": [
    "---"
   ]
  }
 ],
 "metadata": {
  "kernelspec": {
   "display_name": "Python 3",
   "language": "python",
   "name": "python3"
  },
  "language_info": {
   "codemirror_mode": {
    "name": "ipython",
    "version": 3
   },
   "file_extension": ".py",
   "mimetype": "text/x-python",
   "name": "python",
   "nbconvert_exporter": "python",
   "pygments_lexer": "ipython3",
   "version": "3.8.2"
  }
 },
 "nbformat": 4,
 "nbformat_minor": 5
}