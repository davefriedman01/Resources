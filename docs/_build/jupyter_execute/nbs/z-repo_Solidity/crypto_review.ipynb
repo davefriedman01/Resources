{
 "cells": [
  {
   "cell_type": "code",
   "execution_count": 1,
   "metadata": {},
   "outputs": [],
   "source": [
    "import hashlib, json\n",
    "\n",
    "from pprint import pprint"
   ]
  },
  {
   "cell_type": "code",
   "execution_count": 2,
   "metadata": {},
   "outputs": [
    {
     "data": {
      "text/plain": [
       "['__all__',\n",
       " '__block_openssl_constructor',\n",
       " '__builtin_constructor_cache',\n",
       " '__builtins__',\n",
       " '__cached__',\n",
       " '__doc__',\n",
       " '__file__',\n",
       " '__get_builtin_constructor',\n",
       " '__loader__',\n",
       " '__name__',\n",
       " '__package__',\n",
       " '__spec__',\n",
       " '_hashlib',\n",
       " 'algorithms_available',\n",
       " 'algorithms_guaranteed',\n",
       " 'blake2b',\n",
       " 'blake2s',\n",
       " 'md5',\n",
       " 'new',\n",
       " 'pbkdf2_hmac',\n",
       " 'scrypt',\n",
       " 'sha1',\n",
       " 'sha224',\n",
       " 'sha256',\n",
       " 'sha384',\n",
       " 'sha3_224',\n",
       " 'sha3_256',\n",
       " 'sha3_384',\n",
       " 'sha3_512',\n",
       " 'sha512',\n",
       " 'shake_128',\n",
       " 'shake_256']"
      ]
     },
     "execution_count": 2,
     "metadata": {},
     "output_type": "execute_result"
    }
   ],
   "source": [
    "dir(hashlib)"
   ]
  },
  {
   "cell_type": "code",
   "execution_count": 3,
   "metadata": {
    "collapsed": true,
    "jupyter": {
     "outputs_hidden": true
    },
    "tags": []
   },
   "outputs": [
    {
     "name": "stdout",
     "output_type": "stream",
     "text": [
      "Help on module hashlib:\n",
      "\n",
      "NAME\n",
      "    hashlib - hashlib module - A common interface to many hash functions.\n",
      "\n",
      "MODULE REFERENCE\n",
      "    https://docs.python.org/3.8/library/hashlib\n",
      "    \n",
      "    The following documentation is automatically generated from the Python\n",
      "    source files.  It may be incomplete, incorrect or include features that\n",
      "    are considered implementation detail and may vary between Python\n",
      "    implementations.  When in doubt, consult the module reference at the\n",
      "    location listed above.\n",
      "\n",
      "DESCRIPTION\n",
      "    new(name, data=b'', **kwargs) - returns a new hash object implementing the\n",
      "                                    given hash function; initializing the hash\n",
      "                                    using the given binary data.\n",
      "    \n",
      "    Named constructor functions are also available, these are faster\n",
      "    than using new(name):\n",
      "    \n",
      "    md5(), sha1(), sha224(), sha256(), sha384(), sha512(), blake2b(), blake2s(),\n",
      "    sha3_224, sha3_256, sha3_384, sha3_512, shake_128, and shake_256.\n",
      "    \n",
      "    More algorithms may be available on your platform but the above are guaranteed\n",
      "    to exist.  See the algorithms_guaranteed and algorithms_available attributes\n",
      "    to find out what algorithm names can be passed to new().\n",
      "    \n",
      "    NOTE: If you want the adler32 or crc32 hash functions they are available in\n",
      "    the zlib module.\n",
      "    \n",
      "    Choose your hash function wisely.  Some have known collision weaknesses.\n",
      "    sha384 and sha512 will be slow on 32 bit platforms.\n",
      "    \n",
      "    Hash objects have these methods:\n",
      "     - update(data): Update the hash object with the bytes in data. Repeated calls\n",
      "                     are equivalent to a single call with the concatenation of all\n",
      "                     the arguments.\n",
      "     - digest():     Return the digest of the bytes passed to the update() method\n",
      "                     so far as a bytes object.\n",
      "     - hexdigest():  Like digest() except the digest is returned as a string\n",
      "                     of double length, containing only hexadecimal digits.\n",
      "     - copy():       Return a copy (clone) of the hash object. This can be used to\n",
      "                     efficiently compute the digests of datas that share a common\n",
      "                     initial substring.\n",
      "    \n",
      "    For example, to obtain the digest of the byte string 'Nobody inspects the\n",
      "    spammish repetition':\n",
      "    \n",
      "        >>> import hashlib\n",
      "        >>> m = hashlib.md5()\n",
      "        >>> m.update(b\"Nobody inspects\")\n",
      "        >>> m.update(b\" the spammish repetition\")\n",
      "        >>> m.digest()\n",
      "        b'\\xbbd\\x9c\\x83\\xdd\\x1e\\xa5\\xc9\\xd9\\xde\\xc9\\xa1\\x8d\\xf0\\xff\\xe9'\n",
      "    \n",
      "    More condensed:\n",
      "    \n",
      "        >>> hashlib.sha224(b\"Nobody inspects the spammish repetition\").hexdigest()\n",
      "        'a4337bc45a8fc544c03f52dc550cd6e1e87021bc896588bd79e901e2'\n",
      "\n",
      "CLASSES\n",
      "    builtins.object\n",
      "        _blake2.blake2b\n",
      "        _blake2.blake2s\n",
      "        _sha3.sha3_224\n",
      "        _sha3.sha3_256\n",
      "        _sha3.sha3_384\n",
      "        _sha3.sha3_512\n",
      "        _sha3.shake_128\n",
      "        _sha3.shake_256\n",
      "    \n",
      "    class blake2b(builtins.object)\n",
      "     |  blake2b(data=b'', /, *, digest_size=64, key=b'', salt=b'', person=b'', fanout=1, depth=1, leaf_size=0, node_offset=0, node_depth=0, inner_size=0, last_node=False)\n",
      "     |  \n",
      "     |  Return a new BLAKE2b hash object.\n",
      "     |  \n",
      "     |  Methods defined here:\n",
      "     |  \n",
      "     |  copy(self, /)\n",
      "     |      Return a copy of the hash object.\n",
      "     |  \n",
      "     |  digest(self, /)\n",
      "     |      Return the digest value as a bytes object.\n",
      "     |  \n",
      "     |  hexdigest(self, /)\n",
      "     |      Return the digest value as a string of hexadecimal digits.\n",
      "     |  \n",
      "     |  update(self, data, /)\n",
      "     |      Update this hash object's state with the provided bytes-like object.\n",
      "     |  \n",
      "     |  ----------------------------------------------------------------------\n",
      "     |  Static methods defined here:\n",
      "     |  \n",
      "     |  __new__(*args, **kwargs) from builtins.type\n",
      "     |      Create and return a new object.  See help(type) for accurate signature.\n",
      "     |  \n",
      "     |  ----------------------------------------------------------------------\n",
      "     |  Data descriptors defined here:\n",
      "     |  \n",
      "     |  block_size\n",
      "     |  \n",
      "     |  digest_size\n",
      "     |  \n",
      "     |  name\n",
      "     |  \n",
      "     |  ----------------------------------------------------------------------\n",
      "     |  Data and other attributes defined here:\n",
      "     |  \n",
      "     |  MAX_DIGEST_SIZE = 64\n",
      "     |  \n",
      "     |  MAX_KEY_SIZE = 64\n",
      "     |  \n",
      "     |  PERSON_SIZE = 16\n",
      "     |  \n",
      "     |  SALT_SIZE = 16\n",
      "    \n",
      "    class blake2s(builtins.object)\n",
      "     |  blake2s(data=b'', /, *, digest_size=32, key=b'', salt=b'', person=b'', fanout=1, depth=1, leaf_size=0, node_offset=0, node_depth=0, inner_size=0, last_node=False)\n",
      "     |  \n",
      "     |  Return a new BLAKE2s hash object.\n",
      "     |  \n",
      "     |  Methods defined here:\n",
      "     |  \n",
      "     |  copy(self, /)\n",
      "     |      Return a copy of the hash object.\n",
      "     |  \n",
      "     |  digest(self, /)\n",
      "     |      Return the digest value as a bytes object.\n",
      "     |  \n",
      "     |  hexdigest(self, /)\n",
      "     |      Return the digest value as a string of hexadecimal digits.\n",
      "     |  \n",
      "     |  update(self, data, /)\n",
      "     |      Update this hash object's state with the provided bytes-like object.\n",
      "     |  \n",
      "     |  ----------------------------------------------------------------------\n",
      "     |  Static methods defined here:\n",
      "     |  \n",
      "     |  __new__(*args, **kwargs) from builtins.type\n",
      "     |      Create and return a new object.  See help(type) for accurate signature.\n",
      "     |  \n",
      "     |  ----------------------------------------------------------------------\n",
      "     |  Data descriptors defined here:\n",
      "     |  \n",
      "     |  block_size\n",
      "     |  \n",
      "     |  digest_size\n",
      "     |  \n",
      "     |  name\n",
      "     |  \n",
      "     |  ----------------------------------------------------------------------\n",
      "     |  Data and other attributes defined here:\n",
      "     |  \n",
      "     |  MAX_DIGEST_SIZE = 32\n",
      "     |  \n",
      "     |  MAX_KEY_SIZE = 32\n",
      "     |  \n",
      "     |  PERSON_SIZE = 8\n",
      "     |  \n",
      "     |  SALT_SIZE = 8\n",
      "    \n",
      "    class sha3_224(builtins.object)\n",
      "     |  sha3_224([data]) -> SHA3 object\n",
      "     |  \n",
      "     |  Return a new SHA3 hash object with a hashbit length of 28 bytes.\n",
      "     |  \n",
      "     |  Methods defined here:\n",
      "     |  \n",
      "     |  copy(self, /)\n",
      "     |      Return a copy of the hash object.\n",
      "     |  \n",
      "     |  digest(self, /)\n",
      "     |      Return the digest value as a bytes object.\n",
      "     |  \n",
      "     |  hexdigest(self, /)\n",
      "     |      Return the digest value as a string of hexadecimal digits.\n",
      "     |  \n",
      "     |  update(self, data, /)\n",
      "     |      Update this hash object's state with the provided bytes-like object.\n",
      "     |  \n",
      "     |  ----------------------------------------------------------------------\n",
      "     |  Static methods defined here:\n",
      "     |  \n",
      "     |  __new__(*args, **kwargs) from builtins.type\n",
      "     |      Create and return a new object.  See help(type) for accurate signature.\n",
      "     |  \n",
      "     |  ----------------------------------------------------------------------\n",
      "     |  Data descriptors defined here:\n",
      "     |  \n",
      "     |  block_size\n",
      "     |  \n",
      "     |  digest_size\n",
      "     |  \n",
      "     |  name\n",
      "    \n",
      "    class sha3_256(builtins.object)\n",
      "     |  sha3_256([data]) -> SHA3 object\n",
      "     |  \n",
      "     |  Return a new SHA3 hash object with a hashbit length of 32 bytes.\n",
      "     |  \n",
      "     |  Methods defined here:\n",
      "     |  \n",
      "     |  copy(self, /)\n",
      "     |      Return a copy of the hash object.\n",
      "     |  \n",
      "     |  digest(self, /)\n",
      "     |      Return the digest value as a bytes object.\n",
      "     |  \n",
      "     |  hexdigest(self, /)\n",
      "     |      Return the digest value as a string of hexadecimal digits.\n",
      "     |  \n",
      "     |  update(self, data, /)\n",
      "     |      Update this hash object's state with the provided bytes-like object.\n",
      "     |  \n",
      "     |  ----------------------------------------------------------------------\n",
      "     |  Static methods defined here:\n",
      "     |  \n",
      "     |  __new__(*args, **kwargs) from builtins.type\n",
      "     |      Create and return a new object.  See help(type) for accurate signature.\n",
      "     |  \n",
      "     |  ----------------------------------------------------------------------\n",
      "     |  Data descriptors defined here:\n",
      "     |  \n",
      "     |  block_size\n",
      "     |  \n",
      "     |  digest_size\n",
      "     |  \n",
      "     |  name\n",
      "    \n",
      "    class sha3_384(builtins.object)\n",
      "     |  sha3_384([data]) -> SHA3 object\n",
      "     |  \n",
      "     |  Return a new SHA3 hash object with a hashbit length of 48 bytes.\n",
      "     |  \n",
      "     |  Methods defined here:\n",
      "     |  \n",
      "     |  copy(self, /)\n",
      "     |      Return a copy of the hash object.\n",
      "     |  \n",
      "     |  digest(self, /)\n",
      "     |      Return the digest value as a bytes object.\n",
      "     |  \n",
      "     |  hexdigest(self, /)\n",
      "     |      Return the digest value as a string of hexadecimal digits.\n",
      "     |  \n",
      "     |  update(self, data, /)\n",
      "     |      Update this hash object's state with the provided bytes-like object.\n",
      "     |  \n",
      "     |  ----------------------------------------------------------------------\n",
      "     |  Static methods defined here:\n",
      "     |  \n",
      "     |  __new__(*args, **kwargs) from builtins.type\n",
      "     |      Create and return a new object.  See help(type) for accurate signature.\n",
      "     |  \n",
      "     |  ----------------------------------------------------------------------\n",
      "     |  Data descriptors defined here:\n",
      "     |  \n",
      "     |  block_size\n",
      "     |  \n",
      "     |  digest_size\n",
      "     |  \n",
      "     |  name\n",
      "    \n",
      "    class sha3_512(builtins.object)\n",
      "     |  sha3_512([data]) -> SHA3 object\n",
      "     |  \n",
      "     |  Return a new SHA3 hash object with a hashbit length of 64 bytes.\n",
      "     |  \n",
      "     |  Methods defined here:\n",
      "     |  \n",
      "     |  copy(self, /)\n",
      "     |      Return a copy of the hash object.\n",
      "     |  \n",
      "     |  digest(self, /)\n",
      "     |      Return the digest value as a bytes object.\n",
      "     |  \n",
      "     |  hexdigest(self, /)\n",
      "     |      Return the digest value as a string of hexadecimal digits.\n",
      "     |  \n",
      "     |  update(self, data, /)\n",
      "     |      Update this hash object's state with the provided bytes-like object.\n",
      "     |  \n",
      "     |  ----------------------------------------------------------------------\n",
      "     |  Static methods defined here:\n",
      "     |  \n",
      "     |  __new__(*args, **kwargs) from builtins.type\n",
      "     |      Create and return a new object.  See help(type) for accurate signature.\n",
      "     |  \n",
      "     |  ----------------------------------------------------------------------\n",
      "     |  Data descriptors defined here:\n",
      "     |  \n",
      "     |  block_size\n",
      "     |  \n",
      "     |  digest_size\n",
      "     |  \n",
      "     |  name\n",
      "    \n",
      "    class shake_128(builtins.object)\n",
      "     |  shake_128([data]) -> SHAKE object\n",
      "     |  \n",
      "     |  Return a new SHAKE hash object.\n",
      "     |  \n",
      "     |  Methods defined here:\n",
      "     |  \n",
      "     |  copy(self, /)\n",
      "     |      Return a copy of the hash object.\n",
      "     |  \n",
      "     |  digest(self, length, /)\n",
      "     |      Return the digest value as a bytes object.\n",
      "     |  \n",
      "     |  hexdigest(self, length, /)\n",
      "     |      Return the digest value as a string of hexadecimal digits.\n",
      "     |  \n",
      "     |  update(self, data, /)\n",
      "     |      Update this hash object's state with the provided bytes-like object.\n",
      "     |  \n",
      "     |  ----------------------------------------------------------------------\n",
      "     |  Static methods defined here:\n",
      "     |  \n",
      "     |  __new__(*args, **kwargs) from builtins.type\n",
      "     |      Create and return a new object.  See help(type) for accurate signature.\n",
      "     |  \n",
      "     |  ----------------------------------------------------------------------\n",
      "     |  Data descriptors defined here:\n",
      "     |  \n",
      "     |  block_size\n",
      "     |  \n",
      "     |  digest_size\n",
      "     |  \n",
      "     |  name\n",
      "    \n",
      "    class shake_256(builtins.object)\n",
      "     |  shake_256([data]) -> SHAKE object\n",
      "     |  \n",
      "     |  Return a new SHAKE hash object.\n",
      "     |  \n",
      "     |  Methods defined here:\n",
      "     |  \n",
      "     |  copy(self, /)\n",
      "     |      Return a copy of the hash object.\n",
      "     |  \n",
      "     |  digest(self, length, /)\n",
      "     |      Return the digest value as a bytes object.\n",
      "     |  \n",
      "     |  hexdigest(self, length, /)\n",
      "     |      Return the digest value as a string of hexadecimal digits.\n",
      "     |  \n",
      "     |  update(self, data, /)\n",
      "     |      Update this hash object's state with the provided bytes-like object.\n",
      "     |  \n",
      "     |  ----------------------------------------------------------------------\n",
      "     |  Static methods defined here:\n",
      "     |  \n",
      "     |  __new__(*args, **kwargs) from builtins.type\n",
      "     |      Create and return a new object.  See help(type) for accurate signature.\n",
      "     |  \n",
      "     |  ----------------------------------------------------------------------\n",
      "     |  Data descriptors defined here:\n",
      "     |  \n",
      "     |  block_size\n",
      "     |  \n",
      "     |  digest_size\n",
      "     |  \n",
      "     |  name\n",
      "\n",
      "FUNCTIONS\n",
      "    md5 = openssl_md5(string=b'')\n",
      "        Returns a md5 hash object; optionally initialized with a string\n",
      "    \n",
      "    new = __hash_new(name, data=b'', **kwargs)\n",
      "        new(name, data=b'') - Return a new hashing object using the named algorithm;\n",
      "        optionally initialized with data (which must be a bytes-like object).\n",
      "    \n",
      "    pbkdf2_hmac(hash_name, password, salt, iterations, dklen=None)\n",
      "        Password based key derivation function 2 (PKCS #5 v2.0) with HMAC as pseudorandom function.\n",
      "    \n",
      "    sha1 = openssl_sha1(string=b'')\n",
      "        Returns a sha1 hash object; optionally initialized with a string\n",
      "    \n",
      "    sha224 = openssl_sha224(string=b'')\n",
      "        Returns a sha224 hash object; optionally initialized with a string\n",
      "    \n",
      "    sha256 = openssl_sha256(string=b'')\n",
      "        Returns a sha256 hash object; optionally initialized with a string\n",
      "    \n",
      "    sha384 = openssl_sha384(string=b'')\n",
      "        Returns a sha384 hash object; optionally initialized with a string\n",
      "    \n",
      "    sha512 = openssl_sha512(string=b'')\n",
      "        Returns a sha512 hash object; optionally initialized with a string\n",
      "\n",
      "DATA\n",
      "    __all__ = ('md5', 'sha1', 'sha224', 'sha256', 'sha384', 'sha512', 'bla...\n",
      "    algorithms_available = {'blake2b', 'blake2s', 'md4', 'md5', 'md5-sha1'...\n",
      "    algorithms_guaranteed = {'blake2b', 'blake2s', 'md5', 'sha1', 'sha224'...\n",
      "\n",
      "FILE\n",
      "    /opt/anaconda3/lib/python3.8/hashlib.py\n",
      "\n",
      "\n"
     ]
    }
   ],
   "source": [
    "help(hashlib)"
   ]
  },
  {
   "cell_type": "markdown",
   "metadata": {},
   "source": [
    "---"
   ]
  },
  {
   "cell_type": "markdown",
   "metadata": {},
   "source": [
    "# Large Numbers"
   ]
  },
  {
   "cell_type": "code",
   "execution_count": 4,
   "metadata": {},
   "outputs": [
    {
     "data": {
      "text/plain": [
       "100000000000000000000000000000000000000000000000000000000000000000000000000000000"
      ]
     },
     "metadata": {},
     "output_type": "display_data"
    },
    {
     "data": {
      "text/plain": [
       "1e+100"
      ]
     },
     "metadata": {},
     "output_type": "display_data"
    },
    {
     "data": {
      "text/plain": [
       "1e+200"
      ]
     },
     "metadata": {},
     "output_type": "display_data"
    },
    {
     "data": {
      "text/plain": [
       "2e+153"
      ]
     },
     "metadata": {},
     "output_type": "display_data"
    }
   ],
   "source": [
    "atoms_in_the_universe = 10**80\n",
    "googol = 1e100\n",
    "myoglobin = 2e153\n",
    "display(\n",
    "    atoms_in_the_universe,\n",
    "    googol,\n",
    "    googol**2,\n",
    "    myoglobin,\n",
    ")"
   ]
  },
  {
   "cell_type": "markdown",
   "metadata": {},
   "source": [
    "---"
   ]
  },
  {
   "cell_type": "markdown",
   "metadata": {},
   "source": [
    "### What does hashlib.sha256 do?"
   ]
  },
  {
   "cell_type": "code",
   "execution_count": 5,
   "metadata": {},
   "outputs": [
    {
     "data": {
      "text/plain": [
       "'64ec88ca00b268e5ba1a35678a1b5316d212f4f366b2477232534a8aeca37f3c'"
      ]
     },
     "execution_count": 5,
     "metadata": {},
     "output_type": "execute_result"
    }
   ],
   "source": [
    "digest = hashlib.sha256(b'Hello world').hexdigest()\n",
    "digest"
   ]
  },
  {
   "cell_type": "code",
   "execution_count": 6,
   "metadata": {},
   "outputs": [
    {
     "data": {
      "text/plain": [
       "'0110010011101100100010001100101000000000101100100110100011100101101110100001101000110101011001111000101000011011010100110001011011010010000100101111010011110011011001101011001001000111011100100011001001010011010010101000101011101100101000110111111100111100'"
      ]
     },
     "execution_count": 6,
     "metadata": {},
     "output_type": "execute_result"
    }
   ],
   "source": [
    "format(int(digest, 16), '0256b')"
   ]
  },
  {
   "cell_type": "code",
   "execution_count": 7,
   "metadata": {},
   "outputs": [
    {
     "data": {
      "text/plain": [
       "256"
      ]
     },
     "execution_count": 7,
     "metadata": {},
     "output_type": "execute_result"
    }
   ],
   "source": [
    "len(format(int(digest, 16), '0256b'))"
   ]
  },
  {
   "cell_type": "markdown",
   "metadata": {},
   "source": [
    "---"
   ]
  },
  {
   "cell_type": "markdown",
   "metadata": {},
   "source": [
    "# Cryptographic Hash"
   ]
  },
  {
   "cell_type": "code",
   "execution_count": 8,
   "metadata": {},
   "outputs": [
    {
     "data": {
      "text/plain": [
       "115792089237316195423570985008687907853269984665640564039457584007913129639936"
      ]
     },
     "execution_count": 8,
     "metadata": {},
     "output_type": "execute_result"
    }
   ],
   "source": [
    "# How many SHA256 hashes?\n",
    "2**256"
   ]
  },
  {
   "cell_type": "code",
   "execution_count": 9,
   "metadata": {},
   "outputs": [
    {
     "data": {
      "text/plain": [
       "13407807929942597099574024998205846127479365820592393377723561443721764030073546976801874298166903427690031858186486050853753882811946569946433649006084096"
      ]
     },
     "execution_count": 9,
     "metadata": {},
     "output_type": "execute_result"
    }
   ],
   "source": [
    "# How many SHA512 hashes?\n",
    "2**512"
   ]
  },
  {
   "cell_type": "markdown",
   "metadata": {},
   "source": [
    "---"
   ]
  },
  {
   "cell_type": "markdown",
   "metadata": {},
   "source": [
    "# Python Blockchain"
   ]
  },
  {
   "cell_type": "code",
   "execution_count": 10,
   "metadata": {},
   "outputs": [],
   "source": [
    "class Block:\n",
    "    bid    = 0\n",
    "    pid    = None\n",
    "    blocks = [None]\n",
    "    \n",
    "    def __init__ (self, data=None):\n",
    "        self.bid                = Block.bid               # current block id\n",
    "        self.data               = data\n",
    "        self.pid, Block.pid     = Block.pid, self.bid     # previous block id\n",
    "        self.phash              = hashlib.sha256(json.dumps(Block.blocks[-1].__dict__).encode('utf-8')).hexdigest() if Block.blocks[-1] else None\n",
    "        \n",
    "        Block.blocks.append(self)\n",
    "        Block.bid              += 1                       # increment the block number for the next block\n",
    "        \n",
    "def bhash (block):\n",
    "    return hashlib.sha256(json.dumps(block.__dict__).encode('utf-8')).hexdigest()\n",
    "\n",
    "def print_all_blocks ():\n",
    "    for block in Block.blocks:\n",
    "        pprint((block.__dict__, bhash(block)) if block else None)"
   ]
  },
  {
   "cell_type": "code",
   "execution_count": 11,
   "metadata": {},
   "outputs": [
    {
     "data": {
      "text/plain": [
       "{'bid': 0, 'data': 'Nelson likes cat', 'pid': None, 'phash': None}"
      ]
     },
     "metadata": {},
     "output_type": "display_data"
    },
    {
     "data": {
      "text/plain": [
       "'0563977f0775c9c6e168d7646ae7aad8871e230fbb97c969d4a48d824904e002'"
      ]
     },
     "metadata": {},
     "output_type": "display_data"
    }
   ],
   "source": [
    "# genesis block\n",
    "bG = Block('Nelson likes cat')\n",
    "display(\n",
    "    bG.__dict__,\n",
    "    bhash(bG),\n",
    ")"
   ]
  },
  {
   "cell_type": "code",
   "execution_count": 12,
   "metadata": {},
   "outputs": [
    {
     "data": {
      "text/plain": [
       "{'bid': 1,\n",
       " 'data': 'Marie likes dog',\n",
       " 'pid': 0,\n",
       " 'phash': '0563977f0775c9c6e168d7646ae7aad8871e230fbb97c969d4a48d824904e002'}"
      ]
     },
     "metadata": {},
     "output_type": "display_data"
    },
    {
     "data": {
      "text/plain": [
       "'8f8e00d4d9a847dd1e1ba69538cccb759a592a62aa91cc01d5d8cb2905509f1e'"
      ]
     },
     "metadata": {},
     "output_type": "display_data"
    }
   ],
   "source": [
    "b1 = Block('Marie likes dog')\n",
    "display(\n",
    "    b1.__dict__,\n",
    "    bhash(b1),\n",
    ")"
   ]
  },
  {
   "cell_type": "code",
   "execution_count": 13,
   "metadata": {},
   "outputs": [
    {
     "data": {
      "text/plain": [
       "{'bid': 2,\n",
       " 'data': 'Marie likes dog',\n",
       " 'pid': 1,\n",
       " 'phash': '8f8e00d4d9a847dd1e1ba69538cccb759a592a62aa91cc01d5d8cb2905509f1e'}"
      ]
     },
     "metadata": {},
     "output_type": "display_data"
    },
    {
     "data": {
      "text/plain": [
       "'73aef616eb8e27cc4921d96a7e1863ce03c7b9098adccf495ced5234f573e287'"
      ]
     },
     "metadata": {},
     "output_type": "display_data"
    }
   ],
   "source": [
    "b2 = Block('Marie likes dog')\n",
    "display(\n",
    "    b2.__dict__,\n",
    "    bhash(b2),\n",
    ")"
   ]
  },
  {
   "cell_type": "code",
   "execution_count": 14,
   "metadata": {},
   "outputs": [
    {
     "name": "stdout",
     "output_type": "stream",
     "text": [
      "None\n",
      "({'bid': 0, 'data': 'Nelson likes cat', 'phash': None, 'pid': None},\n",
      " '0563977f0775c9c6e168d7646ae7aad8871e230fbb97c969d4a48d824904e002')\n",
      "({'bid': 1,\n",
      "  'data': 'Marie likes dog',\n",
      "  'phash': '0563977f0775c9c6e168d7646ae7aad8871e230fbb97c969d4a48d824904e002',\n",
      "  'pid': 0},\n",
      " '8f8e00d4d9a847dd1e1ba69538cccb759a592a62aa91cc01d5d8cb2905509f1e')\n",
      "({'bid': 2,\n",
      "  'data': 'Marie likes dog',\n",
      "  'phash': '8f8e00d4d9a847dd1e1ba69538cccb759a592a62aa91cc01d5d8cb2905509f1e',\n",
      "  'pid': 1},\n",
      " '73aef616eb8e27cc4921d96a7e1863ce03c7b9098adccf495ced5234f573e287')\n"
     ]
    }
   ],
   "source": [
    "print_all_blocks()"
   ]
  },
  {
   "cell_type": "markdown",
   "metadata": {},
   "source": [
    "---"
   ]
  },
  {
   "cell_type": "code",
   "execution_count": 15,
   "metadata": {},
   "outputs": [
    {
     "data": {
      "text/plain": [
       "1000000000000000000000000000000000000000000000000000000000000000000000000000000"
      ]
     },
     "execution_count": 15,
     "metadata": {},
     "output_type": "execute_result"
    }
   ],
   "source": [
    "# How many atoms in the visible universe (i.e., a 46 billion lightyear sphere)?\n",
    "10**78"
   ]
  },
  {
   "cell_type": "code",
   "execution_count": 16,
   "metadata": {},
   "outputs": [
    {
     "data": {
      "text/plain": [
       "100000000000000000"
      ]
     },
     "execution_count": 16,
     "metadata": {},
     "output_type": "execute_result"
    }
   ],
   "source": [
    "# How old is the universe in seconds?\n",
    "10**17"
   ]
  },
  {
   "cell_type": "code",
   "execution_count": 17,
   "metadata": {},
   "outputs": [],
   "source": [
    "class Blockchain:\n",
    "    def __init__ (self):\n",
    "        self.block_genesis = {\n",
    "            'prev_hash': None,\n",
    "            'transactions': None,\n",
    "        }\n",
    "        self.block_number = 1\n",
    "        self.blocks = list(self.block_genesis)\n",
    "    def block (self, block):\n",
    "        \n",
    "        self.blocks.append(block)"
   ]
  },
  {
   "cell_type": "code",
   "execution_count": 18,
   "metadata": {},
   "outputs": [],
   "source": [
    "block_genesis = {\n",
    "    'prev_hash': None,\n",
    "    'transactions': [1, 3, 4, 2]\n",
    "}\n",
    "block_genesis_serialized = json.dumps(block_genesis, sort_keys=True).encode('utf-8')\n",
    "block_genesis_hash = hashlib.sha256(block_genesis_serialized).hexdigest()\n",
    "\n",
    "block_2 = {\n",
    "    'prev_hash': block_genesis_hash,\n",
    "    'transactions': [3, 3, 3, 8, 7, 12]\n",
    "}\n",
    "block_2_serialized = json.dumps(block_2, sort_keys=True).encode('utf-8')\n",
    "block_2_hash = hashlib.sha256(block_2_serialized).hexdigest()\n",
    "\n",
    "block_3 = {\n",
    "    'prev_hash': block_2_hash,\n",
    "    'transactions': [3, 4, 4, 8, 34]\n",
    "}\n",
    "block_3_serialized = json.dumps(block_3, sort_keys=True).encode('utf-8')\n",
    "block_3_hash = hashlib.sha256(block_3_serialized).hexdigest()"
   ]
  },
  {
   "cell_type": "markdown",
   "metadata": {},
   "source": [
    "---"
   ]
  }
 ],
 "metadata": {
  "kernelspec": {
   "display_name": "Python 3",
   "language": "python",
   "name": "python3"
  },
  "language_info": {
   "codemirror_mode": {
    "name": "ipython",
    "version": 3
   },
   "file_extension": ".py",
   "mimetype": "text/x-python",
   "name": "python",
   "nbconvert_exporter": "python",
   "pygments_lexer": "ipython3",
   "version": "3.8.2"
  }
 },
 "nbformat": 4,
 "nbformat_minor": 4
}