{
 "cells": [
  {
   "cell_type": "markdown",
   "id": "047f7f9e-1cab-4255-bb5b-76f5b0fb2a14",
   "metadata": {},
   "source": [
    "# Algorithmic Number Theory"
   ]
  },
  {
   "cell_type": "markdown",
   "id": "3170549c-41e2-4e20-a54d-919255e29979",
   "metadata": {},
   "source": [
    "## Algorithmic Number Theory\n",
    "\n",
    "An algorithm's running time is measured as a function of the length(s) of its input(s).<br>\n",
    "Integer inputs are always assumed to be represented in binary.<br>\n",
    "An algorithm's running time taking as input an integer $N$ is therefore measured in terms of $\\vert\\vert N \\vert\\vert = \\lfloor\\log N \\rfloor + 1$, the _length of the binary representation of_ $N$.<br>\n",
    "\n",
    "An integer $a$ provided as input is written using exactly $\\vert\\vert a \\vert\\vert$ bits; i.e., the high-order bit is 1.<br>\n",
    "\n",
    "### Integer Arithmetic\n",
    "Given integers $a$ and $b$, it is possible to perform the following operations in time polynomial in $\\vert\\vert a \\vert\\vert$ and $\\vert\\vert b \\vert\\vert$:\n",
    "\n",
    "#### Addition\n",
    "Compute the sum $a + b$\n",
    "\n",
    "#### Subtraction\n",
    "Compute the difference $a - b$\n",
    "\n",
    "#### Multiplication\n",
    "Compute the product $ab$\n",
    "\n",
    "#### Division with Remainder\n",
    "Compute the positive integers $q$ and $r \\lt b$ s.t. $a = qb + r$\n",
    "\n",
    "#### Euclid's Algorithm\n",
    "Compute $\\gcd(a, b)$\n",
    "\n",
    "#### Extended Euclid's Algorithm\n",
    "Compute $x, y$, where $xa + yb = \\gcd(a, b)$\n",
    "\n",
    "### Modular Arithmetic\n",
    "Given integers $N \\gt 1$, $a$, and $b$, it is possible to perform the following operations in time polynomial in $\\vert\\vert a \\vert\\vert$, $\\vert\\vert b \\vert\\vert$, and $\\vert\\vert N \\vert\\vert$:\n",
    "\n",
    "#### Modular Reduction\n",
    "Compute the modular reduction $[a \\mod N]$\n",
    "\n",
    "#### Modular Addition\n",
    "Compute the sum $[(a + b) \\mod N]$\n",
    "\n",
    "#### Modular Subtraction\n",
    "Compute the difference $[(a - b) \\mod N]$\n",
    "\n",
    "#### Modular Multiplication\n",
    "Compute the product $[(ab) \\mod N]$\n",
    "\n",
    "#### Modular Inversion\n",
    "Determine whether $a$ is invertible modulo $N$\n",
    "\n",
    "#### Montgomery Multiplication\n",
    "Compute the multiplicative inverse $[a^{-1} \\mod N]$, assuming $a$ is invertible modulo $N$\n",
    "\n",
    "#### Exponentiation Modulo N\n",
    "Compute the exponentiation $[a^b \\mod N]$\n",
    "\n",
    "#### Group Exponentiation\n",
    "Let $\\mathbb{G}$ be a group, written multiplicatively.<br>\n",
    "Let $g$ be an element of the group.<br>\n",
    "Let $b$ be a non negative integer.<br>\n",
    "Then $g^b$ can be computed using $\\text{poly}(\\vert\\vert b \\vert\\vert)$ group operations.<br>\n",
    "\n",
    "#### Choosing a uniform element of $\\mathbb{Z}_N$ or $\\mathbb{Z}_N^*$\n",
    "There exists a randomized algorithm with the following properties: on input $N$\n",
    "* The algorithm runs in time polynomial in $\\vert\\vert N \\vert\\vert$\n",
    "* The algorithm outputs $\\text{fail}$ with probability negligible in $\\vert\\vert N \\vert\\vert$\n",
    "* Conditioned on not outputting $\\text{fail}$, the algorithm outputs a uniformly distributed element of $\\mathbb{Z}_N$\n",
    "\n",
    "An algorithm with analogous properties exists for $\\mathbb{Z}_N^*$ as well.<br>\n",
    "\n",
    "#### Choosing a uniform element from a finite group\n",
    "\n",
    "#### Testing and Finding Generators\n",
    "Let $\\mathbb{G}$ be a cyclic group of order $q$.<br>\n",
    "Assume that the group operation and selection of a uniform group element can be carried out in unit time.<br>\n",
    "1. There is an algorithm that on input $q$, the prime factorization of $q$, and an element $g \\in \\mathbb{G}$, runs in $\\text{poly}(\\vert\\vert q \\vert\\vert)$ time and decides whether $g$ is a generator of $\\mathbb{G}$.\n",
    "2. There is a randomzied algorithm that on input $q$ and the prime factorization of $q$, runs in $\\text{poly}(\\vert\\vert q \\vert\\vert)$ time and outputs a generator of $\\mathbb{G}$ except with probability negligible in $\\vert\\vert q \\vert\\vert$. Conditioned on the output being a generator, it is uniformly distributed among the generators of $\\mathbb{G}$."
   ]
  },
  {
   "cell_type": "markdown",
   "id": "0da7863a-cd3f-46ac-9e1f-69da63cfb38c",
   "metadata": {},
   "source": [
    "---"
   ]
  }
 ],
 "metadata": {
  "kernelspec": {
   "display_name": "Python 3",
   "language": "python",
   "name": "python3"
  },
  "language_info": {
   "codemirror_mode": {
    "name": "ipython",
    "version": 3
   },
   "file_extension": ".py",
   "mimetype": "text/x-python",
   "name": "python",
   "nbconvert_exporter": "python",
   "pygments_lexer": "ipython3",
   "version": "3.8.2"
  }
 },
 "nbformat": 4,
 "nbformat_minor": 5
}