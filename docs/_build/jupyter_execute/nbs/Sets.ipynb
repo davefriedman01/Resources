{
 "cells": [
  {
   "cell_type": "markdown",
   "id": "60a3afcb-aeca-4426-bef9-a495e855ce9e",
   "metadata": {},
   "source": [
    "# Sets"
   ]
  },
  {
   "cell_type": "markdown",
   "id": "08f08a91-a8c6-4b9d-a0df-3f3466e067ae",
   "metadata": {},
   "source": [
    "---"
   ]
  },
  {
   "cell_type": "markdown",
   "id": "1dbc7aac-cce1-4627-a900-99a06c6f595e",
   "metadata": {},
   "source": [
    "## Sets\n",
    "\n",
    "<span style=\"color: blue\">**DEFINITION**</span><br>\n",
    "A set is a collection of objects called elements (or members, points, etc.).<br>"
   ]
  },
  {
   "cell_type": "markdown",
   "id": "dd8a284e-0ef3-4f52-bd3a-112e9724e6a1",
   "metadata": {},
   "source": [
    "The __order__ of a set is the number of elements in the set if the set is finite or infinite if the number of elements in the set is infinite."
   ]
  },
  {
   "cell_type": "markdown",
   "id": "50c32330-84c6-4fc1-9173-25c7e53a57bd",
   "metadata": {},
   "source": [
    "---"
   ]
  },
  {
   "cell_type": "markdown",
   "id": "537a99f0-6409-444e-b5a3-1f9ab9617bd6",
   "metadata": {},
   "source": [
    "Examples of sets:\n",
    "\n",
    "* $\\mathbb{N}$ the set of natural numbers\n",
    "  * $\\mathbb{N} \\cup \\{0\\} \\overset{\\text{def}}= \\{0, 1, 2, ...\\}$ the set of natural numbers including zero\n",
    "  * $\\mathbb{N} - \\{0\\} \\overset{\\text{def}}= \\{1, 2, ...\\}$ the set of natural numbers excluding zero\n",
    "* $\\mathbb{Z} \\overset{\\text{def}}= \\{..., -2, -1, 0, 1, 2, ...\\}$ the set of integers\n",
    "  * $\\mathbb{Z}^+$ the set of positive integers (equivalent to $\\mathbb{N} - \\{0\\}$)\n",
    "  * $\\mathbb{Z}^+ \\cup \\{0\\}$ the set of nonnegative integers (equivalent to $\\mathbb{N} \\cup \\{0\\}$)\n",
    "  * $\\mathbb{E} \\overset{\\text{def}}= \\{..., -2, 0, 2 ...\\}$ the set of even integers\n",
    "* $\\mathbb{Q} \\overset{\\text{def}}= \\{\\frac{p}{q} : p, q \\in \\mathbb{Z}, q \\ne 0\\}$ the set of rational numbers\n",
    "* $\\mathbb{R}$ the set of real numbers\n",
    "  * $\\mathbb{R}^-$ the set of negative numbers\n",
    "* $\\mathbb{C} \\overset{\\text{def}}= \\{a + bi : a, b \\in \\mathbb{R}, i \\overset{\\text{def}}= \\sqrt{-1}\\}$ the set of complex numbers\n",
    "* $\\{0, 1\\}^n$ the set of $n$-bit binary strings"
   ]
  },
  {
   "cell_type": "markdown",
   "id": "13a5cc44-de20-44e2-95a8-b08c636501fb",
   "metadata": {},
   "source": [
    "$$\n",
    "\\mathbb{N}\n",
    "\\subset\n",
    "\\mathbb{Z}\n",
    "\\subset\n",
    "\\mathbb{Q}\n",
    "\\subset\n",
    "\\mathbb{R}\n",
    "\\subset\n",
    "\\mathbb{C}\n",
    "$$"
   ]
  },
  {
   "cell_type": "markdown",
   "id": "644896b0-922c-4184-87b8-16231f302b27",
   "metadata": {},
   "source": [
    "---"
   ]
  }
 ],
 "metadata": {
  "kernelspec": {
   "display_name": "Python 3",
   "language": "python",
   "name": "python3"
  },
  "language_info": {
   "codemirror_mode": {
    "name": "ipython",
    "version": 3
   },
   "file_extension": ".py",
   "mimetype": "text/x-python",
   "name": "python",
   "nbconvert_exporter": "python",
   "pygments_lexer": "ipython3",
   "version": "3.8.2"
  }
 },
 "nbformat": 4,
 "nbformat_minor": 5
}