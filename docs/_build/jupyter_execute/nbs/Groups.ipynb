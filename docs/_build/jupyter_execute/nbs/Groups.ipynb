{
 "cells": [
  {
   "cell_type": "markdown",
   "id": "aa024972-815d-405d-adb9-f715784aae5d",
   "metadata": {},
   "source": [
    "# Groups"
   ]
  },
  {
   "cell_type": "markdown",
   "id": "1e65ac54-f62d-4524-89e4-1681e656f5af",
   "metadata": {},
   "source": [
    "---"
   ]
  },
  {
   "cell_type": "code",
   "execution_count": 1,
   "id": "aefb20cd-8a20-4a45-9f35-0f2338b573a6",
   "metadata": {},
   "outputs": [
    {
     "ename": "SyntaxError",
     "evalue": "unexpected EOF while parsing (<ipython-input-1-dfe649cb7437>, line 15)",
     "output_type": "error",
     "traceback": [
      "\u001b[0;36m  File \u001b[0;32m\"<ipython-input-1-dfe649cb7437>\"\u001b[0;36m, line \u001b[0;32m15\u001b[0m\n\u001b[0;31m    class AdditiveGroupElement (GroupElement):\u001b[0m\n\u001b[0m                                              ^\u001b[0m\n\u001b[0;31mSyntaxError\u001b[0m\u001b[0;31m:\u001b[0m unexpected EOF while parsing\n"
     ]
    }
   ],
   "source": [
    "class GroupElement:\n",
    "    \n",
    "    def __init__ (self, num, order):\n",
    "        if order < 0:\n",
    "            raise ValueError('Group order must be nonnegative.')\n",
    "        if num < 0 or num >= order:\n",
    "            raise ValueError(f'Group element must be between 0 and {order - 1}.')\n",
    "            \n",
    "        self.num   = num\n",
    "        self.order = order\n",
    "        \n",
    "    def __repr__ (self):\n",
    "        return f'GroupElement_{self.order}_({self.num})'\n",
    "\n",
    "class AdditiveGroupElement (GroupElement):"
   ]
  },
  {
   "cell_type": "markdown",
   "id": "37ac22e4-da86-4429-8685-3aadcc4e561a",
   "metadata": {},
   "source": [
    "---"
   ]
  }
 ],
 "metadata": {
  "kernelspec": {
   "display_name": "Python 3",
   "language": "python",
   "name": "python3"
  },
  "language_info": {
   "codemirror_mode": {
    "name": "ipython",
    "version": 3
   },
   "file_extension": ".py",
   "mimetype": "text/x-python",
   "name": "python",
   "nbconvert_exporter": "python",
   "pygments_lexer": "ipython3",
   "version": "3.8.2"
  }
 },
 "nbformat": 4,
 "nbformat_minor": 5
}