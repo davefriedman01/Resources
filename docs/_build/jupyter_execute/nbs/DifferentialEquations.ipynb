{
 "cells": [
  {
   "cell_type": "markdown",
   "metadata": {},
   "source": [
    "# Differential Equations"
   ]
  },
  {
   "cell_type": "markdown",
   "metadata": {},
   "source": [
    "---"
   ]
  },
  {
   "cell_type": "markdown",
   "metadata": {},
   "source": [
    "### First Order DE\n",
    "$\\frac{dy}{dt} = f(t, y)$ where $f$ is a given function of two variables<br>\n",
    "* any differentiable function $y = \\phi(t)$ that satisfies this equation for all $t$ in some interval is called a _solution_<br>\n",
    "* for an arbitrary function $f$, there is no general method for solving the equation in terms of elementary functions\n",
    "\n",
    "#### Linear First Order DE\n",
    "\n",
    "#### Separable First Order DE\n",
    "\n",
    "#### Exact First Order DE"
   ]
  },
  {
   "cell_type": "markdown",
   "metadata": {},
   "source": [
    "Numerical Approximation\n",
    "\n",
    "Existence and Uniqueness of solutions"
   ]
  },
  {
   "cell_type": "markdown",
   "metadata": {},
   "source": [
    "$y' + p(t) y = g(t)$\n",
    "\n",
    "Autonomous System\n",
    "$y' = f(y)$ equilibirum\n",
    "$y(t) =$ constant\n",
    "$y' = 0$\n",
    "$y_0$ is equilibrium iff $f(y_0) = 0$"
   ]
  },
  {
   "cell_type": "markdown",
   "metadata": {},
   "source": [
    "$y' = f(y, t)$\n",
    "\n",
    "$z(t)$ candidate solution: is it a solution or not?\n",
    "\n",
    "can calculate $z'(t) = f(z(t), t)$ is this true?\n",
    "\n",
    "find the antiderivative of this function\n",
    "\n",
    "Euler's method: integrating the function $f$ in some sense\n",
    "\n",
    "$\\int_{t_0}^{t} f(z(s), s) ds$\n",
    "\n",
    "equivalent to saying $z(t) = y(t_0) + \\int_{t_0}^{t} f(z(s), s) ds$\n",
    "\n",
    "limit of Euler's method\n",
    "\n",
    "fundamental theorem of calculus<br>\n",
    "$z(t) - z(t_0) = \\int_{t_0}^t$\n",
    "\n",
    "start with z, construct $z_1(t) = y(t_0) + \\int_{t_0}^{t} f(z(s), s) ds$<br>\n",
    "start with z1, construct $z_2$\n",
    "\n",
    "converges to actual solution exponentially fast\n",
    "\n",
    "given z(t), construct z(t) according to rule\n",
    "\n",
    "IVP\n",
    "\n",
    "y' = f(y, t)\n",
    "\n",
    "y(t_0) = y_0\n",
    "\n",
    "prove one and only one solution\n",
    "\n",
    "given function, construct new function by generalizing Euler's method\n",
    "\n",
    "Piccard's method"
   ]
  },
  {
   "cell_type": "markdown",
   "metadata": {},
   "source": [
    "Catastrophe Theory\n",
    "\n",
    "critical points of functions of several variables\n",
    "\n",
    "---\n",
    "\n",
    "differential equations can be reduced to finding fixed point\n",
    "\n",
    "---\n",
    "\n",
    "E^3 is R^3 + dot product\n",
    "Hamiltonian space\n",
    "\n",
    "Jordan normal form<br>\n",
    "easiest form of non diagonalizable matrix\n",
    "\n",
    "inner product: a function or binary operation to assign a number to two vectors<br>\n",
    "* linearity properties\n",
    "* $v \\cdot v \\ge 0$; if $v\\cdot v = 0$ then $v = 0$\n",
    "\n",
    "---\n",
    "\n",
    "general theory of quadratic forms\n",
    "determinant is 0, then in some directions error is more important than approximation"
   ]
  },
  {
   "cell_type": "markdown",
   "metadata": {},
   "source": [
    "positive definite property and symmetric property\n",
    "\n",
    "Cauchy-Schwartz inequality<br>\n",
    "triangle inequality<br>\n",
    "isometry, the length of vector is conserved<br>"
   ]
  },
  {
   "cell_type": "markdown",
   "metadata": {},
   "source": [
    "symmetric, than roots of characteristic polynomial are real: diagonalizable "
   ]
  },
  {
   "cell_type": "markdown",
   "metadata": {},
   "source": [
    "dot product of two function is an integral\n",
    "\n",
    "$f \\cdot g = \\int_a^b f(x)g(x) dx$\n",
    "\n",
    "in one situation, you don't care about\n",
    "* length of vector\n",
    "* angle between vector\n",
    "\n",
    "introduce inner product, R^n becomes E^n\n",
    "\n",
    "if you understand $||x|| = \\sqrt{x^2 + ... + x^2}$ you understand every Euclidean space"
   ]
  },
  {
   "cell_type": "markdown",
   "metadata": {},
   "source": [
    "---"
   ]
  }
 ],
 "metadata": {
  "kernelspec": {
   "display_name": "Python 3",
   "language": "python",
   "name": "python3"
  },
  "language_info": {
   "codemirror_mode": {
    "name": "ipython",
    "version": 3
   },
   "file_extension": ".py",
   "mimetype": "text/x-python",
   "name": "python",
   "nbconvert_exporter": "python",
   "pygments_lexer": "ipython3",
   "version": "3.8.2"
  }
 },
 "nbformat": 4,
 "nbformat_minor": 4
}