{
 "cells": [
  {
   "cell_type": "markdown",
   "metadata": {},
   "source": [
    "## Groups\n",
    "\n",
    "$\\alpha^m = \\alpha...\\alpha$ $\\}m$ times, where $\\alpha \\in \\mathbb{F}$ and $m$ a positive integer, denotes the group operation applied to $\\alpha$ $m$ times<br>\n",
    "$(\\alpha^m)^n = a^{mn}$<br>\n",
    "$(\\alpha\\beta)^m = \\alpha^m\\beta^m$<br>\n",
    "$\\forall \\alpha, \\beta \\in \\mathbb{F}$ and all positive integers $m, n$<br>"
   ]
  },
  {
   "cell_type": "markdown",
   "metadata": {},
   "source": [
    "## Fields\n",
    "The elements of a field are called scalars.<br>"
   ]
  },
  {
   "cell_type": "markdown",
   "metadata": {},
   "source": [
    "#### Vector Space\n",
    "\n",
    "#### Examples of Vector Spaces\n",
    "$\\mathbb{R}^n$<br>\n",
    "$\\mathbb{C}^n$<br>\n",
    "$\\mathbb{F}^n$<br>"
   ]
  },
  {
   "cell_type": "markdown",
   "metadata": {},
   "source": [
    "#### Subspaces\n",
    "Analogous to subsets.<br>\n",
    "\n",
    "#### Sum of Subspaces\n",
    "Analogous to unions of subsets.<br>\n",
    "\n",
    "#### Direct Sum of Subspaces\n",
    "Analogous to unions of disjoint sets.<br>"
   ]
  },
  {
   "cell_type": "markdown",
   "metadata": {},
   "source": [
    "---"
   ]
  },
  {
   "cell_type": "markdown",
   "metadata": {},
   "source": [
    "# Linear Algebra Done Right\n",
    "\n",
    "1. Vector Spaces\n",
    "        Definition and Properties of Vector Spaces\n",
    "2. Finite-Dimensional Vector Spaces\n",
    "        Linear Independence, Span, Basis, Dimension\n",
    "        Theory of Finite-Dimensional Vector Spaces\n",
    "3. Linear Maps\n",
    "        Fundamental Theorem of Linear Maps\n",
    "        Quotient Spaces and Duality\n",
    "4. Polynomials\n",
    "        Theory of Polynomials\n",
    "5. Eigenvalues, Eigenvectors, and Invariant Subspaces\n",
    "6. Inner Product Spaces\n",
    "        Definition and Properties of Inner Product Spaces\n",
    "        Orthonormal Bases\n",
    "        Gram-Schmidt Procedure\n",
    "        Orthogonal Projections to solve certain Minimization Problems\n",
    "7. Operators on Inner Product Spaces\n",
    "        Spectral Theorem\n",
    "        Positive Operators\n",
    "        Isometries\n",
    "        Polar Decomposition\n",
    "        SVD Singular Value Decomposition\n",
    "8. Operators on Complex Vector Spaces\n",
    "        Minimal Polynomials\n",
    "        Characteristic Polynomials\n",
    "        Generalized Eigenvectors\n",
    "9. Operators on Real Vector Spaces\n",
    "        Complexification\n",
    "10. Trace and Determinant"
   ]
  }
 ],
 "metadata": {
  "kernelspec": {
   "display_name": "Python 3",
   "language": "python",
   "name": "python3"
  },
  "language_info": {
   "codemirror_mode": {
    "name": "ipython",
    "version": 3
   },
   "file_extension": ".py",
   "mimetype": "text/x-python",
   "name": "python",
   "nbconvert_exporter": "python",
   "pygments_lexer": "ipython3",
   "version": "3.8.2"
  }
 },
 "nbformat": 4,
 "nbformat_minor": 4
}
