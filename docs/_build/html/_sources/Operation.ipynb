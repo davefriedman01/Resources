{
 "cells": [
  {
   "cell_type": "markdown",
   "id": "1700db0d-b3e3-4e78-af03-6c26760eecb2",
   "metadata": {},
   "source": [
    "# Structures"
   ]
  },
  {
   "cell_type": "markdown",
   "id": "5f1c0eaa-fbc9-4873-ad8a-24600966eb54",
   "metadata": {},
   "source": [
    "---"
   ]
  },
  {
   "cell_type": "markdown",
   "id": "665a9d1a-ba6a-4619-b5c9-7fb294e316b6",
   "metadata": {},
   "source": [
    "## Operation"
   ]
  },
  {
   "cell_type": "markdown",
   "id": "8f3368f8-6999-4971-b0ae-14d575493386",
   "metadata": {},
   "source": [
    "An operation may also be called a function or a computation."
   ]
  },
  {
   "cell_type": "markdown",
   "id": "72dd8767-a714-4071-b649-37711b6a9573",
   "metadata": {},
   "source": [
    "__Unary Operation__<br>\n",
    "Let $A$ be a nonempty set.<br>\n",
    "A unary operation on $A$ is a function from $A$ to $A$."
   ]
  },
  {
   "cell_type": "markdown",
   "id": "37e77b4d-fd3c-4304-8525-c1b7aeae78f7",
   "metadata": {},
   "source": [
    "__Binary Operation__<br>\n",
    "Let $A$ be a nonempty set.<br>\n",
    "A binary operation on $A$ is a function from $A \\times A$ to $A$."
   ]
  },
  {
   "cell_type": "markdown",
   "id": "57192994-f906-45f3-8362-4eada6b5e0f6",
   "metadata": {},
   "source": [
    "__Ternary Operation__<br>\n",
    "Let $A$ be a nonempty set.<br>\n",
    "A ternary operation on $A$ is a function from $A \\times A \\times A$ to $A$."
   ]
  },
  {
   "cell_type": "markdown",
   "id": "f0e75be9-5756-46c7-97ea-a3845596424b",
   "metadata": {},
   "source": [
    "__N-Ary Operation__<br>\n",
    "Let $A$ be a nonempty set.<br>\n",
    "An $n$-ary operation on $A$ is a function from $\\underbrace{A \\times A \\times ... \\times A}_{n \\,\\text{times}}$ to $A$."
   ]
  },
  {
   "cell_type": "markdown",
   "id": "2b12f898-70d5-427a-86fc-5ade0947ddc2",
   "metadata": {},
   "source": [
    "---"
   ]
  }
 ],
 "metadata": {
  "kernelspec": {
   "display_name": "Python 3",
   "language": "python",
   "name": "python3"
  },
  "language_info": {
   "codemirror_mode": {
    "name": "ipython",
    "version": 3
   },
   "file_extension": ".py",
   "mimetype": "text/x-python",
   "name": "python",
   "nbconvert_exporter": "python",
   "pygments_lexer": "ipython3",
   "version": "3.8.2"
  }
 },
 "nbformat": 4,
 "nbformat_minor": 5
}
