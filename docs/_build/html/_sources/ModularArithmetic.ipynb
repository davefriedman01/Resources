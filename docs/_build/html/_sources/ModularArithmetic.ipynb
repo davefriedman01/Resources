{
 "cells": [
  {
   "cell_type": "markdown",
   "id": "2b2fceba-dcb5-4009-8e9e-6aab07ede81f",
   "metadata": {},
   "source": [
    "# Modular Arithmetic"
   ]
  },
  {
   "cell_type": "markdown",
   "id": "1c3111cc-2454-4e1c-8938-de9a3eed8c4d",
   "metadata": {},
   "source": [
    "---"
   ]
  },
  {
   "cell_type": "markdown",
   "id": "c9800e36-06cf-4f16-9b85-58eecdebef68",
   "metadata": {},
   "source": [
    "### Equivalence Class\n",
    "\n",
    "<span style=\"color: blue\">**DEFINITION**</span><br>\n",
    "Let $R$ be an equivalence relation on $A$.<br>\n",
    "For $x \\in A$, the equivalence class of $x$ determined by $R$ is the set $x/R = \\{y \\in A : x R y\\}$ which is read \"x mod R\".<br>"
   ]
  },
  {
   "cell_type": "markdown",
   "id": "1e316af8-9713-40f2-87d1-408ae9e4321f",
   "metadata": {},
   "source": [
    "The set of all equivalence classes $A/R = \\{x/R : x \\in A\\}$ which is read \"A mod R\".<br>"
   ]
  },
  {
   "cell_type": "markdown",
   "id": "422a4444-28cb-4bfd-b701-08fdc7e271b3",
   "metadata": {},
   "source": [
    "---"
   ]
  },
  {
   "cell_type": "markdown",
   "id": "2451c51b-c563-48e3-a460-0c6afbaf4bed",
   "metadata": {},
   "source": [
    "### Congruence modulo $m$\n",
    "\n",
    "<span style=\"color: blue\">**DEFINITION**</span><br>\n",
    "Let $\\equiv_m$ for a fixed integer $m \\ne 0$ be the relation on $\\mathbb{Z}$ given by\n",
    "\n",
    "$$\n",
    "x \\equiv_m y\\,\\,\\text{iff}\\,\\, m \\,\\,\\text{divides}\\,\\, (x - y)\n",
    "$$"
   ]
  },
  {
   "cell_type": "markdown",
   "id": "d07bbdbc-cd49-49c7-adf0-73660a06357d",
   "metadata": {},
   "source": [
    "<span style=\"color: blue\">Notation</span><br>\n",
    "$x \\equiv_m y$ may be written $x \\equiv y \\,(\\text{mod}\\, m)$ or $x = y \\,(\\text{mod}\\, m)$<br>"
   ]
  },
  {
   "cell_type": "markdown",
   "id": "d2dbe541-a2eb-423a-9398-6cdd51a474f0",
   "metadata": {},
   "source": [
    "---"
   ]
  },
  {
   "cell_type": "markdown",
   "id": "ede75457-4f0b-4d16-9c32-98296e474355",
   "metadata": {},
   "source": [
    "### $\\mathbb{Z}_m$ the set of congruence classes modulo $m$"
   ]
  },
  {
   "cell_type": "markdown",
   "id": "229e5bab-4eb8-4288-8922-b80d5268531c",
   "metadata": {},
   "source": [
    "In this context, we write $\\bar{x}$ for the equivalence class of $x$ instead of $x/\\equiv_m$.<br>"
   ]
  },
  {
   "cell_type": "markdown",
   "id": "00b1b398-886a-4b1b-9a9f-9b1ded071950",
   "metadata": {},
   "source": [
    "The equivalence class of $x \\in \\mathbb{Z}$ is $\\bar{x} = \\{y \\in \\mathbb{Z} : x \\equiv_m y\\}$"
   ]
  },
  {
   "cell_type": "markdown",
   "id": "7315234b-dbba-4896-bba9-3a60056cc363",
   "metadata": {},
   "source": [
    "---"
   ]
  },
  {
   "cell_type": "markdown",
   "id": "d0ead667-6b94-48fa-803c-bcccc809ad00",
   "metadata": {},
   "source": [
    "### Theorem\n",
    "\n",
    "There are exactly $m$ different equivalence classes for the relation $\\equiv_m$.<br>\n",
    "The set $\\mathbb{Z}_m$ is always ${\\bar{0}, \\bar{1}, \\bar{2}, ..., \\overline{(m - 1)}}$.<br>"
   ]
  },
  {
   "cell_type": "code",
   "execution_count": null,
   "id": "00963b2f-5c51-4a62-a04b-9c6c02a256a6",
   "metadata": {},
   "outputs": [],
   "source": []
  }
 ],
 "metadata": {
  "kernelspec": {
   "display_name": "Python 3",
   "language": "python",
   "name": "python3"
  },
  "language_info": {
   "codemirror_mode": {
    "name": "ipython",
    "version": 3
   },
   "file_extension": ".py",
   "mimetype": "text/x-python",
   "name": "python",
   "nbconvert_exporter": "python",
   "pygments_lexer": "ipython3",
   "version": "3.8.2"
  }
 },
 "nbformat": 4,
 "nbformat_minor": 5
}
