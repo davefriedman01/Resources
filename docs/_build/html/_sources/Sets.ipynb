{
 "cells": [
  {
   "cell_type": "markdown",
   "id": "60a3afcb-aeca-4426-bef9-a495e855ce9e",
   "metadata": {},
   "source": [
    "# Set Theory"
   ]
  },
  {
   "cell_type": "markdown",
   "id": "1dbc7aac-cce1-4627-a900-99a06c6f595e",
   "metadata": {},
   "source": [
    "## Set"
   ]
  },
  {
   "cell_type": "markdown",
   "id": "b2132523-38b5-434e-aa71-551fc6458143",
   "metadata": {},
   "source": [
    "A set is a collection of objects called elements (or members, points, etc.)<br>"
   ]
  },
  {
   "cell_type": "markdown",
   "id": "dd8a284e-0ef3-4f52-bd3a-112e9724e6a1",
   "metadata": {},
   "source": [
    "The __order__ of a set is the number of elements in the set if the set is finite or infinite if the number of elements in the set is infinite."
   ]
  },
  {
   "cell_type": "markdown",
   "id": "644896b0-922c-4184-87b8-16231f302b27",
   "metadata": {},
   "source": [
    "---"
   ]
  }
 ],
 "metadata": {
  "kernelspec": {
   "display_name": "Python 3",
   "language": "python",
   "name": "python3"
  },
  "language_info": {
   "codemirror_mode": {
    "name": "ipython",
    "version": 3
   },
   "file_extension": ".py",
   "mimetype": "text/x-python",
   "name": "python",
   "nbconvert_exporter": "python",
   "pygments_lexer": "ipython3",
   "version": "3.8.2"
  }
 },
 "nbformat": 4,
 "nbformat_minor": 5
}
