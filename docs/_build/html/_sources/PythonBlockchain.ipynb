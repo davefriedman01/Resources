{
 "cells": [
  {
   "cell_type": "markdown",
   "id": "61558723-7231-4828-911d-3bd11721b8ec",
   "metadata": {},
   "source": [
    "# Python Blockchain"
   ]
  },
  {
   "cell_type": "code",
   "execution_count": 38,
   "id": "24424039-dcce-4b60-a77b-fd7650b80b65",
   "metadata": {},
   "outputs": [],
   "source": [
    "import numpy as np\n",
    "np.set_printoptions(precision=4, suppress=True)\n",
    "import numpy.random as npr\n",
    "import pandas as pd\n",
    "import matplotlib.pyplot as plt\n",
    "plt.style.use('seaborn-pastel')\n",
    "plt.rcParams['figure.figsize'] = (10, 6)\n",
    "\n",
    "from itertools import product, permutations, combinations, combinations_with_replacement, zip_longest\n",
    "\n",
    "import hashlib\n",
    "import hmac\n",
    "\n",
    "from pprint import pprint"
   ]
  },
  {
   "cell_type": "markdown",
   "id": "9544647e-00b0-4fd5-bd02-773241555222",
   "metadata": {},
   "source": [
    "Field\n",
    "\n",
    "Finite Field\n",
    "\n",
    "\n",
    "\n",
    "Elliptic Curve Cryptography\n",
    "\n",
    "ECDSA Elliptic Curve Digital Signature Algorithm\n",
    "\n",
    "Fast Exponentiation\n",
    "\n",
    "ECDLP Elliptic Curve Discrete Logarithm Problem\n",
    "\n",
    "Discrete Logarithm\n",
    "\n",
    "Schnorr Signature\n",
    "\n",
    "\n",
    "\n",
    "Bitcoin\n",
    "\n",
    "BIP Bitcoin Improvement Proposal\n",
    "\n",
    "BIP32\n",
    "\n",
    "BIP39\n",
    "\n",
    "BIP44"
   ]
  },
  {
   "cell_type": "markdown",
   "id": "d74dbdcd-e56f-4f1d-9b05-aad144611a47",
   "metadata": {},
   "source": [
    "---"
   ]
  },
  {
   "cell_type": "markdown",
   "id": "0a947403-1f57-45cf-8a0e-96759c3dfe5b",
   "metadata": {},
   "source": [
    "### __Real Polynomial in one variable__<br>\n",
    "$$P(x) = \\sum_{k = 0}^n a_k x^k = a_n x^n + a_{n - 1} x^{n - 1} + ... + a_2 x^2 + a_1 x + a_0$$\n",
    "where $n$ is a nonnegative integer and $a_0, a_1, a_2, ..., a_n \\in \\mathbb{R}$ are constants called the coefficients of the polynomial.<br>\n",
    "If the leading coefficient $a_n \\ne 0$, then the degree of the polynomial is $n$.<br>\n",
    "$\\text{dom}(P(x)) = \\mathbb{R}$<br>\n",
    "\n",
    "__Polynomial Addition__<br>\n",
    "Let $f(x) = \\sum_{k = 0}^n a_k x^k$ and $g(x) = \\sum_{k = 0}^n b_k x^k$ be polynomials.<br>\n",
    "$$(f + g)(x) = \\sum_{k = 0}^n (a_k + b_k) x^k$$\n",
    "\n",
    "__Polynomial Subtraction__<br>\n",
    "Let $f(x) = \\sum_{k = 0}^n a_k x^k$ and $g(x) = \\sum_{k = 0}^n b_k x^k$ be polynomials.<br>\n",
    "$$(f - g)(x) = \\sum_{k = 0}^n (a_k - b_k) x^k$$\n",
    "\n",
    "__Polynomial Differentiation__<br>\n",
    "Let $f(x) = \\sum_{k = 0}^n a_k x^k$ be a polynomial.<br>\n",
    "$$f'(x) = \\sum_{k = 0}^n k a_k x^{k - 1}$$\n",
    "\n",
    "### __Real Polynomial in two variables__<br>\n",
    "$$P(x, y) = \\sum a_{nm} x^n y^m$$\n",
    "where $a_i \\in \\mathbb{R}$ is a constant and $m$ and $n$ are nonnegative integers.<br>\n",
    "If the leading coefficient $a_{nm} \\ne 0$, then the degree of the polynomial is $n + m$.<br>\n",
    "$\\text{dom}(P(x)) = \\mathbb{R}^2$<br>\n",
    "\n",
    "__General Linear Function in two variables__<br>\n",
    "$$\n",
    "\\begin{align}\n",
    "f(x, y)\n",
    "&= a_{10} x + a_{01} y + a_{00} \\\\\n",
    "&= A x + B y + C \\\\\n",
    "\\end{align}\n",
    "$$\n",
    "\n",
    "__General Quadratic Function in two variables__<br>\n",
    "$$\n",
    "\\begin{align}\n",
    "f(x, y)\n",
    "&= a_{20} x^2 + a_{11} x y + a_{02} y^2 + a_{10} x + a_{01} y + a_{00} \\\\\n",
    "&= A x^2 + B x y + C y^2 + D x + E y + F \\\\\n",
    "\\end{align}\n",
    "$$\n",
    "\n",
    "__General Cubic Function in two variables__<br>\n",
    "$$\n",
    "\\begin{align}\n",
    "f(x, y)\n",
    "&= a_{30} x^3 + a_{21} x^2 y + a_{12} x y^2 + a_{03} y^3 + a_{20} x^2 + a_{11} x y + a_{02} y^2 + a_{10} x + a_{01} y + a_{00} \\\\\n",
    "&= A x^3 + B x^2 y + C x y^2 + D y^3 + E x^2 + F x y + G y^2 + H x + I y + J \\\\\n",
    "\\end{align}\n",
    "$$\n",
    "\n",
    "### Real Polynomial in several variables\n",
    "$$P(x_1, x_2, ..., x_z) = \\sum a_{n_1 n_2 ... n_z} x_1^{n_1} x_2^{n_2} ... x_z^{n_z}$$"
   ]
  },
  {
   "cell_type": "code",
   "execution_count": 2,
   "id": "6ecf88a4-d59b-470a-80cc-d135cde372e0",
   "metadata": {},
   "outputs": [],
   "source": [
    "class Polynomial:\n",
    "    def __init__ (self, *coefficients):\n",
    "        self.coefficients = list(coefficients)\n",
    "        \n",
    "    def __repr__ (self):\n",
    "        return f\"Polynomial {str(tuple(self.coefficients))}\"\n",
    "    \n",
    "    def __str__ (self):\n",
    "        def x_expr (degree):\n",
    "            if degree == 0:\n",
    "                out = ''\n",
    "            elif degree == 1:\n",
    "                out = 'x'\n",
    "            else:\n",
    "                out = f'x^{str(degree)}'\n",
    "            return out\n",
    "        degree = len(self.coefficients) - 1\n",
    "        out = ''\n",
    "        for i in range(len(self.coefficients)):\n",
    "            coef = self.coefficients[i]\n",
    "            if abs(coef) == 1 and i < degree:\n",
    "                out += f\"{'+' if coef > 0 else '-'}{x_expr(degree - i)}\"\n",
    "            elif coef != 0:\n",
    "                out += f\"{coef:+g}{x_expr(degree - i)}\"\n",
    "        return out.lstrip('+')\n",
    "    \n",
    "    def __call__ (self, x):\n",
    "        #return [0 * x + coef for coef in self.coefficients]\n",
    "        return sum([coef * x ** index for index, coef in enumerate(self.coefficients[::-1])])\n",
    "    \n",
    "    def degree (self):\n",
    "        return len(self.coefficients)\n",
    "    \n",
    "    def __add__ (self, other):\n",
    "        P1 = self.coefficients[::-1]\n",
    "        P2 = other.coefficients[::-1]\n",
    "        return self.__class__(*[sum(t) for t in zip_longest(P1, P2, fillvalue=0)][::-1])\n",
    "    \n",
    "    def __sub__ (self, other):\n",
    "        P1 = self.coefficients[::-1]\n",
    "        P2 = other.coefficients[::-1]\n",
    "        return self.__class__(*[t1 - t2 for t1, t2 in zip_longest(P1, P2, fillvalue=0)][::-1])\n",
    "    \n",
    "    def derivative (self):\n",
    "        derived_coefs = []\n",
    "        exponent = len(self.coefficients) - 1\n",
    "        for i in range(len(self.coefficients) - 1):\n",
    "            derived_coefs.append(self.coefficients[i] * exponent)\n",
    "            exponent -= 1\n",
    "        return self.__class__(*derived_coefs)"
   ]
  },
  {
   "cell_type": "code",
   "execution_count": 3,
   "id": "d5dad235-1998-4eea-909b-de74a5351b76",
   "metadata": {},
   "outputs": [
    {
     "data": {
      "image/png": "[encoded data removed]",
      "text/plain": [
       "<Figure size 720x432 with 1 Axes>"
      ]
     },
     "metadata": {
      "needs_background": "light"
     },
     "output_type": "display_data"
    }
   ],
   "source": [
    "p1 = Polynomial(4, 0, -4, 3, 0)\n",
    "p2 = Polynomial(-0.8, 2.3, 0.5, 1, 0.2)\n",
    "p_sum = p1 + p2\n",
    "p_dif = p1 - p2\n",
    "x = np.linspace(-3, 3, 51)\n",
    "y1 = p1(x)\n",
    "y2 = p2(x)\n",
    "y_sum = p_sum(x)\n",
    "y_dif = p_dif(x)\n",
    "plt.plot(x, y1, label='y1')\n",
    "plt.plot(x, y2, label='y2')\n",
    "plt.plot(x, y_sum, label='y_sum')\n",
    "plt.plot(x, y_dif, label='y_dif')\n",
    "plt.legend();"
   ]
  },
  {
   "cell_type": "code",
   "execution_count": 4,
   "id": "bbc0cef4-4ccc-4080-a19e-9727824e7f3d",
   "metadata": {},
   "outputs": [
    {
     "data": {
      "text/plain": [
       "36"
      ]
     },
     "metadata": {},
     "output_type": "display_data"
    },
    {
     "data": {
      "text/plain": [
       "21"
      ]
     },
     "metadata": {},
     "output_type": "display_data"
    },
    {
     "data": {
      "text/plain": [
       "21"
      ]
     },
     "metadata": {},
     "output_type": "display_data"
    },
    {
     "data": {
      "text/plain": [
       "15"
      ]
     },
     "metadata": {},
     "output_type": "display_data"
    }
   ],
   "source": [
    "n = 5\n",
    "display(\n",
    "    (n + 1)**2,\n",
    "    (n + 1)**2 - sum(range(n + 1)),\n",
    "    sum(range(n + 2)),\n",
    "    sum(range(n + 1)),\n",
    ")"
   ]
  },
  {
   "cell_type": "code",
   "execution_count": 5,
   "id": "fa27f725-5159-4f3d-bff6-10ae31e0be85",
   "metadata": {},
   "outputs": [
    {
     "name": "stdout",
     "output_type": "stream",
     "text": [
      "-0.8x^4+2.3x^3+0.5x^2+x+0.2\n",
      "-3.2x^3+6.9x^2+x+1\n"
     ]
    },
    {
     "data": {
      "image/png": "[encoded data removed]",
      "text/plain": [
       "<Figure size 720x432 with 1 Axes>"
      ]
     },
     "metadata": {
      "needs_background": "light"
     },
     "output_type": "display_data"
    }
   ],
   "source": [
    "p = Polynomial(-0.8, 2.3, 0.5, 1, 0.2)\n",
    "dp = p.derivative()\n",
    "x = np.linspace(-2, 3, 51)\n",
    "y = p(x)\n",
    "df = dp(x)\n",
    "plt.plot(x, y, label='y')\n",
    "plt.plot(x, df, label='dy')\n",
    "plt.legend();\n",
    "print(p)\n",
    "print(dp)"
   ]
  },
  {
   "cell_type": "code",
   "execution_count": 6,
   "id": "f6be8aee-6f98-4e44-8d72-378c7924994e",
   "metadata": {},
   "outputs": [
    {
     "name": "stdout",
     "output_type": "stream",
     "text": [
      "$p_0 = -0.8x^4+2.3x^3+0.5x^2+x+0.2$\n"
     ]
    }
   ],
   "source": [
    "for count, poly in enumerate([p]):\n",
    "    print(f'$p_{count} = {str(poly)}$')"
   ]
  },
  {
   "cell_type": "markdown",
   "id": "fc603508-64a1-42a6-bb0c-8d9b5894093c",
   "metadata": {},
   "source": [
    "---"
   ]
  },
  {
   "cell_type": "markdown",
   "id": "95148872-5b1a-4fcb-b67e-0821572db042",
   "metadata": {},
   "source": [
    "__$n$th Root of Unity in a Field $F$__<br>\n",
    "A number $z$ satisfying the equation $z^n = 1$ where $n$ is a positive integer.<br>\n",
    "The roots of unity in $F$ are either complex numbers if the characteristic of $F$ is zero or elements of a finite field if the characteristic of $F$ is prime.<br>\n",
    "Conversely, every nonzero element in a finite field is a root of unity in that field.<br>\n",
    "\n",
    "__Characteristic__ of a Ring $R$<br>\n",
    "The smallest number of times one must use the ring's multiplicative identity in a sum to get the additive identity.<br>\n",
    "If this sum never reaches the additive identity, the ring has characteristic zero.<br>\n",
    "$$\\text{char}(R) \\,\\text{is the smallest positive number n such that}\\, \\underbrace{1 + ... + 1}_{n \\,\\text{summands}} = 0$$\n",
    "\n",
    "__Claim__<br>\n",
    "Let $F$ be a field.<br>\n",
    "The characteristic of $F$ is either zero or a prime number.<br>\n",
    "\n",
    "__Claim__<br>\n",
    "Let $F$ be a field.<br>\n",
    "$F$ has a unique minimal subfield (prime field).<br>\n",
    "\n",
    "__Finite Field $GF(q = p^h)$__<br>\n",
    "A finite field $GF(q = p^h)$ is an extension of degree $h$ of the prime field $GF(p)$ of the same characteristic.<br>\n",
    "The finite field is generated by an element that is a root of an irreducible polynomial of degree $h$.<br>\n",
    "\n",
    "__Prime Field $GF(p)$__<br>\n",
    "\n",
    "__Claim__<br>\n",
    "Let $GF(q)$ be a finite field where $q = p^h$ where $p$ is a prime number and $h$ is a positive integer.<br>\n",
    "$GF(q)$ has characteristic $p$.<br>\n",
    "\n",
    "__Claim about Primitive Element__<br>\n",
    "Let $GF(q)$ be a finite field.<br>\n",
    "There is some $g \\in GF(q)$ called a _primitive element_ such that all $f \\ne 0 \\in GF(q)$ are $g^{q - 1} = 1, g, g^2, ..., g^{q - 2}$.<br>\n",
    "A primitive element is a generator of the field's multiplicative group.<br>\n",
    "By Fermat's Little Theorem, the elements of the field's multiplicative group are the roots of the equation $x^{q - 1} - 1 = 0$ (the $(q - 1)$-th roots of unity).\n",
    "\n",
    "Characteristic [Wiki](https://en.wikipedia.org/wiki/Characteristic_(algebra)#prime_field)<br>\n",
    "Lagrange's Theorem [Wiki](https://en.wikipedia.org/wiki/Lagrange%27s_theorem_(group_theory))<br>\n",
    "Minimal Polynomial [Wiki](https://en.wikipedia.org/wiki/Minimal_polynomial_(field_theory))<br>\n",
    "Monic Polynomial [Wiki](https://en.wikipedia.org/wiki/Monic_polynomial)<br>\n",
    "Order [Wiki](https://en.wikipedia.org/wiki/Order_(group_theory))<br>\n",
    "Root of Unity [Wiki](https://en.wikipedia.org/wiki/Root_of_unity)<br>\n",
    "\n",
    "https://crypto.stanford.edu/pbc/notes/numbertheory/gen.html\n",
    "\n",
    "https://www.python-course.eu/polynomial_class_in_python.php"
   ]
  },
  {
   "cell_type": "markdown",
   "id": "813d4d7b-ebb7-4872-85d6-4fc69fa36b2a",
   "metadata": {},
   "source": [
    "__Fermat's Little Theorem__ [Wiki](https://en.wikipedia.org/wiki/Fermat%27s_little_theorem)<br>\n",
    "$n^{p - 1} \\,\\text{mod}\\, p = 1$ for any prime $p$ and $n \\gt 0$\n",
    "\n",
    "__Division__<br>\n",
    "$\n",
    "\\begin{align}\n",
    "\\frac{a}{b} &= ab^{-1} \\,\\text{where}\\, b \\ne 0 \\\\\n",
    "b^{p - 1} &= 1 \\,\\text{for prime p by Fermat's Little Theorem} \\\\\n",
    "b^{-1} &= b^{-1} \\cdot 1 \\\\\n",
    "&= b^{-1} \\cdot b^{p - 1} \\\\\n",
    "&= b^{p - 2} \\\\\n",
    "\\end{align}\n",
    "$"
   ]
  },
  {
   "cell_type": "markdown",
   "id": "a674b01b-2090-4dab-818e-c67e7997289e",
   "metadata": {},
   "source": [
    "---"
   ]
  },
  {
   "cell_type": "markdown",
   "id": "fa294187-8755-4ed1-a156-d23439960e44",
   "metadata": {},
   "source": [
    "### Modular Arithmetic"
   ]
  },
  {
   "cell_type": "code",
   "execution_count": 7,
   "id": "703ae6ef-ff84-4dd2-96ed-2a76307ed9a0",
   "metadata": {},
   "outputs": [
    {
     "data": {
      "text/plain": [
       "20"
      ]
     },
     "metadata": {},
     "output_type": "display_data"
    },
    {
     "data": {
      "text/plain": [
       "20"
      ]
     },
     "metadata": {},
     "output_type": "display_data"
    },
    {
     "data": {
      "text/plain": [
       "37"
      ]
     },
     "metadata": {},
     "output_type": "display_data"
    },
    {
     "data": {
      "text/plain": [
       "37"
      ]
     },
     "metadata": {},
     "output_type": "display_data"
    },
    {
     "data": {
      "text/plain": [
       "37"
      ]
     },
     "metadata": {},
     "output_type": "display_data"
    },
    {
     "data": {
      "text/plain": [
       "51"
      ]
     },
     "metadata": {},
     "output_type": "display_data"
    },
    {
     "data": {
      "text/plain": [
       "51"
      ]
     },
     "metadata": {},
     "output_type": "display_data"
    },
    {
     "data": {
      "text/plain": [
       "41"
      ]
     },
     "metadata": {},
     "output_type": "display_data"
    },
    {
     "data": {
      "text/plain": [
       "41"
      ]
     },
     "metadata": {},
     "output_type": "display_data"
    }
   ],
   "source": [
    "display(\n",
    "    (44 + 33) % 57,\n",
    "    (44 % 57 + 33 % 57) % 57,\n",
    "    \n",
    "    (9 - 29) % 57,\n",
    "    (9 + (-29)) % 57,\n",
    "    (9 % 57 + (-29) % 57) % 57,\n",
    "    \n",
    "    (17 + 42 + 49) % 57,\n",
    "    (17 % 57 + 42 % 57 + 49 % 57) % 57,\n",
    "    \n",
    "    (52 - 30 - 38) % 57,\n",
    "    (52 % 57 - 30 % 57 - 38 % 57) % 57,\n",
    ")"
   ]
  },
  {
   "cell_type": "code",
   "execution_count": 8,
   "id": "a7f2f594-70f9-4dce-8939-38b2006aaef3",
   "metadata": {},
   "outputs": [
    {
     "data": {
      "text/plain": [
       "132525"
      ]
     },
     "metadata": {},
     "output_type": "display_data"
    },
    {
     "data": {
      "text/plain": [
       "3"
      ]
     },
     "metadata": {},
     "output_type": "display_data"
    },
    {
     "data": {
      "text/plain": [
       "3"
      ]
     },
     "metadata": {},
     "output_type": "display_data"
    },
    {
     "data": {
      "text/plain": [
       "184756"
      ]
     },
     "metadata": {},
     "output_type": "display_data"
    },
    {
     "data": {
      "text/plain": [
       "0"
      ]
     },
     "metadata": {},
     "output_type": "display_data"
    },
    {
     "data": {
      "text/plain": [
       "0"
      ]
     },
     "metadata": {},
     "output_type": "display_data"
    },
    {
     "data": {
      "text/plain": [
       "9824585935875405405873621046934295249373163345274197996543779245714472948044575493508622853379178496"
      ]
     },
     "metadata": {},
     "output_type": "display_data"
    },
    {
     "data": {
      "text/plain": [
       "1"
      ]
     },
     "metadata": {},
     "output_type": "display_data"
    },
    {
     "data": {
      "text/plain": [
       "1"
      ]
     },
     "metadata": {},
     "output_type": "display_data"
    },
    {
     "data": {
      "text/plain": [
       "1"
      ]
     },
     "metadata": {},
     "output_type": "display_data"
    }
   ],
   "source": [
    "display(\n",
    "    (95 * 45 * 31),\n",
    "    (95 * 45 * 31) % 13,\n",
    "    (95 % 13 * 45 % 13 * 31 % 13) % 13,\n",
    "    \n",
    "    (17 * 13 * 19 * 44),\n",
    "    (17 * 13 * 19 * 44) % 13,\n",
    "    (17 % 13 * 13 % 13 * 19 % 13 * 44 % 13) % 13,\n",
    "    \n",
    "    (12**7 * 77**49),\n",
    "    (12**7 * 77**49) % 13,\n",
    "    (12**7 % 13 * 77**49 % 13) % 13,\n",
    "    (12 * 77) % 13,\n",
    ")"
   ]
  },
  {
   "cell_type": "code",
   "execution_count": 9,
   "id": "5832d789-3e62-4a63-b59e-14efc576d662",
   "metadata": {},
   "outputs": [
    {
     "data": {
      "text/plain": [
       "4"
      ]
     },
     "metadata": {},
     "output_type": "display_data"
    },
    {
     "data": {
      "text/plain": [
       "29"
      ]
     },
     "metadata": {},
     "output_type": "display_data"
    },
    {
     "data": {
      "text/plain": [
       "13"
      ]
     },
     "metadata": {},
     "output_type": "display_data"
    }
   ],
   "source": [
    "p = 31\n",
    "display(\n",
    "    # 3/24\n",
    "    pow(24, p-2, p) * 3 % p,\n",
    "    # 17^-3\n",
    "    pow(17, p-4, p),\n",
    "    # 4^-4 * 11\n",
    "    pow(4, p-5, p) * 11 % p\n",
    ")"
   ]
  },
  {
   "cell_type": "markdown",
   "id": "eb922b19-1744-42e4-ba84-7cb49e1c8ead",
   "metadata": {},
   "source": [
    "---"
   ]
  },
  {
   "cell_type": "code",
   "execution_count": 39,
   "id": "c9b52a8e-104b-45e9-9d1a-d5259f92ee45",
   "metadata": {},
   "outputs": [],
   "source": [
    "class FieldElement:\n",
    "    \"\"\" The FieldElement class represents an element of a prime Galois field. \"\"\"\n",
    "    \n",
    "    def __init__ (self, num, prime):\n",
    "        \"\"\" Initialize a new FieldElement.\n",
    "        \n",
    "        Parameters\n",
    "        ==========\n",
    "        self  [FieldElement]\n",
    "        num   [int]:         the finite field element\n",
    "        prime [int]:         the finite field order\n",
    "        \"\"\"\n",
    "        \n",
    "        # a prime field element must be between 0 and prime - 1 inclusive\n",
    "        if num >= prime or num < 0:\n",
    "            error = f'Num {num} not in field range 0 to {prime - 1}'\n",
    "            raise ValueError(error)\n",
    "            \n",
    "        self.num = num\n",
    "        self.prime = prime\n",
    "        \n",
    "    def __repr__ (self):\n",
    "        \"\"\" Return a string representation of a FieldElement.\n",
    "        \n",
    "        Parameters\n",
    "        ==========\n",
    "        self [FieldElement]\n",
    "        \"\"\"\n",
    "        return f'FieldElement_{self.prime}({self.num})'\n",
    "    \n",
    "    def __eq__ (self, other):\n",
    "        \"\"\" Define FieldElement equality as equality of both the FieldElements' num and prime properties.\n",
    "        \n",
    "        Parameters\n",
    "        ==========\n",
    "        self  [FieldElement]\n",
    "        other [FieldElement]\n",
    "        \n",
    "        Return\n",
    "        ======\n",
    "        [bool]: True if FieldElement equality holds else False\n",
    "        \"\"\"\n",
    "        if other is None:\n",
    "            return False\n",
    "        \n",
    "        return self.num == other.num and self.prime == other.prime\n",
    "    \n",
    "    def __ne__ (self, other):\n",
    "        \"\"\" Define FieldElement inequality as inequality of either the FieldElements' num or prime properties.\n",
    "        \n",
    "        Parameters\n",
    "        ==========\n",
    "        self  [FieldElement]\n",
    "        other [FieldElement]\n",
    "        \n",
    "        Return\n",
    "        ======\n",
    "        [bool]: True if FieldElement inequality holds else False\n",
    "        \"\"\"\n",
    "        if other is None:\n",
    "            return False\n",
    "        \n",
    "        return self.num != other.num or self.prime != other.prime\n",
    "        \n",
    "    def __add__ (self, other):\n",
    "        \"\"\" Define finite field addition in terms of modular arithmetic addition.\n",
    "        \n",
    "            If a and b are finite field elements and add() is finite field addition\n",
    "            then add(a, b) = (a + b) % p.\n",
    "        \n",
    "        Parameters\n",
    "        ==========\n",
    "        self  [FieldElement]\n",
    "        other [FieldElement]\n",
    "        \n",
    "        Return\n",
    "        ======\n",
    "        [FieldElement]: a FieldElement from the same field\n",
    "        \"\"\"\n",
    "        if self.prime != other.prime:\n",
    "            raise TypeError('Cannot add two numbers from different fields.')\n",
    "            \n",
    "        num = (self.num + other.num) % self.prime\n",
    "        return self.__class__(num, self.prime)\n",
    "        \n",
    "    def __sub__ (self, other):\n",
    "        \"\"\" Define finite field substraction in terms of modular arithmetic subtraction.\n",
    "        \n",
    "            If a and b are finite field elements and sub() is finite field subtraction\n",
    "            then sub(a, b) = (a + (-b) % p where (-b) is the additive inverse of b.\n",
    "        \n",
    "        Parameters\n",
    "        ==========\n",
    "        self  [FieldElement]\n",
    "        other [FieldElement]\n",
    "        \n",
    "        Return\n",
    "        ======\n",
    "        [FieldElement]: a FieldElement from the same field\n",
    "        \"\"\"\n",
    "        if self.prime != other.prime:\n",
    "            raise TypeError('Cannot subtract two numbers from different fields.')\n",
    "        \n",
    "        num = (self.num - other.num) % self.prime\n",
    "        return self.__class__(num, self.prime)\n",
    "        \n",
    "    def __mul__ (self, other):\n",
    "        \"\"\" Define FieldElement multiplication.\n",
    "        \n",
    "        Parameters\n",
    "        ==========\n",
    "        self  [FieldElement]\n",
    "        other [FieldElement]\n",
    "        \n",
    "        Return\n",
    "        ======\n",
    "        [FieldElement]: a FieldElement from the same field\n",
    "        \"\"\"\n",
    "        if self.prime != other.prime:\n",
    "            raise TypeError('Cannot multiply two numbers from different fields.')\n",
    "        \n",
    "        num = (self.num * other.num) % self.prime\n",
    "        return self.__class__(num, self.prime)\n",
    "        \n",
    "    def __pow__ (self, exponent):\n",
    "        \"\"\" Define FieldElement exponentiation.\n",
    "        \n",
    "        Parameters\n",
    "        ==========\n",
    "        self  [FieldElement]\n",
    "        exponent\n",
    "        \n",
    "        Return\n",
    "        ======\n",
    "        [FieldElement]: a FieldElement from the same field\n",
    "        \"\"\"\n",
    "        if exponent < 0:\n",
    "            exponent = exponent % (self.prime - 1)\n",
    "        num = pow(self.num, exponent, self.prime) # more efficient than num = (self.num ** exponent) % self.prime\n",
    "        return self.__class__(num, self.prime)\n",
    "    \n",
    "    def __truediv__ (self, other):\n",
    "        \"\"\" Define finite field division in terms of Fermat's Little Theorem.\n",
    "        \n",
    "        Fermat's Little Theorem says that n^{p - 1} mod p = 1 for any prime p and n > 0.\n",
    "        \n",
    "        self.num ** (p - 1) % p == 1\n",
    "        \n",
    "        Therefore\n",
    "        1/b == pow(b, p-2, p)\n",
    "        a/b == pow(b, p-2, p) * a % p\n",
    "        \n",
    "        Parameters\n",
    "        ==========\n",
    "        self  [FieldElement]\n",
    "        other [FieldElement]\n",
    "        \n",
    "        Return\n",
    "        ======\n",
    "        [FieldElement]: a FieldElement from the same field\n",
    "        \"\"\"\n",
    "        if self.prime != other.prime:\n",
    "            raise TypeError('Cannot divide two numbers from different fields.')\n",
    "        \n",
    "        num = self.num * pow(other.num, self.prime - 2, self.prime) % self.prime\n",
    "        return self.__class__(num, self.prime)\n",
    "    \n",
    "    def __rmul__ (self, coefficient):\n",
    "        num = (self.num * coefficient) % self.prime\n",
    "        return self.__class__(num, self.prime)\n",
    "        \n",
    "    def __lt__ (self, other):\n",
    "        if self.prime != other.prime:\n",
    "            raise TypeError('Cannot order two numbers from different fields.')\n",
    "        return self.num < other.num\n",
    "\n",
    "    \n",
    "    \n",
    "def generate_finite_field (order=2):\n",
    "    return [FieldElement(element, order) for element in range(order)]\n",
    "\n",
    "def find_generators (order=2):\n",
    "    finite_field = generate_finite_field(order)\n",
    "    return [(element.num, set([(element**i).num for i in range(1, order)])) for element in finite_field[1:]]"
   ]
  },
  {
   "cell_type": "code",
   "execution_count": 11,
   "id": "9f851e15-881f-4b88-b97c-b1ce930b2fd3",
   "metadata": {},
   "outputs": [
    {
     "data": {
      "text/plain": [
       "[FieldElement_5(0),\n",
       " FieldElement_5(1),\n",
       " FieldElement_5(2),\n",
       " FieldElement_5(3),\n",
       " FieldElement_5(4)]"
      ]
     },
     "execution_count": 11,
     "metadata": {},
     "output_type": "execute_result"
    }
   ],
   "source": [
    "generate_finite_field(5)"
   ]
  },
  {
   "cell_type": "code",
   "execution_count": 12,
   "id": "b191eea1-d00f-4a26-b66a-c72a21cdb927",
   "metadata": {},
   "outputs": [
    {
     "data": {
      "text/plain": [
       "[[1],\n",
       " [1, 1],\n",
       " [1, 0, 3],\n",
       " [1, 1, 1, 1],\n",
       " [1, 2, 3, 4, 5],\n",
       " [1, 1, 1, 1, 1, 1],\n",
       " [1, 0, 3, 0, 5, 0, 7],\n",
       " [1, 4, 0, 7, 7, 0, 4, 1],\n",
       " [1, 2, 3, 4, 5, 6, 7, 8, 9],\n",
       " [1, 1, 1, 1, 1, 1, 1, 1, 1, 1],\n",
       " [1, 8, 3, 4, 5, 0, 7, 8, 9, 4, 11],\n",
       " [1, 1, 1, 1, 1, 1, 1, 1, 1, 1, 1, 1],\n",
       " [1, 2, 3, 4, 5, 6, 7, 8, 9, 10, 11, 12, 13],\n",
       " [1, 4, 9, 1, 10, 6, 4, 4, 6, 10, 1, 9, 4, 1],\n",
       " [1, 0, 11, 0, 13, 0, 7, 0, 9, 0, 3, 0, 5, 0, 15],\n",
       " [1, 1, 1, 1, 1, 1, 1, 1, 1, 1, 1, 1, 1, 1, 1, 1],\n",
       " [1, 14, 9, 16, 11, 0, 13, 8, 9, 10, 5, 0, 7, 2, 9, 4, 17],\n",
       " [1, 1, 1, 1, 1, 1, 1, 1, 1, 1, 1, 1, 1, 1, 1, 1, 1, 1],\n",
       " [1, 8, 7, 4, 5, 16, 3, 12, 9, 0, 11, 8, 17, 4, 15, 16, 13, 12, 19],\n",
       " [1, 4, 9, 16, 4, 15, 7, 1, 18, 16, 16, 18, 1, 7, 15, 4, 16, 9, 4, 1],\n",
       " [1, 2, 3, 4, 5, 6, 7, 8, 9, 10, 11, 12, 13, 14, 15, 16, 17, 18, 19, 20, 21],\n",
       " [1, 1, 1, 1, 1, 1, 1, 1, 1, 1, 1, 1, 1, 1, 1, 1, 1, 1, 1, 1, 1, 1]]"
      ]
     },
     "execution_count": 12,
     "metadata": {},
     "output_type": "execute_result"
    }
   ],
   "source": [
    "def fermat_little_theorem (order=2):\n",
    "    \"\"\" Apply the group operation p - 1 times to each nonzero element of a finite field of order p.\n",
    "        Fermat's Little Theorem says that n^{p - 1} mod p = 1 for any prime p and n > 0.\n",
    "    \"\"\"\n",
    "    finite_field = generate_finite_field(order)\n",
    "    return [(element ** (order - 1)).num for element in finite_field[1:]]\n",
    "\n",
    "# finite fields of orders 2 through 23\n",
    "[fermat_little_theorem(order) for order in range(2, 24)]"
   ]
  },
  {
   "cell_type": "code",
   "execution_count": 13,
   "id": "b201869e-f433-4025-a487-7518a0739e5a",
   "metadata": {},
   "outputs": [
    {
     "data": {
      "text/plain": [
       "[(1, {1}), (2, {1, 2, 3, 4}), (3, {1, 2, 3, 4}), (4, {1, 4})]"
      ]
     },
     "execution_count": 13,
     "metadata": {},
     "output_type": "execute_result"
    }
   ],
   "source": [
    "order = 5\n",
    "f = generate_finite_field(order)\n",
    "find_generators(order)"
   ]
  },
  {
   "cell_type": "code",
   "execution_count": 14,
   "id": "58589fe0-63d3-4701-9f32-e23bf72d4e86",
   "metadata": {},
   "outputs": [
    {
     "name": "stdout",
     "output_type": "stream",
     "text": [
      "[0, 1, 2, 3, 4, 5, 6, 7, 8, 9, 10, 11, 12, 13, 14, 15, 16, 17, 18]\n",
      "[0, 2, 4, 6, 8, 10, 12, 14, 16, 18, 1, 3, 5, 7, 9, 11, 13, 15, 17]\n",
      "[0, 3, 6, 9, 12, 15, 18, 2, 5, 8, 11, 14, 17, 1, 4, 7, 10, 13, 16]\n",
      "[0, 4, 8, 12, 16, 1, 5, 9, 13, 17, 2, 6, 10, 14, 18, 3, 7, 11, 15]\n",
      "[0, 5, 10, 15, 1, 6, 11, 16, 2, 7, 12, 17, 3, 8, 13, 18, 4, 9, 14]\n",
      "[0, 6, 12, 18, 5, 11, 17, 4, 10, 16, 3, 9, 15, 2, 8, 14, 1, 7, 13]\n",
      "[0, 7, 14, 2, 9, 16, 4, 11, 18, 6, 13, 1, 8, 15, 3, 10, 17, 5, 12]\n",
      "[0, 8, 16, 5, 13, 2, 10, 18, 7, 15, 4, 12, 1, 9, 17, 6, 14, 3, 11]\n",
      "[0, 9, 18, 8, 17, 7, 16, 6, 15, 5, 14, 4, 13, 3, 12, 2, 11, 1, 10]\n",
      "[0, 10, 1, 11, 2, 12, 3, 13, 4, 14, 5, 15, 6, 16, 7, 17, 8, 18, 9]\n",
      "[0, 11, 3, 14, 6, 17, 9, 1, 12, 4, 15, 7, 18, 10, 2, 13, 5, 16, 8]\n",
      "[0, 12, 5, 17, 10, 3, 15, 8, 1, 13, 6, 18, 11, 4, 16, 9, 2, 14, 7]\n",
      "[0, 13, 7, 1, 14, 8, 2, 15, 9, 3, 16, 10, 4, 17, 11, 5, 18, 12, 6]\n",
      "[0, 14, 9, 4, 18, 13, 8, 3, 17, 12, 7, 2, 16, 11, 6, 1, 15, 10, 5]\n",
      "[0, 15, 11, 7, 3, 18, 14, 10, 6, 2, 17, 13, 9, 5, 1, 16, 12, 8, 4]\n",
      "[0, 16, 13, 10, 7, 4, 1, 17, 14, 11, 8, 5, 2, 18, 15, 12, 9, 6, 3]\n",
      "[0, 17, 15, 13, 11, 9, 7, 5, 3, 1, 18, 16, 14, 12, 10, 8, 6, 4, 2]\n",
      "[0, 18, 17, 16, 15, 14, 13, 12, 11, 10, 9, 8, 7, 6, 5, 4, 3, 2, 1]\n"
     ]
    }
   ],
   "source": [
    "order = 19\n",
    "f = generate_finite_field(order)\n",
    "for k in f[1:]:\n",
    "    print(([(k * elem).num for elem in f]))"
   ]
  },
  {
   "cell_type": "markdown",
   "id": "20174844-28a5-45d6-b025-3821fa5b77b2",
   "metadata": {},
   "source": [
    "---"
   ]
  },
  {
   "cell_type": "markdown",
   "id": "e3ee75dc-9e60-4aaa-b9a0-fa15e2bf9097",
   "metadata": {},
   "source": [
    "# Elliptic Curves"
   ]
  },
  {
   "cell_type": "markdown",
   "id": "59d70617-d564-4336-b830-03962948fd54",
   "metadata": {},
   "source": [
    "__General Form of an Weierstrass [Wiki](https://en.wikipedia.org/wiki/Weierstrass%27s_elliptic_functions) Elliptic Curve__ [Wiki](https://en.wikipedia.org/wiki/Elliptic_curve)<br>\n",
    "$$\n",
    "\\begin{align}\n",
    "y^2 &= x^3 + ax + b \\\\\n",
    "0 &= x^3 + (-1)y^2 + ax + b \\\\\n",
    "\\end{align}\n",
    "$$\n",
    "\n",
    "### Elliptic Curve Arithmetic\n",
    "\n",
    "__Point Addition__<br>\n",
    "\n",
    "__Properties of Point Addition__<br>\n",
    "Associativity<br>\n",
    "(A + B) + C = A + (B + C)<br>\n",
    "the reason for reflecting over the x-axis<br>\n",
    "\n",
    "Commutativity<br>\n",
    "A + B = B + A<br>\n",
    "the line going through A and B will intersect the curve a third time in the same place, no matter the order<br>\n",
    "\n",
    "Existence of Identity Point<br>\n",
    "I + A = A<br>\n",
    "There is some point I, called the _point at infinity_, such that when added to point A the resulting point is A.<br>\n",
    "\n",
    "Existence of Inverse Points<br>\n",
    "A + (-A) = I<br>\n",
    "For all points A there is some point -A such that their point addition yields the point at infinity.<br>\n",
    "Visually, a point and its inverse are reflected over the x-axis.<br>"
   ]
  },
  {
   "cell_type": "code",
   "execution_count": 15,
   "id": "88d02042-255e-4cc4-95b2-9ad15ffdc6b1",
   "metadata": {},
   "outputs": [
    {
     "data": {
      "image/png": "[encoded data removed]",
      "text/plain": [
       "<Figure size 720x432 with 50 Axes>"
      ]
     },
     "metadata": {
      "needs_background": "light"
     },
     "output_type": "display_data"
    }
   ],
   "source": [
    "a_min, a_max = -2, 2\n",
    "b_min, b_max = -2, 7\n",
    "a_ran = range(a_min, a_max + 1)\n",
    "b_ran = range(b_max, b_min - 1, -1)\n",
    "a_len = len(a_ran)\n",
    "b_len = len(b_ran)\n",
    "\n",
    "x, y = np.meshgrid(a_ran, b_ran)\n",
    "parameters = [(x, y) for x, y in zip(x.ravel(), y.ravel())]\n",
    "\n",
    "fig, axs = plt.subplots(b_len, a_len, sharex=True, sharey=True)\n",
    "for param in parameters:\n",
    "    a = param[0]\n",
    "    b = param[1]\n",
    "    y, x = np.ogrid[-5:5:100j, -5:5:100j]\n",
    "    axs[b_max - param[1], param[0] + a_max].contour(x.ravel(), y.ravel(), pow(y, 2) - pow(x, 3) - x * a - b, [0])\n",
    "    \n",
    "for i, ax in enumerate(axs[0]):\n",
    "    ax.set_title(f'$a = {i - a_max}$')\n",
    "for i, ax in enumerate(axs[:, 0]):\n",
    "    ax.set_ylabel(f'$b = {b_max - i}$', rotation=0)\n",
    "    \n",
    "fig.supxlabel(f'${a_min} < a < {a_max}$')\n",
    "fig.supylabel(f'${b_min} < b < {b_max}$');#, rotation=0);"
   ]
  },
  {
   "cell_type": "code",
   "execution_count": 16,
   "id": "996cf4b9-7789-43b0-a487-68acf49998ff",
   "metadata": {},
   "outputs": [
    {
     "data": {
      "image/png": "[encoded data removed]",
      "text/plain": [
       "<Figure size 720x432 with 1 Axes>"
      ]
     },
     "metadata": {
      "needs_background": "light"
     },
     "output_type": "display_data"
    }
   ],
   "source": [
    "a = 0\n",
    "b = 7\n",
    "y, x = np.ogrid[-10:10:100j, -10:10:100j]\n",
    "plt.contour(x.ravel(), y.ravel(), pow(y, 2) - pow(x, 3) - x * a - b, [0]);"
   ]
  },
  {
   "cell_type": "markdown",
   "id": "2e086e4d-98a4-4413-b6a2-ae81a4e66fbf",
   "metadata": {},
   "source": [
    "__SEC P256 Koblitz 1 secp256k1 Bitcoin Elliptic Curve__<br>\n",
    "$$\n",
    "\\begin{align}\n",
    "a &= 0 \\\\\n",
    "b &= 7 \\\\\n",
    "y^2 &= x^3 + (0)x + (7) \\\\\n",
    "&= x^3 + 7 \\\\\n",
    "\\end{align}\n",
    "$$\n",
    "\n",
    "The finite field of order p = $2^{256} - 2^{32} - 977$ where $p$ was chosen to be relatively close to $2^{256}$, though not the largest prime smaller than $2^{256}$.\n",
    "\n",
    "The base point $g$ is a pair of numbers $x, y \\,\\text{mod}\\, p$\n",
    "\n",
    "__Compressed Base Point__<br>\n",
    "$g = 02 79BE 667E F9DC BBAC 55A0 6295 CE87 0B07 029B FCDB 2DCE 28D9 59F2 815B 16F8 1798$<br>\n",
    "prefix $02$<br>\n",
    "$x = 79BE 667E F9DC BBAC 55A0 6295 CE87 0B07 029B FCDB 2DCE 28D9 59F2 815B 16F8 1798$<br>\n",
    "The compressed base point yields the x coordinate. The y coordinate can be derived from the x coordinate.<br>\n",
    "There are two values of $y$ that satisfy $y^2 = x^3 + 7$<br>\n",
    "If the compressed base point begins with 02, select the root whose least significant bit is even.<br>\n",
    "If the compressed base point begins with 03, select the root whose least significant bit is odd.<br>\n",
    "The two roots sum to $p$, and $p$ is odd, so one of the roots is even and the other root is odd.<br>\n",
    "The remainder of the string is the hexadecimal representation of the x coordinate.<br>\n",
    "\n",
    "__Uncompressed Base Point__<br>\n",
    "$g = 040x 79BE 667E F9DC BBAC 55A0 6295 CE87 0B07 029B FCDB 2DCE 28D9 59F2 815B 16F8 1798 483A DA77 26A3 C465 5DA4 FBFC 0E11 08A8 FD17 B448 A685 5419 9C47 D08F FB10 D4B8$<br>\n",
    "prefix $04 0x$<br>\n",
    "$x = 79BE 667E F9DC BBAC 55A0 6295 CE87 0B07 029B FCDB 2DCE 28D9 59F2 815B 16F8 1798$<br>\n",
    "$y = 483A DA77 26A3 C465 5DA4 FBFC 0E11 08A8 FD17 B448 A685 5419 9C47 D08F FB10 D4B8$<br>\n",
    "The uncompressed base point begins with $04$ followed by the hexadecimal representation of $x$ and $y$ concatenated together.<br>"
   ]
  },
  {
   "cell_type": "code",
   "execution_count": 17,
   "id": "1eb3f753-dea4-48f2-8ea7-f59fb6480e7f",
   "metadata": {},
   "outputs": [
    {
     "data": {
      "text/plain": [
       "115792089237316195423570985008687907853269984665640564039457584007913129639936"
      ]
     },
     "metadata": {},
     "output_type": "display_data"
    },
    {
     "data": {
      "text/plain": [
       "'0x10000000000000000000000000000000000000000000000000000000000000000'"
      ]
     },
     "metadata": {},
     "output_type": "display_data"
    },
    {
     "data": {
      "text/plain": [
       "115792089237316195423570985008687907852837564279074904382605163141518161494337"
      ]
     },
     "metadata": {},
     "output_type": "display_data"
    },
    {
     "data": {
      "text/plain": [
       "115792089237316195423570985008687907853269984665640564039457584007908834671663"
      ]
     },
     "metadata": {},
     "output_type": "display_data"
    },
    {
     "data": {
      "text/plain": [
       "'0xfffffffffffffffffffffffffffffffffffffffffffffffffffffffefffffc2f'"
      ]
     },
     "metadata": {},
     "output_type": "display_data"
    },
    {
     "data": {
      "text/plain": [
       "'79be667ef9dcbbac55a06295ce870b07029bfcdb2dce28d959f2815b16f81798'"
      ]
     },
     "metadata": {},
     "output_type": "display_data"
    },
    {
     "data": {
      "text/plain": [
       "'483ada7726a3c4655da4fbfc0e1108a8fd17b448a68554199c47d08ffb10d4b8'"
      ]
     },
     "metadata": {},
     "output_type": "display_data"
    },
    {
     "data": {
      "text/plain": [
       "'79be667ef9dcbbac55a06295ce870b07029bfcdb2dce28d959f2815b16f81798483ada7726a3c4655da4fbfc0e1108a8fd17b448a68554199c47d08ffb10d4b8'"
      ]
     },
     "metadata": {},
     "output_type": "display_data"
    },
    {
     "data": {
      "text/plain": [
       "True"
      ]
     },
     "metadata": {},
     "output_type": "display_data"
    }
   ],
   "source": [
    "p = 2**256 - 2**32 - 977\n",
    "x = '79BE 667E F9DC BBAC 55A0 6295 CE87 0B07 029B FCDB 2DCE 28D9 59F2 815B 16F8 1798'.replace(' ', '').lower()\n",
    "y = '483A DA77 26A3 C465 5DA4 FBFC 0E11 08A8 FD17 B448 A685 5419 9C47 D08F FB10 D4B8'.replace(' ', '').lower()\n",
    "g_uncomp = x + y\n",
    "display(\n",
    "    2**256,\n",
    "    hex(2**256),\n",
    "    int('FFFFFFFFFFFFFFFFFFFFFFFFFFFFFFFEBAAEDCE6AF48A03BBFD25E8CD0364141', 16),\n",
    "    \n",
    "    p,\n",
    "    hex(p),\n",
    "    \n",
    "    x,\n",
    "    y,\n",
    "    g_uncomp,\n",
    "    \n",
    "    (int(y, 16)**2 % p - int(x, 16)**3 % p - 7) % p == 0,\n",
    ")"
   ]
  },
  {
   "cell_type": "code",
   "execution_count": 18,
   "id": "9973229d-8172-49c6-95be-6316dda5a2d0",
   "metadata": {},
   "outputs": [],
   "source": [
    "def bits_per_int (positive_integer):\n",
    "    return int(np.floor(np.log2(positive_integer)) + 1)\n",
    "def fast_exponentiation (num, exp):\n",
    "    bin_exp = format(exp, f'0{bits_per_int(exp)}b')\n",
    "    #print(bin_exp)\n",
    "    mul = num\n",
    "    for bit in bin_exp[1:]:\n",
    "        if bit == '0':\n",
    "            mul = mul**2\n",
    "        else:\n",
    "            mul = mul**2 * num\n",
    "    return mul"
   ]
  },
  {
   "cell_type": "code",
   "execution_count": 40,
   "id": "366844b7-1c54-483f-b7d1-d235202fa12c",
   "metadata": {},
   "outputs": [],
   "source": [
    "class Point:\n",
    "    \n",
    "    def __init__ (self, x, y, a, b):\n",
    "        self.a = a\n",
    "        self.b = b\n",
    "        self.x = x\n",
    "        self.y = y\n",
    "        \n",
    "        if self.x is None and self.y is None:\n",
    "            return\n",
    "        \n",
    "        if self.y**2 != self.x**3 + a * x + b:\n",
    "            raise ValueError(f'({x}, {y}) is not on the curve')\n",
    "            \n",
    "    def __eq__ (self, other):\n",
    "        return self.x == other.x and self.y == other.y and self.a == other.a and self.b == other.b\n",
    "    \n",
    "    def __ne__ (self, other):\n",
    "        return not (self == other)\n",
    "        #return self.x != other.x or self.y != other.y or self.a != other.a or self.b != other.b\n",
    "    \n",
    "    def __repr__ (self):\n",
    "        if self.x is None:\n",
    "            return 'Point(infinity)'\n",
    "        else:\n",
    "            return f'Point({self.x}, {self.y})_{self.a}_{self.b}'\n",
    "        \n",
    "    def __add__ (self, other):\n",
    "        if self.a != other.a or self.b != other.b:\n",
    "            raise TypeError(f'Points {self}, {other} are not on the same curve')\n",
    "            \n",
    "        if self.x is None:  # if self is the point at infinity...\n",
    "            return other    # ...then self + other = other\n",
    "        if other.x is None: # if other is the point at infinity...\n",
    "            return self     # ...then self + other = self\n",
    "        \n",
    "        # Result is point at infinity\n",
    "        if self.x == other.x and self.y != other.y:\n",
    "            return self.__class__(None, None, self.a, self.b)\n",
    "        \n",
    "        # Case 2: self.x != other.x\n",
    "        # Formula (x3,y3)==(x1,y1)+(x2,y2)\n",
    "        # s=(y2-y1)/(x2-x1)\n",
    "        # x3=s**2-x1-x2\n",
    "        # y3=s*(x1-x3)-y1\n",
    "        \n",
    "        if self.x != other.x:\n",
    "            slope = (other.y - self.y) / (other.x - self.x)\n",
    "            x = slope**2 - self.x - other.x\n",
    "            y = slope * (self.x - x) - self.y\n",
    "            return self.__class__(x, y, self.a, self.b)\n",
    "        \n",
    "        if self == other and self.y == 0 * self.x:\n",
    "            return self.__class__(None, None, self.a, self.b)\n",
    "\n",
    "        # Case 3: self == other\n",
    "        # Formula (x3,y3)=(x1,y1)+(x1,y1)\n",
    "        # s=(3*x1**2+a)/(2*y1)\n",
    "        # x3=s**2-2*x1\n",
    "        # y3=s*(x1-x3)-y1\n",
    "        \n",
    "        if self == other:\n",
    "            slope = (3 * self.x**2 + self.a) / (2 * self.y)\n",
    "            x = slope**2 - 2 * self.x\n",
    "            y = slope * (self.x - x) - self.y\n",
    "            return self.__class__(x, y, self.a, self.b)\n",
    "        \n",
    "    def __rmul__ (self, coefficient):\n",
    "        coef = coefficient\n",
    "        current = self\n",
    "        result = self.__class__(None, None, self.a, self.b)\n",
    "        while coef:\n",
    "            if coef & 1:\n",
    "                result += current\n",
    "            current += current\n",
    "            coef >>= 1\n",
    "        return result\n",
    "        \n",
    "def on_curve (x, y):\n",
    "    return y**2 == x**3 + 5*x + 7\n",
    "        \n",
    "def plot_elliptic_curve (points, a=0, b=7):\n",
    "    y, x = np.ogrid[-10:10:100j, -10:10:100j]\n",
    "    plt.contour(x.ravel(), y.ravel(), pow(y, 2) - pow(x, 3) - x * a - b, [0])\n",
    "    for point in points:\n",
    "        if point:\n",
    "            plt.scatter(point.x, point.y);"
   ]
  },
  {
   "cell_type": "code",
   "execution_count": 20,
   "id": "fa8e3663-9b23-46ef-9f57-12925f22975a",
   "metadata": {},
   "outputs": [
    {
     "data": {
      "text/plain": [
       "Polynomial (8, 0, -8, 6, 0)"
      ]
     },
     "execution_count": 20,
     "metadata": {},
     "output_type": "execute_result"
    }
   ],
   "source": [
    "p1 + p1"
   ]
  },
  {
   "cell_type": "code",
   "execution_count": 21,
   "id": "0916a930-32da-4870-8bd3-ee82e4e344d6",
   "metadata": {},
   "outputs": [
    {
     "data": {
      "image/png": "[encoded data removed]",
      "text/plain": [
       "<Figure size 720x432 with 1 Axes>"
      ]
     },
     "metadata": {
      "needs_background": "light"
     },
     "output_type": "display_data"
    }
   ],
   "source": [
    "p1 = Point(-1, -1, 5, 7)\n",
    "p2 = Point(-1, 1, 5, 7)\n",
    "p3 = Point(2, 5, 5, 7)\n",
    "p4 = p1 + p3\n",
    "p5 = p1 + p1\n",
    "inf = Point(None, None, 5, 7)\n",
    "points = [p1, p5, inf]\n",
    "plot_elliptic_curve(points, 5, 7)"
   ]
  },
  {
   "cell_type": "markdown",
   "id": "121e5fed-8f05-4259-8133-3a08985041fd",
   "metadata": {},
   "source": [
    "---"
   ]
  },
  {
   "cell_type": "markdown",
   "id": "ecc32f8e-106c-476e-b5aa-a2af421e31fa",
   "metadata": {},
   "source": [
    "# ECC Elliptic Curve Cryptography"
   ]
  },
  {
   "cell_type": "code",
   "execution_count": 60,
   "id": "b59fb77e-17a4-4037-a84e-2f02a288b4bc",
   "metadata": {},
   "outputs": [
    {
     "data": {
      "text/plain": [
       "Point(FieldElement_223(192), FieldElement_223(105))_FieldElement_223(0)_FieldElement_223(7)"
      ]
     },
     "metadata": {},
     "output_type": "display_data"
    },
    {
     "data": {
      "text/plain": [
       "Point(FieldElement_223(17), FieldElement_223(56))_FieldElement_223(0)_FieldElement_223(7)"
      ]
     },
     "metadata": {},
     "output_type": "display_data"
    },
    {
     "data": {
      "text/plain": [
       "Point(FieldElement_223(170), FieldElement_223(142))_FieldElement_223(0)_FieldElement_223(7)"
      ]
     },
     "metadata": {},
     "output_type": "display_data"
    },
    {
     "data": {
      "text/plain": [
       "Point(FieldElement_223(170), FieldElement_223(142))_FieldElement_223(0)_FieldElement_223(7)"
      ]
     },
     "metadata": {},
     "output_type": "display_data"
    },
    {
     "data": {
      "text/plain": [
       "Point(FieldElement_223(49), FieldElement_223(71))_FieldElement_223(0)_FieldElement_223(7)"
      ]
     },
     "metadata": {},
     "output_type": "display_data"
    },
    {
     "data": {
      "text/plain": [
       "Point(FieldElement_223(13), FieldElement_223(190))_FieldElement_223(0)_FieldElement_223(7)"
      ]
     },
     "metadata": {},
     "output_type": "display_data"
    },
    {
     "data": {
      "text/plain": [
       "Point(infinity)"
      ]
     },
     "metadata": {},
     "output_type": "display_data"
    },
    {
     "data": {
      "text/plain": [
       "Point(FieldElement_223(192), FieldElement_223(105))_FieldElement_223(0)_FieldElement_223(7)"
      ]
     },
     "metadata": {},
     "output_type": "display_data"
    },
    {
     "data": {
      "text/plain": [
       "Point(infinity)"
      ]
     },
     "metadata": {},
     "output_type": "display_data"
    }
   ],
   "source": [
    "order = 223\n",
    "ff = generate_finite_field(order)\n",
    "\n",
    "a = ff[0]\n",
    "b = ff[7]\n",
    "\n",
    "x1 = ff[192]\n",
    "y1 = ff[105]\n",
    "p1 = Point(x1, y1, a, b)\n",
    "\n",
    "x2 = ff[17]\n",
    "y2 = ff[56]\n",
    "p2 = Point(x2, y2, a, b)\n",
    "\n",
    "p3 = Point(None, None, a, b)\n",
    "\n",
    "display(\n",
    "    p1,\n",
    "    p2,\n",
    "    p1 + p2,\n",
    "    p2 + p1,\n",
    "    p1 + p1,\n",
    "    p2 + p2,\n",
    "    p3,\n",
    "    p1 + p3,\n",
    "    p3 + p3,\n",
    ")"
   ]
  },
  {
   "cell_type": "code",
   "execution_count": 46,
   "id": "16faf718-c7c9-4f9c-b682-4b333e766d15",
   "metadata": {},
   "outputs": [],
   "source": [
    "def hash256 (s):\n",
    "    \"\"\" two rounds of sha256 \"\"\"\n",
    "    return hashlib.sha256(hashlib.sha256(s).digest()).digest()\n",
    "\n",
    "A = 0\n",
    "B = 7\n",
    "P = 2**256 - 2**32 - 977\n",
    "N = 0xfffffffffffffffffffffffffffffffebaaedce6af48a03bbfd25e8cd0364141\n",
    "\n",
    "class S256Field (FieldElement):\n",
    "    def __init__ (self, num, prime=None):\n",
    "        super().__init__(num=num, prime=P)\n",
    "    def __repr__ (self):\n",
    "        return '{:x}'.format(self.num).zfill(64)\n",
    "    \n",
    "class S256Point (Point):\n",
    "    def __init__ (self, x, y, a=None, b=None):\n",
    "        a, b = S256Field(A), S256Field(B)\n",
    "        if type(x) == int:\n",
    "            super().__init__(x=S256Field(x), y=S256Field(y), a=a, b=b)\n",
    "        else:\n",
    "            super().__init__(x=x, y=y, a=a, b=b)\n",
    "    def __repr__ (self):\n",
    "        if self.x is None:\n",
    "            return 'S256Point(infinity)'\n",
    "        else:\n",
    "            return f'S256Point({self.x}, {self.y})'\n",
    "    def __rmul__ (self, coefficient):\n",
    "        coef = coefficient % N\n",
    "        return super().__rmul__(coef)\n",
    "    def verify (self, z, sig):\n",
    "        s_inv = pow(sig.s, N - 2, N)\n",
    "        u = z * s_inv % N\n",
    "        v = sig.r * s_inv % N\n",
    "        total = u * G + v * self\n",
    "        return total.x.num == sig.r\n",
    "    \n",
    "G = S256Point(\n",
    "    0x79be667ef9dcbbac55a06295ce870b07029bfcdb2dce28d959f2815b16f81798,\n",
    "    0x483ada7726a3c4655da4fbfc0e1108a8fd17b448a68554199c47d08ffb10d4b8\n",
    ")\n",
    "\n",
    "class Signature:\n",
    "    def __init__ (self, r, s):\n",
    "        self.r = r\n",
    "        self.s = s\n",
    "    def __repr__ (self):\n",
    "        return 'Signature({:x},{:x})'.format(self.r, self.s)\n",
    "    \n",
    "class PrivateKey:\n",
    "    def __init__ (self, secret):\n",
    "        self.secret = secret\n",
    "        self.point = secret * G\n",
    "    def hex (self):\n",
    "        return '{:x}'.format(self.secret).zfill(64)\n",
    "    def sign (self, z):\n",
    "        k = self.deterministic_k(z)\n",
    "        r = (k * G).x.num\n",
    "        k_inv = pow(k, N - 2, N)\n",
    "        s = (z + r * self.secret) * k_inv % N\n",
    "        if s > N / 2:\n",
    "            s = N - s\n",
    "        return Signature(r, s)\n",
    "    def deterministic_k (self, z):\n",
    "        k = b'\\x00' * 32\n",
    "        v = b'\\x01' * 32\n",
    "        if z > N:\n",
    "            z -= N\n",
    "        z_bytes = z.to_bytes(32, 'big')\n",
    "        secret_bytes = self.secret.to_bytes(32, 'big')\n",
    "        s256 = hashlib.sha256\n",
    "        k = hmac.new(k, v + b'\\x00' + secret_bytes + z_bytes, s256).digest()\n",
    "        v = hmac.new(k, v, s256).digest()\n",
    "        while True:\n",
    "            v = hmac.new(k, v, s256).digest()\n",
    "            candidate = int.from_bytes(v, 'big')\n",
    "            if candidate >= 1 and candidate < N:\n",
    "                return candidate\n",
    "            k = hmac.new(k, v + b'\\x00', s256).digest()\n",
    "            v = hmac.new(k, v, s256).digest()"
   ]
  },
  {
   "cell_type": "markdown",
   "id": "a6a608de-3f95-4fa0-b76c-6e7675061f32",
   "metadata": {},
   "source": [
    "---"
   ]
  },
  {
   "cell_type": "code",
   "execution_count": 47,
   "id": "f4f78c6e-5131-461a-bc98-06ea8cfcbaa4",
   "metadata": {},
   "outputs": [
    {
     "name": "stderr",
     "output_type": "stream",
     "text": [
      ".\n",
      "----------------------------------------------------------------------\n",
      "Ran 1 test in 0.001s\n",
      "\n",
      "OK\n",
      ".\n",
      "----------------------------------------------------------------------\n",
      "Ran 1 test in 0.001s\n",
      "\n",
      "OK\n",
      ".\n",
      "----------------------------------------------------------------------\n",
      "Ran 1 test in 0.001s\n",
      "\n",
      "OK\n",
      ".\n",
      "----------------------------------------------------------------------\n",
      "Ran 1 test in 0.001s\n",
      "\n",
      "OK\n",
      ".\n",
      "----------------------------------------------------------------------\n",
      "Ran 1 test in 0.001s\n",
      "\n",
      "OK\n",
      ".\n",
      "----------------------------------------------------------------------\n",
      "Ran 1 test in 0.001s\n",
      "\n",
      "OK\n",
      ".\n",
      "----------------------------------------------------------------------\n",
      "Ran 1 test in 0.001s\n",
      "\n",
      "OK\n",
      ".\n",
      "----------------------------------------------------------------------\n",
      "Ran 1 test in 0.001s\n",
      "\n",
      "OK\n",
      ".\n",
      "----------------------------------------------------------------------\n",
      "Ran 1 test in 0.001s\n",
      "\n",
      "OK\n",
      ".\n",
      "----------------------------------------------------------------------\n",
      "Ran 1 test in 0.001s\n",
      "\n",
      "OK\n",
      ".\n",
      "----------------------------------------------------------------------\n",
      "Ran 1 test in 0.001s\n",
      "\n",
      "OK\n",
      "E\n",
      "======================================================================\n",
      "ERROR: test_add (__main__.ECCTest)\n",
      "----------------------------------------------------------------------\n",
      "Traceback (most recent call last):\n",
      "  File \"<ipython-input-47-09572a148a0c>\", line 121, in test_add\n",
      "    raise NotImplementedError\n",
      "NotImplementedError\n",
      "\n",
      "----------------------------------------------------------------------\n",
      "Ran 1 test in 0.001s\n",
      "\n",
      "FAILED (errors=1)\n",
      ".\n",
      "----------------------------------------------------------------------\n",
      "Ran 1 test in 0.001s\n",
      "\n",
      "OK\n"
     ]
    }
   ],
   "source": [
    "from unittest import TestCase, TestSuite, TextTestRunner\n",
    "\n",
    "class FieldElementTest (TestCase):\n",
    "\n",
    "    def test_ne(self):\n",
    "        a = FieldElement(2, 31)\n",
    "        b = FieldElement(2, 31)\n",
    "        c = FieldElement(15, 31)\n",
    "        self.assertEqual(a, b)\n",
    "        self.assertTrue(a != c)\n",
    "        self.assertFalse(a != b)\n",
    "\n",
    "    def test_add(self):\n",
    "        a = FieldElement(2, 31)\n",
    "        b = FieldElement(15, 31)\n",
    "        self.assertEqual(a + b, FieldElement(17, 31))\n",
    "        a = FieldElement(17, 31)\n",
    "        b = FieldElement(21, 31)\n",
    "        self.assertEqual(a + b, FieldElement(7, 31))\n",
    "\n",
    "    def test_sub(self):\n",
    "        a = FieldElement(29, 31)\n",
    "        b = FieldElement(4, 31)\n",
    "        self.assertEqual(a - b, FieldElement(25, 31))\n",
    "        a = FieldElement(15, 31)\n",
    "        b = FieldElement(30, 31)\n",
    "        self.assertEqual(a - b, FieldElement(16, 31))\n",
    "\n",
    "    def test_mul(self):\n",
    "        a = FieldElement(24, 31)\n",
    "        b = FieldElement(19, 31)\n",
    "        self.assertEqual(a * b, FieldElement(22, 31))\n",
    "\n",
    "    def test_pow(self):\n",
    "        a = FieldElement(17, 31)\n",
    "        self.assertEqual(a**3, FieldElement(15, 31))\n",
    "        a = FieldElement(5, 31)\n",
    "        b = FieldElement(18, 31)\n",
    "        self.assertEqual(a**5 * b, FieldElement(16, 31))\n",
    "\n",
    "    def test_div(self):\n",
    "        a = FieldElement(3, 31)\n",
    "        b = FieldElement(24, 31)\n",
    "        self.assertEqual(a / b, FieldElement(4, 31))\n",
    "        a = FieldElement(17, 31)\n",
    "        self.assertEqual(a**-3, FieldElement(29, 31))\n",
    "        a = FieldElement(4, 31)\n",
    "        b = FieldElement(11, 31)\n",
    "        self.assertEqual(a**-4 * b, FieldElement(13, 31))\n",
    "        \n",
    "class PointTest (TestCase):\n",
    "    \n",
    "    def test_ne(self):\n",
    "        a = Point(x=3, y=-7, a=5, b=7)\n",
    "        b = Point(x=18, y=77, a=5, b=7)\n",
    "        self.assertTrue(a != b)\n",
    "        self.assertFalse(a != a)\n",
    "        \n",
    "    def test_on_curve (self):\n",
    "        with self.assertRaises(ValueError):\n",
    "            Point(x=-2, y=4, a=5, b=7)\n",
    "        # these should not raise an error\n",
    "        Point(x=3, y=-7, a=5, b=7)\n",
    "        Point(x=18, y=77, a=5, b=7)\n",
    "\n",
    "    def test_add0(self):\n",
    "        a = Point(x=None, y=None, a=5, b=7)\n",
    "        b = Point(x=2, y=5, a=5, b=7)\n",
    "        c = Point(x=2, y=-5, a=5, b=7)\n",
    "        self.assertEqual(a + b, b)\n",
    "        self.assertEqual(b + a, b)\n",
    "        self.assertEqual(b + c, a)\n",
    "\n",
    "    def test_add1(self):\n",
    "        a = Point(x=3, y=7, a=5, b=7)\n",
    "        b = Point(x=-1, y=-1, a=5, b=7)\n",
    "        self.assertEqual(a + b, Point(x=2, y=-5, a=5, b=7))\n",
    "\n",
    "    def test_add2(self):\n",
    "        a = Point(x=-1, y=-1, a=5, b=7)\n",
    "        self.assertEqual(a + a, Point(x=18, y=77, a=5, b=7))\n",
    "        \n",
    "class ECCTest (TestCase):\n",
    "    \n",
    "    def test_on_curve (self):\n",
    "        prime = 223\n",
    "        a = FieldElement(0, prime)\n",
    "        b = FieldElement(7, prime)\n",
    "        valid_points = ((192, 105), (17, 56), (1, 193))\n",
    "        invalid_points = ((200, 119), (42, 99))\n",
    "        for x_raw, y_raw in valid_points:\n",
    "            x = FieldElement(x_raw, prime)\n",
    "            y = FieldElement(y_raw, prime)\n",
    "            Point(x, y, a, b)\n",
    "        for x_raw, y_raw in invalid_points:\n",
    "            x = FieldElement(x_raw, prime)\n",
    "            y = FieldElement(y_raw, prime)\n",
    "            with self.assertRaises(ValueError):\n",
    "                Point(x, y, a, b)\n",
    "                \n",
    "    def test_add (self):\n",
    "        # tests the following additions on curve y^2=x^3-7 over F_223:\n",
    "        # (192,105) + (17,56)\n",
    "        # (47,71) + (117,141)\n",
    "        # (143,98) + (76,66)\n",
    "        prime = 223\n",
    "        a = FieldElement(0, prime)\n",
    "        b = FieldElement(7, prime)\n",
    "        \n",
    "        additions = (\n",
    "            # (x1, y1, x2, y2, x3, y3)\n",
    "            (192, 105, 17, 56, 170, 142),\n",
    "            (47, 71, 117, 141, 60, 139),\n",
    "            (143, 98, 76, 66, 47, 71),\n",
    "        )\n",
    "        \n",
    "        # loop over additions\n",
    "        # initialize x's and y's as FieldElements\n",
    "        # create p1, p2, and p3 as Points\n",
    "        # check p1 + p2 == p3\n",
    "        raise NotImplementedError\n",
    "        \n",
    "    def test_rmul (self):\n",
    "        # tests the following scalar multiplications\n",
    "        # 2*(192,105)\n",
    "        # 2*(143,98)\n",
    "        # 2*(47,71)\n",
    "        # 4*(47,71)\n",
    "        # 8*(47,71)\n",
    "        # 21*(47,71)\n",
    "        prime = 223\n",
    "        a = FieldElement(0, prime)\n",
    "        b = FieldElement(7, prime)\n",
    "        \n",
    "        multiplications = (\n",
    "            # (coefficient, x1, y1, x2, y2)\n",
    "            (2, 192, 105, 49, 71),\n",
    "            (2, 143, 98, 64, 168),\n",
    "            (2, 47, 71, 36, 111),\n",
    "            (4, 47, 71, 194, 51),\n",
    "            (8, 47, 71, 116, 55),\n",
    "            (21, 47, 71, None, None),\n",
    "        )\n",
    "        \n",
    "        for s, x1_raw, y1_raw, x2_raw, y2_raw in multiplications:\n",
    "            x1 = FieldElement(x1_raw, prime)\n",
    "            y1 = FieldElement(y1_raw, prime)\n",
    "            p1 = Point(x1, y1, a, b)\n",
    "            # initiate the second point based on whether it's the point at infinity\n",
    "            if x2_raw is None:\n",
    "                p2 = Point(None, None, a, b)\n",
    "            else:\n",
    "                x2 = FieldElement(x2_raw, prime)\n",
    "                y2 = FieldElement(y2_raw, prime)\n",
    "                p2 = Point(x2, y2, a, b)\n",
    "                \n",
    "            # check that the product is equal to the expected point\n",
    "            self.assertEqual(s * p1, p2)\n",
    "            \n",
    "class S256Test (TestCase):\n",
    "    \n",
    "    def test_order (self):\n",
    "        point = N * G\n",
    "        self.assertIsNone(point.x)\n",
    "        \n",
    "    def test_pubpoint (self):\n",
    "        # write a test that tests the public point for the following\n",
    "        points = (\n",
    "            # secret, x, y\n",
    "            (7, 0x5cbdf0646e5db4eaa398f365f2ea7a0e3d419b7e0330e39ce92bddedcac4f9bc, 0x6aebca40ba255960a3178d6d861a54dba813d0b813fde7b5a5082628087264da),\n",
    "            (1485, 0xc982196a7466fbbbb0e27a940b6af926c1a74d5ad07128c82824a11b5398afda, 0x7a91f9eae64438afb9ce6448a1c133db2d8fb9254e4546b6f001637d50901f55),\n",
    "            (2**128, 0x8f68b9d2f63b5f339239c1ad981f162ee88c5678723ea3351b7b444c9ec4c0da, 0x662a9f2dba063986de1d90c2b6be215dbbea2cfe95510bfdf23cbf79501fff82),\n",
    "            (2**240 + 2**31, 0x9577ff57c8234558f293df502ca4f09cbc65a6572c842b39b366f21717945116, 0x10b49c67fa9365ad7b90dab070be339a1daf9052373ec30ffae4f72d5e66d053),\n",
    "        )\n",
    "        \n",
    "        # iterate over points\n",
    "        for secret, x, y in points:\n",
    "            # initialize the secp256k1 point (S256Point)\n",
    "            point = S256Point(x, y)\n",
    "            # check that the secret * G is the same as the point\n",
    "            self.assertEqual(secret * G, point)\n",
    "            \n",
    "    def test_verify (self):\n",
    "        point = S256Point(\n",
    "            0x887387e452b8eacc4acfde10d9aaf7f6d9a0f975aabb10d006e4da568744d06c,\n",
    "            0x61de6d95231cd89026e286df3b6ae4a894a3378e393e93a0f45b666329a0ae34)\n",
    "        z = 0xec208baa0fc1c19f708a9ca96fdeff3ac3f230bb4a7ba4aede4942ad003c0f60\n",
    "        r = 0xac8d1c87e51d0d441be8b3dd5b05c8795b48875dffe00b7ffcfac23010d3a395\n",
    "        s = 0x68342ceff8935ededd102dd876ffd6ba72d6a427a3edb13d26eb0781cb423c4\n",
    "        self.assertTrue(point.verify(z, Signature(r, s)))\n",
    "        z = 0x7c076ff316692a3d7eb3c3bb0f8b1488cf72e1afcd929e29307032997a838a3d\n",
    "        r = 0xeff69ef2b1bd93a66ed5219add4fb51e11a840f404876325a1e8ffe0529a2c\n",
    "        s = 0xc7207fee197d27c618aea621406f6bf5ef6fca38681d82b2f06fddbdce6feab6\n",
    "        self.assertTrue(point.verify(z, Signature(r, s)))\n",
    "        \n",
    "class PrivateKeyTest (TestCase):\n",
    "    def test_sign (self):\n",
    "        pk = PrivateKey(randint(0, N))\n",
    "        z = randint(0, 2**256)\n",
    "        sig = pk.sign(z)\n",
    "        self.assertTrue(pk.point.verify(z, sig))\n",
    "    \n",
    "def run (test):\n",
    "    suite = TestSuite()\n",
    "    suite.addTest(test)\n",
    "    TextTestRunner().run(suite)\n",
    "\n",
    "run(FieldElementTest('test_ne'))\n",
    "run(FieldElementTest('test_add'))\n",
    "run(FieldElementTest('test_sub'))\n",
    "run(FieldElementTest('test_mul'))\n",
    "run(FieldElementTest('test_pow'))\n",
    "run(FieldElementTest('test_div'))\n",
    "\n",
    "run(PointTest('test_ne'))\n",
    "run(PointTest('test_add0'))\n",
    "run(PointTest('test_add1'))\n",
    "run(PointTest('test_add2'))\n",
    "\n",
    "run(ECCTest('test_on_curve'))\n",
    "run(ECCTest('test_add'))\n",
    "run(ECCTest('test_rmul'))"
   ]
  },
  {
   "cell_type": "markdown",
   "id": "9df60621-d25b-41ac-8ffb-f9e3e74d8702",
   "metadata": {},
   "source": [
    "---"
   ]
  }
 ],
 "metadata": {
  "kernelspec": {
   "display_name": "Python 3",
   "language": "python",
   "name": "python3"
  },
  "language_info": {
   "codemirror_mode": {
    "name": "ipython",
    "version": 3
   },
   "file_extension": ".py",
   "mimetype": "text/x-python",
   "name": "python",
   "nbconvert_exporter": "python",
   "pygments_lexer": "ipython3",
   "version": "3.8.2"
  }
 },
 "nbformat": 4,
 "nbformat_minor": 5
}
