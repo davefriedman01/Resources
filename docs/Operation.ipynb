{
 "cells": [
  {
   "cell_type": "markdown",
   "id": "1700db0d-b3e3-4e78-af03-6c26760eecb2",
   "metadata": {},
   "source": [
    "# Structures"
   ]
  },
  {
   "cell_type": "markdown",
   "id": "5f1c0eaa-fbc9-4873-ad8a-24600966eb54",
   "metadata": {},
   "source": [
    "---"
   ]
  },
  {
   "cell_type": "markdown",
   "id": "665a9d1a-ba6a-4619-b5c9-7fb294e316b6",
   "metadata": {},
   "source": [
    "<span style=\"color: blue; font-size: 20px;\">**Operation**</span>"
   ]
  },
  {
   "cell_type": "markdown",
   "id": "8f3368f8-6999-4971-b0ae-14d575493386",
   "metadata": {},
   "source": [
    "An operation may also be called a function or a computation."
   ]
  },
  {
   "cell_type": "markdown",
   "id": "9ebb2583-0a8d-4ed9-855a-435e10ebd82c",
   "metadata": {},
   "source": [
    "Let $A$ be a nonempty set.<br>\n",
    "For example, a __unary operation__ on $A$ is a function from $A$ to $A$.<br>\n",
    "A __binary operation__ on $A$ is a function from $A \\times A$ to $A$.<br>\n",
    "A __ternary operation__ on $A$ is a function from $A \\times A \\times A$ to $A$.<br>\n",
    "In general, an __$n$-ary operation__ on $A$ is a function from $\\underbrace{A \\times A \\times ... \\times A}_{n \\,\\text{times}}$ to $A$.<br>"
   ]
  },
  {
   "cell_type": "markdown",
   "id": "2b12f898-70d5-427a-86fc-5ade0947ddc2",
   "metadata": {},
   "source": [
    "---"
   ]
  },
  {
   "cell_type": "markdown",
   "id": "f0fa64a4-f9f3-47d4-bcd4-755ce9ab955a",
   "metadata": {},
   "source": [
    "<span style=\"color: blue; font-size: 20px;\">**Structure**</span>"
   ]
  },
  {
   "cell_type": "markdown",
   "id": "9561cdd6-a374-4132-ac87-7eb87dccd224",
   "metadata": {},
   "source": [
    "A structure is a nonempty set $A$ with a collection of one or more operations on $A$ and a possibly empty collection of relations on $A$.<br>\n",
    "A structure may also be called an algebraic structure or an algebraic system.<br>"
   ]
  },
  {
   "cell_type": "markdown",
   "id": "d415c282-a089-436d-891d-83ea65c05319",
   "metadata": {},
   "source": [
    "Examples of structures:\n",
    "\n",
    "$(\\mathbb{R}, +, \\cdot, \\lt)$"
   ]
  }
 ],
 "metadata": {
  "kernelspec": {
   "display_name": "Python 3",
   "language": "python",
   "name": "python3"
  },
  "language_info": {
   "codemirror_mode": {
    "name": "ipython",
    "version": 3
   },
   "file_extension": ".py",
   "mimetype": "text/x-python",
   "name": "python",
   "nbconvert_exporter": "python",
   "pygments_lexer": "ipython3",
   "version": "3.8.2"
  }
 },
 "nbformat": 4,
 "nbformat_minor": 5
}
