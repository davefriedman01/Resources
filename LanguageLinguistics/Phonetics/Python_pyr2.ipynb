{
 "cells": [
  {
   "cell_type": "code",
   "execution_count": 2,
   "id": "e3092a11",
   "metadata": {},
   "outputs": [],
   "source": [
    "import numpy as np\n",
    "import pandas as pd\n",
    "\n",
    "import statsmodels.formula.api as sm\n",
    "\n",
    "import rpy2.robjects as ros\n",
    "from rpy2.robjects.packages import importr\n",
    "%load_ext rpy2.ipython"
   ]
  },
  {
   "cell_type": "code",
   "execution_count": 4,
   "id": "50586c7e",
   "metadata": {},
   "outputs": [],
   "source": [
    "# R imports\n",
    "#r_dplyr     = importr('dplyr', '/opt/anaconda3/envs/test_b/lib/R/library')     # library(dplyr)\n",
    "r_ggplot2   = importr('ggplot2')   # library(ggplot2)\n",
    "r_readr     = importr('readr')     # library(readr)\n",
    "r_repr      = importr('repr')      # library(repr)\n",
    "r_scales    = importr('scales')    # library(scales)\n",
    "r_tidyverse = importr('tidyverse') # library(tidyverse)\n",
    "\n",
    "# phonR\n",
    "# vowels"
   ]
  },
  {
   "cell_type": "code",
   "execution_count": null,
   "id": "ef85bc31",
   "metadata": {},
   "outputs": [],
   "source": []
  }
 ],
 "metadata": {
  "kernelspec": {
   "display_name": "Python 3",
   "language": "python",
   "name": "python3"
  },
  "language_info": {
   "codemirror_mode": {
    "name": "ipython",
    "version": 3
   },
   "file_extension": ".py",
   "mimetype": "text/x-python",
   "name": "python",
   "nbconvert_exporter": "python",
   "pygments_lexer": "ipython3",
   "version": "3.8.2"
  }
 },
 "nbformat": 4,
 "nbformat_minor": 5
}
