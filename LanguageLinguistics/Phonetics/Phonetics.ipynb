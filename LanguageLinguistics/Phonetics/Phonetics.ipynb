{
 "cells": [
  {
   "cell_type": "code",
   "execution_count": 7,
   "metadata": {},
   "outputs": [
    {
     "data": {
      "text/html": [
       "'/opt/anaconda3/envs/test_b/lib/R/library'"
      ],
      "text/latex": [
       "'/opt/anaconda3/envs/test\\_b/lib/R/library'"
      ],
      "text/markdown": [
       "'/opt/anaconda3/envs/test_b/lib/R/library'"
      ],
      "text/plain": [
       "[1] \"/opt/anaconda3/envs/test_b/lib/R/library\""
      ]
     },
     "metadata": {},
     "output_type": "display_data"
    }
   ],
   "source": [
    ".libPaths()"
   ]
  },
  {
   "cell_type": "code",
   "execution_count": 1,
   "metadata": {},
   "outputs": [
    {
     "ename": "ERROR",
     "evalue": "Error: package or namespace load failed for ‘ggplot2’ in loadNamespace(j <- i[[1L]], c(lib.loc, .libPaths()), versionCheck = vI[[j]]):\n there is no package called ‘tibble’\n",
     "output_type": "error",
     "traceback": [
      "Error: package or namespace load failed for ‘ggplot2’ in loadNamespace(j <- i[[1L]], c(lib.loc, .libPaths()), versionCheck = vI[[j]]):\n there is no package called ‘tibble’\nTraceback:\n",
      "1. library(ggplot2)",
      "2. tryCatch({\n .     attr(package, \"LibPath\") <- which.lib.loc\n .     ns <- loadNamespace(package, lib.loc)\n .     env <- attachNamespace(ns, pos = pos, deps, exclude, include.only)\n . }, error = function(e) {\n .     P <- if (!is.null(cc <- conditionCall(e))) \n .         paste(\" in\", deparse(cc)[1L])\n .     else \"\"\n .     msg <- gettextf(\"package or namespace load failed for %s%s:\\n %s\", \n .         sQuote(package), P, conditionMessage(e))\n .     if (logical.return) \n .         message(paste(\"Error:\", msg), domain = NA)\n .     else stop(msg, call. = FALSE, domain = NA)\n . })",
      "3. tryCatchList(expr, classes, parentenv, handlers)",
      "4. tryCatchOne(expr, names, parentenv, handlers[[1L]])",
      "5. value[[3L]](cond)",
      "6. stop(msg, call. = FALSE, domain = NA)"
     ]
    }
   ],
   "source": [
    "library(ggplot2)\n",
    "library(readr)\n",
    "library(dplyr)\n",
    "\n",
    "library(tidyverse)\n",
    "library(scales)\n",
    "library(repr)\n",
    "# phonR\n",
    "# vowels"
   ]
  },
  {
   "cell_type": "code",
   "execution_count": null,
   "metadata": {},
   "outputs": [],
   "source": [
    "installed.packages()"
   ]
  },
  {
   "cell_type": "markdown",
   "metadata": {},
   "source": [
    "---"
   ]
  },
  {
   "cell_type": "code",
   "execution_count": null,
   "metadata": {},
   "outputs": [],
   "source": [
    "data<-read.csv('student_vowels_avg.csv')\n",
    "data\n",
    "\n",
    "#read.csv('korean_vowels_example.csv')\n",
    "#read.delim('korean_vowels_example.csv', sep=',', encoding='UTF-8')"
   ]
  },
  {
   "cell_type": "code",
   "execution_count": null,
   "metadata": {},
   "outputs": [],
   "source": [
    "options(repr.plot.width=10, repr.plot.height=4)\n",
    "\n",
    "plt <- ggplot(data, aes(x=F2_Hz, y=F1_Hz, label=Vowel, color=Vowel))+\n",
    "geom_text()+\n",
    "scale_x_reverse()+\n",
    "scale_y_reverse()+\n",
    "theme(legend.position='none')\n",
    "\n",
    "suppressWarnings(print(plt))\n",
    "# https://stackoverflow.com/questions/13286531/how-to-suppress-warnings-when-plotting-with-ggplot"
   ]
  },
  {
   "cell_type": "markdown",
   "metadata": {},
   "source": [
    "---"
   ]
  },
  {
   "cell_type": "code",
   "execution_count": null,
   "metadata": {},
   "outputs": [],
   "source": [
    "#https://guilhermegarcia.github.io/vowels.html\n",
    "set.seed(10)"
   ]
  },
  {
   "cell_type": "code",
   "execution_count": null,
   "metadata": {},
   "outputs": [],
   "source": [
    "vowels = data.frame(\n",
    "    vowel = rep(c('a', 'e', 'i', 'o', 'u'), each=50),\n",
    "    F1 = c(rnorm(50, mean=800, sd=100),\n",
    "           rnorm(50, mean=600, sd=100),\n",
    "           rnorm(50, mean=350, sd=100),\n",
    "           rnorm(50, mean=600, sd=100),\n",
    "           rnorm(50, mean=350, sd=100)),\n",
    "    F2 = c(rnorm(50, mean=1500, sd=150),\n",
    "           rnorm(50, mean=2000, sd=150),\n",
    "           rnorm(50, mean=2500, sd=150),\n",
    "           rnorm(50, mean=1000, sd=150),\n",
    "           rnorm(50, mean=800, sd=150))\n",
    ")\n",
    "vowels"
   ]
  },
  {
   "cell_type": "code",
   "execution_count": null,
   "metadata": {},
   "outputs": [],
   "source": [
    "options(repr.plot.width=10, repr.plot.height=4)\n",
    "\n",
    "plt <- ggplot(data=vowels, aes(x=F2, y=F1, color=vowel, label=vowel))+\n",
    "geom_text(size=4)+ # font size\n",
    "#scale_x_reverse(\n",
    "#    position='top',\n",
    "#    labels=unit_format(unit='Hz', sep=''),\n",
    "#    breaks=seq(200, 3000, 500))+\n",
    "#scale_y_reverse(\n",
    "#    position='right',\n",
    "#    labels=unit_format(unit='Hz', sep=''),\n",
    "#    breaks=seq(100, 1000, 250))+\n",
    "#labs(\n",
    "#    x='F2\\n',\n",
    "#    y='F1\\n',\n",
    "#    title='Density Plot')+\n",
    "#geom_density_2d(alpha=0.3)+\n",
    "coord_cartesian(\n",
    "    xlim=c(3000, 200),\n",
    "    ylim=c(1000, 100))+\n",
    "theme_classic()+\n",
    "theme(\n",
    "    legend.position='none',\n",
    "    plot.title=element_text(hjust=0.5), # center plot title\n",
    "    text=element_text(size=13))         # plot font size\n",
    "\n",
    "plt"
   ]
  },
  {
   "cell_type": "code",
   "execution_count": null,
   "metadata": {},
   "outputs": [],
   "source": [
    "options(repr.plot.width=10, repr.plot.height=4)\n",
    "\n",
    "plt <- ggplot(data=vowels, aes(x=F2, y=F1, color=vowel, label=vowel))+\n",
    "geom_text(size=6)+ # font size\n",
    "scale_x_reverse(\n",
    "    position='top',\n",
    "    labels=unit_format(unit='Hz', sep=''),\n",
    "    breaks=seq(200, 3000, 500))+\n",
    "scale_y_reverse(\n",
    "    position='right',\n",
    "    labels=unit_format(unit='Hz', sep=''),\n",
    "    breaks=seq(100, 1000, 250))+\n",
    "labs(\n",
    "    x='F2\\n',\n",
    "    y='F1\\n',\n",
    "    title='Density Plot')+\n",
    "geom_density_2d(alpha=0.3)+\n",
    "coord_cartesian(\n",
    "    xlim=c(3000, 200),\n",
    "    ylim=c(1000, 100))+\n",
    "theme_light()+\n",
    "theme(\n",
    "    legend.position='none',\n",
    "    plot.title=element_text(hjust=0.5), # center plot title\n",
    "    text=element_text(size=13))         # plot font size\n",
    "\n",
    "plt"
   ]
  },
  {
   "cell_type": "code",
   "execution_count": null,
   "metadata": {},
   "outputs": [],
   "source": [
    "options(repr.plot.width=10, repr.plot.height=4)\n",
    "\n",
    "plt <- ggplot(data=vowels, aes(x=F2, y=F1, color=vowel, label=vowel))+\n",
    "geom_text(size=6)+ # font size\n",
    "scale_x_reverse(\n",
    "    position='top',\n",
    "    labels=unit_format(unit='Hz', sep=''),\n",
    "    breaks=seq(200, 3000, 500))+\n",
    "scale_y_reverse(\n",
    "    position='right',\n",
    "    labels=unit_format(unit='Hz', sep=''),\n",
    "    breaks=seq(100, 1000, 250))+\n",
    "labs(\n",
    "    x='F2\\n',\n",
    "    y='F1\\n',\n",
    "    title='Density Plot')+\n",
    "stat_ellipse(type='norm', alpha=0.3)+\n",
    "coord_cartesian(\n",
    "    xlim=c(3000, 200),\n",
    "    ylim=c(1000, 100))+\n",
    "theme_classic()+\n",
    "theme(\n",
    "    legend.position='none',\n",
    "    plot.title=element_text(hjust=0.5), # center plot title\n",
    "    text=element_text(size=13))         # plot font size\n",
    "\n",
    "plt"
   ]
  },
  {
   "cell_type": "code",
   "execution_count": null,
   "metadata": {},
   "outputs": [],
   "source": [
    "means <- vowels %>% group_by(vowel) %>% summarize(meanF1=mean(F1),\n",
    "                                                  meanF2=mean(F2),\n",
    "                                                  seF1=sd(F1)/sqrt(n()),\n",
    "                                                  seF2=sd(F2)/sqrt(n()))\n",
    "means"
   ]
  },
  {
   "cell_type": "code",
   "execution_count": null,
   "metadata": {},
   "outputs": [],
   "source": [
    "options(repr.plot.width=10, repr.plot.height=4)\n",
    "\n",
    "plt <- ggplot(data=means, aes(x=meanF2, y=meanF1, label=vowel))+\n",
    "geom_errorbar(aes(ymin=meanF1-seF1, ymax=meanF1+seF1), width=0)+\n",
    "geom_errorbarh(aes(xmin=meanF2-seF2, xmax=meanF2+seF2), height=0)+\n",
    "geom_text(position=position_nudge(x=50, y=50), size=5)+\n",
    "scale_x_reverse(position='top', labels=unit_format(unit='Hz', sep=''))+\n",
    "scale_y_reverse(position='right', labels=unit_format(unit='Hz', sep=''))+\n",
    "labs(x='F2\\n', y='F1\\n')+\n",
    "theme_light()\n",
    "\n",
    "plt"
   ]
  },
  {
   "cell_type": "code",
   "execution_count": null,
   "metadata": {},
   "outputs": [],
   "source": [
    "options(repr.plot.width=10, repr.plot.height=4)\n",
    "\n",
    "plt <- ggplot(data=means, aes(x=meanF2, y=meanF1, color=vowel, label=vowel))+\n",
    "geom_label(size=6)+ # font size\n",
    "scale_x_reverse(\n",
    "    position='top',\n",
    "    labels=unit_format(unit='Hz', sep=''),\n",
    "    breaks=seq(200, 3000, 500))+\n",
    "scale_y_reverse(\n",
    "    position='right',\n",
    "    labels=unit_format(unit='Hz', sep=''),\n",
    "    breaks=seq(100, 1000, 250))+\n",
    "labs(\n",
    "    x='F2\\n',\n",
    "    y='F1\\n',\n",
    "    title='Density Plot')+\n",
    "stat_ellipse(data=vowels, aes(x=F2, y=F1), type='norm')+\n",
    "coord_cartesian(\n",
    "    xlim=c(3000, 200),\n",
    "    ylim=c(1000, 100))+\n",
    "theme_classic()+\n",
    "theme(\n",
    "    legend.position='none',\n",
    "    plot.title=element_text(hjust=0.5), # center plot title\n",
    "    text=element_text(size=13))         # plot font size\n",
    "\n",
    "plt"
   ]
  },
  {
   "cell_type": "markdown",
   "metadata": {},
   "source": [
    "---"
   ]
  },
  {
   "cell_type": "code",
   "execution_count": null,
   "metadata": {},
   "outputs": [],
   "source": [
    "words.f <- c(17667, 15347, 14401, 5037, 20845, 11211, 6008, 17140, 13284, 10930)\n",
    "words.m <- c(5599, 19776, 13961, 10144, 6107, 16776, 31955, 21140, 5482, 2152)\n",
    "words <- c(words.f, words.m)\n",
    "age <- c(24, 31, 28, 21, 29, 29, 25, 32, 30, 31, 33, 26, 22, 24, 23, 23, 20, 21, 29, 27)"
   ]
  },
  {
   "cell_type": "code",
   "execution_count": null,
   "metadata": {},
   "outputs": [],
   "source": [
    "mean(words)\n",
    "median(words)\n",
    "min(words)\n",
    "max(words)\n",
    "sd(words)\n",
    "mad(words)"
   ]
  },
  {
   "cell_type": "code",
   "execution_count": null,
   "metadata": {},
   "outputs": [],
   "source": [
    "summary(words)"
   ]
  },
  {
   "cell_type": "code",
   "execution_count": null,
   "metadata": {},
   "outputs": [],
   "source": [
    "stem(words)"
   ]
  },
  {
   "cell_type": "code",
   "execution_count": null,
   "metadata": {},
   "outputs": [],
   "source": [
    "hist(words)"
   ]
  },
  {
   "cell_type": "code",
   "execution_count": null,
   "metadata": {},
   "outputs": [],
   "source": [
    "boxplot(words)"
   ]
  },
  {
   "cell_type": "code",
   "execution_count": null,
   "metadata": {},
   "outputs": [],
   "source": [
    "boxplot(words.f, words.m)"
   ]
  },
  {
   "cell_type": "code",
   "execution_count": null,
   "metadata": {},
   "outputs": [],
   "source": [
    "cor(words, age)\n",
    "cor(words.f, words.m)"
   ]
  },
  {
   "cell_type": "code",
   "execution_count": null,
   "metadata": {},
   "outputs": [],
   "source": [
    "plot(age, words)"
   ]
  }
 ],
 "metadata": {
  "kernelspec": {
   "display_name": "R",
   "language": "R",
   "name": "ir"
  },
  "language_info": {
   "codemirror_mode": "r",
   "file_extension": ".r",
   "mimetype": "text/x-r-source",
   "name": "R",
   "pygments_lexer": "r",
   "version": "3.6.1"
  }
 },
 "nbformat": 4,
 "nbformat_minor": 4
}
