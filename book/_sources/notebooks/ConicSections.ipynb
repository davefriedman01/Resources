{
 "cells": [
  {
   "cell_type": "markdown",
   "id": "befacd88-c891-4124-b282-fea1512770d5",
   "metadata": {},
   "source": [
    "# Conic Sections"
   ]
  },
  {
   "cell_type": "markdown",
   "id": "893c631a-5a8c-48ef-9b28-dc2e35831e0e",
   "metadata": {},
   "source": [
    "---"
   ]
  },
  {
   "cell_type": "markdown",
   "id": "2f6bd949-c0ec-4ead-b560-4fd35701e6da",
   "metadata": {},
   "source": [
    "### General form of a quadratic function in two variables\n",
    "A quadratic function is a polynomial function of degree 2.<br>\n",
    "\n",
    "$$\n",
    "\\begin{align}\n",
    "f(x, y)\n",
    "&= a_{20} x^2 + a_{11} x y + a_{02} y^2 + a_{10} x + a_{01} y + a_{00} \\\\\n",
    "&= A x^2 + B x y + C y^2 + D x + E y + F \\\\\n",
    "\\end{align}\n",
    "$$"
   ]
  },
  {
   "cell_type": "markdown",
   "id": "afb5a785-801d-423d-9765-8de954dfec3a",
   "metadata": {},
   "source": [
    "---"
   ]
  },
  {
   "cell_type": "markdown",
   "id": "e3e9919d-1f69-4aa9-b4ba-5fedd4fbdf72",
   "metadata": {},
   "source": [
    "## Ellipse"
   ]
  },
  {
   "cell_type": "markdown",
   "id": "4575b737-f73d-4f8c-9f3a-f6047146e9d7",
   "metadata": {},
   "source": [
    "---"
   ]
  },
  {
   "cell_type": "markdown",
   "id": "6e2a5b23-d535-4e62-a360-7bfb3a47cfdf",
   "metadata": {},
   "source": [
    "## Circle"
   ]
  },
  {
   "cell_type": "markdown",
   "id": "61999cf8-d846-468c-8358-b01ee070c1b8",
   "metadata": {},
   "source": [
    "---"
   ]
  },
  {
   "cell_type": "markdown",
   "id": "74f4b464-dc9a-4d67-b432-978f1e3aded0",
   "metadata": {},
   "source": [
    "## Parabola"
   ]
  },
  {
   "cell_type": "markdown",
   "id": "78ab4963-e1db-4be6-963b-10aa15cc97de",
   "metadata": {},
   "source": [
    "---"
   ]
  },
  {
   "cell_type": "markdown",
   "id": "e6d4e438-d696-438b-bcc5-63c8006a1717",
   "metadata": {},
   "source": [
    "## Hyperbola"
   ]
  },
  {
   "cell_type": "markdown",
   "id": "b952032c-a246-40da-8211-cca879080a5d",
   "metadata": {},
   "source": [
    "---"
   ]
  },
  {
   "cell_type": "markdown",
   "id": "5f76c5f4-e2ec-4f6d-ae7c-934298cd174e",
   "metadata": {},
   "source": [
    "## Terms"
   ]
  },
  {
   "cell_type": "markdown",
   "id": "d6a4a3c5-bcf6-4cf2-9198-db2eb80aad44",
   "metadata": {},
   "source": [
    "Conic Section [Wiki](https://en.wikipedia.org/wiki/Conic_section)<br>"
   ]
  },
  {
   "cell_type": "markdown",
   "id": "74bb1da5-f145-427e-815a-a925edba901b",
   "metadata": {},
   "source": [
    "---"
   ]
  }
 ],
 "metadata": {
  "kernelspec": {
   "display_name": "Python 3",
   "language": "python",
   "name": "python3"
  },
  "language_info": {
   "codemirror_mode": {
    "name": "ipython",
    "version": 3
   },
   "file_extension": ".py",
   "mimetype": "text/x-python",
   "name": "python",
   "nbconvert_exporter": "python",
   "pygments_lexer": "ipython3",
   "version": "3.8.2"
  }
 },
 "nbformat": 4,
 "nbformat_minor": 5
}
