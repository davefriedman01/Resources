{
 "cells": [
  {
   "cell_type": "code",
   "execution_count": 11,
   "id": "178335a6-df8c-4425-b433-0a7bf9ef37be",
   "metadata": {},
   "outputs": [
    {
     "data": {
      "text/plain": [
       "'report excuse roast fruit tonight level next tomato raise habit cause across'"
      ]
     },
     "execution_count": 11,
     "metadata": {},
     "output_type": "execute_result"
    }
   ],
   "source": [
    "import json\n",
    "import os\n",
    "import subprocess\n",
    "\n",
    "from pprint import pprint\n",
    "\n",
    "# Bit\n",
    "#   https://github.com/ofek/bit\n",
    "from bit import PrivateKeyTestnet\n",
    "from bit.network import NetworkAPI\n",
    "\n",
    "# Web3\n",
    "#   https://github.com/ethereum/web3.py\n",
    "from web3 import Account, middleware, Web3\n",
    "from web3.gas_strategies.time_based import medium_gas_price_strategy\n",
    "from web3.middleware import geth_poa_middleware\n",
    "\n",
    "from dotenv import find_dotenv, get_key, load_dotenv\n",
    "mnemonic = get_key(find_dotenv(), 'mnemonic')\n",
    "mnemonic"
   ]
  },
  {
   "cell_type": "code",
   "execution_count": 2,
   "id": "d0c0986f-c398-403b-bfac-8220e2e41752",
   "metadata": {},
   "outputs": [
    {
     "name": "stdout",
     "output_type": "stream",
     "text": [
      "PHP 7.4.20 (cli) (built: Jun  4 2021 03:32:07) ( NTS )\n",
      "Copyright (c) The PHP Group\n",
      "Zend Engine v3.4.0, Copyright (c) Zend Technologies\n",
      "    with Zend OPcache v7.4.20, Copyright (c), by Zend Technologies\n"
     ]
    }
   ],
   "source": [
    "! php -version"
   ]
  },
  {
   "cell_type": "code",
   "execution_count": 3,
   "id": "af44766c-df2b-4883-baec-45837f9828da",
   "metadata": {},
   "outputs": [
    {
     "name": "stdout",
     "output_type": "stream",
     "text": [
      "\n",
      "+------------+------------------------------------+\n",
      "| path       | address                            |\n",
      "+------------+------------------------------------+\n",
      "| m/0'/1'/0' | 1B6q1KTyaa9yLHV2HTZC1rZaSKMG8KNqsp |\n",
      "| m/0'/1'/1' | 15RF1R9ZaSqgtaTVBDm1ySU5MQ6dZeTpZf |\n",
      "| m/0'/1'/2' | 1DpzhgrgWuRSnQjvLiZHMG2TAjs86znvjj |\n",
      "+------------+------------------------------------+\n",
      "\n"
     ]
    }
   ],
   "source": [
    "# hd-wallet-derive\n",
    "#   https://github.com/dan-da/hd-wallet-derive\n",
    "\n",
    "! hd-wallet-derive/hd-wallet-derive.php -g --key=xprv9tyUQV64JT5qs3RSTJkXCWKMyUgoQp7F3hA1xzG6ZGu6u6Q9VMNjGr67Lctvy5P8oyaYAL9CAWrUE9i6GoNMKUga5biW6Hx4tws2six3b9c --numderive=3 --preset=bitcoincore --cols=path,address --path-change"
   ]
  },
  {
   "cell_type": "code",
   "execution_count": 4,
   "id": "cc8986d6-39fc-4e63-a698-e472788a4820",
   "metadata": {},
   "outputs": [],
   "source": [
    "BTC = 'btc'\n",
    "BTCTEST = 'btc-test'\n",
    "ETH = 'eth'"
   ]
  },
  {
   "cell_type": "code",
   "execution_count": 5,
   "id": "b0e3c460-7506-488f-89ae-e37418aedab0",
   "metadata": {},
   "outputs": [],
   "source": [
    "w3 = Web3(Web3.HTTPProvider('http://localhost:8545'))\n",
    "w3.middleware_onion.inject(geth_poa_middleware, layer=0)\n",
    "w3.eth.setGasPriceStrategy(medium_gas_price_strategy)"
   ]
  },
  {
   "cell_type": "code",
   "execution_count": 6,
   "id": "90603080-080a-4900-88ec-d5cbd0cb344e",
   "metadata": {},
   "outputs": [],
   "source": [
    "def derive_wallets (coin=BTC, mnemonic=mnemonic, depth=3):\n",
    "    command = f'php hd-wallet-derive/hd-wallet-derive.php -g --mnemonic=\"{mnemonic}\" --cols=all --coin={coin} --numderive={depth} --format=json'\n",
    "    p = subprocess.Popen(command, stdout=subprocess.PIPE, shell=True)\n",
    "    (output, err) = p.communicate()\n",
    "    p_status = p.wait()\n",
    "    return json.loads(output)\n",
    "\n",
    "def priv_key_to_account (coin, priv_key):\n",
    "    \"\"\"Convert priv_key to an account object that bit or web3 can use to transact.\n",
    "    Parameters\n",
    "    ==========\n",
    "    coin [str]: the coin type\n",
    "    priv_key [str]: a child key's private key\n",
    "    \"\"\"\n",
    "    if coin == ETH:\n",
    "        # https://web3js.readthedocs.io/en/v1.2.0/web3-eth-accounts.html#privatekeytoaccount\n",
    "        return Account.privateKeyToAccount(priv_key)\n",
    "    if coin == BTCTEST:\n",
    "        # convert the private key into a WIF Wallet Import Format object\n",
    "        # ...which is a format used to designate the type of key\n",
    "        # https://ofek.dev/bit/dev/api.html\n",
    "        return PrivateKeyTestnet(priv_key)\n",
    "    \n",
    "def create_tx (coin, account, to, amount):\n",
    "    \"\"\"Create a raw, unsigned transaction that contains the necessary metadata.\n",
    "    Parameters\n",
    "    ==========\n",
    "    coin [str]: the coin type\n",
    "    account [account object]: from priv_key_to_account\n",
    "    to [address]: the recipient address\n",
    "    amount: the amount of the coin to send\n",
    "    \"\"\"\n",
    "    if coin == ETH:\n",
    "        value = w3.toWei(amount, 'ether')\n",
    "        gasEstimate = w3.eth.estimateGas({'to': to, 'from': account, 'amount': value})\n",
    "        return {\n",
    "            'to': to,\n",
    "            'from': account,\n",
    "            'value': value,\n",
    "            'gas': gasEstimate,\n",
    "            'gasPrice': w3.eth.generateGasPrice(),\n",
    "            'nonce': w3.eth.getTransactionCount(account),\n",
    "            'chainId': w3.eth.chain_id,\n",
    "        }\n",
    "    if coin == BTCTEST:\n",
    "        return PrivateKeyTestnet.prepare_transaction(account.address, [(to, amount, BTC)])\n",
    "    \n",
    "def send_tx (coin, account, to, amount):\n",
    "    \"\"\"Call create_tx, sign the transaction, and send it to the designated network.\n",
    "    Parameters\n",
    "    ==========\n",
    "    coin [str]: the coin type\n",
    "    account [account object]: from priv_key_to_account\n",
    "    to [address]: the recipient address\n",
    "    amount: the amount of the coin to send\n",
    "    \"\"\"\n",
    "    if coin == ETH:\n",
    "        raw_tx = create_tx(coin, account.address, to, amount)\n",
    "        signed = account.signTransaction(raw_tx)\n",
    "        return w3.eth.sendRawTransaction(signed.rawTransaction)\n",
    "    if coin == BTCTEST:\n",
    "        raw_tx = create_tx(coin, account, to, amount)\n",
    "        signed = account.sign_transaction(raw_tx)\n",
    "        return NetworkAPI.broadcast_tx_testnet(signed)"
   ]
  },
  {
   "cell_type": "code",
   "execution_count": 7,
   "id": "d139a3fb-045a-4313-a9e3-1e2477b78a40",
   "metadata": {},
   "outputs": [],
   "source": [
    "coins = {\n",
    "    ETH: derive_wallets(coin=ETH),\n",
    "    BTCTEST: derive_wallets(coin=BTCTEST),\n",
    "}"
   ]
  },
  {
   "cell_type": "code",
   "execution_count": 8,
   "id": "4075880d-b2ab-4882-80fe-b53bfcb03842",
   "metadata": {},
   "outputs": [
    {
     "name": "stdout",
     "output_type": "stream",
     "text": [
      "{'btc-test': [{'address': 'mn7fdQhacxTGqcCapzEqw91bh6Fx3saUCm',\n",
      "               'index': 0,\n",
      "               'path': \"m/44'/1'/0'/0/0\",\n",
      "               'privkey': 'cSu7cNuekRTPXM3g9NgHrruaMQEsa8U3J5hYDUgAsXJTtA2ibE69',\n",
      "               'pubkey': '03b681c2cad2961fc814ce3936ac62a5d1a3fd1d4fd774e93186bbd2d89093696c',\n",
      "               'pubkeyhash': '486166ab3c0ae6843435a9d4d163207d005faffa',\n",
      "               'xprv': 'tprv8jHfJwVdPi5TSenL7ghXs3qg9Ap8myN4t4sYLijjmhGHSrJZfRKJuTXVVsDukfBJV1iSmD9QVJYNkNQ4oyzN7xSB3GDQ6BwQmj8bJvokDpG',\n",
      "               'xpub': 'tpubDFyhTMXsY5m8L7p81LN8GTVniCL4wJYyTNUKdEn3By4gHLZLHp8u5x9Mg2J43Tzkv1Hkknif4z9cnaAzV9Qy7fNoGK77fQ7Vw9NbikgYv7A'},\n",
      "              {'address': 'mxV6Shpp6dLsCGX811ofEsdCGJgsBJwQHi',\n",
      "               'index': 1,\n",
      "               'path': \"m/44'/1'/0'/0/1\",\n",
      "               'privkey': 'cPtVkGvH238hSFcTJ2qesArWseqWSVLSohJEFWYfrFYY1NBNCJGy',\n",
      "               'pubkey': '025fb7f21e7c2d764628c7934a6353d8db93bd88677ba74eb484a4cf44a0ce8c58',\n",
      "               'pubkeyhash': 'ba201be5530d0c4d68c2809865ecd21c951cc1c1',\n",
      "               'xprv': 'tprv8jHfJwVdPi5TVn8FfHXVCqoRSUXjsXrso52A3UaV8AMAm8NwXxuyUntfn32cagp2pdT5ZApMYMx75vUq1LrYZhvb4ra5R2yECjPEgNXQYQz',\n",
      "               'xpub': 'tpubDFyhTMXsY5m8PFA3YwC5cFTY1W3g2s3nNNcwKzcnYS9ZbcdiAMjZfHWXxABMQ1L1HeMsEmjgtKHt6XB2bq4KWZPZjWnmppxQqAFqmfG9std'},\n",
      "              {'address': 'mgPVCvjh4iTWU5TQnJxHSPFeNrZh2BCXKa',\n",
      "               'index': 2,\n",
      "               'path': \"m/44'/1'/0'/0/2\",\n",
      "               'privkey': 'cVgwpSexyNCEZdTkf9dZaUhGUpKHYQfG9D5GYq928ythdRV2T5u3',\n",
      "               'pubkey': '02cbb13515cefd4a2a136639a7a1848e42911b65d2db5b4966f49bf79047e52528',\n",
      "               'pubkeyhash': '098e9a0f9a3c647377b85161cf6c826dd77f994a',\n",
      "               'xprv': 'tprv8jHfJwVdPi5TX1j3EjDS6yfMYxEAarAVezMqxDwmZSvicCSgqsga4A6PmZUXM3uxeAcK4aZJcLdx9Lwh6RR4dryTmamTaNmoFh97VevQr3L',\n",
      "               'xpub': 'tpubDFyhTMXsY5m8QUkq8Nt2WPKU7yk6kBMQEHxdEjz4yij7SghTUGWAEeiFwg8b3kD9HsFz1qJw3ZY6Hu8VsCoKi4WR1Am3DwLRwE8SnvBsBhH'}],\n",
      " 'eth': [{'address': '0xd633fa1B5A49cFFFF009D08BcD1a18f6016D843a',\n",
      "          'index': 0,\n",
      "          'path': \"m/44'/60'/0'/0/0\",\n",
      "          'privkey': '0x176b4248f1a104e0dde8b4496e23d06634a5056ee005cc2495d9c24e5afcab47',\n",
      "          'pubkey': '0377e3459edb1f75214aa774297486f5b218bb8a96e816758bc8bcd01ef0045492',\n",
      "          'pubkeyhash': 'ac1fa452e643c9b1d5b82539d480d1d93888a32c',\n",
      "          'xprv': 'xprvA3smpX8es9kf6YAnp7X84eg8opuJy7qC4iPGrD5rZzvJ9FnxPUyCVPAZ3jZySdsnW2KZt5RLUwhvoTx6ccyP3bKTrU943U48jzZ4auj2NQ7',\n",
      "          'xpub': 'xpub6Gs8E2fYhXJxK2FFv948RncsMrjoNaZ3RwJsebVU8LTH2486w2HT3BV2u3GyE8wfmveKZTdMXtG5NJfBSw1gzrtZvCXVCpo4RAF88zT9NKy'},\n",
      "         {'address': '0xBFb67dD60f75501aeED161C1dd4C7b4a12bfBCcd',\n",
      "          'index': 1,\n",
      "          'path': \"m/44'/60'/0'/0/1\",\n",
      "          'privkey': '0xe2da003281a1ba306d7208904a1cc7ac5946f54c5940d1c476bfd04b8e16cc74',\n",
      "          'pubkey': '025f0ac69135657822721d04df679e64ecda6d932938a1033a86e63fcd09ca66e6',\n",
      "          'pubkeyhash': 'eaaaf47ebd6dae3568d4bc94e7f91e82021ab9b7',\n",
      "          'xprv': 'xprvA3smpX8es9kf91ehTxAugNFQJXZwz1uQejPSAPacXkSLCrKW7qp771SPvXuT9x3k93cDh5EC95ksRE4tx268e6gM3sSWV2shoPPHf4h8Rd2',\n",
      "          'xpub': 'xpub6Gs8E2fYhXJxMVjAZyhv3WC8rZQSPUdG1xK2xmzE65yK5eeefP8MeoksmmwAhcfiddqTWGPZPRDnYFmQPNVyYnk1bQYX6VufxADZCCyVUY2'},\n",
      "         {'address': '0xB841B5d787f747Bd2f1c1f516Ec0555BaCb563dB',\n",
      "          'index': 2,\n",
      "          'path': \"m/44'/60'/0'/0/2\",\n",
      "          'privkey': '0x0612134bc6d6b1c9231132a0d01f3c5f3689e896572c2cedcafa1e65de51ad9e',\n",
      "          'pubkey': '033a6d9c18b24260c5ab80adbb87a447b1d89aa8df3065aff5123c99ba8e6fa16a',\n",
      "          'pubkeyhash': '9e7fcba4f8bf6d638d05a66c54d78fffb79ac55f',\n",
      "          'xprv': 'xprvA3smpX8es9kf9oHR97DJqrEUpKSQRVkvh7zQKzwQxYSphdPFMRrif9wEqLLyuvndSK9iFyPy3a2pvfA3f765shWDj13uAZj2v538hLcmag3',\n",
      "          'xpub': 'xpub6Gs8E2fYhXJxNHMtF8kKCzBDNMGtpxUn4Lv18PM2WsyoaRiPtyAyCxFigdiYwCfAqCpcUwQXP5onHMV7BaZExzKkSi4wvdGiE94Weefcm6u'}]}\n"
     ]
    }
   ],
   "source": [
    "pprint(coins)"
   ]
  },
  {
   "cell_type": "code",
   "execution_count": 9,
   "id": "9e8eda01-7ad4-4a8b-8fc2-08a32f70057a",
   "metadata": {},
   "outputs": [
    {
     "data": {
      "text/plain": [
       "{'_pk': <coincurve.keys.PrivateKey at 0x7f98541d6700>,\n",
       " '_public_point': None,\n",
       " '_public_key': b'\\x03\\xb6\\x81\\xc2\\xca\\xd2\\x96\\x1f\\xc8\\x14\\xce96\\xacb\\xa5\\xd1\\xa3\\xfd\\x1dO\\xd7t\\xe91\\x86\\xbb\\xd2\\xd8\\x90\\x93il',\n",
       " 'version': 'test',\n",
       " 'instance': 'PrivateKeyTestnet',\n",
       " '_address': None,\n",
       " '_segwit_address': None,\n",
       " '_scriptcode': None,\n",
       " '_segwit_scriptcode': None,\n",
       " 'balance': 0,\n",
       " 'unspents': [],\n",
       " 'transactions': []}"
      ]
     },
     "execution_count": 9,
     "metadata": {},
     "output_type": "execute_result"
    }
   ],
   "source": [
    "account = priv_key_to_account(BTCTEST, coins[BTCTEST][0]['privkey'])\n",
    "account.__dict__"
   ]
  },
  {
   "cell_type": "code",
   "execution_count": 10,
   "id": "fcdd1ac1",
   "metadata": {},
   "outputs": [
    {
     "ename": "ValueError",
     "evalue": "Transactions must have at least one unspent.",
     "output_type": "error",
     "traceback": [
      "\u001b[0;31m---------------------------------------------------------------------------\u001b[0m",
      "\u001b[0;31mValueError\u001b[0m                                Traceback (most recent call last)",
      "\u001b[0;32m<ipython-input-10-1e6168a29fcf>\u001b[0m in \u001b[0;36m<module>\u001b[0;34m\u001b[0m\n\u001b[0;32m----> 1\u001b[0;31m \u001b[0msend_tx\u001b[0m\u001b[0;34m(\u001b[0m\u001b[0mBTCTEST\u001b[0m\u001b[0;34m,\u001b[0m \u001b[0maccount\u001b[0m\u001b[0;34m,\u001b[0m \u001b[0;34m'mv4rnyY3Su5gjcDNzbMLKBQkBicCtHUtFB'\u001b[0m\u001b[0;34m,\u001b[0m \u001b[0;34m'0.001'\u001b[0m\u001b[0;34m)\u001b[0m\u001b[0;34m\u001b[0m\u001b[0;34m\u001b[0m\u001b[0m\n\u001b[0m",
      "\u001b[0;32m<ipython-input-6-b2403cdc0b2a>\u001b[0m in \u001b[0;36msend_tx\u001b[0;34m(coin, account, to, amount)\u001b[0m\n\u001b[1;32m     60\u001b[0m         \u001b[0;32mreturn\u001b[0m \u001b[0mw3\u001b[0m\u001b[0;34m.\u001b[0m\u001b[0meth\u001b[0m\u001b[0;34m.\u001b[0m\u001b[0msendRawTransaction\u001b[0m\u001b[0;34m(\u001b[0m\u001b[0msigned\u001b[0m\u001b[0;34m.\u001b[0m\u001b[0mrawTransaction\u001b[0m\u001b[0;34m)\u001b[0m\u001b[0;34m\u001b[0m\u001b[0;34m\u001b[0m\u001b[0m\n\u001b[1;32m     61\u001b[0m     \u001b[0;32mif\u001b[0m \u001b[0mcoin\u001b[0m \u001b[0;34m==\u001b[0m \u001b[0mBTCTEST\u001b[0m\u001b[0;34m:\u001b[0m\u001b[0;34m\u001b[0m\u001b[0;34m\u001b[0m\u001b[0m\n\u001b[0;32m---> 62\u001b[0;31m         \u001b[0mraw_tx\u001b[0m \u001b[0;34m=\u001b[0m \u001b[0mcreate_tx\u001b[0m\u001b[0;34m(\u001b[0m\u001b[0mcoin\u001b[0m\u001b[0;34m,\u001b[0m \u001b[0maccount\u001b[0m\u001b[0;34m,\u001b[0m \u001b[0mto\u001b[0m\u001b[0;34m,\u001b[0m \u001b[0mamount\u001b[0m\u001b[0;34m)\u001b[0m\u001b[0;34m\u001b[0m\u001b[0;34m\u001b[0m\u001b[0m\n\u001b[0m\u001b[1;32m     63\u001b[0m         \u001b[0msigned\u001b[0m \u001b[0;34m=\u001b[0m \u001b[0maccount\u001b[0m\u001b[0;34m.\u001b[0m\u001b[0msign_transaction\u001b[0m\u001b[0;34m(\u001b[0m\u001b[0mraw_tx\u001b[0m\u001b[0;34m)\u001b[0m\u001b[0;34m\u001b[0m\u001b[0;34m\u001b[0m\u001b[0m\n\u001b[1;32m     64\u001b[0m         \u001b[0;32mreturn\u001b[0m \u001b[0mNetworkAPI\u001b[0m\u001b[0;34m.\u001b[0m\u001b[0mbroadcast_tx_testnet\u001b[0m\u001b[0;34m(\u001b[0m\u001b[0msigned\u001b[0m\u001b[0;34m)\u001b[0m\u001b[0;34m\u001b[0m\u001b[0;34m\u001b[0m\u001b[0m\n",
      "\u001b[0;32m<ipython-input-6-b2403cdc0b2a>\u001b[0m in \u001b[0;36mcreate_tx\u001b[0;34m(coin, account, to, amount)\u001b[0m\n\u001b[1;32m     44\u001b[0m         }\n\u001b[1;32m     45\u001b[0m     \u001b[0;32mif\u001b[0m \u001b[0mcoin\u001b[0m \u001b[0;34m==\u001b[0m \u001b[0mBTCTEST\u001b[0m\u001b[0;34m:\u001b[0m\u001b[0;34m\u001b[0m\u001b[0;34m\u001b[0m\u001b[0m\n\u001b[0;32m---> 46\u001b[0;31m         \u001b[0;32mreturn\u001b[0m \u001b[0mPrivateKeyTestnet\u001b[0m\u001b[0;34m.\u001b[0m\u001b[0mprepare_transaction\u001b[0m\u001b[0;34m(\u001b[0m\u001b[0maccount\u001b[0m\u001b[0;34m.\u001b[0m\u001b[0maddress\u001b[0m\u001b[0;34m,\u001b[0m \u001b[0;34m[\u001b[0m\u001b[0;34m(\u001b[0m\u001b[0mto\u001b[0m\u001b[0;34m,\u001b[0m \u001b[0mamount\u001b[0m\u001b[0;34m,\u001b[0m \u001b[0mBTC\u001b[0m\u001b[0;34m)\u001b[0m\u001b[0;34m]\u001b[0m\u001b[0;34m)\u001b[0m\u001b[0;34m\u001b[0m\u001b[0;34m\u001b[0m\u001b[0m\n\u001b[0m\u001b[1;32m     47\u001b[0m \u001b[0;34m\u001b[0m\u001b[0m\n\u001b[1;32m     48\u001b[0m \u001b[0;32mdef\u001b[0m \u001b[0msend_tx\u001b[0m \u001b[0;34m(\u001b[0m\u001b[0mcoin\u001b[0m\u001b[0;34m,\u001b[0m \u001b[0maccount\u001b[0m\u001b[0;34m,\u001b[0m \u001b[0mto\u001b[0m\u001b[0;34m,\u001b[0m \u001b[0mamount\u001b[0m\u001b[0;34m)\u001b[0m\u001b[0;34m:\u001b[0m\u001b[0;34m\u001b[0m\u001b[0;34m\u001b[0m\u001b[0m\n",
      "\u001b[0;32m/opt/anaconda3/lib/python3.8/site-packages/bit/wallet.py\u001b[0m in \u001b[0;36mprepare_transaction\u001b[0;34m(cls, address, outputs, compressed, fee, absolute_fee, leftover, combine, message, unspents, message_is_hex, replace_by_fee)\u001b[0m\n\u001b[1;32m    840\u001b[0m         \u001b[0;34m:\u001b[0m\u001b[0mrtype\u001b[0m\u001b[0;34m:\u001b[0m\u001b[0;31m \u001b[0m\u001b[0;31m`\u001b[0m\u001b[0;31m`\u001b[0m\u001b[0mstr\u001b[0m\u001b[0;31m`\u001b[0m\u001b[0;31m`\u001b[0m\u001b[0;34m\u001b[0m\u001b[0;34m\u001b[0m\u001b[0m\n\u001b[1;32m    841\u001b[0m         \"\"\"\n\u001b[0;32m--> 842\u001b[0;31m         unspents, outputs = sanitize_tx_data(\n\u001b[0m\u001b[1;32m    843\u001b[0m             \u001b[0munspents\u001b[0m \u001b[0;32mor\u001b[0m \u001b[0mNetworkAPI\u001b[0m\u001b[0;34m.\u001b[0m\u001b[0mget_unspent_testnet\u001b[0m\u001b[0;34m(\u001b[0m\u001b[0maddress\u001b[0m\u001b[0;34m)\u001b[0m\u001b[0;34m,\u001b[0m\u001b[0;34m\u001b[0m\u001b[0;34m\u001b[0m\u001b[0m\n\u001b[1;32m    844\u001b[0m             \u001b[0moutputs\u001b[0m\u001b[0;34m,\u001b[0m\u001b[0;34m\u001b[0m\u001b[0;34m\u001b[0m\u001b[0m\n",
      "\u001b[0;32m/opt/anaconda3/lib/python3.8/site-packages/bit/transaction.py\u001b[0m in \u001b[0;36msanitize_tx_data\u001b[0;34m(unspents, outputs, fee, leftover, combine, message, compressed, absolute_fee, min_change, version, message_is_hex, replace_by_fee)\u001b[0m\n\u001b[1;32m    403\u001b[0m \u001b[0;34m\u001b[0m\u001b[0m\n\u001b[1;32m    404\u001b[0m     \u001b[0;32mif\u001b[0m \u001b[0;32mnot\u001b[0m \u001b[0munspents\u001b[0m\u001b[0;34m:\u001b[0m\u001b[0;34m\u001b[0m\u001b[0;34m\u001b[0m\u001b[0m\n\u001b[0;32m--> 405\u001b[0;31m         \u001b[0;32mraise\u001b[0m \u001b[0mValueError\u001b[0m\u001b[0;34m(\u001b[0m\u001b[0;34m'Transactions must have at least one unspent.'\u001b[0m\u001b[0;34m)\u001b[0m\u001b[0;34m\u001b[0m\u001b[0;34m\u001b[0m\u001b[0m\n\u001b[0m\u001b[1;32m    406\u001b[0m \u001b[0;34m\u001b[0m\u001b[0m\n\u001b[1;32m    407\u001b[0m     \u001b[0;31m# Temporary storage so all outputs precede messages.\u001b[0m\u001b[0;34m\u001b[0m\u001b[0;34m\u001b[0m\u001b[0;34m\u001b[0m\u001b[0m\n",
      "\u001b[0;31mValueError\u001b[0m: Transactions must have at least one unspent."
     ]
    }
   ],
   "source": [
    "send_tx(BTCTEST, account, 'mv4rnyY3Su5gjcDNzbMLKBQkBicCtHUtFB', '0.001')"
   ]
  }
 ],
 "metadata": {
  "kernelspec": {
   "display_name": "Python 3",
   "language": "python",
   "name": "python3"
  },
  "language_info": {
   "codemirror_mode": {
    "name": "ipython",
    "version": 3
   },
   "file_extension": ".py",
   "mimetype": "text/x-python",
   "name": "python",
   "nbconvert_exporter": "python",
   "pygments_lexer": "ipython3",
   "version": "3.8.2"
  }
 },
 "nbformat": 4,
 "nbformat_minor": 5
}
