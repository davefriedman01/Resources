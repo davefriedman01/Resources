{
 "cells": [
  {
   "cell_type": "code",
   "execution_count": 2,
   "id": "655bb3c0",
   "metadata": {},
   "outputs": [],
   "source": [
    "%matplotlib inline\n",
    "import numpy as np\n",
    "np.set_printoptions(suppress=True)\n",
    "import numpy.random as npr\n",
    "import pandas as pd\n",
    "from pylab import mpl, plt\n",
    "plt.style.use('seaborn')\n",
    "plt.rcParams['figure.figsize'] = (10, 6)\n",
    "\n",
    "import statsmodels.api as sm\n",
    "# sm.tsa.filters.hpfilter()\n",
    "from statsmodels.tsa.seasonal import seasonal_decompose\n",
    "from statsmodels.tsa.arima_model import ARIMA\n",
    "#from statsmodels.tsa.arima.model import ARIMA\n",
    "import arch\n",
    "\n",
    "from sklearn.linear_model import LinearRegression\n",
    "from sklearn.metrics import mean_squared_error\n",
    "\n",
    "import warnings\n",
    "warnings.filterwarnings('ignore')"
   ]
  },
  {
   "cell_type": "markdown",
   "id": "46904799",
   "metadata": {},
   "source": [
    "### ARMA(p, q)\n",
    "$$y_t = \\phi_1 y_{t - 1} + ... + \\phi_p y_{t - p} + \\theta_1 \\epsilon_{t - 1} + ... + \\theta_q \\epsilon_{t - q} + \\epsilon_t$$\n",
    "Lag-Polynomial Parameterization Representation<br>\n",
    "$$(1 - \\phi_1 L - ... - \\phi_p L^p) y_t = (1 + \\theta_1 L + ... + \\theta_q L^q) \\epsilon_t$$"
   ]
  }
 ],
 "metadata": {
  "kernelspec": {
   "display_name": "Python 3",
   "language": "python",
   "name": "python3"
  },
  "language_info": {
   "codemirror_mode": {
    "name": "ipython",
    "version": 3
   },
   "file_extension": ".py",
   "mimetype": "text/x-python",
   "name": "python",
   "nbconvert_exporter": "python",
   "pygments_lexer": "ipython3",
   "version": "3.8.2"
  }
 },
 "nbformat": 4,
 "nbformat_minor": 5
}
