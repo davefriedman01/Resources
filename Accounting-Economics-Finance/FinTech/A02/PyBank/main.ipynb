{
 "cells": [
  {
   "cell_type": "markdown",
   "id": "seeing-exemption",
   "metadata": {},
   "source": [
    "# Python"
   ]
  },
  {
   "cell_type": "code",
   "execution_count": 1,
   "id": "equal-consistency",
   "metadata": {},
   "outputs": [],
   "source": [
    "# imports\n",
    "import csv\n",
    "from math import inf"
   ]
  },
  {
   "cell_type": "code",
   "execution_count": 2,
   "id": "fitting-thailand",
   "metadata": {},
   "outputs": [],
   "source": [
    "# name initialization\n",
    "num_months = 0                        # initialize the count: the number of months (the number of rows in the dataset)\n",
    "months = []                           # intialize a list of the months (column 1 in the dataset)...\n",
    "mo_changes = []                       # ...and a list of the monthly changes in profit (column 2 in the dataset)\n",
    "max_gain = ['', -inf]                 # track the name and change in profit of the month which saw the greatest increase in profit\n",
    "max_loss = ['', inf]                  # track the name and change in profit of the month which saw the greatest decrease in profit\n",
    "net_profit = 0                        # track the net total profit"
   ]
  },
  {
   "cell_type": "code",
   "execution_count": 3,
   "id": "occasional-operator",
   "metadata": {},
   "outputs": [
    {
     "data": {
      "text/plain": [
       "0"
      ]
     },
     "execution_count": 3,
     "metadata": {},
     "output_type": "execute_result"
    }
   ],
   "source": [
    "num_months"
   ]
  },
  {
   "cell_type": "code",
   "execution_count": 4,
   "id": "bridal-cabinet",
   "metadata": {},
   "outputs": [
    {
     "data": {
      "text/plain": [
       "[]"
      ]
     },
     "execution_count": 4,
     "metadata": {},
     "output_type": "execute_result"
    }
   ],
   "source": [
    "months"
   ]
  },
  {
   "cell_type": "code",
   "execution_count": 5,
   "id": "damaged-reset",
   "metadata": {},
   "outputs": [
    {
     "data": {
      "text/plain": [
       "[]"
      ]
     },
     "execution_count": 5,
     "metadata": {},
     "output_type": "execute_result"
    }
   ],
   "source": [
    "mo_changes"
   ]
  },
  {
   "cell_type": "code",
   "execution_count": 6,
   "id": "announced-freeze",
   "metadata": {},
   "outputs": [
    {
     "data": {
      "text/plain": [
       "['', -inf]"
      ]
     },
     "execution_count": 6,
     "metadata": {},
     "output_type": "execute_result"
    }
   ],
   "source": [
    "max_gain"
   ]
  },
  {
   "cell_type": "code",
   "execution_count": 7,
   "id": "revolutionary-shore",
   "metadata": {},
   "outputs": [
    {
     "data": {
      "text/plain": [
       "['', inf]"
      ]
     },
     "execution_count": 7,
     "metadata": {},
     "output_type": "execute_result"
    }
   ],
   "source": [
    "max_loss"
   ]
  },
  {
   "cell_type": "code",
   "execution_count": 8,
   "id": "iraqi-anthony",
   "metadata": {},
   "outputs": [
    {
     "data": {
      "text/plain": [
       "0"
      ]
     },
     "execution_count": 8,
     "metadata": {},
     "output_type": "execute_result"
    }
   ],
   "source": [
    "net_profit"
   ]
  },
  {
   "cell_type": "code",
   "execution_count": 9,
   "id": "fancy-carry",
   "metadata": {},
   "outputs": [],
   "source": [
    "# read and process data\n",
    "with open('budget_data.csv') as data_file:\n",
    "    # handle the header row\n",
    "    reader = csv.reader(data_file)\n",
    "    next(reader)                      # get the header\n",
    "    \n",
    "    # setup iterative processing\n",
    "    row1 = next(reader)               # get the first row of data\n",
    "    num_months += 1                   # update the count\n",
    "    curr_mo = int(row1[1])            # get the current month's profit\n",
    "    net_profit += curr_mo             # update the net profit\n",
    "    prev_mo = curr_mo                 # assign the current month's profit to the previous month's profit for the next iteration\n",
    "    \n",
    "    # iterative processing\n",
    "    for row in reader:                # get the next row of data\n",
    "        num_months += 1               # update the count\n",
    "        curr_mo = int(row[1])         # get the current month's profit\n",
    "        net_profit += curr_mo         # update the net profit\n",
    "        mo_change = curr_mo - prev_mo # get the current month's change in profit\n",
    "        mo_changes += [mo_change]     # append the current month's change in profit to the list of monthly changes in profit\n",
    "        months += [row[0]]            # append the name of the current month to the list of the names of the months\n",
    "        if mo_change > max_gain[1]:   # update the name and change in profit of the month which saw the greatest increase in profit\n",
    "            max_gain[0], max_gain[1] = row[0], mo_change\n",
    "        if mo_change < max_loss[1]:   # update the name and change in profit of the month which saw the greatest decrease in profit\n",
    "            max_loss[0], max_loss[1] = row[0], mo_change\n",
    "        prev_mo = curr_mo             # assign the current month's profit to the previous month's profit for the next iteration"
   ]
  },
  {
   "cell_type": "code",
   "execution_count": 10,
   "id": "excessive-diabetes",
   "metadata": {},
   "outputs": [
    {
     "data": {
      "text/plain": [
       "86"
      ]
     },
     "execution_count": 10,
     "metadata": {},
     "output_type": "execute_result"
    }
   ],
   "source": [
    "num_months"
   ]
  },
  {
   "cell_type": "code",
   "execution_count": 11,
   "id": "fabulous-demand",
   "metadata": {},
   "outputs": [
    {
     "data": {
      "text/plain": [
       "['Feb-2010', 'Mar-2010', 'Apr-2010', 'May-2010', 'Jun-2010']"
      ]
     },
     "execution_count": 11,
     "metadata": {},
     "output_type": "execute_result"
    }
   ],
   "source": [
    "months[:5]"
   ]
  },
  {
   "cell_type": "code",
   "execution_count": 12,
   "id": "seventh-concert",
   "metadata": {},
   "outputs": [
    {
     "data": {
      "text/plain": [
       "[116771, -662642, -391430, 379920, 212354]"
      ]
     },
     "execution_count": 12,
     "metadata": {},
     "output_type": "execute_result"
    }
   ],
   "source": [
    "mo_changes[:5]"
   ]
  },
  {
   "cell_type": "code",
   "execution_count": 13,
   "id": "racial-buffer",
   "metadata": {},
   "outputs": [
    {
     "data": {
      "text/plain": [
       "['Feb-2012', 1926159]"
      ]
     },
     "execution_count": 13,
     "metadata": {},
     "output_type": "execute_result"
    }
   ],
   "source": [
    "max_gain"
   ]
  },
  {
   "cell_type": "code",
   "execution_count": 14,
   "id": "dependent-recovery",
   "metadata": {},
   "outputs": [
    {
     "data": {
      "text/plain": [
       "['Sep-2013', -2196167]"
      ]
     },
     "execution_count": 14,
     "metadata": {},
     "output_type": "execute_result"
    }
   ],
   "source": [
    "max_loss"
   ]
  },
  {
   "cell_type": "code",
   "execution_count": 15,
   "id": "hairy-wallpaper",
   "metadata": {},
   "outputs": [
    {
     "data": {
      "text/plain": [
       "38382578"
      ]
     },
     "execution_count": 15,
     "metadata": {},
     "output_type": "execute_result"
    }
   ],
   "source": [
    "net_profit"
   ]
  },
  {
   "cell_type": "code",
   "execution_count": 16,
   "id": "legal-snapshot",
   "metadata": {},
   "outputs": [
    {
     "data": {
      "text/plain": [
       "-2315.12"
      ]
     },
     "execution_count": 16,
     "metadata": {},
     "output_type": "execute_result"
    }
   ],
   "source": [
    "# compute the average change in profit\n",
    "avg_change = round(sum(mo_changes) / len(mo_changes), 2)\n",
    "avg_change"
   ]
  },
  {
   "cell_type": "code",
   "execution_count": 17,
   "id": "foster-target",
   "metadata": {},
   "outputs": [
    {
     "data": {
      "text/plain": [
       "['Financial Analysis',\n",
       " '------------------------------',\n",
       " 'Num Months                  86',\n",
       " 'Net Profit        $38382578.00',\n",
       " 'Avg Change           -$2315.12',\n",
       " 'Max Gain           $1926159.00',\n",
       " 'Max Loss          -$2196167.00']"
      ]
     },
     "execution_count": 17,
     "metadata": {},
     "output_type": "execute_result"
    }
   ],
   "source": [
    "# format the analysis\n",
    "lines = [\n",
    "    'Financial Analysis',\n",
    "    '-' * 30,\n",
    "    '{:15}{:>15}'.format('Num Months', num_months),\n",
    "    '{:15}{:>15}'.format('Net Profit', '{}${:.2f}'.format('-' if net_profit < 0 else ' ', abs(net_profit))),\n",
    "    '{:15}{:>15}'.format('Avg Change', '{}${:.2f}'.format('-' if avg_change < 0 else ' ', abs(avg_change))),\n",
    "    '{:15}{:>15}'.format('Max Gain', '{}${:.2f}'.format('-' if max_gain[1] < 0 else ' ', abs(max_gain[1]))),\n",
    "    '{:15}{:>15}'.format('Max Loss', '{}${:.2f}'.format('-' if max_loss[1] < 0 else ' ', abs(max_loss[1]))),\n",
    "]\n",
    "lines"
   ]
  },
  {
   "cell_type": "code",
   "execution_count": 18,
   "id": "completed-irrigation",
   "metadata": {},
   "outputs": [],
   "source": [
    "# write the analysis\n",
    "with open('python_analysis.txt', 'w') as python_analysis_file:\n",
    "    python_analysis_file.write('\\n'.join(lines))"
   ]
  },
  {
   "cell_type": "code",
   "execution_count": 19,
   "id": "annual-vintage",
   "metadata": {},
   "outputs": [
    {
     "name": "stdout",
     "output_type": "stream",
     "text": [
      "Financial Analysis\n",
      "------------------------------\n",
      "Num Months                  86\n",
      "Net Profit        $38382578.00\n",
      "Avg Change           -$2315.12\n",
      "Max Gain           $1926159.00\n",
      "Max Loss          -$2196167.00\n"
     ]
    }
   ],
   "source": [
    "# print the analysis\n",
    "print('\\n'.join(lines))"
   ]
  },
  {
   "cell_type": "markdown",
   "id": "together-cleaning",
   "metadata": {},
   "source": [
    "---"
   ]
  },
  {
   "cell_type": "markdown",
   "id": "premium-department",
   "metadata": {},
   "source": [
    "# Pandas"
   ]
  },
  {
   "cell_type": "code",
   "execution_count": 20,
   "id": "sixth-refrigerator",
   "metadata": {},
   "outputs": [],
   "source": [
    "# imports\n",
    "import pandas as pd"
   ]
  },
  {
   "cell_type": "code",
   "execution_count": 21,
   "id": "protected-architecture",
   "metadata": {},
   "outputs": [
    {
     "data": {
      "text/html": [
       "<div>\n",
       "<style scoped>\n",
       "    .dataframe tbody tr th:only-of-type {\n",
       "        vertical-align: middle;\n",
       "    }\n",
       "\n",
       "    .dataframe tbody tr th {\n",
       "        vertical-align: top;\n",
       "    }\n",
       "\n",
       "    .dataframe thead th {\n",
       "        text-align: right;\n",
       "    }\n",
       "</style>\n",
       "<table border=\"1\" class=\"dataframe\">\n",
       "  <thead>\n",
       "    <tr style=\"text-align: right;\">\n",
       "      <th></th>\n",
       "      <th>Profit/Losses</th>\n",
       "    </tr>\n",
       "    <tr>\n",
       "      <th>Date</th>\n",
       "      <th></th>\n",
       "    </tr>\n",
       "  </thead>\n",
       "  <tbody>\n",
       "    <tr>\n",
       "      <th>2010-01-01</th>\n",
       "      <td>867884</td>\n",
       "    </tr>\n",
       "    <tr>\n",
       "      <th>2010-02-01</th>\n",
       "      <td>984655</td>\n",
       "    </tr>\n",
       "    <tr>\n",
       "      <th>2010-03-01</th>\n",
       "      <td>322013</td>\n",
       "    </tr>\n",
       "    <tr>\n",
       "      <th>2010-04-01</th>\n",
       "      <td>-69417</td>\n",
       "    </tr>\n",
       "    <tr>\n",
       "      <th>2010-05-01</th>\n",
       "      <td>310503</td>\n",
       "    </tr>\n",
       "  </tbody>\n",
       "</table>\n",
       "</div>"
      ],
      "text/plain": [
       "            Profit/Losses\n",
       "Date                     \n",
       "2010-01-01         867884\n",
       "2010-02-01         984655\n",
       "2010-03-01         322013\n",
       "2010-04-01         -69417\n",
       "2010-05-01         310503"
      ]
     },
     "execution_count": 21,
     "metadata": {},
     "output_type": "execute_result"
    }
   ],
   "source": [
    "# read data\n",
    "df = pd.read_csv('budget_data.csv', index_col='Date', parse_dates=True, infer_datetime_format=True)\n",
    "df.head()"
   ]
  },
  {
   "cell_type": "code",
   "execution_count": 22,
   "id": "excellent-somewhere",
   "metadata": {},
   "outputs": [
    {
     "data": {
      "text/plain": [
       "86"
      ]
     },
     "execution_count": 22,
     "metadata": {},
     "output_type": "execute_result"
    }
   ],
   "source": [
    "# compute the number of months\n",
    "num_months = df.shape[0]\n",
    "#df.index.size\n",
    "#num_months = df['Date'].count()\n",
    "#num_months = len(df)\n",
    "num_months"
   ]
  },
  {
   "cell_type": "code",
   "execution_count": 23,
   "id": "mobile-introduction",
   "metadata": {},
   "outputs": [
    {
     "data": {
      "text/plain": [
       "38382578"
      ]
     },
     "execution_count": 23,
     "metadata": {},
     "output_type": "execute_result"
    }
   ],
   "source": [
    "# compute the net total profit\n",
    "net_profit = df['Profit/Losses'].sum()\n",
    "net_profit"
   ]
  },
  {
   "cell_type": "code",
   "execution_count": 24,
   "id": "seasonal-moldova",
   "metadata": {},
   "outputs": [
    {
     "data": {
      "text/plain": [
       "-2315.1176470588234"
      ]
     },
     "execution_count": 24,
     "metadata": {},
     "output_type": "execute_result"
    }
   ],
   "source": [
    "# compute the average change in profit\n",
    "avg_change = df['Profit/Losses'].diff().mean()\n",
    "avg_change"
   ]
  },
  {
   "cell_type": "code",
   "execution_count": 25,
   "id": "future-accordance",
   "metadata": {},
   "outputs": [
    {
     "data": {
      "text/plain": [
       "1926159.0"
      ]
     },
     "execution_count": 25,
     "metadata": {},
     "output_type": "execute_result"
    }
   ],
   "source": [
    "# compute the change in profit of the month which saw the greatest increase in profit\n",
    "max_gain = df['Profit/Losses'].diff().max()\n",
    "max_gain"
   ]
  },
  {
   "cell_type": "code",
   "execution_count": 26,
   "id": "collective-determination",
   "metadata": {},
   "outputs": [
    {
     "data": {
      "text/plain": [
       "-2196167.0"
      ]
     },
     "execution_count": 26,
     "metadata": {},
     "output_type": "execute_result"
    }
   ],
   "source": [
    "# compute the change in profit of the month which saw the greatest decrease in profit\n",
    "max_loss = df['Profit/Losses'].diff().min()\n",
    "max_loss"
   ]
  },
  {
   "cell_type": "code",
   "execution_count": 27,
   "id": "jewish-gibraltar",
   "metadata": {},
   "outputs": [
    {
     "data": {
      "text/plain": [
       "Num Months          86.00\n",
       "Net Profit    38382578.00\n",
       "Avg Change       -2315.12\n",
       "Max Gain       1926159.00\n",
       "Max Loss      -2196167.00\n",
       "Name: 0, dtype: float64"
      ]
     },
     "execution_count": 27,
     "metadata": {},
     "output_type": "execute_result"
    }
   ],
   "source": [
    "analysis = pd.DataFrame(\n",
    "    {'Num Months': num_months, 'Net Profit': net_profit, 'Avg Change': avg_change, 'Max Gain': max_gain, 'Max Loss': max_loss},\n",
    "    index=[0]\n",
    ").iloc[0].round(2)\n",
    "\n",
    "# analysis = pd.Series(\n",
    "#    data = [num_months, net_profit, avg_change, max_gain, max_loss],\n",
    "#    index = ['Num Months', 'Net Profit', 'Avg Change', 'Max Gain', 'Max Loss']\n",
    "#)\n",
    "\n",
    "analysis"
   ]
  },
  {
   "cell_type": "code",
   "execution_count": 28,
   "id": "cosmetic-search",
   "metadata": {},
   "outputs": [
    {
     "data": {
      "text/plain": [
       "['Financial Analysis',\n",
       " '-------------------------',\n",
       " 'Num Months          86.00\\nNet Profit    38382578.00\\nAvg Change       -2315.12\\nMax Gain       1926159.00\\nMax Loss      -2196167.00']"
      ]
     },
     "execution_count": 28,
     "metadata": {},
     "output_type": "execute_result"
    }
   ],
   "source": [
    "# format the analysis\n",
    "lines = [\n",
    "    'Financial Analysis',\n",
    "    '-' * 25,\n",
    "    analysis.to_string()\n",
    "]\n",
    "lines"
   ]
  },
  {
   "cell_type": "code",
   "execution_count": 29,
   "id": "growing-dairy",
   "metadata": {},
   "outputs": [],
   "source": [
    "# write the analysis\n",
    "with open('pandas_analysis.txt', 'w') as pandas_analysis_file:\n",
    "    pandas_analysis_file.write('\\n'.join(lines))"
   ]
  },
  {
   "cell_type": "code",
   "execution_count": 30,
   "id": "religious-money",
   "metadata": {},
   "outputs": [
    {
     "name": "stdout",
     "output_type": "stream",
     "text": [
      "Financial Analysis\n",
      "-------------------------\n",
      "Num Months          86.00\n",
      "Net Profit    38382578.00\n",
      "Avg Change       -2315.12\n",
      "Max Gain       1926159.00\n",
      "Max Loss      -2196167.00\n"
     ]
    }
   ],
   "source": [
    "# print the analysis\n",
    "print('\\n'.join(lines))"
   ]
  },
  {
   "cell_type": "markdown",
   "id": "confident-generation",
   "metadata": {},
   "source": [
    "---"
   ]
  }
 ],
 "metadata": {
  "kernelspec": {
   "display_name": "Python 3",
   "language": "python",
   "name": "python3"
  },
  "language_info": {
   "codemirror_mode": {
    "name": "ipython",
    "version": 3
   },
   "file_extension": ".py",
   "mimetype": "text/x-python",
   "name": "python",
   "nbconvert_exporter": "python",
   "pygments_lexer": "ipython3",
   "version": "3.8.5"
  }
 },
 "nbformat": 4,
 "nbformat_minor": 5
}
