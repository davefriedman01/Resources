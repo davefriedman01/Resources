{
 "cells": [
  {
   "cell_type": "code",
   "execution_count": 1,
   "id": "optional-school",
   "metadata": {},
   "outputs": [],
   "source": [
    "# data analysis imports\n",
    "import time\n",
    "import datetime\n",
    "import numpy as np\n",
    "import pandas as pd\n",
    "from pylab import mpl, plt\n",
    "plt.style.use('seaborn')\n",
    "mpl.rcParams['font.family'] = 'serif'\n",
    "%matplotlib inline\n",
    "from MCForecastTools import MCSimulation\n",
    "\n",
    "# API imports\n",
    "import json\n",
    "import requests\n",
    "import alpaca_trade_api\n",
    "from alpaca_trade_api.rest import TimeFrame\n",
    "from dotenv import find_dotenv, get_key"
   ]
  },
  {
   "cell_type": "markdown",
   "id": "apart-afghanistan",
   "metadata": {},
   "source": [
    "---"
   ]
  },
  {
   "cell_type": "markdown",
   "id": "sound-scanning",
   "metadata": {},
   "source": [
    "Alternative.me's Free Crypto API (https://alternative.me/crypto/api/)"
   ]
  },
  {
   "cell_type": "code",
   "execution_count": 2,
   "id": "compliant-alberta",
   "metadata": {},
   "outputs": [],
   "source": [
    "BASE_URL = 'https://api.alternative.me/v2/'\n",
    "\n",
    "def get_crypto_listing ():\n",
    "    \"\"\"\n",
    "    From the website: Overview of all available crypto currencies,\n",
    "    use the returned id to retrieve more data on a specific crypto currency on the ticker endpoint.\n",
    "    \"\"\"\n",
    "    # pull json-formatted API data\n",
    "    json_response = requests.get(f'{BASE_URL}listings/').json()\n",
    "    \n",
    "    df = pd.DataFrame(json_response['data'])\n",
    "    \n",
    "    df = df[[                # reorder columns\n",
    "        'name',\n",
    "        'symbol',\n",
    "        'website_slug',\n",
    "        'id',\n",
    "    ]]\n",
    "    df = df.rename(columns={ # rename columns\n",
    "        'id': 'api_id',\n",
    "    })\n",
    "    \n",
    "    return df, json_response['metadata']\n",
    "\n",
    "def get_crypto_tickers ():\n",
    "    \"\"\"\n",
    "    From the website: Coin and token prices updated every 5 minutes.\n",
    "    \"\"\"\n",
    "    # pull json-formatted API data\n",
    "    json_response = requests.get(f'{BASE_URL}ticker/?limit=0').json()\n",
    "    \n",
    "    df = pd.DataFrame(json_response['data'])\n",
    "    df = df.T\n",
    "    df = df.set_index(pd.RangeIndex(len(json_response['data'])))\n",
    "    \n",
    "    quotes_df = pd.json_normalize(df['quotes'])\n",
    "    df = pd.concat([df, quotes_df], axis=1)\n",
    "    \n",
    "    df = df[[                               # reorder columns\n",
    "        'name',\n",
    "        'symbol',\n",
    "        'rank',\n",
    "        'USD.market_cap',\n",
    "        'last_updated',\n",
    "        'USD.price',\n",
    "        'USD.volume_24h',\n",
    "        'USD.percent_change_1h',\n",
    "        'USD.percent_change_24h',\n",
    "        'USD.percent_change_7d',\n",
    "        'id',\n",
    "    ]]\n",
    "    df = df.rename(columns={                # rename columns\n",
    "        'rank': 'market_cap_rank',\n",
    "        'last_updated': 'last_updated_UTC',\n",
    "        'id': 'api_id',\n",
    "    })\n",
    "    \n",
    "    df['last_updated_UTC'] = pd.to_datetime(df['last_updated_UTC'], unit='s')\n",
    "    \n",
    "    return df, json_response['metadata']\n",
    "\n",
    "def get_crypto_global ():\n",
    "    \"\"\"\n",
    "    From the website: Get global market information at a glance.\n",
    "    \"\"\"\n",
    "    # pull json-formatted API data\n",
    "    json_response = requests.get(f'{BASE_URL}global/').json()\n",
    "    \n",
    "    df = pd.DataFrame(json_response['data'])\n",
    "    df = df.set_index(pd.RangeIndex(1))\n",
    "    \n",
    "    quotes_df = pd.json_normalize(df['quotes'])\n",
    "    df = pd.concat([df, quotes_df], axis=1)\n",
    "    \n",
    "    df = df[[                               # reorder columns\n",
    "        'active_cryptocurrencies',\n",
    "        'active_markets',\n",
    "        'bitcoin_percentage_of_market_cap',\n",
    "        'last_updated',\n",
    "        'total_market_cap',\n",
    "        'total_volume_24h',\n",
    "    ]]\n",
    "    df = df.rename(columns={                # rename columns\n",
    "        'last_updated': 'last_updated_UTC',\n",
    "    })\n",
    "    \n",
    "    df['last_updated_UTC'] = pd.to_datetime(df['last_updated_UTC'], unit='s')\n",
    "    \n",
    "    return df.T, json_response['metadata']"
   ]
  },
  {
   "cell_type": "code",
   "execution_count": 3,
   "id": "spectacular-insulation",
   "metadata": {},
   "outputs": [
    {
     "data": {
      "text/plain": [
       "active_cryptocurrencies                            1301\n",
       "active_markets                                       20\n",
       "bitcoin_percentage_of_market_cap                0.47495\n",
       "last_updated_UTC                    2021-05-13 20:05:14\n",
       "total_market_cap                          1919393232036\n",
       "total_volume_24h                           644563928117\n",
       "Name: 0, dtype: object"
      ]
     },
     "execution_count": 3,
     "metadata": {},
     "output_type": "execute_result"
    }
   ],
   "source": [
    "global_df, global_meta = get_crypto_global()\n",
    "global_df[0]"
   ]
  },
  {
   "cell_type": "code",
   "execution_count": 4,
   "id": "early-appreciation",
   "metadata": {},
   "outputs": [
    {
     "data": {
      "text/plain": [
       "{'timestamp': 1620936320, 'num_cryptocurrencies': 1301, 'error': None}"
      ]
     },
     "execution_count": 4,
     "metadata": {},
     "output_type": "execute_result"
    }
   ],
   "source": [
    "listings_df, listings_meta = get_crypto_listing()\n",
    "listings_meta"
   ]
  },
  {
   "cell_type": "code",
   "execution_count": 5,
   "id": "black-perry",
   "metadata": {},
   "outputs": [
    {
     "data": {
      "text/html": [
       "<div>\n",
       "<style scoped>\n",
       "    .dataframe tbody tr th:only-of-type {\n",
       "        vertical-align: middle;\n",
       "    }\n",
       "\n",
       "    .dataframe tbody tr th {\n",
       "        vertical-align: top;\n",
       "    }\n",
       "\n",
       "    .dataframe thead th {\n",
       "        text-align: right;\n",
       "    }\n",
       "</style>\n",
       "<table border=\"1\" class=\"dataframe\">\n",
       "  <thead>\n",
       "    <tr style=\"text-align: right;\">\n",
       "      <th></th>\n",
       "      <th>name</th>\n",
       "      <th>symbol</th>\n",
       "      <th>website_slug</th>\n",
       "      <th>api_id</th>\n",
       "    </tr>\n",
       "  </thead>\n",
       "  <tbody>\n",
       "    <tr>\n",
       "      <th>0</th>\n",
       "      <td>Bitcoin</td>\n",
       "      <td>BTC</td>\n",
       "      <td>bitcoin</td>\n",
       "      <td>1</td>\n",
       "    </tr>\n",
       "    <tr>\n",
       "      <th>1</th>\n",
       "      <td>Litecoin</td>\n",
       "      <td>LTC</td>\n",
       "      <td>litecoin</td>\n",
       "      <td>2</td>\n",
       "    </tr>\n",
       "    <tr>\n",
       "      <th>2</th>\n",
       "      <td>Namecoin</td>\n",
       "      <td>NMC</td>\n",
       "      <td>namecoin</td>\n",
       "      <td>3</td>\n",
       "    </tr>\n",
       "    <tr>\n",
       "      <th>3</th>\n",
       "      <td>Terracoin</td>\n",
       "      <td>TRC</td>\n",
       "      <td>terracoin</td>\n",
       "      <td>4</td>\n",
       "    </tr>\n",
       "    <tr>\n",
       "      <th>4</th>\n",
       "      <td>Peercoin</td>\n",
       "      <td>PPC</td>\n",
       "      <td>peercoin</td>\n",
       "      <td>5</td>\n",
       "    </tr>\n",
       "  </tbody>\n",
       "</table>\n",
       "</div>"
      ],
      "text/plain": [
       "        name symbol website_slug api_id\n",
       "0    Bitcoin    BTC      bitcoin      1\n",
       "1   Litecoin    LTC     litecoin      2\n",
       "2   Namecoin    NMC     namecoin      3\n",
       "3  Terracoin    TRC    terracoin      4\n",
       "4   Peercoin    PPC     peercoin      5"
      ]
     },
     "execution_count": 5,
     "metadata": {},
     "output_type": "execute_result"
    }
   ],
   "source": [
    "listings_df.head()"
   ]
  },
  {
   "cell_type": "code",
   "execution_count": 6,
   "id": "uniform-biography",
   "metadata": {},
   "outputs": [
    {
     "name": "stdout",
     "output_type": "stream",
     "text": [
      "<class 'pandas.core.frame.DataFrame'>\n",
      "RangeIndex: 1301 entries, 0 to 1300\n",
      "Data columns (total 4 columns):\n",
      " #   Column        Non-Null Count  Dtype \n",
      "---  ------        --------------  ----- \n",
      " 0   name          1301 non-null   object\n",
      " 1   symbol        1301 non-null   object\n",
      " 2   website_slug  1301 non-null   object\n",
      " 3   api_id        1301 non-null   object\n",
      "dtypes: object(4)\n",
      "memory usage: 40.8+ KB\n"
     ]
    }
   ],
   "source": [
    "listings_df.info()"
   ]
  },
  {
   "cell_type": "code",
   "execution_count": 7,
   "id": "aboriginal-venue",
   "metadata": {},
   "outputs": [
    {
     "data": {
      "text/plain": [
       "{'timestamp': 1620411445, 'num_cryptocurrencies': 1301, 'error': None}"
      ]
     },
     "execution_count": 7,
     "metadata": {},
     "output_type": "execute_result"
    }
   ],
   "source": [
    "tickers_df, tickers_meta = get_crypto_tickers()\n",
    "tickers_meta"
   ]
  },
  {
   "cell_type": "code",
   "execution_count": 8,
   "id": "split-playing",
   "metadata": {},
   "outputs": [
    {
     "data": {
      "text/html": [
       "<div>\n",
       "<style scoped>\n",
       "    .dataframe tbody tr th:only-of-type {\n",
       "        vertical-align: middle;\n",
       "    }\n",
       "\n",
       "    .dataframe tbody tr th {\n",
       "        vertical-align: top;\n",
       "    }\n",
       "\n",
       "    .dataframe thead th {\n",
       "        text-align: right;\n",
       "    }\n",
       "</style>\n",
       "<table border=\"1\" class=\"dataframe\">\n",
       "  <thead>\n",
       "    <tr style=\"text-align: right;\">\n",
       "      <th></th>\n",
       "      <th>name</th>\n",
       "      <th>symbol</th>\n",
       "      <th>market_cap_rank</th>\n",
       "      <th>USD.market_cap</th>\n",
       "      <th>last_updated_UTC</th>\n",
       "      <th>USD.price</th>\n",
       "      <th>USD.volume_24h</th>\n",
       "      <th>USD.percent_change_1h</th>\n",
       "      <th>USD.percent_change_24h</th>\n",
       "      <th>USD.percent_change_7d</th>\n",
       "      <th>api_id</th>\n",
       "    </tr>\n",
       "  </thead>\n",
       "  <tbody>\n",
       "    <tr>\n",
       "      <th>0</th>\n",
       "      <td>Bitcoin</td>\n",
       "      <td>BTC</td>\n",
       "      <td>1</td>\n",
       "      <td>911616482462</td>\n",
       "      <td>2021-05-13 20:00:33</td>\n",
       "      <td>48710.00</td>\n",
       "      <td>110307806153</td>\n",
       "      <td>1.249185</td>\n",
       "      <td>-10.831957</td>\n",
       "      <td>-15.186919</td>\n",
       "      <td>1</td>\n",
       "    </tr>\n",
       "    <tr>\n",
       "      <th>1</th>\n",
       "      <td>Ethereum</td>\n",
       "      <td>ETH</td>\n",
       "      <td>2</td>\n",
       "      <td>424613240080</td>\n",
       "      <td>2021-05-13 20:01:24</td>\n",
       "      <td>3671.26</td>\n",
       "      <td>103360144787</td>\n",
       "      <td>1.538632</td>\n",
       "      <td>-10.473776</td>\n",
       "      <td>4.162007</td>\n",
       "      <td>1027</td>\n",
       "    </tr>\n",
       "    <tr>\n",
       "      <th>2</th>\n",
       "      <td>Binance Coin</td>\n",
       "      <td>BNB</td>\n",
       "      <td>3</td>\n",
       "      <td>85137771061</td>\n",
       "      <td>2021-05-13 20:01:48</td>\n",
       "      <td>551.30</td>\n",
       "      <td>9605007125</td>\n",
       "      <td>-0.000232</td>\n",
       "      <td>-14.309001</td>\n",
       "      <td>-15.422727</td>\n",
       "      <td>1839</td>\n",
       "    </tr>\n",
       "    <tr>\n",
       "      <th>3</th>\n",
       "      <td>Cardano</td>\n",
       "      <td>ADA</td>\n",
       "      <td>4</td>\n",
       "      <td>59760349310</td>\n",
       "      <td>2021-05-13 20:04:58</td>\n",
       "      <td>1.86</td>\n",
       "      <td>13738401618</td>\n",
       "      <td>-0.915932</td>\n",
       "      <td>8.731404</td>\n",
       "      <td>25.893824</td>\n",
       "      <td>2010</td>\n",
       "    </tr>\n",
       "    <tr>\n",
       "      <th>4</th>\n",
       "      <td>XRP</td>\n",
       "      <td>XRP</td>\n",
       "      <td>5</td>\n",
       "      <td>57941705406</td>\n",
       "      <td>2021-05-13 20:04:29</td>\n",
       "      <td>1.26</td>\n",
       "      <td>11929052127</td>\n",
       "      <td>0.730055</td>\n",
       "      <td>-10.299603</td>\n",
       "      <td>-21.912568</td>\n",
       "      <td>52</td>\n",
       "    </tr>\n",
       "  </tbody>\n",
       "</table>\n",
       "</div>"
      ],
      "text/plain": [
       "           name symbol market_cap_rank  USD.market_cap    last_updated_UTC  \\\n",
       "0       Bitcoin    BTC               1    911616482462 2021-05-13 20:00:33   \n",
       "1      Ethereum    ETH               2    424613240080 2021-05-13 20:01:24   \n",
       "2  Binance Coin    BNB               3     85137771061 2021-05-13 20:01:48   \n",
       "3       Cardano    ADA               4     59760349310 2021-05-13 20:04:58   \n",
       "4           XRP    XRP               5     57941705406 2021-05-13 20:04:29   \n",
       "\n",
       "   USD.price  USD.volume_24h  USD.percent_change_1h  USD.percent_change_24h  \\\n",
       "0   48710.00    110307806153               1.249185              -10.831957   \n",
       "1    3671.26    103360144787               1.538632              -10.473776   \n",
       "2     551.30      9605007125              -0.000232              -14.309001   \n",
       "3       1.86     13738401618              -0.915932                8.731404   \n",
       "4       1.26     11929052127               0.730055              -10.299603   \n",
       "\n",
       "   USD.percent_change_7d api_id  \n",
       "0             -15.186919      1  \n",
       "1               4.162007   1027  \n",
       "2             -15.422727   1839  \n",
       "3              25.893824   2010  \n",
       "4             -21.912568     52  "
      ]
     },
     "execution_count": 8,
     "metadata": {},
     "output_type": "execute_result"
    }
   ],
   "source": [
    "tickers_df.head(5)"
   ]
  },
  {
   "cell_type": "code",
   "execution_count": 9,
   "id": "finished-reform",
   "metadata": {},
   "outputs": [
    {
     "name": "stdout",
     "output_type": "stream",
     "text": [
      "<class 'pandas.core.frame.DataFrame'>\n",
      "RangeIndex: 500 entries, 0 to 499\n",
      "Data columns (total 11 columns):\n",
      " #   Column                  Non-Null Count  Dtype         \n",
      "---  ------                  --------------  -----         \n",
      " 0   name                    500 non-null    object        \n",
      " 1   symbol                  500 non-null    object        \n",
      " 2   market_cap_rank         500 non-null    object        \n",
      " 3   USD.market_cap          500 non-null    int64         \n",
      " 4   last_updated_UTC        500 non-null    datetime64[ns]\n",
      " 5   USD.price               500 non-null    float64       \n",
      " 6   USD.volume_24h          500 non-null    int64         \n",
      " 7   USD.percent_change_1h   474 non-null    float64       \n",
      " 8   USD.percent_change_24h  486 non-null    float64       \n",
      " 9   USD.percent_change_7d   494 non-null    float64       \n",
      " 10  api_id                  500 non-null    object        \n",
      "dtypes: datetime64[ns](1), float64(4), int64(2), object(4)\n",
      "memory usage: 43.1+ KB\n"
     ]
    }
   ],
   "source": [
    "tickers_df.info()"
   ]
  },
  {
   "cell_type": "code",
   "execution_count": 10,
   "id": "educated-thumb",
   "metadata": {},
   "outputs": [
    {
     "ename": "ValueError",
     "evalue": "The number of FixedLocator locations (25), usually from a call to set_ticks, does not match the number of ticklabels (500).",
     "output_type": "error",
     "traceback": [
      "\u001b[0;31m---------------------------------------------------------------------------\u001b[0m",
      "\u001b[0;31mValueError\u001b[0m                                Traceback (most recent call last)",
      "\u001b[0;32m<ipython-input-10-5c3464020985>\u001b[0m in \u001b[0;36m<module>\u001b[0;34m\u001b[0m\n\u001b[1;32m      1\u001b[0m \u001b[0max\u001b[0m \u001b[0;34m=\u001b[0m \u001b[0mtickers_df\u001b[0m\u001b[0;34m[\u001b[0m\u001b[0;34m'USD.price'\u001b[0m\u001b[0;34m]\u001b[0m\u001b[0;34m.\u001b[0m\u001b[0mhead\u001b[0m\u001b[0;34m(\u001b[0m\u001b[0;36m25\u001b[0m\u001b[0;34m)\u001b[0m\u001b[0;34m.\u001b[0m\u001b[0mplot\u001b[0m\u001b[0;34m.\u001b[0m\u001b[0mbar\u001b[0m\u001b[0;34m(\u001b[0m\u001b[0mfigsize\u001b[0m\u001b[0;34m=\u001b[0m\u001b[0;34m(\u001b[0m\u001b[0;36m12\u001b[0m\u001b[0;34m,\u001b[0m \u001b[0;36m9\u001b[0m\u001b[0;34m)\u001b[0m\u001b[0;34m)\u001b[0m\u001b[0;34m;\u001b[0m\u001b[0;34m\u001b[0m\u001b[0;34m\u001b[0m\u001b[0m\n\u001b[0;32m----> 2\u001b[0;31m \u001b[0max\u001b[0m\u001b[0;34m.\u001b[0m\u001b[0mset_xticklabels\u001b[0m\u001b[0;34m(\u001b[0m\u001b[0mtickers_df\u001b[0m\u001b[0;34m[\u001b[0m\u001b[0;34m'name'\u001b[0m\u001b[0;34m]\u001b[0m\u001b[0;34m)\u001b[0m\u001b[0;34m;\u001b[0m\u001b[0;34m\u001b[0m\u001b[0;34m\u001b[0m\u001b[0m\n\u001b[0m",
      "\u001b[0;32m/opt/anaconda3/lib/python3.8/site-packages/matplotlib/axes/_base.py\u001b[0m in \u001b[0;36mwrapper\u001b[0;34m(self, *args, **kwargs)\u001b[0m\n\u001b[1;32m     61\u001b[0m \u001b[0;34m\u001b[0m\u001b[0m\n\u001b[1;32m     62\u001b[0m         \u001b[0;32mdef\u001b[0m \u001b[0mwrapper\u001b[0m\u001b[0;34m(\u001b[0m\u001b[0mself\u001b[0m\u001b[0;34m,\u001b[0m \u001b[0;34m*\u001b[0m\u001b[0margs\u001b[0m\u001b[0;34m,\u001b[0m \u001b[0;34m**\u001b[0m\u001b[0mkwargs\u001b[0m\u001b[0;34m)\u001b[0m\u001b[0;34m:\u001b[0m\u001b[0;34m\u001b[0m\u001b[0;34m\u001b[0m\u001b[0m\n\u001b[0;32m---> 63\u001b[0;31m             \u001b[0;32mreturn\u001b[0m \u001b[0mget_method\u001b[0m\u001b[0;34m(\u001b[0m\u001b[0mself\u001b[0m\u001b[0;34m)\u001b[0m\u001b[0;34m(\u001b[0m\u001b[0;34m*\u001b[0m\u001b[0margs\u001b[0m\u001b[0;34m,\u001b[0m \u001b[0;34m**\u001b[0m\u001b[0mkwargs\u001b[0m\u001b[0;34m)\u001b[0m\u001b[0;34m\u001b[0m\u001b[0;34m\u001b[0m\u001b[0m\n\u001b[0m\u001b[1;32m     64\u001b[0m \u001b[0;34m\u001b[0m\u001b[0m\n\u001b[1;32m     65\u001b[0m         \u001b[0mwrapper\u001b[0m\u001b[0;34m.\u001b[0m\u001b[0m__module__\u001b[0m \u001b[0;34m=\u001b[0m \u001b[0mowner\u001b[0m\u001b[0;34m.\u001b[0m\u001b[0m__module__\u001b[0m\u001b[0;34m\u001b[0m\u001b[0;34m\u001b[0m\u001b[0m\n",
      "\u001b[0;32m/opt/anaconda3/lib/python3.8/site-packages/matplotlib/cbook/deprecation.py\u001b[0m in \u001b[0;36mwrapper\u001b[0;34m(*args, **kwargs)\u001b[0m\n\u001b[1;32m    449\u001b[0m                 \u001b[0;34m\"parameter will become keyword-only %(removal)s.\"\u001b[0m\u001b[0;34m,\u001b[0m\u001b[0;34m\u001b[0m\u001b[0;34m\u001b[0m\u001b[0m\n\u001b[1;32m    450\u001b[0m                 name=name, obj_type=f\"parameter of {func.__name__}()\")\n\u001b[0;32m--> 451\u001b[0;31m         \u001b[0;32mreturn\u001b[0m \u001b[0mfunc\u001b[0m\u001b[0;34m(\u001b[0m\u001b[0;34m*\u001b[0m\u001b[0margs\u001b[0m\u001b[0;34m,\u001b[0m \u001b[0;34m**\u001b[0m\u001b[0mkwargs\u001b[0m\u001b[0;34m)\u001b[0m\u001b[0;34m\u001b[0m\u001b[0;34m\u001b[0m\u001b[0m\n\u001b[0m\u001b[1;32m    452\u001b[0m \u001b[0;34m\u001b[0m\u001b[0m\n\u001b[1;32m    453\u001b[0m     \u001b[0;32mreturn\u001b[0m \u001b[0mwrapper\u001b[0m\u001b[0;34m\u001b[0m\u001b[0;34m\u001b[0m\u001b[0m\n",
      "\u001b[0;32m/opt/anaconda3/lib/python3.8/site-packages/matplotlib/axis.py\u001b[0m in \u001b[0;36m_set_ticklabels\u001b[0;34m(self, labels, fontdict, minor, **kwargs)\u001b[0m\n\u001b[1;32m   1794\u001b[0m         \u001b[0;32mif\u001b[0m \u001b[0mfontdict\u001b[0m \u001b[0;32mis\u001b[0m \u001b[0;32mnot\u001b[0m \u001b[0;32mNone\u001b[0m\u001b[0;34m:\u001b[0m\u001b[0;34m\u001b[0m\u001b[0;34m\u001b[0m\u001b[0m\n\u001b[1;32m   1795\u001b[0m             \u001b[0mkwargs\u001b[0m\u001b[0;34m.\u001b[0m\u001b[0mupdate\u001b[0m\u001b[0;34m(\u001b[0m\u001b[0mfontdict\u001b[0m\u001b[0;34m)\u001b[0m\u001b[0;34m\u001b[0m\u001b[0;34m\u001b[0m\u001b[0m\n\u001b[0;32m-> 1796\u001b[0;31m         \u001b[0;32mreturn\u001b[0m \u001b[0mself\u001b[0m\u001b[0;34m.\u001b[0m\u001b[0mset_ticklabels\u001b[0m\u001b[0;34m(\u001b[0m\u001b[0mlabels\u001b[0m\u001b[0;34m,\u001b[0m \u001b[0mminor\u001b[0m\u001b[0;34m=\u001b[0m\u001b[0mminor\u001b[0m\u001b[0;34m,\u001b[0m \u001b[0;34m**\u001b[0m\u001b[0mkwargs\u001b[0m\u001b[0;34m)\u001b[0m\u001b[0;34m\u001b[0m\u001b[0;34m\u001b[0m\u001b[0m\n\u001b[0m\u001b[1;32m   1797\u001b[0m \u001b[0;34m\u001b[0m\u001b[0m\n\u001b[1;32m   1798\u001b[0m     \u001b[0;34m@\u001b[0m\u001b[0mcbook\u001b[0m\u001b[0;34m.\u001b[0m\u001b[0m_make_keyword_only\u001b[0m\u001b[0;34m(\u001b[0m\u001b[0;34m\"3.2\"\u001b[0m\u001b[0;34m,\u001b[0m \u001b[0;34m\"minor\"\u001b[0m\u001b[0;34m)\u001b[0m\u001b[0;34m\u001b[0m\u001b[0;34m\u001b[0m\u001b[0m\n",
      "\u001b[0;32m/opt/anaconda3/lib/python3.8/site-packages/matplotlib/axis.py\u001b[0m in \u001b[0;36mset_ticklabels\u001b[0;34m(self, ticklabels, minor, **kwargs)\u001b[0m\n\u001b[1;32m   1715\u001b[0m             \u001b[0;31m# remove all tick labels, so only error for > 0 ticklabels\u001b[0m\u001b[0;34m\u001b[0m\u001b[0;34m\u001b[0m\u001b[0;34m\u001b[0m\u001b[0m\n\u001b[1;32m   1716\u001b[0m             \u001b[0;32mif\u001b[0m \u001b[0mlen\u001b[0m\u001b[0;34m(\u001b[0m\u001b[0mlocator\u001b[0m\u001b[0;34m.\u001b[0m\u001b[0mlocs\u001b[0m\u001b[0;34m)\u001b[0m \u001b[0;34m!=\u001b[0m \u001b[0mlen\u001b[0m\u001b[0;34m(\u001b[0m\u001b[0mticklabels\u001b[0m\u001b[0;34m)\u001b[0m \u001b[0;32mand\u001b[0m \u001b[0mlen\u001b[0m\u001b[0;34m(\u001b[0m\u001b[0mticklabels\u001b[0m\u001b[0;34m)\u001b[0m \u001b[0;34m!=\u001b[0m \u001b[0;36m0\u001b[0m\u001b[0;34m:\u001b[0m\u001b[0;34m\u001b[0m\u001b[0;34m\u001b[0m\u001b[0m\n\u001b[0;32m-> 1717\u001b[0;31m                 raise ValueError(\n\u001b[0m\u001b[1;32m   1718\u001b[0m                     \u001b[0;34m\"The number of FixedLocator locations\"\u001b[0m\u001b[0;34m\u001b[0m\u001b[0;34m\u001b[0m\u001b[0m\n\u001b[1;32m   1719\u001b[0m                     \u001b[0;34mf\" ({len(locator.locs)}), usually from a call to\"\u001b[0m\u001b[0;34m\u001b[0m\u001b[0;34m\u001b[0m\u001b[0m\n",
      "\u001b[0;31mValueError\u001b[0m: The number of FixedLocator locations (25), usually from a call to set_ticks, does not match the number of ticklabels (500)."
     ]
    },
    {
     "data": {
      "image/png": "[encoded data removed]",
      "text/plain": [
       "<Figure size 864x648 with 1 Axes>"
      ]
     },
     "metadata": {
      "needs_background": "light"
     },
     "output_type": "display_data"
    }
   ],
   "source": [
    "ax = tickers_df['USD.price'].head(25).plot.bar(figsize=(12, 9));\n",
    "ax.set_xticklabels(tickers_df['name']);"
   ]
  },
  {
   "cell_type": "markdown",
   "id": "suited-details",
   "metadata": {},
   "source": [
    "---"
   ]
  },
  {
   "cell_type": "code",
   "execution_count": 11,
   "id": "fallen-montgomery",
   "metadata": {},
   "outputs": [],
   "source": [
    "today = pd.Timestamp(datetime.date.today(), tz='America/New_York').isoformat()\n",
    "now   = pd.Timestamp(datetime.datetime.now(), tz='America/New_York').isoformat()\n",
    "# (datetime.datetime(2016, 5, 1) - datetime.datetime(2021, 3, 1)).days / 365.25"
   ]
  },
  {
   "cell_type": "code",
   "execution_count": 12,
   "id": "critical-grave",
   "metadata": {},
   "outputs": [],
   "source": [
    "# Alpaca Markets credentials\n",
    "alpaca_api_key = get_key(find_dotenv(), 'ALPACA_API_KEY')\n",
    "alpaca_secret_key = get_key(find_dotenv(), 'ALPACA_SECRET_KEY')"
   ]
  },
  {
   "cell_type": "code",
   "execution_count": 13,
   "id": "olive-infection",
   "metadata": {},
   "outputs": [],
   "source": [
    "# Alpaca Markets Client SDK\n",
    "# GitHub: https://github.com/alpacahq/alpaca-trade-api-python\n",
    "# PyPI: https://pypi.org/project/alpaca-trade-api/\n",
    "\n",
    "# initialization\n",
    "alpaca = alpaca_trade_api.rest.REST(\n",
    "    alpaca_api_key,\n",
    "    alpaca_secret_key,\n",
    "    api_version='v2',\n",
    ")\n",
    "\n",
    "def get_bars_sdk (symbol):\n",
    "    df = alpaca.get_bars(\n",
    "        symbol,\n",
    "        TimeFrame.Day,\n",
    "        '2021-04-01',\n",
    "        '2021-04-01',\n",
    "        limit=10_000,\n",
    "    ).df\n",
    "    df['symbol'] = symbol\n",
    "    return df\n",
    "\n",
    "\"\"\"\n",
    "alpaca.get_bars(\n",
    "    'AAPL',\n",
    "    TimeFrame.Minute,\n",
    "    '2021-02-08',\n",
    "    '2021-02-08',\n",
    "    limit=10,\n",
    "    adjustment='raw',\n",
    ").df\n",
    "\"\"\";"
   ]
  },
  {
   "cell_type": "code",
   "execution_count": 14,
   "id": "vulnerable-carry",
   "metadata": {},
   "outputs": [],
   "source": [
    "# Alpaca Markets API\n",
    "BASE_URL_HIST = 'https://data.alpaca.markets/v2/'\n",
    "BASE_URL_PAPR = 'https://paper-api.alpaca.markets/v2/'\n",
    "KEYS = {'APCA-API-KEY-ID': alpaca_api_key, 'APCA-API-SECRET-KEY': alpaca_secret_key,}\n",
    "\n",
    "start = '2016-05-01'\n",
    "end   = '2021-04-01'\n",
    "\n",
    "def get_account ():\n",
    "    json_response = requests.get(\n",
    "        f'{BASE_URL_PAPR}account',\n",
    "        headers=KEYS,\n",
    "    ).json()\n",
    "    return json_response\n",
    "def create_order (symbol, qty, side, typ, time_in_force):\n",
    "    data = {\n",
    "        'symbol': symbol,\n",
    "        'qty': qty,\n",
    "        'side': side,\n",
    "        'type': typ,\n",
    "        'time_in_force': time_in_force,\n",
    "    }\n",
    "    json_response = requests.post(\n",
    "        f'{BASE_URL_PAPR}orders',\n",
    "        json=data,\n",
    "        headers=KEYS,\n",
    "    ).json()\n",
    "    return json_response\n",
    "#create_order('MSFT', 1000, 'buy', 'market', 'gtc')\n",
    "def get_orders ():\n",
    "    json_response = requests.get(\n",
    "        f'{BASE_URL_PAPR}orders',\n",
    "        headers=KEYS,\n",
    "    ).json()\n",
    "    return json_response\n",
    "\n",
    "\n",
    "def get_historical_trades (symbol, start=start, end=end, limit=10_000):\n",
    "    params = {\n",
    "        'start': start,\n",
    "        'end': end,\n",
    "        'limit': limit,\n",
    "    }\n",
    "    json_response = requests.get(\n",
    "        f'{BASE_URL_HIST}stocks/{symbol}/trades',\n",
    "        params=params,\n",
    "        headers=KEYS,\n",
    "    ).json()\n",
    "    return json_response\n",
    "\n",
    "def get_historical_quotes (symbol, start=start, end=end, limit=10_000):\n",
    "    \"\"\"\n",
    "    From the website: The quotes API provides NBBO quotes for a given ticker symbol at a specified date.\n",
    "    \"\"\"\n",
    "    params = {\n",
    "        'start': start,\n",
    "        'end': end,\n",
    "        'limit': limit,\n",
    "    }\n",
    "    json_response = requests.get(\n",
    "        f'{BASE_URL_HIST}stocks/{symbol}/quotes',\n",
    "        params=params,\n",
    "        headers=KEYS,\n",
    "    ).json()\n",
    "    return json_response\n",
    "\n",
    "def get_historical_bars (symbol='AAPL', start=start, end=end, limit=10_000, timeframe='1Day', page_token=None):\n",
    "    \"\"\"\n",
    "    The bars API returns aggregate historical data for the requested securities.\n",
    "    \"\"\"\n",
    "    params = {\n",
    "        'start': start,\n",
    "        'end': end,\n",
    "        'limit': limit,\n",
    "        'timeframe': timeframe,\n",
    "        'page_token': page_token,\n",
    "    }\n",
    "    json_response = requests.get(\n",
    "        f'{BASE_URL_HIST}stocks/{symbol}/bars',\n",
    "        params=params,\n",
    "        headers=KEYS,\n",
    "    ).json()\n",
    "    \n",
    "    df = pd.DataFrame.from_dict(json_response['bars']).rename(columns={\n",
    "        't': 'Datetime',\n",
    "        'o': 'Open Price',\n",
    "        'h': 'High Price',\n",
    "        'l': 'Low Price',\n",
    "        'c': 'Close Price',\n",
    "        'v': 'Volume',\n",
    "    })\n",
    "    df = df.set_index('Datetime')\n",
    "    df.index = pd.DatetimeIndex(df.index)\n",
    "    \n",
    "    df = df.set_index(\n",
    "        pd.MultiIndex.from_arrays(\n",
    "            [df.index.year, df.index.month, df.index.day],\n",
    "            names=['year', 'month', 'day']\n",
    "        )\n",
    "    )\n",
    "    #df = df.groupby([df.index.year, df.index.month, df.index.day]).first()\n",
    "    \n",
    "    return df"
   ]
  },
  {
   "cell_type": "code",
   "execution_count": null,
   "id": "experienced-chaos",
   "metadata": {},
   "outputs": [],
   "source": [
    "#get_historical_bars('SPY')"
   ]
  },
  {
   "cell_type": "code",
   "execution_count": null,
   "id": "executive-vatican",
   "metadata": {},
   "outputs": [],
   "source": [
    "#get_historical_bars('SPY')[['Open Price', 'Close Price']].plot(figsize=(12, 9));"
   ]
  },
  {
   "cell_type": "markdown",
   "id": "surface-rachel",
   "metadata": {},
   "source": [
    "---\n",
    "# Personal Finance"
   ]
  },
  {
   "cell_type": "markdown",
   "id": "taken-mapping",
   "metadata": {},
   "source": [
    "#### Assets"
   ]
  },
  {
   "cell_type": "code",
   "execution_count": 15,
   "id": "stunning-possibility",
   "metadata": {},
   "outputs": [
    {
     "data": {
      "text/html": [
       "<div>\n",
       "<style scoped>\n",
       "    .dataframe tbody tr th:only-of-type {\n",
       "        vertical-align: middle;\n",
       "    }\n",
       "\n",
       "    .dataframe tbody tr th {\n",
       "        vertical-align: top;\n",
       "    }\n",
       "\n",
       "    .dataframe thead th {\n",
       "        text-align: right;\n",
       "    }\n",
       "</style>\n",
       "<table border=\"1\" class=\"dataframe\">\n",
       "  <thead>\n",
       "    <tr style=\"text-align: right;\">\n",
       "      <th></th>\n",
       "      <th>assets</th>\n",
       "      <th>class</th>\n",
       "    </tr>\n",
       "  </thead>\n",
       "  <tbody>\n",
       "    <tr>\n",
       "      <th>BTC</th>\n",
       "      <td>1.2</td>\n",
       "      <td>crypto</td>\n",
       "    </tr>\n",
       "    <tr>\n",
       "      <th>ETH</th>\n",
       "      <td>5.3</td>\n",
       "      <td>crypto</td>\n",
       "    </tr>\n",
       "    <tr>\n",
       "      <th>SPY</th>\n",
       "      <td>50.0</td>\n",
       "      <td>shares</td>\n",
       "    </tr>\n",
       "    <tr>\n",
       "      <th>AGG</th>\n",
       "      <td>200.0</td>\n",
       "      <td>shares</td>\n",
       "    </tr>\n",
       "  </tbody>\n",
       "</table>\n",
       "</div>"
      ],
      "text/plain": [
       "     assets   class\n",
       "BTC     1.2  crypto\n",
       "ETH     5.3  crypto\n",
       "SPY    50.0  shares\n",
       "AGG   200.0  shares"
      ]
     },
     "execution_count": 15,
     "metadata": {},
     "output_type": "execute_result"
    }
   ],
   "source": [
    "avg_monthly_income = 12_000\n",
    "emerg_fund_thresh  = avg_monthly_income * 3\n",
    "\n",
    "portfolio = pd.DataFrame({\n",
    "    'BTC': 1.2,\n",
    "    'ETH': 5.3,\n",
    "    'SPY': 50,\n",
    "    'AGG': 200,\n",
    "}, index=['assets'])\n",
    "portfolio = portfolio.T\n",
    "portfolio['class'] = ['crypto'] * 2 + ['shares'] * 2\n",
    "portfolio"
   ]
  },
  {
   "cell_type": "code",
   "execution_count": 16,
   "id": "accessible-equity",
   "metadata": {},
   "outputs": [
    {
     "ename": "HTTPError",
     "evalue": "403 Client Error: Forbidden for url: https://data.alpaca.markets/v2/stocks/SPY/bars?timeframe=1Day&adjustment=raw&start=2021-04-01&end=2021-04-01&limit=10000",
     "output_type": "error",
     "traceback": [
      "\u001b[0;31m---------------------------------------------------------------------------\u001b[0m",
      "\u001b[0;31mHTTPError\u001b[0m                                 Traceback (most recent call last)",
      "\u001b[0;32m<ipython-input-16-59161f11336d>\u001b[0m in \u001b[0;36m<module>\u001b[0;34m\u001b[0m\n\u001b[1;32m      6\u001b[0m   \u001b[0;31m#requests.get(f'{BASE_URL}ticker/ethereum/').json()['data']['1027']['quotes']['USD']['price']\u001b[0m\u001b[0;34m\u001b[0m\u001b[0;34m\u001b[0m\u001b[0;34m\u001b[0m\u001b[0m\n\u001b[1;32m      7\u001b[0m \u001b[0mprices\u001b[0m\u001b[0;34m.\u001b[0m\u001b[0mappend\u001b[0m\u001b[0;34m(\u001b[0m\u001b[0meth_price\u001b[0m\u001b[0;34m)\u001b[0m\u001b[0;34m\u001b[0m\u001b[0;34m\u001b[0m\u001b[0m\n\u001b[0;32m----> 8\u001b[0;31m \u001b[0mspy_price\u001b[0m \u001b[0;34m=\u001b[0m \u001b[0mget_bars_sdk\u001b[0m\u001b[0;34m(\u001b[0m\u001b[0;34m'SPY'\u001b[0m\u001b[0;34m)\u001b[0m\u001b[0;34m.\u001b[0m\u001b[0mvalues\u001b[0m\u001b[0;34m[\u001b[0m\u001b[0;36m0\u001b[0m\u001b[0;34m,\u001b[0m \u001b[0;36m3\u001b[0m\u001b[0;34m]\u001b[0m\u001b[0;34m\u001b[0m\u001b[0;34m\u001b[0m\u001b[0m\n\u001b[0m\u001b[1;32m      9\u001b[0m \u001b[0mprices\u001b[0m\u001b[0;34m.\u001b[0m\u001b[0mappend\u001b[0m\u001b[0;34m(\u001b[0m\u001b[0mspy_price\u001b[0m\u001b[0;34m)\u001b[0m\u001b[0;34m\u001b[0m\u001b[0;34m\u001b[0m\u001b[0m\n\u001b[1;32m     10\u001b[0m \u001b[0magg_price\u001b[0m \u001b[0;34m=\u001b[0m \u001b[0mget_bars_sdk\u001b[0m\u001b[0;34m(\u001b[0m\u001b[0;34m'AGG'\u001b[0m\u001b[0;34m)\u001b[0m\u001b[0;34m.\u001b[0m\u001b[0mvalues\u001b[0m\u001b[0;34m[\u001b[0m\u001b[0;36m0\u001b[0m\u001b[0;34m,\u001b[0m \u001b[0;36m3\u001b[0m\u001b[0;34m]\u001b[0m\u001b[0;34m\u001b[0m\u001b[0;34m\u001b[0m\u001b[0m\n",
      "\u001b[0;32m<ipython-input-13-73663a42b8e1>\u001b[0m in \u001b[0;36mget_bars_sdk\u001b[0;34m(symbol)\u001b[0m\n\u001b[1;32m     11\u001b[0m \u001b[0;34m\u001b[0m\u001b[0m\n\u001b[1;32m     12\u001b[0m \u001b[0;32mdef\u001b[0m \u001b[0mget_bars_sdk\u001b[0m \u001b[0;34m(\u001b[0m\u001b[0msymbol\u001b[0m\u001b[0;34m)\u001b[0m\u001b[0;34m:\u001b[0m\u001b[0;34m\u001b[0m\u001b[0;34m\u001b[0m\u001b[0m\n\u001b[0;32m---> 13\u001b[0;31m     df = alpaca.get_bars(\n\u001b[0m\u001b[1;32m     14\u001b[0m         \u001b[0msymbol\u001b[0m\u001b[0;34m,\u001b[0m\u001b[0;34m\u001b[0m\u001b[0;34m\u001b[0m\u001b[0m\n\u001b[1;32m     15\u001b[0m         \u001b[0mTimeFrame\u001b[0m\u001b[0;34m.\u001b[0m\u001b[0mDay\u001b[0m\u001b[0;34m,\u001b[0m\u001b[0;34m\u001b[0m\u001b[0;34m\u001b[0m\u001b[0m\n",
      "\u001b[0;32m/opt/anaconda3/lib/python3.8/site-packages/alpaca_trade_api/rest.py\u001b[0m in \u001b[0;36mget_bars\u001b[0;34m(self, symbol, timeframe, start, end, adjustment, limit)\u001b[0m\n\u001b[1;32m    623\u001b[0m                  \u001b[0mlimit\u001b[0m\u001b[0;34m:\u001b[0m \u001b[0mint\u001b[0m \u001b[0;34m=\u001b[0m \u001b[0;32mNone\u001b[0m\u001b[0;34m,\u001b[0m\u001b[0;34m\u001b[0m\u001b[0;34m\u001b[0m\u001b[0m\n\u001b[1;32m    624\u001b[0m                  ) -> BarsV2:\n\u001b[0;32m--> 625\u001b[0;31m         bars = list(self.get_bars_iter(symbol,\n\u001b[0m\u001b[1;32m    626\u001b[0m                                        \u001b[0mtimeframe\u001b[0m\u001b[0;34m,\u001b[0m\u001b[0;34m\u001b[0m\u001b[0;34m\u001b[0m\u001b[0m\n\u001b[1;32m    627\u001b[0m                                        \u001b[0mstart\u001b[0m\u001b[0;34m,\u001b[0m\u001b[0;34m\u001b[0m\u001b[0;34m\u001b[0m\u001b[0m\n",
      "\u001b[0;32m/opt/anaconda3/lib/python3.8/site-packages/alpaca_trade_api/rest.py\u001b[0m in \u001b[0;36mget_bars_iter\u001b[0;34m(self, symbol, timeframe, start, end, adjustment, limit, raw)\u001b[0m\n\u001b[1;32m    609\u001b[0m                                  \u001b[0madjustment\u001b[0m\u001b[0;34m=\u001b[0m\u001b[0madjustment\u001b[0m\u001b[0;34m,\u001b[0m\u001b[0;34m\u001b[0m\u001b[0;34m\u001b[0m\u001b[0m\n\u001b[1;32m    610\u001b[0m                                  start=start, end=end, limit=limit)\n\u001b[0;32m--> 611\u001b[0;31m         \u001b[0;32mfor\u001b[0m \u001b[0mbar\u001b[0m \u001b[0;32min\u001b[0m \u001b[0mbars\u001b[0m\u001b[0;34m:\u001b[0m\u001b[0;34m\u001b[0m\u001b[0;34m\u001b[0m\u001b[0m\n\u001b[0m\u001b[1;32m    612\u001b[0m             \u001b[0;32mif\u001b[0m \u001b[0mraw\u001b[0m\u001b[0;34m:\u001b[0m\u001b[0;34m\u001b[0m\u001b[0;34m\u001b[0m\u001b[0m\n\u001b[1;32m    613\u001b[0m                 \u001b[0;32myield\u001b[0m \u001b[0mbar\u001b[0m\u001b[0;34m\u001b[0m\u001b[0;34m\u001b[0m\u001b[0m\n",
      "\u001b[0;32m/opt/anaconda3/lib/python3.8/site-packages/alpaca_trade_api/rest.py\u001b[0m in \u001b[0;36m_data_get_v2\u001b[0;34m(self, endpoint, symbol, **kwargs)\u001b[0m\n\u001b[1;32m    533\u001b[0m             \u001b[0mdata\u001b[0m\u001b[0;34m[\u001b[0m\u001b[0;34m'limit'\u001b[0m\u001b[0;34m]\u001b[0m \u001b[0;34m=\u001b[0m \u001b[0mactual_limit\u001b[0m\u001b[0;34m\u001b[0m\u001b[0;34m\u001b[0m\u001b[0m\n\u001b[1;32m    534\u001b[0m             \u001b[0mdata\u001b[0m\u001b[0;34m[\u001b[0m\u001b[0;34m'page_token'\u001b[0m\u001b[0;34m]\u001b[0m \u001b[0;34m=\u001b[0m \u001b[0mpage_token\u001b[0m\u001b[0;34m\u001b[0m\u001b[0;34m\u001b[0m\u001b[0m\n\u001b[0;32m--> 535\u001b[0;31m             resp = self.data_get('/stocks/{}/{}'.format(symbol, endpoint),\n\u001b[0m\u001b[1;32m    536\u001b[0m                                  data=data, api_version='v2')\n\u001b[1;32m    537\u001b[0m             \u001b[0mitems\u001b[0m \u001b[0;34m=\u001b[0m \u001b[0mresp\u001b[0m\u001b[0;34m.\u001b[0m\u001b[0mget\u001b[0m\u001b[0;34m(\u001b[0m\u001b[0mendpoint\u001b[0m\u001b[0;34m,\u001b[0m \u001b[0;34m[\u001b[0m\u001b[0;34m]\u001b[0m\u001b[0;34m)\u001b[0m\u001b[0;34m\u001b[0m\u001b[0;34m\u001b[0m\u001b[0m\n",
      "\u001b[0;32m/opt/anaconda3/lib/python3.8/site-packages/alpaca_trade_api/rest.py\u001b[0m in \u001b[0;36mdata_get\u001b[0;34m(self, path, data, api_version)\u001b[0m\n\u001b[1;32m    190\u001b[0m     \u001b[0;32mdef\u001b[0m \u001b[0mdata_get\u001b[0m\u001b[0;34m(\u001b[0m\u001b[0mself\u001b[0m\u001b[0;34m,\u001b[0m \u001b[0mpath\u001b[0m\u001b[0;34m,\u001b[0m \u001b[0mdata\u001b[0m\u001b[0;34m=\u001b[0m\u001b[0;32mNone\u001b[0m\u001b[0;34m,\u001b[0m \u001b[0mapi_version\u001b[0m\u001b[0;34m=\u001b[0m\u001b[0;34m'v1'\u001b[0m\u001b[0;34m)\u001b[0m\u001b[0;34m:\u001b[0m\u001b[0;34m\u001b[0m\u001b[0;34m\u001b[0m\u001b[0m\n\u001b[1;32m    191\u001b[0m         \u001b[0mbase_url\u001b[0m\u001b[0;34m:\u001b[0m \u001b[0mURL\u001b[0m \u001b[0;34m=\u001b[0m \u001b[0mget_data_url\u001b[0m\u001b[0;34m(\u001b[0m\u001b[0;34m)\u001b[0m\u001b[0;34m\u001b[0m\u001b[0;34m\u001b[0m\u001b[0m\n\u001b[0;32m--> 192\u001b[0;31m         return self._request(\n\u001b[0m\u001b[1;32m    193\u001b[0m             \u001b[0;34m'GET'\u001b[0m\u001b[0;34m,\u001b[0m \u001b[0mpath\u001b[0m\u001b[0;34m,\u001b[0m \u001b[0mdata\u001b[0m\u001b[0;34m,\u001b[0m \u001b[0mbase_url\u001b[0m\u001b[0;34m=\u001b[0m\u001b[0mbase_url\u001b[0m\u001b[0;34m,\u001b[0m \u001b[0mapi_version\u001b[0m\u001b[0;34m=\u001b[0m\u001b[0mapi_version\u001b[0m\u001b[0;34m,\u001b[0m\u001b[0;34m\u001b[0m\u001b[0;34m\u001b[0m\u001b[0m\n\u001b[1;32m    194\u001b[0m         )\n",
      "\u001b[0;32m/opt/anaconda3/lib/python3.8/site-packages/alpaca_trade_api/rest.py\u001b[0m in \u001b[0;36m_request\u001b[0;34m(self, method, path, data, base_url, api_version)\u001b[0m\n\u001b[1;32m    137\u001b[0m         \u001b[0;32mwhile\u001b[0m \u001b[0mretry\u001b[0m \u001b[0;34m>=\u001b[0m \u001b[0;36m0\u001b[0m\u001b[0;34m:\u001b[0m\u001b[0;34m\u001b[0m\u001b[0;34m\u001b[0m\u001b[0m\n\u001b[1;32m    138\u001b[0m             \u001b[0;32mtry\u001b[0m\u001b[0;34m:\u001b[0m\u001b[0;34m\u001b[0m\u001b[0;34m\u001b[0m\u001b[0m\n\u001b[0;32m--> 139\u001b[0;31m                 \u001b[0;32mreturn\u001b[0m \u001b[0mself\u001b[0m\u001b[0;34m.\u001b[0m\u001b[0m_one_request\u001b[0m\u001b[0;34m(\u001b[0m\u001b[0mmethod\u001b[0m\u001b[0;34m,\u001b[0m \u001b[0murl\u001b[0m\u001b[0;34m,\u001b[0m \u001b[0mopts\u001b[0m\u001b[0;34m,\u001b[0m \u001b[0mretry\u001b[0m\u001b[0;34m)\u001b[0m\u001b[0;34m\u001b[0m\u001b[0;34m\u001b[0m\u001b[0m\n\u001b[0m\u001b[1;32m    140\u001b[0m             \u001b[0;32mexcept\u001b[0m \u001b[0mRetryException\u001b[0m\u001b[0;34m:\u001b[0m\u001b[0;34m\u001b[0m\u001b[0;34m\u001b[0m\u001b[0m\n\u001b[1;32m    141\u001b[0m                 \u001b[0mretry_wait\u001b[0m \u001b[0;34m=\u001b[0m \u001b[0mself\u001b[0m\u001b[0;34m.\u001b[0m\u001b[0m_retry_wait\u001b[0m\u001b[0;34m\u001b[0m\u001b[0;34m\u001b[0m\u001b[0m\n",
      "\u001b[0;32m/opt/anaconda3/lib/python3.8/site-packages/alpaca_trade_api/rest.py\u001b[0m in \u001b[0;36m_one_request\u001b[0;34m(self, method, url, opts, retry)\u001b[0m\n\u001b[1;32m    158\u001b[0m         \u001b[0mresp\u001b[0m \u001b[0;34m=\u001b[0m \u001b[0mself\u001b[0m\u001b[0;34m.\u001b[0m\u001b[0m_session\u001b[0m\u001b[0;34m.\u001b[0m\u001b[0mrequest\u001b[0m\u001b[0;34m(\u001b[0m\u001b[0mmethod\u001b[0m\u001b[0;34m,\u001b[0m \u001b[0murl\u001b[0m\u001b[0;34m,\u001b[0m \u001b[0;34m**\u001b[0m\u001b[0mopts\u001b[0m\u001b[0;34m)\u001b[0m\u001b[0;34m\u001b[0m\u001b[0;34m\u001b[0m\u001b[0m\n\u001b[1;32m    159\u001b[0m         \u001b[0;32mtry\u001b[0m\u001b[0;34m:\u001b[0m\u001b[0;34m\u001b[0m\u001b[0;34m\u001b[0m\u001b[0m\n\u001b[0;32m--> 160\u001b[0;31m             \u001b[0mresp\u001b[0m\u001b[0;34m.\u001b[0m\u001b[0mraise_for_status\u001b[0m\u001b[0;34m(\u001b[0m\u001b[0;34m)\u001b[0m\u001b[0;34m\u001b[0m\u001b[0;34m\u001b[0m\u001b[0m\n\u001b[0m\u001b[1;32m    161\u001b[0m         \u001b[0;32mexcept\u001b[0m \u001b[0mHTTPError\u001b[0m \u001b[0;32mas\u001b[0m \u001b[0mhttp_error\u001b[0m\u001b[0;34m:\u001b[0m\u001b[0;34m\u001b[0m\u001b[0;34m\u001b[0m\u001b[0m\n\u001b[1;32m    162\u001b[0m             \u001b[0;31m# retry if we hit Rate Limit\u001b[0m\u001b[0;34m\u001b[0m\u001b[0;34m\u001b[0m\u001b[0;34m\u001b[0m\u001b[0m\n",
      "\u001b[0;32m/opt/anaconda3/lib/python3.8/site-packages/requests/models.py\u001b[0m in \u001b[0;36mraise_for_status\u001b[0;34m(self)\u001b[0m\n\u001b[1;32m    938\u001b[0m \u001b[0;34m\u001b[0m\u001b[0m\n\u001b[1;32m    939\u001b[0m         \u001b[0;32mif\u001b[0m \u001b[0mhttp_error_msg\u001b[0m\u001b[0;34m:\u001b[0m\u001b[0;34m\u001b[0m\u001b[0;34m\u001b[0m\u001b[0m\n\u001b[0;32m--> 940\u001b[0;31m             \u001b[0;32mraise\u001b[0m \u001b[0mHTTPError\u001b[0m\u001b[0;34m(\u001b[0m\u001b[0mhttp_error_msg\u001b[0m\u001b[0;34m,\u001b[0m \u001b[0mresponse\u001b[0m\u001b[0;34m=\u001b[0m\u001b[0mself\u001b[0m\u001b[0;34m)\u001b[0m\u001b[0;34m\u001b[0m\u001b[0;34m\u001b[0m\u001b[0m\n\u001b[0m\u001b[1;32m    941\u001b[0m \u001b[0;34m\u001b[0m\u001b[0m\n\u001b[1;32m    942\u001b[0m     \u001b[0;32mdef\u001b[0m \u001b[0mclose\u001b[0m\u001b[0;34m(\u001b[0m\u001b[0mself\u001b[0m\u001b[0;34m)\u001b[0m\u001b[0;34m:\u001b[0m\u001b[0;34m\u001b[0m\u001b[0;34m\u001b[0m\u001b[0m\n",
      "\u001b[0;31mHTTPError\u001b[0m: 403 Client Error: Forbidden for url: https://data.alpaca.markets/v2/stocks/SPY/bars?timeframe=1Day&adjustment=raw&start=2021-04-01&end=2021-04-01&limit=10000"
     ]
    }
   ],
   "source": [
    "prices = []\n",
    "btc_price = tickers_df[tickers_df['symbol']=='BTC'].values[0, 5] # get the current price of Bitcoin\n",
    "  #requests.get(f'{BASE_URL}ticker/bitcoin/').json()['data']['1']['quotes']['USD']['price']\n",
    "prices.append(btc_price)\n",
    "eth_price = tickers_df[tickers_df['symbol']=='ETH'].values[0, 5] # get the current price of Ethereum\n",
    "  #requests.get(f'{BASE_URL}ticker/ethereum/').json()['data']['1027']['quotes']['USD']['price']\n",
    "prices.append(eth_price)\n",
    "spy_price = get_bars_sdk('SPY').values[0, 3]\n",
    "prices.append(spy_price)\n",
    "agg_price = get_bars_sdk('AGG').values[0, 3]\n",
    "prices.append(agg_price)\n",
    "prices"
   ]
  },
  {
   "cell_type": "code",
   "execution_count": null,
   "id": "assumed-relations",
   "metadata": {},
   "outputs": [],
   "source": [
    "portfolio['price'] = prices\n",
    "portfolio"
   ]
  },
  {
   "cell_type": "code",
   "execution_count": null,
   "id": "blond-dealer",
   "metadata": {},
   "outputs": [],
   "source": [
    "portfolio['value'] = portfolio['assets'] * portfolio['price']\n",
    "portfolio.style.format({'assets': '{:.1f}', 'price': '${:,.2f}', 'value': '${:,.2f}'})"
   ]
  },
  {
   "cell_type": "code",
   "execution_count": null,
   "id": "reliable-divorce",
   "metadata": {},
   "outputs": [],
   "source": [
    "portfolio.plot.pie(y='value', title='Personal Savings', figsize=(12, 9));"
   ]
  },
  {
   "cell_type": "code",
   "execution_count": null,
   "id": "alive-german",
   "metadata": {},
   "outputs": [],
   "source": [
    "portfolio.groupby('class').sum().style.format({'assets': '{:.1f}', 'price': '${:,.2f}', 'value': '${:,.2f}'})"
   ]
  },
  {
   "cell_type": "code",
   "execution_count": null,
   "id": "intense-regulation",
   "metadata": {},
   "outputs": [],
   "source": [
    "portfolio[['value']].T.plot.barh(stacked=True, width=0.25, figsize=(12, 2));"
   ]
  },
  {
   "cell_type": "code",
   "execution_count": null,
   "id": "fifty-analysis",
   "metadata": {},
   "outputs": [],
   "source": [
    "portfolio.groupby('class').sum()[['value']].T.plot.barh(stacked=True, width=0.25, figsize=(12, 2), color=['lightblue', 'darkblue']);"
   ]
  },
  {
   "cell_type": "markdown",
   "id": "reasonable-place",
   "metadata": {},
   "source": [
    "---"
   ]
  },
  {
   "cell_type": "markdown",
   "id": "homeless-hello",
   "metadata": {},
   "source": [
    "#### Emergency Fund"
   ]
  },
  {
   "cell_type": "code",
   "execution_count": null,
   "id": "returning-penetration",
   "metadata": {},
   "outputs": [],
   "source": [
    "total_savings = portfolio['value'].sum()\n",
    "if total_savings >= emerg_fund_thresh:\n",
    "    print(\n",
    "        f'You have ${total_savings:,.2f} in savings.'\n",
    "        f'\\nYou\\'re meeting your emergency fund threshold of ${emerg_fund_thresh:,.2f}!'\n",
    "        f'\\nYou\\'re ${total_savings - emerg_fund_thresh:0,.2f} above your emergency fund threshold.'\n",
    "    )\n",
    "else:\n",
    "    print(\n",
    "        f'You have ${total_savings:,.2f} in savings.'\n",
    "        f'\\nYou\\'re not meeting your emergency fund threshold of ${emerg_fund_thresh:,.2f}!'\n",
    "        f'\\nYou\\'re ${emerg_fund_thresh - total_savings:0,.2f} below your emergency fund threshold.'\n",
    "    )"
   ]
  },
  {
   "cell_type": "markdown",
   "id": "invalid-copper",
   "metadata": {},
   "source": [
    "---"
   ]
  },
  {
   "cell_type": "markdown",
   "id": "coastal-longer",
   "metadata": {},
   "source": [
    "# Retirement Planning"
   ]
  },
  {
   "cell_type": "code",
   "execution_count": null,
   "id": "ceramic-chicago",
   "metadata": {},
   "outputs": [],
   "source": [
    "# get the last five years of shares data\n",
    "today      = pd.Timestamp(datetime.date.today(), tz='America/New_York').isoformat()\n",
    "five_years = pd.Timestamp(datetime.date.today() - datetime.timedelta(days=5*365.25), tz='America/New_York').isoformat()"
   ]
  },
  {
   "cell_type": "code",
   "execution_count": null,
   "id": "artistic-vintage",
   "metadata": {},
   "outputs": [],
   "source": [
    "today"
   ]
  },
  {
   "cell_type": "code",
   "execution_count": null,
   "id": "afraid-elephant",
   "metadata": {},
   "outputs": [],
   "source": [
    "five_years"
   ]
  },
  {
   "cell_type": "code",
   "execution_count": null,
   "id": "violent-villa",
   "metadata": {},
   "outputs": [],
   "source": [
    "spy_df = alpaca.get_bars(\n",
    "    'SPY',\n",
    "    TimeFrame.Day,\n",
    "    start='2016-05-01',\n",
    "    end=today,\n",
    "    limit=10_000,\n",
    ").df\n",
    "agg_df = alpaca.get_bars(\n",
    "    'AGG',\n",
    "    TimeFrame.Day,\n",
    "    start='2016-05-01',\n",
    "    end=today,\n",
    "    limit=10_000,\n",
    ").df\n",
    "df = pd.concat([spy_df, agg_df], axis=1)\n",
    "df.columns = pd.MultiIndex.from_tuples([(sym, col) for sym in ['SPY', 'AGG'] for col in ['open', 'high', 'low', 'close', 'volume']])\n",
    "df.head(2)"
   ]
  },
  {
   "cell_type": "code",
   "execution_count": null,
   "id": "finished-plumbing",
   "metadata": {},
   "outputs": [],
   "source": [
    "MC_thirty_year = MCSimulation(\n",
    "    portfolio_data = df,\n",
    "    weights = [0.4, 0.6],\n",
    "    num_simulation = 500,\n",
    "    num_trading_days = 252 * 30,\n",
    ")\n",
    "MC_thirty_year.portfolio_data.head()"
   ]
  },
  {
   "cell_type": "code",
   "execution_count": null,
   "id": "ignored-marina",
   "metadata": {},
   "outputs": [],
   "source": [
    "MC_thirty_year.calc_cumulative_return()"
   ]
  },
  {
   "cell_type": "code",
   "execution_count": null,
   "id": "normal-jesus",
   "metadata": {},
   "outputs": [],
   "source": [
    "MC_thirty_year.plot_simulation();"
   ]
  },
  {
   "cell_type": "code",
   "execution_count": null,
   "id": "consolidated-titanium",
   "metadata": {},
   "outputs": [],
   "source": [
    "MC_thirty_year.plot_distribution();"
   ]
  },
  {
   "cell_type": "code",
   "execution_count": null,
   "id": "unable-clause",
   "metadata": {},
   "outputs": [],
   "source": [
    "table30 = MC_thirty_year.summarize_cumulative_return()\n",
    "print(table30)"
   ]
  },
  {
   "cell_type": "code",
   "execution_count": null,
   "id": "sharp-wiring",
   "metadata": {},
   "outputs": [],
   "source": [
    "initial_investment = 20_000\n",
    "ci_lower = round(table30[8] * initial_investment, 2)\n",
    "ci_upper = round(table30[9] * initial_investment, 2)\n",
    "print(\n",
    "    f'There is a 95% chance that an initial investment of ${initial_investment} in the portfolio'\n",
    "    f' over the next 30 years will be in the range of'\n",
    "    f' ${ci_lower} and ${ci_upper}.'\n",
    ")"
   ]
  },
  {
   "cell_type": "code",
   "execution_count": null,
   "id": "historic-orbit",
   "metadata": {},
   "outputs": [],
   "source": [
    "initial_investment = 20_000 * 1.5\n",
    "ci_lower = round(table30[8] * initial_investment, 2)\n",
    "ci_upper = round(table30[9] * initial_investment, 2)\n",
    "print(\n",
    "    f'There is a 95% chance that an initial investment of ${initial_investment} in the portfolio'\n",
    "    f' over the next 30 years will be in the range of'\n",
    "    f' ${ci_lower} and ${ci_upper}.'\n",
    ")"
   ]
  },
  {
   "cell_type": "code",
   "execution_count": null,
   "id": "published-street",
   "metadata": {},
   "outputs": [],
   "source": [
    "MC_five_year = MCSimulation(\n",
    "    portfolio_data = df,\n",
    "    weights = [0.8, 0.2],\n",
    "    num_simulation = 500,\n",
    "    num_trading_days = 252 * 5,\n",
    ")"
   ]
  },
  {
   "cell_type": "code",
   "execution_count": null,
   "id": "behind-magnitude",
   "metadata": {},
   "outputs": [],
   "source": [
    "MC_five_year.calc_cumulative_return()"
   ]
  },
  {
   "cell_type": "code",
   "execution_count": null,
   "id": "elder-prevention",
   "metadata": {},
   "outputs": [],
   "source": [
    "MC_five_year.plot_simulation();"
   ]
  },
  {
   "cell_type": "code",
   "execution_count": null,
   "id": "regular-perfume",
   "metadata": {},
   "outputs": [],
   "source": [
    "MC_five_year.plot_distribution();"
   ]
  },
  {
   "cell_type": "code",
   "execution_count": null,
   "id": "complete-baghdad",
   "metadata": {},
   "outputs": [],
   "source": [
    "table5 = MC_five_year.summarize_cumulative_return()\n",
    "print(table5)"
   ]
  },
  {
   "cell_type": "code",
   "execution_count": null,
   "id": "transsexual-homeless",
   "metadata": {},
   "outputs": [],
   "source": [
    "initial_investment = 20_000 * 3\n",
    "ci_lower = round(table5[8] * initial_investment, 2)\n",
    "ci_upper = round(table5[9] * initial_investment, 2)\n",
    "print(\n",
    "    f'There is a 95% chance that an initial investment of ${initial_investment} in the portfolio'\n",
    "    f' over the next 5 years will be in the range of'\n",
    "    f' ${ci_lower} and ${ci_upper}.'\n",
    ")"
   ]
  },
  {
   "cell_type": "code",
   "execution_count": null,
   "id": "available-occasions",
   "metadata": {},
   "outputs": [],
   "source": [
    "MC_ten_year = MCSimulation(\n",
    "    portfolio_data = df,\n",
    "    weights = [0.8, 0.2],\n",
    "    num_simulation = 500,\n",
    "    num_trading_days = 252 * 10,\n",
    ")"
   ]
  },
  {
   "cell_type": "code",
   "execution_count": null,
   "id": "distributed-facing",
   "metadata": {},
   "outputs": [],
   "source": [
    "MC_ten_year.calc_cumulative_return()"
   ]
  },
  {
   "cell_type": "code",
   "execution_count": null,
   "id": "muslim-salvation",
   "metadata": {},
   "outputs": [],
   "source": [
    "MC_ten_year.plot_simulation();"
   ]
  },
  {
   "cell_type": "code",
   "execution_count": null,
   "id": "finite-bahamas",
   "metadata": {},
   "outputs": [],
   "source": [
    "MC_ten_year.plot_distribution();"
   ]
  },
  {
   "cell_type": "code",
   "execution_count": null,
   "id": "ahead-census",
   "metadata": {},
   "outputs": [],
   "source": [
    "table10 = MC_ten_year.summarize_cumulative_return()\n",
    "print(table10)"
   ]
  },
  {
   "cell_type": "code",
   "execution_count": null,
   "id": "becoming-socket",
   "metadata": {},
   "outputs": [],
   "source": [
    "initial_investment = 20_000 * 3\n",
    "ci_lower = round(table5[8] * initial_investment, 2)\n",
    "ci_upper = round(table5[9] * initial_investment, 2)\n",
    "print(\n",
    "    f'There is a 95% chance that an initial investment of ${initial_investment} in the portfolio'\n",
    "    f' over the next 10 years will be in the range of'\n",
    "    f' ${ci_lower} and ${ci_upper}.'\n",
    ")"
   ]
  },
  {
   "cell_type": "markdown",
   "id": "advanced-northeast",
   "metadata": {},
   "source": [
    "---"
   ]
  }
 ],
 "metadata": {
  "kernelspec": {
   "display_name": "Python 3",
   "language": "python",
   "name": "python3"
  },
  "language_info": {
   "codemirror_mode": {
    "name": "ipython",
    "version": 3
   },
   "file_extension": ".py",
   "mimetype": "text/x-python",
   "name": "python",
   "nbconvert_exporter": "python",
   "pygments_lexer": "ipython3",
   "version": "3.8.2"
  }
 },
 "nbformat": 4,
 "nbformat_minor": 5
}
