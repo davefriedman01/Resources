{
 "cells": [
  {
   "cell_type": "markdown",
   "id": "b893c9a9",
   "metadata": {},
   "source": [
    "Data Selection: which data are available? is data missing? can any data be removed?<br>\n",
    "Data Preprocessing: format, clean, sample<br>\n",
    "Data Transformation<br>\n",
    "Data Storage: store the data in a convenient, easy-to-retrieve format (csv, database, etc.)<br>"
   ]
  },
  {
   "cell_type": "markdown",
   "id": "59fb9596",
   "metadata": {},
   "source": [
    "Data Preprocessing in Unsupervised Learning<br>\n",
    "Feature Selection<br>"
   ]
  },
  {
   "cell_type": "markdown",
   "id": "f3ba49d6",
   "metadata": {},
   "source": [
    "---"
   ]
  },
  {
   "cell_type": "markdown",
   "id": "af511e76",
   "metadata": {},
   "source": [
    "## Prototype Clustering\n",
    "K-Means or K-Centroid (continuous data)<br>\n",
    "K-Medoid (categorical data)<br>\n",
    "\n",
    "creates a one-level partitioning of the data objects<br>\n",
    "\n",
    "Centroid: mean, median, etc.<br>\n",
    "applied to data objects in a continuous n-dim space<br>\n",
    "almost never corresponds to an actual data point<br>\n",
    "\n",
    "Medoid: the most representative point of a group of points<br>\n",
    "requires only a proximity measure for a pair of objects<br>\n",
    "must be an actual data point<br>"
   ]
  },
  {
   "cell_type": "markdown",
   "id": "c7aff14e",
   "metadata": {},
   "source": [
    "### K-Means"
   ]
  },
  {
   "cell_type": "markdown",
   "id": "e48693cc",
   "metadata": {},
   "source": [
    "Basic K-Means Algorithm\n",
    "1. Select $K$ points as initial centroids.\n",
    "2. __repeat__ (minimization of the objective function)\n",
    "3. &nbsp;&nbsp;&nbsp;&nbsp; Form $K$ clusters by assigning each point to its closest centroid.\n",
    "4. &nbsp;&nbsp;&nbsp;&nbsp; Recompute the centroid of each cluster.\n",
    "5. __until__ Centroids do not change (or, at most 1% of points change clusters).\n",
    "\n",
    "Choose<br>\n",
    "&nbsp;&nbsp;&nbsp;&nbsp;\n",
    "proximity measure<br>\n",
    "&nbsp;&nbsp;&nbsp;&nbsp;\n",
    "objective function<br>\n",
    "&nbsp;&nbsp;&nbsp;&nbsp;\n",
    "centroid<br>\n",
    "\n",
    "Steps 3 & 4<br>\n",
    "guaranteed to only find a local minimum w.r.t. the SSE, since they are based on optimizing the SSE for specific choices of the centroids and clusters rather than for all possible choices; this leads to suboptimal clustering<br>\n",
    "\n",
    "Step 3<br>\n",
    "Select a proximity measure; compute the proximity of each data point to each centroid; and assign the data point to the closest centroid<br>\n",
    "Forms clusters by assigning points to their nearest centroid, which minimizes the objective function for the given set of centroids<br>\n",
    "\n",
    "\n",
    "Step 4<br>\n",
    "Select and optimize an objective function<br>\n",
    "e.g., minimize the squared distance of each point to its closest centroid<br>\n",
    "recomputes the centroids so as to further minimize the SSE<br>"
   ]
  },
  {
   "cell_type": "markdown",
   "id": "abbcdc66",
   "metadata": {},
   "source": [
    "$\\textbf{x}$ data object<br>\n",
    "$C_i$ the $i$th cluster<br>\n",
    "$\\textbf{c}_i$ the centroid of cluster $C_i$<br>\n",
    "$\\textbf{c}$ the centroid of all points<br>\n",
    "$m_i$ the number of objects in the $i$th cluster<br>\n",
    "$m$ the number of objects in the data set<br>\n",
    "$K$ the number of clusters<br>"
   ]
  },
  {
   "cell_type": "markdown",
   "id": "43a4cc12",
   "metadata": {},
   "source": [
    "---"
   ]
  },
  {
   "cell_type": "markdown",
   "id": "b8f7d6d0",
   "metadata": {},
   "source": [
    "### K-Means of numerical data\n",
    "\n",
    "the numerical data is represented as a design matrix<br>\n",
    "\n",
    "__Proximity Measure: Euclidean Distance__<br>\n",
    "\n",
    "Objective: to minimize the SSE of the cluster<br>\n",
    "\n",
    "__Objective Function: SSE Sum of Squared Error__<br>\n",
    "$$ \\text{SSE} = \\sum_{i = 1}^{K} \\sum_{\\textbf{x} \\in C_i} dist(\\textbf{c}_i, \\textbf{x})^2 $$\n",
    "\n",
    "__Centroid of the $i^{th}$ cluster: Mean__<br>\n",
    "the centroid that minimizes the SSE is the mean<br>\n",
    "$$\\textbf{c}_i = \\frac{1}{m_i} \\sum_{\\textbf{x} \\in C_i} \\textbf{x}$$"
   ]
  },
  {
   "cell_type": "code",
   "execution_count": 38,
   "id": "1a61199c",
   "metadata": {},
   "outputs": [
    {
     "data": {
      "image/png": "[encoded data removed]",
      "text/plain": [
       "<Figure size 360x360 with 1 Axes>"
      ]
     },
     "metadata": {},
     "output_type": "display_data"
    }
   ],
   "source": [
    "data = np.array([[1, 1], [2, 3], [6, 2]])\n",
    "centroid = data.sum(axis=0) / data.shape[0]\n",
    "plt.figure(figsize=(5, 5));\n",
    "plt.scatter(data[:, 0], data[:, 1]);\n",
    "plt.scatter(centroid[0], centroid[1]);\n",
    "plt.xticks(np.arange(0, 7));\n",
    "plt.yticks(np.arange(0, 7));"
   ]
  },
  {
   "cell_type": "markdown",
   "id": "b8178d29",
   "metadata": {},
   "source": [
    "---"
   ]
  },
  {
   "cell_type": "markdown",
   "id": "afc3dfb9",
   "metadata": {},
   "source": [
    "### K-Means of document data\n",
    "\n",
    "the document data is represented as a document-term matrix<br>\n",
    "\n",
    "__Proximity Measure: Cosine Similarity__<br>\n",
    "\n",
    "Objective: to maximize the cohesion of the cluster (the similarity of the documents in a cluster to the cluster centroid)<br>\n",
    "\n",
    "__Objective Function: Total Cohesion__<br>\n",
    "$$ \\text{Total Cohesion} = \\sum_{i = 1}^{K} \\sum_{\\textbf{x} \\in C_i} cosine(\\textbf{c}_i, \\textbf{x}) $$\n",
    "\n",
    "__Centroid of the $i^{th}$ cluster: Mean__<br>\n",
    "the centroid that maximizes cohesion is the mean<br>\n",
    "$$\\textbf{c}_i = \\frac{1}{m_i} \\sum_{\\textbf{x} \\in C_i} \\textbf{x}$$"
   ]
  },
  {
   "cell_type": "markdown",
   "id": "8b882403",
   "metadata": {},
   "source": [
    "### K-Medoid"
   ]
  },
  {
   "cell_type": "markdown",
   "id": "0ebfb4de",
   "metadata": {},
   "source": [
    "---"
   ]
  },
  {
   "cell_type": "markdown",
   "id": "b25d914e",
   "metadata": {},
   "source": [
    "### Iris Data Set\n",
    "150 records, 5 attributes<br>\n",
    "Petal Length<br>\n",
    "Petal Width<br>\n",
    "Sepal Length<br>\n",
    "Sepal Width<br>\n",
    "Class: Iris Setosa, Iris Virginica, Iris Versicolor<br>"
   ]
  },
  {
   "cell_type": "markdown",
   "id": "4e506425",
   "metadata": {},
   "source": [
    "---"
   ]
  },
  {
   "cell_type": "code",
   "execution_count": 39,
   "id": "a8463a5d",
   "metadata": {},
   "outputs": [],
   "source": [
    "%matplotlib inline\n",
    "import numpy as np\n",
    "import pandas as pd\n",
    "from pylab import plt\n",
    "plt.style.use('seaborn')\n",
    "\n",
    "from sklearn.cluster import KMeans\n",
    "from sklearn.decomposition import PCA\n",
    "from sklearn.preprocessing import StandardScaler\n",
    "\n",
    "import plotly.express as px\n",
    "import hvplot.pandas"
   ]
  },
  {
   "cell_type": "code",
   "execution_count": 2,
   "id": "060022a9",
   "metadata": {},
   "outputs": [],
   "source": [
    "iris_df = pd.read_csv('data/iris.csv')"
   ]
  },
  {
   "cell_type": "code",
   "execution_count": 3,
   "id": "b986c2e9",
   "metadata": {},
   "outputs": [
    {
     "data": {
      "text/html": [
       "<div>\n",
       "<style scoped>\n",
       "    .dataframe tbody tr th:only-of-type {\n",
       "        vertical-align: middle;\n",
       "    }\n",
       "\n",
       "    .dataframe tbody tr th {\n",
       "        vertical-align: top;\n",
       "    }\n",
       "\n",
       "    .dataframe thead th {\n",
       "        text-align: right;\n",
       "    }\n",
       "</style>\n",
       "<table border=\"1\" class=\"dataframe\">\n",
       "  <thead>\n",
       "    <tr style=\"text-align: right;\">\n",
       "      <th></th>\n",
       "      <th>sepal_length</th>\n",
       "      <th>sepal_width</th>\n",
       "      <th>petal_length</th>\n",
       "      <th>petal_width</th>\n",
       "      <th>class</th>\n",
       "    </tr>\n",
       "  </thead>\n",
       "  <tbody>\n",
       "    <tr>\n",
       "      <th>0</th>\n",
       "      <td>5.1</td>\n",
       "      <td>3.5</td>\n",
       "      <td>1.4</td>\n",
       "      <td>0.2</td>\n",
       "      <td>Iris-setosa</td>\n",
       "    </tr>\n",
       "    <tr>\n",
       "      <th>1</th>\n",
       "      <td>4.9</td>\n",
       "      <td>3.0</td>\n",
       "      <td>1.4</td>\n",
       "      <td>0.2</td>\n",
       "      <td>Iris-setosa</td>\n",
       "    </tr>\n",
       "    <tr>\n",
       "      <th>2</th>\n",
       "      <td>4.7</td>\n",
       "      <td>3.2</td>\n",
       "      <td>1.3</td>\n",
       "      <td>0.2</td>\n",
       "      <td>Iris-setosa</td>\n",
       "    </tr>\n",
       "    <tr>\n",
       "      <th>3</th>\n",
       "      <td>4.6</td>\n",
       "      <td>3.1</td>\n",
       "      <td>1.5</td>\n",
       "      <td>0.2</td>\n",
       "      <td>Iris-setosa</td>\n",
       "    </tr>\n",
       "    <tr>\n",
       "      <th>4</th>\n",
       "      <td>5.0</td>\n",
       "      <td>3.6</td>\n",
       "      <td>1.4</td>\n",
       "      <td>0.2</td>\n",
       "      <td>Iris-setosa</td>\n",
       "    </tr>\n",
       "  </tbody>\n",
       "</table>\n",
       "</div>"
      ],
      "text/plain": [
       "   sepal_length  sepal_width  petal_length  petal_width        class\n",
       "0           5.1          3.5           1.4          0.2  Iris-setosa\n",
       "1           4.9          3.0           1.4          0.2  Iris-setosa\n",
       "2           4.7          3.2           1.3          0.2  Iris-setosa\n",
       "3           4.6          3.1           1.5          0.2  Iris-setosa\n",
       "4           5.0          3.6           1.4          0.2  Iris-setosa"
      ]
     },
     "execution_count": 3,
     "metadata": {},
     "output_type": "execute_result"
    }
   ],
   "source": [
    "iris_df.head()"
   ]
  },
  {
   "cell_type": "code",
   "execution_count": 4,
   "id": "fc15c360",
   "metadata": {},
   "outputs": [
    {
     "name": "stdout",
     "output_type": "stream",
     "text": [
      "<class 'pandas.core.frame.DataFrame'>\n",
      "RangeIndex: 150 entries, 0 to 149\n",
      "Data columns (total 5 columns):\n",
      " #   Column        Non-Null Count  Dtype  \n",
      "---  ------        --------------  -----  \n",
      " 0   sepal_length  150 non-null    float64\n",
      " 1   sepal_width   150 non-null    float64\n",
      " 2   petal_length  150 non-null    float64\n",
      " 3   petal_width   150 non-null    float64\n",
      " 4   class         150 non-null    object \n",
      "dtypes: float64(4), object(1)\n",
      "memory usage: 6.0+ KB\n"
     ]
    }
   ],
   "source": [
    "iris_df.info()"
   ]
  },
  {
   "cell_type": "code",
   "execution_count": 5,
   "id": "82c19fff",
   "metadata": {},
   "outputs": [
    {
     "data": {
      "text/html": [
       "<div>\n",
       "<style scoped>\n",
       "    .dataframe tbody tr th:only-of-type {\n",
       "        vertical-align: middle;\n",
       "    }\n",
       "\n",
       "    .dataframe tbody tr th {\n",
       "        vertical-align: top;\n",
       "    }\n",
       "\n",
       "    .dataframe thead th {\n",
       "        text-align: right;\n",
       "    }\n",
       "</style>\n",
       "<table border=\"1\" class=\"dataframe\">\n",
       "  <thead>\n",
       "    <tr style=\"text-align: right;\">\n",
       "      <th></th>\n",
       "      <th>sepal_length</th>\n",
       "      <th>sepal_width</th>\n",
       "      <th>petal_length</th>\n",
       "      <th>petal_width</th>\n",
       "    </tr>\n",
       "  </thead>\n",
       "  <tbody>\n",
       "    <tr>\n",
       "      <th>count</th>\n",
       "      <td>150.000</td>\n",
       "      <td>150.000</td>\n",
       "      <td>150.000</td>\n",
       "      <td>150.000</td>\n",
       "    </tr>\n",
       "    <tr>\n",
       "      <th>mean</th>\n",
       "      <td>5.843</td>\n",
       "      <td>3.054</td>\n",
       "      <td>3.759</td>\n",
       "      <td>1.199</td>\n",
       "    </tr>\n",
       "    <tr>\n",
       "      <th>std</th>\n",
       "      <td>0.828</td>\n",
       "      <td>0.434</td>\n",
       "      <td>1.764</td>\n",
       "      <td>0.763</td>\n",
       "    </tr>\n",
       "    <tr>\n",
       "      <th>min</th>\n",
       "      <td>4.300</td>\n",
       "      <td>2.000</td>\n",
       "      <td>1.000</td>\n",
       "      <td>0.100</td>\n",
       "    </tr>\n",
       "    <tr>\n",
       "      <th>25%</th>\n",
       "      <td>5.100</td>\n",
       "      <td>2.800</td>\n",
       "      <td>1.600</td>\n",
       "      <td>0.300</td>\n",
       "    </tr>\n",
       "    <tr>\n",
       "      <th>50%</th>\n",
       "      <td>5.800</td>\n",
       "      <td>3.000</td>\n",
       "      <td>4.350</td>\n",
       "      <td>1.300</td>\n",
       "    </tr>\n",
       "    <tr>\n",
       "      <th>75%</th>\n",
       "      <td>6.400</td>\n",
       "      <td>3.300</td>\n",
       "      <td>5.100</td>\n",
       "      <td>1.800</td>\n",
       "    </tr>\n",
       "    <tr>\n",
       "      <th>max</th>\n",
       "      <td>7.900</td>\n",
       "      <td>4.400</td>\n",
       "      <td>6.900</td>\n",
       "      <td>2.500</td>\n",
       "    </tr>\n",
       "  </tbody>\n",
       "</table>\n",
       "</div>"
      ],
      "text/plain": [
       "       sepal_length  sepal_width  petal_length  petal_width\n",
       "count       150.000      150.000       150.000      150.000\n",
       "mean          5.843        3.054         3.759        1.199\n",
       "std           0.828        0.434         1.764        0.763\n",
       "min           4.300        2.000         1.000        0.100\n",
       "25%           5.100        2.800         1.600        0.300\n",
       "50%           5.800        3.000         4.350        1.300\n",
       "75%           6.400        3.300         5.100        1.800\n",
       "max           7.900        4.400         6.900        2.500"
      ]
     },
     "execution_count": 5,
     "metadata": {},
     "output_type": "execute_result"
    }
   ],
   "source": [
    "iris_df.describe().round(3)"
   ]
  },
  {
   "cell_type": "markdown",
   "id": "b16f9f23",
   "metadata": {},
   "source": [
    "---"
   ]
  },
  {
   "cell_type": "code",
   "execution_count": 6,
   "id": "aa5b74cf",
   "metadata": {},
   "outputs": [],
   "source": [
    "iris_df = iris_df.drop('class', axis=1)\n",
    "#iris_df.to_csv('data/new_iris_data.csv', index=False)"
   ]
  },
  {
   "cell_type": "code",
   "execution_count": 7,
   "id": "bd7dee1a",
   "metadata": {},
   "outputs": [
    {
     "data": {},
     "metadata": {},
     "output_type": "display_data"
    },
    {
     "data": {
      "application/vnd.holoviews_exec.v0+json": "",
      "text/html": [
       "<div id='1002'>\n",
       "\n",
       "\n",
       "\n",
       "\n",
       "\n",
       "  <div class=\"bk-root\" id=\"08d5a646-d46b-4211-98b6-120f2d1bc068\" data-root-id=\"1002\"></div>\n",
       "</div>\n",
       "<script type=\"application/javascript\">(function(root) {\n",
       "  function embed_document(root) {\n",
       "    var docs_json = {\"e873d84b-502e-4439-a7dd-477295f735bf\":{\"defs\":[],\"roots\":{\"references\":[{\"attributes\":{},\"id\":\"1084\",\"type\":\"UnionRenderers\"},{\"attributes\":{\"fill_alpha\":{\"value\":0.2},\"fill_color\":{\"value\":\"#e5ae38\"},\"line_alpha\":{\"value\":0.2},\"line_color\":{\"value\":\"#e5ae38\"},\"size\":{\"value\":5.477225575051661},\"x\":{\"field\":\"sepal_length\"},\"y\":{\"field\":\"sepal_width\"}},\"id\":\"1093\",\"type\":\"Scatter\"},{\"attributes\":{\"click_policy\":\"mute\",\"items\":[{\"id\":\"1064\"},{\"id\":\"1086\"},{\"id\":\"1110\"}],\"location\":[0,0],\"title\":\"class\"},\"id\":\"1063\",\"type\":\"Legend\"},{\"attributes\":{\"callback\":null,\"renderers\":[{\"id\":\"1051\"},{\"id\":\"1072\"},{\"id\":\"1094\"}],\"tags\":[\"hv_created\"],\"tooltips\":[[\"class\",\"@{class}\"],[\"sepal_length\",\"@{sepal_length}\"],[\"sepal_width\",\"@{sepal_width}\"]]},\"id\":\"1006\",\"type\":\"HoverTool\"},{\"attributes\":{\"source\":{\"id\":\"1088\"}},\"id\":\"1095\",\"type\":\"CDSView\"},{\"attributes\":{\"source\":{\"id\":\"1045\"}},\"id\":\"1052\",\"type\":\"CDSView\"},{\"attributes\":{\"data_source\":{\"id\":\"1066\"},\"glyph\":{\"id\":\"1069\"},\"hover_glyph\":null,\"muted_glyph\":{\"id\":\"1071\"},\"nonselection_glyph\":{\"id\":\"1070\"},\"selection_glyph\":{\"id\":\"1087\"},\"view\":{\"id\":\"1073\"}},\"id\":\"1072\",\"type\":\"GlyphRenderer\"},{\"attributes\":{},\"id\":\"1046\",\"type\":\"Selection\"},{\"attributes\":{},\"id\":\"1016\",\"type\":\"LinearScale\"},{\"attributes\":{},\"id\":\"1108\",\"type\":\"UnionRenderers\"},{\"attributes\":{},\"id\":\"1061\",\"type\":\"UnionRenderers\"},{\"attributes\":{\"text_color\":\"black\",\"text_font_size\":\"12pt\"},\"id\":\"1010\",\"type\":\"Title\"},{\"attributes\":{\"label\":{\"value\":\"0\"},\"renderers\":[{\"id\":\"1051\"}]},\"id\":\"1064\",\"type\":\"LegendItem\"},{\"attributes\":{\"margin\":[5,5,5,5],\"name\":\"HSpacer01684\",\"sizing_mode\":\"stretch_width\"},\"id\":\"1238\",\"type\":\"Spacer\"},{\"attributes\":{\"angle\":{\"value\":0.0},\"fill_alpha\":{\"value\":1.0},\"fill_color\":{\"value\":\"#30a2da\"},\"hatch_alpha\":{\"value\":1.0},\"hatch_color\":{\"value\":\"black\"},\"hatch_scale\":{\"value\":12.0},\"hatch_weight\":{\"value\":1.0},\"line_alpha\":{\"value\":1.0},\"line_cap\":{\"value\":\"butt\"},\"line_color\":{\"value\":\"#30a2da\"},\"line_dash\":{\"value\":[]},\"line_dash_offset\":{\"value\":0},\"line_join\":{\"value\":\"bevel\"},\"line_width\":{\"value\":1},\"marker\":{\"value\":\"circle\"},\"size\":{\"value\":5.477225575051661},\"x\":{\"field\":\"sepal_length\"},\"y\":{\"field\":\"sepal_width\"}},\"id\":\"1065\",\"type\":\"Scatter\"},{\"attributes\":{\"fill_alpha\":{\"value\":0.2},\"fill_color\":{\"value\":\"#30a2da\"},\"line_alpha\":{\"value\":0.2},\"line_color\":{\"value\":\"#30a2da\"},\"size\":{\"value\":5.477225575051661},\"x\":{\"field\":\"sepal_length\"},\"y\":{\"field\":\"sepal_width\"}},\"id\":\"1050\",\"type\":\"Scatter\"},{\"attributes\":{},\"id\":\"1023\",\"type\":\"BasicTicker\"},{\"attributes\":{\"bottom_units\":\"screen\",\"fill_alpha\":0.5,\"fill_color\":\"lightgrey\",\"left_units\":\"screen\",\"level\":\"overlay\",\"line_alpha\":1.0,\"line_color\":\"black\",\"line_dash\":[4,4],\"line_width\":2,\"right_units\":\"screen\",\"syncable\":false,\"top_units\":\"screen\"},\"id\":\"1031\",\"type\":\"BoxAnnotation\"},{\"attributes\":{\"end\":8.054285714285715,\"reset_end\":8.054285714285715,\"reset_start\":4.145714285714286,\"start\":4.145714285714286,\"tags\":[[[\"sepal_length\",\"sepal_length\",null]]]},\"id\":\"1004\",\"type\":\"Range1d\"},{\"attributes\":{\"data_source\":{\"id\":\"1045\"},\"glyph\":{\"id\":\"1048\"},\"hover_glyph\":null,\"muted_glyph\":{\"id\":\"1050\"},\"nonselection_glyph\":{\"id\":\"1049\"},\"selection_glyph\":{\"id\":\"1065\"},\"view\":{\"id\":\"1052\"}},\"id\":\"1051\",\"type\":\"GlyphRenderer\"},{\"attributes\":{\"children\":[{\"id\":\"1003\"},{\"id\":\"1009\"},{\"id\":\"1238\"}],\"margin\":[0,0,0,0],\"name\":\"Row01679\",\"tags\":[\"embedded\"]},\"id\":\"1002\",\"type\":\"Row\"},{\"attributes\":{},\"id\":\"1044\",\"type\":\"AllLabels\"},{\"attributes\":{\"margin\":[5,5,5,5],\"name\":\"HSpacer01683\",\"sizing_mode\":\"stretch_width\"},\"id\":\"1003\",\"type\":\"Spacer\"},{\"attributes\":{\"axis_label\":\"sepal_length\",\"formatter\":{\"id\":\"1040\"},\"major_label_policy\":{\"id\":\"1041\"},\"ticker\":{\"id\":\"1019\"}},\"id\":\"1018\",\"type\":\"LinearAxis\"},{\"attributes\":{},\"id\":\"1041\",\"type\":\"AllLabels\"},{\"attributes\":{\"label\":{\"value\":\"1\"},\"renderers\":[{\"id\":\"1072\"}]},\"id\":\"1086\",\"type\":\"LegendItem\"},{\"attributes\":{\"data\":{\"class\":[1,1,1,1,1,1,1,1,1,1,1,1,1,1,1,1,1,1,1,1,1,1,1,1,1,1,1,1,1,1,1,1,1,1,1,1,1,1,1,1,1,1,1,1,1,1,1,1,1,1],\"sepal_length\":{\"__ndarray__\":\"ZmZmZmZmFECamZmZmZkTQM3MzMzMzBJAZmZmZmZmEkAAAAAAAAAUQJqZmZmZmRVAZmZmZmZmEkAAAAAAAAAUQJqZmZmZmRFAmpmZmZmZE0CamZmZmZkVQDMzMzMzMxNAMzMzMzMzE0AzMzMzMzMRQDMzMzMzMxdAzczMzMzMFkCamZmZmZkVQGZmZmZmZhRAzczMzMzMFkBmZmZmZmYUQJqZmZmZmRVAZmZmZmZmFEBmZmZmZmYSQGZmZmZmZhRAMzMzMzMzE0AAAAAAAAAUQAAAAAAAABRAzczMzMzMFEDNzMzMzMwUQM3MzMzMzBJAMzMzMzMzE0CamZmZmZkVQM3MzMzMzBRAAAAAAAAAFkCamZmZmZkTQAAAAAAAABRAAAAAAAAAFkCamZmZmZkTQJqZmZmZmRFAZmZmZmZmFEAAAAAAAAAUQAAAAAAAABJAmpmZmZmZEUAAAAAAAAAUQGZmZmZmZhRAMzMzMzMzE0BmZmZmZmYUQGZmZmZmZhJAMzMzMzMzFUAAAAAAAAAUQA==\",\"dtype\":\"float64\",\"order\":\"little\",\"shape\":[50]},\"sepal_width\":{\"__ndarray__\":\"AAAAAAAADEAAAAAAAAAIQJqZmZmZmQlAzczMzMzMCEDNzMzMzMwMQDMzMzMzMw9AMzMzMzMzC0AzMzMzMzMLQDMzMzMzMwdAzczMzMzMCECamZmZmZkNQDMzMzMzMwtAAAAAAAAACEAAAAAAAAAIQAAAAAAAABBAmpmZmZmZEUAzMzMzMzMPQAAAAAAAAAxAZmZmZmZmDkBmZmZmZmYOQDMzMzMzMwtAmpmZmZmZDUDNzMzMzMwMQGZmZmZmZgpAMzMzMzMzC0AAAAAAAAAIQDMzMzMzMwtAAAAAAAAADEAzMzMzMzMLQJqZmZmZmQlAzczMzMzMCEAzMzMzMzMLQGZmZmZmZhBAzczMzMzMEEDNzMzMzMwIQJqZmZmZmQlAAAAAAAAADEDNzMzMzMwIQAAAAAAAAAhAMzMzMzMzC0AAAAAAAAAMQGZmZmZmZgJAmpmZmZmZCUAAAAAAAAAMQGZmZmZmZg5AAAAAAAAACEBmZmZmZmYOQJqZmZmZmQlAmpmZmZmZDUBmZmZmZmYKQA==\",\"dtype\":\"float64\",\"order\":\"little\",\"shape\":[50]}},\"selected\":{\"id\":\"1067\"},\"selection_policy\":{\"id\":\"1084\"}},\"id\":\"1066\",\"type\":\"ColumnDataSource\"},{\"attributes\":{\"end\":4.640000000000001,\"reset_end\":4.640000000000001,\"reset_start\":1.76,\"start\":1.76,\"tags\":[[[\"sepal_width\",\"sepal_width\",null]]]},\"id\":\"1005\",\"type\":\"Range1d\"},{\"attributes\":{\"fill_alpha\":{\"value\":0.1},\"fill_color\":{\"value\":\"#fc4f30\"},\"line_alpha\":{\"value\":0.1},\"line_color\":{\"value\":\"#fc4f30\"},\"size\":{\"value\":5.477225575051661},\"x\":{\"field\":\"sepal_length\"},\"y\":{\"field\":\"sepal_width\"}},\"id\":\"1070\",\"type\":\"Scatter\"},{\"attributes\":{},\"id\":\"1043\",\"type\":\"BasicTickFormatter\"},{\"attributes\":{\"fill_color\":{\"value\":\"#30a2da\"},\"line_color\":{\"value\":\"#30a2da\"},\"size\":{\"value\":5.477225575051661},\"x\":{\"field\":\"sepal_length\"},\"y\":{\"field\":\"sepal_width\"}},\"id\":\"1048\",\"type\":\"Scatter\"},{\"attributes\":{},\"id\":\"1067\",\"type\":\"Selection\"},{\"attributes\":{},\"id\":\"1019\",\"type\":\"BasicTicker\"},{\"attributes\":{\"axis\":{\"id\":\"1018\"},\"grid_line_color\":null,\"ticker\":null},\"id\":\"1021\",\"type\":\"Grid\"},{\"attributes\":{},\"id\":\"1089\",\"type\":\"Selection\"},{\"attributes\":{},\"id\":\"1014\",\"type\":\"LinearScale\"},{\"attributes\":{\"fill_alpha\":{\"value\":0.1},\"fill_color\":{\"value\":\"#30a2da\"},\"line_alpha\":{\"value\":0.1},\"line_color\":{\"value\":\"#30a2da\"},\"size\":{\"value\":5.477225575051661},\"x\":{\"field\":\"sepal_length\"},\"y\":{\"field\":\"sepal_width\"}},\"id\":\"1049\",\"type\":\"Scatter\"},{\"attributes\":{\"fill_color\":{\"value\":\"#fc4f30\"},\"line_color\":{\"value\":\"#fc4f30\"},\"size\":{\"value\":5.477225575051661},\"x\":{\"field\":\"sepal_length\"},\"y\":{\"field\":\"sepal_width\"}},\"id\":\"1069\",\"type\":\"Scatter\"},{\"attributes\":{\"angle\":{\"value\":0.0},\"fill_alpha\":{\"value\":1.0},\"fill_color\":{\"value\":\"#fc4f30\"},\"hatch_alpha\":{\"value\":1.0},\"hatch_color\":{\"value\":\"black\"},\"hatch_scale\":{\"value\":12.0},\"hatch_weight\":{\"value\":1.0},\"line_alpha\":{\"value\":1.0},\"line_cap\":{\"value\":\"butt\"},\"line_color\":{\"value\":\"#fc4f30\"},\"line_dash\":{\"value\":[]},\"line_dash_offset\":{\"value\":0},\"line_join\":{\"value\":\"bevel\"},\"line_width\":{\"value\":1},\"marker\":{\"value\":\"circle\"},\"size\":{\"value\":5.477225575051661},\"x\":{\"field\":\"sepal_length\"},\"y\":{\"field\":\"sepal_width\"}},\"id\":\"1087\",\"type\":\"Scatter\"},{\"attributes\":{\"fill_alpha\":{\"value\":0.2},\"fill_color\":{\"value\":\"#fc4f30\"},\"line_alpha\":{\"value\":0.2},\"line_color\":{\"value\":\"#fc4f30\"},\"size\":{\"value\":5.477225575051661},\"x\":{\"field\":\"sepal_length\"},\"y\":{\"field\":\"sepal_width\"}},\"id\":\"1071\",\"type\":\"Scatter\"},{\"attributes\":{\"data_source\":{\"id\":\"1088\"},\"glyph\":{\"id\":\"1091\"},\"hover_glyph\":null,\"muted_glyph\":{\"id\":\"1093\"},\"nonselection_glyph\":{\"id\":\"1092\"},\"selection_glyph\":{\"id\":\"1111\"},\"view\":{\"id\":\"1095\"}},\"id\":\"1094\",\"type\":\"GlyphRenderer\"},{\"attributes\":{\"below\":[{\"id\":\"1018\"}],\"center\":[{\"id\":\"1021\"},{\"id\":\"1025\"}],\"height\":300,\"left\":[{\"id\":\"1022\"}],\"margin\":[5,5,5,5],\"min_border_bottom\":10,\"min_border_left\":10,\"min_border_right\":10,\"min_border_top\":10,\"renderers\":[{\"id\":\"1051\"},{\"id\":\"1072\"},{\"id\":\"1094\"}],\"right\":[{\"id\":\"1063\"}],\"sizing_mode\":\"fixed\",\"title\":{\"id\":\"1010\"},\"toolbar\":{\"id\":\"1032\"},\"width\":700,\"x_range\":{\"id\":\"1004\"},\"x_scale\":{\"id\":\"1014\"},\"y_range\":{\"id\":\"1005\"},\"y_scale\":{\"id\":\"1016\"}},\"id\":\"1009\",\"subtype\":\"Figure\",\"type\":\"Plot\"},{\"attributes\":{\"source\":{\"id\":\"1066\"}},\"id\":\"1073\",\"type\":\"CDSView\"},{\"attributes\":{},\"id\":\"1027\",\"type\":\"PanTool\"},{\"attributes\":{\"fill_alpha\":{\"value\":0.1},\"fill_color\":{\"value\":\"#e5ae38\"},\"line_alpha\":{\"value\":0.1},\"line_color\":{\"value\":\"#e5ae38\"},\"size\":{\"value\":5.477225575051661},\"x\":{\"field\":\"sepal_length\"},\"y\":{\"field\":\"sepal_width\"}},\"id\":\"1092\",\"type\":\"Scatter\"},{\"attributes\":{\"axis_label\":\"sepal_width\",\"formatter\":{\"id\":\"1043\"},\"major_label_policy\":{\"id\":\"1044\"},\"ticker\":{\"id\":\"1023\"}},\"id\":\"1022\",\"type\":\"LinearAxis\"},{\"attributes\":{},\"id\":\"1040\",\"type\":\"BasicTickFormatter\"},{\"attributes\":{},\"id\":\"1028\",\"type\":\"WheelZoomTool\"},{\"attributes\":{\"angle\":{\"value\":0.0},\"fill_alpha\":{\"value\":1.0},\"fill_color\":{\"value\":\"#e5ae38\"},\"hatch_alpha\":{\"value\":1.0},\"hatch_color\":{\"value\":\"black\"},\"hatch_scale\":{\"value\":12.0},\"hatch_weight\":{\"value\":1.0},\"line_alpha\":{\"value\":1.0},\"line_cap\":{\"value\":\"butt\"},\"line_color\":{\"value\":\"#e5ae38\"},\"line_dash\":{\"value\":[]},\"line_dash_offset\":{\"value\":0},\"line_join\":{\"value\":\"bevel\"},\"line_width\":{\"value\":1},\"marker\":{\"value\":\"circle\"},\"size\":{\"value\":5.477225575051661},\"x\":{\"field\":\"sepal_length\"},\"y\":{\"field\":\"sepal_width\"}},\"id\":\"1111\",\"type\":\"Scatter\"},{\"attributes\":{\"axis\":{\"id\":\"1022\"},\"dimension\":1,\"grid_line_color\":null,\"ticker\":null},\"id\":\"1025\",\"type\":\"Grid\"},{\"attributes\":{},\"id\":\"1026\",\"type\":\"SaveTool\"},{\"attributes\":{\"overlay\":{\"id\":\"1031\"}},\"id\":\"1029\",\"type\":\"BoxZoomTool\"},{\"attributes\":{\"label\":{\"value\":\"2\"},\"renderers\":[{\"id\":\"1094\"}]},\"id\":\"1110\",\"type\":\"LegendItem\"},{\"attributes\":{},\"id\":\"1030\",\"type\":\"ResetTool\"},{\"attributes\":{\"active_multi\":null,\"tools\":[{\"id\":\"1006\"},{\"id\":\"1026\"},{\"id\":\"1027\"},{\"id\":\"1028\"},{\"id\":\"1029\"},{\"id\":\"1030\"}]},\"id\":\"1032\",\"type\":\"Toolbar\"},{\"attributes\":{\"data\":{\"class\":[2,2,2,2,2,2,2,2,2,2,2,2,2,2,2,2,2,2,2,2,2,2,2,2,2,2,2,2,2,2,2,2,2,2,2,2,2,2],\"sepal_length\":{\"__ndarray__\":\"mpmZmZmZG0DNzMzMzMwaQDMzMzMzMxlAZmZmZmZmHEAzMzMzMzMZQAAAAAAAABpAZmZmZmZmHkAzMzMzMzMdQM3MzMzMzBpAzczMzMzMHEAAAAAAAAAaQJqZmZmZmRlAMzMzMzMzG0CamZmZmZkZQAAAAAAAABpAzczMzMzMHkDNzMzMzMweQJqZmZmZmRtAzczMzMzMHkDNzMzMzMwaQM3MzMzMzBxAmpmZmZmZGUDNzMzMzMwcQJqZmZmZmR1AmpmZmZmZH0CamZmZmZkZQGZmZmZmZhhAzczMzMzMHkAzMzMzMzMZQJqZmZmZmRlAmpmZmZmZG0DNzMzMzMwaQJqZmZmZmRtAMzMzMzMzG0DNzMzMzMwaQM3MzMzMzBpAAAAAAAAAGkDNzMzMzMwYQA==\",\"dtype\":\"float64\",\"order\":\"little\",\"shape\":[38]},\"sepal_width\":{\"__ndarray__\":\"zczMzMzMCEAAAAAAAAAIQGZmZmZmZgpAAAAAAAAACEAzMzMzMzMHQAAAAAAAAAhAAAAAAAAACEAzMzMzMzMHQAAAAAAAAARAzczMzMzMDECamZmZmZkJQJqZmZmZmQVAAAAAAAAACECamZmZmZkJQAAAAAAAAAhAZmZmZmZmDkDNzMzMzMwEQJqZmZmZmQlAZmZmZmZmBkBmZmZmZmYKQJqZmZmZmQlAZmZmZmZmBkAAAAAAAAAIQGZmZmZmZgZAZmZmZmZmDkBmZmZmZmYGQM3MzMzMzARAAAAAAAAACEAzMzMzMzMLQM3MzMzMzAhAzczMzMzMCEDNzMzMzMwIQM3MzMzMzAhAmpmZmZmZCUBmZmZmZmYKQAAAAAAAAAhAAAAAAAAACEAzMzMzMzMLQA==\",\"dtype\":\"float64\",\"order\":\"little\",\"shape\":[38]}},\"selected\":{\"id\":\"1089\"},\"selection_policy\":{\"id\":\"1108\"}},\"id\":\"1088\",\"type\":\"ColumnDataSource\"},{\"attributes\":{\"data\":{\"class\":[0,0,0,0,0,0,0,0,0,0,0,0,0,0,0,0,0,0,0,0,0,0,0,0,0,0,0,0,0,0,0,0,0,0,0,0,0,0,0,0,0,0,0,0,0,0,0,0,0,0,0,0,0,0,0,0,0,0,0,0,0,0],\"sepal_length\":{\"__ndarray__\":\"AAAAAAAAHECamZmZmZkZQAAAAAAAABZAAAAAAAAAGkDNzMzMzMwWQDMzMzMzMxlAmpmZmZmZE0BmZmZmZmYaQM3MzMzMzBRAAAAAAAAAFECamZmZmZkXQAAAAAAAABhAZmZmZmZmGEBmZmZmZmYWQM3MzMzMzBpAZmZmZmZmFkAzMzMzMzMXQM3MzMzMzBhAZmZmZmZmFkCamZmZmZkXQGZmZmZmZhhAMzMzMzMzGUBmZmZmZmYYQJqZmZmZmRlAZmZmZmZmGkAzMzMzMzMbQAAAAAAAABhAzczMzMzMFkAAAAAAAAAWQAAAAAAAABZAMzMzMzMzF0AAAAAAAAAYQJqZmZmZmRVAAAAAAAAAGEDNzMzMzMwaQDMzMzMzMxlAZmZmZmZmFkAAAAAAAAAWQAAAAAAAABZAZmZmZmZmGEAzMzMzMzMXQAAAAAAAABRAZmZmZmZmFkDNzMzMzMwWQM3MzMzMzBZAzczMzMzMGEBmZmZmZmYUQM3MzMzMzBZAMzMzMzMzF0CamZmZmZkTQM3MzMzMzBZAMzMzMzMzF0AAAAAAAAAYQGZmZmZmZhZAMzMzMzMzGUDNzMzMzMwYQGZmZmZmZhhAMzMzMzMzGUAAAAAAAAAYQDMzMzMzMxdAMzMzMzMzGUCamZmZmZkXQA==\",\"dtype\":\"float64\",\"order\":\"little\",\"shape\":[62]},\"sepal_width\":{\"__ndarray__\":\"mpmZmZmZCUCamZmZmZkJQGZmZmZmZgJAZmZmZmZmBkBmZmZmZmYGQGZmZmZmZgpAMzMzMzMzA0AzMzMzMzMHQJqZmZmZmQVAAAAAAAAAAEAAAAAAAAAIQJqZmZmZmQFAMzMzMzMzB0AzMzMzMzMHQM3MzMzMzAhAAAAAAAAACECamZmZmZkFQJqZmZmZmQFAAAAAAAAABECamZmZmZkJQGZmZmZmZgZAAAAAAAAABEBmZmZmZmYGQDMzMzMzMwdAAAAAAAAACEBmZmZmZmYGQDMzMzMzMwdAzczMzMzMBEAzMzMzMzMDQDMzMzMzMwNAmpmZmZmZBUCamZmZmZkFQAAAAAAAAAhAMzMzMzMzC0DNzMzMzMwIQGZmZmZmZgJAAAAAAAAACEAAAAAAAAAEQM3MzMzMzARAAAAAAAAACEDNzMzMzMwEQGZmZmZmZgJAmpmZmZmZBUAAAAAAAAAIQDMzMzMzMwdAMzMzMzMzB0AAAAAAAAAEQGZmZmZmZgZAmpmZmZmZBUAAAAAAAAAEQAAAAAAAAARAZmZmZmZmBkCamZmZmZkBQGZmZmZmZgZAmpmZmZmZBUBmZmZmZmYGQAAAAAAAAAhAZmZmZmZmBkAAAAAAAAAIQJqZmZmZmQVAAAAAAAAABEAAAAAAAAAIQA==\",\"dtype\":\"float64\",\"order\":\"little\",\"shape\":[62]}},\"selected\":{\"id\":\"1046\"},\"selection_policy\":{\"id\":\"1061\"}},\"id\":\"1045\",\"type\":\"ColumnDataSource\"},{\"attributes\":{\"fill_color\":{\"value\":\"#e5ae38\"},\"line_color\":{\"value\":\"#e5ae38\"},\"size\":{\"value\":5.477225575051661},\"x\":{\"field\":\"sepal_length\"},\"y\":{\"field\":\"sepal_width\"}},\"id\":\"1091\",\"type\":\"Scatter\"}],\"root_ids\":[\"1002\"]},\"title\":\"Bokeh Application\",\"version\":\"2.3.1\"}};\n",
       "    var render_items = [{\"docid\":\"e873d84b-502e-4439-a7dd-477295f735bf\",\"root_ids\":[\"1002\"],\"roots\":{\"1002\":\"08d5a646-d46b-4211-98b6-120f2d1bc068\"}}];\n",
       "    root.Bokeh.embed.embed_items_notebook(docs_json, render_items);\n",
       "  }\n",
       "  if (root.Bokeh !== undefined && root.Bokeh.Panel !== undefined) {\n",
       "    embed_document(root);\n",
       "  } else {\n",
       "    var attempts = 0;\n",
       "    var timer = setInterval(function(root) {\n",
       "      if (root.Bokeh !== undefined && root.Bokeh.Panel !== undefined) {\n",
       "        clearInterval(timer);\n",
       "        embed_document(root);\n",
       "      } else if (document.readyState == \"complete\") {\n",
       "        attempts++;\n",
       "        if (attempts > 100) {\n",
       "          clearInterval(timer);\n",
       "          console.log(\"Bokeh: ERROR: Unable to run BokehJS code because BokehJS library is missing\");\n",
       "        }\n",
       "      }\n",
       "    }, 10, root)\n",
       "  }\n",
       "})(window);</script>"
      ],
      "text/plain": [
       ":NdOverlay   [class]\n",
       "   :Scatter   [sepal_length]   (sepal_width)"
      ]
     },
     "execution_count": 7,
     "metadata": {
      "application/vnd.holoviews_exec.v0+json": {
       "id": "1002"
      }
     },
     "output_type": "execute_result"
    }
   ],
   "source": [
    "model = KMeans(n_clusters=3, random_state=5)\n",
    "model.fit(iris_df)\n",
    "pred = model.predict(iris_df)\n",
    "iris_df['class'] = model.labels_\n",
    "iris_df.hvplot.scatter(x='sepal_length', y='sepal_width', by='class')"
   ]
  },
  {
   "cell_type": "code",
   "execution_count": 9,
   "id": "b56896fb",
   "metadata": {},
   "outputs": [
    {
     "data": {
      "application/vnd.plotly.v1+json": {
       "config": {
        "plotlyServerURL": "https://plot.ly"
       },
       "data": [
        {
         "hovertemplate": "class=%{marker.color}<br>petal_width=%{x}<br>sepal_width=%{marker.size}<br>petal_length=%{z}<extra></extra>",
         "legendgroup": "1",
         "marker": {
          "color": [
           1,
           1,
           1,
           1,
           1,
           1,
           1,
           1,
           1,
           1,
           1,
           1,
           1,
           1,
           1,
           1,
           1,
           1,
           1,
           1,
           1,
           1,
           1,
           1,
           1,
           1,
           1,
           1,
           1,
           1,
           1,
           1,
           1,
           1,
           1,
           1,
           1,
           1,
           1,
           1,
           1,
           1,
           1,
           1,
           1,
           1,
           1,
           1,
           1,
           1
          ],
          "coloraxis": "coloraxis",
          "size": [
           3.5,
           3,
           3.2,
           3.1,
           3.6,
           3.9,
           3.4,
           3.4,
           2.9,
           3.1,
           3.7,
           3.4,
           3,
           3,
           4,
           4.4,
           3.9,
           3.5,
           3.8,
           3.8,
           3.4,
           3.7,
           3.6,
           3.3,
           3.4,
           3,
           3.4,
           3.5,
           3.4,
           3.2,
           3.1,
           3.4,
           4.1,
           4.2,
           3.1,
           3.2,
           3.5,
           3.1,
           3,
           3.4,
           3.5,
           2.3,
           3.2,
           3.5,
           3.8,
           3,
           3.8,
           3.2,
           3.7,
           3.3
          ],
          "sizemode": "area",
          "sizeref": 0.011000000000000001,
          "symbol": "circle"
         },
         "mode": "markers",
         "name": "1",
         "scene": "scene",
         "showlegend": true,
         "type": "scatter3d",
         "x": [
          0.2,
          0.2,
          0.2,
          0.2,
          0.2,
          0.4,
          0.3,
          0.2,
          0.2,
          0.1,
          0.2,
          0.2,
          0.1,
          0.1,
          0.2,
          0.4,
          0.4,
          0.3,
          0.3,
          0.3,
          0.2,
          0.4,
          0.2,
          0.5,
          0.2,
          0.2,
          0.4,
          0.2,
          0.2,
          0.2,
          0.2,
          0.4,
          0.1,
          0.2,
          0.1,
          0.2,
          0.2,
          0.1,
          0.2,
          0.2,
          0.3,
          0.3,
          0.2,
          0.6,
          0.4,
          0.3,
          0.2,
          0.2,
          0.2,
          0.2
         ],
         "y": [
          3.5,
          3,
          3.2,
          3.1,
          3.6,
          3.9,
          3.4,
          3.4,
          2.9,
          3.1,
          3.7,
          3.4,
          3,
          3,
          4,
          4.4,
          3.9,
          3.5,
          3.8,
          3.8,
          3.4,
          3.7,
          3.6,
          3.3,
          3.4,
          3,
          3.4,
          3.5,
          3.4,
          3.2,
          3.1,
          3.4,
          4.1,
          4.2,
          3.1,
          3.2,
          3.5,
          3.1,
          3,
          3.4,
          3.5,
          2.3,
          3.2,
          3.5,
          3.8,
          3,
          3.8,
          3.2,
          3.7,
          3.3
         ],
         "z": [
          1.4,
          1.4,
          1.3,
          1.5,
          1.4,
          1.7,
          1.4,
          1.5,
          1.4,
          1.5,
          1.5,
          1.6,
          1.4,
          1.1,
          1.2,
          1.5,
          1.3,
          1.4,
          1.7,
          1.5,
          1.7,
          1.5,
          1,
          1.7,
          1.9,
          1.6,
          1.6,
          1.5,
          1.4,
          1.6,
          1.6,
          1.5,
          1.5,
          1.4,
          1.5,
          1.2,
          1.3,
          1.5,
          1.3,
          1.5,
          1.3,
          1.3,
          1.3,
          1.6,
          1.9,
          1.4,
          1.6,
          1.4,
          1.5,
          1.4
         ]
        },
        {
         "hovertemplate": "class=%{marker.color}<br>petal_width=%{x}<br>sepal_width=%{marker.size}<br>petal_length=%{z}<extra></extra>",
         "legendgroup": "0",
         "marker": {
          "color": [
           0,
           0,
           0,
           0,
           0,
           0,
           0,
           0,
           0,
           0,
           0,
           0,
           0,
           0,
           0,
           0,
           0,
           0,
           0,
           0,
           0,
           0,
           0,
           0,
           0,
           0,
           0,
           0,
           0,
           0,
           0,
           0,
           0,
           0,
           0,
           0,
           0,
           0,
           0,
           0,
           0,
           0,
           0,
           0,
           0,
           0,
           0,
           0,
           0,
           0,
           0,
           0,
           0,
           0,
           0,
           0,
           0,
           0,
           0,
           0,
           0,
           0
          ],
          "coloraxis": "coloraxis",
          "size": [
           3.2,
           3.2,
           2.3,
           2.8,
           2.8,
           3.3,
           2.4,
           2.9,
           2.7,
           2,
           3,
           2.2,
           2.9,
           2.9,
           3.1,
           3,
           2.7,
           2.2,
           2.5,
           3.2,
           2.8,
           2.5,
           2.8,
           2.9,
           3,
           2.8,
           2.9,
           2.6,
           2.4,
           2.4,
           2.7,
           2.7,
           3,
           3.4,
           3.1,
           2.3,
           3,
           2.5,
           2.6,
           3,
           2.6,
           2.3,
           2.7,
           3,
           2.9,
           2.9,
           2.5,
           2.8,
           2.7,
           2.5,
           2.5,
           2.8,
           2.2,
           2.8,
           2.7,
           2.8,
           3,
           2.8,
           3,
           2.7,
           2.5,
           3
          ],
          "sizemode": "area",
          "sizeref": 0.011000000000000001,
          "symbol": "diamond"
         },
         "mode": "markers",
         "name": "0",
         "scene": "scene",
         "showlegend": true,
         "type": "scatter3d",
         "x": [
          1.4,
          1.5,
          1.3,
          1.5,
          1.3,
          1.6,
          1,
          1.3,
          1.4,
          1,
          1.5,
          1,
          1.4,
          1.3,
          1.4,
          1.5,
          1,
          1.5,
          1.1,
          1.8,
          1.3,
          1.5,
          1.2,
          1.3,
          1.4,
          1.4,
          1.5,
          1,
          1.1,
          1,
          1.2,
          1.6,
          1.5,
          1.6,
          1.5,
          1.3,
          1.3,
          1.3,
          1.2,
          1.4,
          1.2,
          1,
          1.3,
          1.2,
          1.3,
          1.3,
          1.1,
          1.3,
          1.9,
          1.7,
          2,
          2.4,
          1.5,
          2,
          1.8,
          1.8,
          1.8,
          1.5,
          1.8,
          1.9,
          1.9,
          1.8
         ],
         "y": [
          3.2,
          3.2,
          2.3,
          2.8,
          2.8,
          3.3,
          2.4,
          2.9,
          2.7,
          2,
          3,
          2.2,
          2.9,
          2.9,
          3.1,
          3,
          2.7,
          2.2,
          2.5,
          3.2,
          2.8,
          2.5,
          2.8,
          2.9,
          3,
          2.8,
          2.9,
          2.6,
          2.4,
          2.4,
          2.7,
          2.7,
          3,
          3.4,
          3.1,
          2.3,
          3,
          2.5,
          2.6,
          3,
          2.6,
          2.3,
          2.7,
          3,
          2.9,
          2.9,
          2.5,
          2.8,
          2.7,
          2.5,
          2.5,
          2.8,
          2.2,
          2.8,
          2.7,
          2.8,
          3,
          2.8,
          3,
          2.7,
          2.5,
          3
         ],
         "z": [
          4.7,
          4.5,
          4,
          4.6,
          4.5,
          4.7,
          3.3,
          4.6,
          3.9,
          3.5,
          4.2,
          4,
          4.7,
          3.6,
          4.4,
          4.5,
          4.1,
          4.5,
          3.9,
          4.8,
          4,
          4.9,
          4.7,
          4.3,
          4.4,
          4.8,
          4.5,
          3.5,
          3.8,
          3.7,
          3.9,
          5.1,
          4.5,
          4.5,
          4.7,
          4.4,
          4.1,
          4,
          4.4,
          4.6,
          4,
          3.3,
          4.2,
          4.2,
          4.2,
          4.3,
          3,
          4.1,
          5.1,
          4.5,
          5,
          5.1,
          5,
          4.9,
          4.9,
          4.8,
          4.9,
          5.1,
          4.8,
          5.1,
          5,
          5.1
         ]
        },
        {
         "hovertemplate": "class=%{marker.color}<br>petal_width=%{x}<br>sepal_width=%{marker.size}<br>petal_length=%{z}<extra></extra>",
         "legendgroup": "2",
         "marker": {
          "color": [
           2,
           2,
           2,
           2,
           2,
           2,
           2,
           2,
           2,
           2,
           2,
           2,
           2,
           2,
           2,
           2,
           2,
           2,
           2,
           2,
           2,
           2,
           2,
           2,
           2,
           2,
           2,
           2,
           2,
           2,
           2,
           2,
           2,
           2,
           2,
           2,
           2,
           2
          ],
          "coloraxis": "coloraxis",
          "size": [
           3.1,
           3,
           3.3,
           3,
           2.9,
           3,
           3,
           2.9,
           2.5,
           3.6,
           3.2,
           2.7,
           3,
           3.2,
           3,
           3.8,
           2.6,
           3.2,
           2.8,
           3.3,
           3.2,
           2.8,
           3,
           2.8,
           3.8,
           2.8,
           2.6,
           3,
           3.4,
           3.1,
           3.1,
           3.1,
           3.1,
           3.2,
           3.3,
           3,
           3,
           3.4
          ],
          "sizemode": "area",
          "sizeref": 0.011000000000000001,
          "symbol": "square"
         },
         "mode": "markers",
         "name": "2",
         "scene": "scene",
         "showlegend": true,
         "type": "scatter3d",
         "x": [
          1.5,
          1.7,
          2.5,
          2.1,
          1.8,
          2.2,
          2.1,
          1.8,
          1.8,
          2.5,
          2,
          1.9,
          2.1,
          2.3,
          1.8,
          2.2,
          2.3,
          2.3,
          2,
          2.1,
          1.8,
          2.1,
          1.6,
          1.9,
          2,
          2.2,
          1.4,
          2.3,
          2.4,
          1.8,
          2.1,
          2.4,
          2.3,
          2.3,
          2.5,
          2.3,
          2,
          2.3
         ],
         "y": [
          3.1,
          3,
          3.3,
          3,
          2.9,
          3,
          3,
          2.9,
          2.5,
          3.6,
          3.2,
          2.7,
          3,
          3.2,
          3,
          3.8,
          2.6,
          3.2,
          2.8,
          3.3,
          3.2,
          2.8,
          3,
          2.8,
          3.8,
          2.8,
          2.6,
          3,
          3.4,
          3.1,
          3.1,
          3.1,
          3.1,
          3.2,
          3.3,
          3,
          3,
          3.4
         ],
         "z": [
          4.9,
          5,
          6,
          5.9,
          5.6,
          5.8,
          6.6,
          6.3,
          5.8,
          6.1,
          5.1,
          5.3,
          5.5,
          5.3,
          5.5,
          6.7,
          6.9,
          5.7,
          6.7,
          5.7,
          6,
          5.6,
          5.8,
          6.1,
          6.4,
          5.6,
          5.6,
          6.1,
          5.6,
          5.5,
          5.4,
          5.6,
          5.1,
          5.9,
          5.7,
          5.2,
          5.2,
          5.4
         ]
        }
       ],
       "layout": {
        "coloraxis": {
         "colorbar": {
          "title": {
           "text": "class"
          }
         },
         "colorscale": [
          [
           0,
           "#0d0887"
          ],
          [
           0.1111111111111111,
           "#46039f"
          ],
          [
           0.2222222222222222,
           "#7201a8"
          ],
          [
           0.3333333333333333,
           "#9c179e"
          ],
          [
           0.4444444444444444,
           "#bd3786"
          ],
          [
           0.5555555555555556,
           "#d8576b"
          ],
          [
           0.6666666666666666,
           "#ed7953"
          ],
          [
           0.7777777777777778,
           "#fb9f3a"
          ],
          [
           0.8888888888888888,
           "#fdca26"
          ],
          [
           1,
           "#f0f921"
          ]
         ]
        },
        "legend": {
         "itemsizing": "constant",
         "title": {
          "text": "class"
         },
         "tracegroupgap": 0,
         "x": 0,
         "y": 1
        },
        "margin": {
         "t": 60
        },
        "scene": {
         "domain": {
          "x": [
           0,
           1
          ],
          "y": [
           0,
           1
          ]
         },
         "xaxis": {
          "title": {
           "text": "petal_width"
          }
         },
         "yaxis": {
          "title": {
           "text": "sepal_width"
          }
         },
         "zaxis": {
          "title": {
           "text": "petal_length"
          }
         }
        },
        "template": {
         "data": {
          "bar": [
           {
            "error_x": {
             "color": "#2a3f5f"
            },
            "error_y": {
             "color": "#2a3f5f"
            },
            "marker": {
             "line": {
              "color": "#E5ECF6",
              "width": 0.5
             }
            },
            "type": "bar"
           }
          ],
          "barpolar": [
           {
            "marker": {
             "line": {
              "color": "#E5ECF6",
              "width": 0.5
             }
            },
            "type": "barpolar"
           }
          ],
          "carpet": [
           {
            "aaxis": {
             "endlinecolor": "#2a3f5f",
             "gridcolor": "white",
             "linecolor": "white",
             "minorgridcolor": "white",
             "startlinecolor": "#2a3f5f"
            },
            "baxis": {
             "endlinecolor": "#2a3f5f",
             "gridcolor": "white",
             "linecolor": "white",
             "minorgridcolor": "white",
             "startlinecolor": "#2a3f5f"
            },
            "type": "carpet"
           }
          ],
          "choropleth": [
           {
            "colorbar": {
             "outlinewidth": 0,
             "ticks": ""
            },
            "type": "choropleth"
           }
          ],
          "contour": [
           {
            "colorbar": {
             "outlinewidth": 0,
             "ticks": ""
            },
            "colorscale": [
             [
              0,
              "#0d0887"
             ],
             [
              0.1111111111111111,
              "#46039f"
             ],
             [
              0.2222222222222222,
              "#7201a8"
             ],
             [
              0.3333333333333333,
              "#9c179e"
             ],
             [
              0.4444444444444444,
              "#bd3786"
             ],
             [
              0.5555555555555556,
              "#d8576b"
             ],
             [
              0.6666666666666666,
              "#ed7953"
             ],
             [
              0.7777777777777778,
              "#fb9f3a"
             ],
             [
              0.8888888888888888,
              "#fdca26"
             ],
             [
              1,
              "#f0f921"
             ]
            ],
            "type": "contour"
           }
          ],
          "contourcarpet": [
           {
            "colorbar": {
             "outlinewidth": 0,
             "ticks": ""
            },
            "type": "contourcarpet"
           }
          ],
          "heatmap": [
           {
            "colorbar": {
             "outlinewidth": 0,
             "ticks": ""
            },
            "colorscale": [
             [
              0,
              "#0d0887"
             ],
             [
              0.1111111111111111,
              "#46039f"
             ],
             [
              0.2222222222222222,
              "#7201a8"
             ],
             [
              0.3333333333333333,
              "#9c179e"
             ],
             [
              0.4444444444444444,
              "#bd3786"
             ],
             [
              0.5555555555555556,
              "#d8576b"
             ],
             [
              0.6666666666666666,
              "#ed7953"
             ],
             [
              0.7777777777777778,
              "#fb9f3a"
             ],
             [
              0.8888888888888888,
              "#fdca26"
             ],
             [
              1,
              "#f0f921"
             ]
            ],
            "type": "heatmap"
           }
          ],
          "heatmapgl": [
           {
            "colorbar": {
             "outlinewidth": 0,
             "ticks": ""
            },
            "colorscale": [
             [
              0,
              "#0d0887"
             ],
             [
              0.1111111111111111,
              "#46039f"
             ],
             [
              0.2222222222222222,
              "#7201a8"
             ],
             [
              0.3333333333333333,
              "#9c179e"
             ],
             [
              0.4444444444444444,
              "#bd3786"
             ],
             [
              0.5555555555555556,
              "#d8576b"
             ],
             [
              0.6666666666666666,
              "#ed7953"
             ],
             [
              0.7777777777777778,
              "#fb9f3a"
             ],
             [
              0.8888888888888888,
              "#fdca26"
             ],
             [
              1,
              "#f0f921"
             ]
            ],
            "type": "heatmapgl"
           }
          ],
          "histogram": [
           {
            "marker": {
             "colorbar": {
              "outlinewidth": 0,
              "ticks": ""
             }
            },
            "type": "histogram"
           }
          ],
          "histogram2d": [
           {
            "colorbar": {
             "outlinewidth": 0,
             "ticks": ""
            },
            "colorscale": [
             [
              0,
              "#0d0887"
             ],
             [
              0.1111111111111111,
              "#46039f"
             ],
             [
              0.2222222222222222,
              "#7201a8"
             ],
             [
              0.3333333333333333,
              "#9c179e"
             ],
             [
              0.4444444444444444,
              "#bd3786"
             ],
             [
              0.5555555555555556,
              "#d8576b"
             ],
             [
              0.6666666666666666,
              "#ed7953"
             ],
             [
              0.7777777777777778,
              "#fb9f3a"
             ],
             [
              0.8888888888888888,
              "#fdca26"
             ],
             [
              1,
              "#f0f921"
             ]
            ],
            "type": "histogram2d"
           }
          ],
          "histogram2dcontour": [
           {
            "colorbar": {
             "outlinewidth": 0,
             "ticks": ""
            },
            "colorscale": [
             [
              0,
              "#0d0887"
             ],
             [
              0.1111111111111111,
              "#46039f"
             ],
             [
              0.2222222222222222,
              "#7201a8"
             ],
             [
              0.3333333333333333,
              "#9c179e"
             ],
             [
              0.4444444444444444,
              "#bd3786"
             ],
             [
              0.5555555555555556,
              "#d8576b"
             ],
             [
              0.6666666666666666,
              "#ed7953"
             ],
             [
              0.7777777777777778,
              "#fb9f3a"
             ],
             [
              0.8888888888888888,
              "#fdca26"
             ],
             [
              1,
              "#f0f921"
             ]
            ],
            "type": "histogram2dcontour"
           }
          ],
          "mesh3d": [
           {
            "colorbar": {
             "outlinewidth": 0,
             "ticks": ""
            },
            "type": "mesh3d"
           }
          ],
          "parcoords": [
           {
            "line": {
             "colorbar": {
              "outlinewidth": 0,
              "ticks": ""
             }
            },
            "type": "parcoords"
           }
          ],
          "pie": [
           {
            "automargin": true,
            "type": "pie"
           }
          ],
          "scatter": [
           {
            "marker": {
             "colorbar": {
              "outlinewidth": 0,
              "ticks": ""
             }
            },
            "type": "scatter"
           }
          ],
          "scatter3d": [
           {
            "line": {
             "colorbar": {
              "outlinewidth": 0,
              "ticks": ""
             }
            },
            "marker": {
             "colorbar": {
              "outlinewidth": 0,
              "ticks": ""
             }
            },
            "type": "scatter3d"
           }
          ],
          "scattercarpet": [
           {
            "marker": {
             "colorbar": {
              "outlinewidth": 0,
              "ticks": ""
             }
            },
            "type": "scattercarpet"
           }
          ],
          "scattergeo": [
           {
            "marker": {
             "colorbar": {
              "outlinewidth": 0,
              "ticks": ""
             }
            },
            "type": "scattergeo"
           }
          ],
          "scattergl": [
           {
            "marker": {
             "colorbar": {
              "outlinewidth": 0,
              "ticks": ""
             }
            },
            "type": "scattergl"
           }
          ],
          "scattermapbox": [
           {
            "marker": {
             "colorbar": {
              "outlinewidth": 0,
              "ticks": ""
             }
            },
            "type": "scattermapbox"
           }
          ],
          "scatterpolar": [
           {
            "marker": {
             "colorbar": {
              "outlinewidth": 0,
              "ticks": ""
             }
            },
            "type": "scatterpolar"
           }
          ],
          "scatterpolargl": [
           {
            "marker": {
             "colorbar": {
              "outlinewidth": 0,
              "ticks": ""
             }
            },
            "type": "scatterpolargl"
           }
          ],
          "scatterternary": [
           {
            "marker": {
             "colorbar": {
              "outlinewidth": 0,
              "ticks": ""
             }
            },
            "type": "scatterternary"
           }
          ],
          "surface": [
           {
            "colorbar": {
             "outlinewidth": 0,
             "ticks": ""
            },
            "colorscale": [
             [
              0,
              "#0d0887"
             ],
             [
              0.1111111111111111,
              "#46039f"
             ],
             [
              0.2222222222222222,
              "#7201a8"
             ],
             [
              0.3333333333333333,
              "#9c179e"
             ],
             [
              0.4444444444444444,
              "#bd3786"
             ],
             [
              0.5555555555555556,
              "#d8576b"
             ],
             [
              0.6666666666666666,
              "#ed7953"
             ],
             [
              0.7777777777777778,
              "#fb9f3a"
             ],
             [
              0.8888888888888888,
              "#fdca26"
             ],
             [
              1,
              "#f0f921"
             ]
            ],
            "type": "surface"
           }
          ],
          "table": [
           {
            "cells": {
             "fill": {
              "color": "#EBF0F8"
             },
             "line": {
              "color": "white"
             }
            },
            "header": {
             "fill": {
              "color": "#C8D4E3"
             },
             "line": {
              "color": "white"
             }
            },
            "type": "table"
           }
          ]
         },
         "layout": {
          "annotationdefaults": {
           "arrowcolor": "#2a3f5f",
           "arrowhead": 0,
           "arrowwidth": 1
          },
          "autotypenumbers": "strict",
          "coloraxis": {
           "colorbar": {
            "outlinewidth": 0,
            "ticks": ""
           }
          },
          "colorscale": {
           "diverging": [
            [
             0,
             "#8e0152"
            ],
            [
             0.1,
             "#c51b7d"
            ],
            [
             0.2,
             "#de77ae"
            ],
            [
             0.3,
             "#f1b6da"
            ],
            [
             0.4,
             "#fde0ef"
            ],
            [
             0.5,
             "#f7f7f7"
            ],
            [
             0.6,
             "#e6f5d0"
            ],
            [
             0.7,
             "#b8e186"
            ],
            [
             0.8,
             "#7fbc41"
            ],
            [
             0.9,
             "#4d9221"
            ],
            [
             1,
             "#276419"
            ]
           ],
           "sequential": [
            [
             0,
             "#0d0887"
            ],
            [
             0.1111111111111111,
             "#46039f"
            ],
            [
             0.2222222222222222,
             "#7201a8"
            ],
            [
             0.3333333333333333,
             "#9c179e"
            ],
            [
             0.4444444444444444,
             "#bd3786"
            ],
            [
             0.5555555555555556,
             "#d8576b"
            ],
            [
             0.6666666666666666,
             "#ed7953"
            ],
            [
             0.7777777777777778,
             "#fb9f3a"
            ],
            [
             0.8888888888888888,
             "#fdca26"
            ],
            [
             1,
             "#f0f921"
            ]
           ],
           "sequentialminus": [
            [
             0,
             "#0d0887"
            ],
            [
             0.1111111111111111,
             "#46039f"
            ],
            [
             0.2222222222222222,
             "#7201a8"
            ],
            [
             0.3333333333333333,
             "#9c179e"
            ],
            [
             0.4444444444444444,
             "#bd3786"
            ],
            [
             0.5555555555555556,
             "#d8576b"
            ],
            [
             0.6666666666666666,
             "#ed7953"
            ],
            [
             0.7777777777777778,
             "#fb9f3a"
            ],
            [
             0.8888888888888888,
             "#fdca26"
            ],
            [
             1,
             "#f0f921"
            ]
           ]
          },
          "colorway": [
           "#636efa",
           "#EF553B",
           "#00cc96",
           "#ab63fa",
           "#FFA15A",
           "#19d3f3",
           "#FF6692",
           "#B6E880",
           "#FF97FF",
           "#FECB52"
          ],
          "font": {
           "color": "#2a3f5f"
          },
          "geo": {
           "bgcolor": "white",
           "lakecolor": "white",
           "landcolor": "#E5ECF6",
           "showlakes": true,
           "showland": true,
           "subunitcolor": "white"
          },
          "hoverlabel": {
           "align": "left"
          },
          "hovermode": "closest",
          "mapbox": {
           "style": "light"
          },
          "paper_bgcolor": "white",
          "plot_bgcolor": "#E5ECF6",
          "polar": {
           "angularaxis": {
            "gridcolor": "white",
            "linecolor": "white",
            "ticks": ""
           },
           "bgcolor": "#E5ECF6",
           "radialaxis": {
            "gridcolor": "white",
            "linecolor": "white",
            "ticks": ""
           }
          },
          "scene": {
           "xaxis": {
            "backgroundcolor": "#E5ECF6",
            "gridcolor": "white",
            "gridwidth": 2,
            "linecolor": "white",
            "showbackground": true,
            "ticks": "",
            "zerolinecolor": "white"
           },
           "yaxis": {
            "backgroundcolor": "#E5ECF6",
            "gridcolor": "white",
            "gridwidth": 2,
            "linecolor": "white",
            "showbackground": true,
            "ticks": "",
            "zerolinecolor": "white"
           },
           "zaxis": {
            "backgroundcolor": "#E5ECF6",
            "gridcolor": "white",
            "gridwidth": 2,
            "linecolor": "white",
            "showbackground": true,
            "ticks": "",
            "zerolinecolor": "white"
           }
          },
          "shapedefaults": {
           "line": {
            "color": "#2a3f5f"
           }
          },
          "ternary": {
           "aaxis": {
            "gridcolor": "white",
            "linecolor": "white",
            "ticks": ""
           },
           "baxis": {
            "gridcolor": "white",
            "linecolor": "white",
            "ticks": ""
           },
           "bgcolor": "#E5ECF6",
           "caxis": {
            "gridcolor": "white",
            "linecolor": "white",
            "ticks": ""
           }
          },
          "title": {
           "x": 0.05
          },
          "xaxis": {
           "automargin": true,
           "gridcolor": "white",
           "linecolor": "white",
           "ticks": "",
           "title": {
            "standoff": 15
           },
           "zerolinecolor": "white",
           "zerolinewidth": 2
          },
          "yaxis": {
           "automargin": true,
           "gridcolor": "white",
           "linecolor": "white",
           "ticks": "",
           "title": {
            "standoff": 15
           },
           "zerolinecolor": "white",
           "zerolinewidth": 2
          }
         }
        },
        "width": 800
       }
      },
      "text/html": [
       "<div>                            <div id=\"3d55dcdc-3d99-4d89-894e-2b38e6a4e383\" class=\"plotly-graph-div\" style=\"height:525px; width:800px;\"></div>            <script type=\"text/javascript\">                require([\"plotly\"], function(Plotly) {                    window.PLOTLYENV=window.PLOTLYENV || {};                                    if (document.getElementById(\"3d55dcdc-3d99-4d89-894e-2b38e6a4e383\")) {                    Plotly.newPlot(                        \"3d55dcdc-3d99-4d89-894e-2b38e6a4e383\",                        [{\"hovertemplate\": \"class=%{marker.color}<br>petal_width=%{x}<br>sepal_width=%{marker.size}<br>petal_length=%{z}<extra></extra>\", \"legendgroup\": \"1\", \"marker\": {\"color\": [1, 1, 1, 1, 1, 1, 1, 1, 1, 1, 1, 1, 1, 1, 1, 1, 1, 1, 1, 1, 1, 1, 1, 1, 1, 1, 1, 1, 1, 1, 1, 1, 1, 1, 1, 1, 1, 1, 1, 1, 1, 1, 1, 1, 1, 1, 1, 1, 1, 1], \"coloraxis\": \"coloraxis\", \"size\": [3.5, 3.0, 3.2, 3.1, 3.6, 3.9, 3.4, 3.4, 2.9, 3.1, 3.7, 3.4, 3.0, 3.0, 4.0, 4.4, 3.9, 3.5, 3.8, 3.8, 3.4, 3.7, 3.6, 3.3, 3.4, 3.0, 3.4, 3.5, 3.4, 3.2, 3.1, 3.4, 4.1, 4.2, 3.1, 3.2, 3.5, 3.1, 3.0, 3.4, 3.5, 2.3, 3.2, 3.5, 3.8, 3.0, 3.8, 3.2, 3.7, 3.3], \"sizemode\": \"area\", \"sizeref\": 0.011000000000000001, \"symbol\": \"circle\"}, \"mode\": \"markers\", \"name\": \"1\", \"scene\": \"scene\", \"showlegend\": true, \"type\": \"scatter3d\", \"x\": [0.2, 0.2, 0.2, 0.2, 0.2, 0.4, 0.3, 0.2, 0.2, 0.1, 0.2, 0.2, 0.1, 0.1, 0.2, 0.4, 0.4, 0.3, 0.3, 0.3, 0.2, 0.4, 0.2, 0.5, 0.2, 0.2, 0.4, 0.2, 0.2, 0.2, 0.2, 0.4, 0.1, 0.2, 0.1, 0.2, 0.2, 0.1, 0.2, 0.2, 0.3, 0.3, 0.2, 0.6, 0.4, 0.3, 0.2, 0.2, 0.2, 0.2], \"y\": [3.5, 3.0, 3.2, 3.1, 3.6, 3.9, 3.4, 3.4, 2.9, 3.1, 3.7, 3.4, 3.0, 3.0, 4.0, 4.4, 3.9, 3.5, 3.8, 3.8, 3.4, 3.7, 3.6, 3.3, 3.4, 3.0, 3.4, 3.5, 3.4, 3.2, 3.1, 3.4, 4.1, 4.2, 3.1, 3.2, 3.5, 3.1, 3.0, 3.4, 3.5, 2.3, 3.2, 3.5, 3.8, 3.0, 3.8, 3.2, 3.7, 3.3], \"z\": [1.4, 1.4, 1.3, 1.5, 1.4, 1.7, 1.4, 1.5, 1.4, 1.5, 1.5, 1.6, 1.4, 1.1, 1.2, 1.5, 1.3, 1.4, 1.7, 1.5, 1.7, 1.5, 1.0, 1.7, 1.9, 1.6, 1.6, 1.5, 1.4, 1.6, 1.6, 1.5, 1.5, 1.4, 1.5, 1.2, 1.3, 1.5, 1.3, 1.5, 1.3, 1.3, 1.3, 1.6, 1.9, 1.4, 1.6, 1.4, 1.5, 1.4]}, {\"hovertemplate\": \"class=%{marker.color}<br>petal_width=%{x}<br>sepal_width=%{marker.size}<br>petal_length=%{z}<extra></extra>\", \"legendgroup\": \"0\", \"marker\": {\"color\": [0, 0, 0, 0, 0, 0, 0, 0, 0, 0, 0, 0, 0, 0, 0, 0, 0, 0, 0, 0, 0, 0, 0, 0, 0, 0, 0, 0, 0, 0, 0, 0, 0, 0, 0, 0, 0, 0, 0, 0, 0, 0, 0, 0, 0, 0, 0, 0, 0, 0, 0, 0, 0, 0, 0, 0, 0, 0, 0, 0, 0, 0], \"coloraxis\": \"coloraxis\", \"size\": [3.2, 3.2, 2.3, 2.8, 2.8, 3.3, 2.4, 2.9, 2.7, 2.0, 3.0, 2.2, 2.9, 2.9, 3.1, 3.0, 2.7, 2.2, 2.5, 3.2, 2.8, 2.5, 2.8, 2.9, 3.0, 2.8, 2.9, 2.6, 2.4, 2.4, 2.7, 2.7, 3.0, 3.4, 3.1, 2.3, 3.0, 2.5, 2.6, 3.0, 2.6, 2.3, 2.7, 3.0, 2.9, 2.9, 2.5, 2.8, 2.7, 2.5, 2.5, 2.8, 2.2, 2.8, 2.7, 2.8, 3.0, 2.8, 3.0, 2.7, 2.5, 3.0], \"sizemode\": \"area\", \"sizeref\": 0.011000000000000001, \"symbol\": \"diamond\"}, \"mode\": \"markers\", \"name\": \"0\", \"scene\": \"scene\", \"showlegend\": true, \"type\": \"scatter3d\", \"x\": [1.4, 1.5, 1.3, 1.5, 1.3, 1.6, 1.0, 1.3, 1.4, 1.0, 1.5, 1.0, 1.4, 1.3, 1.4, 1.5, 1.0, 1.5, 1.1, 1.8, 1.3, 1.5, 1.2, 1.3, 1.4, 1.4, 1.5, 1.0, 1.1, 1.0, 1.2, 1.6, 1.5, 1.6, 1.5, 1.3, 1.3, 1.3, 1.2, 1.4, 1.2, 1.0, 1.3, 1.2, 1.3, 1.3, 1.1, 1.3, 1.9, 1.7, 2.0, 2.4, 1.5, 2.0, 1.8, 1.8, 1.8, 1.5, 1.8, 1.9, 1.9, 1.8], \"y\": [3.2, 3.2, 2.3, 2.8, 2.8, 3.3, 2.4, 2.9, 2.7, 2.0, 3.0, 2.2, 2.9, 2.9, 3.1, 3.0, 2.7, 2.2, 2.5, 3.2, 2.8, 2.5, 2.8, 2.9, 3.0, 2.8, 2.9, 2.6, 2.4, 2.4, 2.7, 2.7, 3.0, 3.4, 3.1, 2.3, 3.0, 2.5, 2.6, 3.0, 2.6, 2.3, 2.7, 3.0, 2.9, 2.9, 2.5, 2.8, 2.7, 2.5, 2.5, 2.8, 2.2, 2.8, 2.7, 2.8, 3.0, 2.8, 3.0, 2.7, 2.5, 3.0], \"z\": [4.7, 4.5, 4.0, 4.6, 4.5, 4.7, 3.3, 4.6, 3.9, 3.5, 4.2, 4.0, 4.7, 3.6, 4.4, 4.5, 4.1, 4.5, 3.9, 4.8, 4.0, 4.9, 4.7, 4.3, 4.4, 4.8, 4.5, 3.5, 3.8, 3.7, 3.9, 5.1, 4.5, 4.5, 4.7, 4.4, 4.1, 4.0, 4.4, 4.6, 4.0, 3.3, 4.2, 4.2, 4.2, 4.3, 3.0, 4.1, 5.1, 4.5, 5.0, 5.1, 5.0, 4.9, 4.9, 4.8, 4.9, 5.1, 4.8, 5.1, 5.0, 5.1]}, {\"hovertemplate\": \"class=%{marker.color}<br>petal_width=%{x}<br>sepal_width=%{marker.size}<br>petal_length=%{z}<extra></extra>\", \"legendgroup\": \"2\", \"marker\": {\"color\": [2, 2, 2, 2, 2, 2, 2, 2, 2, 2, 2, 2, 2, 2, 2, 2, 2, 2, 2, 2, 2, 2, 2, 2, 2, 2, 2, 2, 2, 2, 2, 2, 2, 2, 2, 2, 2, 2], \"coloraxis\": \"coloraxis\", \"size\": [3.1, 3.0, 3.3, 3.0, 2.9, 3.0, 3.0, 2.9, 2.5, 3.6, 3.2, 2.7, 3.0, 3.2, 3.0, 3.8, 2.6, 3.2, 2.8, 3.3, 3.2, 2.8, 3.0, 2.8, 3.8, 2.8, 2.6, 3.0, 3.4, 3.1, 3.1, 3.1, 3.1, 3.2, 3.3, 3.0, 3.0, 3.4], \"sizemode\": \"area\", \"sizeref\": 0.011000000000000001, \"symbol\": \"square\"}, \"mode\": \"markers\", \"name\": \"2\", \"scene\": \"scene\", \"showlegend\": true, \"type\": \"scatter3d\", \"x\": [1.5, 1.7, 2.5, 2.1, 1.8, 2.2, 2.1, 1.8, 1.8, 2.5, 2.0, 1.9, 2.1, 2.3, 1.8, 2.2, 2.3, 2.3, 2.0, 2.1, 1.8, 2.1, 1.6, 1.9, 2.0, 2.2, 1.4, 2.3, 2.4, 1.8, 2.1, 2.4, 2.3, 2.3, 2.5, 2.3, 2.0, 2.3], \"y\": [3.1, 3.0, 3.3, 3.0, 2.9, 3.0, 3.0, 2.9, 2.5, 3.6, 3.2, 2.7, 3.0, 3.2, 3.0, 3.8, 2.6, 3.2, 2.8, 3.3, 3.2, 2.8, 3.0, 2.8, 3.8, 2.8, 2.6, 3.0, 3.4, 3.1, 3.1, 3.1, 3.1, 3.2, 3.3, 3.0, 3.0, 3.4], \"z\": [4.9, 5.0, 6.0, 5.9, 5.6, 5.8, 6.6, 6.3, 5.8, 6.1, 5.1, 5.3, 5.5, 5.3, 5.5, 6.7, 6.9, 5.7, 6.7, 5.7, 6.0, 5.6, 5.8, 6.1, 6.4, 5.6, 5.6, 6.1, 5.6, 5.5, 5.4, 5.6, 5.1, 5.9, 5.7, 5.2, 5.2, 5.4]}],                        {\"coloraxis\": {\"colorbar\": {\"title\": {\"text\": \"class\"}}, \"colorscale\": [[0.0, \"#0d0887\"], [0.1111111111111111, \"#46039f\"], [0.2222222222222222, \"#7201a8\"], [0.3333333333333333, \"#9c179e\"], [0.4444444444444444, \"#bd3786\"], [0.5555555555555556, \"#d8576b\"], [0.6666666666666666, \"#ed7953\"], [0.7777777777777778, \"#fb9f3a\"], [0.8888888888888888, \"#fdca26\"], [1.0, \"#f0f921\"]]}, \"legend\": {\"itemsizing\": \"constant\", \"title\": {\"text\": \"class\"}, \"tracegroupgap\": 0, \"x\": 0, \"y\": 1}, \"margin\": {\"t\": 60}, \"scene\": {\"domain\": {\"x\": [0.0, 1.0], \"y\": [0.0, 1.0]}, \"xaxis\": {\"title\": {\"text\": \"petal_width\"}}, \"yaxis\": {\"title\": {\"text\": \"sepal_width\"}}, \"zaxis\": {\"title\": {\"text\": \"petal_length\"}}}, \"template\": {\"data\": {\"bar\": [{\"error_x\": {\"color\": \"#2a3f5f\"}, \"error_y\": {\"color\": \"#2a3f5f\"}, \"marker\": {\"line\": {\"color\": \"#E5ECF6\", \"width\": 0.5}}, \"type\": \"bar\"}], \"barpolar\": [{\"marker\": {\"line\": {\"color\": \"#E5ECF6\", \"width\": 0.5}}, \"type\": \"barpolar\"}], \"carpet\": [{\"aaxis\": {\"endlinecolor\": \"#2a3f5f\", \"gridcolor\": \"white\", \"linecolor\": \"white\", \"minorgridcolor\": \"white\", \"startlinecolor\": \"#2a3f5f\"}, \"baxis\": {\"endlinecolor\": \"#2a3f5f\", \"gridcolor\": \"white\", \"linecolor\": \"white\", \"minorgridcolor\": \"white\", \"startlinecolor\": \"#2a3f5f\"}, \"type\": \"carpet\"}], \"choropleth\": [{\"colorbar\": {\"outlinewidth\": 0, \"ticks\": \"\"}, \"type\": \"choropleth\"}], \"contour\": [{\"colorbar\": {\"outlinewidth\": 0, \"ticks\": \"\"}, \"colorscale\": [[0.0, \"#0d0887\"], [0.1111111111111111, \"#46039f\"], [0.2222222222222222, \"#7201a8\"], [0.3333333333333333, \"#9c179e\"], [0.4444444444444444, \"#bd3786\"], [0.5555555555555556, \"#d8576b\"], [0.6666666666666666, \"#ed7953\"], [0.7777777777777778, \"#fb9f3a\"], [0.8888888888888888, \"#fdca26\"], [1.0, \"#f0f921\"]], \"type\": \"contour\"}], \"contourcarpet\": [{\"colorbar\": {\"outlinewidth\": 0, \"ticks\": \"\"}, \"type\": \"contourcarpet\"}], \"heatmap\": [{\"colorbar\": {\"outlinewidth\": 0, \"ticks\": \"\"}, \"colorscale\": [[0.0, \"#0d0887\"], [0.1111111111111111, \"#46039f\"], [0.2222222222222222, \"#7201a8\"], [0.3333333333333333, \"#9c179e\"], [0.4444444444444444, \"#bd3786\"], [0.5555555555555556, \"#d8576b\"], [0.6666666666666666, \"#ed7953\"], [0.7777777777777778, \"#fb9f3a\"], [0.8888888888888888, \"#fdca26\"], [1.0, \"#f0f921\"]], \"type\": \"heatmap\"}], \"heatmapgl\": [{\"colorbar\": {\"outlinewidth\": 0, \"ticks\": \"\"}, \"colorscale\": [[0.0, \"#0d0887\"], [0.1111111111111111, \"#46039f\"], [0.2222222222222222, \"#7201a8\"], [0.3333333333333333, \"#9c179e\"], [0.4444444444444444, \"#bd3786\"], [0.5555555555555556, \"#d8576b\"], [0.6666666666666666, \"#ed7953\"], [0.7777777777777778, \"#fb9f3a\"], [0.8888888888888888, \"#fdca26\"], [1.0, \"#f0f921\"]], \"type\": \"heatmapgl\"}], \"histogram\": [{\"marker\": {\"colorbar\": {\"outlinewidth\": 0, \"ticks\": \"\"}}, \"type\": \"histogram\"}], \"histogram2d\": [{\"colorbar\": {\"outlinewidth\": 0, \"ticks\": \"\"}, \"colorscale\": [[0.0, \"#0d0887\"], [0.1111111111111111, \"#46039f\"], [0.2222222222222222, \"#7201a8\"], [0.3333333333333333, \"#9c179e\"], [0.4444444444444444, \"#bd3786\"], [0.5555555555555556, \"#d8576b\"], [0.6666666666666666, \"#ed7953\"], [0.7777777777777778, \"#fb9f3a\"], [0.8888888888888888, \"#fdca26\"], [1.0, \"#f0f921\"]], \"type\": \"histogram2d\"}], \"histogram2dcontour\": [{\"colorbar\": {\"outlinewidth\": 0, \"ticks\": \"\"}, \"colorscale\": [[0.0, \"#0d0887\"], [0.1111111111111111, \"#46039f\"], [0.2222222222222222, \"#7201a8\"], [0.3333333333333333, \"#9c179e\"], [0.4444444444444444, \"#bd3786\"], [0.5555555555555556, \"#d8576b\"], [0.6666666666666666, \"#ed7953\"], [0.7777777777777778, \"#fb9f3a\"], [0.8888888888888888, \"#fdca26\"], [1.0, \"#f0f921\"]], \"type\": \"histogram2dcontour\"}], \"mesh3d\": [{\"colorbar\": {\"outlinewidth\": 0, \"ticks\": \"\"}, \"type\": \"mesh3d\"}], \"parcoords\": [{\"line\": {\"colorbar\": {\"outlinewidth\": 0, \"ticks\": \"\"}}, \"type\": \"parcoords\"}], \"pie\": [{\"automargin\": true, \"type\": \"pie\"}], \"scatter\": [{\"marker\": {\"colorbar\": {\"outlinewidth\": 0, \"ticks\": \"\"}}, \"type\": \"scatter\"}], \"scatter3d\": [{\"line\": {\"colorbar\": {\"outlinewidth\": 0, \"ticks\": \"\"}}, \"marker\": {\"colorbar\": {\"outlinewidth\": 0, \"ticks\": \"\"}}, \"type\": \"scatter3d\"}], \"scattercarpet\": [{\"marker\": {\"colorbar\": {\"outlinewidth\": 0, \"ticks\": \"\"}}, \"type\": \"scattercarpet\"}], \"scattergeo\": [{\"marker\": {\"colorbar\": {\"outlinewidth\": 0, \"ticks\": \"\"}}, \"type\": \"scattergeo\"}], \"scattergl\": [{\"marker\": {\"colorbar\": {\"outlinewidth\": 0, \"ticks\": \"\"}}, \"type\": \"scattergl\"}], \"scattermapbox\": [{\"marker\": {\"colorbar\": {\"outlinewidth\": 0, \"ticks\": \"\"}}, \"type\": \"scattermapbox\"}], \"scatterpolar\": [{\"marker\": {\"colorbar\": {\"outlinewidth\": 0, \"ticks\": \"\"}}, \"type\": \"scatterpolar\"}], \"scatterpolargl\": [{\"marker\": {\"colorbar\": {\"outlinewidth\": 0, \"ticks\": \"\"}}, \"type\": \"scatterpolargl\"}], \"scatterternary\": [{\"marker\": {\"colorbar\": {\"outlinewidth\": 0, \"ticks\": \"\"}}, \"type\": \"scatterternary\"}], \"surface\": [{\"colorbar\": {\"outlinewidth\": 0, \"ticks\": \"\"}, \"colorscale\": [[0.0, \"#0d0887\"], [0.1111111111111111, \"#46039f\"], [0.2222222222222222, \"#7201a8\"], [0.3333333333333333, \"#9c179e\"], [0.4444444444444444, \"#bd3786\"], [0.5555555555555556, \"#d8576b\"], [0.6666666666666666, \"#ed7953\"], [0.7777777777777778, \"#fb9f3a\"], [0.8888888888888888, \"#fdca26\"], [1.0, \"#f0f921\"]], \"type\": \"surface\"}], \"table\": [{\"cells\": {\"fill\": {\"color\": \"#EBF0F8\"}, \"line\": {\"color\": \"white\"}}, \"header\": {\"fill\": {\"color\": \"#C8D4E3\"}, \"line\": {\"color\": \"white\"}}, \"type\": \"table\"}]}, \"layout\": {\"annotationdefaults\": {\"arrowcolor\": \"#2a3f5f\", \"arrowhead\": 0, \"arrowwidth\": 1}, \"autotypenumbers\": \"strict\", \"coloraxis\": {\"colorbar\": {\"outlinewidth\": 0, \"ticks\": \"\"}}, \"colorscale\": {\"diverging\": [[0, \"#8e0152\"], [0.1, \"#c51b7d\"], [0.2, \"#de77ae\"], [0.3, \"#f1b6da\"], [0.4, \"#fde0ef\"], [0.5, \"#f7f7f7\"], [0.6, \"#e6f5d0\"], [0.7, \"#b8e186\"], [0.8, \"#7fbc41\"], [0.9, \"#4d9221\"], [1, \"#276419\"]], \"sequential\": [[0.0, \"#0d0887\"], [0.1111111111111111, \"#46039f\"], [0.2222222222222222, \"#7201a8\"], [0.3333333333333333, \"#9c179e\"], [0.4444444444444444, \"#bd3786\"], [0.5555555555555556, \"#d8576b\"], [0.6666666666666666, \"#ed7953\"], [0.7777777777777778, \"#fb9f3a\"], [0.8888888888888888, \"#fdca26\"], [1.0, \"#f0f921\"]], \"sequentialminus\": [[0.0, \"#0d0887\"], [0.1111111111111111, \"#46039f\"], [0.2222222222222222, \"#7201a8\"], [0.3333333333333333, \"#9c179e\"], [0.4444444444444444, \"#bd3786\"], [0.5555555555555556, \"#d8576b\"], [0.6666666666666666, \"#ed7953\"], [0.7777777777777778, \"#fb9f3a\"], [0.8888888888888888, \"#fdca26\"], [1.0, \"#f0f921\"]]}, \"colorway\": [\"#636efa\", \"#EF553B\", \"#00cc96\", \"#ab63fa\", \"#FFA15A\", \"#19d3f3\", \"#FF6692\", \"#B6E880\", \"#FF97FF\", \"#FECB52\"], \"font\": {\"color\": \"#2a3f5f\"}, \"geo\": {\"bgcolor\": \"white\", \"lakecolor\": \"white\", \"landcolor\": \"#E5ECF6\", \"showlakes\": true, \"showland\": true, \"subunitcolor\": \"white\"}, \"hoverlabel\": {\"align\": \"left\"}, \"hovermode\": \"closest\", \"mapbox\": {\"style\": \"light\"}, \"paper_bgcolor\": \"white\", \"plot_bgcolor\": \"#E5ECF6\", \"polar\": {\"angularaxis\": {\"gridcolor\": \"white\", \"linecolor\": \"white\", \"ticks\": \"\"}, \"bgcolor\": \"#E5ECF6\", \"radialaxis\": {\"gridcolor\": \"white\", \"linecolor\": \"white\", \"ticks\": \"\"}}, \"scene\": {\"xaxis\": {\"backgroundcolor\": \"#E5ECF6\", \"gridcolor\": \"white\", \"gridwidth\": 2, \"linecolor\": \"white\", \"showbackground\": true, \"ticks\": \"\", \"zerolinecolor\": \"white\"}, \"yaxis\": {\"backgroundcolor\": \"#E5ECF6\", \"gridcolor\": \"white\", \"gridwidth\": 2, \"linecolor\": \"white\", \"showbackground\": true, \"ticks\": \"\", \"zerolinecolor\": \"white\"}, \"zaxis\": {\"backgroundcolor\": \"#E5ECF6\", \"gridcolor\": \"white\", \"gridwidth\": 2, \"linecolor\": \"white\", \"showbackground\": true, \"ticks\": \"\", \"zerolinecolor\": \"white\"}}, \"shapedefaults\": {\"line\": {\"color\": \"#2a3f5f\"}}, \"ternary\": {\"aaxis\": {\"gridcolor\": \"white\", \"linecolor\": \"white\", \"ticks\": \"\"}, \"baxis\": {\"gridcolor\": \"white\", \"linecolor\": \"white\", \"ticks\": \"\"}, \"bgcolor\": \"#E5ECF6\", \"caxis\": {\"gridcolor\": \"white\", \"linecolor\": \"white\", \"ticks\": \"\"}}, \"title\": {\"x\": 0.05}, \"xaxis\": {\"automargin\": true, \"gridcolor\": \"white\", \"linecolor\": \"white\", \"ticks\": \"\", \"title\": {\"standoff\": 15}, \"zerolinecolor\": \"white\", \"zerolinewidth\": 2}, \"yaxis\": {\"automargin\": true, \"gridcolor\": \"white\", \"linecolor\": \"white\", \"ticks\": \"\", \"title\": {\"standoff\": 15}, \"zerolinecolor\": \"white\", \"zerolinewidth\": 2}}}, \"width\": 800},                        {\"responsive\": true}                    ).then(function(){\n",
       "                            \n",
       "var gd = document.getElementById('3d55dcdc-3d99-4d89-894e-2b38e6a4e383');\n",
       "var x = new MutationObserver(function (mutations, observer) {{\n",
       "        var display = window.getComputedStyle(gd).display;\n",
       "        if (!display || display === 'none') {{\n",
       "            console.log([gd, 'removed!']);\n",
       "            Plotly.purge(gd);\n",
       "            observer.disconnect();\n",
       "        }}\n",
       "}});\n",
       "\n",
       "// Listen for the removal of the full notebook cells\n",
       "var notebookContainer = gd.closest('#notebook-container');\n",
       "if (notebookContainer) {{\n",
       "    x.observe(notebookContainer, {childList: true});\n",
       "}}\n",
       "\n",
       "// Listen for the clearing of the current output cell\n",
       "var outputEl = gd.closest('.output');\n",
       "if (outputEl) {{\n",
       "    x.observe(outputEl, {childList: true});\n",
       "}}\n",
       "\n",
       "                        })                };                });            </script>        </div>"
      ]
     },
     "metadata": {},
     "output_type": "display_data"
    }
   ],
   "source": [
    "fig = px.scatter_3d(\n",
    "    iris_df,\n",
    "    x='petal_width',\n",
    "    y='sepal_width',\n",
    "    z='petal_length',\n",
    "    color='class',\n",
    "    symbol='class',\n",
    "    size='sepal_width',\n",
    "    width=800,\n",
    ")\n",
    "fig.update_layout(legend=dict(x=0, y=1))"
   ]
  },
  {
   "cell_type": "code",
   "execution_count": 10,
   "id": "d82b099f",
   "metadata": {},
   "outputs": [
    {
     "data": {},
     "metadata": {},
     "output_type": "display_data"
    },
    {
     "data": {
      "application/vnd.holoviews_exec.v0+json": "",
      "text/html": [
       "<div id='1310'>\n",
       "\n",
       "\n",
       "\n",
       "\n",
       "\n",
       "  <div class=\"bk-root\" id=\"b8765e62-384b-47e5-be1e-4839b77696c9\" data-root-id=\"1310\"></div>\n",
       "</div>\n",
       "<script type=\"application/javascript\">(function(root) {\n",
       "  function embed_document(root) {\n",
       "    var docs_json = {\"87d8fc75-e409-41cb-8b34-bfb69d020035\":{\"defs\":[],\"roots\":{\"references\":[{\"attributes\":{\"children\":[{\"id\":\"1311\"},{\"id\":\"1315\"},{\"id\":\"1381\"}],\"margin\":[0,0,0,0],\"name\":\"Row02235\",\"tags\":[\"embedded\"]},\"id\":\"1310\",\"type\":\"Row\"},{\"attributes\":{\"overlay\":{\"id\":\"1337\"}},\"id\":\"1335\",\"type\":\"BoxZoomTool\"},{\"attributes\":{},\"id\":\"1336\",\"type\":\"ResetTool\"},{\"attributes\":{\"line_alpha\":0.1,\"line_color\":\"#30a2da\",\"line_width\":2,\"x\":{\"field\":\"k\"},\"y\":{\"field\":\"inertia\"}},\"id\":\"1349\",\"type\":\"Line\"},{\"attributes\":{\"line_color\":\"#30a2da\",\"line_width\":2,\"x\":{\"field\":\"k\"},\"y\":{\"field\":\"inertia\"}},\"id\":\"1348\",\"type\":\"Line\"},{\"attributes\":{},\"id\":\"1346\",\"type\":\"Selection\"},{\"attributes\":{\"margin\":[5,5,5,5],\"name\":\"HSpacer02240\",\"sizing_mode\":\"stretch_width\"},\"id\":\"1381\",\"type\":\"Spacer\"},{\"attributes\":{\"end\":10.0,\"reset_end\":10.0,\"reset_start\":1.0,\"start\":1.0,\"tags\":[[[\"k\",\"k\",null]]]},\"id\":\"1312\",\"type\":\"Range1d\"},{\"attributes\":{\"data_source\":{\"id\":\"1345\"},\"glyph\":{\"id\":\"1348\"},\"hover_glyph\":null,\"muted_glyph\":{\"id\":\"1350\"},\"nonselection_glyph\":{\"id\":\"1349\"},\"selection_glyph\":{\"id\":\"1353\"},\"view\":{\"id\":\"1352\"}},\"id\":\"1351\",\"type\":\"GlyphRenderer\"},{\"attributes\":{\"ticks\":[1,2,3,4,5,6,7,8,9,10]},\"id\":\"1354\",\"type\":\"FixedTicker\"},{\"attributes\":{\"line_color\":\"#30a2da\",\"line_width\":2,\"x\":{\"field\":\"k\"},\"y\":{\"field\":\"inertia\"}},\"id\":\"1353\",\"type\":\"Line\"},{\"attributes\":{},\"id\":\"1333\",\"type\":\"PanTool\"},{\"attributes\":{},\"id\":\"1356\",\"type\":\"BasicTickFormatter\"},{\"attributes\":{\"source\":{\"id\":\"1345\"}},\"id\":\"1352\",\"type\":\"CDSView\"},{\"attributes\":{\"line_alpha\":0.2,\"line_color\":\"#30a2da\",\"line_width\":2,\"x\":{\"field\":\"k\"},\"y\":{\"field\":\"inertia\"}},\"id\":\"1350\",\"type\":\"Line\"},{\"attributes\":{\"callback\":null,\"renderers\":[{\"id\":\"1351\"}],\"tags\":[\"hv_created\"],\"tooltips\":[[\"k\",\"@{k}\"],[\"inertia\",\"@{inertia}\"]]},\"id\":\"1314\",\"type\":\"HoverTool\"},{\"attributes\":{},\"id\":\"1370\",\"type\":\"UnionRenderers\"},{\"attributes\":{\"bottom_units\":\"screen\",\"fill_alpha\":0.5,\"fill_color\":\"lightgrey\",\"left_units\":\"screen\",\"level\":\"overlay\",\"line_alpha\":1.0,\"line_color\":\"black\",\"line_dash\":[4,4],\"line_width\":2,\"right_units\":\"screen\",\"syncable\":false,\"top_units\":\"screen\"},\"id\":\"1337\",\"type\":\"BoxAnnotation\"},{\"attributes\":{\"end\":852.011086440814,\"reset_end\":852.011086440814,\"reset_start\":-48.30915084895497,\"start\":-48.30915084895497,\"tags\":[[[\"inertia\",\"inertia\",null]]]},\"id\":\"1313\",\"type\":\"Range1d\"},{\"attributes\":{\"text\":\"Elbow Curve\",\"text_color\":\"black\",\"text_font_size\":\"12pt\"},\"id\":\"1316\",\"type\":\"Title\"},{\"attributes\":{},\"id\":\"1357\",\"type\":\"AllLabels\"},{\"attributes\":{},\"id\":\"1320\",\"type\":\"LinearScale\"},{\"attributes\":{},\"id\":\"1322\",\"type\":\"LinearScale\"},{\"attributes\":{\"below\":[{\"id\":\"1324\"}],\"center\":[{\"id\":\"1327\"},{\"id\":\"1331\"}],\"height\":300,\"left\":[{\"id\":\"1328\"}],\"margin\":[5,5,5,5],\"min_border_bottom\":10,\"min_border_left\":10,\"min_border_right\":10,\"min_border_top\":10,\"renderers\":[{\"id\":\"1351\"}],\"sizing_mode\":\"fixed\",\"title\":{\"id\":\"1316\"},\"toolbar\":{\"id\":\"1338\"},\"width\":700,\"x_range\":{\"id\":\"1312\"},\"x_scale\":{\"id\":\"1320\"},\"y_range\":{\"id\":\"1313\"},\"y_scale\":{\"id\":\"1322\"}},\"id\":\"1315\",\"subtype\":\"Figure\",\"type\":\"Plot\"},{\"attributes\":{\"data\":{\"inertia\":{\"__ndarray__\":\"dXEbDeBHiECll9FO4fRuQDkB9b42vFNA4ctBzxW4TUCVUyvxh4lHQCgZYMkjvENAOs8acKOHQUDSkfYhmg8/QE3pGmhu1jxAPcCcabC3OkA=\",\"dtype\":\"float64\",\"order\":\"little\",\"shape\":[10]},\"k\":[1,2,3,4,5,6,7,8,9,10]},\"selected\":{\"id\":\"1346\"},\"selection_policy\":{\"id\":\"1370\"}},\"id\":\"1345\",\"type\":\"ColumnDataSource\"},{\"attributes\":{\"axis\":{\"id\":\"1324\"},\"grid_line_color\":null,\"ticker\":null},\"id\":\"1327\",\"type\":\"Grid\"},{\"attributes\":{},\"id\":\"1362\",\"type\":\"AllLabels\"},{\"attributes\":{\"axis_label\":\"k\",\"formatter\":{\"id\":\"1356\"},\"major_label_policy\":{\"id\":\"1357\"},\"ticker\":{\"id\":\"1354\"}},\"id\":\"1324\",\"type\":\"LinearAxis\"},{\"attributes\":{\"margin\":[5,5,5,5],\"name\":\"HSpacer02239\",\"sizing_mode\":\"stretch_width\"},\"id\":\"1311\",\"type\":\"Spacer\"},{\"attributes\":{\"axis\":{\"id\":\"1328\"},\"dimension\":1,\"grid_line_color\":null,\"ticker\":null},\"id\":\"1331\",\"type\":\"Grid\"},{\"attributes\":{},\"id\":\"1361\",\"type\":\"BasicTickFormatter\"},{\"attributes\":{\"axis_label\":\"inertia\",\"formatter\":{\"id\":\"1361\"},\"major_label_policy\":{\"id\":\"1362\"},\"ticker\":{\"id\":\"1329\"}},\"id\":\"1328\",\"type\":\"LinearAxis\"},{\"attributes\":{},\"id\":\"1329\",\"type\":\"BasicTicker\"},{\"attributes\":{},\"id\":\"1334\",\"type\":\"WheelZoomTool\"},{\"attributes\":{\"active_multi\":null,\"tools\":[{\"id\":\"1314\"},{\"id\":\"1332\"},{\"id\":\"1333\"},{\"id\":\"1334\"},{\"id\":\"1335\"},{\"id\":\"1336\"}]},\"id\":\"1338\",\"type\":\"Toolbar\"},{\"attributes\":{},\"id\":\"1332\",\"type\":\"SaveTool\"}],\"root_ids\":[\"1310\"]},\"title\":\"Bokeh Application\",\"version\":\"2.3.1\"}};\n",
       "    var render_items = [{\"docid\":\"87d8fc75-e409-41cb-8b34-bfb69d020035\",\"root_ids\":[\"1310\"],\"roots\":{\"1310\":\"b8765e62-384b-47e5-be1e-4839b77696c9\"}}];\n",
       "    root.Bokeh.embed.embed_items_notebook(docs_json, render_items);\n",
       "  }\n",
       "  if (root.Bokeh !== undefined && root.Bokeh.Panel !== undefined) {\n",
       "    embed_document(root);\n",
       "  } else {\n",
       "    var attempts = 0;\n",
       "    var timer = setInterval(function(root) {\n",
       "      if (root.Bokeh !== undefined && root.Bokeh.Panel !== undefined) {\n",
       "        clearInterval(timer);\n",
       "        embed_document(root);\n",
       "      } else if (document.readyState == \"complete\") {\n",
       "        attempts++;\n",
       "        if (attempts > 100) {\n",
       "          clearInterval(timer);\n",
       "          console.log(\"Bokeh: ERROR: Unable to run BokehJS code because BokehJS library is missing\");\n",
       "        }\n",
       "      }\n",
       "    }, 10, root)\n",
       "  }\n",
       "})(window);</script>"
      ],
      "text/plain": [
       ":Curve   [k]   (inertia)"
      ]
     },
     "execution_count": 10,
     "metadata": {
      "application/vnd.holoviews_exec.v0+json": {
       "id": "1310"
      }
     },
     "output_type": "execute_result"
    }
   ],
   "source": [
    "inertia = []\n",
    "k = list(range(1, 11))\n",
    "for i in k:\n",
    "    km = KMeans(n_clusters=i, random_state=0)\n",
    "    km.fit(iris_df)\n",
    "    inertia.append(km.inertia_)\n",
    "elbow_data = {'k': k, 'inertia': inertia}\n",
    "df_elbow = pd.DataFrame(elbow_data)\n",
    "df_elbow.hvplot.line(x='k', y='inertia', title='Elbow Curve', xticks=k)"
   ]
  },
  {
   "cell_type": "code",
   "execution_count": 41,
   "id": "ba818ec9",
   "metadata": {},
   "outputs": [
    {
     "data": {
      "text/plain": [
       "array([0.59174783, 0.28586907])"
      ]
     },
     "execution_count": 41,
     "metadata": {},
     "output_type": "execute_result"
    }
   ],
   "source": [
    "iris_scaled = StandardScaler().fit_transform(iris_df)\n",
    "pca = PCA(n_components=2)\n",
    "iris_pca = pca.fit_transform(iris_scaled)\n",
    "df_iris_pca = pd.DataFrame(data=iris_pca, columns=['PC1', 'PC2'])\n",
    "pca.explained_variance_ratio_"
   ]
  },
  {
   "cell_type": "code",
   "execution_count": 42,
   "id": "d4eb4958",
   "metadata": {},
   "outputs": [
    {
     "data": {},
     "metadata": {},
     "output_type": "display_data"
    },
    {
     "data": {
      "application/vnd.holoviews_exec.v0+json": "",
      "text/html": [
       "<div id='1428'>\n",
       "\n",
       "\n",
       "\n",
       "\n",
       "\n",
       "  <div class=\"bk-root\" id=\"0f552088-1779-495f-b355-f862263597e7\" data-root-id=\"1428\"></div>\n",
       "</div>\n",
       "<script type=\"application/javascript\">(function(root) {\n",
       "  function embed_document(root) {\n",
       "    var docs_json = {\"17e3f78f-2c6a-4f4f-8ec3-ef0de7fe56fc\":{\"defs\":[],\"roots\":{\"references\":[{\"attributes\":{\"end\":10.0,\"reset_end\":10.0,\"reset_start\":1.0,\"start\":1.0,\"tags\":[[[\"k\",\"k\",null]]]},\"id\":\"1430\",\"type\":\"Range1d\"},{\"attributes\":{\"line_alpha\":0.1,\"line_color\":\"#30a2da\",\"line_width\":2,\"x\":{\"field\":\"k\"},\"y\":{\"field\":\"inertia\"}},\"id\":\"1467\",\"type\":\"Line\"},{\"attributes\":{\"line_alpha\":0.2,\"line_color\":\"#30a2da\",\"line_width\":2,\"x\":{\"field\":\"k\"},\"y\":{\"field\":\"inertia\"}},\"id\":\"1468\",\"type\":\"Line\"},{\"attributes\":{},\"id\":\"1451\",\"type\":\"PanTool\"},{\"attributes\":{\"source\":{\"id\":\"1463\"}},\"id\":\"1470\",\"type\":\"CDSView\"},{\"attributes\":{},\"id\":\"1488\",\"type\":\"UnionRenderers\"},{\"attributes\":{\"line_color\":\"#30a2da\",\"line_width\":2,\"x\":{\"field\":\"k\"},\"y\":{\"field\":\"inertia\"}},\"id\":\"1471\",\"type\":\"Line\"},{\"attributes\":{\"data\":{\"inertia\":{\"__ndarray__\":\"BUn8jrORhECiRrKlfoBxQKmGKJoW31FAlitxQDBUTED/ueGVgCZGQP/7g92N7UJAUz3l2iBpP0AqCkTMvRM7QA1c8WnZNjdAVZcrtUmaM0A=\",\"dtype\":\"float64\",\"order\":\"little\",\"shape\":[10]},\"k\":[1,2,3,4,5,6,7,8,9,10]},\"selected\":{\"id\":\"1464\"},\"selection_policy\":{\"id\":\"1488\"}},\"id\":\"1463\",\"type\":\"ColumnDataSource\"},{\"attributes\":{\"callback\":null,\"renderers\":[{\"id\":\"1469\"}],\"tags\":[\"hv_created\"],\"tooltips\":[[\"k\",\"@{k}\"],[\"inertia\",\"@{inertia}\"]]},\"id\":\"1432\",\"type\":\"HoverTool\"},{\"attributes\":{\"bottom_units\":\"screen\",\"fill_alpha\":0.5,\"fill_color\":\"lightgrey\",\"left_units\":\"screen\",\"level\":\"overlay\",\"line_alpha\":1.0,\"line_color\":\"black\",\"line_dash\":[4,4],\"line_width\":2,\"right_units\":\"screen\",\"syncable\":false,\"top_units\":\"screen\"},\"id\":\"1455\",\"type\":\"BoxAnnotation\"},{\"attributes\":{\"ticks\":[1,2,3,4,5,6,7,8,9,10]},\"id\":\"1472\",\"type\":\"FixedTicker\"},{\"attributes\":{\"end\":722.0736738546009,\"reset_end\":722.0736738546009,\"reset_start\":-44.25831159748195,\"start\":-44.25831159748195,\"tags\":[[[\"inertia\",\"inertia\",null]]]},\"id\":\"1431\",\"type\":\"Range1d\"},{\"attributes\":{\"text\":\"Elbow Curve\",\"text_color\":\"black\",\"text_font_size\":\"12pt\"},\"id\":\"1434\",\"type\":\"Title\"},{\"attributes\":{},\"id\":\"1438\",\"type\":\"LinearScale\"},{\"attributes\":{},\"id\":\"1474\",\"type\":\"BasicTickFormatter\"},{\"attributes\":{},\"id\":\"1475\",\"type\":\"AllLabels\"},{\"attributes\":{},\"id\":\"1440\",\"type\":\"LinearScale\"},{\"attributes\":{\"below\":[{\"id\":\"1442\"}],\"center\":[{\"id\":\"1445\"},{\"id\":\"1449\"}],\"height\":300,\"left\":[{\"id\":\"1446\"}],\"margin\":[5,5,5,5],\"min_border_bottom\":10,\"min_border_left\":10,\"min_border_right\":10,\"min_border_top\":10,\"renderers\":[{\"id\":\"1469\"}],\"sizing_mode\":\"fixed\",\"title\":{\"id\":\"1434\"},\"toolbar\":{\"id\":\"1456\"},\"width\":700,\"x_range\":{\"id\":\"1430\"},\"x_scale\":{\"id\":\"1438\"},\"y_range\":{\"id\":\"1431\"},\"y_scale\":{\"id\":\"1440\"}},\"id\":\"1433\",\"subtype\":\"Figure\",\"type\":\"Plot\"},{\"attributes\":{\"axis\":{\"id\":\"1442\"},\"grid_line_color\":null,\"ticker\":null},\"id\":\"1445\",\"type\":\"Grid\"},{\"attributes\":{},\"id\":\"1479\",\"type\":\"BasicTickFormatter\"},{\"attributes\":{\"axis_label\":\"k\",\"formatter\":{\"id\":\"1474\"},\"major_label_policy\":{\"id\":\"1475\"},\"ticker\":{\"id\":\"1472\"}},\"id\":\"1442\",\"type\":\"LinearAxis\"},{\"attributes\":{\"axis\":{\"id\":\"1446\"},\"dimension\":1,\"grid_line_color\":null,\"ticker\":null},\"id\":\"1449\",\"type\":\"Grid\"},{\"attributes\":{\"margin\":[5,5,5,5],\"name\":\"HSpacer02417\",\"sizing_mode\":\"stretch_width\"},\"id\":\"1429\",\"type\":\"Spacer\"},{\"attributes\":{},\"id\":\"1480\",\"type\":\"AllLabels\"},{\"attributes\":{\"axis_label\":\"inertia\",\"formatter\":{\"id\":\"1479\"},\"major_label_policy\":{\"id\":\"1480\"},\"ticker\":{\"id\":\"1447\"}},\"id\":\"1446\",\"type\":\"LinearAxis\"},{\"attributes\":{},\"id\":\"1447\",\"type\":\"BasicTicker\"},{\"attributes\":{},\"id\":\"1452\",\"type\":\"WheelZoomTool\"},{\"attributes\":{\"active_multi\":null,\"tools\":[{\"id\":\"1432\"},{\"id\":\"1450\"},{\"id\":\"1451\"},{\"id\":\"1452\"},{\"id\":\"1453\"},{\"id\":\"1454\"}]},\"id\":\"1456\",\"type\":\"Toolbar\"},{\"attributes\":{},\"id\":\"1450\",\"type\":\"SaveTool\"},{\"attributes\":{\"overlay\":{\"id\":\"1455\"}},\"id\":\"1453\",\"type\":\"BoxZoomTool\"},{\"attributes\":{\"children\":[{\"id\":\"1429\"},{\"id\":\"1433\"},{\"id\":\"1499\"}],\"margin\":[0,0,0,0],\"name\":\"Row02413\",\"tags\":[\"embedded\"]},\"id\":\"1428\",\"type\":\"Row\"},{\"attributes\":{},\"id\":\"1454\",\"type\":\"ResetTool\"},{\"attributes\":{\"data_source\":{\"id\":\"1463\"},\"glyph\":{\"id\":\"1466\"},\"hover_glyph\":null,\"muted_glyph\":{\"id\":\"1468\"},\"nonselection_glyph\":{\"id\":\"1467\"},\"selection_glyph\":{\"id\":\"1471\"},\"view\":{\"id\":\"1470\"}},\"id\":\"1469\",\"type\":\"GlyphRenderer\"},{\"attributes\":{\"line_color\":\"#30a2da\",\"line_width\":2,\"x\":{\"field\":\"k\"},\"y\":{\"field\":\"inertia\"}},\"id\":\"1466\",\"type\":\"Line\"},{\"attributes\":{},\"id\":\"1464\",\"type\":\"Selection\"},{\"attributes\":{\"margin\":[5,5,5,5],\"name\":\"HSpacer02418\",\"sizing_mode\":\"stretch_width\"},\"id\":\"1499\",\"type\":\"Spacer\"}],\"root_ids\":[\"1428\"]},\"title\":\"Bokeh Application\",\"version\":\"2.3.1\"}};\n",
       "    var render_items = [{\"docid\":\"17e3f78f-2c6a-4f4f-8ec3-ef0de7fe56fc\",\"root_ids\":[\"1428\"],\"roots\":{\"1428\":\"0f552088-1779-495f-b355-f862263597e7\"}}];\n",
       "    root.Bokeh.embed.embed_items_notebook(docs_json, render_items);\n",
       "  }\n",
       "  if (root.Bokeh !== undefined && root.Bokeh.Panel !== undefined) {\n",
       "    embed_document(root);\n",
       "  } else {\n",
       "    var attempts = 0;\n",
       "    var timer = setInterval(function(root) {\n",
       "      if (root.Bokeh !== undefined && root.Bokeh.Panel !== undefined) {\n",
       "        clearInterval(timer);\n",
       "        embed_document(root);\n",
       "      } else if (document.readyState == \"complete\") {\n",
       "        attempts++;\n",
       "        if (attempts > 100) {\n",
       "          clearInterval(timer);\n",
       "          console.log(\"Bokeh: ERROR: Unable to run BokehJS code because BokehJS library is missing\");\n",
       "        }\n",
       "      }\n",
       "    }, 10, root)\n",
       "  }\n",
       "})(window);</script>"
      ],
      "text/plain": [
       ":Curve   [k]   (inertia)"
      ]
     },
     "execution_count": 42,
     "metadata": {
      "application/vnd.holoviews_exec.v0+json": {
       "id": "1428"
      }
     },
     "output_type": "execute_result"
    }
   ],
   "source": [
    "inertia = []\n",
    "k = list(range(1, 11))\n",
    "for i in k:\n",
    "    km = KMeans(n_clusters=i, random_state=0)\n",
    "    km.fit(df_iris_pca)\n",
    "    inertia.append(km.inertia_)\n",
    "elbow_data = {'k': k, 'inertia': inertia}\n",
    "df_elbow = pd.DataFrame(elbow_data)\n",
    "df_elbow.hvplot.line(x='k', y='inertia', title='Elbow Curve', xticks=k)"
   ]
  },
  {
   "cell_type": "code",
   "execution_count": 43,
   "id": "ac3b928b",
   "metadata": {},
   "outputs": [
    {
     "data": {},
     "metadata": {},
     "output_type": "display_data"
    },
    {
     "data": {
      "application/vnd.holoviews_exec.v0+json": "",
      "text/html": [
       "<div id='1546'>\n",
       "\n",
       "\n",
       "\n",
       "\n",
       "\n",
       "  <div class=\"bk-root\" id=\"465583f3-63e8-451d-a9c8-f42cbd5f969b\" data-root-id=\"1546\"></div>\n",
       "</div>\n",
       "<script type=\"application/javascript\">(function(root) {\n",
       "  function embed_document(root) {\n",
       "    var docs_json = {\"9656d5ee-738c-4d7b-8848-c29b130b1596\":{\"defs\":[],\"roots\":{\"references\":[{\"attributes\":{\"end\":3.7603061203345165,\"reset_end\":3.7603061203345165,\"reset_start\":-2.9507151945484145,\"start\":-2.9507151945484145,\"tags\":[[[\"PC1\",\"PC1\",null]]]},\"id\":\"1548\",\"type\":\"Range1d\"},{\"attributes\":{\"data_source\":{\"id\":\"1610\"},\"glyph\":{\"id\":\"1613\"},\"hover_glyph\":null,\"muted_glyph\":{\"id\":\"1615\"},\"nonselection_glyph\":{\"id\":\"1614\"},\"selection_glyph\":{\"id\":\"1631\"},\"view\":{\"id\":\"1617\"}},\"id\":\"1616\",\"type\":\"GlyphRenderer\"},{\"attributes\":{\"fill_alpha\":{\"value\":0.1},\"fill_color\":{\"value\":\"#30a2da\"},\"line_alpha\":{\"value\":0.1},\"line_color\":{\"value\":\"#30a2da\"},\"size\":{\"value\":5.477225575051661},\"x\":{\"field\":\"PC1\"},\"y\":{\"field\":\"PC2\"}},\"id\":\"1593\",\"type\":\"Scatter\"},{\"attributes\":{\"text_color\":\"black\",\"text_font_size\":\"12pt\"},\"id\":\"1554\",\"type\":\"Title\"},{\"attributes\":{\"fill_alpha\":{\"value\":0.2},\"fill_color\":{\"value\":\"#fc4f30\"},\"line_alpha\":{\"value\":0.2},\"line_color\":{\"value\":\"#fc4f30\"},\"size\":{\"value\":5.477225575051661},\"x\":{\"field\":\"PC1\"},\"y\":{\"field\":\"PC2\"}},\"id\":\"1615\",\"type\":\"Scatter\"},{\"attributes\":{\"source\":{\"id\":\"1610\"}},\"id\":\"1617\",\"type\":\"CDSView\"},{\"attributes\":{\"angle\":{\"value\":0.0},\"fill_alpha\":{\"value\":1.0},\"fill_color\":{\"value\":\"#fc4f30\"},\"hatch_alpha\":{\"value\":1.0},\"hatch_color\":{\"value\":\"black\"},\"hatch_scale\":{\"value\":12.0},\"hatch_weight\":{\"value\":1.0},\"line_alpha\":{\"value\":1.0},\"line_cap\":{\"value\":\"butt\"},\"line_color\":{\"value\":\"#fc4f30\"},\"line_dash\":{\"value\":[]},\"line_dash_offset\":{\"value\":0},\"line_join\":{\"value\":\"bevel\"},\"line_width\":{\"value\":1},\"marker\":{\"value\":\"circle\"},\"size\":{\"value\":5.477225575051661},\"x\":{\"field\":\"PC1\"},\"y\":{\"field\":\"PC2\"}},\"id\":\"1631\",\"type\":\"Scatter\"},{\"attributes\":{\"data_source\":{\"id\":\"1632\"},\"glyph\":{\"id\":\"1635\"},\"hover_glyph\":null,\"muted_glyph\":{\"id\":\"1637\"},\"nonselection_glyph\":{\"id\":\"1636\"},\"selection_glyph\":{\"id\":\"1655\"},\"view\":{\"id\":\"1639\"}},\"id\":\"1638\",\"type\":\"GlyphRenderer\"},{\"attributes\":{\"fill_color\":{\"value\":\"#fc4f30\"},\"line_color\":{\"value\":\"#fc4f30\"},\"size\":{\"value\":5.477225575051661},\"x\":{\"field\":\"PC1\"},\"y\":{\"field\":\"PC2\"}},\"id\":\"1613\",\"type\":\"Scatter\"},{\"attributes\":{},\"id\":\"1563\",\"type\":\"BasicTicker\"},{\"attributes\":{\"axis\":{\"id\":\"1562\"},\"grid_line_color\":null,\"ticker\":null},\"id\":\"1565\",\"type\":\"Grid\"},{\"attributes\":{\"data_source\":{\"id\":\"1589\"},\"glyph\":{\"id\":\"1592\"},\"hover_glyph\":null,\"muted_glyph\":{\"id\":\"1594\"},\"nonselection_glyph\":{\"id\":\"1593\"},\"selection_glyph\":{\"id\":\"1609\"},\"view\":{\"id\":\"1596\"}},\"id\":\"1595\",\"type\":\"GlyphRenderer\"},{\"attributes\":{\"fill_alpha\":{\"value\":0.2},\"fill_color\":{\"value\":\"#30a2da\"},\"line_alpha\":{\"value\":0.2},\"line_color\":{\"value\":\"#30a2da\"},\"size\":{\"value\":5.477225575051661},\"x\":{\"field\":\"PC1\"},\"y\":{\"field\":\"PC2\"}},\"id\":\"1594\",\"type\":\"Scatter\"},{\"attributes\":{\"fill_alpha\":{\"value\":0.1},\"fill_color\":{\"value\":\"#fc4f30\"},\"line_alpha\":{\"value\":0.1},\"line_color\":{\"value\":\"#fc4f30\"},\"size\":{\"value\":5.477225575051661},\"x\":{\"field\":\"PC1\"},\"y\":{\"field\":\"PC2\"}},\"id\":\"1614\",\"type\":\"Scatter\"},{\"attributes\":{},\"id\":\"1558\",\"type\":\"LinearScale\"},{\"attributes\":{\"label\":{\"value\":\"1\"},\"renderers\":[{\"id\":\"1616\"}]},\"id\":\"1630\",\"type\":\"LegendItem\"},{\"attributes\":{\"source\":{\"id\":\"1589\"}},\"id\":\"1596\",\"type\":\"CDSView\"},{\"attributes\":{},\"id\":\"1605\",\"type\":\"UnionRenderers\"},{\"attributes\":{\"fill_alpha\":{\"value\":0.1},\"fill_color\":{\"value\":\"#e5ae38\"},\"line_alpha\":{\"value\":0.1},\"line_color\":{\"value\":\"#e5ae38\"},\"size\":{\"value\":5.477225575051661},\"x\":{\"field\":\"PC1\"},\"y\":{\"field\":\"PC2\"}},\"id\":\"1636\",\"type\":\"Scatter\"},{\"attributes\":{},\"id\":\"1560\",\"type\":\"LinearScale\"},{\"attributes\":{},\"id\":\"1567\",\"type\":\"BasicTicker\"},{\"attributes\":{\"axis_label\":\"PC1\",\"formatter\":{\"id\":\"1584\"},\"major_label_policy\":{\"id\":\"1585\"},\"ticker\":{\"id\":\"1563\"}},\"id\":\"1562\",\"type\":\"LinearAxis\"},{\"attributes\":{\"source\":{\"id\":\"1632\"}},\"id\":\"1639\",\"type\":\"CDSView\"},{\"attributes\":{\"fill_alpha\":{\"value\":0.2},\"fill_color\":{\"value\":\"#e5ae38\"},\"line_alpha\":{\"value\":0.2},\"line_color\":{\"value\":\"#e5ae38\"},\"size\":{\"value\":5.477225575051661},\"x\":{\"field\":\"PC1\"},\"y\":{\"field\":\"PC2\"}},\"id\":\"1637\",\"type\":\"Scatter\"},{\"attributes\":{},\"id\":\"1571\",\"type\":\"PanTool\"},{\"attributes\":{\"label\":{\"value\":\"2\"},\"renderers\":[{\"id\":\"1638\"}]},\"id\":\"1654\",\"type\":\"LegendItem\"},{\"attributes\":{\"axis_label\":\"PC2\",\"formatter\":{\"id\":\"1587\"},\"major_label_policy\":{\"id\":\"1588\"},\"ticker\":{\"id\":\"1567\"}},\"id\":\"1566\",\"type\":\"LinearAxis\"},{\"attributes\":{\"angle\":{\"value\":0.0},\"fill_alpha\":{\"value\":1.0},\"fill_color\":{\"value\":\"#e5ae38\"},\"hatch_alpha\":{\"value\":1.0},\"hatch_color\":{\"value\":\"black\"},\"hatch_scale\":{\"value\":12.0},\"hatch_weight\":{\"value\":1.0},\"line_alpha\":{\"value\":1.0},\"line_cap\":{\"value\":\"butt\"},\"line_color\":{\"value\":\"#e5ae38\"},\"line_dash\":{\"value\":[]},\"line_dash_offset\":{\"value\":0},\"line_join\":{\"value\":\"bevel\"},\"line_width\":{\"value\":1},\"marker\":{\"value\":\"circle\"},\"size\":{\"value\":5.477225575051661},\"x\":{\"field\":\"PC1\"},\"y\":{\"field\":\"PC2\"}},\"id\":\"1655\",\"type\":\"Scatter\"},{\"attributes\":{},\"id\":\"1628\",\"type\":\"UnionRenderers\"},{\"attributes\":{},\"id\":\"1572\",\"type\":\"WheelZoomTool\"},{\"attributes\":{\"active_multi\":null,\"tools\":[{\"id\":\"1550\"},{\"id\":\"1570\"},{\"id\":\"1571\"},{\"id\":\"1572\"},{\"id\":\"1573\"},{\"id\":\"1574\"}]},\"id\":\"1576\",\"type\":\"Toolbar\"},{\"attributes\":{},\"id\":\"1633\",\"type\":\"Selection\"},{\"attributes\":{\"axis\":{\"id\":\"1566\"},\"dimension\":1,\"grid_line_color\":null,\"ticker\":null},\"id\":\"1569\",\"type\":\"Grid\"},{\"attributes\":{\"fill_color\":{\"value\":\"#e5ae38\"},\"line_color\":{\"value\":\"#e5ae38\"},\"size\":{\"value\":5.477225575051661},\"x\":{\"field\":\"PC1\"},\"y\":{\"field\":\"PC2\"}},\"id\":\"1635\",\"type\":\"Scatter\"},{\"attributes\":{},\"id\":\"1570\",\"type\":\"SaveTool\"},{\"attributes\":{\"margin\":[5,5,5,5],\"name\":\"HSpacer02649\",\"sizing_mode\":\"stretch_width\"},\"id\":\"1782\",\"type\":\"Spacer\"},{\"attributes\":{\"overlay\":{\"id\":\"1575\"}},\"id\":\"1573\",\"type\":\"BoxZoomTool\"},{\"attributes\":{},\"id\":\"1574\",\"type\":\"ResetTool\"},{\"attributes\":{},\"id\":\"1585\",\"type\":\"AllLabels\"},{\"attributes\":{\"data\":{\"PC1\":{\"__ndarray__\":\"ZSaP0EJ1AcB+pYBi22kAwDBLh3IUiALAPEb5WfgbAsAKLhjR+WICwBDFE2tQOf+/nC/c8ykGA8Cst/XG8UsBwMsrpHO3kQLAQ3z5viMoAcAcKfIz63sAwLRQ5b1XEALAMjpJ02iEAcBpc+GOxN4EwHJdzM1FdADATXiPPg2qAMC5O1xx1KcAwFGpuOJN3gDAD1HmOWp9/L8e44hM3tkBwNVYiDrzb/2/EHYb4crYAMDl5bIYiHwFwJsYAL6LJ/y/0Y0HkfZHAcB7wkqDWcH+v6ZOqLh5tv+/YXioPt+uAMCkHgbQi4cAwE6IqUWzvwHAnIAgRfzRAMDsvQC/Sx/8v5mVCB6LwgPA6VfnM7ZNAsBDfPm+IygBwICapfgVQAHA9bt2p1dT/79DfPm+IygBwB+yLwChPgPAA6ADRFnIAMBHV590saQBwGcajUB8ev6/MZJd+90SBMCeOnz84i7+v+YM4CK9NwDAJkCc935WAMDYyWorCC4CwJLMhObhyALAyEDktoP/AMDwXVNYniQBwA==\",\"dtype\":\"float64\",\"order\":\"little\",\"shape\":[50]},\"PC2\":{\"__ndarray__\":\"px8peWkD6r9SEtZ05GeQP+kD6vURXdC/md8n5BRYsb+ipcZ7E0vuvwVwfQ1tyfe/trU4Jcoy4b8xwBk0VyLkv7Se70KLX9I//034wCYGwr85Qtfl1Qzzv7Lmp/HuiOK/Uu7/IAaqoT+gKmTymXLBPyaeslcuPPy/sSXFP3nGAsAZvT5AVQ74v4rUCaNQ3+m/DezGix5z9r8oxo1nJGP0vwTZelNXy+a/5RDr8IXP8b/j2SaP++brv40Xuvj0Ut6/FfOFpZIh4r8AQ8i+g1pZP2yDem6xt+O/mBJRdG+c6r+tmYt2v7vlv185TLuyHM+/7UKsYRX8u7/cj/3ZDcjmvyyNqmqwafy/bJhVm9MBAMD/TfjAJgbCv9rp3qPWBtW/GCys5MUT7b//TfjAJgbCv3slxMO1KMA/qVmiSNHd5L+a4eGnSkbpv5FLSWpkRPM/KdZs9Wrwx7+jDGLZo3Lov4bTvMkvDPS/EFLp5CAtpj9zGO3F9mP0v8QHLzRrQs2/evWS2xiv8r+MjqhsToPevw==\",\"dtype\":\"float64\",\"order\":\"little\",\"shape\":[50]},\"class\":{\"__ndarray__\":\"AAAAAAAAAAAAAAAAAAAAAAAAAAAAAAAAAAAAAAAAAAAAAAAAAAAAAAAAAAAAAAAAAAAAAAAAAAAAAAAAAAAAAAAAAAAAAAAAAAAAAAAAAAAAAAAAAAAAAAAAAAAAAAAAAAAAAAAAAAAAAAAAAAAAAAAAAAAAAAAAAAAAAAAAAAAAAAAAAAAAAAAAAAAAAAAAAAAAAAAAAAAAAAAAAAAAAAAAAAAAAAAAAAAAAAAAAAAAAAAAAAAAAAAAAAAAAAAAAAAAAAAAAAA=\",\"dtype\":\"int32\",\"order\":\"little\",\"shape\":[50]}},\"selected\":{\"id\":\"1590\"},\"selection_policy\":{\"id\":\"1605\"}},\"id\":\"1589\",\"type\":\"ColumnDataSource\"},{\"attributes\":{\"fill_color\":{\"value\":\"#30a2da\"},\"line_color\":{\"value\":\"#30a2da\"},\"size\":{\"value\":5.477225575051661},\"x\":{\"field\":\"PC1\"},\"y\":{\"field\":\"PC2\"}},\"id\":\"1592\",\"type\":\"Scatter\"},{\"attributes\":{},\"id\":\"1584\",\"type\":\"BasicTickFormatter\"},{\"attributes\":{},\"id\":\"1652\",\"type\":\"UnionRenderers\"},{\"attributes\":{\"callback\":null,\"renderers\":[{\"id\":\"1595\"},{\"id\":\"1616\"},{\"id\":\"1638\"}],\"tags\":[\"hv_created\"],\"tooltips\":[[\"class\",\"@{class}\"],[\"PC1\",\"@{PC1}\"],[\"PC2\",\"@{PC2}\"]]},\"id\":\"1550\",\"type\":\"HoverTool\"},{\"attributes\":{\"label\":{\"value\":\"0\"},\"renderers\":[{\"id\":\"1595\"}]},\"id\":\"1608\",\"type\":\"LegendItem\"},{\"attributes\":{\"end\":3.0740565398518083,\"reset_end\":3.0740565398518083,\"reset_start\":-3.025019198744358,\"start\":-3.025019198744358,\"tags\":[[[\"PC2\",\"PC2\",null]]]},\"id\":\"1549\",\"type\":\"Range1d\"},{\"attributes\":{\"margin\":[5,5,5,5],\"name\":\"HSpacer02648\",\"sizing_mode\":\"stretch_width\"},\"id\":\"1547\",\"type\":\"Spacer\"},{\"attributes\":{},\"id\":\"1590\",\"type\":\"Selection\"},{\"attributes\":{\"below\":[{\"id\":\"1562\"}],\"center\":[{\"id\":\"1565\"},{\"id\":\"1569\"}],\"height\":300,\"left\":[{\"id\":\"1566\"}],\"margin\":[5,5,5,5],\"min_border_bottom\":10,\"min_border_left\":10,\"min_border_right\":10,\"min_border_top\":10,\"renderers\":[{\"id\":\"1595\"},{\"id\":\"1616\"},{\"id\":\"1638\"}],\"right\":[{\"id\":\"1607\"}],\"sizing_mode\":\"fixed\",\"title\":{\"id\":\"1554\"},\"toolbar\":{\"id\":\"1576\"},\"width\":700,\"x_range\":{\"id\":\"1548\"},\"x_scale\":{\"id\":\"1558\"},\"y_range\":{\"id\":\"1549\"},\"y_scale\":{\"id\":\"1560\"}},\"id\":\"1553\",\"subtype\":\"Figure\",\"type\":\"Plot\"},{\"attributes\":{\"angle\":{\"value\":0.0},\"fill_alpha\":{\"value\":1.0},\"fill_color\":{\"value\":\"#30a2da\"},\"hatch_alpha\":{\"value\":1.0},\"hatch_color\":{\"value\":\"black\"},\"hatch_scale\":{\"value\":12.0},\"hatch_weight\":{\"value\":1.0},\"line_alpha\":{\"value\":1.0},\"line_cap\":{\"value\":\"butt\"},\"line_color\":{\"value\":\"#30a2da\"},\"line_dash\":{\"value\":[]},\"line_dash_offset\":{\"value\":0},\"line_join\":{\"value\":\"bevel\"},\"line_width\":{\"value\":1},\"marker\":{\"value\":\"circle\"},\"size\":{\"value\":5.477225575051661},\"x\":{\"field\":\"PC1\"},\"y\":{\"field\":\"PC2\"}},\"id\":\"1609\",\"type\":\"Scatter\"},{\"attributes\":{\"data\":{\"PC1\":{\"__ndarray__\":\"9YJ7rxCW7j+5jH6oP4XiP0RPdTdJAsQ/GEWIybVA7D+5OfwCRyvIP2cUWdWPQOM/6PD+t+Rf579q+0Bw9u7nPz23jM1Q78m/sL5FtoQy2b85UKpNidnQP+khKrL2utM/aW+DKAwO4T9nzChvYULMv4obB8/f8eY/vV7M24yMxT+tPUEn5eenv7pQgzA//e4/h3nA7JkmsL9KmxlHVXLiPziWiYn5GNI/4ulAJHIf8D+1jlZgvf3bP4oyOaWtsOA/An2aufeL5j+uD5ZWMBPxP/Gk4LhKit4/CpOdnd9O0L82N7h2PK+7v8NQDQiec8u/bB+ySQotoj/53W9n9jTrPyKmJfbxZaQ/zgv/hy6t0j82G9g5OG/sP9ytaZtToOk/RKpROKkJvL/DOF0S5vmqP1BBmCsagK0/KKyq7Mu03D9Y2km2trO+PyDS2rUIqeO/eyLbvicbtD8WjEu21Bu2v44rxG4xDaQ/b+pQG9Mn2T82C+eSS7Hlv5yaWhcN4q0/8Pzsda0r7j+1p9yL+AHAP7zcMWlzX/A/p4ApCisn9D+uKAciLAzwPzXBtafqq+g/5BfswLUA8j/Ot+FDYz/vPw8yNIc56+o/ukUT3c5b7T80epk/q9HnP/D87HWtK+4/q/7dsK9c9T8gJ0jnzeToPw==\",\"dtype\":\"float64\",\"order\":\"little\",\"shape\":[62]},\"PC2\":{\"__ndarray__\":\"bChH2kX70j8tVmoXYIPbPx/1bVoyIABA/NqSNp2a8D+BouWlMlPzP7N68CMOxtM/Zm/hTIVC/z/RZjiVai7rP9jjuwMmVPc/CgQlRcKGBEDEdYpU/gnrP81E9SWQWwBA2Vdj61ke7z8Y8mMyU5TwP3qMwfXYS+A/0DVG3sij7T+7J0Qz+vv0PyHmEEcDVgBArN+hsDCq+j9v/99AuT7iPzXPYj0chvE/b53lk3sO+T+JcCUrpuzxPyemJ3ICPuw/aEVwIXcK5j+E6y2MmyPvP13vSaMEue8/k5D5/Oxz9z/f6Mi5RXj9PwvwCEL/VP0/T8wC8J799D9LsPwfD1n1P8NoVwe9Gu8/+nSqFqQ1yz81ywIYTtfgP23RepVkl/0/bQWFzMbR7D/LyrWdQD37P5di1FmK7vg/2ZHcusH46T9NL0YIa5D3PzEZGCctswBAJgWsldP+9T9cxz37pxTsP/iYQXTynfA/Gtk4m/a07T/wccRx1+P7P2tVJHNKDvM/czq0da5K9j/Lzf/GAg7+P+r4ffVhrPs/hGZvgVoj9D8LAw5x0d4AQDrDWNAudPQ/qW7uvXxB9D9pWO+vbQzyP+2xe1+B8Oo/zxSNijms8T/hpKNah4nrP3M6tHWuSvY/8IbUTOdn+T/2MU67XazsPw==\",\"dtype\":\"float64\",\"order\":\"little\",\"shape\":[62]},\"class\":{\"__ndarray__\":\"AQAAAAEAAAABAAAAAQAAAAEAAAABAAAAAQAAAAEAAAABAAAAAQAAAAEAAAABAAAAAQAAAAEAAAABAAAAAQAAAAEAAAABAAAAAQAAAAEAAAABAAAAAQAAAAEAAAABAAAAAQAAAAEAAAABAAAAAQAAAAEAAAABAAAAAQAAAAEAAAABAAAAAQAAAAEAAAABAAAAAQAAAAEAAAABAAAAAQAAAAEAAAABAAAAAQAAAAEAAAABAAAAAQAAAAEAAAABAAAAAQAAAAEAAAABAAAAAQAAAAEAAAABAAAAAQAAAAEAAAABAAAAAQAAAAEAAAABAAAAAQAAAAEAAAA=\",\"dtype\":\"int32\",\"order\":\"little\",\"shape\":[62]}},\"selected\":{\"id\":\"1611\"},\"selection_policy\":{\"id\":\"1628\"}},\"id\":\"1610\",\"type\":\"ColumnDataSource\"},{\"attributes\":{},\"id\":\"1587\",\"type\":\"BasicTickFormatter\"},{\"attributes\":{},\"id\":\"1611\",\"type\":\"Selection\"},{\"attributes\":{},\"id\":\"1588\",\"type\":\"AllLabels\"},{\"attributes\":{\"bottom_units\":\"screen\",\"fill_alpha\":0.5,\"fill_color\":\"lightgrey\",\"left_units\":\"screen\",\"level\":\"overlay\",\"line_alpha\":1.0,\"line_color\":\"black\",\"line_dash\":[4,4],\"line_width\":2,\"right_units\":\"screen\",\"syncable\":false,\"top_units\":\"screen\"},\"id\":\"1575\",\"type\":\"BoxAnnotation\"},{\"attributes\":{\"click_policy\":\"mute\",\"items\":[{\"id\":\"1608\"},{\"id\":\"1630\"},{\"id\":\"1654\"}],\"location\":[0,0],\"title\":\"class\"},\"id\":\"1607\",\"type\":\"Legend\"},{\"attributes\":{\"data\":{\"PC1\":{\"__ndarray__\":\"meAVhGOv9z+zgr5IqFb5P8TZE6QssgBAydwabq1uA0AQq3+7j136P4Y1UDtErQBAMm+FZTXUB0BF3uRjSiYEQO0gzf05awFA83TG1PhWBEClfor3H6/5P8sOsTliqvw/mTxyqbfYAECnln/A2Dz9PxH9MK4eEvs/7BmL+JngBUDxA17nkvYLQNmazCqTOwJANYDDBOHXCEDeAkmXszj/P50zUDv1mwFAnaiYT7vC/z8I7ec8srwAQGg2WzRgJQVAUYzk9X/xBEBU0aKVUngAQGcEjTI9FPY/bJFdecA3CEAGJ6j52Uv9P6vtHq2wNvk/8M3Yn2avAEBGQmGBqvIBQBYFqE7vFAFAxq/DxZA9AkCJdf6CLfgBQBhcT9WnugBAYGvPCzDd+z91pETckgv6Pw==\",\"dtype\":\"float64\",\"order\":\"little\",\"shape\":[38]},\"PC2\":{\"__ndarray__\":\"u0k3R+1s9L8mAkxEjvrwvzORk2aoy/W/cLHrTkaO8b+WTOywPhHpv3Ml5WULtu6/PepuKWHq8r+QvZ3M1nLvv4+e0865ts6/4I+B7GRFAMAtRAr52Pr0v69PKw20CeC/TRjgYve58L87YDaUgkT0v4lFhArLre+/991FDLSYA8BSZm0SHtThv9eSypRL1PW/otPY9ZiL7L8xVPRhfL73vwi71KQSFPe/QeXwK0pd5L89jS59e1fyv485oib8S+u/Kk2ilFQiBMAjmtFVMTnkv5DPyzWDQtK/NowFnSd687+Rk/cPL6T4v8LlkIa6+vG/CchnhYCq879al08WbZbyv7l2WdUVuvO/j58lcRpU9b/1vbW1Snb3v0J6jajPa/C/6aJnqvXM77/tkiOK8nr4vw==\",\"dtype\":\"float64\",\"order\":\"little\",\"shape\":[38]},\"class\":{\"__ndarray__\":\"AgAAAAIAAAACAAAAAgAAAAIAAAACAAAAAgAAAAIAAAACAAAAAgAAAAIAAAACAAAAAgAAAAIAAAACAAAAAgAAAAIAAAACAAAAAgAAAAIAAAACAAAAAgAAAAIAAAACAAAAAgAAAAIAAAACAAAAAgAAAAIAAAACAAAAAgAAAAIAAAACAAAAAgAAAAIAAAACAAAAAgAAAAIAAAA=\",\"dtype\":\"int32\",\"order\":\"little\",\"shape\":[38]}},\"selected\":{\"id\":\"1633\"},\"selection_policy\":{\"id\":\"1652\"}},\"id\":\"1632\",\"type\":\"ColumnDataSource\"},{\"attributes\":{\"children\":[{\"id\":\"1547\"},{\"id\":\"1553\"},{\"id\":\"1782\"}],\"margin\":[0,0,0,0],\"name\":\"Row02644\",\"tags\":[\"embedded\"]},\"id\":\"1546\",\"type\":\"Row\"}],\"root_ids\":[\"1546\"]},\"title\":\"Bokeh Application\",\"version\":\"2.3.1\"}};\n",
       "    var render_items = [{\"docid\":\"9656d5ee-738c-4d7b-8848-c29b130b1596\",\"root_ids\":[\"1546\"],\"roots\":{\"1546\":\"465583f3-63e8-451d-a9c8-f42cbd5f969b\"}}];\n",
       "    root.Bokeh.embed.embed_items_notebook(docs_json, render_items);\n",
       "  }\n",
       "  if (root.Bokeh !== undefined && root.Bokeh.Panel !== undefined) {\n",
       "    embed_document(root);\n",
       "  } else {\n",
       "    var attempts = 0;\n",
       "    var timer = setInterval(function(root) {\n",
       "      if (root.Bokeh !== undefined && root.Bokeh.Panel !== undefined) {\n",
       "        clearInterval(timer);\n",
       "        embed_document(root);\n",
       "      } else if (document.readyState == \"complete\") {\n",
       "        attempts++;\n",
       "        if (attempts > 100) {\n",
       "          clearInterval(timer);\n",
       "          console.log(\"Bokeh: ERROR: Unable to run BokehJS code because BokehJS library is missing\");\n",
       "        }\n",
       "      }\n",
       "    }, 10, root)\n",
       "  }\n",
       "})(window);</script>"
      ],
      "text/plain": [
       ":NdOverlay   [class]\n",
       "   :Scatter   [PC1]   (PC2,class)"
      ]
     },
     "execution_count": 43,
     "metadata": {
      "application/vnd.holoviews_exec.v0+json": {
       "id": "1546"
      }
     },
     "output_type": "execute_result"
    }
   ],
   "source": [
    "model = KMeans(n_clusters=3, random_state=0)\n",
    "model.fit(df_iris_pca)\n",
    "pred = model.predict(df_iris_pca)\n",
    "df_iris_pca['class'] = model.labels_\n",
    "df_iris_pca.hvplot.scatter(x='PC1', y='PC2', hover_cols=['class'], by='class')"
   ]
  },
  {
   "cell_type": "code",
   "execution_count": null,
   "id": "97fd6faf",
   "metadata": {},
   "outputs": [],
   "source": []
  }
 ],
 "metadata": {
  "kernelspec": {
   "display_name": "Python 3",
   "language": "python",
   "name": "python3"
  },
  "language_info": {
   "codemirror_mode": {
    "name": "ipython",
    "version": 3
   },
   "file_extension": ".py",
   "mimetype": "text/x-python",
   "name": "python",
   "nbconvert_exporter": "python",
   "pygments_lexer": "ipython3",
   "version": "3.8.2"
  }
 },
 "nbformat": 4,
 "nbformat_minor": 5
}
