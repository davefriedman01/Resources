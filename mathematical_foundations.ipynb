{
 "cells": [
  {
   "cell_type": "markdown",
   "metadata": {},
   "source": [
    "#### Imports"
   ]
  },
  {
   "cell_type": "code",
   "execution_count": 1,
   "metadata": {},
   "outputs": [],
   "source": [
    "%matplotlib inline\n",
    "\n",
    "\n",
    "import time\n",
    "import datetime\n",
    "\n",
    "import numpy as np\n",
    "np.set_printoptions(suppress=True) # suppress scientific notation in NumPy output\n",
    "  # see the following discussion for more information\n",
    "  # https://stackoverflow.com/questions/9777783/suppress-scientific-notation-in-numpy-when-creating-array-from-nested-list\n",
    "import numpy.random as npr\n",
    "import numpy_financial as npf\n",
    "import pandas as pd\n",
    "from pylab import mpl, plt\n",
    "plt.style.use('seaborn')\n",
    "#plt.style.available # display available styles\n",
    "plt.rcParams['figure.figsize'] = (10, 6)\n",
    "\n",
    "\n",
    "import scipy.stats as scs\n",
    "import scipy.optimize as sco\n",
    "import scipy.interpolate as sci\n",
    "from scipy import signal # signal processing\n",
    "  # https://www.gaussianwaves.com/2010/11/moving-average-filter-ma-filter-2/\n",
    "    \n",
    "    \n",
    "from sklearn.datasets import make_blobs\n",
    "from sklearn.model_selection import train_test_split\n",
    "from sklearn.linear_model import LinearRegression, LogisticRegression\n",
    "from sklearn.metrics import mean_squared_error, r2_score\n",
    "from sklearn.preprocessing import LabelEncoder, StandardScaler\n",
    "\n",
    "\n",
    "import statsmodels.api as sm\n",
    "  # Hodrick-Prescott Filter: decomposes a time series into shorter-term fluctuations and longer-term trends\n",
    "  #   ts_noise, ts_trend = sm.tsa.filters.hpfilter(df)\n",
    "  #   ts_noise.plot();\n",
    "  #   ts_trend.plot();\n",
    "from statsmodels.tsa.seasonal import seasonal_decompose\n",
    "  # time series decomposition: seasonal_decompose(df, model='multiplicative').plot();\n",
    "from statsmodels.graphics.tsaplots import plot_acf, plot_pacf\n",
    "  # Autocorrelation and Partial Autocorrelation\n",
    "from statsmodels.tsa.stattools import adfuller\n",
    "  # Augmented Dickey-Fuller statistical test for stationarity (p-value < 0.05 is stationary)\n",
    "    \n",
    "from statsmodels.tsa.ar_model import AutoReg, ar_select_order\n",
    "from statsmodels.tsa.api import acf, pacf, graphics\n",
    "\n",
    "from statsmodels.tsa.arima_model import ARMA, ARIMA\n",
    "  # model_arma = ARMA(df, order=(1, 1))\n",
    "  # model_arima = ARIMA(df, order=(1, 1, 1))\n",
    "  # results = model.fit()\n",
    "  # results.summary()\n",
    "from statsmodels.tsa.arima.model import ARIMA\n",
    "\n",
    "from arch import arch_model\n",
    "\n",
    "\n",
    "import warnings\n",
    "warnings.filterwarnings('ignore')"
   ]
  },
  {
   "cell_type": "markdown",
   "metadata": {},
   "source": [
    "---\n",
    "---\n",
    "---"
   ]
  },
  {
   "cell_type": "markdown",
   "metadata": {},
   "source": [
    "# Table of Contents"
   ]
  },
  {
   "cell_type": "markdown",
   "metadata": {},
   "source": [
    "0. Data I/O\n",
    "1. EDA Exploratory Data Analysis and Summary Statistics\n",
    "2. Data Preprocessing and Feature Engineering\n",
    "3. ML Machine Learning Framework\n",
    "4. Regression\n",
    "5. Supervised ML: Classification\n",
    "    - Binary Classification Performance Evaluation\n",
    "    - Multiclass Classification Performance Evaluation\n",
    "6. Statistics\n",
    "7. Probability Theory\n",
    "8. Stochastic Processes and Time Series\n",
    "9. DSP Digital Signal Processing and Filters\n",
    "10. Mathematical Finance\n",
    "11. Resources"
   ]
  },
  {
   "cell_type": "markdown",
   "metadata": {},
   "source": [
    "---\n",
    "---\n",
    "---"
   ]
  },
  {
   "cell_type": "markdown",
   "metadata": {},
   "source": [
    "# Data I/O"
   ]
  },
  {
   "cell_type": "markdown",
   "metadata": {},
   "source": [
    "`np.load('.npy')`<br>\n",
    "`np.loadtxt('.csv', delimiter=',')`<br>\n",
    "\n",
    "`pd.read_csv('.csv', index_col=0, parse_dates=True, infer_datetime_format=True)`<br>\n",
    "\n",
    "`with open('.csv', 'r') as input_file:`<br>"
   ]
  },
  {
   "cell_type": "markdown",
   "metadata": {},
   "source": [
    "---\n",
    "---\n",
    "---"
   ]
  },
  {
   "cell_type": "markdown",
   "metadata": {},
   "source": [
    "# EDA Exploratory Data Analysis and Summary Statistics"
   ]
  },
  {
   "cell_type": "markdown",
   "metadata": {},
   "source": [
    "---"
   ]
  },
  {
   "cell_type": "markdown",
   "metadata": {},
   "source": [
    "__Dataset__ $X$ [Wiki](https://en.wikipedia.org/wiki/Data_set)<br>\n",
    "$$X = \\{ x_1, x_2, ..., x_n \\}$$\n",
    "where $x_i$ for $i = 1, 2, ..., n$ are data objects, data points, data instances, etc. [Wiki](https://en.wikipedia.org/wiki/Data)<br>\n",
    "\n",
    "__Dataset Size or Count__ $n$<br>\n",
    "\n",
    "__Maximum__ max<br>\n",
    "$$\\text{max} = x_i \\in X \\,\\text{s.t.}\\, x_i \\ge x_j \\,\\,\\,\\forall x_j \\in X, j \\ne i$$\n",
    "\n",
    "__Minimum__ min<br>\n",
    "$$\\text{min} = x_i \\in X \\,\\text{s.t.}\\, x_i \\le x_j \\,\\,\\,\\forall x_j \\in X, j \\ne i$$\n",
    "\n",
    "__Outlier__<br>\n",
    "$x_i \\in \\{x_i $ s.t. $ x_i \\lt \\text{Q}_1 - 1.5\\times\\text{IQR} $ or $ x_i \\gt \\text{Q}_3 + 1.5\\times\\text{IQR}\\}$\n",
    "\n",
    "__k-th Quantile__\n",
    "$x_i$ s.t. $\\left(\\frac{100}{q}k\\right)$% of the data values are $\\leq x_i$ and $(100 - \\frac{100}{q}k)$% of the data values are $\\geq x_i$ where $0 \\leq k \\leq q$ <br>\n",
    "\n",
    "__k-th Percentile__\n",
    "$x_i$ s.t. $k$% of the data values are $\\leq x_i$ and $(100 - k)$% of the data values are $\\geq x_i$ where $0 \\leq k \\leq 100$ <br>\n",
    "\n",
    "__k-th Quartile__\n",
    "$x_i$ s.t. $(25k)$% of the data values are $\\leq x_i$ and $(100 - 25k)$% of the data values are $\\geq x_i$ where $0 \\leq k \\leq 4$ <br>"
   ]
  },
  {
   "cell_type": "markdown",
   "metadata": {},
   "source": [
    "---"
   ]
  },
  {
   "cell_type": "markdown",
   "metadata": {},
   "source": [
    "## Measures of Central Tendency [Wiki](https://en.wikipedia.org/wiki/Central_tendency) or Averages [Wiki](https://en.wikipedia.org/wiki/Average)"
   ]
  },
  {
   "cell_type": "markdown",
   "metadata": {},
   "source": [
    "### Pythagorean Means [Wiki](https://en.wikipedia.org/wiki/Pythagorean_means)"
   ]
  },
  {
   "cell_type": "markdown",
   "metadata": {},
   "source": [
    "__Arithmetic Mean__ $\\mu_a$ [Wiki](https://en.wikipedia.org/wiki/Arithmetic_mean)<br>\n",
    "$$\n",
    "\\begin{align}\n",
    "\\mu_a\n",
    "&= \\frac{\\sum_{i = 1}^n x_i}{n} \\\\\n",
    "&= \\frac{x_1 + x_2 + ... + x_n}{n} \\\\\n",
    "\\end{align}\n",
    "$$\n",
    "\n",
    "Population Mean $\\mu$ <br>\n",
    "Sample Mean $\\bar{x} = \\frac{\\sum x_i}{n}$ <br>\n",
    "\n",
    "__Geometric Mean__ $\\mu_g$ [Wiki](https://en.wikipedia.org/wiki/Geometric_mean)<br>\n",
    "the $n$th root of the product of $n$ numbers<br>\n",
    "$$\n",
    "\\begin{align}\n",
    "\\mu_g\n",
    "&= \\left( \\prod_{i = 1}^n x_i \\right)^{\\frac{1}{n}} \\\\\n",
    "&= \\sqrt[n]{x_1x_2...x_n} \\\\\n",
    "\\end{align}\n",
    "$$\n",
    "\n",
    "__Harmonic Mean__ $\\mu_h$ [Wiki](https://en.wikipedia.org/wiki/Harmonic_mean)<br>\n",
    "\"the reciprocal of the arithmetic mean of the reciprocals\"<br>\n",
    "$$\n",
    "\\begin{align}\n",
    "\\mu_h\n",
    "&= \\left( \\frac{\\sum_{i = 1}^n x_i^{-1}}{n} \\right)^{-1} = \\frac{n}{\\sum_{i = 1}^n \\frac{1}{x_i}} \\\\\n",
    "&= \\frac{n}{\\frac{1}{x_1} + \\frac{1}{x_2} + ... + \\frac{1}{x_n}} \\\\\n",
    "\\end{align}\n",
    "$$"
   ]
  },
  {
   "cell_type": "markdown",
   "metadata": {},
   "source": [
    "__Median (50th Percentile)__ $M$<br>\n",
    "    &nbsp;&nbsp;&nbsp;&nbsp;\n",
    "    If $n$ is odd, then $M = x_i$ s.t. $x_i$ is the $\\frac{(n + 1)}{2}$-th element <br>\n",
    "    &nbsp;&nbsp;&nbsp;&nbsp;\n",
    "    If $n$ is even, then $M$ is the average of the $\\frac{n}{2}$-th and $\\frac{n}{2} + 1$-th elements <br>\n",
    "\n",
    "__Mode__<br>"
   ]
  },
  {
   "cell_type": "markdown",
   "metadata": {},
   "source": [
    "---"
   ]
  },
  {
   "cell_type": "markdown",
   "metadata": {},
   "source": [
    "## Measures of Dispersion [Wiki](https://en.wikipedia.org/wiki/Statistical_dispersion)"
   ]
  },
  {
   "cell_type": "markdown",
   "metadata": {},
   "source": [
    "__Range__ [Wiki](https://en.wikipedia.org/wiki/Range_(statistics))<br>\n",
    "$$\\text{Range} = \\text{maximum} - \\text{minimum}$$\n",
    "\n",
    "__Interquartile Range__ IQR [Wiki](https://en.wikipedia.org/wiki/Interquartile_range)<br>\n",
    "$$\\text{IQR} = \\text{Q}_3 - \\text{Q}_1 \\,\\,\\,\\text{where Q}_1 \\text{is the Lower Quartile (25th Percentile) and Q}_3 \\text{is the Upper Quartile (75th Percentile)}$$\n",
    "\n",
    "__Standard Deviation__ [Wiki](https://en.wikipedia.org/wiki/Standard_deviation)<br>\n",
    "Population Standard Deviation $\\sigma = \\sqrt{\\frac{\\sum(x_i - \\mu)^2}{n}}$ <br>\n",
    "Sample Standard Deviation $s = \\sqrt{\\frac{\\sum(x_i - \\bar{x})^2}{n - 1}}$ <br>\n",
    "    &nbsp;&nbsp;&nbsp;&nbsp;\n",
    "    Step 1. Calculate the sample mean. <br>\n",
    "    &nbsp;&nbsp;&nbsp;&nbsp;\n",
    "    Step 2. For each observation, calculate the difference between the data value and the mean. <br>\n",
    "    &nbsp;&nbsp;&nbsp;&nbsp;\n",
    "    Step 3. Square each difference calculated in step 2. <br>\n",
    "    &nbsp;&nbsp;&nbsp;&nbsp;\n",
    "    Step 4. Sum the squared differences calculated in step 3, and then divide this sum by n - 1. <br>\n",
    "    &nbsp;&nbsp;&nbsp;&nbsp;\n",
    "    Step 5. Take the square root of the variance calculated in step 4. <br>\n",
    "    &nbsp;&nbsp;&nbsp;&nbsp;\n",
    "    For normally distributed $n \\geq 200$, $s \\approx \\frac{\\text{Range}}{6}$<br>\n",
    "    \n",
    "__Variance__ [Wiki](https://en.wikipedia.org/wiki/Variance)<br>\n",
    "Population Variance $\\sigma^2$ <br>\n",
    "Sample Variance $s^2 = \\frac{\\sum(x_i - \\bar{x})^2}{n - 1}$ <br>\n",
    "\n",
    "__Mean Absolute Difference__ [Wiki](https://en.wikipedia.org/wiki/Mean_absolute_difference)<br>\n",
    "\n",
    "__Mean Absolute Deviation__ [Wiki](https://en.wikipedia.org/wiki/Average_absolute_deviation)<br>\n",
    "\n",
    "__Median Absolute Deviation__ [Wiki](https://en.wikipedia.org/wiki/Median_absolute_deviation)<br>"
   ]
  },
  {
   "cell_type": "markdown",
   "metadata": {},
   "source": [
    "---"
   ]
  },
  {
   "cell_type": "markdown",
   "metadata": {},
   "source": [
    "Simple Linear Regression $\\hat{y} = b_0 + b_1x$ <br>\n",
    "Least Squares (Least Sum of Squared Errors) <br>\n",
    "    &nbsp;&nbsp;&nbsp;&nbsp;\n",
    "    $b_1 = \\frac{\\sum_i (x_i - \\bar{x})(y_i - \\bar{y})}{\\sum_i (x_i - \\bar{x})^2}$ <br>\n",
    "    &nbsp;&nbsp;&nbsp;&nbsp;\n",
    "    $b_0 = \\bar{y} - b_1\\bar{x}$ <br>\n",
    "Residual (Prediction Error) $= y - \\hat{y}$ <br>\n",
    "Sum of Squared Errors SSE $= \\sum (y - \\hat{y})^2$ <br>\n",
    "\n",
    "Pearson's Product-Moment Correlation Coefficient $r = \\frac{1}{n - 1} \\sum_i \\left(\\frac{x_i - \\bar{x}}{s_x}\\right)\\left(\\frac{y_i - \\bar{y}}{s_y}\\right)$ where $-1 \\leq r \\leq 1$ <br>\n",
    "Squared Correlation $r^2$ where $0 \\leq r^2 \\leq 1$ <br>\n",
    "\n",
    "Covariance <br>\n",
    "\n",
    "Skewness [Wiki](https://en.wikipedia.org/wiki/Skewness)<br>\n",
    "Kurtosis<br>"
   ]
  },
  {
   "cell_type": "markdown",
   "metadata": {},
   "source": [
    "---\n",
    "---\n",
    "---\n",
    "\n",
    "# Data Preprocessing and Feature Engineering [Wiki](https://en.wikipedia.org/wiki/Feature_engineering)\n",
    "\n",
    "__Dimensionality Reduction__ [Wiki](https://en.wikipedia.org/wiki/Dimensionality_reduction)<br>\n",
    "\n",
    "__Dummy Variable__ [Wiki](https://en.wikipedia.org/wiki/Dummy_variable_(statistics))<br>\n",
    "\n",
    "__Feature Scaling__ [Wiki](https://en.wikipedia.org/wiki/Feature_scaling)<br>\n",
    "\n",
    "__Normalization__ [Wiki](https://en.wikipedia.org/wiki/Normalization_(statistics))<br>\n",
    "\n",
    "__Standardization__<br>\n",
    "\n",
    "Standardized z-Score $z = \\frac{x_i - \\bar{x}}{s}$\n",
    "\n",
    "__Zero Centering__<br>\n",
    "Suppose you have a dataset $X_{\\text{not zero-centered}}$ whose arithmetic mean is $\\bar{X}_{\\text{not zero-centered}} \\ne 0$<br>\n",
    "The zero-centered dataset is given by $X_{\\text{zero-centered}} = X_{\\text{not zero-centered}} - \\bar{X}_{\\text{not zero-centered}}$<br>\n",
    "$\\bar{X}_{\\text{zero-centered}} = 0$<br>\n",
    "\n",
    "Centering Matrix [Wiki](https://en.wikipedia.org/wiki/Centering_matrix)<br>"
   ]
  },
  {
   "cell_type": "markdown",
   "metadata": {},
   "source": [
    "---\n",
    "---\n",
    "---"
   ]
  },
  {
   "cell_type": "markdown",
   "metadata": {},
   "source": [
    "# ML Machine Learning Framework"
   ]
  },
  {
   "cell_type": "markdown",
   "metadata": {},
   "source": [
    "A __machine learning algorithm__ is an algorithm that is capable of improving a computer program's performance at some task via experience<br>"
   ]
  },
  {
   "cell_type": "markdown",
   "metadata": {},
   "source": [
    "---\n",
    "---\n",
    "---"
   ]
  },
  {
   "cell_type": "markdown",
   "metadata": {},
   "source": [
    "# Regression"
   ]
  },
  {
   "cell_type": "markdown",
   "metadata": {},
   "source": [
    "---"
   ]
  },
  {
   "cell_type": "markdown",
   "metadata": {},
   "source": [
    "### Linear Regression"
   ]
  },
  {
   "cell_type": "markdown",
   "metadata": {},
   "source": [
    "given: input vector $X^T = (X_1, ..., X_p) \\in \\mathbb{R}^p$<br>\n",
    "objective: predict a real-valued output $Y \\in \\mathbb{R}$<br>\n",
    "output: a linear function of the input<br>\n",
    "\n",
    "__Linear Regression Model__<br>\n",
    "$$\n",
    "\\begin{align}\n",
    "f(X)\n",
    "& = \\beta_0 + \\sum_{j = 1}^p X_j \\beta_j \\\\\n",
    "& = \\beta_0 + X_1 \\beta_1 + ... + X_j \\beta_j \\\\\n",
    "\\end{align}\n",
    "$$\n",
    "\n",
    "assumption: the regression function $\\text{E}(Y|X)$ is linear or the linear model is a reasonable approximation<br>\n",
    "\n",
    "the variables $X_j$ can come from different sources:<br>\n",
    "  1. quantitative inputs\n",
    "  2. transformations of quantitative inputs, such as log, square-root, or square\n",
    "  3. basis expansions, such as $X_2 = X_1^2$, $X_3 = X_1^3$, leading to a polynomial representation\n",
    "  4. numeric or \"dummy\" coding of the levels of qualitative inputs. For example, if $G$ is a five-level factor input, we might create $X_j$, $j = 1, ..., 5$, such that $X_j = I(G = j)$. Together this group of $X_j$ represents the effect of $G$ by a set of level-dependent constants, since in $\\sum_{j = 1}^5 X_j \\beta_j$, one of the $X_j$s is one, and the others are zero\n",
    "  5. interactions between variables, for example, $X_3 = X_1 \\cdot X_2$\n",
    "  \n",
    "no matter the source of the $X_j$, the model is linear in the parameters<br>\n",
    "\n",
    "\n",
    "Let $\\textbf{X}_{[N \\times (p + 1)]}$ be the $N \\times (p + 1)$ matrix with each row an input vector<br>\n",
    "$$\n",
    "\\textbf{X}\n",
    "=\n",
    "\\begin{bmatrix}\n",
    "X_1 & ... & X_{p + 1} \\\\\n",
    "\\end{bmatrix}\n",
    "=\n",
    "\\begin{bmatrix}\n",
    "x_{11} & ... & x_{1, p + 1} \\\\\n",
    "... & ... & ... \\\\\n",
    "x_{N1} & ... & x_{N, p + 1} \\\\\n",
    "\\end{bmatrix}\n",
    "$$\n",
    "Let $\\textbf{y}_{[N \\times 1]}$ be the $N$-vector of outputs in the training set<br>\n",
    "\n",
    "\n",
    "the $\\beta_j$s are unknown parameters or coefficients<br>\n",
    "Training Data may be used to estimate the parameters $\\beta$<br>\n",
    "$$x = {(x_1, y_1), ..., (x_N, y_N)}$$\n",
    "$$x_i = (x_{i1}, ..., x_{ip})^T$$\n",
    "Parameter Estimation Methods:<br>\n",
    "  1. Least Squares\n",
    " \n",
    "__Least Squares Optimality Criterion__<br>\n",
    "pick the coefficients $\\beta = (\\beta_0, ..., \\beta_p)^T$ to minimize the residual sum of squares\n",
    "\n",
    "__Residual__<br>\n",
    "$$\\hat{y} - y$$\n",
    "\n",
    "__RSS Residual Sum of Squares__<br>\n",
    "measures the average lack of fit<br>\n",
    "$$\n",
    "\\begin{align}\n",
    "\\text{RSS}(\\beta)\n",
    "&= \\sum_{i = 1}^N (y_i - f(x_i))^2 \\\\\n",
    "&= \\sum_{i = 1}^N \\left(y_i - \\beta_0 - \\sum_{j = 1}^p x_{ij} \\beta_j \\right)^2 \\\\\n",
    "&= (\\textbf{y} - \\textbf{X}\\beta)^T (\\textbf{y} - \\textbf{X}\\beta)\n",
    "& \\,\\,\\,\\text{this is a quadratic function in the}\\, p + 1 \\,\\text{parameters} \\\\\n",
    "&= (\\textbf{y}^T - \\beta^T\\textbf{X}^T) (\\textbf{y} - \\textbf{X}\\beta) \\\\\n",
    "&= \\textbf{y}^T\\textbf{y} - \\textbf{y}^T\\textbf{X}\\beta - \\beta^T\\textbf{X}^T\\textbf{y} + \\beta^T\\textbf{X}^T\\textbf{X}\\beta \\\\\n",
    "&= \\textbf{y}^T\\textbf{y} - (\\textbf{y}^T\\textbf{X}\\beta)^T - \\beta^T\\textbf{X}^T\\textbf{y} + \\beta^T\\textbf{X}^T\\textbf{X}\\beta \\\\\n",
    "&= \\textbf{y}^T\\textbf{y} - \\beta^T\\textbf{X}^T\\textbf{y} - \\beta^T\\textbf{X}^T\\textbf{y} + \\beta^T\\textbf{X}^T\\textbf{X}\\beta \\\\\n",
    "&= \\textbf{y}^T\\textbf{y} - 2\\beta^T\\textbf{X}^T\\textbf{y} + \\beta^T\\textbf{X}^T\\textbf{X}\\beta \\\\\n",
    "\\frac{\\partial \\text{RSS}}{\\partial \\beta} &= -2\\textbf{X}^T\\textbf{y} + 2\\textbf{X}^T\\textbf{X}\\beta \\\\\n",
    "&= -2\\textbf{X}^T (\\textbf{y} - \\textbf{X} \\beta)\n",
    "& \\text{first partial derivative with respect to}\\, \\beta \\\\\n",
    "\\frac{\\partial^2 \\text{RSS}}{\\partial \\beta \\partial \\beta^T} &= 2\\textbf{X}^T \\textbf{X}\n",
    "& \\text{second partial derivative with respect to}\\, \\beta \\\\\n",
    "0 &= \\textbf{X}^T (\\textbf{y} - \\textbf{X} \\beta)\n",
    "& \\text{set the first partial derivative to zero assuming X has full column rank} \\\\\n",
    "\\hat{\\beta} &= (\\textbf{X}^T\\textbf{X})^{-1} \\textbf{X}^T \\textbf{y}\n",
    "& \\text{unique solution} \\\\\n",
    "\\hat{\\textbf{y}} = \\textbf{X} \\hat{\\beta} &= \\textbf{X} (\\textbf{X}^T\\textbf{X})^{-1} \\textbf{X}^T \\textbf{y}\n",
    "\\,\\text{where}\\, \\hat{y}_i = \\hat{f}(x_i)\n",
    "& \\text{the fitted values at the training inputs} \\\\\n",
    "\\hat{\\textbf{y}} = \\textbf{Hy} &= \\textbf{X} (\\textbf{X}^T\\textbf{X})^{-1} \\textbf{X}^T \\textbf{y}\n",
    "& \\text{Hat matrix}\\, \\textbf{H} = \\textbf{X} (\\textbf{X}^T\\textbf{X})^{-1} \\textbf{X}^T \\\\\n",
    "\\end{align}\n",
    "$$"
   ]
  },
  {
   "cell_type": "markdown",
   "metadata": {},
   "source": [
    "---"
   ]
  },
  {
   "cell_type": "markdown",
   "metadata": {},
   "source": [
    "__Linear Regression in $\\mathbb{R}^2$__\n",
    "$$\n",
    "\\begin{align}\n",
    "f(X)\n",
    "& = \\beta_0 + \\sum_{j = 1}^1 X_j \\beta_j \\\\\n",
    "& = \\beta_0 + X_1 \\beta_1 \\\\\n",
    "\\end{align}\n",
    "$$\n",
    "\n",
    "$$\n",
    "\\textbf{X}\n",
    "=\n",
    "\\begin{bmatrix}\n",
    "X_1 \\\\\n",
    "\\end{bmatrix}\n",
    "=\n",
    "\\begin{bmatrix}\n",
    "x_{11} \\\\\n",
    "... \\\\\n",
    "x_{N1} \\\\\n",
    "\\end{bmatrix}\n",
    "$$"
   ]
  },
  {
   "cell_type": "markdown",
   "metadata": {},
   "source": [
    "---"
   ]
  },
  {
   "cell_type": "markdown",
   "metadata": {},
   "source": [
    "__Linear Regression in $\\mathbb{R}^3$__\n",
    "$$\n",
    "\\begin{align}\n",
    "f(X)\n",
    "& = \\beta_0 + \\sum_{j = 1}^2 X_j \\beta_j \\\\\n",
    "& = \\beta_0 + X_1 \\beta_1 + X_2 \\beta_2 \\\\\n",
    "\\end{align}\n",
    "$$\n",
    "\n",
    "$$\n",
    "\\textbf{X}\n",
    "=\n",
    "\\begin{bmatrix}\n",
    "X_1 & X_{2} \\\\\n",
    "\\end{bmatrix}\n",
    "=\n",
    "\\begin{bmatrix}\n",
    "x_{11} & x_{12} \\\\\n",
    "... & ... \\\\\n",
    "x_{N1} & x_{N2} \\\\\n",
    "\\end{bmatrix}\n",
    "$$"
   ]
  },
  {
   "cell_type": "markdown",
   "metadata": {},
   "source": [
    "---"
   ]
  },
  {
   "cell_type": "markdown",
   "metadata": {},
   "source": [
    "Linear Regression example implemented in scikit-learn"
   ]
  },
  {
   "cell_type": "code",
   "execution_count": 2,
   "metadata": {},
   "outputs": [
    {
     "data": {
      "image/png": "[encoded data removed]",
      "text/plain": [
       "<Figure size 720x432 with 1 Axes>"
      ]
     },
     "metadata": {},
     "output_type": "display_data"
    }
   ],
   "source": [
    "x = np.linspace(0, 2, 100)\n",
    "y = npr.random(100) + x\n",
    "plt.scatter(x, y);"
   ]
  },
  {
   "cell_type": "code",
   "execution_count": 3,
   "metadata": {},
   "outputs": [
    {
     "data": {
      "image/png": "[encoded data removed]",
      "text/plain": [
       "<Figure size 720x432 with 1 Axes>"
      ]
     },
     "metadata": {},
     "output_type": "display_data"
    }
   ],
   "source": [
    "x = x.reshape(-1, 1)\n",
    "model = LinearRegression()\n",
    "model.fit(x, y);\n",
    "m = model.coef_\n",
    "b = model.intercept_\n",
    "predicted_y = model.predict(x)\n",
    "plt.scatter(x, y);\n",
    "plt.plot(x, predicted_y, color='red');"
   ]
  },
  {
   "cell_type": "code",
   "execution_count": 4,
   "metadata": {},
   "outputs": [
    {
     "data": {
      "text/plain": [
       "0.7883490791622672"
      ]
     },
     "metadata": {},
     "output_type": "display_data"
    },
    {
     "data": {
      "text/plain": [
       "0.7883490791622672"
      ]
     },
     "metadata": {},
     "output_type": "display_data"
    },
    {
     "data": {
      "text/plain": [
       "0.08999100736122603"
      ]
     },
     "metadata": {},
     "output_type": "display_data"
    },
    {
     "data": {
      "text/plain": [
       "0.29998501189430454"
      ]
     },
     "metadata": {},
     "output_type": "display_data"
    },
    {
     "data": {
      "text/plain": [
       "0.6520628765410567"
      ]
     },
     "metadata": {},
     "output_type": "display_data"
    }
   ],
   "source": [
    "score = model.score(x, y, sample_weight=None)\n",
    "r2 = r2_score(y, predicted_y)\n",
    "mse = mean_squared_error(y, predicted_y)\n",
    "rmse = np.sqrt(mse)\n",
    "std = np.std(y)\n",
    "display(\n",
    "    score,\n",
    "    r2,\n",
    "    mse,\n",
    "    rmse,\n",
    "    std\n",
    ")"
   ]
  },
  {
   "cell_type": "markdown",
   "metadata": {},
   "source": [
    "---\n",
    "---\n",
    "---"
   ]
  },
  {
   "cell_type": "markdown",
   "metadata": {},
   "source": [
    "# Supervised ML: Classification"
   ]
  },
  {
   "cell_type": "markdown",
   "metadata": {},
   "source": [
    "---"
   ]
  },
  {
   "cell_type": "markdown",
   "metadata": {},
   "source": [
    "__Classification__<br>\n",
    "Binary Classification<br>\n",
    "Multiclass Classification<br>"
   ]
  },
  {
   "cell_type": "markdown",
   "metadata": {},
   "source": [
    "---"
   ]
  },
  {
   "cell_type": "markdown",
   "metadata": {},
   "source": [
    "### Classifiers"
   ]
  },
  {
   "cell_type": "markdown",
   "metadata": {},
   "source": [
    "__ANN Artificial Neural Network__<br>\n",
    "__Decision Tree__<br>\n",
    "__Probabilistic Discriminative Model__<br>\n",
    "a probabilistic classification model that directly assigns class labels without computing class-conditional probabilities<br>\n",
    "&nbsp;&nbsp;&nbsp;&nbsp;\n",
    "Logistic Regression<br>\n",
    "__Probabilistic Generative Model__<br>\n",
    "a probabilistic classification model that involves computing class-conditional probabilities<br>\n",
    "&nbsp;&nbsp;&nbsp;&nbsp;\n",
    "Bayesian Classifiers<br>\n",
    "&nbsp;&nbsp;&nbsp;&nbsp;&nbsp;&nbsp;&nbsp;&nbsp;\n",
    "Bayesian Network<br>\n",
    "&nbsp;&nbsp;&nbsp;&nbsp;&nbsp;&nbsp;&nbsp;&nbsp;\n",
    "Naive Bayes<br>\n",
    "__SVM Support Vector Machine__<br>"
   ]
  },
  {
   "cell_type": "markdown",
   "metadata": {},
   "source": [
    "---"
   ]
  },
  {
   "cell_type": "markdown",
   "metadata": {},
   "source": [
    "## Binary Classification Performance Evaluation [Wiki](https://en.wikipedia.org/wiki/Evaluation_of_binary_classifiers)"
   ]
  },
  {
   "cell_type": "markdown",
   "metadata": {},
   "source": [
    "<table>\n",
    "    <tr>\n",
    "        <td>\n",
    "<table>\n",
    "    <caption>Binary Confusion Matrix</caption>\n",
    "    <!-- the number of columns in the table -->\n",
    "    <col>\n",
    "    <col>\n",
    "    <colgroup span=\"2\"></colgroup>\n",
    "    <thead>\n",
    "        <tr>\n",
    "            <td colspan=\"2\" rowspan=\"2\"></td>\n",
    "            <th colspan=\"2\" scope=\"colgroup\">Predicted</th>\n",
    "        </tr>\n",
    "        <tr>\n",
    "            <th scope=\"col\">+</th>\n",
    "            <th scope=\"col\">-</th>\n",
    "        </tr>\n",
    "    </thead>\n",
    "    <tbody>\n",
    "        <tr>\n",
    "            <th rowspan=\"4\" scope=\"rowgroup\">Actual</th>\n",
    "            <th scope=\"row\" style=\"border-right: 1px solid black;\">+</th>\n",
    "            <td style=\"background-color: coral;\">$$\\text{TP}$$</td>\n",
    "            <td>$$\\text{FN}$$</td>\n",
    "        </tr>\n",
    "        <tr></tr> <!-- get rid of zebra stripes -->\n",
    "        <tr>\n",
    "            <th scope=\"row\" style=\"border-right: 1px solid black;\">-</th>\n",
    "            <td>$$\\text{FP}$$</td>\n",
    "            <td style=\"background-color: coral;\">$$\\text{TN}$$</td>\n",
    "        </tr>\n",
    "        <tr></tr> <!-- get rid of zebra stripes -->\n",
    "    </tbody>\n",
    "</table>\n",
    "        </td><td>\n",
    "<table>\n",
    "    <caption>Binary Confusion Matrix</caption>\n",
    "    <!-- the number of columns in the table -->\n",
    "    <col>\n",
    "    <col>\n",
    "    <colgroup span=\"2\"></colgroup>\n",
    "    <thead>\n",
    "        <tr>\n",
    "            <td colspan=\"2\" rowspan=\"2\"></td>\n",
    "            <th colspan=\"2\" scope=\"colgroup\">Predicted</th>\n",
    "        </tr>\n",
    "        <tr>\n",
    "            <th scope=\"col\">0</th>\n",
    "            <th scope=\"col\">1</th>\n",
    "        </tr>\n",
    "    </thead>\n",
    "    <tbody>\n",
    "        <tr>\n",
    "            <th rowspan=\"4\" scope=\"rowgroup\">Actual</th>\n",
    "            <th scope=\"row\" style=\"border-right: 1px solid black;\">0</th>\n",
    "            <td style=\"background-color: coral;\">$$f_{00}$$</td>\n",
    "            <td>$$f_{01}$$</td>\n",
    "        </tr>\n",
    "        <tr></tr> <!-- get rid of zebra stripes -->\n",
    "        <tr>\n",
    "            <th scope=\"row\" style=\"border-right: 1px solid black;\">1</th>\n",
    "            <td>$$f_{10}$$</td>\n",
    "            <td style=\"background-color: coral;\">$$f_{11}$$</td>\n",
    "        </tr>\n",
    "        <tr></tr> <!-- get rid of zebra stripes -->\n",
    "    </tbody>\n",
    "</table>\n",
    "        </td>\n",
    "    </tr>\n",
    "</table>"
   ]
  },
  {
   "cell_type": "markdown",
   "metadata": {},
   "source": [
    "$f_{ij}$ is the number of instances from class $i$ predicted to be of class $j$ (here, class 0 is positive and class 1 is negative)<br>\n",
    "\n",
    "__TP True Positive__ is the number of positive examples correctly predicted by the classifier $f_{00}$<br>\n",
    "\n",
    "__FP False Positive (Type I Error)__ is the number of negative examples wrongly predicted as positive by the classifier $f_{10}$<br>\n",
    "\n",
    "__FN False Negative (Type II Error)__ is the number of positive examples wrongly predicted as negative by the classifier $f_{01}$<br>\n",
    "\n",
    "__TN True Negative__ is the number of negative examples correctly predicted by the classifier $f_{11}$<br>\n",
    "\n",
    "__$\\text{T}$ number of correct predictions made by the model__<br>\n",
    "$$\n",
    "\\begin{align}\n",
    "\\text{T} &\\equiv \\text{TP} + \\text{TN} \\\\\n",
    "&= \\sum f_{ij} \\,(\\text{where}\\, i = j) \\\\\n",
    "&= \\sum_{i = 0}^1 f_{ii} \\\\\n",
    "&= f_{00} + f_{11} \\\\\n",
    "\\end{align}\n",
    "$$\n",
    "\n",
    "__$\\text{F}$ number of incorrect predictions made by the model__<br>\n",
    "$$\n",
    "\\begin{align}\n",
    "\\text{F} &\\equiv \\text{FN} + \\text{FP} \\\\\n",
    "&= \\sum f_{ij} \\,(\\text{where}\\, i \\ne j) \\\\\n",
    "&= \\sum_{j \\ne i}^1 \\sum_{i \\ne j}^1 f_{ij} \\\\\n",
    "&= \\sum_{j \\ne i}^1 (f_{0j} + f_{1j}) \\\\\n",
    "&= \\sum_{j \\ne i}^1 f_{0j} + \\sum_{j \\ne i}^1 f_{1j} \\\\\n",
    "&= f_{01} + f_{10} \\\\\n",
    "\\end{align}\n",
    "$$\n",
    "\n",
    "__$\\text{N}$ number of predictions made by the model__<br>\n",
    "$$\n",
    "\\begin{align}\n",
    "\\text{N} &\\equiv \\text{T} + \\text{F} \\\\\n",
    "&= \\text{TP} + \\text{FP} + \\text{FN} + \\text{TN} \\\\\n",
    "&= \\sum f_{ij} \\\\\n",
    "&= \\sum_{j = 0}^1 \\sum_{i = 0}^1 f_{ij} \\\\\n",
    "&= \\sum_{j = 0}^1 (f_{0j} + f_{1j}) \\\\\n",
    "&= \\sum_{j = 0}^1 f_{0j} + \\sum_{j = 0}^1 f_{1j} \\\\\n",
    "&= f_{00} + f_{01} + f_{10} + f_{11} \\\\\n",
    "\\end{align}\n",
    "$$\n",
    "\n",
    "__Skew__ $\\alpha$ is the ratio of positive data objects to all data objects<br>\n",
    "$$\n",
    "\\begin{align}\n",
    "\\alpha &= \\frac{P}{P + N} & \\text{where}\\, P \\,\\text{is the number of actual positives and}\\, N \\,\\text{is the number of actual negatives}\n",
    "\\end{align}\n",
    "$$\n",
    "\n",
    "#### Evaluation Measures\n",
    "\n",
    "__Accuracy__ $a$ is the ratio of correct predictions to all predictions, and takes a value $\\in [0, 1]$, where $a = 1$ is a perfect accuracy<br>\n",
    "\n",
    "&nbsp;&nbsp;&nbsp;&nbsp;&nbsp;&nbsp;&nbsp;&nbsp;\n",
    "suitable for balanced classes; not suitable for imbalanced classes, since it favors classifiers that correctly classify the majority class<br>\n",
    "\n",
    "$$\n",
    "\\begin{align}\n",
    "a\n",
    "&= \\frac{\\text{TP} + \\text{TN}}{\\text{TP} + \\text{FP} + \\text{FN} + \\text{TN}} \\\\\n",
    "&= \\frac{\\text{T}}{\\text{N}} \\\\\n",
    "\\end{align}\n",
    "$$\n",
    "\n",
    "__Error Rate__ $e$ is the ratio of incorrect predictions to all predictions, and takes a value $\\in [0, 1]$, where $e = 1$ is a perfect error rate<br>\n",
    "$$\n",
    "\\begin{align}\n",
    "e\n",
    "&= 1 - a\n",
    "& \\text{as the accuracy gets closer to unity, the error rate gets closer to zero, and vice versa} \\\\\n",
    "&= \\frac{\\text{FP} + \\text{FN}}{\\text{TP} + \\text{FP} + \\text{FN} + \\text{TN}} \\\\\n",
    "&= \\frac{\\text{F}}{\\text{N}} \\\\\n",
    "\\end{align}\n",
    "$$\n",
    "\n",
    "\n",
    "\n",
    "__Precision__ $p$ (PPV Positive Predicted Value) is the ratio of correct predictions of the positive class to the total number of positive predictions<br>\n",
    "\n",
    "&nbsp;&nbsp;&nbsp;&nbsp;&nbsp;&nbsp;&nbsp;&nbsp;\n",
    "sensitive to skew: precision is a useful measure for highly skewed test sets where the positive predictions, even though small in number, are required to be mostly correct<br>\n",
    "&nbsp;&nbsp;&nbsp;&nbsp;&nbsp;&nbsp;&nbsp;&nbsp;\n",
    "a classifier that has a high precision is likely to have most of its positive predictions correct<br>\n",
    "\n",
    "$$p = \\frac{\\text{TP}}{\\text{TP} + \\text{FP}}$$\n",
    "\n",
    "\n",
    "\n",
    "__FDR False Discovery Rate__<br>\n",
    "\n",
    "&nbsp;&nbsp;&nbsp;&nbsp;&nbsp;&nbsp;&nbsp;&nbsp;\n",
    "this evaluation measure is sensitive to the skew<br>\n",
    "\n",
    "$$\n",
    "\\begin{align}\n",
    "\\text{FDR}\n",
    "&= 1 - p \\\\\n",
    "&= \\frac{\\text{FP}}{\\text{TP} + \\text{FP}} \\\\\n",
    "\\end{align}\n",
    "$$\n",
    "\n",
    "\n",
    "\n",
    "_as the precision gets closer to unity, the false discovery rate gets closer to zero, and vice versa_<br>\n",
    "\n",
    "\n",
    "\n",
    "__TPR True Positive Rate (Recall or Sensitivity)__<br>\n",
    "the fraction of positive test instances correctly predicted by the classifier<br>\n",
    "\n",
    "&nbsp;&nbsp;&nbsp;&nbsp;&nbsp;&nbsp;&nbsp;&nbsp;\n",
    "a classifier with a high TPR has a high chance of correctly identifying the positive instances of the data<br>\n",
    "&nbsp;&nbsp;&nbsp;&nbsp;&nbsp;&nbsp;&nbsp;&nbsp;\n",
    "this evaluation measure is not sensitive to the skew<br>\n",
    "\n",
    "$$\n",
    "\\begin{align}\n",
    "\\text{TPR}\n",
    "&= \\frac{\\text{TP}}{\\text{TP} + \\text{FN}} \\\\\n",
    "&= \\frac{\\text{TP}}{P} \\\\\n",
    "\\end{align}\n",
    "$$\n",
    "\n",
    "\n",
    "\n",
    "__TNR True Negative Rate (Specificity)__<br>\n",
    "the fraction of negative test instances correctly predicted by the classifier<br>\n",
    "\n",
    "&nbsp;&nbsp;&nbsp;&nbsp;&nbsp;&nbsp;&nbsp;&nbsp;\n",
    "a high TNR value signifies that the classifier correctly classifies any randomly chosen negative instance in the test set<br>\n",
    "&nbsp;&nbsp;&nbsp;&nbsp;&nbsp;&nbsp;&nbsp;&nbsp;\n",
    "this evaluation measure is not sensitive to the skew<br>\n",
    "\n",
    "$$\n",
    "\\begin{align}\n",
    "\\text{TNR}\n",
    "&= \\frac{\\text{TN}}{\\text{FP} + \\text{TN}} \\\\\n",
    "&= \\frac{\\text{TN}}{N} \\\\\n",
    "\\end{align}\n",
    "$$\n",
    "\n",
    "\n",
    "\n",
    "__FPR False Positive Rate__<br>\n",
    "\n",
    "&nbsp;&nbsp;&nbsp;&nbsp;&nbsp;&nbsp;&nbsp;&nbsp;\n",
    "this evaluation measure is not sensitive to the skew<br>\n",
    "\n",
    "$$\n",
    "\\begin{align}\n",
    "\\text{FPR}\n",
    "&= 1 - \\text{TNR} \\\\\n",
    "&= \\frac{\\text{FP}}{\\text{FP} + \\text{TN}} \\\\\n",
    "&= \\frac{\\text{FP}}{N} \\\\\n",
    "\\end{align}\n",
    "$$\n",
    "\n",
    "\n",
    "\n",
    "__FNR False Negative Rate__<br>\n",
    "\n",
    "&nbsp;&nbsp;&nbsp;&nbsp;&nbsp;&nbsp;&nbsp;&nbsp;\n",
    "this evaluation measure is not sensitive to the skew<br>\n",
    "\n",
    "$$\n",
    "\\begin{align}\n",
    "\\text{FNR}\n",
    "&= 1 - \\text{TPR} \\\\\n",
    "&= \\frac{\\text{FN}}{\\text{FN} + \\text{TP}} \\\\\n",
    "&= \\frac{\\text{FN}}{P} \\\\\n",
    "\\end{align}\n",
    "$$\n",
    "\n",
    "\n",
    "\n",
    "<table>\n",
    "    <caption>Binary Confusion Matrix</caption>\n",
    "    <!-- the number of columns in the table -->\n",
    "    <col>\n",
    "    <col>\n",
    "    <colgroup span=\"2\"></colgroup>\n",
    "    <thead>\n",
    "        <tr>\n",
    "            <td colspan=\"2\" rowspan=\"2\"></td>\n",
    "            <th colspan=\"2\" scope=\"colgroup\">Predicted</th>\n",
    "        </tr>\n",
    "        <tr>\n",
    "            <th scope=\"col\">+</th>\n",
    "            <th scope=\"col\">-</th>\n",
    "        </tr>\n",
    "    </thead>\n",
    "    <tbody>\n",
    "        <tr>\n",
    "            <th rowspan=\"4\" scope=\"rowgroup\">Actual</th>\n",
    "            <th scope=\"row\" style=\"border-right: 1px solid black;\">+</th>\n",
    "            <td style=\"background-color: coral;\">$$\\text{TPR} \\times \\alpha \\times \\text{N}$$</td>\n",
    "            <td>$$(1 - \\text{TPR}) \\times \\alpha \\times \\text{N}$$</td>\n",
    "            <td>$$\\alpha \\times \\text{N}$$</td>\n",
    "        </tr>\n",
    "        <tr></tr> <!-- get rid of zebra stripes -->\n",
    "        <tr>\n",
    "            <th scope=\"row\" style=\"border-right: 1px solid black;\">-</th>\n",
    "            <td>$$(1 - \\text{TNR}) \\times (1 - \\alpha) \\times \\text{N}$$</td>\n",
    "            <td style=\"background-color: coral;\">$$\\text{TNR} \\times (1 - \\alpha) \\times \\text{N}$$</td>\n",
    "            <td>$$(1 - \\alpha) \\times \\text{N}$$</td>\n",
    "        </tr>\n",
    "        <tr></tr> <!-- get rid of zebra stripes -->\n",
    "    </tbody>\n",
    "    <tbody>\n",
    "        <tr>\n",
    "            <th rowspan=\"2\" scope=\"rowgroup\">Total</th>\n",
    "            <td style=\"border-right: 1px solid black;\"></td>\n",
    "            <td></td>\n",
    "            <td></td>\n",
    "            <td>$$\\text{N}$$</td>\n",
    "        </tr>\n",
    "    </tbody>\n",
    "</table>"
   ]
  },
  {
   "cell_type": "markdown",
   "metadata": {},
   "source": [
    "PLR __Positive Likelihood Ratio__ [Wiki](https://en.wikipedia.org/wiki/Likelihood_function#Likelihood_ratio) [Wiki](https://en.wikipedia.org/wiki/Likelihood_ratios_in_diagnostic_testing)<br>\n",
    "not sensitive to skew<br>\n",
    "$$\\text{PLR} = \\frac{\\text{TPR}}{\\text{FPR}}$$\n",
    "\n",
    "$F_1$ __Measure__ [Wiki](https://en.wikipedia.org/wiki/F-score) is the harmonic mean of recall and precision<br>\n",
    "a high $F_1$-measure value ensures that both precision and recall are reasonably high, since the harmonic mean of two numbers tends to be closer to the smaller of the two numbers<br>\n",
    "sensitive to skew<br>\n",
    "$$\n",
    "\\begin{align}\n",
    "F_1\n",
    "&= \\frac{2rp}{r + p} = \\frac{2}{\\frac{1}{r} + \\frac{1}{p}}\\\\\n",
    "&= \\frac{2 \\times \\text{TP}}{2 \\times \\text{TP} + \\text{FP} + \\text{FN}} \\\\\n",
    "&= \\frac{2 \\times f_{00}}{2 \\times f_{00} + f_{10} + f_{01}} \\\\\n",
    "\\end{align}\n",
    "$$\n",
    "\n",
    "$F_{\\beta}$ __Measure__ [Wiki](https://en.wikipedia.org/wiki/F-score)<br>\n",
    "$$\n",
    "\\begin{align}\n",
    "F_{\\beta}\n",
    "&= \\frac{(\\beta^2 + 1)rp}{r + \\beta^2p}\n",
    "= \\frac{\\beta^2rp + rp}{r + \\beta^2p}\n",
    "= \\frac{rp + \\frac{rp}{\\beta^2}}{\\frac{r}{\\beta^2} + p} \\\\\n",
    "&= \\frac{(\\beta^2 + 1)\\text{TP}}{(\\beta^2 + 1)\\text{TP} + \\beta^2\\text{FP} + \\text{FN}} \\\\\n",
    "\\end{align}\n",
    "$$\n",
    "\n",
    "as $\\beta$ approaches $0$, $F_{\\beta}$ approaches $p$<br>\n",
    "$\n",
    "F_{0}\n",
    "= \\frac{(0 + 1)rp}{r + 0p}\n",
    "= \\frac{rp}{r}\n",
    "= p\n",
    "$\n",
    "\n",
    "as $\\beta$ approaches $\\infty$, $F_{\\beta}$ approaches $r$<br>\n",
    "$\n",
    "F_{\\infty}\n",
    "= \\frac{rp + \\frac{rp}{\\infty}}{\\frac{r}{\\infty} + p}\n",
    "= \\frac{rp}{p}\n",
    "= r\n",
    "$\n",
    "\n",
    "$G$ __Measure__ is the geometric mean of recall and precision<br>\n",
    "$$\n",
    "\\begin{align}\n",
    "G\n",
    "&= \\sqrt{rp} \\\\\n",
    "&= \\frac{\\text{TP}}{\\sqrt{(\\text{TP} + \\text{FP})(\\text{TP} + \\text{FN})}} \\\\\n",
    "&= \\frac{f_{00}}{\\sqrt{(f_{00} + f_{10})(f_{00} + f_{01})}} \\\\\n",
    "\\end{align}\n",
    "$$"
   ]
  },
  {
   "cell_type": "markdown",
   "metadata": {},
   "source": [
    "---"
   ]
  },
  {
   "cell_type": "code",
   "execution_count": 5,
   "metadata": {},
   "outputs": [
    {
     "data": {
      "text/plain": [
       "3.0"
      ]
     },
     "metadata": {},
     "output_type": "display_data"
    },
    {
     "data": {
      "text/plain": [
       "2.23606797749979"
      ]
     },
     "metadata": {},
     "output_type": "display_data"
    },
    {
     "data": {
      "text/plain": [
       "1.6666666666666667"
      ]
     },
     "metadata": {},
     "output_type": "display_data"
    }
   ],
   "source": [
    "a = 1\n",
    "b = 5\n",
    "mu_a = (a + b) / 2         # arithmetic mean\n",
    "mu_g = np.sqrt(a * b)      # geometric mean\n",
    "mu_h = 2 * a * b / (a + b) # harmonic mean\n",
    "display(mu_a, mu_g, mu_h)"
   ]
  },
  {
   "cell_type": "markdown",
   "metadata": {},
   "source": [
    "---"
   ]
  },
  {
   "cell_type": "code",
   "execution_count": 6,
   "metadata": {},
   "outputs": [
    {
     "name": "stdout",
     "output_type": "stream",
     "text": [
      "\tpred+\tpred-\t\n",
      "act+\t30\t0\t30\n",
      "act-\t20\t50\t70\n",
      "\t\t\t100\n",
      "\n",
      "α    0.300\n",
      "\n",
      "a    0.800\te    0.200\n",
      "p    0.600\tfdr  0.400\n",
      "\n",
      "r    1.000\tfnr  0.000\n",
      "tnr  0.714\tfpr  0.286\n"
     ]
    }
   ],
   "source": [
    "c1 = 1\n",
    "c2 = 1\n",
    "\n",
    "TP = int(3e1 * c1)\n",
    "FP = int(2e1 * c2)\n",
    "FN = int(0 * c1)\n",
    "TN = int(5e1 * c2)\n",
    "\n",
    "T  = int(TP + TN) # correct\n",
    "F  = int(FP + FN) # incorrect\n",
    "AP = int(TP + FN) # actual positive\n",
    "AN = int(TN + FP) # actual negative\n",
    "PP = int(TP + FP) # predicted positive\n",
    "PN = int(TN + FN) # predicted negative\n",
    "N  = int(TP + FP + FN + TN) # all\n",
    "\n",
    "alpha = AP / N\n",
    "\n",
    "accuracy             = T / N   # correct over all\n",
    "error_rate           = F / N   # incorrect over all\n",
    "precision            = TP / PP # correct positive over all positive\n",
    "false_discovery_rate = FP / PP # incorrect positive over all positive\n",
    "\n",
    "true_positive_rate   = TP / AP # correct positive over actual positive\n",
    "false_negative_rate  = FN / AP # incorrect negative over actual positive\n",
    "true_negative_rate   = TN / AN # correct negative over actual negative\n",
    "false_positive_rate  = FP / AN # incorrect positive over actual negative\n",
    "\n",
    "lines = [\n",
    "    '{}\\t{}\\t{}\\t{}'.format('', 'pred+', 'pred-', ''),\n",
    "    '{}\\t{}\\t{}\\t{}'.format('act+', TP, FN, AP),\n",
    "    '{}\\t{}\\t{}\\t{}'.format('act-', FP, TN, AN),\n",
    "    '\\t\\t\\t{}'.format(N),\n",
    "    '',\n",
    "    '{:5}{:0.3f}'.format('\\u03b1', np.round(alpha, 3)),\n",
    "    '',\n",
    "    '{:5}{:0.3f}\\t{:5}{:0.3f}'.format('a', np.round(accuracy, 3), 'e', np.round(error_rate, 3)),\n",
    "    '{:5}{:0.3f}\\t{:5}{:0.3f}'.format('p', np.round(precision, 3), 'fdr', np.round(false_discovery_rate, 3)),\n",
    "    '',\n",
    "    '{:5}{:0.3f}\\t{:5}{:0.3f}'.format('r', np.round(true_positive_rate, 3), 'fnr', np.round(false_negative_rate, 3)),\n",
    "    '{:5}{:0.3f}\\t{:5}{:0.3f}'.format('tnr', np.round(true_negative_rate, 3), 'fpr', np.round(false_positive_rate, 3)),\n",
    "]\n",
    "for line in lines:\n",
    "    print(line)"
   ]
  },
  {
   "cell_type": "markdown",
   "metadata": {},
   "source": [
    "---"
   ]
  },
  {
   "cell_type": "markdown",
   "metadata": {},
   "source": [
    "## Multiclass Classification Performance Evaluation"
   ]
  },
  {
   "cell_type": "markdown",
   "metadata": {},
   "source": [
    "each entry $f_{ij}$ is the number of instances from class $i$ predicted to be of class $j$<br>\n",
    "\n",
    "<table>\n",
    "    <caption>Multiclass Confusion Matrix</caption>\n",
    "    <!-- the number of columns in the table -->\n",
    "    <col>\n",
    "    <col>\n",
    "    <colgroup span=\"5\"></colgroup>\n",
    "    <thead>\n",
    "        <tr>\n",
    "            <td colspan=\"2\" rowspan=\"2\"></td>\n",
    "            <th colspan=\"5\" scope=\"colgroup\">Predicted</th>\n",
    "        </tr>\n",
    "        <tr>\n",
    "            <th scope=\"col\">0</th>\n",
    "            <th scope=\"col\">1</th>\n",
    "            <th scope=\"col\">2</th>\n",
    "            <th scope=\"col\">...</th>\n",
    "            <th scope=\"col\">k</th>\n",
    "        </tr>\n",
    "    </thead>\n",
    "    <tbody>\n",
    "        <tr>\n",
    "            <th rowspan=\"9\" scope=\"rowgroup\">Actual</th>\n",
    "            <th scope=\"row\" style=\"border-right: 1px solid black;\">0</th>\n",
    "            <td style=\"background-color: coral;\">$$f_{00}$$</td>\n",
    "            <td>$$f_{01}$$</td>\n",
    "            <td>$$f_{02}$$</td>\n",
    "            <td>$$...$$</td>\n",
    "            <td>$$f_{0k}$$</td>\n",
    "        </tr>\n",
    "        <tr></tr> <!-- get rid of zebra stripes -->\n",
    "        <tr>\n",
    "            <th scope=\"row\" style=\"border-right: 1px solid black;\">1</th>\n",
    "            <td>$$f_{10}$$</td>\n",
    "            <td style=\"background-color: coral;\">$$f_{11}$$</td>\n",
    "            <td>$$f_{12}$$</td>\n",
    "            <td>$$...$$</td>\n",
    "            <td>$$f_{1k}$$</td>\n",
    "        </tr>\n",
    "        <tr></tr> <!-- get rid of zebra stripes -->\n",
    "        <tr>\n",
    "            <th scope=\"row\" style=\"border-right: 1px solid black;\">2</th>\n",
    "            <td>$$f_{20}$$</td>\n",
    "            <td>$$f_{21}$$</td>\n",
    "            <td style=\"background-color: coral;\">$$f_{22}$$</td>\n",
    "            <td>$$...$$</td>\n",
    "            <td>$$f_{2k}$$</td>\n",
    "        </tr>\n",
    "        <tr></tr> <!-- get rid of zebra stripes -->\n",
    "        <tr>\n",
    "            <th scope=\"row\" style=\"border-right: 1px solid black;\">$$\\vdots$$</th>\n",
    "            <td>$$\\vdots$$</td>\n",
    "            <td>$$\\vdots$$</td>\n",
    "            <td>$$\\vdots$$</td>\n",
    "            <td>$$\\ddots$$</td>\n",
    "            <td>$$\\vdots$$</td>\n",
    "        </tr>\n",
    "        <tr></tr> <!-- get rid of zebra stripes -->\n",
    "        <tr>\n",
    "            <th scope=\"row\" style=\"border-right: 1px solid black;\">k</th>\n",
    "            <td>$$f_{k0}$$</td>\n",
    "            <td>$$f_{k1}$$</td>\n",
    "            <td>$$f_{k2}$$</td>\n",
    "            <td>$$...$$</td>\n",
    "            <td style=\"background-color: coral;\">$$f_{kk}$$</td>\n",
    "        </tr>\n",
    "    </tbody>\n",
    "</table>\n",
    "\n",
    "__$\\text{T}$ number of correct predictions made by the model__<br>\n",
    "$$\n",
    "\\begin{align}\n",
    "& \\sum f_{ij} \\,(\\text{where}\\, i = j) \\\\\n",
    "&= \\sum_{i = 0}^k f_{ii} \\\\\n",
    "&= f_{00} + f_{11} + ... + f_{kk}\n",
    "& k \\,\\text{times} \\\\\n",
    "&= \\text{T}\n",
    "& k \\,\\text{terms} \\\\\n",
    "\\end{align}\n",
    "$$\n",
    "\n",
    "__$\\text{F}$ number of incorrect predictions made by the model__<br>\n",
    "$$\n",
    "\\begin{align}\n",
    "& \\sum f_{ij} \\,(\\text{where}\\, i \\ne j) \\\\\n",
    "&= \\sum_{j \\ne i}^k \\sum_{i \\ne j}^k f_{ij} \\\\\n",
    "&= \\sum_{j \\ne i}^k (f_{0j} + f_{1j} + ... + f_{kj}) \\\\\n",
    "&= \\sum_{j \\ne i}^k f_{0j} + \\sum_{j \\ne i}^k f_{1j} + ... + \\sum_{j \\ne i}^k f_{kj} \\\\\n",
    "&= \\underbrace{(f_{01} + f_{02} + ... + f_{0k})}_{k - 1 \\,\\text{terms}} + \\underbrace{(f_{10} + f_{12} + ... + f_{1k})}_{k - 1 \\,\\text{terms}} + ... + \\underbrace{(f_{k0} + f_{k1} + ... + f_{k, k - 1})}_{k - 1 \\,\\text{terms}}\n",
    "& k \\,\\text{times} \\\\\n",
    "&= \\text{F}\n",
    "& k(k - 1) = k^2 - k \\,\\text{terms}\\\\\n",
    "\\end{align}\n",
    "$$\n",
    "\n",
    "__$\\text{N}$ number of predictions made by the model__<br>\n",
    "$$\n",
    "\\begin{align}\n",
    "& \\sum f_{ij} \\\\\n",
    "&= \\sum_{j = 0}^k \\sum_{i = 0}^k f_{ij} \\\\\n",
    "&= \\sum_{j = 0}^k (f_{0j} + f_{1j} + ... + f_{kj}) \\\\\n",
    "&= \\sum_{j = 0}^k f_{0j} + \\sum_{j = 0}^k f_{1j} + ... + \\sum_{j = 0}^k f_{kj} \\\\\n",
    "&= \\underbrace{(f_{00} + f_{01} + ... + f_{0k})}_{k \\,\\text{terms}} + \\underbrace{(f_{10} + f_{11} + ... + f_{1k})}_{k \\,\\text{terms}} + ... + \\underbrace{(f_{k0} + f_{k1} + ... + f_{kk})}_{k \\,\\text{terms}}\n",
    "& k \\,\\text{times} \\\\\n",
    "&= \\text{T} + \\text{F} \\\\\n",
    "&= \\text{N}\n",
    "& k^2 \\,\\text{terms}\\\\\n",
    "\\end{align}\n",
    "$$\n",
    "\n",
    "#### Evaluation Measures\n",
    "\n",
    "__Accuracy__ $a$<br>\n",
    "$$\n",
    "\\begin{align}\n",
    "a\n",
    "&= \\frac{\\sum_{i = j} f_{ij}}{\\sum f_{ij}} \\\\\n",
    "&= \\frac{f_{00} + f_{11} + ... + f_{kk}}{(f_{00} + f_{01} + ... + f_{0k}) + (f_{10} + f_{11} + ... + f_{1k}) + ... + (f_{k0} + f_{k1} + ... + f_{kk})} \\\\\n",
    "&= \\frac{\\text{T}}{\\text{N}} \\\\\n",
    "\\end{align}\n",
    "$$\n",
    "\n",
    "__Error Rate__ $e$<br>\n",
    "$$\n",
    "\\begin{align}\n",
    "e\n",
    "&= 1 - a \\\\\n",
    "&= \\frac{\\sum_{i \\ne j} f_{ij}}{\\sum f_{ij}} \\\\\n",
    "&= \\frac{\\underbrace{(f_{01} + f_{02} + ... + f_{0k})}_{k - 1 \\,\\text{terms}} + \\underbrace{(f_{10} + f_{12} + ... + f_{1k})}_{k - 1 \\,\\text{terms}} + ... + \\underbrace{(f_{k0} + f_{k1} + ... + f_{k, k - 1})}_{k - 1 \\,\\text{terms}}}{\\underbrace{(f_{00} + f_{01} + ... + f_{0k})}_{k \\,\\text{terms}} + \\underbrace{(f_{10} + f_{11} + ... + f_{1k})}_{k \\,\\text{terms}} + ... + \\underbrace{(f_{k0} + f_{k1} + ... + f_{kk})}_{k \\,\\text{terms}}} \\\\\n",
    "&= \\frac{\\text{F}}{\\text{N}} \\\\\n",
    "\\end{align}\n",
    "$$"
   ]
  },
  {
   "cell_type": "markdown",
   "metadata": {},
   "source": [
    "---"
   ]
  },
  {
   "cell_type": "code",
   "execution_count": 7,
   "metadata": {},
   "outputs": [
    {
     "name": "stdout",
     "output_type": "stream",
     "text": [
      "\tP0\tP1\tP2\t\n",
      "A0\t200\t5\t5\t210\n",
      "A1\t5\t100\t5\t110\n",
      "A2\t5\t5\t100\t110\n",
      "\t\t\t\t430\n",
      "\n",
      "α0   0.488\n",
      "α1   0.256\n",
      "α2   0.256\n",
      "\n",
      "a    0.930\te    0.070\n"
     ]
    }
   ],
   "source": [
    "f00 = 200\n",
    "f01 = 5\n",
    "f02 = 5\n",
    "f10 = 5\n",
    "f11 = 100\n",
    "f12 = 5\n",
    "f20 = 5\n",
    "f21 = 5\n",
    "f22 = 100\n",
    "\n",
    "T  = int(f00 + f11 + f22) # correct\n",
    "F  = int(f01 + f02 + f10 + f12 + f20 + f21) # incorrect\n",
    "A0 = int(f00 + f01 + f02) # actual class 0\n",
    "A1 = int(f10 + f11 + f12) # actual class 1\n",
    "A2 = int(f20 + f21 + f22) # actual class 2\n",
    "\n",
    "P0 = int(f00 + f10 + f20) # predicted class 0\n",
    "P1 = int(f01 + f11 + f21) # predicted class 1\n",
    "P2 = int(f02 + f12 + f22) # predicted class 2\n",
    "\n",
    "N = int(A0 + A1 + A2) # all\n",
    "\n",
    "alpha0 = A0 / N\n",
    "alpha1 = A1 / N\n",
    "alpha2 = A2 / N\n",
    "\n",
    "accuracy             = T / N   # correct over all\n",
    "error_rate           = F / N   # incorrect over all\n",
    "\n",
    "'''\n",
    "precision            = TP / PP # correct positive over all positive\n",
    "false_discovery_rate = FP / PP # incorrect positive over all positive\n",
    "\n",
    "true_positive_rate   = TP / AP # correct positive over actual positive\n",
    "false_negative_rate  = FN / AP # incorrect negative over actual positive\n",
    "true_negative_rate   = TN / AN # correct negative over actual negative\n",
    "false_positive_rate  = FP / AN # incorrect positive over actual negative\n",
    "'''\n",
    "\n",
    "lines = [\n",
    "    '{}\\t{}\\t{}\\t{}\\t{}'.format('', 'P0', 'P1', 'P2', ''),\n",
    "    '{}\\t{}\\t{}\\t{}\\t{}'.format('A0', f00, f01, f02, A0),\n",
    "    '{}\\t{}\\t{}\\t{}\\t{}'.format('A1', f10, f11, f12, A1),\n",
    "    '{}\\t{}\\t{}\\t{}\\t{}'.format('A2', f20, f21, f22, A2),\n",
    "    '\\t\\t\\t\\t{}'.format(N),\n",
    "    '',\n",
    "    '{:5}{:0.3f}'.format('\\u03b10', np.round(alpha0, 3)),\n",
    "    '{:5}{:0.3f}'.format('\\u03b11', np.round(alpha1, 3)),\n",
    "    '{:5}{:0.3f}'.format('\\u03b12', np.round(alpha2, 3)),\n",
    "    '',\n",
    "    '{:5}{:0.3f}\\t{:5}{:0.3f}'.format('a', np.round(accuracy, 3), 'e', np.round(error_rate, 3)),\n",
    "]\n",
    "for line in lines:\n",
    "    print(line)"
   ]
  },
  {
   "cell_type": "markdown",
   "metadata": {},
   "source": [
    "---"
   ]
  },
  {
   "cell_type": "markdown",
   "metadata": {},
   "source": [
    "### Logistic Regression"
   ]
  },
  {
   "cell_type": "markdown",
   "metadata": {},
   "source": [
    "a probabilistic discriminative model\n",
    "\n",
    "__Odds__<br>\n",
    "$$\\frac{P(y = 1 | \\textbf{x})}{P(y = 0 | \\textbf{x})}$$"
   ]
  },
  {
   "cell_type": "markdown",
   "metadata": {},
   "source": [
    "---"
   ]
  },
  {
   "cell_type": "markdown",
   "metadata": {},
   "source": [
    "### Bayesian Classification"
   ]
  },
  {
   "cell_type": "markdown",
   "metadata": {},
   "source": [
    "__Posterior Probability of the target class__<br>\n",
    "compute the probability of observing a class label $y$ for a data instance given its set of attribute values $\\textbf{x}$<br>\n",
    "$$P(y | \\textbf{x}) = \\frac{P(\\textbf{x} | y)P(y)}{P(\\textbf{x})}$$\n",
    "\n",
    "__Class-Conditional Probability of the attributes given the class label $P(\\textbf{x} | y)$__<br>\n",
    "measures the likelihood of observing $\\textbf{x}$ from the distribution of instances belonging to $y$<br>\n",
    "describes the behavior of instances in the attribute space that are _generated_ from class $y$<br>\n",
    "if $\\textbf{x}$ indeed belongs to class $y$, then we should expect $P(\\textbf{x} | y)$ to be high<br>\n",
    "the use of class-conditional probabilities attempts to capture the process from which the data instances were generated<br>\n",
    "provide insights about the underlying mechanism behind the generation of attribute values<br>\n",
    "\n",
    "__Prior Probability $P(y)$__<br>\n",
    "captures our prior beliefs about the distribution of class labels, independent of the observed attribute values<br>\n",
    "can either be obtained using expert knowledge, or inferred from historical distribution of class labels<br>\n",
    "\n",
    "combine one's prior beliefs with the likelihood of obtaining the observed attribute values<br>\n",
    "Training: learn the parameters for $P(y)$ and $P(\\textbf{x} | y)$<br>\n",
    "$P(y)$ is easily estimated from the training set by computing the fraction of training instances that belong to each class<br>\n",
    "\n",
    "__Class-Conditional Probability Estimation__<br>\n",
    "$P(\\textbf{x} | y)$ is estimated by considering the fraction of training instances of a given class for every possible combination of attribute values:<br>\n",
    "Let $X_1$ and $X_2$ be two attributes each of which can take a discrete value from $c_1$ to $c_k$<br>\n",
    "Let $n^0$ denote the number of training instances belonging to class $0$, out of which $n_{ij}^0$ number of training instances have $X_1 = c_i$ and $X_2 = c_j$<br>\n",
    "$$P(X_1 = c_i, X_2 = c_j | Y = 0) = \\frac{n_{ij}^0}{n^0}$$"
   ]
  },
  {
   "cell_type": "markdown",
   "metadata": {},
   "source": [
    "---"
   ]
  },
  {
   "cell_type": "markdown",
   "metadata": {},
   "source": [
    "### Naive Bayes Classifier"
   ]
  },
  {
   "cell_type": "markdown",
   "metadata": {},
   "source": [
    "__Naive Bayes Assumption__<br>\n",
    "the class-conditional probability of all attributes $\\textbf{x}$ can be factored as a product of class-conditional probabilities of every attribute $x_i$:\n",
    "$$P(\\textbf{x} | y) = \\prod_{i = 1}^d P(x_i | y)$$\n",
    "where every data instance $\\textbf{x}$ consists of $d$ attributes $\\{x_1, ..., x_d\\}$<br>\n",
    "assumption: the attribute values $x_i$ are conditionally independent of each other, given the class label $y$ (this means that the attributes are influenced only by the target class and if we know the class label, then we can consider the attributes to be independent of each other)<br>\n",
    "\n",
    "given the naive Bayes assumption, we only need to estimate the conditional probability of each $x_i$ given $Y$ separately, instead of computing the class-conditional probability for every combination of attribute values<br>\n",
    "\n",
    "__Class-Conditional Probability Estimation under the Naive Bayes Assumption__<br>\n",
    "count the number of training instances for every one of the $k$ values of an attribute $X$ irrespective of the values of other attributes<br>\n",
    "the number of parameters needed to learn class-conditional probabilities is $dk$, linear in the number of attributes<br>\n",
    "$$P(X_1 = c_i, X_2 = c_j | Y = 0) = \\frac{n_i^0}{n^0} \\times \\frac{n_j^0}{n^0}$$\n",
    "\n",
    "__Naive Bayes Classifier__<br>\n",
    "computes the posterior probability for a test instance $\\textbf{x}$:\n",
    "$$\n",
    "\\begin{align}\n",
    "P(y | \\textbf{x}) &= \\frac{P(y) \\prod_{i = 1}^d P(x_i | y)}{P(\\textbf{x})} \\\\\n",
    "P(y | \\textbf{x}) &\\propto P(y) \\prod_{i = 1}^d P(x_i | y) \\\\\n",
    "\\end{align}\n",
    "$$\n",
    "\n",
    "__Categorical Attribute Conditional Probability Estimation__<br>\n",
    "Let $X_i$ be a categorical attribute.<br>\n",
    "The conditional probability $P(X_i = c | y)$ is estimated according to the fraction of training instances in class $y$ where $X_i$ takes on a particular categorical value $c$:<br>\n",
    "$n$ is the number of training instances belonging to class $y$ out of which $n_c$ number of instances have $X_i = c$<br>\n",
    "$\\sum_c P(X_i = c | y) = 1$<br>\n",
    "$$P(X_i = c | y) = \\frac{n_c}{n}$$"
   ]
  },
  {
   "cell_type": "markdown",
   "metadata": {},
   "source": [
    "---\n",
    "---\n",
    "---"
   ]
  },
  {
   "cell_type": "markdown",
   "metadata": {},
   "source": [
    "# Statistics"
   ]
  },
  {
   "cell_type": "markdown",
   "metadata": {},
   "source": [
    "### Frequency Distribution vs Relative Frequency Distribution\n",
    "\n",
    "Frequency, the number of observations that fall into a category <br>\n",
    "Relative Frequency, the proportion or percentage in a category (the count in a category relative to the total count over all categories) <br>\n",
    "Frequency Distribution for a categorical variable, a listing of all categories along with their frequencies/counts <br>\n",
    "Relative Frequency Distribution, a listing of all categories along with their relative frequencies (given as proportions or percentages) <br>\n",
    "\n",
    "### CLT Central Limit Theorem\n",
    "\n",
    "CLT ensures that the majority of \"scattered things\" are dispersed according to the Gaussian distribution.\n",
    "\n",
    "### Standard Deviation\n",
    "\n",
    "Roughly, the average distance values fall from the mean.\n",
    "\n",
    "### Standardized z-Score\n",
    "\n",
    "a useful measure of the relative value of any observation in a dataset. <br>\n",
    "the distance between the observed value and the mean, measured in terms of number of standard deviations. <br>\n",
    "\n",
    "### PPMCC Pearson's Product-Moment Correlation Coefficient\n",
    "a measure of the strength and direction of a linear relationship between two quantitative variables <br>\n",
    "approximately, the correlation value is the average product pf standardized scores for variables x and y <br>\n",
    "\n",
    "### Regression Analysis and the Estimation of a Regression Equation\n",
    "an equation that describes the average relationship between a quantitative response variable and one or more explanatory variables <br>\n",
    "\n",
    "Least Squares (Least Sum of Squared Errors) <br>\n",
    "the sum of squared differences between the observed values of y and the predicted values is smaller for that line that it is for any other line (the least squares line minimizes the sum of squared prediction errors for the observed data set) <br>\n",
    "\n",
    "&nbsp;&nbsp;&nbsp;&nbsp;\n",
    "    $\\hat{y}$, called the estimated or predicted $y$, estimates the average (or predicts) $y$ for a specific value of $x$ <br>\n",
    "    &nbsp;&nbsp;&nbsp;&nbsp;\n",
    "    the slope of the line estimates the average increase in $y$ for each one-unit increase in $x$ <br>\n",
    "\n",
    "### Gaussian Distribution\n",
    "\n",
    "$f(x; \\mu, \\sigma) = \\frac{1}{\\sigma^2 \\sqrt{2\\pi}} e^{\\frac{-(x - \\mu)^2}{2 \\sigma^2}}$ where $\\mu$ is the mean and $\\sigma$ is the the standard deviation <br>\n",
    "\n",
    "#### Empirical Rule for normally-distributed data\n",
    "About 68% of the values have z-scores $\\in [-1, 1]$ <br>\n",
    "About 95% of the values have z-scores $\\in [-2, 2]$ <br>\n",
    "About 99.7% of the values have z-scores $\\in [-3, 3]$ <br>\n",
    "\n",
    "### Standard Normal Distribution\n",
    "\n",
    "$f(x; 0, 1) = \\frac{1}{\\sqrt{2\\pi}} e^{\\frac{-x^2}{2}}$ where $\\mu = 0$ and $\\sigma = 1$"
   ]
  },
  {
   "cell_type": "markdown",
   "metadata": {},
   "source": [
    "---\n",
    "---\n",
    "---"
   ]
  },
  {
   "cell_type": "markdown",
   "metadata": {},
   "source": [
    "# Probability Theory"
   ]
  },
  {
   "cell_type": "markdown",
   "metadata": {},
   "source": [
    "Let $X$ be a variable that can take any discrete value from the set $\\{x_1, ..., x_k\\}$<br>\n",
    "\n",
    "__Random Variable__<br>\n",
    "a variable that has probabilities associated with each possible outcome/value<br>\n",
    "\n",
    "__Relative Frequency__<br>\n",
    "If $X$ has the value $x_i$ for $n_i$ data objects, then the relative frequency with which we observe the event $X = x_i$ is $\\frac{n_i}{N}$ where $N = \\sum_{i = 1}^k n_i$ is the total number of data objects (i.e., the size of the dataset).<br>\n",
    "\n",
    "__Probability__<br>\n",
    "The probability of an event $e$ (e.g., $P(X = x_i)$) measures how likely it is for the event $e$ to occur.<br>\n",
    "The frequentist approach to probability is based on the relative frequency of events.<br>\n",
    "\n",
    "__Axioms of Probability Theory__<br>\n",
    "$$\n",
    "\\begin{align}\n",
    "1. & P \\in [0, 1] \\\\\n",
    "2. & \\sum_i P(X = x_i) = 1 \\\\\n",
    "\\end{align}\n",
    "$$\n",
    "\n",
    "__Joint Probability__<br>\n",
    "Let $X$ and $Y$ be two random variables that can each take $k$ discrete values.<br>\n",
    "Let $n_{ij}$ be the number of times we observe $X = x_i$ and $Y = y_j$ out of a total number of $N$ occurrences.<br>\n",
    "$$P(X = x_i, Y = y_i) = \\frac{n_{ij}}{N}$$\n",
    "Symmetry of Joint Probability: $P(X = x_i, Y = y_i) = P( Y = y_i, X = x_i)$\n",
    "\n",
    "__Marginal Probability of__ $X$<br>\n",
    "$$\\sum_{j = 1}^k P(X = x_i, Y = y_j) = \\frac{\\sum_{j = 1}^k n_{ij}}{N} = \\frac{n_i}{N} = P(X = x_i)$$\n",
    "where $n_i$ is the total number of times we observe $X = x_i$ irrespective of the value of $Y$ and\n",
    "$\\frac{n_i}{N}$ is the probability of observing the remaining variable $X$<br>\n",
    "\n",
    "__Conditional Probability__<br>\n",
    "Let $P(Y | X)$ be the conditional probability of observing the random variable $Y$ whenever the random variable $X$ takes a particular value (the probability of observing $Y$ conditioned on the outcome of $X$).<br>\n",
    "$$\n",
    "\\begin{align}\n",
    "P(Y | X) &= \\frac{P(X, Y)}{P(X)} \\\\\n",
    "P(X, Y) &= P(Y | X) \\times P(X) \\\\\n",
    "&= P(X | Y) \\times P(Y) \\\\\n",
    "\\end{align}\n",
    "$$\n",
    "\n",
    "__Bayes Theorem__<br>\n",
    "relates the conditional probabilities $P(Y | X)$ and $P(X | Y)$<br>\n",
    "Likelihood $P(X | Y)$<br>\n",
    "Prior $P(Y)$<br>\n",
    "Posterior $P(Y | X)$<br>\n",
    "Normalization Constant or Probability of Evidence $P(X)$ (the marginal probability of $X$)<br>\n",
    "$$\n",
    "\\begin{align}\n",
    "P(Y | X) &= \\frac{P(X | Y)P(Y)}{P(X)} \\\\\n",
    "&= \\frac{P(X | Y)P(Y)}{\\sum_{i = 1}^k P(X, y_i)} \\\\\n",
    "&= \\frac{P(X | Y)P(Y)}{\\sum_{i = 1}^k P(X | y_i)P(y_i)} \\\\\n",
    "\\end{align}\n",
    "$$\n",
    "\n",
    "__Conditional Independence__<br>\n",
    "Let $\\textbf{X}_1$, $\\textbf{X}_2$, and $\\textbf{Y}$ be three sets of random variables.<br>\n",
    "The variables in $\\textbf{X}_1$ are conditionally independent of $\\textbf{X}_2$, given $\\textbf{Y}$, if:<br>\n",
    "$$P(\\textbf{X}_1 | \\textbf{X}_2, \\textbf{Y}) = P(\\textbf{X}_1 | \\textbf{Y})$$\n",
    "\n",
    "__Joint Conditional Probability__<br>\n",
    "$$\n",
    "\\begin{align}\n",
    "P(\\textbf{X}_1, \\textbf{X}_2 | \\textbf{Y}) &= \\frac{P(\\textbf{X}_1, \\textbf{X}_2, \\textbf{Y})}{P(\\textbf{Y})} \\\\\n",
    "&= \\frac{P(\\textbf{X}_1, \\textbf{X}_2, \\textbf{Y})}{P(\\textbf{X}_2, \\textbf{Y})} \\times \\frac{P(\\textbf{X}_2, \\textbf{Y})}{P(\\textbf{Y})} \\\\\n",
    "&= P(\\textbf{X}_1 | \\textbf{X}_2, \\textbf{Y}) \\times P(\\textbf{X}_2 | \\textbf{Y}) \\\\\n",
    "&= P(\\textbf{X}_1 | \\textbf{Y}) \\times P(\\textbf{X}_2 | \\textbf{Y}) \\\\\n",
    "\\end{align}\n",
    "$$"
   ]
  },
  {
   "cell_type": "markdown",
   "metadata": {},
   "source": [
    "---\n",
    "---\n",
    "---"
   ]
  },
  {
   "cell_type": "markdown",
   "metadata": {},
   "source": [
    "# Stochastic Processes and Time Series"
   ]
  },
  {
   "cell_type": "markdown",
   "metadata": {},
   "source": [
    "---"
   ]
  },
  {
   "cell_type": "markdown",
   "metadata": {},
   "source": [
    "__Stochastic Methods__<br>\n",
    "Branching Processes<br>\n",
    "Conditioning<br>\n",
    "Counting Paths<br>\n",
    "Difference Equations<br>\n",
    "Generating Functions<br>\n",
    "Markov Chains<br>\n",
    "Martingales<br>\n",
    "Mirroring<br>\n",
    "Random Walk Analysis<br>\n",
    "Time Reversal<br>"
   ]
  },
  {
   "cell_type": "markdown",
   "metadata": {},
   "source": [
    "---"
   ]
  },
  {
   "cell_type": "markdown",
   "metadata": {},
   "source": [
    "### Random Walk"
   ]
  },
  {
   "cell_type": "markdown",
   "metadata": {},
   "source": [
    "__Random Walk__ is a mathematical object; namely, it is a stochastic sequence $\\{S_n\\}$ on some mathematical space, where $\\{X_k\\}$ are iid independent and identically distributed random variables.<br>\n",
    "$$S_n = \\sum_{k = 1}^n X_k \\,\\text{with}\\, S_0 = 0$$\n",
    "\n",
    "The random walk is _simple_ if $X_k = \\pm 1$ with $P(X_k = 1) = p$ and $P(X_k = -1) = 1 - p = q$<br>\n",
    "\n",
    "A simple random walk is _symmetric_ if the particle has the same probability for each of the neighboring points<br>"
   ]
  },
  {
   "cell_type": "code",
   "execution_count": 8,
   "metadata": {},
   "outputs": [
    {
     "data": {
      "image/png": "[encoded data removed]",
      "text/plain": [
       "<Figure size 720x432 with 1 Axes>"
      ]
     },
     "metadata": {},
     "output_type": "display_data"
    }
   ],
   "source": [
    "# this is a symmetric simple random walk over Z^2\n",
    "\n",
    "n = 1000\n",
    "mu = 0\n",
    "x = np.zeros([1000, 2])\n",
    "x[0, 0] = mu\n",
    "i = npr.randint(1, 5, n)\n",
    "for t in range(1, n):\n",
    "    if i[t] == 1:\n",
    "        x[t,0] = x[t - 1,0] + 1\n",
    "        x[t,1] = x[t - 1,1]\n",
    "    elif i[t] == 2:\n",
    "        x[t,0] = x[t - 1,0] - 1\n",
    "        x[t,1] = x[t - 1,1]\n",
    "    elif i[t] == 3:\n",
    "        x[t,0] = x[t - 1,0]\n",
    "        x[t,1] = x[t - 1,1] + 1\n",
    "    elif i[t] == 4:\n",
    "        x[t,0] = x[t - 1,0]\n",
    "        x[t,1] = x[t - 1,1] - 1\n",
    "plt.plot(x[:,0], x[:,1]);\n",
    "plt.axis('equal');"
   ]
  },
  {
   "cell_type": "markdown",
   "metadata": {},
   "source": [
    "---"
   ]
  },
  {
   "cell_type": "markdown",
   "metadata": {},
   "source": [
    "# ARIMA(0, 1, 0)\n",
    "ARIMA(0, 1, 0), or I(1), is just a random walk<br>\n",
    "$$y_t = \\mu + y_{t - 1} + \\epsilon_t$$"
   ]
  },
  {
   "cell_type": "code",
   "execution_count": 9,
   "metadata": {},
   "outputs": [
    {
     "data": {
      "image/png": "[encoded data removed]",
      "text/plain": [
       "<Figure size 720x432 with 1 Axes>"
      ]
     },
     "metadata": {},
     "output_type": "display_data"
    }
   ],
   "source": [
    "npr.seed(0) # uncomment for deterministic output; comment for random output\n",
    "n = 50\n",
    "wn = npr.standard_normal(n + 1)\n",
    "mu = 0\n",
    "x = np.linspace(0, n, n + 1)\n",
    "y = np.zeros(n + 1)\n",
    "y[0] = mu\n",
    "for t in range(1, n + 1):\n",
    "    y[t] = y[t - 1] + wn[t]\n",
    "plt.plot(x, y);"
   ]
  },
  {
   "cell_type": "markdown",
   "metadata": {},
   "source": [
    "---"
   ]
  },
  {
   "cell_type": "markdown",
   "metadata": {},
   "source": [
    "# ARIMA(0, 0, 1)\n",
    "ARIMA(0, 0, 1) is just Moving Average MA(1)<br>\n",
    "$$\\hat{y_t} = \\mu + \\theta_1\\epsilon_{t - 1}$$\n",
    "$$y_t = \\mu + \\epsilon_t + \\theta_1\\epsilon_{t - 1}$$\n",
    "\n",
    "__MA(q) = ARIMA(0, 0, q)__<br>\n",
    "$$\\hat{y_t} = \\mu + \\theta_1\\epsilon_{t - 1} + ... + \\theta_q\\epsilon_{t - q}$$\n",
    "$$y_t = \\mu + \\epsilon_t + \\theta_1\\epsilon_{t - 1} + ... + \\theta_q\\epsilon_{t - q}$$"
   ]
  },
  {
   "cell_type": "code",
   "execution_count": 10,
   "metadata": {},
   "outputs": [
    {
     "data": {
      "image/png": "[encoded data removed]",
      "text/plain": [
       "<Figure size 720x432 with 1 Axes>"
      ]
     },
     "metadata": {},
     "output_type": "display_data"
    }
   ],
   "source": [
    "npr.seed(0) # uncomment for deterministic output; comment for random output\n",
    "\n",
    "n     = 1000\n",
    "wn    = npr.standard_normal(n + 1) # white noise error terms\n",
    "mu    = 10\n",
    "theta = np.array([0.1, 0.1, 0.1])  # weights\n",
    "x     = np.linspace(0, n, n + 1)\n",
    "\n",
    "y     = np.zeros(n + 1)\n",
    "y[0]  = mu\n",
    "\n",
    "y2    = np.zeros(n + 1)\n",
    "y2[0] = mu\n",
    "\n",
    "y3    = np.zeros(n + 1)\n",
    "y3[0] = mu\n",
    "\n",
    "for t in range(1, n + 1):\n",
    "    y[t] = mu + wn[t] + np.dot(theta[:1], wn[t - 1])\n",
    "    y2[t] = mu + wn[t] + np.dot(theta[:2], [wn[t - 1], wn[t - 2]])\n",
    "    y3[t] = mu + wn[t] + np.dot(theta[:3], [wn[t - 1], wn[t - 2], wn[t - 3]])\n",
    "\n",
    "plt.plot(x, y, x, y2, x, y3);"
   ]
  },
  {
   "cell_type": "markdown",
   "metadata": {},
   "source": [
    "---\n",
    "---\n",
    "---"
   ]
  },
  {
   "cell_type": "markdown",
   "metadata": {},
   "source": [
    "# DSP Digital Signal Processing and Filters"
   ]
  },
  {
   "cell_type": "markdown",
   "metadata": {},
   "source": [
    "---"
   ]
  },
  {
   "cell_type": "markdown",
   "metadata": {},
   "source": [
    "__SMA Simple Moving Average FIR Finite Impulse Response Filter__<br>\n",
    "$$y[n] = \\frac{1}{L} \\sum_{k = 0}^{L - 1} x[n - k]$$"
   ]
  },
  {
   "cell_type": "code",
   "execution_count": 11,
   "metadata": {},
   "outputs": [
    {
     "data": {
      "image/png": "[encoded data removed]",
      "text/plain": [
       "<Figure size 720x432 with 1 Axes>"
      ]
     },
     "metadata": {},
     "output_type": "display_data"
    }
   ],
   "source": [
    "# a simple moving average filter implemented in NumPy\n",
    "# the signal must be padded with a sufficient number 0s (i.e., \"no signal\") on either side of the signal\n",
    "\n",
    "n = 10 # signal size\n",
    "w = 5  # window size\n",
    "x = np.linspace(0, n + 2 * w, n + 2 * w + 1)\n",
    "y = np.concatenate([np.zeros(w), np.random.random(n + 1), np.zeros(w)])\n",
    "\n",
    "roll_avg = np.convolve(y, np.ones(w), 'valid') / w\n",
    "plt.plot(x, y);\n",
    "plt.plot(x[w - 1:], roll_avg);\n",
    "plt.plot(x[w - 1:], np.roll(roll_avg, -2));"
   ]
  },
  {
   "cell_type": "markdown",
   "metadata": {},
   "source": [
    "---"
   ]
  },
  {
   "cell_type": "markdown",
   "metadata": {},
   "source": [
    "experimenting with complex periodic sinusoidal waves"
   ]
  },
  {
   "cell_type": "code",
   "execution_count": 12,
   "metadata": {},
   "outputs": [
    {
     "data": {
      "image/png": "[encoded data removed]",
      "text/plain": [
       "<Figure size 720x432 with 1 Axes>"
      ]
     },
     "metadata": {},
     "output_type": "display_data"
    }
   ],
   "source": [
    "A1 = 1\n",
    "f1 = 1e2\n",
    "t = np.linspace(0, 0.02, 1001)\n",
    "y1 = A1 * np.sin(2 * np.pi * f1 * t)\n",
    "A2 = 0.2\n",
    "f2 = 1e3\n",
    "y2 = A2 * np.sin(2 * np.pi * f2 * t)\n",
    "plt.plot(t, y1 + y2);"
   ]
  },
  {
   "cell_type": "code",
   "execution_count": 13,
   "metadata": {},
   "outputs": [
    {
     "data": {
      "image/png": "[encoded data removed]",
      "text/plain": [
       "<Figure size 720x432 with 3 Axes>"
      ]
     },
     "metadata": {},
     "output_type": "display_data"
    }
   ],
   "source": [
    "t = np.linspace(0, 0.02, 1001)\n",
    "\n",
    "A1 = 1\n",
    "f1 = 4e2\n",
    "y1 = A1 * np.sin(2 * np.pi * f1 * t)\n",
    "\n",
    "A2 = 1\n",
    "f2 = 5e2\n",
    "y2 = A2 * np.sin(2 * np.pi * f2 * t)\n",
    "\n",
    "fig, ax = plt.subplots(3);\n",
    "ax[0].plot(t, y1)\n",
    "ax[1].plot(t, y2)\n",
    "ax[2].plot(t, y1 + y2);"
   ]
  },
  {
   "cell_type": "code",
   "execution_count": 14,
   "metadata": {},
   "outputs": [
    {
     "data": {
      "image/png": "[encoded data removed]",
      "text/plain": [
       "<Figure size 720x432 with 6 Axes>"
      ]
     },
     "metadata": {},
     "output_type": "display_data"
    }
   ],
   "source": [
    "t = np.linspace(0, 0.02, 1001)\n",
    "\n",
    "A1 = 1\n",
    "f1 = 1e2\n",
    "y1 = A1 * np.sin(2 * np.pi * f1 * t)\n",
    "\n",
    "A2 = 0.5\n",
    "f2 = 2e2\n",
    "y2 = A2 * np.sin(2 * np.pi * f2 * t)\n",
    "\n",
    "A3 = 0.33\n",
    "f3 = 3e2\n",
    "y3 = A3 * np.sin(2 * np.pi * f3 * t)\n",
    "\n",
    "A4 = 0.25\n",
    "f4 = 4e2\n",
    "y4 = A4 * np.sin(2 * np.pi * f4 * t)\n",
    "\n",
    "A5 = 0.2\n",
    "f5 = 5e2\n",
    "y5 = A5 * np.sin(2 * np.pi * f5 * t)\n",
    "\n",
    "fig, ax = plt.subplots(6);\n",
    "ax[0].plot(t, y1)\n",
    "ax[1].plot(t, y2)\n",
    "ax[2].plot(t, y3)\n",
    "ax[3].plot(t, y4)\n",
    "ax[4].plot(t, y5)\n",
    "ax[5].plot(t, y1 + y2 + y3 + y4 + y5);"
   ]
  },
  {
   "cell_type": "markdown",
   "metadata": {},
   "source": [
    "---\n",
    "---\n",
    "---"
   ]
  },
  {
   "cell_type": "markdown",
   "metadata": {},
   "source": [
    "# Mathematical Finance"
   ]
  },
  {
   "cell_type": "markdown",
   "metadata": {},
   "source": [
    "---"
   ]
  },
  {
   "cell_type": "markdown",
   "metadata": {},
   "source": [
    "__Annualized Standard Deviation__ $=$ Daily Standard Deviation $\\times \\sqrt{252}$<br>\n",
    "\n",
    "__NPV Net Present Value__<br>\n",
    "\n",
    "__Present Discounted Value__<br>\n",
    "\n",
    "__Sharpe Ratio__<br>\n",
    "$\\frac{R_p - R_f}{\\sigma_p} =$ Annualized_Average_Returns $\\times 252$ divided by Annualized_Standard_Deviation $\\times \\sqrt{252}$<br>\n",
    "\n",
    "    Rp Portfolio Return\n",
    "    Rf Risk-Free Rate, the return that one expects if investing in securities that effectively offer a guaranteed return (e.g., 30-day U.S. government T-Bills)"
   ]
  },
  {
   "cell_type": "markdown",
   "metadata": {},
   "source": [
    "---"
   ]
  },
  {
   "cell_type": "markdown",
   "metadata": {},
   "source": [
    "### TVM Time Value of Money"
   ]
  },
  {
   "cell_type": "markdown",
   "metadata": {},
   "source": [
    "$FV = PV\\left(1 + \\frac{i}{n}\\right)^{nt}$<br>\n",
    "$PV = FV\\left(1 + \\frac{i}{n}\\right)^{-nt}$\n",
    "\n",
    "    FV future value of money\n",
    "    PV present value of money\n",
    "    i interest rate\n",
    "    n number of compounding periods per year\n",
    "    t number of years"
   ]
  },
  {
   "cell_type": "code",
   "execution_count": 15,
   "metadata": {},
   "outputs": [],
   "source": [
    "def calc_fv (pv, i, n, t):\n",
    "    '''\n",
    "    Calculate the future value of money.\n",
    "    Parameters\n",
    "    ==========\n",
    "      pv (float) present value of money\n",
    "      i  (float) rate of return\n",
    "      n  (int)   number of compounding periods per unit time\n",
    "      t  (int)   time\n",
    "    Return\n",
    "    ======\n",
    "      fv (float) future value of money\n",
    "    '''\n",
    "    fv = pv*(1 + ii/nn)**(nn*t)                  # future value of money\n",
    "    return fv\n",
    "def calc_pv (fv, i, n, t):\n",
    "    '''\n",
    "    Calculate the present value of money.\n",
    "    Parameters\n",
    "    ==========\n",
    "      fv (float) future value of money\n",
    "      i  (float) rate of return\n",
    "      n  (int)   number of compounding periods per unit time\n",
    "      t  (int)   time\n",
    "    Return\n",
    "    ======\n",
    "      pv (float) present value of money\n",
    "    '''\n",
    "    pv = fv/(1 + ii/nn)**(nn*t)                  # present value of money\n",
    "    return pv"
   ]
  },
  {
   "cell_type": "code",
   "execution_count": 16,
   "metadata": {},
   "outputs": [
    {
     "data": {
      "text/plain": [
       "array([[3656.16, 3670.29, 3684.46, 3698.67, 3712.93],\n",
       "       [4169.52, 4188.97, 4208.51, 4228.14, 4247.85],\n",
       "       [4374.55, 4396.35, 4418.26, 4440.28, 4462.41],\n",
       "       [4390.31, 4412.3 , 4434.4 , 4456.61, 4478.93],\n",
       "       [4392.95, 4414.97, 4437.1 , 4459.34, 4481.69]])"
      ]
     },
     "execution_count": 16,
     "metadata": {},
     "output_type": "execute_result"
    }
   ],
   "source": [
    "pv = 1000                                    # present value of money\n",
    "i = np.linspace(0.0, 0.3, 301)               # rates of return\n",
    "n = np.array([1, 4, 52, 365, 60*60*24*7*52]) # number of compounding periods\n",
    "ii, nn = np.meshgrid(i, n)\n",
    "t = 5                                        # time horizon in years\n",
    "fv = calc_fv(pv, ii, nn, t)\n",
    "np.round(fv[:,-5:], 2)"
   ]
  },
  {
   "cell_type": "code",
   "execution_count": 17,
   "metadata": {},
   "outputs": [
    {
     "data": {
      "image/png": "[encoded data removed]",
      "text/plain": [
       "<Figure size 720x432 with 1 Axes>"
      ]
     },
     "metadata": {},
     "output_type": "display_data"
    }
   ],
   "source": [
    "plt.plot(ii[0], fv[0], ii[4], fv[4]);"
   ]
  },
  {
   "cell_type": "markdown",
   "metadata": {},
   "source": [
    "---\n",
    "---\n",
    "---"
   ]
  },
  {
   "cell_type": "markdown",
   "metadata": {},
   "source": [
    "# Resources"
   ]
  },
  {
   "cell_type": "markdown",
   "metadata": {},
   "source": [
    "Goodfellow, Ian, Yoshua Bengio, & Aaron Courville. (2016). _Deep Learning_. MIT Press. [Home](https://www.deeplearningbook.org).<br>\n",
    "\n",
    "Hastie, Trevor, Robert Tibshirani, & Jerome Friedman. (2009). _The Elements of Statistical Learning: Data Mining, Inference, and Prediction, 2nd Ed_. Springer Series in Statistics. [Home](https://web.stanford.edu/~hastie/ElemStatLearn/).<br>\n",
    "\n",
    "Tan, Pang-Ning et al. (2019). _Introduction to Data Mining, 2nd Ed_. Pearson. [Home](https://www-users.cs.umn.edu/~kumar001/dmbook/index.php).<br>\n",
    "\n",
    "https://en.wikipedia.org/wiki/Definite_symmetric_matrix<br>\n",
    "https://en.wikipedia.org/wiki/Matrix_calculus<br>\n",
    "https://en.wikipedia.org/wiki/Functional_derivative<br>\n",
    "https://en.wikipedia.org/wiki/Optimality_criterion<br>\n",
    "https://en.wikipedia.org/wiki/Residual_sum_of_squares<br>\n",
    "https://www.youtube.com/watch?v=ZUU57Q3CFOU<br>\n",
    "https://www.youtube.com/watch?v=MC7l96tW8V8<br>\n",
    "https://www.youtube.com/watch?v=Z0wELiinNVQ<br>\n",
    "http://www.cs.uu.nl/docs/vakken/mpr/linreg-math.pdf<br>\n",
    "https://atmos.uw.edu/~dennis/MatrixCalculus.pdf<br>"
   ]
  },
  {
   "cell_type": "markdown",
   "metadata": {},
   "source": [
    "---\n",
    "---\n",
    "---"
   ]
  },
  {
   "cell_type": "code",
   "execution_count": 18,
   "metadata": {},
   "outputs": [
    {
     "data": {
      "text/html": [
       "<div>\n",
       "<style scoped>\n",
       "    .dataframe tbody tr th:only-of-type {\n",
       "        vertical-align: middle;\n",
       "    }\n",
       "\n",
       "    .dataframe tbody tr th {\n",
       "        vertical-align: top;\n",
       "    }\n",
       "\n",
       "    .dataframe thead th {\n",
       "        text-align: right;\n",
       "    }\n",
       "</style>\n",
       "<table border=\"1\" class=\"dataframe\">\n",
       "  <thead>\n",
       "    <tr style=\"text-align: right;\">\n",
       "      <th></th>\n",
       "      <th>tid</th>\n",
       "      <th>home_owner</th>\n",
       "      <th>marital_status</th>\n",
       "      <th>annual_income</th>\n",
       "      <th>defaulted_borrower</th>\n",
       "    </tr>\n",
       "  </thead>\n",
       "  <tbody>\n",
       "    <tr>\n",
       "      <th>0</th>\n",
       "      <td>1</td>\n",
       "      <td>Yes</td>\n",
       "      <td>Single</td>\n",
       "      <td>125000.0</td>\n",
       "      <td>No</td>\n",
       "    </tr>\n",
       "    <tr>\n",
       "      <th>1</th>\n",
       "      <td>2</td>\n",
       "      <td>No</td>\n",
       "      <td>Married</td>\n",
       "      <td>100000.0</td>\n",
       "      <td>No</td>\n",
       "    </tr>\n",
       "    <tr>\n",
       "      <th>2</th>\n",
       "      <td>3</td>\n",
       "      <td>No</td>\n",
       "      <td>Single</td>\n",
       "      <td>70000.0</td>\n",
       "      <td>No</td>\n",
       "    </tr>\n",
       "    <tr>\n",
       "      <th>3</th>\n",
       "      <td>4</td>\n",
       "      <td>Yes</td>\n",
       "      <td>Married</td>\n",
       "      <td>120000.0</td>\n",
       "      <td>No</td>\n",
       "    </tr>\n",
       "    <tr>\n",
       "      <th>4</th>\n",
       "      <td>5</td>\n",
       "      <td>No</td>\n",
       "      <td>Divorced</td>\n",
       "      <td>95000.0</td>\n",
       "      <td>Yes</td>\n",
       "    </tr>\n",
       "    <tr>\n",
       "      <th>5</th>\n",
       "      <td>6</td>\n",
       "      <td>No</td>\n",
       "      <td>Married</td>\n",
       "      <td>60000.0</td>\n",
       "      <td>No</td>\n",
       "    </tr>\n",
       "    <tr>\n",
       "      <th>6</th>\n",
       "      <td>7</td>\n",
       "      <td>Yes</td>\n",
       "      <td>Divorced</td>\n",
       "      <td>220000.0</td>\n",
       "      <td>No</td>\n",
       "    </tr>\n",
       "    <tr>\n",
       "      <th>7</th>\n",
       "      <td>8</td>\n",
       "      <td>No</td>\n",
       "      <td>Single</td>\n",
       "      <td>85000.0</td>\n",
       "      <td>Yes</td>\n",
       "    </tr>\n",
       "    <tr>\n",
       "      <th>8</th>\n",
       "      <td>9</td>\n",
       "      <td>No</td>\n",
       "      <td>Married</td>\n",
       "      <td>75000.0</td>\n",
       "      <td>No</td>\n",
       "    </tr>\n",
       "    <tr>\n",
       "      <th>9</th>\n",
       "      <td>10</td>\n",
       "      <td>No</td>\n",
       "      <td>Single</td>\n",
       "      <td>90000.0</td>\n",
       "      <td>Yes</td>\n",
       "    </tr>\n",
       "  </tbody>\n",
       "</table>\n",
       "</div>"
      ],
      "text/plain": [
       "   tid home_owner marital_status  annual_income defaulted_borrower\n",
       "0    1        Yes         Single       125000.0                 No\n",
       "1    2         No        Married       100000.0                 No\n",
       "2    3         No         Single        70000.0                 No\n",
       "3    4        Yes        Married       120000.0                 No\n",
       "4    5         No       Divorced        95000.0                Yes\n",
       "5    6         No        Married        60000.0                 No\n",
       "6    7        Yes       Divorced       220000.0                 No\n",
       "7    8         No         Single        85000.0                Yes\n",
       "8    9         No        Married        75000.0                 No\n",
       "9   10         No         Single        90000.0                Yes"
      ]
     },
     "execution_count": 18,
     "metadata": {},
     "output_type": "execute_result"
    }
   ],
   "source": [
    "# toy data\n",
    "data = {\n",
    "    'tid': np.arange(1, 11),\n",
    "    'home_owner': ['Yes', 'No', 'No', 'Yes', 'No', 'No', 'Yes', 'No', 'No', 'No'],\n",
    "    'marital_status': ['Single', 'Married', 'Single', 'Married', 'Divorced', 'Married', 'Divorced', 'Single', 'Married', 'Single'],\n",
    "    'annual_income': [125e3, 100e3, 70e3, 120e3, 95e3, 60e3, 220e3, 85e3, 75e3, 90e3],\n",
    "    'defaulted_borrower': ['No', 'No', 'No', 'No', 'Yes', 'No', 'No', 'Yes', 'No', 'Yes'],\n",
    "}\n",
    "df = pd.DataFrame(data)\n",
    "df"
   ]
  },
  {
   "cell_type": "code",
   "execution_count": 19,
   "metadata": {},
   "outputs": [
    {
     "data": {
      "text/plain": [
       "0.7"
      ]
     },
     "execution_count": 19,
     "metadata": {},
     "output_type": "execute_result"
    }
   ],
   "source": [
    "P_yes = df[df['defaulted_borrower']=='Yes'].shape[0]/df.shape[0]\n",
    "P_no = df[df['defaulted_borrower']=='No'].shape[0]/df.shape[0]\n",
    "P_no"
   ]
  },
  {
   "cell_type": "markdown",
   "metadata": {},
   "source": [
    "---"
   ]
  }
 ],
 "metadata": {
  "kernelspec": {
   "display_name": "Python 3",
   "language": "python",
   "name": "python3"
  },
  "language_info": {
   "codemirror_mode": {
    "name": "ipython",
    "version": 3
   },
   "file_extension": ".py",
   "mimetype": "text/x-python",
   "name": "python",
   "nbconvert_exporter": "python",
   "pygments_lexer": "ipython3",
   "version": "3.8.2"
  }
 },
 "nbformat": 4,
 "nbformat_minor": 4
}
