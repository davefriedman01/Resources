{
 "cells": [
  {
   "cell_type": "markdown",
   "id": "bd505471-1ff8-407a-8b4f-068e7a40d655",
   "metadata": {},
   "source": [
    "## Finance"
   ]
  },
  {
   "cell_type": "markdown",
   "id": "ed8289ae-fd2a-4613-8a3a-b6dd9c384810",
   "metadata": {},
   "source": [
    "---"
   ]
  },
  {
   "cell_type": "markdown",
   "id": "128b8ef0-bea0-477a-b998-6eae0fe68445",
   "metadata": {},
   "source": [
    "Property\n",
    "* Real Property (land + permanent attachments to the land such as landmarks, buildings, fences, bridges)\n",
    "  * Residential\n",
    "  * Commercial\n",
    "  * Agricultural\n",
    "  * Industrial\n",
    "  * Special Purpose\n",
    "* Personal Property (everything else including clothes, jewelry, furniture, equipment, vehicles)"
   ]
  },
  {
   "cell_type": "markdown",
   "id": "3b0fbeef-0810-4e7d-980f-fd2e70acfaab",
   "metadata": {},
   "source": [
    "Estate\n",
    "* Real Estate\n",
    "* Personal Estate"
   ]
  },
  {
   "cell_type": "markdown",
   "id": "0c8deac1-c738-483c-9641-5c9dcda1d445",
   "metadata": {},
   "source": [
    "---"
   ]
  },
  {
   "cell_type": "markdown",
   "id": "8929c395-41be-40d9-a37a-d36acb85661c",
   "metadata": {},
   "source": [
    "Net worth (SE Shareholder/Stockholder Equity or book value) = total assets - total liabilities\n",
    "Net worth statement (Balance Sheet)\n",
    "\n",
    "Assets (anythin owned that has monetary value)\n",
    "* current/short-term assets\n",
    "  * cash\n",
    "  * accounts receivable\n",
    "  * inventory\n",
    "* noncurrent/long-term assets\n",
    "  * investments\n",
    "  * property\n",
    "  * equipment\n",
    "  * intangibles\n",
    "  * patents\n",
    "  \n",
    "Liabilities (debt obligations such as loans, accounts payable, mortgages)"
   ]
  },
  {
   "cell_type": "markdown",
   "id": "0de59744-6805-4000-8149-dc095008868a",
   "metadata": {},
   "source": [
    "---"
   ]
  },
  {
   "cell_type": "markdown",
   "id": "a4acb271-c6e5-41cd-8b8e-d83d3cba07c0",
   "metadata": {},
   "source": [
    "__Derivative__<br>\n",
    "A financial instrument whose value depends on (or derives from) the values of other more basic underlying variables (such as the prices of traded assets).<br>\n",
    "\n",
    "Examples of derivatives:<br>\n",
    "* stock option\n",
    "* credit derivatives\n",
    "* electricity derivatives\n",
    "* weather derivatives\n",
    "* insurance derivatives\n",
    "* interest rate derivatives\n",
    "* foreign exchange derivatives\n",
    "* equity derivatives"
   ]
  },
  {
   "cell_type": "markdown",
   "id": "3b2a168a-9578-4908-965d-7384547823a7",
   "metadata": {},
   "source": [
    "__Real Option__ [Investopedia](https://www.investopedia.com/terms/r/realoption.asp)<br>\n",
    "An economically valuable right to make or else abandon some choice that is available to the managers of a company, often concerning business projects or investment opportunities.<br>"
   ]
  },
  {
   "cell_type": "markdown",
   "id": "80558ee7-6fce-4bcd-b3b9-95e91650ac41",
   "metadata": {},
   "source": [
    "Derivatives Market\n",
    "* OTC Over-the-Counter Market\n",
    "  * Forwards\n",
    "  * Swaps\n",
    "  * Options\n",
    "* Exchange-Traded Market\n",
    "  * Futures\n",
    "  * Options"
   ]
  },
  {
   "cell_type": "markdown",
   "id": "afdaf347-8aa9-43ba-a167-f2db8189424d",
   "metadata": {},
   "source": [
    "__Derivatives Exchange__<br>\n",
    "A market where individuals trade standardized contracts that have been defined by the exchange.<br>\n",
    "\n",
    "* CME Group (futures exchange)\n",
    "  * CBOT Chicago Board of Trade (est. 1848)\n",
    "  * CME Chicago Mercantile Exchange (est. 1919)\n",
    "  * NYMEX New York Mercantile Exchange\n",
    "  * KCBT Kansas City Board of Trade\n",
    "* CBOE Chicago Board Options Exchange (options exchange; call options 1973; put options 1977)"
   ]
  },
  {
   "cell_type": "markdown",
   "id": "22feaf43-f234-4beb-9349-600959dded10",
   "metadata": {},
   "source": [
    "---"
   ]
  },
  {
   "cell_type": "markdown",
   "id": "97c9241e-595d-4e44-ac46-36fd33397f03",
   "metadata": {},
   "source": [
    "* Brokerage\n",
    "* Exchange (defines and standardizes contracts)\n",
    "* Exchange Clearing House\n",
    "  * stands between traders and manages risk\n",
    "  * traders do not have to worry about the creditworthiness of the people they are trading with\n",
    "  * the clearing house takes care of credit risk by requiring each of the two traders to deposit funds (margin requirement) with the clearing house to ensure that they will live up to their obligations"
   ]
  },
  {
   "cell_type": "markdown",
   "id": "4c372487-fb07-409f-ab57-9e49cc8fe6b3",
   "metadata": {},
   "source": [
    "---"
   ]
  },
  {
   "cell_type": "markdown",
   "id": "ec8ef2e5-65d0-4696-83d0-70dbdfd8ffa1",
   "metadata": {},
   "source": [
    "## Hedging"
   ]
  },
  {
   "cell_type": "markdown",
   "id": "65135463-fc0f-4794-b62c-b5c04e10af84",
   "metadata": {},
   "source": [
    "---"
   ]
  },
  {
   "cell_type": "markdown",
   "id": "909627ab-5744-4ba9-b4c4-9bb4ccf23c65",
   "metadata": {},
   "source": [
    "## Speculation"
   ]
  },
  {
   "cell_type": "markdown",
   "id": "05862cea-1489-4658-a27f-3f7f66b80a6b",
   "metadata": {},
   "source": [
    "---"
   ]
  },
  {
   "cell_type": "markdown",
   "id": "1845cd60-3719-4877-a5d6-b75741ed0452",
   "metadata": {},
   "source": [
    "## Arbitrage"
   ]
  },
  {
   "cell_type": "markdown",
   "id": "dfabdb23-628f-4aa0-ae54-47818e7eedff",
   "metadata": {},
   "source": [
    "---"
   ]
  },
  {
   "cell_type": "markdown",
   "id": "783b0124-d082-4a35-81a5-b9b385ed4fba",
   "metadata": {},
   "source": [
    "European option\n",
    "* cash flows from a European option occur at maturity only which represents a future date; these cash flows have to be discounted to today to derive a present value"
   ]
  },
  {
   "cell_type": "markdown",
   "id": "135a4cbb-9150-4aa6-adb6-49e813e10806",
   "metadata": {},
   "source": [
    "__Payoff (Inner Value, Intrinsic Value) of an Option__<br>\n",
    "$h_T(S, K) = \\text{max}\\, [S_T - K, 0]$ where $T$ is the maturity date, $S_T$ is the index level at the maturity date, and $K$ represents the strike price.<br>"
   ]
  },
  {
   "cell_type": "markdown",
   "id": "75515889-8a68-49fb-983e-05c7279e683a",
   "metadata": {},
   "source": [
    "__Moneyness of an Option__<br>\n",
    "* ITM In-the-Money: a call (put) is in-the-money if $S \\gt K$ ($S \\lt K$)\n",
    "* ATM At-the-Money: an option, call or put, is at-the-money if $S \\approx K$\n",
    "* OTM Out-of-the-Money: a call (put) is out-of-the-money if $S \\lt K$ ($S \\gt K$)"
   ]
  },
  {
   "cell_type": "markdown",
   "id": "09b1f0af-0a79-408c-b462-0f0935c72938",
   "metadata": {},
   "source": [
    "What influences the present value of an option today (how probable it is that the index level exceeds the strike at maturity)?\n",
    "* Initial Index Level\n",
    "* Index Volatility\n",
    "* Time-to-Maturity\n",
    "* Interest Rate"
   ]
  },
  {
   "cell_type": "markdown",
   "id": "c7ec9793-3925-4ce6-8c2d-917460ce83e9",
   "metadata": {},
   "source": [
    "__Annualized Volatility__<br>\n",
    "A measure for the randomness of the index's return over a year<br>"
   ]
  },
  {
   "cell_type": "markdown",
   "id": "0f088749-5180-408e-981e-cb295e2746e8",
   "metadata": {},
   "source": [
    "---"
   ]
  },
  {
   "cell_type": "code",
   "execution_count": 4,
   "id": "b72df6d3-f5bb-4bf3-9277-16f60db558c1",
   "metadata": {},
   "outputs": [
    {
     "data": {
      "image/png": "[encoded data removed]",
      "text/plain": [
       "<Figure size 432x288 with 1 Axes>"
      ]
     },
     "metadata": {
      "needs_background": "light"
     },
     "output_type": "display_data"
    }
   ],
   "source": [
    "# European call option\n",
    "\n",
    "K = 8000                         # strike price\n",
    "S = np.linspace(7000, 9000, 100) # index level values\n",
    "h = np.maximum(S - K, 0)         # inner values of call option\n",
    "\n",
    "plt.figure()\n",
    "plt.plot(S, h, lw=2.5) # plot inner values at maturity\n",
    "plt.xlabel('index level $S_t$ at maturity')\n",
    "plt.ylabel('inner value of European call option')\n",
    "plt.title('Inner value of a European call option on a stock index with strike of 8,000 dependent on the index level at maturity')\n",
    "plt.grid(True);"
   ]
  },
  {
   "cell_type": "markdown",
   "id": "617cec94-9637-488e-b57b-361eff9d594f",
   "metadata": {},
   "source": [
    "Equity Derivatives\n",
    "* Plain Vanilla or Flow (e.g., European call options written on an equity index)\n",
    "  * in general, there exist liquid markets for plain vanilla products\n",
    "* Exotic (e.g., options on an equity index with Asian features, barriers and/or American exercise)\n",
    "  * often tailored by financial institutions to specific client needs and not traded at all"
   ]
  },
  {
   "cell_type": "markdown",
   "id": "271adf39-ab7a-42a6-bf80-04ba154c24d2",
   "metadata": {},
   "source": [
    "---"
   ]
  },
  {
   "cell_type": "markdown",
   "id": "6c93c2ba-ed46-49ed-bb35-9ddc6376bc65",
   "metadata": {},
   "source": [
    "## Resources"
   ]
  },
  {
   "cell_type": "markdown",
   "id": "e5045db0-5109-4d9b-8326-0a2752919482",
   "metadata": {},
   "source": [
    "Bjork. (2004). arbitrage or risk-neutral pricing/hedging for models with continuous price processes<br>\n",
    "Cetin et al. (2004). \"From a financial engineering perspective, the need is paramount for a simple yet robust method that incorporates liquidity risk into arbitrage pricing theory.\" Liquidity risk arbitrage pricing theory + stochastic supply curve for a security's price as a function of trade size<br>\n",
    "Cont and Tankov. (2004a). arbitrage or risk-neutral pricing/hedging for models where price processes may jump<br>\n",
    "De Weert. (2008). Overview and explanation of exotic options and their features.<br>\n",
    "Gilbert et al. (2007).<br>"
   ]
  },
  {
   "cell_type": "markdown",
   "id": "69cab10c-4cb7-4fd7-a6be-01dcfd6115b1",
   "metadata": {},
   "source": [
    "---"
   ]
  }
 ],
 "metadata": {
  "kernelspec": {
   "display_name": "Python 3",
   "language": "python",
   "name": "python3"
  },
  "language_info": {
   "codemirror_mode": {
    "name": "ipython",
    "version": 3
   },
   "file_extension": ".py",
   "mimetype": "text/x-python",
   "name": "python",
   "nbconvert_exporter": "python",
   "pygments_lexer": "ipython3",
   "version": "3.8.2"
  }
 },
 "nbformat": 4,
 "nbformat_minor": 5
}
