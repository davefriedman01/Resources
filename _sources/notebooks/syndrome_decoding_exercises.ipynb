{
 "cells": [
  {
   "cell_type": "code",
   "execution_count": 1,
   "metadata": {},
   "outputs": [],
   "source": [
    "from itertools import product\n",
    "import numpy as np"
   ]
  },
  {
   "cell_type": "code",
   "execution_count": 18,
   "metadata": {},
   "outputs": [],
   "source": [
    "def v (n, q):\n",
    "    \"\"\"construct a linear space of dimension n over a finite field of order q\"\"\"\n",
    "    return [''.join(str(pos) for pos in comb) for comb in list(product(range(q), repeat=n))]"
   ]
  },
  {
   "cell_type": "markdown",
   "metadata": {},
   "source": [
    "---"
   ]
  },
  {
   "cell_type": "markdown",
   "metadata": {},
   "source": [
    "__Exercise 7.6__\n",
    "Let $C$ be the ternary linear code with generator matrix\n",
    "$$\n",
    "\\begin{bmatrix}\n",
    "1 & 1 & 1 & 0\\\\\n",
    "2 & 0 & 1 & 1\n",
    "\\end{bmatrix}\n",
    "\\text{.}\n",
    "$$\n",
    "(a) Find a generator matrix for $C$ in standard form.<br>\n",
    "(b) Find a parity-check matrix for $C$ in standard form.<br>\n",
    "(c) Use syndrome decoding to decode the received vectors $2121$, $1201$, and $2222$."
   ]
  },
  {
   "cell_type": "markdown",
   "metadata": {},
   "source": [
    "---"
   ]
  },
  {
   "cell_type": "markdown",
   "metadata": {},
   "source": [
    "Theorem 5.5 (Standard-Form Generator Matrix Procedure)"
   ]
  },
  {
   "cell_type": "markdown",
   "metadata": {},
   "source": [
    "$$\n",
    "\\begin{bmatrix}\n",
    "1 & 1 & 1 & 0\\\\\n",
    "2 & 0 & 1 & 1\n",
    "\\end{bmatrix}\n",
    "\\rightarrow\n",
    "\\begin{bmatrix}\n",
    "1 & 1 & 1 & 0\\\\\n",
    "0 & 1 & 2 & 1\n",
    "\\end{bmatrix}\n",
    "\\rightarrow\n",
    "\\begin{bmatrix}\n",
    "1 & 0 & 2 & 2\\\\\n",
    "0 & 1 & 2 & 1\n",
    "\\end{bmatrix}\n",
    "$$"
   ]
  },
  {
   "cell_type": "markdown",
   "metadata": {},
   "source": [
    "$\\mathbf{u}G = \\mathbf{x}$"
   ]
  },
  {
   "cell_type": "markdown",
   "metadata": {},
   "source": [
    "$$\n",
    "\\begin{bmatrix}\n",
    "0 & 0\\\\\n",
    "0 & 1\\\\\n",
    "0 & 2\\\\\n",
    "1 & 0\\\\\n",
    "1 & 1\\\\\n",
    "1 & 2\\\\\n",
    "2 & 0\\\\\n",
    "2 & 1\\\\\n",
    "2 & 2\\\\\n",
    "\\end{bmatrix}\n",
    "\\begin{bmatrix}\n",
    "1 & 0 & 2 & 2\\\\\n",
    "0 & 1 & 2 & 1\n",
    "\\end{bmatrix}\n",
    "=\n",
    "\\begin{bmatrix}\n",
    "0 & 0 & 0 & 0\\\\\n",
    "0 & 1 & 2 & 1\\\\\n",
    "0 & 2 & 1 & 2\\\\\n",
    "1 & 1 & 1 & 0\\\\\n",
    "1 & 2 & 0 & 1\\\\\n",
    "2 & 0 & 1 & 1\\\\\n",
    "2 & 1 & 0 & 2\\\\\n",
    "2 & 2 & 2 & 0\\\\\n",
    "\\end{bmatrix}\n",
    "$$"
   ]
  },
  {
   "cell_type": "markdown",
   "metadata": {},
   "source": [
    "Theorem 7.6 (Standard-Form Parity-Check Matrix from Standard-Form Generator Matrix)"
   ]
  },
  {
   "cell_type": "markdown",
   "metadata": {},
   "source": [
    "\\begin{bmatrix}\n",
    "1 & 1 & 1 & 0\\\\\n",
    "1 & 2 & 0 & 1\n",
    "\\end{bmatrix}"
   ]
  },
  {
   "cell_type": "markdown",
   "metadata": {},
   "source": [
    "$C$ is a linear $[4, 2]$-code with $d(C)=3$ by Theorem 5.2.<br>\n",
    "Since $t=1$, all nine vectors of weight $\\leq 1$ are coset leaders with the weight-zero vector serving as the coset leader of $C$.<br>\n",
    "The number of cosets (and coset leaders) is\n",
    "$$\\frac{q^n}{q^k}=\\frac{3^4}{3^2}=3^2=9$$\n",
    "which are just the nine vectors of weight $\\leq 1$.<br>\n",
    "In other words, $C$ is a perfect code (which is also shown by obtaining equality in the sphere-packing bound).<br>\n",
    "By the sphere-packing bound for a binary $(4,9,3)$-code\n",
    "$$\n",
    "3^2\\left\\{\\binom{4}{0}+\\binom{4}{1}(3-1)\\right\\}\\leq 3^4\n",
    "$$\n",
    "$$\n",
    "\\Rightarrow 9\\left\\{1+8\\right\\}\\leq 81\n",
    "$$\n",
    "$$\n",
    "\\Rightarrow 81 = 81\n",
    "$$"
   ]
  },
  {
   "cell_type": "markdown",
   "metadata": {},
   "source": [
    "Compute the syndromes $S(\\mathbf{y})=H\\mathbf{y}$ of the nine coset leaders in order to construct a syndrome lookup table.\n",
    "$$\n",
    "\\begin{bmatrix}\n",
    "0 & 1 & 2 & 1 & 2 & 1 & 2 & 0 & 0\\\\\n",
    "0 & 1 & 2 & 2 & 1 & 0 & 0 & 1 & 2\\\\\n",
    "\\end{bmatrix}\n",
    "=\n",
    "\\begin{bmatrix}\n",
    "1 & 1 & 1 & 0\\\\\n",
    "1 & 2 & 0 & 1\\\\\n",
    "\\end{bmatrix}\n",
    "\\begin{bmatrix}\n",
    "0 & 1 & 2 & 0 & 0 & 0 & 0 & 0 & 0\\\\\n",
    "0 & 0 & 0 & 1 & 2 & 0 & 0 & 0 & 0\\\\\n",
    "0 & 0 & 0 & 0 & 0 & 1 & 2 & 0 & 0\\\\\n",
    "0 & 0 & 0 & 0 & 0 & 0 & 0 & 1 & 2\\\\\n",
    "\\end{bmatrix}\n",
    "$$\n",
    "Decoding Procedure\n",
    "1. To decode a received vector $\\mathbf{y}$, compute its syndrome $S(\\mathbf{y})$\n",
    "2. Let $\\mathbf{z}=S(\\mathbf{y})$ and locate $\\mathbf{z}$ in the first column of the lookup table\n",
    "3. Decode $\\mathbf{y}$ as $\\mathbf{y}-f(\\mathbf{z})$ where $f(\\mathbf{z})$ is the coset leader that matches with $\\mathbf{z}$\n",
    "\n",
    "$S(\\mathbf{y})=H\\mathbf{y}\\Rightarrow\\mathbf{y}-\\mathbf{e}=\\mathbf{x}$<br>\n",
    "$S(2121)=22\\Rightarrow 2121-2000=0121$<br>\n",
    "$S(1201)=00\\Rightarrow 1201-0000=1201$<br>\n",
    "$S(2222)=02\\Rightarrow 2222-0002=2220$"
   ]
  },
  {
   "cell_type": "code",
   "execution_count": 21,
   "metadata": {},
   "outputs": [
    {
     "name": "stdout",
     "output_type": "stream",
     "text": [
      "Messages\n",
      "[[0 0]\n",
      " [0 1]\n",
      " [0 2]\n",
      " [1 0]\n",
      " [1 1]\n",
      " [1 2]\n",
      " [2 0]\n",
      " [2 1]\n",
      " [2 2]]\n",
      "\n",
      "Standard-Form Generator\n",
      "[[1 0 2 2]\n",
      " [0 1 2 1]]\n",
      "\n",
      "Code\n",
      "[[0 0 0 0]\n",
      " [0 1 2 1]\n",
      " [0 2 1 2]\n",
      " [1 0 2 2]\n",
      " [1 1 1 0]\n",
      " [1 2 0 1]\n",
      " [2 0 1 1]\n",
      " [2 1 0 2]\n",
      " [2 2 2 0]]\n"
     ]
    }
   ],
   "source": [
    "n = 2\n",
    "q = 3\n",
    "messages = np.array([list(i) for i in v(n, q)], dtype=int)\n",
    "generator = np.array([['1', '0', '2', '2'], ['0', '1', '2', '1']], dtype=int)\n",
    "code = np.mod(np.dot(messages, generator), q)\n",
    "\n",
    "print('Messages')\n",
    "print(messages)\n",
    "print()\n",
    "print('Standard-Form Generator')\n",
    "print(generator)\n",
    "print()\n",
    "print('Code')\n",
    "print(code)"
   ]
  },
  {
   "cell_type": "markdown",
   "metadata": {},
   "source": [
    "---"
   ]
  },
  {
   "cell_type": "markdown",
   "metadata": {},
   "source": [
    "__Example 7.12__\n",
    "The set of all 10-digit telephone numbers in the UK is a denary $(10, M, d)$-code. It's possible to use a code over 82 million 10-digit telephone numbers such that if just one digit of any number is misdialled the correct connection can nevertheless be made.<br>\n",
    "Let there be an undenary $[10,8]$-code with nonstandard-form parity-check matrix $H=$\n",
    "$$\n",
    "\\begin{bmatrix}\n",
    "1 & 1 & 1 & 1 & 1 & 1 & 1 & 1 & 1 & 1\\\\\n",
    "1 & 2 & 3 & 4 & 5 & 6 & 7 & 8 & 9 & 10\\\\\n",
    "\\end{bmatrix}\n",
    "$$\n",
    "Let $C$ be a denary $(10, M, d)$-code obtained from this undenary code by omitting all those codewords which contain the digit '$10$'."
   ]
  },
  {
   "cell_type": "markdown",
   "metadata": {},
   "source": [
    "$(10, M, d)$-code $\\subset[10,8]$-code $\\subset V(10,11)$<br>\n",
    "$\\vert V(10,11)\\vert=11^{10}=25937424601\\approx26$ billion<br>\n",
    "$\\vert [10,8]$-code$\\vert=11^8=214358881\\approx200$ million<br>\n",
    "$\\vert(10, M, d)$-code$\\vert=82644629$"
   ]
  },
  {
   "cell_type": "markdown",
   "metadata": {},
   "source": [
    "__Exercise 7.7__\n",
    "Using the code of Example 7.12, decode the received vector $0617960587$."
   ]
  },
  {
   "cell_type": "code",
   "execution_count": null,
   "metadata": {},
   "outputs": [],
   "source": []
  },
  {
   "cell_type": "markdown",
   "metadata": {},
   "source": [
    "---"
   ]
  },
  {
   "cell_type": "markdown",
   "metadata": {},
   "source": [
    "__Exercise 7.10__\n",
    "Suppose a certain binary channel accepts words of length 7 and that the only kind of error vector ever observed is one of the eight vectors $0000000$, $0000001$, $0000011$, $0000111$, $0001111$, $0011111$, $0111111$, $1111111$. Design a binary linear $[7, k]$-code which will correct all such errors with as large a rate as possible."
   ]
  },
  {
   "cell_type": "markdown",
   "metadata": {},
   "source": [
    "---"
   ]
  }
 ],
 "metadata": {
  "kernelspec": {
   "display_name": "Python 3",
   "language": "python",
   "name": "python3"
  },
  "language_info": {
   "codemirror_mode": {
    "name": "ipython",
    "version": 3
   },
   "file_extension": ".py",
   "mimetype": "text/x-python",
   "name": "python",
   "nbconvert_exporter": "python",
   "pygments_lexer": "ipython3",
   "version": "3.9.0"
  }
 },
 "nbformat": 4,
 "nbformat_minor": 4
}
