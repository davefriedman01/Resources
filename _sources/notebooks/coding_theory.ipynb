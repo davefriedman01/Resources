{
 "cells": [
  {
   "cell_type": "code",
   "execution_count": 125,
   "metadata": {},
   "outputs": [],
   "source": [
    "from collections import defaultdict\n",
    "from itertools import combinations, product\n",
    "import numpy as np\n",
    "import pandas as pd"
   ]
  },
  {
   "cell_type": "markdown",
   "metadata": {},
   "source": [
    "---"
   ]
  },
  {
   "cell_type": "markdown",
   "metadata": {},
   "source": [
    "#### Integers and their binary representations"
   ]
  },
  {
   "cell_type": "code",
   "execution_count": 126,
   "metadata": {},
   "outputs": [
    {
     "name": "stdout",
     "output_type": "stream",
     "text": [
      "0000010001\n"
     ]
    }
   ],
   "source": [
    "def dec_to_bin_repr (a, n):\n",
    "    \"\"\"return the binary representation of an integer as a string to n positions\"\"\"\n",
    "    return format(a, '0'+str(n)+'b')\n",
    "print(dec_to_bin_repr(17, 10))"
   ]
  },
  {
   "cell_type": "code",
   "execution_count": 127,
   "metadata": {},
   "outputs": [
    {
     "name": "stdout",
     "output_type": "stream",
     "text": [
      "1111101110\n"
     ]
    }
   ],
   "source": [
    "def bin_repr_inv (a, n):\n",
    "    \"\"\"return the inverse of the binary representation of an integer as a string to n positions\"\"\"\n",
    "    return format(a^(2**n-1), '0'+str(n)+'b')\n",
    "print(bin_repr_inv(17, 10))"
   ]
  },
  {
   "cell_type": "markdown",
   "metadata": {},
   "source": [
    "---"
   ]
  },
  {
   "cell_type": "code",
   "execution_count": 128,
   "metadata": {},
   "outputs": [
    {
     "data": {
      "text/plain": [
       "2"
      ]
     },
     "execution_count": 128,
     "metadata": {},
     "output_type": "execute_result"
    }
   ],
   "source": [
    "def vec_weight (vector):\n",
    "    \"\"\"take a vector of length n as a string and return its weight as an integer where the weight of a vector is the number of nonzero entries in the vector\"\"\"\n",
    "    return np.sum([1 for i in vector if i != '0'])\n",
    "vectorized_vec_weight = np.vectorize(vec_weight)\n",
    "\n",
    "vec_weight('0000010001')"
   ]
  },
  {
   "cell_type": "code",
   "execution_count": 129,
   "metadata": {},
   "outputs": [
    {
     "data": {
      "text/plain": [
       "'2102'"
      ]
     },
     "execution_count": 129,
     "metadata": {},
     "output_type": "execute_result"
    }
   ],
   "source": [
    "def vector_sum (vectors, q):\n",
    "    \"\"\"take a set of vectors as a list of strings of length n and return their sum (mod q) as a string\"\"\"\n",
    "    \n",
    "    # verify that all vectors are of length n\n",
    "    for vector in vectors:\n",
    "        assert len(vector) == len(vectors[0]), 'vectors must be of equal length'\n",
    "        \n",
    "    positions = defaultdict(list)\n",
    "    for vector in vectors:\n",
    "        for i in range(len(vector)):\n",
    "            positions[i].append(vector[i])\n",
    "    return ''.join([str(i) for i in [np.mod(np.array(j).astype(int).sum(), q) for i, j in positions.items()]])\n",
    "\n",
    "#def vector_add (a, b, q):\n",
    "#    \"\"\"take two vectors a and b of length n as strings and return their sum (mod q) as a string\"\"\"\n",
    "     # verify that both vectors are of length n\n",
    "#    assert len(a) == len(b), 'vectors must be of equal length' \n",
    "#    return ''.join([str((int(a[i]) + int(b[i])) % q) for i in range(len(a))])\n",
    "     #return format(a^b, '0'+str(n)+'b') for binary vectors only\n",
    "\n",
    "vector_sum(['0121','2210','0101'], 3)"
   ]
  },
  {
   "cell_type": "code",
   "execution_count": 106,
   "metadata": {},
   "outputs": [],
   "source": [
    "def v (n, q):\n",
    "    \"\"\"construct a linear space of dimension n over a finite field of order q\"\"\"\n",
    "    return [''.join(str(pos) for pos in comb) for comb in list(product(range(q), repeat=n))]\n",
    "\n",
    "def num_lin_sub_k (n, k, q):\n",
    "    \"\"\"Compute the number of k-dim linear subspaces of a linear space of dim n over a finite field of order q\"\"\"\n",
    "    return np.prod([q**n-q**i for i in range(k)])/np.prod([q**k-q**i for i in range(k)])\n",
    "\n",
    "def generate_scalar_multiples (vector, q):\n",
    "    \"\"\"Given a vector of length n over q symbols, get its scalar multiples\"\"\"\n",
    "    scalar_multiples = []\n",
    "    for scalar in range(q):\n",
    "        scalar_multiple = vector\n",
    "        for i in range(scalar):\n",
    "            scalar_multiple = vector_sum([scalar_multiple, vector], q)\n",
    "        scalar_multiples.append(scalar_multiple)\n",
    "    return scalar_multiples\n",
    "\n",
    "def span (vectors, q):\n",
    "    \"\"\"get the span of a set of vectors in V(n, q) over GF(q)\"\"\"\n",
    "    \n",
    "    # verify that all vectors are of length n\n",
    "    for vector in vectors:\n",
    "        assert len(vector) == len(vectors[0]), 'vectors must be of equal length'\n",
    "    \n",
    "    # remove the zero vector from the set of vectors if it is contained in them\n",
    "    if '0'*len(vectors[0]) in vectors:\n",
    "        vectors.remove('0'*len(vectors[0]))\n",
    "        \n",
    "    qsm = []\n",
    "    for veck in vectors:\n",
    "        qsm.append(generate_scalar_multiples(veck, q))\n",
    "\n",
    "    return set([vector_sum(comb, q) for comb in product(*[qsm[i] for i in range(len(qsm))])])\n",
    "\n",
    "def gen_dis_bases (space, k):\n",
    "    if k == 0:\n",
    "        return [{0}], 0\n",
    "    \n",
    "    bases = list(combinations(space[1:], k))\n",
    "    bases = list(set(i) for i in bases)\n",
    "    #print(len(bases))\n",
    "    #for i in bases:\n",
    "    #    print(i)\n",
    "            \n",
    "    spans = defaultdict(list)\n",
    "    while bases:\n",
    "        basis, bases = bases[0], bases[1:]\n",
    "        \n",
    "        # check if the set of vectors is linearly independent\n",
    "        if len(span(basis, q)) != q**k:\n",
    "            continue\n",
    "        \n",
    "        s = span(basis, q)\n",
    "        tot = ''\n",
    "        for i in sorted(s):\n",
    "            tot += i\n",
    "        spans[tot].append(basis)\n",
    "        \n",
    "    return len(spans), [len(reprs) for spn, reprs in spans.items()], spans\n",
    "\n",
    "def get_basis (space, k):\n",
    "    num, l, bases = gen_dis_bases(space, k)\n",
    "    return np.random.choice(bases[np.random.choice(np.array([spn for spn, reprs in bases.items()]))])\n",
    "\n",
    "def linear_code (basis, q):\n",
    "    \"\"\"given a set of basis vectors, return a k-dimensional linear code of length n\"\"\"\n",
    "    return span(basis, q)"
   ]
  },
  {
   "cell_type": "markdown",
   "metadata": {},
   "source": [
    "---"
   ]
  },
  {
   "cell_type": "markdown",
   "metadata": {},
   "source": [
    "### Construct $V(n, q)$ over $GF(q)$ and compute the scalar multiples of a vector $\\{\\lambda\\mathbf{v}\\,\\vert\\,\\mathbf{v}\\in V(n, q), \\forall \\lambda\\in GF(q)\\}$\n",
    "\n",
    "$| V(n, q) | = q^n$"
   ]
  },
  {
   "cell_type": "code",
   "execution_count": 62,
   "metadata": {},
   "outputs": [
    {
     "name": "stdout",
     "output_type": "stream",
     "text": [
      "V(5, 2)\n",
      "\n",
      "25 vectors\tweight\t2 scalar multiples per vector\n",
      "\n",
      "0\t00000\t0.0\t['00000', '00000']\n",
      "1\t00001\t1\t['00001', '00000']\n",
      "2\t00010\t1\t['00010', '00000']\n",
      "3\t00011\t2\t['00011', '00000']\n",
      "4\t00100\t1\t['00100', '00000']\n",
      "5\t00101\t2\t['00101', '00000']\n",
      "6\t00110\t2\t['00110', '00000']\n",
      "7\t00111\t3\t['00111', '00000']\n",
      "8\t01000\t1\t['01000', '00000']\n",
      "9\t01001\t2\t['01001', '00000']\n",
      "10\t01010\t2\t['01010', '00000']\n",
      "11\t01011\t3\t['01011', '00000']\n",
      "12\t01100\t2\t['01100', '00000']\n",
      "13\t01101\t3\t['01101', '00000']\n",
      "14\t01110\t3\t['01110', '00000']\n",
      "15\t01111\t4\t['01111', '00000']\n",
      "16\t10000\t1\t['10000', '00000']\n",
      "17\t10001\t2\t['10001', '00000']\n",
      "18\t10010\t2\t['10010', '00000']\n",
      "19\t10011\t3\t['10011', '00000']\n",
      "20\t10100\t2\t['10100', '00000']\n",
      "21\t10101\t3\t['10101', '00000']\n",
      "22\t10110\t3\t['10110', '00000']\n",
      "23\t10111\t4\t['10111', '00000']\n",
      "24\t11000\t2\t['11000', '00000']\n",
      "25\t11001\t3\t['11001', '00000']\n",
      "26\t11010\t3\t['11010', '00000']\n",
      "27\t11011\t4\t['11011', '00000']\n",
      "28\t11100\t3\t['11100', '00000']\n",
      "29\t11101\t4\t['11101', '00000']\n",
      "30\t11110\t4\t['11110', '00000']\n",
      "31\t11111\t5\t['11111', '00000']\n"
     ]
    }
   ],
   "source": [
    "n = 5           # specify the dimension of V(n, q)\n",
    "q = 2           # specify the order of GF(q)\n",
    "space = v(n, q) # construct V(n, q) over GF(q)\n",
    "\n",
    "print('V(' + str(n) + ', ' + str(q) + ')')\n",
    "print()\n",
    "print('{}\\t{}\\t{}'.format(str(n**q) + ' vectors', 'weight', str(q) + ' scalar multiples per vector'))\n",
    "print()\n",
    "for i, vector in enumerate(space):\n",
    "    print('{}\\t{}\\t{}\\t{}'.format(i, vector, vector_weight(vector), generate_scalar_multiples(vector, q)))"
   ]
  },
  {
   "cell_type": "code",
   "execution_count": 4,
   "metadata": {},
   "outputs": [
    {
     "name": "stdout",
     "output_type": "stream",
     "text": [
      "10011\n",
      "11100\n",
      "01111\n"
     ]
    }
   ],
   "source": [
    "# show that the sum of any two vectors in the linear space is also in the linear space\n",
    "\n",
    "a = np.random.choice(space) # choose a random vector in V(n, q)\n",
    "b = np.random.choice(space) # choose a random vector in V(n, q)\n",
    "c = vecadd(a, b, n, q)      # add them\n",
    "print(a)\n",
    "print(b)\n",
    "print(c)\n",
    "assert c in space, 'Error: the sum of the vectors both of which are in V(n, q) is not in V(n, q)'"
   ]
  },
  {
   "cell_type": "markdown",
   "metadata": {},
   "source": [
    "---"
   ]
  },
  {
   "cell_type": "markdown",
   "metadata": {},
   "source": [
    "### Compute the sum $\\mathbf{v_1} + ... + \\mathbf{v_k}$ of a set of vectors $\\{\\mathbf{v_1}, ..., \\mathbf{v_k}\\} \\in V(n, q)$"
   ]
  },
  {
   "cell_type": "code",
   "execution_count": 6,
   "metadata": {},
   "outputs": [
    {
     "name": "stdout",
     "output_type": "stream",
     "text": [
      "Summing 3 vectors\t11100 + 00101 + 11010\n",
      "Sum\t\t\t00011\n"
     ]
    }
   ],
   "source": [
    "num_vecs = np.random.randint(1, 5)\n",
    "sum_vecs = np.random.choice(space, size=num_vecs, replace=True)\n",
    "summation = vecsadd(sum_vecs, n, q)\n",
    "\n",
    "print('Summing {} vector{}\\t{}'.format(num_vecs, 's' if num_vecs != 1 else '', ' + '.join(sum_vecs)))\n",
    "print('Sum\\t\\t\\t{}'.format(summation))"
   ]
  },
  {
   "cell_type": "markdown",
   "metadata": {},
   "source": [
    "### Get the span $span\\{\\mathbf{v_1}, ..., \\mathbf{v_k}\\}$ of a set of vectors $\\{\\mathbf{v_1}, ..., \\mathbf{v_k}\\} \\in V(n, q)$"
   ]
  },
  {
   "cell_type": "code",
   "execution_count": 7,
   "metadata": {},
   "outputs": [
    {
     "name": "stdout",
     "output_type": "stream",
     "text": [
      "Spanning 3 vectors\t01001 + 11101 + 00001\n",
      "Span 8 vectors\t\t{'10101', '01001', '11100', '10100', '00001', '01000', '00000', '11101'}\n"
     ]
    }
   ],
   "source": [
    "span_vecs = list(np.random.choice(space[1:], size=num_vecs, replace=False))\n",
    "spn = span(span_vecs, n, q)\n",
    "\n",
    "print('Spanning {} vector{}\\t{}'.format(num_vecs, 's' if num_vecs != 1 else '', ' + '.join(span_vecs)))\n",
    "print('Span {} vector{}\\t\\t{}'.format(len(spn), 's' if num_vecs != 1 else '', spn))"
   ]
  },
  {
   "cell_type": "markdown",
   "metadata": {},
   "source": [
    "---"
   ]
  },
  {
   "cell_type": "markdown",
   "metadata": {},
   "source": [
    "### Compute the number of distinct k-dim linear subspaces"
   ]
  },
  {
   "cell_type": "markdown",
   "metadata": {},
   "source": [
    "The number of distinct linear subspaces of dim $k$ of a linear space of dim $n$ is $\\frac{(q^n - q^0)(q^n - q^1)...(q^n - q^{k - 1})}{(q^k - q^0)(q^k - q^1)...(q^k - q^{k - 1})}$"
   ]
  },
  {
   "cell_type": "code",
   "execution_count": 10,
   "metadata": {},
   "outputs": [
    {
     "name": "stdout",
     "output_type": "stream",
     "text": [
      "k\tq^k\tbases\tq^n_choose_k\n",
      "\n",
      "0\t1\t1\t1\n",
      "1\t2\t31\t32\n",
      "2\t4\t155\t496\n",
      "3\t8\t155\t4960\n",
      "4\t16\t31\t35960\n",
      "5\t32\t1\t201376\n"
     ]
    }
   ],
   "source": [
    "# Compute the total number of linear subspaces of a linear space of dim n\n",
    "# i.e., compute the number of k-dim linear subspaces for k = 1, ..., n\n",
    "# the \"0-dim\" linear subspace is the trivial subspace {0}\n",
    "\n",
    "print('{}\\t{}\\t{}\\t{}'.format('k', 'q^k', 'bases', 'q^n_choose_k'))\n",
    "print()\n",
    "for k in range(0, n + 1):\n",
    "    print('{}\\t{}\\t{}\\t{}'.format(k, q**k, int(num_lin_sub_k(n, k, q)), len(list(combinations(range(q**n), k)))))"
   ]
  },
  {
   "cell_type": "markdown",
   "metadata": {},
   "source": [
    "---"
   ]
  },
  {
   "cell_type": "markdown",
   "metadata": {},
   "source": [
    "### Compute distinct k-dim bases and their representations"
   ]
  },
  {
   "cell_type": "code",
   "execution_count": 236,
   "metadata": {
    "scrolled": true
   },
   "outputs": [
    {
     "ename": "TypeError",
     "evalue": "'set' object is not subscriptable",
     "output_type": "error",
     "traceback": [
      "\u001b[0;31m---------------------------------------------------------------------------\u001b[0m",
      "\u001b[0;31mTypeError\u001b[0m                                 Traceback (most recent call last)",
      "\u001b[0;32m<ipython-input-236-1fee183f0b0e>\u001b[0m in \u001b[0;36m<module>\u001b[0;34m\u001b[0m\n\u001b[0;32m----> 1\u001b[0;31m \u001b[0mbases\u001b[0m \u001b[0;34m=\u001b[0m \u001b[0mgen_dis_bases\u001b[0m\u001b[0;34m(\u001b[0m\u001b[0mspace\u001b[0m\u001b[0;34m,\u001b[0m \u001b[0mk\u001b[0m\u001b[0;34m=\u001b[0m\u001b[0;36m3\u001b[0m\u001b[0;34m)\u001b[0m\u001b[0;34m\u001b[0m\u001b[0;34m\u001b[0m\u001b[0m\n\u001b[0m",
      "\u001b[0;32m<ipython-input-106-7004304edcef>\u001b[0m in \u001b[0;36mgen_dis_bases\u001b[0;34m(space, k)\u001b[0m\n\u001b[1;32m     49\u001b[0m \u001b[0;34m\u001b[0m\u001b[0m\n\u001b[1;32m     50\u001b[0m         \u001b[0;31m# check if the set of vectors is linearly independent\u001b[0m\u001b[0;34m\u001b[0m\u001b[0;34m\u001b[0m\u001b[0;34m\u001b[0m\u001b[0m\n\u001b[0;32m---> 51\u001b[0;31m         \u001b[0;32mif\u001b[0m \u001b[0mlen\u001b[0m\u001b[0;34m(\u001b[0m\u001b[0mspan\u001b[0m\u001b[0;34m(\u001b[0m\u001b[0mbasis\u001b[0m\u001b[0;34m,\u001b[0m \u001b[0mq\u001b[0m\u001b[0;34m)\u001b[0m\u001b[0;34m)\u001b[0m \u001b[0;34m!=\u001b[0m \u001b[0mq\u001b[0m\u001b[0;34m**\u001b[0m\u001b[0mk\u001b[0m\u001b[0;34m:\u001b[0m\u001b[0;34m\u001b[0m\u001b[0;34m\u001b[0m\u001b[0m\n\u001b[0m\u001b[1;32m     52\u001b[0m             \u001b[0;32mcontinue\u001b[0m\u001b[0;34m\u001b[0m\u001b[0;34m\u001b[0m\u001b[0m\n\u001b[1;32m     53\u001b[0m \u001b[0;34m\u001b[0m\u001b[0m\n",
      "\u001b[0;32m<ipython-input-106-7004304edcef>\u001b[0m in \u001b[0;36mspan\u001b[0;34m(vectors, q)\u001b[0m\n\u001b[1;32m     22\u001b[0m     \u001b[0;31m# verify that all vectors are of length n\u001b[0m\u001b[0;34m\u001b[0m\u001b[0;34m\u001b[0m\u001b[0;34m\u001b[0m\u001b[0m\n\u001b[1;32m     23\u001b[0m     \u001b[0;32mfor\u001b[0m \u001b[0mvector\u001b[0m \u001b[0;32min\u001b[0m \u001b[0mvectors\u001b[0m\u001b[0;34m:\u001b[0m\u001b[0;34m\u001b[0m\u001b[0;34m\u001b[0m\u001b[0m\n\u001b[0;32m---> 24\u001b[0;31m         \u001b[0;32massert\u001b[0m \u001b[0mlen\u001b[0m\u001b[0;34m(\u001b[0m\u001b[0mvector\u001b[0m\u001b[0;34m)\u001b[0m \u001b[0;34m==\u001b[0m \u001b[0mlen\u001b[0m\u001b[0;34m(\u001b[0m\u001b[0mvectors\u001b[0m\u001b[0;34m[\u001b[0m\u001b[0;36m0\u001b[0m\u001b[0;34m]\u001b[0m\u001b[0;34m)\u001b[0m\u001b[0;34m,\u001b[0m \u001b[0;34m'vectors must be of equal length'\u001b[0m\u001b[0;34m\u001b[0m\u001b[0;34m\u001b[0m\u001b[0m\n\u001b[0m\u001b[1;32m     25\u001b[0m \u001b[0;34m\u001b[0m\u001b[0m\n\u001b[1;32m     26\u001b[0m     \u001b[0;31m# remove the zero vector from the set of vectors if it is contained in them\u001b[0m\u001b[0;34m\u001b[0m\u001b[0;34m\u001b[0m\u001b[0;34m\u001b[0m\u001b[0m\n",
      "\u001b[0;31mTypeError\u001b[0m: 'set' object is not subscriptable"
     ]
    }
   ],
   "source": [
    "bases = gen_dis_bases(space, k=3)"
   ]
  },
  {
   "cell_type": "markdown",
   "metadata": {},
   "source": [
    "---"
   ]
  },
  {
   "cell_type": "markdown",
   "metadata": {},
   "source": [
    "### Get a k-dim basis"
   ]
  },
  {
   "cell_type": "code",
   "execution_count": 105,
   "metadata": {},
   "outputs": [
    {
     "ename": "TypeError",
     "evalue": "span() takes 2 positional arguments but 3 were given",
     "output_type": "error",
     "traceback": [
      "\u001b[0;31m---------------------------------------------------------------------------\u001b[0m",
      "\u001b[0;31mTypeError\u001b[0m                                 Traceback (most recent call last)",
      "\u001b[0;32m<ipython-input-105-9e3e8fa6d6d5>\u001b[0m in \u001b[0;36m<module>\u001b[0;34m\u001b[0m\n\u001b[0;32m----> 1\u001b[0;31m \u001b[0mbasis\u001b[0m \u001b[0;34m=\u001b[0m \u001b[0mget_basis\u001b[0m\u001b[0;34m(\u001b[0m\u001b[0mspace\u001b[0m\u001b[0;34m,\u001b[0m \u001b[0mk\u001b[0m\u001b[0;34m=\u001b[0m\u001b[0;36m3\u001b[0m\u001b[0;34m)\u001b[0m\u001b[0;34m\u001b[0m\u001b[0;34m\u001b[0m\u001b[0m\n\u001b[0m\u001b[1;32m      2\u001b[0m \u001b[0mbasis\u001b[0m\u001b[0;34m\u001b[0m\u001b[0;34m\u001b[0m\u001b[0m\n",
      "\u001b[0;32m<ipython-input-58-847134ebc379>\u001b[0m in \u001b[0;36mget_basis\u001b[0;34m(space, k)\u001b[0m\n\u001b[1;32m     61\u001b[0m \u001b[0;34m\u001b[0m\u001b[0m\n\u001b[1;32m     62\u001b[0m \u001b[0;32mdef\u001b[0m \u001b[0mget_basis\u001b[0m \u001b[0;34m(\u001b[0m\u001b[0mspace\u001b[0m\u001b[0;34m,\u001b[0m \u001b[0mk\u001b[0m\u001b[0;34m)\u001b[0m\u001b[0;34m:\u001b[0m\u001b[0;34m\u001b[0m\u001b[0;34m\u001b[0m\u001b[0m\n\u001b[0;32m---> 63\u001b[0;31m     \u001b[0mnum\u001b[0m\u001b[0;34m,\u001b[0m \u001b[0ml\u001b[0m\u001b[0;34m,\u001b[0m \u001b[0mbases\u001b[0m \u001b[0;34m=\u001b[0m \u001b[0mgen_dis_bases\u001b[0m\u001b[0;34m(\u001b[0m\u001b[0mspace\u001b[0m\u001b[0;34m,\u001b[0m \u001b[0mk\u001b[0m\u001b[0;34m)\u001b[0m\u001b[0;34m\u001b[0m\u001b[0;34m\u001b[0m\u001b[0m\n\u001b[0m\u001b[1;32m     64\u001b[0m     \u001b[0;32mreturn\u001b[0m \u001b[0mnp\u001b[0m\u001b[0;34m.\u001b[0m\u001b[0mrandom\u001b[0m\u001b[0;34m.\u001b[0m\u001b[0mchoice\u001b[0m\u001b[0;34m(\u001b[0m\u001b[0mbases\u001b[0m\u001b[0;34m[\u001b[0m\u001b[0mnp\u001b[0m\u001b[0;34m.\u001b[0m\u001b[0mrandom\u001b[0m\u001b[0;34m.\u001b[0m\u001b[0mchoice\u001b[0m\u001b[0;34m(\u001b[0m\u001b[0mnp\u001b[0m\u001b[0;34m.\u001b[0m\u001b[0marray\u001b[0m\u001b[0;34m(\u001b[0m\u001b[0;34m[\u001b[0m\u001b[0mspn\u001b[0m \u001b[0;32mfor\u001b[0m \u001b[0mspn\u001b[0m\u001b[0;34m,\u001b[0m \u001b[0mreprs\u001b[0m \u001b[0;32min\u001b[0m \u001b[0mbases\u001b[0m\u001b[0;34m.\u001b[0m\u001b[0mitems\u001b[0m\u001b[0;34m(\u001b[0m\u001b[0;34m)\u001b[0m\u001b[0;34m]\u001b[0m\u001b[0;34m)\u001b[0m\u001b[0;34m)\u001b[0m\u001b[0;34m]\u001b[0m\u001b[0;34m)\u001b[0m\u001b[0;34m\u001b[0m\u001b[0;34m\u001b[0m\u001b[0m\n\u001b[1;32m     65\u001b[0m \u001b[0;34m\u001b[0m\u001b[0m\n",
      "\u001b[0;32m<ipython-input-58-847134ebc379>\u001b[0m in \u001b[0;36mgen_dis_bases\u001b[0;34m(space, k)\u001b[0m\n\u001b[1;32m     49\u001b[0m \u001b[0;34m\u001b[0m\u001b[0m\n\u001b[1;32m     50\u001b[0m         \u001b[0;31m# check if the set of vectors is linearly independent\u001b[0m\u001b[0;34m\u001b[0m\u001b[0;34m\u001b[0m\u001b[0;34m\u001b[0m\u001b[0m\n\u001b[0;32m---> 51\u001b[0;31m         \u001b[0;32mif\u001b[0m \u001b[0mlen\u001b[0m\u001b[0;34m(\u001b[0m\u001b[0mspan\u001b[0m\u001b[0;34m(\u001b[0m\u001b[0mbasis\u001b[0m\u001b[0;34m,\u001b[0m \u001b[0mn\u001b[0m\u001b[0;34m,\u001b[0m \u001b[0mq\u001b[0m\u001b[0;34m)\u001b[0m\u001b[0;34m)\u001b[0m \u001b[0;34m!=\u001b[0m \u001b[0mq\u001b[0m\u001b[0;34m**\u001b[0m\u001b[0mk\u001b[0m\u001b[0;34m:\u001b[0m\u001b[0;34m\u001b[0m\u001b[0;34m\u001b[0m\u001b[0m\n\u001b[0m\u001b[1;32m     52\u001b[0m             \u001b[0;32mcontinue\u001b[0m\u001b[0;34m\u001b[0m\u001b[0;34m\u001b[0m\u001b[0m\n\u001b[1;32m     53\u001b[0m \u001b[0;34m\u001b[0m\u001b[0m\n",
      "\u001b[0;31mTypeError\u001b[0m: span() takes 2 positional arguments but 3 were given"
     ]
    }
   ],
   "source": [
    "basis = get_basis(space, k=3)\n",
    "basis"
   ]
  },
  {
   "cell_type": "markdown",
   "metadata": {},
   "source": [
    "---"
   ]
  },
  {
   "cell_type": "markdown",
   "metadata": {},
   "source": [
    "### Generate a linear [n, k]-code"
   ]
  },
  {
   "cell_type": "code",
   "execution_count": 55,
   "metadata": {},
   "outputs": [
    {
     "name": "stdout",
     "output_type": "stream",
     "text": [
      "00000\n",
      "00001\n",
      "01110\n",
      "01111\n",
      "10000\n",
      "10001\n",
      "11110\n",
      "11111\n"
     ]
    }
   ],
   "source": [
    "for i in sorted(gen_lin_code(basis, n, q)):\n",
    "    print(i)"
   ]
  },
  {
   "cell_type": "markdown",
   "metadata": {},
   "source": [
    "### Generate a linear [n, k]-code with a generator matrix"
   ]
  },
  {
   "cell_type": "code",
   "execution_count": 238,
   "metadata": {},
   "outputs": [
    {
     "data": {
      "text/plain": [
       "array([[0, 0, 0],\n",
       "       [0, 0, 1],\n",
       "       [0, 0, 2],\n",
       "       [0, 1, 0],\n",
       "       [0, 1, 1],\n",
       "       [0, 1, 2],\n",
       "       [0, 2, 0],\n",
       "       [0, 2, 1],\n",
       "       [0, 2, 2],\n",
       "       [1, 0, 0],\n",
       "       [1, 0, 1],\n",
       "       [1, 0, 2],\n",
       "       [1, 1, 0],\n",
       "       [1, 1, 1],\n",
       "       [1, 1, 2],\n",
       "       [1, 2, 0],\n",
       "       [1, 2, 1],\n",
       "       [1, 2, 2],\n",
       "       [2, 0, 0],\n",
       "       [2, 0, 1],\n",
       "       [2, 0, 2],\n",
       "       [2, 1, 0],\n",
       "       [2, 1, 1],\n",
       "       [2, 1, 2],\n",
       "       [2, 2, 0],\n",
       "       [2, 2, 1],\n",
       "       [2, 2, 2]])"
      ]
     },
     "execution_count": 238,
     "metadata": {},
     "output_type": "execute_result"
    }
   ],
   "source": [
    "n=3\n",
    "q=3\n",
    "messages = np.array(list(list(i) for i in v(n, q)), dtype=int)\n",
    "messages"
   ]
  },
  {
   "cell_type": "code",
   "execution_count": 256,
   "metadata": {},
   "outputs": [
    {
     "data": {
      "text/plain": [
       "array([[0, 0, 1, 0],\n",
       "       [0, 1, 0, 0],\n",
       "       [1, 0, 0, 0]])"
      ]
     },
     "execution_count": 256,
     "metadata": {},
     "output_type": "execute_result"
    }
   ],
   "source": [
    "basis = ['0010', '0100', '1000']\n",
    "generator = np.array(list(list(i) for i in basis), dtype=int)\n",
    "generator"
   ]
  },
  {
   "cell_type": "code",
   "execution_count": 245,
   "metadata": {},
   "outputs": [
    {
     "data": {
      "text/plain": [
       "array([[0, 0, 0, 0],\n",
       "       [1, 0, 0, 0],\n",
       "       [2, 0, 0, 0],\n",
       "       [0, 1, 0, 0],\n",
       "       [1, 1, 0, 0],\n",
       "       [2, 1, 0, 0],\n",
       "       [0, 2, 0, 0],\n",
       "       [1, 2, 0, 0],\n",
       "       [2, 2, 0, 0],\n",
       "       [0, 0, 1, 0],\n",
       "       [1, 0, 1, 0],\n",
       "       [2, 0, 1, 0],\n",
       "       [0, 1, 1, 0],\n",
       "       [1, 1, 1, 0],\n",
       "       [2, 1, 1, 0],\n",
       "       [0, 2, 1, 0],\n",
       "       [1, 2, 1, 0],\n",
       "       [2, 2, 1, 0],\n",
       "       [0, 0, 2, 0],\n",
       "       [1, 0, 2, 0],\n",
       "       [2, 0, 2, 0],\n",
       "       [0, 1, 2, 0],\n",
       "       [1, 1, 2, 0],\n",
       "       [2, 1, 2, 0],\n",
       "       [0, 2, 2, 0],\n",
       "       [1, 2, 2, 0],\n",
       "       [2, 2, 2, 0]])"
      ]
     },
     "execution_count": 245,
     "metadata": {},
     "output_type": "execute_result"
    }
   ],
   "source": [
    "np.mod(np.dot(messages, generator), q)"
   ]
  },
  {
   "cell_type": "markdown",
   "metadata": {},
   "source": [
    "---"
   ]
  },
  {
   "cell_type": "markdown",
   "metadata": {},
   "source": [
    "get_cosets (there are $q^{n-k}$ cosets)\n",
    "1. each codeword of the linear code is the leader of its own group\n",
    "2. for i in $q^{n-k}$\n",
    "  1. "
   ]
  },
  {
   "cell_type": "code",
   "execution_count": 255,
   "metadata": {},
   "outputs": [
    {
     "data": {
      "text/html": [
       "<div>\n",
       "<style scoped>\n",
       "    .dataframe tbody tr th:only-of-type {\n",
       "        vertical-align: middle;\n",
       "    }\n",
       "\n",
       "    .dataframe tbody tr th {\n",
       "        vertical-align: top;\n",
       "    }\n",
       "\n",
       "    .dataframe thead th {\n",
       "        text-align: right;\n",
       "    }\n",
       "</style>\n",
       "<table border=\"1\" class=\"dataframe\">\n",
       "  <thead>\n",
       "    <tr style=\"text-align: right;\">\n",
       "      <th></th>\n",
       "      <th>0</th>\n",
       "      <th>1</th>\n",
       "      <th>2</th>\n",
       "      <th>3</th>\n",
       "      <th>4</th>\n",
       "      <th>5</th>\n",
       "      <th>6</th>\n",
       "      <th>7</th>\n",
       "      <th>8</th>\n",
       "    </tr>\n",
       "  </thead>\n",
       "  <tbody>\n",
       "    <tr>\n",
       "      <th>0</th>\n",
       "      <td>0000</td>\n",
       "      <td>0101</td>\n",
       "      <td>0202</td>\n",
       "      <td>2120</td>\n",
       "      <td>1011</td>\n",
       "      <td>2022</td>\n",
       "      <td>1210</td>\n",
       "      <td>1112</td>\n",
       "      <td>2221</td>\n",
       "    </tr>\n",
       "    <tr>\n",
       "      <th>1</th>\n",
       "      <td>2222</td>\n",
       "      <td>2020</td>\n",
       "      <td>2121</td>\n",
       "      <td>1012</td>\n",
       "      <td>0200</td>\n",
       "      <td>1211</td>\n",
       "      <td>0102</td>\n",
       "      <td>0001</td>\n",
       "      <td>1110</td>\n",
       "    </tr>\n",
       "    <tr>\n",
       "      <th>2</th>\n",
       "      <td>2220</td>\n",
       "      <td>2021</td>\n",
       "      <td>2122</td>\n",
       "      <td>1010</td>\n",
       "      <td>0201</td>\n",
       "      <td>1212</td>\n",
       "      <td>0100</td>\n",
       "      <td>0002</td>\n",
       "      <td>1111</td>\n",
       "    </tr>\n",
       "    <tr>\n",
       "      <th>3</th>\n",
       "      <td>2212</td>\n",
       "      <td>2010</td>\n",
       "      <td>2111</td>\n",
       "      <td>1002</td>\n",
       "      <td>0220</td>\n",
       "      <td>1201</td>\n",
       "      <td>0122</td>\n",
       "      <td>0021</td>\n",
       "      <td>1100</td>\n",
       "    </tr>\n",
       "    <tr>\n",
       "      <th>4</th>\n",
       "      <td>2211</td>\n",
       "      <td>2012</td>\n",
       "      <td>2110</td>\n",
       "      <td>1001</td>\n",
       "      <td>0222</td>\n",
       "      <td>1200</td>\n",
       "      <td>0121</td>\n",
       "      <td>0020</td>\n",
       "      <td>1102</td>\n",
       "    </tr>\n",
       "    <tr>\n",
       "      <th>5</th>\n",
       "      <td>2210</td>\n",
       "      <td>2011</td>\n",
       "      <td>2112</td>\n",
       "      <td>1000</td>\n",
       "      <td>0221</td>\n",
       "      <td>1202</td>\n",
       "      <td>0120</td>\n",
       "      <td>0022</td>\n",
       "      <td>1101</td>\n",
       "    </tr>\n",
       "    <tr>\n",
       "      <th>6</th>\n",
       "      <td>2202</td>\n",
       "      <td>2000</td>\n",
       "      <td>2101</td>\n",
       "      <td>1022</td>\n",
       "      <td>0210</td>\n",
       "      <td>1221</td>\n",
       "      <td>0112</td>\n",
       "      <td>0011</td>\n",
       "      <td>1120</td>\n",
       "    </tr>\n",
       "    <tr>\n",
       "      <th>7</th>\n",
       "      <td>2201</td>\n",
       "      <td>2002</td>\n",
       "      <td>2100</td>\n",
       "      <td>1021</td>\n",
       "      <td>0212</td>\n",
       "      <td>1220</td>\n",
       "      <td>0111</td>\n",
       "      <td>0010</td>\n",
       "      <td>1122</td>\n",
       "    </tr>\n",
       "    <tr>\n",
       "      <th>8</th>\n",
       "      <td>2200</td>\n",
       "      <td>2001</td>\n",
       "      <td>2102</td>\n",
       "      <td>1020</td>\n",
       "      <td>0211</td>\n",
       "      <td>1222</td>\n",
       "      <td>0110</td>\n",
       "      <td>0012</td>\n",
       "      <td>1121</td>\n",
       "    </tr>\n",
       "  </tbody>\n",
       "</table>\n",
       "</div>"
      ],
      "text/plain": [
       "      0     1     2     3     4     5     6     7     8\n",
       "0  0000  0101  0202  2120  1011  2022  1210  1112  2221\n",
       "1  2222  2020  2121  1012  0200  1211  0102  0001  1110\n",
       "2  2220  2021  2122  1010  0201  1212  0100  0002  1111\n",
       "3  2212  2010  2111  1002  0220  1201  0122  0021  1100\n",
       "4  2211  2012  2110  1001  0222  1200  0121  0020  1102\n",
       "5  2210  2011  2112  1000  0221  1202  0120  0022  1101\n",
       "6  2202  2000  2101  1022  0210  1221  0112  0011  1120\n",
       "7  2201  2002  2100  1021  0212  1220  0111  0010  1122\n",
       "8  2200  2001  2102  1020  0211  1222  0110  0012  1121"
      ]
     },
     "execution_count": 255,
     "metadata": {},
     "output_type": "execute_result"
    }
   ],
   "source": [
    "def gen_cosets (C, q):\n",
    "    \"\"\"take a linear subspace of V(n, q) over GF(q) and return the cosets of the linear space\"\"\"\n",
    "    space = v(len(list(C)[0]), q)\n",
    "    space = sorted(space, key=lambda x: vector_weight(x))\n",
    "    \n",
    "    space = sorted(space, key=lambda x: int(x), reverse=True)\n",
    "    cosets = defaultdict(list)\n",
    "    \n",
    "    # the first coset is the linear subspace itself\n",
    "    C = sorted(C, key=lambda x: vector_weight(x))\n",
    "    cosets[C[0]].extend(C[1:])\n",
    "    for codeword in C:\n",
    "        space.remove(codeword)\n",
    "        \n",
    "    while space:\n",
    "        temp = []\n",
    "        vector = space.pop(0)\n",
    "        for codeword in C:\n",
    "            vs = vector_sum([codeword, vector], q)\n",
    "            temp.append(vs)\n",
    "            if vs in space:\n",
    "                space.remove(vs)\n",
    "        #temp = sorted(temp, key=lambda x: vector_weight(x))\n",
    "        \n",
    "        cosets[temp[0]].extend(temp[1:])\n",
    "        if vector in space:\n",
    "            space.remove(vector)\n",
    "    return cosets\n",
    "\n",
    "q=3\n",
    "cosets=gen_cosets(linear_code(['1011','0101'], q), q)\n",
    "cosets\n",
    "df = pd.DataFrame((k, *v) for k, v in cosets.items())\n",
    "df"
   ]
  },
  {
   "cell_type": "code",
   "execution_count": null,
   "metadata": {},
   "outputs": [],
   "source": []
  }
 ],
 "metadata": {
  "kernelspec": {
   "display_name": "Python 3",
   "language": "python",
   "name": "python3"
  },
  "language_info": {
   "codemirror_mode": {
    "name": "ipython",
    "version": 3
   },
   "file_extension": ".py",
   "mimetype": "text/x-python",
   "name": "python",
   "nbconvert_exporter": "python",
   "pygments_lexer": "ipython3",
   "version": "3.9.0"
  }
 },
 "nbformat": 4,
 "nbformat_minor": 4
}
