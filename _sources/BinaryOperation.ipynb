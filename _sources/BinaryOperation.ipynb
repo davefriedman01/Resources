{
 "cells": [
  {
   "cell_type": "markdown",
   "id": "1700db0d-b3e3-4e78-af03-6c26760eecb2",
   "metadata": {},
   "source": [
    "# Operation"
   ]
  },
  {
   "cell_type": "markdown",
   "id": "37e77b4d-fd3c-4304-8525-c1b7aeae78f7",
   "metadata": {},
   "source": [
    "__Binary Operation__<br>\n",
    "Let $A$ be a nonempty set.<br>\n",
    "A binary operation on A is a function from $A \\times A$ to $A$."
   ]
  }
 ],
 "metadata": {
  "kernelspec": {
   "display_name": "Python 3",
   "language": "python",
   "name": "python3"
  },
  "language_info": {
   "codemirror_mode": {
    "name": "ipython",
    "version": 3
   },
   "file_extension": ".py",
   "mimetype": "text/x-python",
   "name": "python",
   "nbconvert_exporter": "python",
   "pygments_lexer": "ipython3",
   "version": "3.8.2"
  }
 },
 "nbformat": 4,
 "nbformat_minor": 5
}
