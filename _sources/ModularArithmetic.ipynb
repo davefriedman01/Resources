{
 "cells": [
  {
   "cell_type": "markdown",
   "id": "2b2fceba-dcb5-4009-8e9e-6aab07ede81f",
   "metadata": {},
   "source": [
    "# Modular Arithmetic"
   ]
  },
  {
   "cell_type": "markdown",
   "id": "1c3111cc-2454-4e1c-8938-de9a3eed8c4d",
   "metadata": {},
   "source": [
    "---"
   ]
  },
  {
   "cell_type": "markdown",
   "id": "c9800e36-06cf-4f16-9b85-58eecdebef68",
   "metadata": {},
   "source": [
    "### Equivalence Class\n",
    "\n",
    "<span style=\"color: blue\">**DEFINITION**</span><br>\n",
    "Let $R$ be an equivalence relation on $A$.<br>\n",
    "The equivalence class of $x \\in A$ determined by $R$ is the set $x/R = \\{y \\in A : x R y\\}$ which is read \"x mod R\".<br>\n",
    "The set of all equivalence classes determined by $R$ is $A/R = \\{x/R : x \\in A\\}$ which is read \"A mod R\".<br>"
   ]
  },
  {
   "cell_type": "markdown",
   "id": "422a4444-28cb-4bfd-b701-08fdc7e271b3",
   "metadata": {},
   "source": [
    "---"
   ]
  },
  {
   "cell_type": "markdown",
   "id": "2451c51b-c563-48e3-a460-0c6afbaf4bed",
   "metadata": {},
   "source": [
    "### Congruence modulo $m$\n",
    "\n",
    "<span style=\"color: blue\">**DEFINITION**</span><br>\n",
    "Let $\\equiv_m$ (for a fixed integer $m \\ne 0$) be the relation (not necessarily the _equivalence_ relation, which will be proved later) on $\\mathbb{Z}$ given by\n",
    "\n",
    "$$\n",
    "x \\equiv_m y\\,\\,\\text{iff}\\,\\, m \\,\\,\\text{divides}\\,\\, (x - y)\n",
    "$$"
   ]
  },
  {
   "cell_type": "markdown",
   "id": "64c6c3af-0355-42e8-80e6-4d7c74b741ac",
   "metadata": {},
   "source": [
    "The equivalence class of $x \\in \\mathbb{Z}$ determined by $\\equiv_m$ is the set $\\bar{x} = \\{y \\in \\mathbb{Z} : x \\equiv_m y\\}$.<br>\n",
    "The set of equivalence classes determined by $\\equiv_m$ is $\\mathbb{Z}_m = \\{\\bar{0}, \\bar{1}, \\bar{2}, ..., \\overline{(m - 1)}\\}$.<br>"
   ]
  },
  {
   "cell_type": "markdown",
   "id": "950175be-7549-4208-bb98-b99fae6eedc1",
   "metadata": {},
   "source": [
    "<span style=\"color: blue\">Notation</span><br>\n",
    "$x \\equiv_m y$ may be written $x \\equiv y \\,(\\text{mod}\\, m)$ or $x = y \\,(\\text{mod}\\, m)$<br>\n",
    "In this context, we write $\\bar{x}$ for the equivalence class of $x$ instead of $x/\\equiv_m$.<br>\n",
    "An equivalence class may be called a congruence class or a residue, since $0, 1, 2, ..., (m - 1)$ are exactly all the possible remainders when integers are divided by $m$.<br>"
   ]
  },
  {
   "cell_type": "markdown",
   "id": "7315234b-dbba-4896-bba9-3a60056cc363",
   "metadata": {},
   "source": [
    "---"
   ]
  },
  {
   "cell_type": "markdown",
   "id": "d0ead667-6b94-48fa-803c-bcccc809ad00",
   "metadata": {},
   "source": [
    "### Theorem\n",
    "\n",
    "$\\equiv_m$ is an equivalence relation on $\\mathbb{Z}$.<br>\n",
    "The set $\\mathbb{Z}_m$ has $m$ distinct elements $\\{\\bar{0}, \\bar{1}, \\bar{2}, ..., \\overline{(m - 1)}\\}$.<br>"
   ]
  },
  {
   "cell_type": "markdown",
   "id": "350c187c-162b-4877-8294-20ca240596e8",
   "metadata": {},
   "source": [
    "---"
   ]
  }
 ],
 "metadata": {
  "kernelspec": {
   "display_name": "Python 3",
   "language": "python",
   "name": "python3"
  },
  "language_info": {
   "codemirror_mode": {
    "name": "ipython",
    "version": 3
   },
   "file_extension": ".py",
   "mimetype": "text/x-python",
   "name": "python",
   "nbconvert_exporter": "python",
   "pygments_lexer": "ipython3",
   "version": "3.8.2"
  }
 },
 "nbformat": 4,
 "nbformat_minor": 5
}
