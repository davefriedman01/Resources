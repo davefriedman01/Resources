{
 "cells": [
  {
   "cell_type": "markdown",
   "id": "a7c5b33a-8546-4be4-8f65-f5268f251550",
   "metadata": {},
   "source": [
    "# Complex Numbers"
   ]
  },
  {
   "cell_type": "markdown",
   "id": "3697a1ae-fb00-4e49-bcf1-c33888a1622f",
   "metadata": {},
   "source": [
    "---"
   ]
  },
  {
   "cell_type": "markdown",
   "id": "adb530c6-1103-4172-9b07-99407e2d66bf",
   "metadata": {},
   "source": [
    "## What is a complex number?"
   ]
  },
  {
   "cell_type": "markdown",
   "id": "b1f01b91-1842-4185-aaed-8cb0c8321207",
   "metadata": {},
   "source": [
    "<span style=\"color: blue\">**DEFINITION**</span><br>\n",
    "A complex number is an ordered pair $(a, b)$ where $a, b \\in \\mathbb{R}$.<br>\n",
    "A complex number may take the form $z = a + bi$ where $i$ is defined in the following way.<br>\n",
    "$i \\overset{\\text{def}}= \\sqrt{-1}$<br>\n",
    "$i^2 = \\sqrt{-1}\\sqrt{-1} = -1$<br>\n",
    "$i^3 = ii^2 = -i$<br>\n",
    "$i^4 = ii^3 = -ii = -i^2 = 1 = i^0$<br>"
   ]
  },
  {
   "cell_type": "markdown",
   "id": "96db3fb1-65ed-4da5-871a-fecb42a74066",
   "metadata": {},
   "source": [
    "#### The set of complex numbers\n",
    "\n",
    "$\\mathbb{C} = \\{a + bi : a, b \\in \\mathbb{R}\\}$"
   ]
  },
  {
   "cell_type": "markdown",
   "id": "4a743b45-e3d0-4e55-992a-919bfef6418f",
   "metadata": {},
   "source": [
    "#### The real part of a complex number\n",
    "\n",
    "Let $z = a + bi$ where $a, b \\in \\mathbb{R}$ be a complex number.<br>\n",
    "The real part of $z$, denoted Re $z$, is defined to be $a$.<br>\n",
    "$a + 0i = a$ where $a, 0 \\in \\mathbb{R}$<br>"
   ]
  },
  {
   "cell_type": "markdown",
   "id": "fd4f4447-bf84-47a0-beb4-c6289f8ccecd",
   "metadata": {},
   "source": [
    "#### The imaginary part of a complex number\n",
    "\n",
    "Let $z = a + bi$ where $a, b \\in \\mathbb{R}$ be a complex number.<br>\n",
    "The imaginary part of $z$, denoted Im $z$, is defined to be $b$.<br>\n",
    "$0 + bi = bi$ where $b, 0 \\in \\mathbb{R}$<br>"
   ]
  },
  {
   "cell_type": "markdown",
   "id": "82d1c8e0-e527-4ce9-9007-e5b20c3149b0",
   "metadata": {},
   "source": [
    "---"
   ]
  },
  {
   "cell_type": "markdown",
   "id": "33098cb0-abe2-42f0-bcf8-9ea34d5b122c",
   "metadata": {},
   "source": [
    "## Properties of complex numbers"
   ]
  },
  {
   "cell_type": "markdown",
   "id": "47afcd41-f9e2-4f73-bd2d-004f728f8908",
   "metadata": {},
   "source": [
    "#### Commutativity\n",
    "$\\alpha + \\beta = \\beta + \\alpha$<br>\n",
    "$\\alpha\\beta = \\beta\\alpha$<br>\n",
    "$\\forall \\alpha, \\beta \\in \\mathbb{C}$<br>\n",
    "\n",
    "Proof of Multiplicative Commutativity<br>\n",
    "Let $\\alpha = a + bi$ and $\\beta = c + di$ where $a, b, c, d \\in \\mathbb{R}$.<br>\n",
    "\n",
    "$\n",
    "\\begin{align}\n",
    "\\alpha\\beta &= (a + bi)(c + di) \\\\\n",
    "&= ac + adi + bci + bdi^2 \\\\\n",
    "&= (c + di)a + (c + di)bi \\\\\n",
    "&= (c + di)(a + bi) \\\\\n",
    "&= \\beta\\alpha \\\\\n",
    "\\end{align}\n",
    "$"
   ]
  },
  {
   "cell_type": "markdown",
   "id": "57997cdb-16bf-4757-bc64-3da95cbd098d",
   "metadata": {},
   "source": [
    "#### Associativity\n",
    "$(\\alpha + \\beta) + \\lambda = \\alpha + (\\beta + \\lambda)$<br>\n",
    "$(\\alpha\\beta)\\lambda = \\alpha(\\beta\\lambda)$<br>\n",
    "$\\forall \\alpha, \\beta, \\lambda \\in \\mathbb{C}$<br>"
   ]
  },
  {
   "cell_type": "markdown",
   "id": "44e7485a-5968-4d29-8754-e4b85dc83214",
   "metadata": {},
   "source": [
    "#### Existence of Identity Element\n",
    "$\\lambda + 0 = \\lambda$<br>\n",
    "$\\lambda 1 = \\lambda$<br>\n",
    "$\\forall \\lambda \\in \\mathbb{C}$<br>"
   ]
  },
  {
   "cell_type": "markdown",
   "id": "cc83823e-939f-41ee-9749-d2f570ff0d20",
   "metadata": {},
   "source": [
    "#### Existence of Inverse Elements\n",
    "$\\forall \\alpha \\in \\mathbb{C}$, $\\exists \\beta \\in \\mathbb{C}$ s.t. $\\alpha + \\beta = 0$<br>\n",
    "The additive inverse of an element $\\alpha$ is denoted $-\\alpha$.<br>\n",
    "$\\forall \\alpha \\in \\mathbb{C}$ with $\\alpha \\neq 0$, $\\exists \\beta \\in \\mathbb{C}$ s.t. $\\alpha\\beta = 1$<br>\n",
    "The multiplicative inverse of an element $\\alpha \\neq 0$ is denoted $\\alpha^{-1}$.<br>"
   ]
  },
  {
   "cell_type": "markdown",
   "id": "eff6a512-57d1-436c-9efd-6ffbc7453834",
   "metadata": {},
   "source": [
    "#### Distributivity\n",
    "$\\lambda(\\alpha + \\beta) = \\lambda\\alpha + \\lambda\\beta$<br>\n",
    "$\\forall \\lambda, \\alpha, \\beta \\in \\mathbb{C}$<br>"
   ]
  },
  {
   "cell_type": "markdown",
   "id": "c30bedac-464e-429d-922b-a439f98cec50",
   "metadata": {},
   "source": [
    "---"
   ]
  },
  {
   "cell_type": "markdown",
   "id": "b9a5be8a-ac5b-40a8-910d-b2370e186421",
   "metadata": {},
   "source": [
    "## Operations on complex numbers"
   ]
  },
  {
   "cell_type": "markdown",
   "id": "3ef81e4e-8648-49fe-b64a-0ddbda1adf65",
   "metadata": {},
   "source": [
    "#### Complex Addition\n",
    "\n",
    "$(a + bi) + (c + di) = (a + c) + (b + d)i$ where $a, b, c, d \\in \\mathbb{R}$<br>\n",
    "\n",
    "Derivation<br>\n",
    "\n",
    "$\n",
    "(a + bi) + (c + di)\n",
    "=\n",
    "a + c + bi + di\n",
    "=\n",
    "(a + c) + (b + d)i\n",
    "$"
   ]
  },
  {
   "cell_type": "markdown",
   "id": "c3b9c723-888b-422c-8130-c0ebe7587ccc",
   "metadata": {},
   "source": [
    "#### Complex Multiplication\n",
    "$(a + bi)(c + di) = (ac - bd) + (ad + bc)i$ where $a, b, c, d \\in \\mathbb{R}$<br>\n",
    "\n",
    "Derivation<br>\n",
    "\n",
    "$\n",
    "(a + bi)(c + di)\n",
    "=\n",
    "ac + adi + bci + bdi^2\n",
    "=\n",
    "ac + bdi^2 + adi + bci\n",
    "=\n",
    "ac - bd + adi + bci\n",
    "=\n",
    "(ac - bd) + (ad + bc)i\n",
    "$"
   ]
  },
  {
   "cell_type": "markdown",
   "id": "5ad2510e-9101-4990-8e0b-8bb534d62881",
   "metadata": {},
   "source": [
    "#### Complex Substraction\n",
    "$\\beta - \\alpha \\equiv \\beta + (-\\alpha)$<br>"
   ]
  },
  {
   "cell_type": "markdown",
   "id": "c3f1a28d-6ca7-47d5-9b52-b955c73f78c5",
   "metadata": {},
   "source": [
    "#### Complex Division\n",
    "$\\frac{\\beta}{\\alpha} \\equiv \\beta\\alpha^{-1}$<br>"
   ]
  },
  {
   "cell_type": "markdown",
   "id": "22705987-8e80-47e5-b25a-fa5c3ff05fc0",
   "metadata": {},
   "source": [
    "---"
   ]
  },
  {
   "cell_type": "markdown",
   "id": "a22d9f43-035c-4445-acf3-9bd98564f722",
   "metadata": {},
   "source": [
    "### Complex Conjugate of a complex number\n",
    "\n",
    "<span style=\"color: blue\">**DEFINITION**</span><br>\n",
    "Let $z \\in \\mathbb{C}$.<br>\n",
    "The complex conjugate of $z$ is $\\bar{z} \\overset{\\text{def}}= \\,(\\text{Re}\\, z) - \\,(\\text{Im}\\, z) i$.<br>\n",
    "If $z = a + bi$, then $\\bar{z} = a - bi$.<br>"
   ]
  },
  {
   "cell_type": "markdown",
   "id": "ae1dd6b8-6d4c-41f6-999d-5d859f3cd305",
   "metadata": {},
   "source": [
    "### Absolute Value of a complex number\n",
    "\n",
    "<span style=\"color: blue\">**DEFINITION**</span><br>\n",
    "Let $z \\in \\mathbb{C}$.<br>\n",
    "The absolute value of $z$ is $|z| \\overset{\\text{def}}= \\sqrt{\\,(\\text{Re}\\, z)^2 + \\,(\\text{Im}\\, z)^2}$.<br>\n",
    "If $z = a + bi$, then $|z| = \\sqrt{a^2 + b^2}$.<br>"
   ]
  },
  {
   "cell_type": "markdown",
   "id": "b52cd52c-394c-45d9-8452-342a669f5e29",
   "metadata": {},
   "source": [
    "__Claim__<br>\n",
    "$\\forall z \\in \\mathbb{C}, |z| \\ge 0$. (The absolute value of any complex number is nonnegative.)<br>\n",
    "\n",
    "__Proof__<br>\n",
    "\n",
    "This follows from the fact that the sum of squares of a collection of real numbers is nonnegative.<br>\n",
    "\n",
    "$\\blacksquare$<br>"
   ]
  },
  {
   "cell_type": "markdown",
   "id": "3f78420e-c75c-47b3-ada1-82d6e54b7253",
   "metadata": {},
   "source": [
    "__Claim__<br>\n",
    "If $z \\in \\mathbb{R}$, then $z = \\bar{z}$. (The complex conjugate of a real number is itself.)<br>\n",
    "\n",
    "__Proof__<br>\n",
    "\n",
    "$z = a + 0i = a = a - 0i = \\bar{z}$<br>\n",
    "\n",
    "$\\blacksquare$<br>"
   ]
  },
  {
   "cell_type": "markdown",
   "id": "34d4e342-774d-4bd4-8009-59d2fe1cb649",
   "metadata": {},
   "source": [
    "### Operations on a complex number and its conjugate"
   ]
  },
  {
   "cell_type": "markdown",
   "id": "cfe3a755-9354-4ec0-968f-e8994ab3d387",
   "metadata": {},
   "source": [
    "#### Sum of $z$ and $\\bar{z}$\n",
    "\n",
    "Let $z \\in \\mathbb{C}$.<br>\n",
    "$z + \\bar{z} = 2a$<br>\n",
    "\n",
    "__Proof__<br>\n",
    "\n",
    "$\n",
    "\\begin{align}\n",
    "z + \\bar{z}\n",
    "&= (a + bi) + (a - bi) \\\\\n",
    "&= a + bi + a - bi \\\\\n",
    "&= 2a + bi - bi \\\\\n",
    "&= 2a\n",
    "\\end{align}\n",
    "$<br>\n",
    "\n",
    "$\\blacksquare$<br>"
   ]
  },
  {
   "cell_type": "markdown",
   "id": "a2723ea8-1d94-4516-a1ff-4972a0803c5d",
   "metadata": {},
   "source": [
    "#### Difference of $z$ and $\\bar{z}$\n",
    "\n",
    "Let $z \\in \\mathbb{C}$.<br>\n",
    "$z - \\bar{z} = 2bi$<br>\n",
    "\n",
    "__Proof__<br>\n",
    "\n",
    "$\n",
    "\\begin{align}\n",
    "z - \\bar{z}\n",
    "&= (a + bi) - (a - bi) \\\\\n",
    "&= a + bi - a + bi \\\\\n",
    "&= 2bi + a - a \\\\\n",
    "&= 2bi\n",
    "\\end{align}\n",
    "$<br>\n",
    "\n",
    "$\\blacksquare$<br>"
   ]
  },
  {
   "cell_type": "markdown",
   "id": "e6488dc1-3aa1-4644-a749-5580c3c3c529",
   "metadata": {},
   "source": [
    "#### Product of $z$ and $\\bar{z}$\n",
    "\n",
    "Let $z \\in \\mathbb{C}$.<br>\n",
    "$z \\bar{z} = |z|^2$<br>\n",
    "\n",
    "__Proof__<br>\n",
    "\n",
    "$\n",
    "\\begin{align}\n",
    "z \\bar{z}\n",
    "&= (a + bi) (a - bi) \\\\\n",
    "&= a^2 - abi + abi - (bi)^2 \\\\\n",
    "&= a^2 - b^2 i^2 \\\\\n",
    "&= a^2 + b^2 \\\\\n",
    "&= (\\sqrt{a^2 + b^2})^2 \\\\\n",
    "&= |z|^2\n",
    "\\end{align}\n",
    "$<br>\n",
    "\n",
    "$\\blacksquare$<br>"
   ]
  },
  {
   "cell_type": "markdown",
   "id": "b3e08d95-96e0-4753-853f-5a923748c1d0",
   "metadata": {},
   "source": [
    "### Properties of the complex conjugate and the absolute value of a complex number"
   ]
  },
  {
   "cell_type": "markdown",
   "id": "4236483c-e594-4a2e-8176-2d97d3445024",
   "metadata": {},
   "source": [
    "#### Additivity of the complex conjugate\n",
    "\n",
    "Let $w, z \\in \\mathbb{C}$.<br>\n",
    "$\\overline{w + z} = \\bar{w} + \\bar{z}$<br>\n",
    "\n",
    "__Proof__<br>\n",
    "\n",
    "$\n",
    "\\begin{align}\n",
    "w + z\n",
    "&= (a + bi) + (c + di) \\\\\n",
    "&= (a + c) + (b + d)i \\\\\n",
    "\\overline{w + z}\n",
    "&= (a + c) - (b + d)i \\\\\n",
    "&= a + c - bi - di \\\\\n",
    "&= (a - bi) + (c - di) \\\\\n",
    "&= \\bar{w} + \\bar{z} \\\\\n",
    "\\end{align}\n",
    "$<br>\n",
    "\n",
    "$\\blacksquare$<br>"
   ]
  },
  {
   "cell_type": "markdown",
   "id": "578cc008-93f9-4779-8626-2f3f84fb07ed",
   "metadata": {},
   "source": [
    "#### Multiplicativity of the complex conjugate\n",
    "\n",
    "Let $w, z \\in \\mathbb{C}$.<br>\n",
    "$\\overline{w z} = \\bar{w} \\bar{z}$<br>\n",
    "\n",
    "__Proof__<br>\n",
    "\n",
    "$\n",
    "\\begin{align}\n",
    "w z\n",
    "&= (a + bi) (c + di) \\\\\n",
    "&= ac + adi + bci + bdi^2 \\\\\n",
    "&= (ac - bd) + (ad + bc)i \\\\\n",
    "\\overline{w z}\n",
    "&= (ac - bd) - (ad + bc)i \\\\\n",
    "&= ac - bd - adi - bci \\\\\n",
    "&= ac - adi - bci + bdi^2 \\\\\n",
    "&= (a - bi) (c - di) \\\\\n",
    "&= \\bar{w} \\bar{z} \\\\\n",
    "\\end{align}\n",
    "$<br>\n",
    "\n",
    "$\\blacksquare$<br>"
   ]
  },
  {
   "cell_type": "markdown",
   "id": "997ab8c3-f78e-46cd-b50e-4977ee1e94f5",
   "metadata": {},
   "source": [
    "#### Conjugate of the conjugate\n",
    "\n",
    "Let $z \\in \\mathbb{C}$.<br>\n",
    "$\\bar{\\bar{z}} = z$<br>\n",
    "\n",
    "__Proof__<br>\n",
    "\n",
    "$\n",
    "\\begin{align}\n",
    "\\bar{z}\n",
    "&= a - bi \\\\\n",
    "&= (a) + (-b)i \\\\\n",
    "\\bar{\\bar{z}}\n",
    "&= (a) - (-b)i \\\\\n",
    "&= a + bi \\\\\n",
    "&= z \\\\\n",
    "\\end{align}\n",
    "$<br>\n",
    "\n",
    "$\\blacksquare$<br>"
   ]
  },
  {
   "cell_type": "markdown",
   "id": "c6cb8d9a-3333-43e3-a282-2d8580a2b13c",
   "metadata": {},
   "source": [
    "#### Boundedness\n",
    "\n",
    "Let $z \\in \\mathbb{C}$.<br>\n",
    "$|a| \\le |z|$ and $|b| \\le |z|$<br>\n",
    "\n",
    "__Proof__<br>\n",
    "\n",
    "$\n",
    "\\begin{align}\n",
    "|a|\n",
    "&= \\sqrt{a^2} \\\\\n",
    "&\\le \\sqrt{a^2 + b^2} \\\\\n",
    "&= |z|\n",
    "\\end{align}\n",
    "$<br>\n",
    "\n",
    "$\\blacksquare$<br>"
   ]
  },
  {
   "cell_type": "markdown",
   "id": "fbeefe52-6e1d-4533-8673-aad7d251d24a",
   "metadata": {},
   "source": [
    "#### Absolute value of the complex conjugate\n",
    "\n",
    "Let $z \\in \\mathbb{C}$.<br>\n",
    "$|\\bar{z}| = |z|$<br>\n",
    "\n",
    "__Proof__<br>\n",
    "\n",
    "$\n",
    "\\begin{align}\n",
    "\\bar{z}\n",
    "&= a - bi \\\\\n",
    "&= (a) + (-b)i \\\\\n",
    "|\\bar{z}|\n",
    "&= \\sqrt{(a)^2 + (-b)^2} \\\\\n",
    "&= \\sqrt{a^2 + b^2} \\\\\n",
    "&= |z| \\\\\n",
    "\\end{align}\n",
    "$<br>\n",
    "\n",
    "$\\blacksquare$<br>"
   ]
  },
  {
   "cell_type": "markdown",
   "id": "38f5656e-9d8f-46b4-aad1-6a3d9f597d91",
   "metadata": {},
   "source": [
    "#### Multiplicativity of the absolute value\n",
    "\n",
    "Let $w, z \\in \\mathbb{C}$.<br>\n",
    "$|w||z| = |wz|$<br>\n",
    "\n",
    "__Proof__<br>\n",
    "\n",
    "$\n",
    "\\begin{align}\n",
    "wz\n",
    "&= (a + bi) (c + di) \\\\\n",
    "&= ac + adi + bci + bdi^2 \\\\\n",
    "&= (ac - bd) + (ad + bc)i \\\\\n",
    "|wz|\n",
    "&= \\sqrt{(ac - bd)^2 + (ad + bc)^2} \\\\\n",
    "&= \\sqrt{(ac)^2 - 2abcd + (bd)^2 + (ad)^2 + 2abcd + (bc)^2} \\\\\n",
    "&= \\sqrt{(ac)^2 + (bd)^2 + (ad)^2 + (bc)^2} \\\\\n",
    "&= \\sqrt{(ac)^2 + (ad)^2 + (bd)^2 + (bc)^2} \\\\\n",
    "&= \\sqrt{a^2(c^2 + d^2) + b^2(c^2 + d^2)} \\\\\n",
    "&= \\sqrt{(a^2 + b^2)(c^2 + d^2)} \\\\\n",
    "&= \\sqrt{a^2 + b^2} \\sqrt{c^2 + d^2} \\\\\n",
    "&= |w||z| \\\\\n",
    "\\end{align}\n",
    "$<br>\n",
    "\n",
    "$\\blacksquare$<br>"
   ]
  },
  {
   "cell_type": "markdown",
   "id": "af2034bf-9957-49d2-9d38-338ca8ac38f8",
   "metadata": {},
   "source": [
    "#### Triangle Inequality\n",
    "\n",
    "Let $w, z \\in \\mathbb{C}$.<br>\n",
    "$|w + z| \\le |w| + |z|$<br>\n",
    "\n",
    "__Proof__<br>\n",
    "\n",
    "$\n",
    "\\begin{align}\n",
    "|w + z|^2\n",
    "&= (w + z)(\\bar{w} + \\bar{z}) \\\\\n",
    "&= w \\bar{w} + z \\bar{z} + w \\bar{z} + z \\bar{w} \\\\\n",
    "&= |w|^2 + |z|^2 + w \\bar{z} + \\overline{w \\bar{z}} \\\\\n",
    "&= |w|^2 + |z|^2 + w \\bar{z} + 2 \\,\\text{Re}\\, (w \\bar{z}) \\\\\n",
    "&\\le |w|^2 + |z|^2 + w \\bar{z} + 2 |w \\bar{z}| \\\\\n",
    "&= |w|^2 + |z|^2 + w \\bar{z} + 2 |w| |z| \\\\\n",
    "&= (|w| + |z|)^2 \\\\\n",
    "|w + z|\n",
    "&\\le |w| + |z| \\\\\n",
    "\\end{align}\n",
    "$<br>\n",
    "\n",
    "$\\blacksquare$<br>"
   ]
  },
  {
   "cell_type": "markdown",
   "id": "f1cd446f-d02c-4973-8d72-1be7ac3d2418",
   "metadata": {},
   "source": [
    "---"
   ]
  }
 ],
 "metadata": {
  "kernelspec": {
   "display_name": "Python 3",
   "language": "python",
   "name": "python3"
  },
  "language_info": {
   "codemirror_mode": {
    "name": "ipython",
    "version": 3
   },
   "file_extension": ".py",
   "mimetype": "text/x-python",
   "name": "python",
   "nbconvert_exporter": "python",
   "pygments_lexer": "ipython3",
   "version": "3.8.2"
  }
 },
 "nbformat": 4,
 "nbformat_minor": 5
}
