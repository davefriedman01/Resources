{
 "cells": [
  {
   "cell_type": "markdown",
   "id": "a7c5b33a-8546-4be4-8f65-f5268f251550",
   "metadata": {},
   "source": [
    "# Complex Numbers"
   ]
  },
  {
   "cell_type": "markdown",
   "id": "3697a1ae-fb00-4e49-bcf1-c33888a1622f",
   "metadata": {},
   "source": [
    "---"
   ]
  },
  {
   "cell_type": "markdown",
   "id": "9501d935-fc15-4761-828d-518a4cc277a3",
   "metadata": {},
   "source": [
    "A complex number is an ordered pair $(a, b)$, where $a, b \\in \\mathbb{R}$. This is written $a + bi$ where $i \\equiv \\sqrt{-1}$ (Leonhard Euler, 1777) s.t. $0 + 1i = i$.<br>\n",
    "The set of all complex numbers is denoted $\\mathbb{C} = \\{a + bi : a, b \\in \\mathbb{R}\\}$.<br>\n",
    "\n",
    "$i \\equiv \\sqrt{-1}$<br>\n",
    "$i^2 = \\sqrt{-1}\\sqrt{-1} = -1$<br>\n",
    "$i^3 = ii^2 = -i$<br>\n",
    "$i^4 = ii^3 = -ii = -i^2 = 1$<br>\n",
    "\n",
    "#### Real Numbers\n",
    "$\\mathbb{R} \\subset \\mathbb{C}$<br>\n",
    "$a + 0i = a$ where $a \\in \\mathbb{R}$\n",
    "\n",
    "#### Imaginary Numbers\n",
    "$\\mathbb{I} \\subset \\mathbb{C}$<br>\n",
    "$0 + bi = bi$ where $b \\in \\mathbb{R}$\n",
    "\n",
    "#### Complex Addition\n",
    "$(a + bi) + (c + di) = (a + c) + (b + d)i$ where $a, b, c, d \\in \\mathbb{R}$<br>\n",
    "\n",
    "Derivation<br>\n",
    "$\n",
    "(a + bi) + (c + di)\n",
    "=\n",
    "a + c + bi + di\n",
    "=\n",
    "(a + c) + (b + d)i\n",
    "$\n",
    "\n",
    "#### Complex Multiplication\n",
    "$(a + bi)(c + di) = (ac - bd) + (ad + bc)i$ where $a, b, c, d \\in \\mathbb{R}$<br>\n",
    "\n",
    "Derivation<br>\n",
    "$\n",
    "(a + bi)(c + di)\n",
    "=\n",
    "ac + adi + bci + bdi^2\n",
    "=\n",
    "ac + bdi^2 + adi + bci\n",
    "=\n",
    "ac - bd + adi + bci\n",
    "=\n",
    "(ac - bd) + (ad + bc)i\n",
    "$\n",
    "\n",
    "#### Commutativity\n",
    "$\\alpha + \\beta = \\beta + \\alpha$<br>\n",
    "$\\alpha\\beta = \\beta\\alpha$<br>\n",
    "$\\forall \\alpha, \\beta \\in \\mathbb{C}$<br>\n",
    "\n",
    "Proof of Multiplicative Commutativity<br>\n",
    "Let $\\alpha = a + bi$ and $\\beta = c + di$ where $a, b, c, d \\in \\mathbb{R}$.<br>\n",
    "$\n",
    "\\alpha\\beta\n",
    "=\n",
    "(a + bi)(c + di)\n",
    "=\n",
    "ac + adi + bci + bdi^2\n",
    "=\n",
    "(c + di)a + (c + di)bi\n",
    "=\n",
    "(c + di)(a + bi)\n",
    "=\n",
    "\\beta\\alpha\n",
    "$\n",
    "\n",
    "#### Associativity\n",
    "$(\\alpha + \\beta) + \\lambda = \\alpha + (\\beta + \\lambda)$<br>\n",
    "$(\\alpha\\beta)\\lambda = \\alpha(\\beta\\lambda)$<br>\n",
    "$\\forall \\alpha, \\beta, \\lambda \\in \\mathbb{C}$<br>\n",
    "\n",
    "#### Existence of Identity Element\n",
    "$\\lambda + 0 = \\lambda$<br>\n",
    "$\\lambda 1 = \\lambda$<br>\n",
    "$\\forall \\lambda \\in \\mathbb{C}$<br>\n",
    "\n",
    "#### Existence of Inverse Elements\n",
    "$\\forall \\alpha \\in \\mathbb{C}$, $\\exists \\beta \\in \\mathbb{C}$ s.t. $\\alpha + \\beta = 0$<br>\n",
    "The additive inverse of an element $\\alpha$ is denoted $-\\alpha$.<br>\n",
    "$\\forall \\alpha \\in \\mathbb{C}$ with $\\alpha \\neq 0$, $\\exists \\beta \\in \\mathbb{C}$ s.t. $\\alpha\\beta = 1$<br>\n",
    "The multiplicative inverse of an element $\\alpha \\neq 0$ is denoted $\\alpha^{-1}$.<br>\n",
    "\n",
    "#### Distributivity\n",
    "$\\lambda(\\alpha + \\beta) = \\lambda\\alpha + \\lambda\\beta$<br>\n",
    "$\\forall \\lambda, \\alpha, \\beta \\in \\mathbb{C}$<br>\n",
    "\n",
    "#### Complex Substraction\n",
    "$\\beta - \\alpha \\equiv \\beta + (-\\alpha)$<br>\n",
    "\n",
    "#### Complex Division\n",
    "$\\frac{\\beta}{\\alpha} \\equiv \\beta\\alpha^{-1}$<br>"
   ]
  },
  {
   "cell_type": "markdown",
   "id": "f1cd446f-d02c-4973-8d72-1be7ac3d2418",
   "metadata": {},
   "source": [
    "---"
   ]
  }
 ],
 "metadata": {
  "kernelspec": {
   "display_name": "Python 3",
   "language": "python",
   "name": "python3"
  },
  "language_info": {
   "codemirror_mode": {
    "name": "ipython",
    "version": 3
   },
   "file_extension": ".py",
   "mimetype": "text/x-python",
   "name": "python",
   "nbconvert_exporter": "python",
   "pygments_lexer": "ipython3",
   "version": "3.8.2"
  }
 },
 "nbformat": 4,
 "nbformat_minor": 5
}
