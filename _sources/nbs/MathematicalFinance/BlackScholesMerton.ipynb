{
 "cells": [
  {
   "cell_type": "markdown",
   "id": "7bed7508-ea20-4d85-a377-77e49b818d81",
   "metadata": {},
   "source": [
    "## BSM Black-Scholes-Merton"
   ]
  },
  {
   "cell_type": "markdown",
   "id": "8034c59f-3b12-4272-8e8a-b989064d789a",
   "metadata": {},
   "source": [
    "Black and Scholes (1973)\n",
    "\n",
    "Merton (1973)"
   ]
  },
  {
   "cell_type": "markdown",
   "id": "0c679996-6c51-4499-b045-467646c631fa",
   "metadata": {},
   "source": [
    "---"
   ]
  },
  {
   "cell_type": "markdown",
   "id": "f00f7407-7be0-41e4-8098-d78053da931e",
   "metadata": {},
   "source": [
    "$$\n",
    "C_0^* = C^{BSM}(S_0, K, T, r, \\sigma)\n",
    "$$"
   ]
  },
  {
   "cell_type": "markdown",
   "id": "086e660a-1e89-4117-82ad-6575ceeb82bf",
   "metadata": {},
   "source": [
    "The fair present value of a European call option $C_0^*$ is given by the BSM formula $C^{BSM}(\\cdot)$ which takes as input parameters\n",
    "* $S_0$ the current index level\n",
    "* $K$ the strike price of the option\n",
    "* $T$ the maturity date (equals time-to-maturity viewed from the present date)\n",
    "* $r$ the constant riskless short rate\n",
    "* $\\sigma$ the volatility of the index (i.e., the standard deviation of the index level returns)"
   ]
  },
  {
   "cell_type": "markdown",
   "id": "fff2e5c0-a33c-4a41-9b27-0457f294b74f",
   "metadata": {},
   "source": [
    "---"
   ]
  },
  {
   "cell_type": "code",
   "execution_count": 5,
   "id": "9b1c7323-acf0-45ae-b34e-54a98eb6dd71",
   "metadata": {},
   "outputs": [],
   "source": [
    "import numpy as np\n",
    "import numpy.random as npr\n",
    "\n",
    "from scipy.integrate import quad\n",
    "\n",
    "import matplotlib as mpl\n",
    "import matplotlib.pyplot as plt\n",
    "mpl.rcParams['font.family'] = 'serif'\n",
    "\n",
    "import math"
   ]
  },
  {
   "cell_type": "markdown",
   "id": "9a9ce9d0-2d56-4f34-a6d0-50f1633c0b49",
   "metadata": {},
   "source": [
    "---"
   ]
  },
  {
   "cell_type": "code",
   "execution_count": 6,
   "id": "1b9ee18e-9f90-4a82-8d6d-84e6559124a4",
   "metadata": {},
   "outputs": [],
   "source": [
    "def dN (x):\n",
    "    ''' Probability density function of standard normal random variable x. '''\n",
    "    return math.exp(-0.5 * x ** 2) / math.sqrt(2 * math.pi)\n",
    "\n",
    "def N (d):\n",
    "    ''' Cumulative density function of standard normal random variable x. '''\n",
    "    return quad(lambda x: dN(x), -20, d, limit=50)[0]\n",
    "\n",
    "def d1f (St, K, t, T, r, sigma):\n",
    "    ''' Black-Scholes-Merton d1 function.\n",
    "        Parameters see e.g. BSM_call_value function. '''\n",
    "    d1 = (math.log(St / K) + (r + 0.5 * sigma ** 2) * (T - t)) / (sigma * math.sqrt(T - t))\n",
    "    return d1\n",
    "\n",
    "def BSM_call_value (St, K, t, T, r, sigma):\n",
    "    ''' Calculates Black-Scholes-Merton European call option value.\n",
    "    \n",
    "    Parameters\n",
    "    ==========\n",
    "    St : float\n",
    "        stock/index level at time t\n",
    "    K : float\n",
    "        strike price\n",
    "    t : float\n",
    "        valuation date\n",
    "    T : float\n",
    "        date of maturity/time-to-maturity if t = 0; T > t\n",
    "    r : float\n",
    "        constant, risk-less short rate\n",
    "    sigma : float\n",
    "        volatility\n",
    "        \n",
    "    Returns\n",
    "    =======\n",
    "    call_value : float\n",
    "        European call present value at t\n",
    "    '''\n",
    "    d1 = d1f(St, K, t, T, r, sigma)\n",
    "    d2 = d1 - sigma * math.sqrt(T - t)\n",
    "    call_value = St * N(d1) - math.exp(-r * (T - t)) * K * N(d2)\n",
    "    return call_value"
   ]
  },
  {
   "cell_type": "code",
   "execution_count": 7,
   "id": "f165b988-5ad6-4172-8cdc-fe4c5d2b2f7b",
   "metadata": {},
   "outputs": [
    {
     "data": {
      "image/png": "[encoded data removed]",
      "text/plain": [
       "<Figure size 432x288 with 1 Axes>"
      ]
     },
     "metadata": {
      "needs_background": "light"
     },
     "output_type": "display_data"
    }
   ],
   "source": [
    "K = 8000  # strike price\n",
    "T = 1.0   # time-to-maturity\n",
    "r = 0.025 # constant, risk-less short rate\n",
    "vol = 0.2 # constant volatility\n",
    "\n",
    "S = np.linspace(4000, 12000, 150)                     # vector of index level values\n",
    "h = np.maximum(S - K, 0)                              # inner value of option\n",
    "C = [BSM_call_value(S0, K, 0, T, r, vol) for S0 in S] # calculate the call option values\n",
    "\n",
    "plt.figure()\n",
    "plt.plot(S, h, 'b-.', lw=2.5, label='inner value')    # plot the inner value at maturity\n",
    "plt.plot(S, C, 'r', lw=2.5, label='present value')    # plot option present value\n",
    "plt.grid(True)\n",
    "plt.legend(loc=0)\n",
    "plt.xlabel('index level $S_0$')\n",
    "plt.ylabel('present value $C(t=0)$')\n",
    "plt.title('Black-Scholes-Merton value of a European call option on a stock index with $K = 9000$, $T = 1.0$, $r = 0.025$, and $\\sigma = 0.2$ dependent on the initial index level $S_0$; for comparison, the undiscounted inner value is also shown');"
   ]
  },
  {
   "cell_type": "markdown",
   "id": "50c41b4f-d19e-4e0c-bdf8-4602345f895b",
   "metadata": {},
   "source": [
    "The present value of the option is always above the undiscounted inner value. The difference between the two is referred to as the time value of the option. The option's present value is composed of the inner value plus the time value. Time value is suggestive of the fact that the option still has time to get in-the-money or to get even more in-the-money."
   ]
  },
  {
   "cell_type": "markdown",
   "id": "76f73bd9-c2e7-4793-99fc-753ed0d069c3",
   "metadata": {},
   "source": [
    "---"
   ]
  }
 ],
 "metadata": {
  "kernelspec": {
   "display_name": "Python 3",
   "language": "python",
   "name": "python3"
  },
  "language_info": {
   "codemirror_mode": {
    "name": "ipython",
    "version": 3
   },
   "file_extension": ".py",
   "mimetype": "text/x-python",
   "name": "python",
   "nbconvert_exporter": "python",
   "pygments_lexer": "ipython3",
   "version": "3.8.2"
  }
 },
 "nbformat": 4,
 "nbformat_minor": 5
}
